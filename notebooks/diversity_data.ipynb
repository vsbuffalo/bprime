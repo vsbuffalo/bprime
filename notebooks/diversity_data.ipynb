{
 "cells": [
  {
   "cell_type": "code",
   "execution_count": 1,
   "id": "585f7f4a-2428-43df-9f78-de573ad4d96e",
   "metadata": {},
   "outputs": [],
   "source": [
    "%load_ext autoreload\n",
    "%autoreload 2\n",
    "%reload_ext autoreload"
   ]
  },
  {
   "cell_type": "code",
   "execution_count": 2,
   "id": "a3f994b0-26cd-4a73-92d3-409c0390c490",
   "metadata": {},
   "outputs": [],
   "source": [
    "import numpy as np\n",
    "import scipy.stats as stats\n",
    "from scipy import interpolate\n",
    "import matplotlib.pyplot as plt\n",
    "import matplotlib as mpl\n",
    "\n",
    "from bgspy.genome import Genome\n",
    "from bgspy.data import GenomeData"
   ]
  },
  {
   "cell_type": "code",
   "execution_count": 3,
   "id": "9fb9b2d5-7eec-4a48-90c2-0f968c00d13c",
   "metadata": {},
   "outputs": [
    {
     "name": "stdout",
     "output_type": "stream",
     "text": [
      "load_bed_annotation(): ignored chr10\n",
      "ignoring HapMap header...\n",
      "parsing recmap as HapMap formatted (chrom, end, rate)\n",
      "RecMap._readmap() ignored chr10\n"
     ]
    }
   ],
   "source": [
    "g = Genome('hg38', seqlens_file=\"../data/annotation/hg38_seqlens.tsv\", chroms=['chr1'])\n",
    "g.load_annot(\"../data/annotation/conserved_phastcons_thresh10.bed.gz\")\n",
    "g.load_recmap(\"../data/annotation/HapMapII_GRCh37_liftedOverTo_Hg38/genetic_map_Hg38_chr10.txt\")"
   ]
  },
  {
   "cell_type": "code",
   "execution_count": 4,
   "id": "0a084811-4125-4721-abb4-aff943b9782f",
   "metadata": {},
   "outputs": [],
   "source": [
    "gd = GenomeData(g)\n",
    "gd.load_counts_dir('../data/hg1k_counts/')\n",
    "gd.load_neutral_masks('../data/annotation/neutral_cds_phastcons.bed')\n",
    "gd.load_accessibile_masks('../data/annotation/no_centro.bed')"
   ]
  },
  {
   "cell_type": "code",
   "execution_count": null,
   "id": "c1ea5329-9017-4a8a-9d5e-87bce4f540a1",
   "metadata": {},
   "outputs": [],
   "source": []
  }
 ],
 "metadata": {
  "kernelspec": {
   "display_name": "Python 3 (ipykernel)",
   "language": "python",
   "name": "python3"
  },
  "language_info": {
   "codemirror_mode": {
    "name": "ipython",
    "version": 3
   },
   "file_extension": ".py",
   "mimetype": "text/x-python",
   "name": "python",
   "nbconvert_exporter": "python",
   "pygments_lexer": "ipython3",
   "version": "3.8.12"
  }
 },
 "nbformat": 4,
 "nbformat_minor": 5
}
