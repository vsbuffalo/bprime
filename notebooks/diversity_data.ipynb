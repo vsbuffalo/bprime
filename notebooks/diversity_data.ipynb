{
 "cells": [
  {
   "cell_type": "markdown",
   "id": "6f9970ef-e5f3-4be4-ae08-27dc9537125a",
   "metadata": {
    "tags": []
   },
   "source": [
    "# Human Diversity Data\n",
    "\n",
    "This notebook includes getting the human diversity data in shape for the model fitting. "
   ]
  },
  {
   "cell_type": "markdown",
   "id": "ca0a1a0b-fb6d-49a5-acaf-12264cd37122",
   "metadata": {
    "tags": []
   },
   "source": [
    "## Configuration"
   ]
  },
  {
   "cell_type": "code",
   "execution_count": 1,
   "id": "585f7f4a-2428-43df-9f78-de573ad4d96e",
   "metadata": {
    "tags": []
   },
   "outputs": [],
   "source": [
    "%load_ext autoreload\n",
    "%autoreload 2\n",
    "%reload_ext autoreload"
   ]
  },
  {
   "cell_type": "code",
   "execution_count": 24,
   "id": "a3f994b0-26cd-4a73-92d3-409c0390c490",
   "metadata": {
    "tags": []
   },
   "outputs": [],
   "source": [
    "import os\n",
    "import copy\n",
    "from functools import partial\n",
    "import numpy as np\n",
    "import scipy.stats as stats\n",
    "from collections import defaultdict\n",
    "from scipy import interpolate\n",
    "from scipy.optimize import minimize, curve_fit\n",
    "import matplotlib.pyplot as plt\n",
    "import matplotlib as mpl\n",
    "import matplotlib.ticker as ticker\n",
    "import pandas as pd\n",
    "from tabulate import tabulate\n",
    "\n",
    "from bgspy.genome import Genome\n",
    "from bgspy.utils import mean_ratio, rel_error\n",
    "from bgspy.utils import mean_ratio\n",
    "from bgspy.plots import to_mb\n",
    "from bgspy.bootstrap import percentile_ci\n",
    "from bgspy.data import GenomeData, get_accessible_from_seqs\n",
    "from bgspy.data import pi_from_pairwise_summaries\n",
    "from bgspy.optim import optim_diagnotics_plot"
   ]
  },
  {
   "cell_type": "code",
   "execution_count": 3,
   "id": "ebf0bae5-691a-4450-b30e-c7ad3bc1dd77",
   "metadata": {
    "tags": []
   },
   "outputs": [],
   "source": [
    "plt.show()"
   ]
  },
  {
   "cell_type": "code",
   "execution_count": 4,
   "id": "56ae2ede-1876-43b7-a65f-bc07a5edc456",
   "metadata": {
    "tags": []
   },
   "outputs": [
    {
     "data": {
      "text/plain": [
       "{('one', 'golden'): array([3.5433, 2.1899]),\n",
       " ('one', 'one'): array([3.5433, 3.5433]),\n",
       " ('one', 'two'): array([3.5433, 1.7717]),\n",
       " ('onehalf', 'golden'): array([5.5118, 3.4065]),\n",
       " ('onehalf', 'one'): array([5.5118, 5.5118]),\n",
       " ('onehalf', 'two'): array([5.5118, 2.7559]),\n",
       " ('two', 'golden'): array([7.4803, 4.6231]),\n",
       " ('two', 'one'): array([7.4803, 7.4803]),\n",
       " ('two', 'two'): array([7.4803, 3.7402])}"
      ]
     },
     "execution_count": 4,
     "metadata": {},
     "output_type": "execute_result"
    }
   ],
   "source": [
    "plt.rcParams['figure.figsize'] = [8, 4]\n",
    "plt.rcParams['figure.dpi'] = 200\n",
    "plt.rcParams['text.usetex'] = False\n",
    "plt.rcParams['mathtext.fontset'] = 'cm'\n",
    "plt.style.use('./buffalo.mplstyle')\n",
    "\n",
    "FIGDIR = '../manuscript/figures/'\n",
    "\n",
    "# from https://writing.stackexchange.com/questions/21658/what-is-the-image-size-in-scientific-paper-if-indicated-as-a-single-1-5-or-2-c \n",
    "# in mm\n",
    "mm_to_inches = lambda x: 0.0393701 * x\n",
    "img_size = dict(one = mm_to_inches(90), onehalf = mm_to_inches(140), two = mm_to_inches(190))\n",
    "asp_ratio = dict(golden = (1 + np.sqrt(5))/2, one=1, two=2)\n",
    "fig_sizes = {(k, ar): np.round((v, v/asp_ratio[ar]), 4) for k, v in img_size.items() for ar in asp_ratio}\n",
    "fig_sizes"
   ]
  },
  {
   "cell_type": "markdown",
   "id": "014d1403-6188-4d8c-80e3-6fabe11538e9",
   "metadata": {},
   "source": [
    "## Load Data\n",
    "\n",
    "### Validating the Raw Ref/Alt allele Count Data"
   ]
  },
  {
   "cell_type": "markdown",
   "id": "93a31d72-2d20-4cb8-ba03-3b7d3fa70a7c",
   "metadata": {},
   "source": [
    "My tool `tools/gvcf2counts.py` is used to convert the Dragen dataset's GVCFs to the raw ref/alt biallelic counts. This relies on some filtering operations, and the tool collects some basic filtering statistics. I load these in now for some quality assurance. "
   ]
  },
  {
   "cell_type": "code",
   "execution_count": 5,
   "id": "53db8f7a-80ba-4987-8781-d3d533406b3c",
   "metadata": {
    "tags": []
   },
   "outputs": [],
   "source": [
    "pops = ('yri', 'ceu', 'chb')"
   ]
  },
  {
   "cell_type": "code",
   "execution_count": 19,
   "id": "cf45910f-857a-444f-a742-652f5479b954",
   "metadata": {
    "tags": []
   },
   "outputs": [],
   "source": [
    "stats_dir = '../data/h1kg/stats_{pop}'\n",
    "\n",
    "geno_stats = []\n",
    "for pop in pops:\n",
    "    path = stats_dir.format(pop=pop)\n",
    "    stats_files = os.listdir(path)\n",
    "    for f in stats_files:\n",
    "        row = dict()\n",
    "        for line in open(os.path.join(path, f)):\n",
    "            col, num, prop = line.strip().split('\\t')\n",
    "            row[col]= float(prop)\n",
    "        row['pop'] = pop\n",
    "        geno_stats.append(row)\n",
    "geno_stats = pd.DataFrame(geno_stats)"
   ]
  },
  {
   "cell_type": "markdown",
   "id": "0c37026c-5d9a-4a64-8ef4-c8a518dfaa98",
   "metadata": {},
   "source": [
    "### Transition/Transverstion Ratio"
   ]
  },
  {
   "cell_type": "code",
   "execution_count": 20,
   "id": "f5f6e85a-8db2-4024-ae60-f51b2495ff31",
   "metadata": {
    "tags": []
   },
   "outputs": [
    {
     "data": {
      "text/plain": [
       "2.0107320018465424"
      ]
     },
     "execution_count": 20,
     "metadata": {},
     "output_type": "execute_result"
    }
   ],
   "source": [
    "geno_stats['tn/tv'].mean()"
   ]
  },
  {
   "cell_type": "code",
   "execution_count": 21,
   "id": "d06f49d0-e7b7-4cab-8b7d-d027a30f938a",
   "metadata": {
    "tags": []
   },
   "outputs": [
    {
     "data": {
      "text/plain": [
       "pop\n",
       "ceu    1.995585\n",
       "chb    2.010382\n",
       "yri    2.026214\n",
       "Name: tn/tv, dtype: float64"
      ]
     },
     "execution_count": 21,
     "metadata": {},
     "output_type": "execute_result"
    }
   ],
   "source": [
    "geno_stats.groupby('pop')['tn/tv'].mean()"
   ]
  },
  {
   "cell_type": "markdown",
   "id": "d2e50a7a-bbf7-472b-a86e-8db9e0629477",
   "metadata": {},
   "source": [
    "This is very close to what we exepct; compare the value 2.02 from the Simons Diversity Project ([Supplementary PDF](https://static-content.springer.com/esm/art%3A10.1038%2Fnature18964/MediaObjects/41586_2016_BFnature18964_MOESM204_ESM.pdf), p. 4)."
   ]
  },
  {
   "cell_type": "code",
   "execution_count": 22,
   "id": "fc555a97-eb7c-477f-9573-9bcf884b9d5a",
   "metadata": {
    "tags": []
   },
   "outputs": [
    {
     "name": "stderr",
     "output_type": "stream",
     "text": [
      "/tmp/ipykernel_41931/3595124626.py:1: FutureWarning: The default value of numeric_only in DataFrame.mean is deprecated. In a future version, it will default to False. In addition, specifying 'numeric_only=None' is deprecated. Select only valid columns or specify the value of numeric_only to silence this warning.\n",
      "  geno_stats.mean()\n"
     ]
    },
    {
     "data": {
      "text/plain": [
       "total                100.000000\n",
       "failed FILTER          0.272206\n",
       "failed QUAL (<50)      0.010441\n",
       "not SNP                0.139706\n",
       "not biallelic          0.010882\n",
       "tn/tv                  2.010732\n",
       "dtype: float64"
      ]
     },
     "execution_count": 22,
     "metadata": {},
     "output_type": "execute_result"
    }
   ],
   "source": [
    "geno_stats.mean()"
   ]
  },
  {
   "cell_type": "markdown",
   "id": "d84b138d-5437-4455-b58f-f4ea57209c4f",
   "metadata": {},
   "source": [
    "### Load Reference Genome"
   ]
  },
  {
   "cell_type": "code",
   "execution_count": 10,
   "id": "9fb9b2d5-7eec-4a48-90c2-0f968c00d13c",
   "metadata": {
    "tags": []
   },
   "outputs": [],
   "source": [
    "autosomes = [f'chr{x}' for x in range(1, 23)]\n",
    "g = Genome('hg38', seqlens_file=\"../data/annotation/hg38_seqlens.tsv\", chroms=autosomes)\n",
    "g.load_recmap(\"../data/annotation/hapmap_genetic_map.txt\")"
   ]
  },
  {
   "cell_type": "markdown",
   "id": "245d96d3-079c-4958-b7fe-118405563348",
   "metadata": {},
   "source": [
    "## Neutral and Accessible Regions Masking\n",
    "\n",
    "I use the following masks:\n",
    "\n",
    " - **Non-\"putatively\" neutral masks**: masked out phastcons + genic regions, but added introns in.\n",
    " - **Accessible masks**: no centromere + some buffer around centromeres.\n",
    " - **Reference genome softmasks**: ignore softmasked regions, e.g. due to repeats.\n",
    " \n",
    "More information is in the supplementary materials."
   ]
  },
  {
   "cell_type": "code",
   "execution_count": 11,
   "id": "f14e9b68-ffc6-4bd6-a2df-022433152ba6",
   "metadata": {
    "tags": []
   },
   "outputs": [],
   "source": [
    "neutral_masks = {#'old neutral': '../data/annotation/neutral_phastcons_genes_with_introns.bed.gz', \n",
    "                 'neutral, 200bp slop': '../data/fit_annotation/putatively_neutral__slop200.bed.gz',\n",
    "                 'neutral, 100bp slop': '../data/fit_annotation/putatively_neutral__slop100.bed.gz',\n",
    "                 'neutral, no slop': '../data/fit_annotation/putatively_neutral.bed.gz',                 \n",
    "                 'CADD bottom 70%': '../data/fit_annotation/cadd_bottom70_percent.bed.gz',\n",
    "                }\n",
    "\n",
    "access_masks = {#'no centro': '../data/annotation/no_centro.bed',\n",
    "                'no centro, strict': '../data/annotation/no_centro_strict.bed',\n",
    "                #None: None,\n",
    "               }\n",
    "\n",
    "softmasks = [True, False]"
   ]
  },
  {
   "cell_type": "code",
   "execution_count": 12,
   "id": "3ef9e6ca-f335-45de-9764-0d879806077a",
   "metadata": {
    "tags": []
   },
   "outputs": [
    {
     "data": {
      "application/vnd.jupyter.widget-view+json": {
       "model_id": "192325372c494cde88781058558b6a5a",
       "version_major": 2,
       "version_minor": 0
      },
      "text/plain": [
       "  0%|          | 0/22 [00:00<?, ?it/s]"
      ]
     },
     "metadata": {},
     "output_type": "display_data"
    },
    {
     "data": {
      "application/vnd.jupyter.widget-view+json": {
       "model_id": "96acc387b9a042689f3e2985671b8aeb",
       "version_major": 2,
       "version_minor": 0
      },
      "text/plain": [
       "  0%|          | 0/22 [00:00<?, ?it/s]"
      ]
     },
     "metadata": {},
     "output_type": "display_data"
    },
    {
     "data": {
      "application/vnd.jupyter.widget-view+json": {
       "model_id": "94a396bf9ca9498b8a96a44ef8131dd2",
       "version_major": 2,
       "version_minor": 0
      },
      "text/plain": [
       "  0%|          | 0/22 [00:00<?, ?it/s]"
      ]
     },
     "metadata": {},
     "output_type": "display_data"
    },
    {
     "data": {
      "application/vnd.jupyter.widget-view+json": {
       "model_id": "13037f999c0d4bf6b3e1435fc1c23e10",
       "version_major": 2,
       "version_minor": 0
      },
      "text/plain": [
       "  0%|          | 0/22 [00:00<?, ?it/s]"
      ]
     },
     "metadata": {},
     "output_type": "display_data"
    },
    {
     "data": {
      "application/vnd.jupyter.widget-view+json": {
       "model_id": "28b2b04583c347febfe0ee3073164d3e",
       "version_major": 2,
       "version_minor": 0
      },
      "text/plain": [
       "  0%|          | 0/22 [00:00<?, ?it/s]"
      ]
     },
     "metadata": {},
     "output_type": "display_data"
    },
    {
     "data": {
      "application/vnd.jupyter.widget-view+json": {
       "model_id": "58c311bee7e6404fbaa6c9c7c62defb2",
       "version_major": 2,
       "version_minor": 0
      },
      "text/plain": [
       "  0%|          | 0/22 [00:00<?, ?it/s]"
      ]
     },
     "metadata": {},
     "output_type": "display_data"
    },
    {
     "data": {
      "application/vnd.jupyter.widget-view+json": {
       "model_id": "61a3a27323af4a588e81e147e93c17a3",
       "version_major": 2,
       "version_minor": 0
      },
      "text/plain": [
       "  0%|          | 0/22 [00:00<?, ?it/s]"
      ]
     },
     "metadata": {},
     "output_type": "display_data"
    },
    {
     "data": {
      "application/vnd.jupyter.widget-view+json": {
       "model_id": "1d53f215824942b8ad3875c44b4f9a86",
       "version_major": 2,
       "version_minor": 0
      },
      "text/plain": [
       "  0%|          | 0/22 [00:00<?, ?it/s]"
      ]
     },
     "metadata": {},
     "output_type": "display_data"
    }
   ],
   "source": [
    "pis = dict()\n",
    "gds_stats = dict()\n",
    "bins_1Mbp = dict()\n",
    "\n",
    "for neutral_name, neutral_mask in neutral_masks.items():\n",
    "    for access_name, access_mask in access_masks.items():\n",
    "        key = (neutral_name, access_name)\n",
    "        gd = GenomeData(g)\n",
    "        gd.load_counts_dir('../data/h1kg/hg1k_yri_counts/')\n",
    "        if neutral_mask is not None:\n",
    "            gd.load_neutral_masks(neutral_mask)\n",
    "        if access_mask is not None:\n",
    "            gd.load_accessibile_masks(access_mask)\n",
    "        gd.load_fasta('../data/annotation/hg38.fa.gz', soft_mask=True)\n",
    "        #gds[key] = gd\n",
    "        pis[key] = gd.gwpi()\n",
    "        gds_stats[key] = gd.mask_stats()\n",
    "        bins_1Mbp[key] = gd.bin_pairwise_summaries(width=1e6, \n",
    "                                                  filter_neutral=True, \n",
    "                                                  filter_accessible=True,\n",
    "                                                  mask_inaccessible_bins_frac=None)"
   ]
  },
  {
   "cell_type": "code",
   "execution_count": 14,
   "id": "fa1493a2-09dc-45eb-8374-396437f126f6",
   "metadata": {
    "tags": []
   },
   "outputs": [
    {
     "name": "stderr",
     "output_type": "stream",
     "text": [
      "/tmp/ipykernel_41931/228621591.py:41: UserWarning: This figure includes Axes that are not compatible with tight_layout, so results might be incorrect.\n",
      "  plt.tight_layout()\n"
     ]
    },
    {
     "data": {
      "image/png": "[encoded data removed]",
      "text/plain": [
       "<Figure size 1200x800 with 2 Axes>"
      ]
     },
     "metadata": {},
     "output_type": "display_data"
    }
   ],
   "source": [
    "fig, (ax, mean_ax) = plt.subplots(figsize=(6, 4), ncols=2, width_ratios=[7, 1], sharey=True, gridspec_kw=dict(wspace=0.01))\n",
    "\n",
    "cols_ro = [\n",
    " ('CADD bottom 70%', 'no centro, strict'),\n",
    " ('neutral, 200bp slop', 'no centro, strict'),        \n",
    " ('neutral, 100bp slop', 'no centro, strict'),\n",
    " ('neutral, no slop', 'no centro, strict')]\n",
    "\n",
    "cols = dict()\n",
    "gw_pis = defaultdict(list)\n",
    "for key in cols_ro:\n",
    "    bins = bins_1Mbp[key]\n",
    "    linestyle = 'solid' if 'no slop' not in key[0] else 'dashed'\n",
    "    x, y = bins.pi_pairs('chr1')\n",
    "    vals = [x for x in pi_from_pairwise_summaries(bins.Y()) if not np.isnan(x)]\n",
    "    gw_pis[key[0]].extend(vals)\n",
    "    lab = key[0].replace(\"neutral, \", '')\n",
    "    if lab == \"200bp slop\":\n",
    "        lab += \" (used in analysis)\"\n",
    "    lines = ax.plot(to_mb(x), y, label=lab, linestyle=linestyle)\n",
    "    cols[key] = lines[0].get_color()\n",
    "\n",
    "ax.grid(axis='y', linewidth=0.5)\n",
    "\n",
    "boxplots = mean_ax.boxplot(gw_pis.values(), patch_artist=True, whiskerprops=dict(linestyle='solid', linewidth=0.8),\n",
    "                           medianprops=dict(linewidth=0.8), boxprops=dict(linewidth=0.8))\n",
    "for patch, color in zip(boxplots['boxes'], cols.values()):\n",
    "    patch.set_facecolor(color)\n",
    "\n",
    "mean_ax.set_xticklabels(['' for _ in range(4)])\n",
    "mean_ax.grid(axis='y', linewidth=0.5)\n",
    "mean_ax.tick_params(length=0)\n",
    "ax.set_ylabel(\"Pairwise diversity (differences per bp)\")\n",
    "ax.set_xlabel(\"Position (Megabases)\")\n",
    "legend = ax.legend(fontsize=6, ncols=2, loc=(0., 1))\n",
    "for lh in legend.legend_handles:\n",
    "    lh.set_linestyle('solid')\n",
    "ax.tick_params(labelsize=8)\n",
    "ax.yaxis.set_major_locator(ticker.MaxNLocator(5))\n",
    "ax.set_xlim(-1, 250)\n",
    "plt.tight_layout()\n",
    "plt.savefig(\"../manuscript/figures/supplementary/neutral_tracks.pdf\")"
   ]
  },
  {
   "cell_type": "code",
   "execution_count": 25,
   "id": "11917149-0d6c-4b22-afc2-6b3ff4f72c20",
   "metadata": {
    "tags": []
   },
   "outputs": [
    {
     "name": "stdout",
     "output_type": "stream",
     "text": [
      "('neutral, 200bp slop', 'neutral, 100bp slop', Ttest_indResult(statistic=1.3674004083734235, pvalue=0.17156085822009612))\n",
      "('neutral, 200bp slop', 'neutral, no slop', Ttest_indResult(statistic=4.005661473469337, pvalue=6.273560321257845e-05))\n",
      "('neutral, 100bp slop', 'neutral, 200bp slop', Ttest_indResult(statistic=-1.3674004083734235, pvalue=0.17156085822009612))\n",
      "('neutral, 100bp slop', 'neutral, no slop', Ttest_indResult(statistic=2.6651609419677165, pvalue=0.007719698807891185))\n",
      "('neutral, no slop', 'neutral, 200bp slop', Ttest_indResult(statistic=-4.005661473469337, pvalue=6.273560321257845e-05))\n",
      "('neutral, no slop', 'neutral, 100bp slop', Ttest_indResult(statistic=-2.6651609419677165, pvalue=0.007719698807891185))\n"
     ]
    }
   ],
   "source": [
    "keys = 'neutral, 200bp slop', 'neutral, 100bp slop', 'neutral, no slop'\n",
    "for key1 in keys:\n",
    "    for key2 in keys:\n",
    "        if key1 == key2:\n",
    "            continue\n",
    "        x, y = np.array(gw_pis[key1]), np.array(gw_pis[key2])\n",
    "        idx = (~np.isnan(x)) & (~np.isnan(y))\n",
    "        print((key1, key2, stats.ttest_ind(x[idx], y[idx])))"
   ]
  },
  {
   "cell_type": "code",
   "execution_count": 26,
   "id": "c26317f0-6ea2-4479-a066-e50a77a38d8b",
   "metadata": {
    "tags": []
   },
   "outputs": [
    {
     "name": "stdout",
     "output_type": "stream",
     "text": [
      "('CADD bottom 70%', 'neutral, 200bp slop', 0.13965380990560855, Ttest_indResult(statistic=18.18413290847062, pvalue=1.2916730091613247e-71)) 0.001178905507783067 0.0010344417730509842\n",
      "('CADD bottom 70%', 'neutral, 100bp slop', 0.15160600064130056, Ttest_indResult(statistic=19.89139342911535, pvalue=8.103781793537998e-85)) 0.001178905507783067 0.001023705596468379\n",
      "('CADD bottom 70%', 'neutral, no slop', 0.17476345155076434, Ttest_indResult(statistic=22.87151135527299, pvalue=3.108998630862554e-110)) 0.001178905507783067 0.001003525864059556\n",
      "('neutral, 200bp slop', 'CADD bottom 70%', -0.12254055458927071, Ttest_indResult(statistic=-18.18413290847062, pvalue=1.2916730091613247e-71)) 0.0010344417730509842 0.001178905507783067\n",
      "('neutral, 200bp slop', 'neutral, 100bp slop', 0.010487562654383544, Ttest_indResult(statistic=1.3674004083734235, pvalue=0.17156085822009612)) 0.0010344417730509842 0.001023705596468379\n",
      "('neutral, 200bp slop', 'neutral, no slop', 0.030807286686527855, Ttest_indResult(statistic=4.005661473469337, pvalue=6.273560321257845e-05)) 0.0010344417730509842 0.001003525864059556\n",
      "('neutral, 100bp slop', 'CADD bottom 70%', -0.1316474562974446, Ttest_indResult(statistic=-19.89139342911535, pvalue=8.103781793537998e-85)) 0.001023705596468379 0.001178905507783067\n",
      "('neutral, 100bp slop', 'neutral, 200bp slop', -0.010378715228156251, Ttest_indResult(statistic=-1.3674004083734235, pvalue=0.17156085822009612)) 0.001023705596468379 0.0010344417730509842\n",
      "('neutral, 100bp slop', 'neutral, no slop', 0.020108831402899964, Ttest_indResult(statistic=2.6651609419677165, pvalue=0.007719698807891185)) 0.001023705596468379 0.001003525864059556\n",
      "('neutral, no slop', 'CADD bottom 70%', -0.14876480139049714, Ttest_indResult(statistic=-22.87151135527299, pvalue=3.108998630862554e-110)) 0.001003525864059556 0.001178905507783067\n",
      "('neutral, no slop', 'neutral, 200bp slop', -0.029886562778922675, Ttest_indResult(statistic=-4.005661473469337, pvalue=6.273560321257845e-05)) 0.001003525864059556 0.0010344417730509842\n",
      "('neutral, no slop', 'neutral, 100bp slop', -0.019712437324207247, Ttest_indResult(statistic=-2.6651609419677165, pvalue=0.007719698807891185)) 0.001003525864059556 0.001023705596468379\n"
     ]
    }
   ],
   "source": [
    "keys = gw_pis.keys()\n",
    "for key1 in keys:\n",
    "    for key2 in keys:\n",
    "        if key1 == key2:\n",
    "            continue\n",
    "        x, y = np.array(gw_pis[key1]), np.array(gw_pis[key2])\n",
    "        idx = (~np.isnan(x)) & (~np.isnan(y))\n",
    "        print((key1, key2, np.mean(x[idx]-y[idx])/np.mean(y[idx]), stats.ttest_ind(x[idx], y[idx])), np.mean(x[idx]), np.mean(y[idx]))"
   ]
  },
  {
   "cell_type": "code",
   "execution_count": 27,
   "id": "818b55e4-5932-4f3f-9736-4c1f6f59b21a",
   "metadata": {
    "tags": []
   },
   "outputs": [
    {
     "data": {
      "text/plain": [
       "PearsonRResult(statistic=0.9827617469360282, pvalue=0.0)"
      ]
     },
     "execution_count": 27,
     "metadata": {},
     "output_type": "execute_result"
    }
   ],
   "source": [
    "stats.pearsonr(gw_pis['CADD bottom 70%'], gw_pis['neutral, 100bp slop'])"
   ]
  },
  {
   "cell_type": "code",
   "execution_count": 28,
   "id": "3f3716a0-123e-40fc-8163-47d1e8da139f",
   "metadata": {
    "tags": []
   },
   "outputs": [
    {
     "data": {
      "text/plain": [
       "<matplotlib.lines._AxLine at 0x7fdf55588fa0>"
      ]
     },
     "execution_count": 28,
     "metadata": {},
     "output_type": "execute_result"
    },
    {
     "data": {
      "image/png": "[encoded data removed]",
      "text/plain": [
       "<Figure size 1000x800 with 1 Axes>"
      ]
     },
     "metadata": {},
     "output_type": "display_data"
    }
   ],
   "source": [
    "fig, ax = plt.subplots(figsize=(5, 4))\n",
    "ax.scatter(gw_pis['CADD bottom 70%'], gw_pis['neutral, 100bp slop'])\n",
    "ax.set_ylabel('neutral, 100bp slop')\n",
    "ax.set_xlabel('CADD bottom 70%')\n",
    "#ax.text(0.9, 0.1, f\"{stats.pearsonr(gw_pis['CADD bottom 70%'], gw_pis['neutral, 100bp slop']).statistic)}\", transform=ax.transAxes)\n",
    "ax.axline((0, 0), slope=1, linestyle='dashed', c='r')"
   ]
  },
  {
   "cell_type": "code",
   "execution_count": 30,
   "id": "e8c4b46c-245e-4b04-b486-3cfed0b2aa2b",
   "metadata": {
    "tags": []
   },
   "outputs": [
    {
     "name": "stdout",
     "output_type": "stream",
     "text": [
      "('neutral, 200bp slop', 'no centro, strict')\n",
      "chrom      fraction accessible    neutral    both\n",
      "-------  ---------------------  ---------  ------\n",
      "chr1                     0.397      0.62    0.157\n",
      "chr2                     0.453      0.601   0.189\n",
      "chr3                     0.432      0.596   0.169\n",
      "chr4                     0.427      0.659   0.202\n",
      "chr5                     0.424      0.622   0.181\n",
      "chr6                     0.438      0.614   0.184\n",
      "chr7                     0.419      0.64    0.186\n",
      "chr8                     0.423      0.661   0.202\n",
      "chr9                     0.362      0.654   0.146\n",
      "chr10                    0.429      0.622   0.188\n",
      "chr11                    0.413      0.615   0.17\n",
      "chr12                    0.406      0.604   0.159\n",
      "chr13                    0.388      0.707   0.188\n",
      "chr14                    0.365      0.646   0.138\n",
      "chr15                    0.344      0.663   0.135\n",
      "chr16                    0.36       0.66    0.155\n",
      "chr17                    0.372      0.588   0.142\n",
      "chr18                    0.403      0.661   0.196\n",
      "chr19                    0.281      0.675   0.115\n",
      "chr20                    0.361      0.625   0.154\n",
      "chr21                    0.298      0.769   0.173\n",
      "chr22                    0.255      0.755   0.126\n",
      "('neutral, 100bp slop', 'no centro, strict')\n",
      "chrom      fraction accessible    neutral    both\n",
      "-------  ---------------------  ---------  ------\n",
      "chr1                     0.397      0.725   0.211\n",
      "chr2                     0.453      0.712   0.25\n",
      "chr3                     0.432      0.712   0.231\n",
      "chr4                     0.427      0.761   0.259\n",
      "chr5                     0.424      0.729   0.238\n",
      "chr6                     0.438      0.725   0.245\n",
      "chr7                     0.419      0.743   0.242\n",
      "chr8                     0.423      0.761   0.257\n",
      "chr9                     0.362      0.751   0.195\n",
      "chr10                    0.429      0.73    0.246\n",
      "chr11                    0.413      0.723   0.226\n",
      "chr12                    0.406      0.716   0.215\n",
      "chr13                    0.388      0.793   0.238\n",
      "chr14                    0.365      0.742   0.188\n",
      "chr15                    0.344      0.756   0.182\n",
      "chr16                    0.36       0.753   0.201\n",
      "chr17                    0.372      0.697   0.19\n",
      "chr18                    0.403      0.759   0.248\n",
      "chr19                    0.281      0.753   0.146\n",
      "chr20                    0.361      0.733   0.203\n",
      "chr21                    0.298      0.838   0.207\n",
      "chr22                    0.255      0.824   0.157\n",
      "('neutral, no slop', 'no centro, strict')\n",
      "chrom      fraction accessible    neutral    both\n",
      "-------  ---------------------  ---------  ------\n",
      "chr1                     0.397      0.916   0.335\n",
      "chr2                     0.453      0.92    0.392\n",
      "chr3                     0.432      0.923   0.373\n",
      "chr4                     0.427      0.938   0.381\n",
      "chr5                     0.424      0.926   0.369\n",
      "chr6                     0.438      0.925   0.382\n",
      "chr7                     0.419      0.926   0.367\n",
      "chr8                     0.423      0.935   0.375\n",
      "chr9                     0.362      0.928   0.31\n",
      "chr10                    0.429      0.924   0.374\n",
      "chr11                    0.413      0.917   0.353\n",
      "chr12                    0.406      0.917   0.346\n",
      "chr13                    0.388      0.944   0.346\n",
      "chr14                    0.365      0.925   0.31\n",
      "chr15                    0.344      0.924   0.291\n",
      "chr16                    0.36       0.915   0.301\n",
      "chr17                    0.372      0.894   0.303\n",
      "chr18                    0.403      0.931   0.357\n",
      "chr19                    0.281      0.88    0.213\n",
      "chr20                    0.361      0.922   0.31\n",
      "chr21                    0.298      0.951   0.27\n",
      "chr22                    0.255      0.937   0.218\n",
      "('CADD bottom 70%', 'no centro, strict')\n",
      "chrom      fraction accessible    neutral    both\n",
      "-------  ---------------------  ---------  ------\n",
      "chr1                     0.397      0.612   0.234\n",
      "chr2                     0.453      0.673   0.275\n",
      "chr3                     0.432      0.673   0.257\n",
      "chr4                     0.427      0.705   0.274\n",
      "chr5                     0.424      0.675   0.26\n",
      "chr6                     0.438      0.679   0.267\n",
      "chr7                     0.419      0.678   0.262\n",
      "chr8                     0.423      0.709   0.275\n",
      "chr9                     0.362      0.581   0.22\n",
      "chr10                    0.429      0.682   0.268\n",
      "chr11                    0.413      0.67    0.25\n",
      "chr12                    0.406      0.672   0.241\n",
      "chr13                    0.388      0.598   0.252\n",
      "chr14                    0.365      0.549   0.215\n",
      "chr15                    0.344      0.537   0.206\n",
      "chr16                    0.36       0.625   0.231\n",
      "chr17                    0.372      0.633   0.216\n",
      "chr18                    0.403      0.657   0.263\n",
      "chr19                    0.281      0.661   0.17\n",
      "chr20                    0.361      0.651   0.224\n",
      "chr21                    0.298      0.559   0.209\n",
      "chr22                    0.255      0.509   0.171\n"
     ]
    }
   ],
   "source": [
    "for key, stats in gds_stats.items():\n",
    "    print(key)\n",
    "    tab = [(chrom, *row) for chrom, row in stats.items()]\n",
    "    print(tabulate(tab, headers=('chrom', 'fraction accessible', 'neutral', 'both')))"
   ]
  },
  {
   "cell_type": "code",
   "execution_count": 31,
   "id": "8b731643-784b-45f7-bc70-ac1d1a6ad434",
   "metadata": {
    "tags": []
   },
   "outputs": [],
   "source": [
    "gds = dict()\n",
    "for pop in pops:\n",
    "    gd = GenomeData(g)\n",
    "    gd.load_counts_dir(f'../data/h1kg/hg1k_{pop}_counts/')\n",
    "    gd.load_neutral_masks('../data/fit_annotation/putatively_neutral__slop200.bed.gz')\n",
    "    gd.load_accessibile_masks('../data/fit_annotation/no_centro_strict.bed')\n",
    "    gd.load_fasta('../data/annotation/hg38.fa.gz', soft_mask=True)\n",
    "    gds[pop] = gd"
   ]
  },
  {
   "cell_type": "code",
   "execution_count": 35,
   "id": "4783c06e-02f8-4763-90a7-5f881c17a28d",
   "metadata": {
    "tags": []
   },
   "outputs": [],
   "source": [
    "gd = gds['yri'] # for the table below; pop doesn't matter"
   ]
  },
  {
   "cell_type": "markdown",
   "id": "811460db-2cc6-4527-a795-a8fb963a3133",
   "metadata": {
    "tags": []
   },
   "source": [
    "## Statistics for Analysis"
   ]
  },
  {
   "cell_type": "markdown",
   "id": "491b21af-308c-49c0-a976-dda56d1d5ab8",
   "metadata": {},
   "source": [
    "Let's output the **soft-masked** version as a supplementary table (perhaps just in GH repo):"
   ]
  },
  {
   "cell_type": "code",
   "execution_count": 36,
   "id": "73904fe9-f775-4931-8b7a-59997c8f3c12",
   "metadata": {
    "tags": []
   },
   "outputs": [
    {
     "data": {
      "text/html": [
       "<div>\n",
       "<style scoped>\n",
       "    .dataframe tbody tr th:only-of-type {\n",
       "        vertical-align: middle;\n",
       "    }\n",
       "\n",
       "    .dataframe tbody tr th {\n",
       "        vertical-align: top;\n",
       "    }\n",
       "\n",
       "    .dataframe thead th {\n",
       "        text-align: right;\n",
       "    }\n",
       "</style>\n",
       "<table border=\"1\" class=\"dataframe\">\n",
       "  <thead>\n",
       "    <tr style=\"text-align: right;\">\n",
       "      <th></th>\n",
       "      <th>chrom</th>\n",
       "      <th>accessible</th>\n",
       "      <th>neutral</th>\n",
       "      <th>both</th>\n",
       "    </tr>\n",
       "  </thead>\n",
       "  <tbody>\n",
       "    <tr>\n",
       "      <th>0</th>\n",
       "      <td>chr1</td>\n",
       "      <td>39.7</td>\n",
       "      <td>62.0</td>\n",
       "      <td>15.7</td>\n",
       "    </tr>\n",
       "    <tr>\n",
       "      <th>1</th>\n",
       "      <td>chr2</td>\n",
       "      <td>45.3</td>\n",
       "      <td>60.1</td>\n",
       "      <td>18.9</td>\n",
       "    </tr>\n",
       "    <tr>\n",
       "      <th>2</th>\n",
       "      <td>chr3</td>\n",
       "      <td>43.2</td>\n",
       "      <td>59.6</td>\n",
       "      <td>16.9</td>\n",
       "    </tr>\n",
       "    <tr>\n",
       "      <th>3</th>\n",
       "      <td>chr4</td>\n",
       "      <td>42.7</td>\n",
       "      <td>65.9</td>\n",
       "      <td>20.2</td>\n",
       "    </tr>\n",
       "    <tr>\n",
       "      <th>4</th>\n",
       "      <td>chr5</td>\n",
       "      <td>42.4</td>\n",
       "      <td>62.2</td>\n",
       "      <td>18.1</td>\n",
       "    </tr>\n",
       "  </tbody>\n",
       "</table>\n",
       "</div>"
      ],
      "text/plain": [
       "  chrom  accessible  neutral  both\n",
       "0  chr1        39.7     62.0  15.7\n",
       "1  chr2        45.3     60.1  18.9\n",
       "2  chr3        43.2     59.6  16.9\n",
       "3  chr4        42.7     65.9  20.2\n",
       "4  chr5        42.4     62.2  18.1"
      ]
     },
     "execution_count": 36,
     "metadata": {},
     "output_type": "execute_result"
    }
   ],
   "source": [
    "mstats_tab = [{'chrom': c, 'accessible': 100*a, 'neutral': 100*n, 'both': 100*b, \n",
    "              #'basepairs':  int(g.seqlens[c]*b)\n",
    "              } for\n",
    "              c, (a, n, b) in gd.mask_stats().items()]\n",
    "mstats_df = pd.DataFrame(mstats_tab)\n",
    "mstats_df.to_csv('../data/supplementary_data/accessibilty.tsv', sep='\\t', index=False)\n",
    "mstats_df.head()"
   ]
  },
  {
   "cell_type": "code",
   "execution_count": 44,
   "id": "f44669cb-c478-42f6-ae04-e0ae60c5e3f5",
   "metadata": {
    "tags": []
   },
   "outputs": [],
   "source": [
    "seqlen_df = pd.DataFrame([dict(chrom=c, seqlen=s) for c, s in g.seqlens.items()])\n",
    "mstats_df = mstats_df.merge(seqlen_df)"
   ]
  },
  {
   "cell_type": "code",
   "execution_count": 52,
   "id": "7b35f8f8-cf11-4251-aec1-03a236d12f05",
   "metadata": {
    "tags": []
   },
   "outputs": [],
   "source": [
    "mstats_df['total_bp'] = np.round(mstats_df['both']/100 * mstats_df['seqlen'] / 1e6, 2)"
   ]
  },
  {
   "cell_type": "code",
   "execution_count": 53,
   "id": "2ad07f39-4836-4269-aef3-8d14baaa2d3a",
   "metadata": {
    "tags": []
   },
   "outputs": [
    {
     "data": {
      "text/html": [
       "<div>\n",
       "<style scoped>\n",
       "    .dataframe tbody tr th:only-of-type {\n",
       "        vertical-align: middle;\n",
       "    }\n",
       "\n",
       "    .dataframe tbody tr th {\n",
       "        vertical-align: top;\n",
       "    }\n",
       "\n",
       "    .dataframe thead th {\n",
       "        text-align: right;\n",
       "    }\n",
       "</style>\n",
       "<table border=\"1\" class=\"dataframe\">\n",
       "  <thead>\n",
       "    <tr style=\"text-align: right;\">\n",
       "      <th></th>\n",
       "      <th>chrom</th>\n",
       "      <th>accessible</th>\n",
       "      <th>neutral</th>\n",
       "      <th>both</th>\n",
       "      <th>seqlen</th>\n",
       "      <th>total_bp</th>\n",
       "    </tr>\n",
       "  </thead>\n",
       "  <tbody>\n",
       "    <tr>\n",
       "      <th>0</th>\n",
       "      <td>chr1</td>\n",
       "      <td>39.7</td>\n",
       "      <td>62.0</td>\n",
       "      <td>15.7</td>\n",
       "      <td>248956422</td>\n",
       "      <td>39.09</td>\n",
       "    </tr>\n",
       "    <tr>\n",
       "      <th>1</th>\n",
       "      <td>chr2</td>\n",
       "      <td>45.3</td>\n",
       "      <td>60.1</td>\n",
       "      <td>18.9</td>\n",
       "      <td>242193529</td>\n",
       "      <td>45.77</td>\n",
       "    </tr>\n",
       "    <tr>\n",
       "      <th>2</th>\n",
       "      <td>chr3</td>\n",
       "      <td>43.2</td>\n",
       "      <td>59.6</td>\n",
       "      <td>16.9</td>\n",
       "      <td>198295559</td>\n",
       "      <td>33.51</td>\n",
       "    </tr>\n",
       "    <tr>\n",
       "      <th>3</th>\n",
       "      <td>chr4</td>\n",
       "      <td>42.7</td>\n",
       "      <td>65.9</td>\n",
       "      <td>20.2</td>\n",
       "      <td>190214555</td>\n",
       "      <td>38.42</td>\n",
       "    </tr>\n",
       "    <tr>\n",
       "      <th>4</th>\n",
       "      <td>chr5</td>\n",
       "      <td>42.4</td>\n",
       "      <td>62.2</td>\n",
       "      <td>18.1</td>\n",
       "      <td>181538259</td>\n",
       "      <td>32.86</td>\n",
       "    </tr>\n",
       "    <tr>\n",
       "      <th>5</th>\n",
       "      <td>chr6</td>\n",
       "      <td>43.8</td>\n",
       "      <td>61.4</td>\n",
       "      <td>18.4</td>\n",
       "      <td>170805979</td>\n",
       "      <td>31.43</td>\n",
       "    </tr>\n",
       "    <tr>\n",
       "      <th>6</th>\n",
       "      <td>chr7</td>\n",
       "      <td>41.9</td>\n",
       "      <td>64.0</td>\n",
       "      <td>18.6</td>\n",
       "      <td>159345973</td>\n",
       "      <td>29.64</td>\n",
       "    </tr>\n",
       "    <tr>\n",
       "      <th>7</th>\n",
       "      <td>chr8</td>\n",
       "      <td>42.3</td>\n",
       "      <td>66.1</td>\n",
       "      <td>20.2</td>\n",
       "      <td>145138636</td>\n",
       "      <td>29.32</td>\n",
       "    </tr>\n",
       "    <tr>\n",
       "      <th>8</th>\n",
       "      <td>chr9</td>\n",
       "      <td>36.2</td>\n",
       "      <td>65.4</td>\n",
       "      <td>14.6</td>\n",
       "      <td>138394717</td>\n",
       "      <td>20.21</td>\n",
       "    </tr>\n",
       "    <tr>\n",
       "      <th>9</th>\n",
       "      <td>chr10</td>\n",
       "      <td>42.9</td>\n",
       "      <td>62.2</td>\n",
       "      <td>18.8</td>\n",
       "      <td>133797422</td>\n",
       "      <td>25.15</td>\n",
       "    </tr>\n",
       "    <tr>\n",
       "      <th>10</th>\n",
       "      <td>chr11</td>\n",
       "      <td>41.3</td>\n",
       "      <td>61.5</td>\n",
       "      <td>17.0</td>\n",
       "      <td>135086622</td>\n",
       "      <td>22.96</td>\n",
       "    </tr>\n",
       "    <tr>\n",
       "      <th>11</th>\n",
       "      <td>chr12</td>\n",
       "      <td>40.6</td>\n",
       "      <td>60.4</td>\n",
       "      <td>15.9</td>\n",
       "      <td>133275309</td>\n",
       "      <td>21.19</td>\n",
       "    </tr>\n",
       "    <tr>\n",
       "      <th>12</th>\n",
       "      <td>chr13</td>\n",
       "      <td>38.8</td>\n",
       "      <td>70.7</td>\n",
       "      <td>18.8</td>\n",
       "      <td>114364328</td>\n",
       "      <td>21.50</td>\n",
       "    </tr>\n",
       "    <tr>\n",
       "      <th>13</th>\n",
       "      <td>chr14</td>\n",
       "      <td>36.5</td>\n",
       "      <td>64.6</td>\n",
       "      <td>13.8</td>\n",
       "      <td>107043718</td>\n",
       "      <td>14.77</td>\n",
       "    </tr>\n",
       "    <tr>\n",
       "      <th>14</th>\n",
       "      <td>chr15</td>\n",
       "      <td>34.4</td>\n",
       "      <td>66.3</td>\n",
       "      <td>13.5</td>\n",
       "      <td>101991189</td>\n",
       "      <td>13.77</td>\n",
       "    </tr>\n",
       "    <tr>\n",
       "      <th>15</th>\n",
       "      <td>chr16</td>\n",
       "      <td>36.0</td>\n",
       "      <td>66.0</td>\n",
       "      <td>15.5</td>\n",
       "      <td>90338345</td>\n",
       "      <td>14.00</td>\n",
       "    </tr>\n",
       "    <tr>\n",
       "      <th>16</th>\n",
       "      <td>chr17</td>\n",
       "      <td>37.2</td>\n",
       "      <td>58.8</td>\n",
       "      <td>14.2</td>\n",
       "      <td>83257441</td>\n",
       "      <td>11.82</td>\n",
       "    </tr>\n",
       "    <tr>\n",
       "      <th>17</th>\n",
       "      <td>chr18</td>\n",
       "      <td>40.3</td>\n",
       "      <td>66.1</td>\n",
       "      <td>19.6</td>\n",
       "      <td>80373285</td>\n",
       "      <td>15.75</td>\n",
       "    </tr>\n",
       "    <tr>\n",
       "      <th>18</th>\n",
       "      <td>chr19</td>\n",
       "      <td>28.1</td>\n",
       "      <td>67.5</td>\n",
       "      <td>11.5</td>\n",
       "      <td>58617616</td>\n",
       "      <td>6.74</td>\n",
       "    </tr>\n",
       "    <tr>\n",
       "      <th>19</th>\n",
       "      <td>chr20</td>\n",
       "      <td>36.1</td>\n",
       "      <td>62.5</td>\n",
       "      <td>15.4</td>\n",
       "      <td>64444167</td>\n",
       "      <td>9.92</td>\n",
       "    </tr>\n",
       "    <tr>\n",
       "      <th>20</th>\n",
       "      <td>chr21</td>\n",
       "      <td>29.8</td>\n",
       "      <td>76.9</td>\n",
       "      <td>17.3</td>\n",
       "      <td>46709983</td>\n",
       "      <td>8.08</td>\n",
       "    </tr>\n",
       "    <tr>\n",
       "      <th>21</th>\n",
       "      <td>chr22</td>\n",
       "      <td>25.5</td>\n",
       "      <td>75.5</td>\n",
       "      <td>12.6</td>\n",
       "      <td>50818468</td>\n",
       "      <td>6.40</td>\n",
       "    </tr>\n",
       "  </tbody>\n",
       "</table>\n",
       "</div>"
      ],
      "text/plain": [
       "    chrom  accessible  neutral  both     seqlen  total_bp\n",
       "0    chr1        39.7     62.0  15.7  248956422     39.09\n",
       "1    chr2        45.3     60.1  18.9  242193529     45.77\n",
       "2    chr3        43.2     59.6  16.9  198295559     33.51\n",
       "3    chr4        42.7     65.9  20.2  190214555     38.42\n",
       "4    chr5        42.4     62.2  18.1  181538259     32.86\n",
       "5    chr6        43.8     61.4  18.4  170805979     31.43\n",
       "6    chr7        41.9     64.0  18.6  159345973     29.64\n",
       "7    chr8        42.3     66.1  20.2  145138636     29.32\n",
       "8    chr9        36.2     65.4  14.6  138394717     20.21\n",
       "9   chr10        42.9     62.2  18.8  133797422     25.15\n",
       "10  chr11        41.3     61.5  17.0  135086622     22.96\n",
       "11  chr12        40.6     60.4  15.9  133275309     21.19\n",
       "12  chr13        38.8     70.7  18.8  114364328     21.50\n",
       "13  chr14        36.5     64.6  13.8  107043718     14.77\n",
       "14  chr15        34.4     66.3  13.5  101991189     13.77\n",
       "15  chr16        36.0     66.0  15.5   90338345     14.00\n",
       "16  chr17        37.2     58.8  14.2   83257441     11.82\n",
       "17  chr18        40.3     66.1  19.6   80373285     15.75\n",
       "18  chr19        28.1     67.5  11.5   58617616      6.74\n",
       "19  chr20        36.1     62.5  15.4   64444167      9.92\n",
       "20  chr21        29.8     76.9  17.3   46709983      8.08\n",
       "21  chr22        25.5     75.5  12.6   50818468      6.40"
      ]
     },
     "execution_count": 53,
     "metadata": {},
     "output_type": "execute_result"
    }
   ],
   "source": [
    "mstats_df"
   ]
  },
  {
   "cell_type": "code",
   "execution_count": 56,
   "id": "78665f63-1f36-4df5-b6ec-1f1c7161a113",
   "metadata": {
    "tags": []
   },
   "outputs": [
    {
     "name": "stdout",
     "output_type": "stream",
     "text": [
      "\\begin{tabular}{lrrrr}\n",
      "\\toprule\n",
      "chrom &  accessible &  neutral &  both &  total\\_bp \\\\\n",
      "\\midrule\n",
      " chr1 &        39.7 &     62.0 &  15.7 &     39.09 \\\\\n",
      " chr2 &        45.3 &     60.1 &  18.9 &     45.77 \\\\\n",
      " chr3 &        43.2 &     59.6 &  16.9 &     33.51 \\\\\n",
      " chr4 &        42.7 &     65.9 &  20.2 &     38.42 \\\\\n",
      " chr5 &        42.4 &     62.2 &  18.1 &     32.86 \\\\\n",
      " chr6 &        43.8 &     61.4 &  18.4 &     31.43 \\\\\n",
      " chr7 &        41.9 &     64.0 &  18.6 &     29.64 \\\\\n",
      " chr8 &        42.3 &     66.1 &  20.2 &     29.32 \\\\\n",
      " chr9 &        36.2 &     65.4 &  14.6 &     20.21 \\\\\n",
      "chr10 &        42.9 &     62.2 &  18.8 &     25.15 \\\\\n",
      "chr11 &        41.3 &     61.5 &  17.0 &     22.96 \\\\\n",
      "chr12 &        40.6 &     60.4 &  15.9 &     21.19 \\\\\n",
      "chr13 &        38.8 &     70.7 &  18.8 &     21.50 \\\\\n",
      "chr14 &        36.5 &     64.6 &  13.8 &     14.77 \\\\\n",
      "chr15 &        34.4 &     66.3 &  13.5 &     13.77 \\\\\n",
      "chr16 &        36.0 &     66.0 &  15.5 &     14.00 \\\\\n",
      "chr17 &        37.2 &     58.8 &  14.2 &     11.82 \\\\\n",
      "chr18 &        40.3 &     66.1 &  19.6 &     15.75 \\\\\n",
      "chr19 &        28.1 &     67.5 &  11.5 &      6.74 \\\\\n",
      "chr20 &        36.1 &     62.5 &  15.4 &      9.92 \\\\\n",
      "chr21 &        29.8 &     76.9 &  17.3 &      8.08 \\\\\n",
      "chr22 &        25.5 &     75.5 &  12.6 &      6.40 \\\\\n",
      "\\bottomrule\n",
      "\\end{tabular}\n",
      "\n"
     ]
    },
    {
     "name": "stderr",
     "output_type": "stream",
     "text": [
      "/tmp/ipykernel_41931/2549783690.py:2: FutureWarning: In future versions `DataFrame.to_latex` is expected to utilise the base implementation of `Styler.to_latex` for formatting and rendering. The arguments signature may therefore change. It is recommended instead to use `DataFrame.style.to_latex` which also contains additional functionality.\n",
      "  print(mstats_df.drop(columns='seqlen').to_latex(index=False))\n"
     ]
    }
   ],
   "source": [
    "#uncomment and run for supplementary table\n",
    "print(mstats_df.drop(columns='seqlen').to_latex(index=False))"
   ]
  },
  {
   "cell_type": "code",
   "execution_count": 61,
   "id": "d5c66cda-04bc-4a40-99c2-b54fc04d6e11",
   "metadata": {
    "tags": []
   },
   "outputs": [
    {
     "data": {
      "text/plain": [
       "400000.0"
      ]
     },
     "execution_count": 61,
     "metadata": {},
     "output_type": "execute_result"
    }
   ],
   "source": [
    "s = 0.004\n",
    "r = 1e-8\n",
    "s/r"
   ]
  },
  {
   "cell_type": "code",
   "execution_count": 60,
   "id": "ab936fab-0641-4f13-bec4-0b6952ae97cc",
   "metadata": {
    "tags": []
   },
   "outputs": [
    {
     "name": "stdout",
     "output_type": "stream",
     "text": [
      "('accessible', 40.13234442465106)\n",
      "('neutral', 63.64967368639884)\n",
      "('both', 17.124270307603688)\n"
     ]
    }
   ],
   "source": [
    "for col in ('accessible', 'neutral', 'both'):\n",
    "    print((col, np.average(mstats_df[col], weights=mstats_df['seqlen'])))"
   ]
  },
  {
   "cell_type": "markdown",
   "id": "9af4bd03-7c52-429e-acc3-b3ef84057aa2",
   "metadata": {},
   "source": [
    "## Genome-wide Diversity\n",
    "\n",
    "This is mostly validation of my functions to calculate $\\pi$.\n",
    "\n",
    "\n",
    "### Sample Details\n",
    " \n",
    "My sample came from a different project that didn't work out — it was originally CEU, CHB, and YRI samples from the dataset; 460 total. The underlying data is the 1000 Genomes [30x on GRCh38 dataset](https://www.internationalgenome.org/data-portal/data-collection/30x-grch38), of which there are 178 total YRI individuals.\n",
    "\n",
    "The samples are in `../data/h1kg/yri_samples.tsv`.\n",
    "\n",
    "Let's validate for chr1 counts of alleles that we have less than diploid individuals:"
   ]
  },
  {
   "cell_type": "code",
   "execution_count": null,
   "id": "d5fb889e-ade5-41e4-af2e-6a3e52c6fbbe",
   "metadata": {
    "tags": []
   },
   "outputs": [],
   "source": [
    "# not checked in to GH due to size\n",
    "counts_chr1 = np.load('../data/h1kg/hg1k_yri_counts//chr1_counts.npy')\n",
    "counts_chr1.sum(axis=1).max() / 2"
   ]
  },
  {
   "cell_type": "markdown",
   "id": "9c5d7806-c4d1-4818-a47e-5ab7d2306482",
   "metadata": {},
   "source": [
    "Looks good — my raw data is the complete YRI sample."
   ]
  },
  {
   "cell_type": "markdown",
   "id": "adfe42c4-ca69-4aa7-84c0-1107468f8cdd",
   "metadata": {},
   "source": [
    "### Validation of Diversity\n",
    "\n",
    "First, let's evaluate and do some validation for my methods for calculating genome-wide diversity in this sample.\n",
    "\n",
    "The likelihood methods use binned allele counts, summed across all sites in the bin. These should be invariant to the bin width. So I check this below, looking at binned diversity at the megabase and 100kbp scales. Bins with high levels of inaccessible bases (`mask_inaccessible_bins_frac`) are *not* masked here, just for validation.\n",
    "\n",
    "NOTE: I also ran checks againt scikit-allel, but a numpy upgrade deprecated a function, and this broke scikit-allel (which hasn't been updated in ages). Unfortunately, I had to remove those tests\n",
    "from this notebook because of sckit-allel."
   ]
  },
  {
   "cell_type": "markdown",
   "id": "fd080cad-79f7-463c-b12f-9b3ab47eedd8",
   "metadata": {},
   "source": [
    "### Windowed diversity "
   ]
  },
  {
   "cell_type": "code",
   "execution_count": null,
   "id": "8d11889c-44ba-4acb-9401-974dd4706ea8",
   "metadata": {
    "tags": []
   },
   "outputs": [],
   "source": [
    "bins_1Mbp = gd.bin_pairwise_summaries(width=1e6, \n",
    "                                      filter_neutral=True, \n",
    "                                      filter_accessible=True,\n",
    "                                      mask_inaccessible_bins_frac=None)"
   ]
  },
  {
   "cell_type": "code",
   "execution_count": null,
   "id": "15080d56-3154-42f2-9537-db019babb355",
   "metadata": {
    "tags": []
   },
   "outputs": [],
   "source": [
    "bins_1Mbp_alt = gd_alt.bin_pairwise_summaries(width=1e6, \n",
    "                                      filter_neutral=True, \n",
    "                                      filter_accessible=True,\n",
    "                                      mask_inaccessible_bins_frac=None)"
   ]
  },
  {
   "cell_type": "code",
   "execution_count": null,
   "id": "2566c5e3-a0d6-45d5-ad63-cc2307244fba",
   "metadata": {
    "tags": []
   },
   "outputs": [],
   "source": [
    "bins_1Mbp_nosm = gd_nosm.bin_pairwise_summaries(width=1e6, \n",
    "                                                filter_neutral=True, \n",
    "                                                filter_accessible=True,\n",
    "                                                mask_inaccessible_bins_frac=None)"
   ]
  },
  {
   "cell_type": "code",
   "execution_count": null,
   "id": "85f4f428-4c4b-413c-b676-b8c9ebd60c5f",
   "metadata": {
    "tags": []
   },
   "outputs": [],
   "source": [
    "plt.plot(*bins_1Mbp.pi_pairs('chr1'), label='soft-masked')\n",
    "plt.plot(*bins_1Mbp_nosm.pi_pairs('chr1'), label='not soft-masked')\n",
    "plt.plot(*bins_1Mbp_alt.pi_pairs('chr1'), label='alternate neutral')\n",
    "plt.ylabel('$\\pi$')\n",
    "plt.xlabel('position')\n",
    "plt.legend()"
   ]
  },
  {
   "cell_type": "code",
   "execution_count": null,
   "id": "40f8c0c4-da65-47e3-a9a9-75a43697aebd",
   "metadata": {
    "tags": []
   },
   "outputs": [],
   "source": [
    "bins_100kbp = gd.bin_pairwise_summaries(width=1e5, \n",
    "                                        filter_neutral=True, \n",
    "                                        filter_accessible=True,\n",
    "                                        mask_inaccessible_bins_frac=None)"
   ]
  },
  {
   "cell_type": "code",
   "execution_count": null,
   "id": "8ec79ddc-747b-4550-b1f7-b42898db32ee",
   "metadata": {
    "tags": []
   },
   "outputs": [],
   "source": [
    "# verify that no windows are masked (we set mask_inaccessible_bins_frac = None and not\n",
    "# outlier based filtering has been applied)\n",
    "assert(bins_1Mbp.Y(filter_masked=True).mean() == bins_1Mbp.Y(filter_masked=False).mean())"
   ]
  },
  {
   "cell_type": "code",
   "execution_count": null,
   "id": "010d7451-812d-4315-b9da-c1e0422d10f4",
   "metadata": {
    "tags": []
   },
   "outputs": [],
   "source": [
    "# calculate the Y matrices, which are binned sums of allele counts\n",
    "Y_1Mbp = bins_1Mbp.Y()\n",
    "Y_100kbp = bins_100kbp.Y()"
   ]
  },
  {
   "cell_type": "code",
   "execution_count": null,
   "id": "7d3a285c-e1bf-4f42-a62e-71f2485cb225",
   "metadata": {
    "tags": []
   },
   "outputs": [],
   "source": [
    "# naive unweighted sum -- this does not weight diversity\n",
    "# in windows by their size of accessible bases \n",
    "np.nanmean(pi_from_pairwise_summaries(Y_1Mbp)), np.nanmean(pi_from_pairwise_summaries(Y_100kbp)), "
   ]
  },
  {
   "cell_type": "markdown",
   "id": "a06dd56e-9ec8-4a5d-a5a2-cddb81c87982",
   "metadata": {},
   "source": [
    "These don't match — but that is expected, since the unweighted mean is taken."
   ]
  },
  {
   "cell_type": "markdown",
   "id": "66d6f6d0-0ed3-40f8-839c-01a53f8e9922",
   "metadata": {},
   "source": [
    "If instead we sum all columns, then calculate pairwise diversity, no information is lost:"
   ]
  },
  {
   "cell_type": "code",
   "execution_count": null,
   "id": "c568f583-a3eb-423a-96b5-bffd365f80d4",
   "metadata": {
    "tags": []
   },
   "outputs": [],
   "source": [
    "pi_from_pairwise_summaries(Y_1Mbp.sum(axis=0)), pi_from_pairwise_summaries(Y_100kbp.sum(axis=0))"
   ]
  },
  {
   "cell_type": "markdown",
   "id": "737f3ca4-0d05-47d0-8c3e-7c3742bee05d",
   "metadata": {},
   "source": [
    "Which gives us identical values as expected."
   ]
  },
  {
   "cell_type": "markdown",
   "id": "609c700d-950b-4580-85fb-39d85daa4c11",
   "metadata": {},
   "source": [
    "Now, let's look at the genome-wide average in accessible putatively neutral regions."
   ]
  },
  {
   "cell_type": "code",
   "execution_count": null,
   "id": "e8a3894f-78bf-41e2-b1dc-20f8ebce66fc",
   "metadata": {
    "tags": []
   },
   "outputs": [],
   "source": [
    "gw_yri = gd.gwpi(filter_neutral=True, filter_accessible=True)"
   ]
  },
  {
   "cell_type": "code",
   "execution_count": null,
   "id": "4c0e12a8-d1a8-4630-92f8-08e525ac94aa",
   "metadata": {
    "tags": []
   },
   "outputs": [],
   "source": [
    "gw_yri"
   ]
  },
  {
   "cell_type": "code",
   "execution_count": null,
   "id": "925bfc6f-1cc0-42c9-8aca-83291d6dff46",
   "metadata": {
    "tags": []
   },
   "outputs": [],
   "source": [
    "gw_yri_sample_weight = gd.gwpi(filter_neutral=True, filter_accessible=True, weight_pairwise=False)"
   ]
  },
  {
   "cell_type": "code",
   "execution_count": null,
   "id": "7dc2bd81-b19a-4f1f-8ee4-27561c3b7530",
   "metadata": {
    "tags": []
   },
   "outputs": [],
   "source": [
    "gw_yri_sample_weight"
   ]
  },
  {
   "cell_type": "code",
   "execution_count": null,
   "id": "61d6cf27-c44f-4eb7-9a47-2a0a77f586bf",
   "metadata": {
    "tags": []
   },
   "outputs": [],
   "source": [
    "keep = (Y_1Mbp > 0).all(axis=1)\n",
    "keep.mean()\n",
    "\n",
    "pi_from_pairwise_summaries(Y_1Mbp[keep].sum(axis=0)), pi_from_pairwise_summaries(Y_1Mbp.sum(axis=0))"
   ]
  },
  {
   "cell_type": "markdown",
   "id": "32554120-6845-4c81-af0f-10830d661576",
   "metadata": {},
   "source": [
    "So these are identical (this is a check). The underlying issue seems to be a floating point issue with the numeric averaging. I would trust this estimate."
   ]
  },
  {
   "cell_type": "code",
   "execution_count": null,
   "id": "ce0e96f1-c32c-4465-ba05-79db29b604b6",
   "metadata": {
    "tags": []
   },
   "outputs": [],
   "source": [
    "# what's the relative error between binned averages and genome-wide?\n",
    "\n",
    "rel_error(gw_yri, pi_from_pairwise_summaries(Y_1Mbp.sum(axis=0)))"
   ]
  },
  {
   "cell_type": "markdown",
   "id": "7e57a01b-3008-429a-a5c0-5c3748c0b9f1",
   "metadata": {},
   "source": [
    "Note, there is some small ~0.009% relative error between binning and the full genome-approach based on weighting chromosomes. This is from unknown numeric issues, but is such a small scale that we can ignore it."
   ]
  },
  {
   "cell_type": "markdown",
   "id": "965570eb-8ebf-4241-8a09-3d0e9823c1fa",
   "metadata": {},
   "source": [
    "Now, let's look at diversity across each chromosome separately."
   ]
  },
  {
   "cell_type": "code",
   "execution_count": null,
   "id": "d36e2c7a-d374-4a1d-9f0a-01b7d47bd2bc",
   "metadata": {
    "tags": []
   },
   "outputs": [],
   "source": [
    "pi_chroms = gd.pi(filter_neutral=True, filter_accessible=True)"
   ]
  },
  {
   "cell_type": "code",
   "execution_count": null,
   "id": "371c5818-750d-4091-a01d-432a026b3bac",
   "metadata": {
    "tags": []
   },
   "outputs": [],
   "source": [
    "# pi_chrom genome-wide\n",
    "pi_ests = np.array(list(pi_chroms[0].values())).flat\n",
    "np.average(pi_ests, weights=list(pi_chroms[1].values()))"
   ]
  },
  {
   "cell_type": "markdown",
   "id": "8a52ba6e-6f3d-43e3-a811-2de1fc4b55b3",
   "metadata": {},
   "source": [
    "This agrees with the `gd.pi()` estimates (as it should, since it's doing the same weighted average internally). But note that this differs slightly from the binned average as mentioned above."
   ]
  },
  {
   "cell_type": "markdown",
   "id": "4f02c39e-e345-4f29-a2f0-9ba21760a283",
   "metadata": {},
   "source": [
    "## Sensitivity to Various Filters"
   ]
  },
  {
   "cell_type": "markdown",
   "id": "6af39d58-e8bd-4d08-abdd-d8dc52943f1c",
   "metadata": {},
   "source": [
    "Compare that to the value without filtering based on accessibility only, not putatively neutral."
   ]
  },
  {
   "cell_type": "code",
   "execution_count": null,
   "id": "2cf68de4-ea29-4182-b0e6-49c3ad0a7cbb",
   "metadata": {
    "tags": []
   },
   "outputs": [],
   "source": [
    "gw_yri_accessible_only = gd.gwpi(filter_neutral=False, filter_accessible=True)\n",
    "gw_yri_accessible_only"
   ]
  },
  {
   "cell_type": "markdown",
   "id": "4f312a63-db80-47f4-a9aa-f526f8dcde7c",
   "metadata": {},
   "source": [
    "What if we don't filter at all? The estimate is much higher:"
   ]
  },
  {
   "cell_type": "code",
   "execution_count": null,
   "id": "1921b565-37ab-4fa8-a09b-1138a11f38b9",
   "metadata": {
    "tags": []
   },
   "outputs": [],
   "source": [
    "gw_yri_unfiltered = gd.gwpi(filter_neutral=False, filter_accessible=False)\n",
    "gw_yri_unfiltered"
   ]
  },
  {
   "cell_type": "code",
   "execution_count": null,
   "id": "7a6d11c7-49f6-427d-ac23-dced36629588",
   "metadata": {
    "tags": []
   },
   "outputs": [],
   "source": [
    "bins_1Mbp_accessible_only = gd.bin_pairwise_summaries(width=1e6, \n",
    "                                      filter_neutral=False, \n",
    "                                      filter_accessible=True,\n",
    "                                      mask_inaccessible_bins_frac=None)\n",
    "bins_1Mbp_unfiltered = gd.bin_pairwise_summaries(width=1e6, \n",
    "                                      filter_neutral=False, \n",
    "                                      filter_accessible=False,\n",
    "                                      mask_inaccessible_bins_frac=None)"
   ]
  },
  {
   "cell_type": "code",
   "execution_count": null,
   "id": "6d40b429-a924-4ebf-81f8-570d7fbc3c06",
   "metadata": {
    "tags": []
   },
   "outputs": [],
   "source": [
    "fig_sizes.keys()"
   ]
  },
  {
   "cell_type": "code",
   "execution_count": null,
   "id": "fd4c8b06-e62e-4b2b-959a-9dab581f2ee9",
   "metadata": {
    "tags": []
   },
   "outputs": [],
   "source": [
    "fig, ax = plt.subplots(figsize=fig_sizes[('two', 'two')])\n",
    "idx = bins_1Mbp.chrom_indices('chr1')\n",
    "\n",
    "pi_chr1_filtered = pi_from_pairwise_summaries(bins_1Mbp.Y()[idx, :])\n",
    "pi_chr1_accessible_only = pi_from_pairwise_summaries(bins_1Mbp_accessible_only.Y()[idx, :])\n",
    "pi_chr1_no_filtering = pi_from_pairwise_summaries(bins_1Mbp_unfiltered.Y()[idx, :])\n",
    "ax.plot(pi_chr1_filtered, label='neutral, accessible')\n",
    "ax.plot(pi_chr1_accessible_only, label='accesible')\n",
    "ax.plot(pi_chr1_no_filtering, label='no filtering')\n",
    "ax.set_ylabel('pairwise diversity')\n",
    "ax.set_xlabel('position')\n",
    "#ax.grid()\n",
    "ax.legend()\n",
    "plt.savefig(os.path.join(FIGDIR, 'supplementary', 'chr1_diversity_filtering.pdf'))"
   ]
  },
  {
   "cell_type": "code",
   "execution_count": null,
   "id": "e1876928-a0b4-41b6-b0f9-b3a77c6b3ba8",
   "metadata": {
    "tags": []
   },
   "outputs": [],
   "source": [
    "idx = bins_1Mbp.chrom_indices('chr1')\n",
    "\n",
    "pi_chr1_filtered = pi_from_pairwise_summaries(bins_1Mbp.Y()[idx, :])\n",
    "pi_chr1_accessible_only = pi_from_pairwise_summaries(bins_1Mbp_accessible_only.Y()[idx, :])\n",
    "pi_chr1_no_filtering = pi_from_pairwise_summaries(bins_1Mbp_unfiltered.Y()[idx, :])\n",
    "plt.plot(pi_chr1_filtered, label='neutral, accessible')\n",
    "plt.plot(pi_chr1_accessible_only, label='accesible')\n",
    "plt.plot(pi_chr1_no_filtering, label='no filtering')\n",
    "plt.ylabel('pairwise diversity')\n",
    "plt.xlabel('position')\n",
    "plt.legend()\n",
    "plt.ylim(0.0002, 0.002)"
   ]
  },
  {
   "cell_type": "code",
   "execution_count": null,
   "id": "8c1d3283-3e67-4519-a63d-d1076cae36d1",
   "metadata": {
    "tags": []
   },
   "outputs": [],
   "source": [
    "plt.scatter([x.replace('chr', '') for x in pi_chroms[0].keys()], pi_chroms[0].values(),\n",
    "            c='0.11', s=50)\n",
    "plt.axhline(gw_yri, c='r', zorder=-1)\n",
    "plt.ylabel('diversity')\n",
    "plt.xlabel('position')\n",
    "plt.tight_layout()"
   ]
  },
  {
   "cell_type": "code",
   "execution_count": null,
   "id": "74e6d5d2-2f3b-41e8-8513-a644463b08da",
   "metadata": {
    "tags": []
   },
   "outputs": [],
   "source": [
    "# make a version for trimming specifically\n",
    "bins_1Mbp_trimmed = gd.bin_pairwise_summaries(width=1e6, \n",
    "                                              filter_neutral=True, \n",
    "                                              filter_accessible=True,\n",
    "                                              mask_inaccessible_bins_frac=None)"
   ]
  },
  {
   "cell_type": "code",
   "execution_count": null,
   "id": "86424251-5cea-419b-9ff3-8ca9f0c0c8ce",
   "metadata": {
    "tags": []
   },
   "outputs": [],
   "source": [
    "bins_1Mbp_trimmed.clear_masks()\n",
    "bins_1Mbp_trimmed.mask_outliers((0, 0.995))"
   ]
  },
  {
   "cell_type": "code",
   "execution_count": null,
   "id": "8c8d7db6-2c3a-4edb-9cae-1dc5020bd54c",
   "metadata": {
    "tags": []
   },
   "outputs": [],
   "source": [
    "np.unique(bins_1Mbp.chrom_ints())"
   ]
  },
  {
   "cell_type": "code",
   "execution_count": null,
   "id": "a7537212-1da7-40f2-9ffc-94787fe0c7b4",
   "metadata": {
    "tags": []
   },
   "outputs": [],
   "source": [
    "# quick check — do the chromosomes blend? yes.\n",
    "fig, ax = plt.subplots()\n",
    "pis = pi_from_pairwise_summaries(bins_1Mbp.Y())\n",
    "idx = np.argsort(pis)\n",
    "ax.scatter(np.arange(len(pis)), pis[idx], c=bins_1Mbp.chrom_ints()[idx], s=2, \n",
    "           cmap=mpl.colormaps.get_cmap('tab20'))"
   ]
  },
  {
   "cell_type": "markdown",
   "id": "9470480d-2f22-451a-8ba9-5f4e131e3b2b",
   "metadata": {},
   "source": [
    "### The Distribution of Genome-Wide Pairwise Diversities\n",
    "\n",
    "Let's fit a normal to the filtered data."
   ]
  },
  {
   "cell_type": "code",
   "execution_count": null,
   "id": "f2f0be67-9d5d-4d08-9a08-fef7d0ea97bb",
   "metadata": {
    "tags": []
   },
   "outputs": [],
   "source": [
    "pis_trimmed = pi_from_pairwise_summaries(bins_1Mbp_trimmed.Y(filter_masked=True))\n",
    "loc, scale = stats.norm.fit(pis_trimmed)"
   ]
  },
  {
   "cell_type": "code",
   "execution_count": null,
   "id": "25e941df-94e9-4770-9cfc-88d39bbae01b",
   "metadata": {
    "tags": []
   },
   "outputs": [],
   "source": [
    "loc, scale"
   ]
  },
  {
   "cell_type": "markdown",
   "id": "474d0508-a44d-4ea7-95c2-e227f85b111c",
   "metadata": {},
   "source": [
    "Make a supplementary figure:"
   ]
  },
  {
   "cell_type": "code",
   "execution_count": null,
   "id": "95b7af40-b8c3-4fc5-b506-92b4c31d1ea2",
   "metadata": {
    "tags": []
   },
   "outputs": [],
   "source": [
    "fig_sizes[('two', 'two')]*0.8"
   ]
  },
  {
   "cell_type": "code",
   "execution_count": null,
   "id": "5258081e-3ab8-4e54-95fb-c62267e3a13a",
   "metadata": {
    "tags": []
   },
   "outputs": [],
   "source": [
    "bins_1Mbp_trimmed.clear_masks()\n",
    "bins_1Mbp_trimmed.mask_outliers((0, 0.995))\n",
    "\n",
    "fig, ax = plt.subplots(figsize=fig_sizes[('two', 'two')]*0.8)\n",
    "pis = pi_from_pairwise_summaries(bins_1Mbp.Y())\n",
    "pis_trimmed = pi_from_pairwise_summaries(bins_1Mbp_trimmed.Y(filter_masked=False))\n",
    "\n",
    "masked = bins_1Mbp_trimmed.mask_array\n",
    "\n",
    "#col = [{True: '0.22', False: 'c'}[p in pis_trimmed] for p in pis]\n",
    "#ax.scatter(np.arange(len(pis)), np.sort(pis), s=2)\n",
    "\n",
    "idx = np.argsort(pis_trimmed)\n",
    "\n",
    "inset_ax = ax.inset_axes([0.15, 0.6, 0.3, 0.3])\n",
    "\n",
    "inset_ax.scatter(np.arange(len(pis_trimmed)), pis_trimmed[idx], c=masked[idx], s=5,\n",
    "           cmap=mpl.colors.LinearSegmentedColormap.from_list('outliers', ['red', '0.22']))\n",
    "\n",
    "inset_ax.spines['right'].set_visible(True)\n",
    "inset_ax.spines['top'].set_visible(True)\n",
    "inset_ax.set_ylim(-0.001, np.nanmax(pis_trimmed[idx])*1.5)\n",
    "\n",
    "pis_trimmed = pi_from_pairwise_summaries(bins_1Mbp_trimmed.Y(filter_masked=True))\n",
    "\n",
    "z = np.linspace(np.nanmin(pis_trimmed), np.nanmax(pis_trimmed), 100)\n",
    "ax.plot(stats.norm.cdf(z, loc, scale)*len(pis_trimmed), z, c='cornflowerblue')\n",
    "ax.scatter(np.arange(len(pis_trimmed)), np.sort(pis_trimmed), s=5, c='0.22')\n",
    "\n",
    "ax.set_ylabel('pairwise diversity')\n",
    "ax.set_xlabel('rank')\n",
    "plt.tight_layout()\n",
    "plt.savefig(os.path.join(FIGDIR, 'supplementary', 'diversity_trimming_dist.pdf'))"
   ]
  },
  {
   "cell_type": "markdown",
   "id": "4472e1f8-5e2d-4c7d-954f-8a96234477b7",
   "metadata": {},
   "source": [
    "This shows that it's nearly normal, but with fatter tails."
   ]
  },
  {
   "cell_type": "markdown",
   "id": "4f91e05f-fba4-4750-84dd-e00f6dc6997d",
   "metadata": {},
   "source": [
    "### YRI Diversity Bootstrap\n",
    "\n",
    "Now, let us use the megabase windows to bootstrap YRI pairwise diversity.\n",
    "\n",
    "Note that it's *very* important to note what the bootstrap is doing here. We are sampling over genomic blocks, which treats the observed genome as a sample from an imaginary population of genomic blocks, rather than something fixed we're sampling chromosomes from. Thus there are two sources of uncertainty: \n",
    "\n",
    " - **Chromosomes sampled from individuals**: this is the \"true\" sample. \n",
    " - **Genomic regions sampled from a population** this is what we use for bootstrapping.\n",
    " \n",
    "Let us think about the relative sizes of these processes. Imagine a neutral coalescent model along a chromosome: we know the the individual sampling variance is << evolutionary sampling variance. Block bootstrapping is sampling over the distribution of tree collections in a window, which means its randomness is approximating the true genome coalescent distribution.\n",
    "\n"
   ]
  },
  {
   "cell_type": "code",
   "execution_count": null,
   "id": "8dda7113-ee80-426d-a240-620501756187",
   "metadata": {
    "tags": []
   },
   "outputs": [],
   "source": [
    "# 28 is the max number of megabase blocks, set by the smallest chromosome\n",
    "block_sizes = np.array([1, 5, 10, 20, 25, 28])\n",
    "biases_1Mbp = []\n",
    "for nblock in block_sizes:\n",
    "    biases_1Mbp.append(bins_1Mbp_trimmed.estimate_pi_bias(B=500, nblocks=nblock))\n",
    "    "
   ]
  },
  {
   "cell_type": "code",
   "execution_count": null,
   "id": "a0c98666-6020-441d-8ff0-bb922f9ad9f7",
   "metadata": {
    "tags": []
   },
   "outputs": [],
   "source": [
    "biases_100kbp = []\n",
    "block_sizes_100kbp = np.array([1, 10, 50, 100, 300, 400])\n",
    "for nblock in block_sizes_100kbp:\n",
    "    biases_100kbp.append(bins_100kbp.estimate_pi_bias(B=500, nblocks=nblock))\n",
    "    "
   ]
  },
  {
   "cell_type": "markdown",
   "id": "8b3ad5ca-d2f7-4e10-ad4e-22cece912574",
   "metadata": {},
   "source": [
    "Let's check that our bootstrap isn't sensitive to window size, which it shouldn't be.\n"
   ]
  },
  {
   "cell_type": "code",
   "execution_count": null,
   "id": "bd59ef55-eca2-4ae0-a7ab-4b2de659d3fc",
   "metadata": {},
   "outputs": [],
   "source": [
    "fig, ax = plt.subplots()\n",
    "ax.plot(block_sizes*bins_1Mbp_trimmed.width / 1e6, biases_1Mbp, '-o', label='1Mbp')\n",
    "ax.plot(block_sizes_100kbp*bins_100kbp.width / 1e6, biases_100kbp, '-o', label='100kbp')\n",
    "ax.legend()\n",
    "ax.set_ylabel(\"bias estimate\")\n",
    "ax.set_xlabel(f\"block size (Megabases)\")"
   ]
  },
  {
   "cell_type": "markdown",
   "id": "63334547-a217-42d8-a846-18ad668f38a4",
   "metadata": {},
   "source": [
    "It's invariant to window size as expected, but the bias estimate is highly dependent on the total block size. I believe the most conservative thing to do is use the largest observed bias, which amounts to nearly resampling whole chromosomes. \n",
    "\n",
    "This may be expected just because it takes longer \"blocks\" than chromosomes to get a plateau in the bias estimate, effectively meaning that regions are not independent of one another even if they are on different chromsomes. "
   ]
  },
  {
   "cell_type": "code",
   "execution_count": null,
   "id": "d30bbc59-ad15-459c-a21c-51618c527e68",
   "metadata": {},
   "outputs": [],
   "source": [
    "# approximate number of blocks possible\n",
    "bs_bias = bins_100kbp.estimate_pi_bias(B=500, nblocks=460)\n",
    "bs_bias"
   ]
  },
  {
   "cell_type": "code",
   "execution_count": null,
   "id": "9c1dad98-e1b5-4682-8bb0-f20e70eaa23b",
   "metadata": {},
   "outputs": [],
   "source": [
    "# what's the relative error due to bias? this is in percent\n",
    "rel_error(est=gw_yri, truth=gw_yri - bs_bias)"
   ]
  },
  {
   "cell_type": "code",
   "execution_count": null,
   "id": "64bbe805-61eb-4118-ab50-452f2601636c",
   "metadata": {},
   "outputs": [],
   "source": [
    "_ = plt.hist(bins_1Mbp_trimmed.bootstrap_pi(500, 28)[0], 20)\n",
    "plt.axvline(gw_yri)\n",
    "plt.axvline(gw_yri - bs_bias, c='r')"
   ]
  },
  {
   "cell_type": "code",
   "execution_count": null,
   "id": "0a864e97-4fd8-4636-890a-0b256742fc2c",
   "metadata": {},
   "outputs": [],
   "source": [
    "_ = plt.hist(bins_100kbp.bootstrap_pi(500, 460)[0], 20)\n",
    "plt.axvline(gw_yri)\n",
    "plt.axvline(gw_yri - bs_bias, c='r')"
   ]
  },
  {
   "cell_type": "code",
   "execution_count": null,
   "id": "e893248c-e45b-4781-9716-e497515ccfc2",
   "metadata": {},
   "outputs": [],
   "source": [
    "bins_100kbp.gwpi(), bins_1Mbp.gwpi()"
   ]
  },
  {
   "cell_type": "code",
   "execution_count": null,
   "id": "08c1a6d6-f44a-4960-b217-4ac6ebd93b3b",
   "metadata": {},
   "outputs": [],
   "source": [
    "bins_100kbp.bias_corrected_gwpi(500, 28)"
   ]
  },
  {
   "cell_type": "code",
   "execution_count": null,
   "id": "56b5eda0-378a-4ef0-a4fa-34b45bf4132b",
   "metadata": {},
   "outputs": [],
   "source": [
    "gw_yri"
   ]
  },
  {
   "cell_type": "markdown",
   "id": "7c71825c-555d-4458-9b3d-b623cd958903",
   "metadata": {},
   "source": [
    "So clearly there is bias according to the block-bootstrap procedure. This isn't unexpected, as pairwise diversity is a ratio estimator."
   ]
  },
  {
   "cell_type": "markdown",
   "id": "e5d8c99a-ceb5-49ca-a085-63a1bd930a7a",
   "metadata": {},
   "source": [
    "## Chromosome 1 Pairwise Diversity Compared to Other Studies.\n",
    "\n",
    "Here we focus on megabase-scale variation, as this is the scale to see BGS effects (and it allows us to compare our diversity levels to those of Murphy et al. (2022))."
   ]
  },
  {
   "cell_type": "code",
   "execution_count": null,
   "id": "c1ea5329-9017-4a8a-9d5e-87bce4f540a1",
   "metadata": {},
   "outputs": [],
   "source": [
    "plt.plot(*bins_1Mbp_trimmed.pi_pairs('chr1'))"
   ]
  },
  {
   "cell_type": "markdown",
   "id": "058b0d03-c7c8-4540-bc94-bfc67cd02967",
   "metadata": {},
   "source": [
    "This file is from Murillo Rodrigues forthcoming paper on diversity and divergence across the great apes — it uses data aligned to hg18. Note that I have *not* lifted this over to hg38, so some discrepencies are due to different genomic coordinates."
   ]
  },
  {
   "cell_type": "code",
   "execution_count": null,
   "id": "3ea93187-d1a5-48a1-b13b-4ba19799f52c",
   "metadata": {},
   "outputs": [],
   "source": [
    "dalt = pd.read_csv('../data/all_pidxy_win-size_1000000_merged-mask_True_state_all_curr_all.tsv', sep='\\t')\n",
    "dalt['midpoint'] = (dalt.start + dalt.end)/2\n",
    "dalt_pi = dalt.loc[(dalt.stat == 'pi') & (dalt.spp1 == 'homo') & (dalt.spp2 == 'homo')]\n",
    "dalt_dxy = dalt.loc[(dalt.stat == 'dxy') & (dalt.spp2 == 'homo') &  \n",
    "                    ((dalt.spp1 == 'weastern_chimp') | (dalt.spp1 == 'eastern_chimp'))]"
   ]
  },
  {
   "cell_type": "code",
   "execution_count": null,
   "id": "713bc14d-687a-4511-bc4e-dc69343bc634",
   "metadata": {},
   "outputs": [],
   "source": [
    "dalt_dxy.head()"
   ]
  },
  {
   "cell_type": "code",
   "execution_count": null,
   "id": "d1309797-f9b1-4d2f-a0ee-e52a2855c6e8",
   "metadata": {},
   "outputs": [],
   "source": [
    "ddd = dalt_pi.loc[dalt_pi.chr == 'chr1']\n",
    "plt.plot(ddd.midpoint, ddd.value)"
   ]
  },
  {
   "cell_type": "code",
   "execution_count": null,
   "id": "45ce4c0f-9fc2-448a-bd4d-c648e0e34750",
   "metadata": {},
   "outputs": [],
   "source": [
    "ddd = dalt_dxy.loc[dalt_dxy.chr == 'chr1']\n",
    "plt.plot(ddd.midpoint, ddd.value)"
   ]
  },
  {
   "cell_type": "code",
   "execution_count": null,
   "id": "51fa1c45-6acc-4c0a-a8d4-4ccfc4d8d263",
   "metadata": {},
   "outputs": [],
   "source": [
    "plt.hist(dalt_pi['value'])"
   ]
  },
  {
   "cell_type": "markdown",
   "id": "a3d52c26-48b8-4a36-97bd-82dc7e19ad69",
   "metadata": {},
   "source": [
    "This file is from a figure in Murphy et al. (2022) — I digitized this using the web digitizer tool for comparison with our values. This also uses hg18 data so there is some discrepency due to coordinate shifts."
   ]
  },
  {
   "cell_type": "code",
   "execution_count": null,
   "id": "4136b190-e4db-4732-b3c2-763ffa6d6643",
   "metadata": {},
   "outputs": [],
   "source": [
    "md = pd.read_csv('../data/murphy_digitized.csv', names=('pos', 'pi'))"
   ]
  },
  {
   "cell_type": "code",
   "execution_count": null,
   "id": "411bbd1a-81a3-4dd1-9fc2-9deba338a10b",
   "metadata": {},
   "outputs": [],
   "source": [
    "fig, ax = plt.subplots(figsize=(7, 3))\n",
    "\n",
    "def to_mb(x):\n",
    "    return np.array(x) / 1e6\n",
    "\n",
    "x, y = bins_1Mbp_trimmed.pi_pairs('chr1')\n",
    "ax.plot(to_mb(x), y, label='mine filtered')\n",
    "\n",
    "#x, y = pi_alt['chr1'].pairs\n",
    "#ax.plot(to_mb(x), y, label='mine unfiltered')\n",
    "\n",
    "dalt_pi_chr1 = dalt_pi.loc[dalt_pi.chr == 'chr1']\n",
    "ax.plot(to_mb(dalt_pi_chr1.midpoint), dalt_pi_chr1.value, label=\"murillo's\")\n",
    "grid = np.arange(0, 250, 25)\n",
    "ax.set_xticks(grid)\n",
    "ax.set_xlabel('position')\n",
    "ax.set_ylabel('$\\pi$')\n",
    "ax.legend()\n",
    "ax.grid(linestyle='dashed')"
   ]
  },
  {
   "cell_type": "markdown",
   "id": "9b0f853a-9ffd-4e1a-ba38-bf16f270185b",
   "metadata": {},
   "source": [
    "The overall patterns are quite close. Note that the offset after the centromere is from the genome reference differences (hg18 vs hg38).\n",
    "\n",
    "Let's take the $\\frac{\\pi}{\\bar{pi}}$ ratio to put these on the same scale:"
   ]
  },
  {
   "cell_type": "code",
   "execution_count": null,
   "id": "a96be513-9755-4644-bade-d1ad923f408b",
   "metadata": {},
   "outputs": [],
   "source": [
    "fig, ax = plt.subplots(figsize=(7, 3))\n",
    "\n",
    "x, y = bins_1Mbp_trimmed.pi_pairs('chr1', ratio=True)\n",
    "ax.plot(to_mb(x), y, label='mine filtered')\n",
    "\n",
    "#x, y = pi_alt['chr1'].pairs\n",
    "#ax.plot(to_mb(x), y, label='mine unfiltered')\n",
    "\n",
    "dalt_pi_chr1 = dalt_pi.loc[dalt_pi.chr == 'chr1']\n",
    "ax.plot(to_mb(dalt_pi_chr1.midpoint), mean_ratio(dalt_pi_chr1.value), label=\"murillo's\")\n",
    "grid = np.arange(0, 250, 25)\n",
    "ax.set_xticks(grid)\n",
    "ax.set_xlabel('position')\n",
    "ax.set_ylabel('$\\pi$')\n",
    "ax.legend()\n",
    "ax.grid(linestyle='dashed')"
   ]
  },
  {
   "cell_type": "markdown",
   "id": "13c82d27-30ab-4fe0-98d8-3fe4152ef27b",
   "metadata": {},
   "source": [
    "Again, some of the disparity is different genome versions, especially after the centromere."
   ]
  },
  {
   "cell_type": "markdown",
   "id": "15ad25d1-73f2-41b9-b88d-19b1f19c1dd1",
   "metadata": {
    "tags": []
   },
   "source": [
    "## Dependencies\n",
    "\n",
    "Bins are spatially correlated, creating dependencies in the data. We assess and model these here.\n",
    "\n",
    "Since we reduce data at the megabase bin level, we want to look at the level of autocorrelation/autocovariance at differing levels of bins away using a covariogram. One quick way to do this is\n",
    "\n",
    "$$g(l) = \\mathrm{cov}(i, i+l)$$\n",
    "\n",
    "where $l$ is the bin index lag. Since recombination rates vary, we also look put this on the natural scale of map position.\n",
    " \n",
    "$$g_m(m) = \\mathrm{E}(\\mathrm{cov}(m(x), m(x+l)))$$\n",
    "\n",
    "\n",
    "### Model\n",
    "\n",
    "We can think about our model as,\n",
    "\n",
    "$$\n",
    "\\pi(z) = \\underbrace{\\pi_0 B(z | \\theta)}_\\text{mean field} + \\epsilon(z)\n",
    "$$\n",
    "\n",
    "Our error term $\\epsilon(z)$ is possible spatially autocorrelated. There exists some empirical covariogram function $\\hat{C}(h) = \\mathrm{cov}(Y(z), Y(z+h))$ we can estimate from the data directly. However, we are uncertain about both (1) the spatial scale of $\\hat{C}(h)$ and (2) whether the dependency is caused by autocorrelation in the mean field $B(z)$ or the error term $\\epsilon(z)$. Here, $\\epsilon(z)$ includes sampling processes and random genetic drift around the mean field.\n",
    "\n",
    "We can determine (1) directly from the empirical data. For (2), it is trickier — the clearest way is to generate Monte Carlo realizations of $\\pi(z)$ under the neutral process and the sampling process and measure the spatial scale of $C(h)$ (we do this at the very end).\n",
    "\n",
    "\n",
    "Since mutation is a Poisson point process along the chromosome, we must define the scale at which we measure it.\n",
    "\n",
    "The bigger question is whether we model the covariance structure, regardless of its source, when trying to estimate $\\theta$ from $\\pi(z)$. Fundamentally, a composite likelihood assumes independence between binned measurements of $\\pi(z)$ — in the case of learning $\\theta)$, we want to *discount* nearby observations by some amount because they're not telling us independent bits of information about $\\theta$, but rather looking at the same section of $B(z | \\theta)$. Thus, we want to control for the total autocovariance. Note that this parallels some debate about what we are controlling for in phylogenetic comparative methods, as well as causal literature. However in this latter case, note that we're not really \"controlling\" for things in the same way, as we're modeling covariance, not fixed or random effects.\n",
    "\n",
    "Another way to think about this is: if we generate a random process under $B(z | \\theta)$, do we get better inferences if we control for covariance between observations?\n",
    "\n",
    "One thing is that the mean field itself is *random*, and in this sense, it does make sense to downweight neighboring observations."
   ]
  },
  {
   "cell_type": "code",
   "execution_count": null,
   "id": "1fb6cfa1-c8b4-4404-bcfe-20c5ce7cc766",
   "metadata": {},
   "outputs": [],
   "source": [
    "pi = pi_from_pairwise_summaries(bins_1Mbp.data()['chr1'])\n",
    "\n",
    "lag = 1\n",
    "xpi = pi\n",
    "p1, p2 = xpi[:-(lag)], xpi[(lag):]\n",
    "\n",
    "plt.plot(p1, p2, linewidth=1, c='0.44', alpha=0.5)\n",
    "plt.scatter(p1, p2, c=np.arange(len(xpi[(lag):])), zorder=3)\n",
    "plt.xlabel('$\\pi(i)$')\n",
    "plt.ylabel('$\\pi(i-1)$')\n",
    "#plt.scatter(pi[:-1], pi[1:], c=pi[1:], zorder=3)\n",
    "cov = np.cov(p1, p2)\n",
    "plt.title(f\"cov(i, i-1) = {cov[0, 1]:.4}, var(i-1, i-1) = {cov[0, 0]:.4}, var(i, i) = {cov[0, 0]:.4}\")"
   ]
  },
  {
   "cell_type": "markdown",
   "id": "1436586c-a02f-4d36-a379-0be25d783602",
   "metadata": {},
   "source": [
    "Is this first-order covariance significant? Let's do a permutation test:"
   ]
  },
  {
   "cell_type": "code",
   "execution_count": null,
   "id": "2773101b-d69c-4233-a73a-51385fc3d98b",
   "metadata": {},
   "outputs": [],
   "source": [
    "nperms = 1000\n",
    "null = np.zeros(nperms)\n",
    "keep = ~(np.isnan(p1) | np.isnan(p2))\n",
    "for i in range(nperms):\n",
    "    null[i] = np.cov(p1[keep], np.random.permutation(p2[keep]))[0, 1]\n",
    "\n",
    "plt.hist(null)\n",
    "plt.axvline(np.cov(p1[keep], p2[keep])[0, 1], c='r')"
   ]
  },
  {
   "cell_type": "markdown",
   "id": "5988a20e-c759-4666-bc9a-c3e0dbe5ca69",
   "metadata": {},
   "source": [
    "## Binned Variograms and Covariograms"
   ]
  },
  {
   "cell_type": "code",
   "execution_count": null,
   "id": "a7fcefc0-4e0e-4496-87b7-9acd4a0b773a",
   "metadata": {
    "tags": []
   },
   "outputs": [],
   "source": [
    "R, M, N = bins_1Mbp.binned_funcgram(g.recmap)"
   ]
  },
  {
   "cell_type": "code",
   "execution_count": null,
   "id": "5e16d671-6ba5-4c4d-a88f-3f6265a5ffe7",
   "metadata": {},
   "outputs": [],
   "source": [
    "_ = plt.plot(R, M)"
   ]
  },
  {
   "cell_type": "code",
   "execution_count": null,
   "id": "2d0f4062-6ddc-444e-bacb-58e9f12fa408",
   "metadata": {},
   "outputs": [],
   "source": [
    "min_n = 100\n",
    "_ = plt.plot(np.ma.array(R, mask = N < min_n),\n",
    "             np.ma.array(M, mask = N < min_n))"
   ]
  },
  {
   "cell_type": "code",
   "execution_count": null,
   "id": "892dc8af-298c-4c8f-bb41-9b62fececd8a",
   "metadata": {},
   "outputs": [],
   "source": [
    "_ = plt.plot(np.ma.array(R, mask = N < min_n),\n",
    "             np.ma.array(M, mask = N < min_n))\n",
    "plt.xlim(0, 0.55)"
   ]
  },
  {
   "cell_type": "markdown",
   "id": "50d42729-34b8-46c3-8f7d-5291baf288ec",
   "metadata": {},
   "source": [
    "### Binned Covariogram"
   ]
  },
  {
   "cell_type": "code",
   "execution_count": null,
   "id": "d1aabf45-20d2-40ed-b089-6d4042dba2b0",
   "metadata": {},
   "outputs": [],
   "source": [
    "def covar(x, y):\n",
    "    keep = ~np.isnan(x) & ~np.isnan(y)\n",
    "    if keep.sum() <= 1:\n",
    "        return np.nan\n",
    "    xi, yi = x[keep], y[keep]\n",
    "    return np.cov(xi, yi)[0, 1]\n",
    "\n",
    "def corr2(x, y):\n",
    "    keep = ~np.isnan(x) & ~np.isnan(y)\n",
    "    if keep.sum() <= 1:\n",
    "        return np.nan\n",
    "    xi, yi = x[keep], y[keep]\n",
    "    return np.corrcoef(xi, yi)[0, 1]"
   ]
  },
  {
   "cell_type": "code",
   "execution_count": null,
   "id": "aa14da5a-68c9-47b9-9dcc-7adf32b00d9a",
   "metadata": {},
   "outputs": [],
   "source": [
    "R_cor, M_cor, N_cor = bins_1Mbp.binned_funcgram(g.recmap, func=corr2)"
   ]
  },
  {
   "cell_type": "code",
   "execution_count": null,
   "id": "58e4532f-2b6e-4945-8312-08332853d998",
   "metadata": {},
   "outputs": [],
   "source": [
    "R_cov, M_cov, N_cov = bins_1Mbp.binned_funcgram(g.recmap, func=covar)"
   ]
  },
  {
   "cell_type": "code",
   "execution_count": null,
   "id": "50b2e970-8d0a-4f61-ab85-0a3485d206c6",
   "metadata": {},
   "outputs": [],
   "source": [
    "for i, chrom in enumerate(bins_1Mbp.seqlens):\n",
    "    _ = plt.plot(np.ma.array(R_cor, mask = N_cor < min_n)[:, i],\n",
    "                 np.ma.array(M_cor, mask = N_cor < min_n)[:, i], label=chrom)\n",
    "\n",
    "plt.axhline(0, linestyle='dashed', c='0.22', zorder=-1)\n",
    "plt.legend(ncol=5)"
   ]
  },
  {
   "cell_type": "code",
   "execution_count": null,
   "id": "cb5f6802-b16c-41f6-9c11-6e67b950151e",
   "metadata": {},
   "outputs": [],
   "source": [
    "for i, chrom in enumerate(bins_1Mbp.seqlens):\n",
    "    _ = plt.plot(np.ma.array(R_cov, mask = N_cov < min_n)[:, i],\n",
    "                 np.ma.array(M_cov, mask = N_cov < min_n)[:, i], label=chrom)\n",
    "\n",
    "plt.axhline(0, linestyle='dashed', c='0.22', zorder=-1)\n",
    "plt.legend(ncol=5)"
   ]
  },
  {
   "cell_type": "code",
   "execution_count": null,
   "id": "2081187e-7503-4067-8124-3b6b6728abcc",
   "metadata": {},
   "outputs": [],
   "source": [
    "# exclude some outlier chromosomes\n",
    "(M_cov > 1e-7).sum(axis=0)"
   ]
  },
  {
   "cell_type": "code",
   "execution_count": null,
   "id": "1a32802a-417e-4dc0-b007-4478bc59ae75",
   "metadata": {},
   "outputs": [],
   "source": [
    "exclude = ['chr6', 'chr8']\n",
    "for i, chrom in enumerate(bins_1Mbp.seqlens):\n",
    "    if chrom in exclude:\n",
    "        continue\n",
    "    _ = plt.plot(np.ma.array(R_cov, mask = N_cov < min_n)[:, i],\n",
    "                 np.ma.array(M_cov, mask = N_cov < min_n)[:, i], label=chrom)\n",
    "\n",
    "plt.axhline(0, linestyle='dashed', c='0.22', zorder=-1)\n",
    "plt.legend(ncol=5)"
   ]
  },
  {
   "cell_type": "markdown",
   "id": "9f3ec12e-17f4-444c-a018-7f87542a1efd",
   "metadata": {},
   "source": [
    "Now let's bootstrap the diversity covariogram at the chromosome level:"
   ]
  },
  {
   "cell_type": "code",
   "execution_count": null,
   "id": "5ec3b983-ccc3-4c3d-ae82-1a46bd212a67",
   "metadata": {},
   "outputs": [],
   "source": [
    "# with pi\n",
    "\n",
    "\n",
    "bs = []\n",
    "rs = []\n",
    "stat = np.mean\n",
    "for i in range(200):\n",
    "    idx = np.random.randint(0, M.shape[1], M.shape[1])\n",
    "    bs.append(stat(M_cor[:, idx], axis=1))\n",
    "    rs.append(stat(R_cor[:, idx], axis=1))\n",
    "    \n",
    "_ = plt.plot(np.stack(rs).T, np.stack(bs).T, c='0.33', alpha=0.1)\n",
    "plt.axhline(0, linestyle='dashed', c='0.22', zorder=-10)\n",
    "plt.plot(stat(R_cor, axis=1), stat(M_cor, axis=1))\n",
    "plt.xlabel('lag (Morgans)')\n",
    "plt.ylabel('covariance')"
   ]
  },
  {
   "cell_type": "code",
   "execution_count": null,
   "id": "6b1905cd-a41f-4e05-9d61-24c74df727a7",
   "metadata": {},
   "outputs": [],
   "source": [
    "plt.plot(stat(R_cor, axis=1), stat(M_cor, axis=1))\n",
    "plt.fill_between(stat(R_cor, axis=1), *percentile_ci(np.stack(bs)), color='0.22', alpha=0.3, linewidth=0)\n",
    "plt.axhline(0, linestyle='dashed', c='0.22', zorder=-10)\n"
   ]
  },
  {
   "cell_type": "markdown",
   "id": "eeae34e4-789b-4f95-823c-19a8962a8391",
   "metadata": {},
   "source": [
    "## Simulated Kernels"
   ]
  },
  {
   "cell_type": "code",
   "execution_count": null,
   "id": "72836bfa-ff27-440d-afaf-705e82d38542",
   "metadata": {},
   "outputs": [],
   "source": [
    "msp_data = np.load('../msprime_sims/YRI_178_1Mbp.npz')\n",
    "chr1_bins, yri_pi_sims = msp_data['bins'], msp_data['pi']\n",
    "chr1_mps = 0.5*(chr1_bins[1:] + chr1_bins[:-1])"
   ]
  },
  {
   "cell_type": "code",
   "execution_count": null,
   "id": "3cab06e8-f046-46df-950d-9d168b3bbedf",
   "metadata": {},
   "outputs": [],
   "source": [
    "_ = plt.plot(chr1_mps, yri_pi_sims.T)"
   ]
  },
  {
   "cell_type": "markdown",
   "id": "b99c5845-d370-4098-94da-ac0abbfd7ce6",
   "metadata": {},
   "source": [
    "We clearly need to mask out the centromere — this is approximate since it matters little."
   ]
  },
  {
   "cell_type": "code",
   "execution_count": null,
   "id": "a99ea20e-662b-45eb-b0b9-7237d28f4753",
   "metadata": {},
   "outputs": [],
   "source": [
    "plt.plot(np.var(yri_pi_sims, axis=0))\n",
    "plt.axvline(120, c='r')\n",
    "plt.axvline(145, c='r')"
   ]
  },
  {
   "cell_type": "code",
   "execution_count": null,
   "id": "27e82fd8-8fe1-477e-840f-2b70266206fb",
   "metadata": {},
   "outputs": [],
   "source": [
    "yri_pi_sims[:, 120:145] = np.nan"
   ]
  },
  {
   "cell_type": "code",
   "execution_count": null,
   "id": "88a75c8f-4785-4c02-9bea-e85daffdbd96",
   "metadata": {},
   "outputs": [],
   "source": [
    "_ = plt.plot(chr1_mps, yri_pi_sims.T)"
   ]
  },
  {
   "cell_type": "code",
   "execution_count": null,
   "id": "2dae29f7-8d9b-4850-8ae6-0ebf95d74a20",
   "metadata": {},
   "outputs": [],
   "source": [
    "def sim_covariogram(pi, mbins, nlags=50, recmap=None, corr=True):\n",
    "    lags = list(range(1, 50))\n",
    "    covs = []\n",
    "    dists = []\n",
    "    for lag in lags:\n",
    "        if not corr:\n",
    "            covs.append(covar(pi[lag:], pi[:-lag]))\n",
    "        else:\n",
    "            covs.append(corr2(pi[lag:], pi[:-lag]))\n",
    "        dist = np.nanmean(np.abs(mbins[lag:] - mbins[:-lag]))\n",
    "        dists.append(dist)\n",
    "\n",
    "    dists, covs = np.array(dists), np.array(covs)\n",
    "    idx = np.argsort(dists)\n",
    "    dists = dists[idx]\n",
    "    covs = covs[idx]\n",
    "    return np.array(lags), dists, covs\n",
    "\n",
    "\n",
    "mbins = g.recmap.lookup('chr1', chr1_mps, cumulative=True)\n",
    "\n",
    "dists = []\n",
    "covarios = []\n",
    "for i in np.arange(yri_pi_sims.shape[0]):\n",
    "    lags, dist, covario = sim_covariogram(yri_pi_sims[i, :], mbins)\n",
    "    dists.append(dist)\n",
    "    covarios.append(covario)\n",
    "\n",
    "dists = np.array(dists)\n",
    "covarios = np.array(covarios)"
   ]
  },
  {
   "cell_type": "code",
   "execution_count": null,
   "id": "787c940c-cf6a-4313-bcbb-55ac48839302",
   "metadata": {},
   "outputs": [],
   "source": [
    "#np.array([x[1] for x in bins_1Mbp.flat_midpoints()]), np.array(chr1_mps)"
   ]
  },
  {
   "cell_type": "code",
   "execution_count": null,
   "id": "02f051ab-3cd6-42c4-9f7e-b293861441dd",
   "metadata": {},
   "outputs": [],
   "source": [
    "_ = plt.plot(dists.T, covarios.T, c='0.44', alpha=0.4)\n",
    "plt.plot(dists.mean(axis=0), covarios.mean(axis=0))"
   ]
  },
  {
   "cell_type": "markdown",
   "id": "2b496a52-47d0-441b-92e3-422e0688cd91",
   "metadata": {},
   "source": [
    "### Linkage Disequilibrium Data\n",
    "\n",
    "We use HapMap LD data to get a sense of the scale of LD decay for comparison in the figure.\n",
    " \n",
    "Data is from:\n",
    "\n",
    "```\n",
    "$ wget ftp://ftp.ncbi.nlm.nih.gov/hapmap//ld_data/2009-04_rel27/ld_chr1_YRI.txt.gz\n",
    "```"
   ]
  },
  {
   "cell_type": "code",
   "execution_count": null,
   "id": "a46d5b45-ecf5-4f8d-8420-044977227b57",
   "metadata": {},
   "outputs": [],
   "source": [
    "hapmap_cols = 'pos1,pos2,pop,rs1,rs2,D,R2,LOD,,fbin'.split(',')\n",
    "d = pd.read_csv('../data/ld_chr1_YRI.txt.gz', sep=' ', names=hapmap_cols)"
   ]
  },
  {
   "cell_type": "code",
   "execution_count": null,
   "id": "e421420c-484b-4bf5-99e1-106a1d32b6a9",
   "metadata": {},
   "outputs": [],
   "source": [
    "d.shape"
   ]
  },
  {
   "cell_type": "code",
   "execution_count": null,
   "id": "1222de5a-c5fe-481f-986d-5efc2de368b0",
   "metadata": {},
   "outputs": [],
   "source": [
    "d.head()"
   ]
  },
  {
   "cell_type": "code",
   "execution_count": null,
   "id": "fe6dd571-a2d5-4caa-8613-56425943ff0a",
   "metadata": {},
   "outputs": [],
   "source": [
    "map_pos1 = g.recmap.lookup('chr1', d['pos1'], cumulative=True)\n",
    "map_pos2 = g.recmap.lookup('chr1', d['pos2'], cumulative=True)"
   ]
  },
  {
   "cell_type": "code",
   "execution_count": null,
   "id": "f840f7c9-99bb-401f-bf55-5adcc178294f",
   "metadata": {},
   "outputs": [],
   "source": [
    "#x, y = np.abs(d['pos1'] - d['pos2']), d['R2']\n",
    "x, y = np.abs(map_pos1 - map_pos2), d['R2']"
   ]
  },
  {
   "cell_type": "code",
   "execution_count": null,
   "id": "b6070112-987d-4088-8347-121cc82f7bee",
   "metadata": {},
   "outputs": [],
   "source": [
    "idx = np.random.randint(0, len(x), 1000000)\n",
    "plt.scatter(x[idx], y[idx], c='0.22', s=4)"
   ]
  },
  {
   "cell_type": "code",
   "execution_count": null,
   "id": "e80dc04b-29ad-4c3a-acf6-c6c6afe168e0",
   "metadata": {},
   "outputs": [],
   "source": [
    "def count_bins(x, count):\n",
    "    \"\"\"\n",
    "    Create bins trying to balance number of items in a bin to count.\n",
    "    \"\"\"\n",
    "    bins = []\n",
    "    nitems = 0\n",
    "    for el in np.sort(x):\n",
    "        if nitems > count:\n",
    "            bins.append(el)\n",
    "            nitems = 0\n",
    "        nitems += 1\n",
    "    bins.append(el)\n",
    "    return bins\n",
    "ld_xbins = np.linspace(0, 0.002, 200)\n",
    "#ld_xbins = np.logspace(-6, -2, 50)\n",
    "ld_xbins = count_bins(x, 100000)\n",
    "r2_bins = stats.binned_statistic(x, y, bins=ld_xbins, statistic=np.nanmean)"
   ]
  },
  {
   "cell_type": "code",
   "execution_count": null,
   "id": "37241f14-02dc-4147-8fd4-985c848628dc",
   "metadata": {},
   "outputs": [],
   "source": [
    "fig, ax = plt.subplots()\n",
    "ldx = 0.5*(r2_bins.bin_edges[1:] + r2_bins.bin_edges[:-1])\n",
    "ax.plot(ldx, r2_bins.statistic)\n",
    "ax.set_xlim(-0.00003, 0.002)\n",
    "#ax.set_ylim(0, 0.15)"
   ]
  },
  {
   "cell_type": "code",
   "execution_count": null,
   "id": "4a363956-b924-4419-9abf-b41803380cdb",
   "metadata": {},
   "outputs": [],
   "source": [
    "xd, yd = np.abs(d['pos1'] - d['pos2']), d['R2']\n",
    "r2d_bins = stats.binned_statistic(xd, yd, bins=100)\n",
    "plt.plot(r2d_bins.bin_edges[1:]*1e-8, r2_bins.statistic)"
   ]
  },
  {
   "cell_type": "markdown",
   "id": "36f9365a-b749-4741-924b-884bc7f3d42d",
   "metadata": {},
   "source": [
    "### Covariogram Figure for Paper"
   ]
  },
  {
   "cell_type": "code",
   "execution_count": null,
   "id": "f25c3a5a-6540-44b7-ba1d-14ec37928013",
   "metadata": {},
   "outputs": [],
   "source": [
    "fig, ax = plt.subplots()\n",
    "\n",
    "ax.plot(stat(R_cor, axis=1), np.nanmean(M_cor, axis=1), c='cornflowerblue',\n",
    "        label='observed (YRI)', zorder=2)\n",
    "covario_cis = percentile_ci(np.stack(bs).T)\n",
    "ax.fill_between(stat(R_cor, axis=1), *covario_cis, color='cornflowerblue',\n",
    "                alpha=0.3, linewidth=0, zorder=2)\n",
    "ax.axhline(0, linestyle='dashed', c='0.22', zorder=-10)\n",
    "\n",
    "sim_covario_cis = percentile_ci(covarios.T)\n",
    "ax.fill_between(dists.mean(axis=0), *sim_covario_cis, color='green', \n",
    "                linewidth=0, alpha=0.2)\n",
    "ax.plot(dists.mean(axis=0), covarios.mean(axis=0), color='green', \n",
    "        alpha=0.4, label='neutral simulations')\n",
    "sim_covario_cis[0].shape\n",
    "ax.set_xlim(0, 0.5)\n",
    "\n",
    "top_inset = 0.73\n",
    "inset_ax = ax.inset_axes((0.6, top_inset, 0.28, 0.28))\n",
    "\n",
    "inset_ax.plot(*lowess(r2_bins.statistic, ldx, frac=0.008).T, c='0.22')\n",
    "inset_ax.set_ylim(0.00, 0.2)\n",
    "inset_ax.set_xlim(-0.00005, 0.002)\n",
    "#inset_ax.axhline(0, linestyle='dashed', c='0.22', zorder=10, linewidth=1)\n",
    "inset_ax.spines['right'].set_visible(True)\n",
    "inset_ax.spines['top'].set_visible(True)\n",
    "inset_ax.set_ylabel(\"LD $R^2$\")\n",
    "\n",
    "# ax2 = ax.inset_axes((0.25, top_inset, 0.3, 0.3))\n",
    "# ax2.plot(r2_bins.bin_edges[1:]*1e-8, r2_bins.statistic)\n",
    "# ax2.spines['right'].set_visible(True)\n",
    "# ax2.spines['top'].set_visible(True)\n",
    "# ax2.set_ylabel(\"$R^2$\")\n",
    "# ax2.set_ylim(0., 0.3)\n",
    "\n",
    "ax.set_ylabel('genomic autocorrelation of $\\pi$')\n",
    "ax.set_xlabel('lag (Morgans)')\n",
    "ax.legend(loc='lower left')"
   ]
  },
  {
   "cell_type": "code",
   "execution_count": null,
   "id": "70b1dde2-f658-47b5-b0db-11ea2de8f565",
   "metadata": {},
   "outputs": [],
   "source": []
  }
 ],
 "metadata": {
  "kernelspec": {
   "display_name": "Python 3 (ipykernel)",
   "language": "python",
   "name": "python3"
  },
  "language_info": {
   "codemirror_mode": {
    "name": "ipython",
    "version": 3
   },
   "file_extension": ".py",
   "mimetype": "text/x-python",
   "name": "python",
   "nbconvert_exporter": "python",
   "pygments_lexer": "ipython3",
   "version": "3.10.8"
  }
 },
 "nbformat": 4,
 "nbformat_minor": 5
}
