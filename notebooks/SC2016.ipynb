{
 "cells": [
  {
   "cell_type": "code",
   "execution_count": 1,
   "id": "b3f67188-5df1-46f0-967a-7d6efcbac692",
   "metadata": {},
   "outputs": [],
   "source": [
    "%load_ext autoreload\n",
    "%autoreload 2\n",
    "%reload_ext autoreload"
   ]
  },
  {
   "cell_type": "code",
   "execution_count": 2,
   "id": "84da3a92-6bd2-4f12-a94a-6bec648a71cb",
   "metadata": {},
   "outputs": [],
   "source": [
    "from collections import defaultdict\n",
    "import numpy as np\n",
    "from scipy.optimize import fsolve\n",
    "import matplotlib.pyplot as plt\n",
    "\n",
    "from bgspy.theory import bgs_rec, bgs_segment_sc16, bgs_segment\n",
    "from bgspy.parallel import MapPosChunkIterator\n",
    "from bgspy.classic import calc_B_SC16_chunk_worker\n",
    "from bgspy.genome import Genome"
   ]
  },
  {
   "cell_type": "code",
   "execution_count": 3,
   "id": "a3ab60ce-414c-4b40-9034-a12cb97fb903",
   "metadata": {},
   "outputs": [],
   "source": [
    "plt.rcParams['figure.figsize'] = [8, 4]\n",
    "plt.rcParams['figure.dpi'] = 200\n",
    "plt.style.use('./buffalo.mplstyle')"
   ]
  },
  {
   "cell_type": "code",
   "execution_count": 4,
   "id": "f2638a21-85d0-42d0-b66a-7fa193b721df",
   "metadata": {},
   "outputs": [
    {
     "data": {
      "text/plain": [
       "(array([101006.69930408,    999.9991813 ]),\n",
       " array({'nfev': 5, 'fjac': array([[-9.99999974e-01, -2.29243588e-04],\n",
       "        [ 2.29243588e-04, -9.99999974e-01]]), 'r': array([ 9.90033240e-06, -9.80409052e-06,  1.00000268e-03]), 'qtf': array([ 6.92011542e-14, -3.34859137e-13]), 'fvec': array([1.77635684e-15, 8.88178420e-16])},\n",
       "       dtype=object),\n",
       " array(1),\n",
       " array('The solution converged.', dtype='<U23'))"
      ]
     },
     "execution_count": 4,
     "metadata": {},
     "output_type": "execute_result"
    }
   ],
   "source": [
    "bgs_segment_sc16(1e-8, 1e-5, 1000, 1e-4, 1000, full_output=True)"
   ]
  },
  {
   "cell_type": "code",
   "execution_count": 6,
   "id": "7338d19e-ec85-4de8-b387-f4c8b4147a7e",
   "metadata": {},
   "outputs": [
    {
     "data": {
      "text/plain": [
       "1800.0"
      ]
     },
     "execution_count": 6,
     "metadata": {},
     "output_type": "execute_result"
    }
   ],
   "source": [
    "1.8e8 / 100000"
   ]
  },
  {
   "cell_type": "code",
   "execution_count": 16,
   "id": "f4ac34ee-2074-4dde-9f08-366a42869782",
   "metadata": {},
   "outputs": [
    {
     "data": {
      "text/plain": [
       "0.9999810602791763"
      ]
     },
     "execution_count": 16,
     "metadata": {},
     "output_type": "execute_result"
    }
   ],
   "source": [
    "bgs_segment_sc16(1e-8, 1e-4, 1000, 1e-1, N=1000)**2000"
   ]
  },
  {
   "cell_type": "code",
   "execution_count": 13,
   "id": "3610a8f2-2269-49f7-800a-e4745a5e9568",
   "metadata": {},
   "outputs": [],
   "source": [
    "sh = np.logspace(-5, -1, 50)"
   ]
  },
  {
   "cell_type": "code",
   "execution_count": 18,
   "id": "7352520f-3fcd-41de-83b9-9fb8b7af4480",
   "metadata": {},
   "outputs": [],
   "source": [
    "mu = np.logspace(-9, -7, 3)[:, None, None]\n",
    "sh = np.logspace(-5, -1, 4)[None, :, None]\n",
    "\n",
    "sc16 = bgs_segment_sc16(mu, sh, [1000, 1000, 1000], [1e-8, 1e-8, 1e-8], 1000)"
   ]
  },
  {
   "cell_type": "code",
   "execution_count": 51,
   "id": "c5a6c44c-32bb-4163-b0f4-7ae7a10c9f2c",
   "metadata": {},
   "outputs": [
    {
     "data": {
      "text/plain": [
       "(3, 4, 3)"
      ]
     },
     "execution_count": 51,
     "metadata": {},
     "output_type": "execute_result"
    }
   ],
   "source": [
    "sc16.shape"
   ]
  },
  {
   "cell_type": "code",
   "execution_count": null,
   "id": "fadcb70f-8fce-4399-b442-ea689755f424",
   "metadata": {},
   "outputs": [],
   "source": [
    "mu = np.logspace(-9, -7, 3)[:, None, None]\n",
    "sh = np.logspace(-5, -1, 4)[None, :, None]\n",
    "\n",
    "n = 100\n",
    "L = np.random.randint(1, 100, n)\n",
    "rbp = np.random.uniform(1e-9, 1e-7, n)\n",
    "\n",
    "\n",
    "\n",
    "def manual_vectorization(mu, sh, L, rbp):\n",
    "    B = defaultdict(list)\n",
    "    for i in range(len(L)):\n",
    "        for s in np.nditer(sh):\n",
    "            for m in np.nditer(mu):\n",
    "                b = bgs_segment_sc16(m, s, L[i], rbp[i], 1000)\n",
    "                B[(float(m), float(s))].append(float(b))\n",
    "    for key, val in B.items():\n",
    "        B[key] = np.prod(np.array(val))\n",
    "    return B\n",
    "            \n",
    "\n",
    "np.prod(bgs_segment_sc16(mu, sh, L, rbp, 1000), axis=2)"
   ]
  },
  {
   "cell_type": "code",
   "execution_count": 83,
   "id": "09b26c9f-0bdc-4e2d-8152-a751f4d9bef8",
   "metadata": {},
   "outputs": [
    {
     "data": {
      "text/plain": [
       "defaultdict(list,\n",
       "            {(1e-09, 1e-05): 0.9999995275214734,\n",
       "             (1e-08, 1e-05): 0.9999952752257816,\n",
       "             (1e-07, 1e-05): 0.9999527533439342,\n",
       "             (1e-09, 0.00021544346900318823): 0.9998227361967416,\n",
       "             (1e-08, 0.00021544346900318823): 0.9982288812972477,\n",
       "             (1e-07, 0.00021544346900318823): 0.9824397265782665,\n",
       "             (1e-09, 0.004641588833612777): 0.9989737276427394,\n",
       "             (1e-08, 0.004641588833612777): 0.9897845698902533,\n",
       "             (1e-07, 0.004641588833612777): 0.902418518629823,\n",
       "             (1e-09, 0.1): 0.999952201911636,\n",
       "             (1e-08, 0.1): 0.9995221219125683,\n",
       "             (1e-07, 0.1): 0.9952314825838448})"
      ]
     },
     "execution_count": 83,
     "metadata": {},
     "output_type": "execute_result"
    }
   ],
   "source": [
    "manual_vectorization(mu, sh, L, rbp)"
   ]
  },
  {
   "cell_type": "code",
   "execution_count": 71,
   "id": "c628d4d0-89bc-423e-841a-8acf7c383e6b",
   "metadata": {},
   "outputs": [],
   "source": [
    "from scipy.interpolate import interp2d\n",
    "\n",
    "def interpolate_bgs_sc16(mu, sh, L, rbp, N):\n",
    "    interpols = dict()\n",
    "    nmu, nsh = len(mu), len(sh)\n",
    "    for i, s in enumerate(np.nditer(sh)):\n",
    "        for j, m in enumerate(np.nditer(mu)):\n",
    "            z = bgs_segment_sc16(m, s, L, rbp[:, None], N)\n",
    "            key = (float(m), float(s))\n",
    "            #key = (i, j)\n",
    "            interpols[key] = interp2d(L, rbp, z)\n",
    "    def func(L, rbp):\n",
    "        return np.array([interpol(L, rbp) for key, interpol in interpols.items()]).reshape(4, 3).T\n",
    "    return func\n",
    "\n",
    "\n",
    "mu = np.logspace(-9, -7, 3)\n",
    "sh = np.logspace(-5, -1, 4)\n",
    "L = np.linspace(1, 1000, 100).astype(int)\n",
    "rf = np.logspace(-12, -7, 100)"
   ]
  },
  {
   "cell_type": "code",
   "execution_count": 72,
   "id": "3bc4c744-af45-493d-823c-5b9b3128e1b3",
   "metadata": {},
   "outputs": [],
   "source": [
    "sc16_interpol = interpolate_bgs_sc16(mu, sh, np.linspace(1, 1000, 100).astype(int), np.logspace(-12, -7, 11), N=1000)"
   ]
  },
  {
   "cell_type": "code",
   "execution_count": 73,
   "id": "8e0fc1a6-1a2d-46c2-92f3-ed8010940cf2",
   "metadata": {},
   "outputs": [
    {
     "name": "stdout",
     "output_type": "stream",
     "text": [
      "147 µs ± 937 ns per loop (mean ± std. dev. of 7 runs, 10,000 loops each)\n"
     ]
    }
   ],
   "source": [
    "%%timeit\n",
    "\n",
    "sc16_interpol(1000, 1e-8)"
   ]
  },
  {
   "cell_type": "code",
   "execution_count": 74,
   "id": "7f10dd08-14bb-4dd6-98b6-9ac31404f67c",
   "metadata": {},
   "outputs": [
    {
     "name": "stdout",
     "output_type": "stream",
     "text": [
      "2.02 ms ± 38.8 µs per loop (mean ± std. dev. of 7 runs, 100 loops each)\n"
     ]
    }
   ],
   "source": [
    "%%timeit\n",
    "\n",
    "bgs_segment_sc16(mu, sh[:, None], 1000, 1e-8, N=1000)"
   ]
  },
  {
   "cell_type": "code",
   "execution_count": 75,
   "id": "d45b8432-6f0c-4e69-ae08-13b27c2a7cc0",
   "metadata": {},
   "outputs": [
    {
     "data": {
      "text/plain": [
       "(array([[0.9999999 , 0.99996286, 0.99978514, 0.99999   ],\n",
       "        [0.99999901, 0.99962902, 0.99785356, 0.99990001],\n",
       "        [0.9999901 , 0.99633012, 0.9787512 , 0.9990005 ]]),\n",
       " array([[0.9999999 , 0.99996286, 0.99978514, 0.99999   ],\n",
       "        [0.99999901, 0.99962902, 0.99785356, 0.99990001],\n",
       "        [0.9999901 , 0.99633012, 0.9787512 , 0.9990005 ]]))"
      ]
     },
     "execution_count": 75,
     "metadata": {},
     "output_type": "execute_result"
    }
   ],
   "source": [
    "res_interpol = sc16_interpol(1000, 1e-8)\n",
    "res_manual = bgs_segment_sc16(mu[:, None], sh, 1000, 1e-8, N=1000)\n",
    "res_interpol, res_manual"
   ]
  },
  {
   "cell_type": "code",
   "execution_count": 36,
   "id": "bc5c23e5-c10e-4b46-9ebd-b38a80d6204f",
   "metadata": {},
   "outputs": [
    {
     "data": {
      "text/plain": [
       "array([[0.9999999 , 0.99999901, 0.9999901 , 0.99996286],\n",
       "       [0.99962902, 0.99633012, 0.99978514, 0.99785356],\n",
       "       [0.9787512 , 0.99999   , 0.99990001, 0.9990005 ]])"
      ]
     },
     "execution_count": 36,
     "metadata": {},
     "output_type": "execute_result"
    }
   ],
   "source": [
    "sc16_interpol(1000, 1e-8)"
   ]
  },
  {
   "cell_type": "code",
   "execution_count": 19,
   "id": "8cd949e1-83fa-4965-9fdf-7bf4d8254fbb",
   "metadata": {},
   "outputs": [
    {
     "name": "stdout",
     "output_type": "stream",
     "text": [
      "ignoring HapMap header...\n",
      "parsing recmap as HapMap formatted (chrom, end, rate)\n",
      "completed segmenting chr10.\n",
      "looking up map positions...\tdone.\n"
     ]
    }
   ],
   "source": [
    "g = Genome('hg38', seqlens_file=\"../data/annotation/hg38_seqlens.tsv\", chroms=['chr10'])\n",
    "g.load_annot(\"../data/annotation/conserved_by_chrom/chr10.bed\")\n",
    "g.load_recmap(\"../data/annotation/hapmap/genetic_map_GRCh37_chr10.txt\")\n",
    "g.create_segments(split_length=10_000)\n",
    "g\n",
    "chunks = MapPosChunkIterator(g,  mu.squeeze(), sh.squeeze(), 1000, 5000)"
   ]
  },
  {
   "cell_type": "code",
   "execution_count": 20,
   "id": "c56ebaad-a6f2-4685-9919-3b5c7e47fc34",
   "metadata": {},
   "outputs": [],
   "source": [
    "chunk = next(chunks)"
   ]
  },
  {
   "cell_type": "code",
   "execution_count": 22,
   "id": "23a791a9-9e9f-4aa9-aafa-84522c84f0dc",
   "metadata": {},
   "outputs": [
    {
     "name": "stderr",
     "output_type": "stream",
     "text": [
      "/home/vsb/projects/bprime/bgspy/theory.py:50: RuntimeWarning: invalid value encountered in log\n",
      "  return [np.log((np.exp(2*sh*Ne) - 1)/(2*U*sh*Ne)) - np.log(T),\n",
      "/home/vsb/projects/bprime/bgspy/theory.py:56: UserWarning: no solution found!\n",
      "  warnings.warn(\"no solution found!\")\n"
     ]
    }
   ],
   "source": [
    "res = calc_B_SC16_chunk_worker(chunk)"
   ]
  },
  {
   "cell_type": "code",
   "execution_count": 29,
   "id": "03a1f09a-b41f-40d8-b96d-aa2fc0ec6f4c",
   "metadata": {},
   "outputs": [
    {
     "data": {
      "text/plain": [
       "array([[9.98018565e-01, 4.74764058e-01, 1.25745113e-02, 8.15027354e-01],\n",
       "       [9.86206794e-01, 5.46737430e-03, 4.13402564e-14, 2.36296205e-01],\n",
       "       [5.93488549e-01, 8.40677729e-80,            nan,            nan]])"
      ]
     },
     "execution_count": 29,
     "metadata": {},
     "output_type": "execute_result"
    }
   ],
   "source": [
    "res[0].prod(axis=2)"
   ]
  },
  {
   "cell_type": "code",
   "execution_count": 30,
   "id": "c821df44-e36c-4f72-a230-c66e91bbbc0d",
   "metadata": {},
   "outputs": [
    {
     "data": {
      "text/plain": [
       "array([[9.98018565e-01, 4.74764058e-01, 1.25745113e-02, 8.15027354e-01],\n",
       "       [9.86206794e-01, 5.46737430e-03, 4.13402564e-14, 2.36296205e-01],\n",
       "       [5.93488549e-01, 8.40677729e-80,            nan,            nan]])"
      ]
     },
     "execution_count": 30,
     "metadata": {},
     "output_type": "execute_result"
    }
   ],
   "source": [
    "np.exp(np.log(res[0]).sum(axis=2))"
   ]
  },
  {
   "cell_type": "code",
   "execution_count": 36,
   "id": "62a060c8-6d07-4c28-a27c-33c55ead89f9",
   "metadata": {},
   "outputs": [
    {
     "data": {
      "text/plain": [
       "(6239,)"
      ]
     },
     "execution_count": 36,
     "metadata": {},
     "output_type": "execute_result"
    }
   ],
   "source": [
    "(res[0][1, 2, :]).shape"
   ]
  },
  {
   "cell_type": "code",
   "execution_count": 40,
   "id": "dafc531b-2883-404d-90fc-b3b08f9c23e8",
   "metadata": {},
   "outputs": [
    {
     "data": {
      "text/plain": [
       "array([0.93238786, 0.9518603 ,        nan, ..., 0.99994065, 0.99997858,\n",
       "       0.99986784])"
      ]
     },
     "execution_count": 40,
     "metadata": {},
     "output_type": "execute_result"
    }
   ],
   "source": [
    "res[1][2, 2]"
   ]
  },
  {
   "cell_type": "code",
   "execution_count": 15,
   "id": "272cbd7e-da96-44ff-869d-9b9dba1fcc6d",
   "metadata": {},
   "outputs": [
    {
     "data": {
      "text/plain": [
       "(0.993, 1.002)"
      ]
     },
     "execution_count": 15,
     "metadata": {},
     "output_type": "execute_result"
    },
    {
     "data": {
      "image/png": "[encoded data removed]",
      "text/plain": [
       "<Figure size 1600x800 with 1 Axes>"
      ]
     },
     "metadata": {
      "needs_background": "light"
     },
     "output_type": "display_data"
    }
   ],
   "source": [
    "mu = 1e-8\n",
    "rf = 0.001\n",
    "rf = 1e-8\n",
    "sh = np.logspace(-5, -1, 100)\n",
    "L = 1000\n",
    "N = 1000\n",
    "sc16 = bgs_segment_sc16(mu, sh, L, rf, N)\n",
    "\n",
    "plt.plot(sh, sc16)\n",
    "plt.plot(sh, bgs_rec(mu, sh, L, rf))\n",
    "plt.plot(sh, bgs_segment(mu, sh, L, 1e-8, rf), linestyle='dashed')\n",
    "plt.semilogx()\n",
    "plt.axhline(1, linestyle='dashed', c='0.22')\n",
    "#plt.ylim(np.nanmin(sc16)*0.999, 1.0002)\n",
    "plt.ylim(0.993, 1.002)"
   ]
  },
  {
   "cell_type": "code",
   "execution_count": null,
   "id": "6332e0b6-5681-4a31-a72a-e33bc9d9011a",
   "metadata": {},
   "outputs": [],
   "source": []
  }
 ],
 "metadata": {
  "kernelspec": {
   "display_name": "Python 3 (ipykernel)",
   "language": "python",
   "name": "python3"
  },
  "language_info": {
   "codemirror_mode": {
    "name": "ipython",
    "version": 3
   },
   "file_extension": ".py",
   "mimetype": "text/x-python",
   "name": "python",
   "nbconvert_exporter": "python",
   "pygments_lexer": "ipython3",
   "version": "3.8.12"
  }
 },
 "nbformat": 4,
 "nbformat_minor": 5
}
