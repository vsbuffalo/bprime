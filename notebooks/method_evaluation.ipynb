{
 "cells": [
  {
   "cell_type": "markdown",
   "id": "38e95445-9cb9-4c7e-978f-aaaf10b4f3a5",
   "metadata": {},
   "source": [
    "# Maximum Likelihood Method Evaluation"
   ]
  },
  {
   "cell_type": "code",
   "execution_count": 1,
   "id": "dcaceecd-6876-4bc5-a1f8-ec9b859369f8",
   "metadata": {},
   "outputs": [],
   "source": [
    "%load_ext autoreload\n",
    "%autoreload 2\n",
    "%reload_ext autoreload"
   ]
  },
  {
   "cell_type": "code",
   "execution_count": 2,
   "id": "cf754ba6-5757-4f21-8fbe-f46fe5f9047f",
   "metadata": {},
   "outputs": [],
   "source": [
    "import os\n",
    "import pickle\n",
    "import pandas as pd\n",
    "import numpy as np\n",
    "import seaborn as sns\n",
    "from collections import defaultdict\n",
    "import matplotlib.pyplot as plt\n",
    "\n",
    "from bgspy.utils import get_files, load_pickle, rel_error, abs_error, latex_scientific_notation\n",
    "from bgspy.optim import optim_diagnotics_plot"
   ]
  },
  {
   "cell_type": "code",
   "execution_count": 3,
   "id": "194045e0-4fe8-40ab-9b4f-3fd9d0b7c8d5",
   "metadata": {},
   "outputs": [],
   "source": [
    "plt.rcParams['figure.figsize'] = [10, 5]\n",
    "plt.rcParams['figure.dpi'] = 200\n",
    "plt.style.use('./buffalo.mplstyle')\n"
   ]
  },
  {
   "cell_type": "code",
   "execution_count": 4,
   "id": "2a62f030-446e-460f-aeac-804375983ccf",
   "metadata": {
    "tags": []
   },
   "outputs": [
    {
     "name": "stderr",
     "output_type": "stream",
     "text": [
      "/home/vsb/projects/bprime/bgspy/data.py:7: TqdmExperimentalWarning: Using `tqdm.autonotebook.tqdm` in notebook mode. Use `tqdm.tqdm` instead to force console mode (e.g. in jupyter console)\n",
      "  import tqdm.autonotebook as tqdm\n"
     ]
    }
   ],
   "source": [
    "from bgspy.likelihood import negll_simplex\n",
    "\n",
    "def neutral_params(nt, nf, pi0, mu):\n",
    "    W = np.zeros((nt, nf))\n",
    "    #W[0, :] = 1  # all neutral\n",
    "    theta = np.empty(2 + nt*nf)\n",
    "    theta[0] = pi0\n",
    "    theta[1] = mu\n",
    "    theta[2:] = W.flat\n",
    "    return theta\n",
    "\n",
    "def null_negloglik(fit):\n",
    "    Y = fit.Y\n",
    "    nS, nD = Y.T\n",
    "    pi0 = nD.sum() / (nS.sum()+nD.sum())\n",
    "    log_pi = np.log(pi0)\n",
    "    ll = np.sum(nD*log_pi + nS*np.log1p(-np.exp(log_pi)))\n",
    "    return -ll\n",
    "\n",
    "def lik_ratio(fit):\n",
    "    ll_full = -fit.nll_\n",
    "    ll_reduced = -null_negloglik(fit)\n",
    "    LR = -2 * (ll_reduced - ll_full)\n",
    "    return LR\n"
   ]
  },
  {
   "cell_type": "markdown",
   "id": "9eb6709f-1f56-47e4-9b9a-6c8c46512d8d",
   "metadata": {},
   "source": [
    "## Load Data"
   ]
  },
  {
   "cell_type": "code",
   "execution_count": 5,
   "id": "d860eed9-42f7-41c8-aff0-f945d734c2ab",
   "metadata": {
    "tags": []
   },
   "outputs": [],
   "source": [
    "DIR_default = '../slim_sims/chrombgs/runs/conserved_cds_utrs_phastcons_merged__hapmap__fixed__demography/mle/default/1000000/N__1000/synthetic__chr1_chr2_chr3_chr4_chr5/'\n",
    "DIR_full = '../slim_sims/chrombgs/runs/conserved_cds_utrs_phastcons_merged__hapmap__fixed__demography/mle/full/1000000/N__1000/synthetic__chr1_chr2_chr3_chr4_chr5//'\n",
    "mles = get_files(DIR_default, '_mle.pkl') + get_files(DIR_full, '_mle.pkl')"
   ]
  },
  {
   "cell_type": "code",
   "execution_count": null,
   "id": "060f427e-123c-453a-ab0f-63798ecb9ea2",
   "metadata": {
    "tags": []
   },
   "outputs": [
    {
     "name": "stderr",
     "output_type": "stream",
     "text": [
      " 91%|██████████████████████████████████████████████████████████████████████████████████████████████████████████████████████████████████████████████████████████████████████████████████▉                  | 1017/1120 [00:14<00:01, 54.43it/s]"
     ]
    }
   ],
   "source": [
    "from copy import copy\n",
    "import warnings\n",
    "from tqdm import tqdm\n",
    "import os\n",
    "\n",
    "def merge_chrom_metadata(md, ignore=('chrom', 'chrom_length', 'subs', 'dfe', 'recmap_file', 'seqlens_file', 'sim_tree_file')):\n",
    "    \"\"\"\n",
    "    The simulation trees come in with *a lot* of metadata. This is all in a dictionary\n",
    "    per-individul-sim, but each MLE fit is on a synthetic chromosome. So this checks\n",
    "    that all metadata not in ignore (i.e. will be unique per sim ) is the same.\n",
    "    and outputs it.\n",
    "    \"\"\"\n",
    "    params = []\n",
    "    def unpack(x):\n",
    "        if isinstance(x, list) and len(x) == 1:\n",
    "            return x[0]\n",
    "        return x\n",
    "    # the Bs file is packaged with the chromosome metedata, extract it first\n",
    "    bs_file = md.pop('bs_file')\n",
    "    for chrom, dat in md.items():\n",
    "        row = {k: unpack(dat[k]) for k in dat.keys() if k not in ignore}\n",
    "        if len(params):\n",
    "            assert list(row.values()) == list(params[-1].values()), (row, params[-1])\n",
    "        params.append(row)\n",
    "    md = params[-1]\n",
    "    md['bs_file'] = bs_file\n",
    "    return md\n",
    "\n",
    "\n",
    "def read_fixed_sh_sim_fits(mle_files):\n",
    "    rows = []\n",
    "    for fit_file in tqdm(mle_files):\n",
    "        fits = load_pickle(fit_file)\n",
    "        mb, mbp = fits['mb'], fits['mbp']\n",
    "        mb_md = merge_chrom_metadata(mb.metadata)\n",
    "        mbp_md = merge_chrom_metadata(mbp.metadata)        \n",
    "        assert mb_md == mbp_md, \"B and B' having differing metadata!\"\n",
    "        row = dict(mbp_md)\n",
    "        # now get the fits for each chromosome\n",
    "        for model, model_fit in fits.items():\n",
    "            LR = lik_ratio(model_fit)\n",
    "            row = copy(row)\n",
    "            theta = model_fit.param_dict()\n",
    "            row['model'] = model\n",
    "            row['LR'] = LR\n",
    "            row[f'est_mu'] = model_fit.mle_mu\n",
    "            row[f'est_pi0'] = model_fit.mle_pi0\n",
    "            sim_sh = int(np.round(np.log10(row['sh']), 8))\n",
    "            W = np.array(model_fit.mle_W)\n",
    "            with np.errstate(under='ignore'):\n",
    "                row['R2'] = model_fit.R2()\n",
    "                row['est_mean_sh'] = np.average(model_fit.t, weights=W[:, 0])\n",
    "            row['features'] = '-'.join(model_fit.features)\n",
    "            row['sh_rel_error'] = rel_error(row['est_mean_sh'], row['sh'], as_percent=False)\n",
    "            row['fit'] = model_fit\n",
    "            row['negll'] = model_fit.nll_\n",
    "            rows.append(row)\n",
    "    return pd.DataFrame(rows)\n",
    "\n",
    "\n",
    "d = read_fixed_sh_sim_fits(mles)\n",
    "d['track_type'] = [dict(default='sparse track', full='full track')[x.replace('bmap__', '').replace('.pkl', '')] for x in d['bs_file']]\n",
    "model_labels = dict(mb='classic B', mbp=\"new B'\")\n",
    "d['type'] = [f\"{track}, {model_labels[model]}, {exp}\" for track, model, exp in zip(d['track_type'], d['model'], d['exp_rate'])]\n",
    "d['log10_sh'] = np.log10(d['sh'])\n",
    "d['log10_est_mean_sh'] = np.log10(d['est_mean_sh'])"
   ]
  },
  {
   "cell_type": "code",
   "execution_count": null,
   "id": "ae163079-d7be-4c75-a330-03d88c6592ec",
   "metadata": {
    "tags": []
   },
   "outputs": [],
   "source": [
    "dg = d.groupby(['sim_mu', 'N', 'annot_file', 'h', 'mu', 'name', 'sh', 'bs_file', 'features', 'track_type', 'type', 'model']).mean().reset_index()"
   ]
  },
  {
   "cell_type": "code",
   "execution_count": null,
   "id": "54a80895-25ca-4d73-a50a-1438e47c667b",
   "metadata": {
    "tags": []
   },
   "outputs": [],
   "source": [
    "dg['sh_rel_error'] = [rel_error(est, real, as_percent=False) for est, real in zip(dg['est_mean_sh'], dg['sh'])]\n",
    "dg['sh_abs_error'] = [abs_error(est, real) for est, real in zip(dg['est_mean_sh'], dg['sh'])]\n",
    "dg['bias'] = [(est-real) for est, real in zip(dg['est_mean_sh'], dg['sh'])]"
   ]
  },
  {
   "cell_type": "code",
   "execution_count": null,
   "id": "01fe16e2-e8e4-49e6-b88e-d00a3fbed296",
   "metadata": {
    "tags": []
   },
   "outputs": [],
   "source": [
    "dg.tail()"
   ]
  },
  {
   "cell_type": "markdown",
   "id": "36fc7343-1143-4bc5-a5bd-d58631971d67",
   "metadata": {},
   "source": [
    "## Evaluation of Fixed-Selection Coefficient Simulations and MLE fits\n",
    "\n",
    "### Constant Population size, Additive Effects"
   ]
  },
  {
   "cell_type": "code",
   "execution_count": null,
   "id": "43c52a4d-ad8d-4867-a095-7a8b9d18887e",
   "metadata": {
    "tags": []
   },
   "outputs": [],
   "source": []
  },
  {
   "cell_type": "code",
   "execution_count": null,
   "id": "26a7ac5d-0f31-4d07-b39e-878cbd9978dc",
   "metadata": {
    "tags": []
   },
   "outputs": [],
   "source": [
    "fig, ax = plt.subplots(nrows=3, ncols=2, sharey='row', figsize=(4.5, 4), layout='constrained')\n",
    "\n",
    "# Define common variables\n",
    "order = [\"sparse track, new B', False\",\n",
    "         \"full track, new B', False\",\n",
    "         \"sparse track, classic B, False\",\n",
    "         \"full track, classic B, False\",]\n",
    "color_palette = sns.color_palette(\"Paired\", len(order))\n",
    "xx = np.arange(6)\n",
    "xtick_labels = [\"$10^{-5}$\", \"$10^{-4}$\", \"$10^{-3}$\", \"0.005\", \"0.01\", \"0.05\"]\n",
    "for col, mu_value, y_label in zip(range(2), [1.5e-8, 0.5e-8], ['1.5e-8', '0.5e-8']):\n",
    "    df = d.loc[(d['exp_rate'] == False) & (d['mu'] == mu_value) & (d['sh'] > 1e-8) & (d['h'] == 0.5)].sort_values(['type', 'model'])\n",
    "\n",
    "    # Loop through rows\n",
    "    for row, plot_y, ylabel in zip(range(3), ['R2', 'log10_est_mean_sh', 'est_mu'], ['$R^2$', 'average $\\widehat{s}$', '$\\widehat{\\mu}$']):\n",
    "        fax = ax[row, col]\n",
    "        sns.pointplot(x='sh', y=plot_y, data=df, hue='type', ax=fax, hue_order=order, errorbar=None, scale=0.6,\n",
    "                      dodge=0.2, palette=color_palette)\n",
    "        fax.legend_.remove()\n",
    "        mulab = latex_scientific_notation(mu_value)\n",
    "        if row == 0:\n",
    "            r2_ticks = np.arange(0, 0.51, 0.1)\n",
    "            fax.set_yticks(r2_ticks)\n",
    "            fax.set_yticklabels([f'{tick * 100:.0f}%' for tick in r2_ticks], fontsize=6)\n",
    "            fax.set_title(f\"$\\mu_\\\\mathrm{{del}}$ = {mulab}\")\n",
    "        elif row == 1:\n",
    "            ylabs = np.array([-6, -5, -4, -3, -2, -1 ])\n",
    "            fax.set_yticks(ylabs)\n",
    "            fax.set_yticklabels([f'$10^{{{tick}}}$' for tick in ylabs], fontsize=6)\n",
    "            true_sh = [np.log10(float(x.get_text())) for x in fax.get_xticklabels()]\n",
    "            x_positions = np.arange(len(true_sh))\n",
    "            fax.hlines(true_sh, x_positions - 0.35, x_positions + 0.35, color='0.22', linewidth=1.5, zorder=-1)\n",
    "            fax.set_ylim(None, 0.001)\n",
    "        elif row == 2:\n",
    "            fax.axhline(mu_value, c='0.22', linestyle='solid', linewidth=1.5, zorder=-1)\n",
    "            fax.annotate(f\"$\\mu_\\\\mathrm{{del}}$ = {mulab}\", (0, 0.66*mu_value), fontsize=5, c='0.22')\n",
    "            fax.semilogy()\n",
    "            fax.tick_params(labelsize=6)\n",
    "            \n",
    "        if row != 2:\n",
    "            fax.set_xticks([])\n",
    "            fax.set_xticklabels([])\n",
    "            fax.set_xlabel('')\n",
    "        else:\n",
    "            fax.set_xticks(xx)\n",
    "            fax.set_xticklabels(xtick_labels, fontsize=6)\n",
    "            fax.set_xlabel('simulated selection coefficient')\n",
    "\n",
    "        if col == 1:\n",
    "            ylabel = ''\n",
    "    \n",
    "        fax.set_ylabel(ylabel)\n",
    "        \n",
    "lax = ax[0, 1]\n",
    "old_legend = lax.legend()\n",
    "lax.legend_.remove()\n",
    "\n",
    "# Get the legend components\n",
    "legend_handles = old_legend.legendHandles\n",
    "legend_labels = [t.get_text().split(',')[0] for t in old_legend.get_texts()]\n",
    "\n",
    "# Split the components into two lists\n",
    "midpoint = len(legend_handles) // 2\n",
    "legend_handles_1 = legend_handles[:midpoint]\n",
    "legend_labels_1 = legend_labels[:midpoint]\n",
    "legend_handles_2 = legend_handles[midpoint:]\n",
    "legend_labels_2 = legend_labels[midpoint:]\n",
    "\n",
    "# Create two separate legends using the lists\n",
    "font_kwargs = dict(fontsize=5, title_fontsize=5)\n",
    "legend_1 = lax.legend(legend_handles_1, legend_labels_1, loc=(0.05, 0.6), title=\"New B'\", **font_kwargs)\n",
    "legend_2 = lax.legend(legend_handles_2, legend_labels_2, loc=(0.45, 0.6),  title=\"Classic B\", **font_kwargs)\n",
    "lax.add_artist(legend_1)\n",
    "lax.add_artist(legend_2)\n",
    "# Add the legends to the plot\n",
    "#fig.legend(loc=(0.9, 0.5), handles=legend_handles_1, labels=legend_labels_1, fontsize=5, title='New B\\'', title_fontsize=7)\n",
    "#fig.legend(loc=(0.9, 0.6), handles=legend_handles_2, labels=legend_labels_2, fontsize=5, title=\"Classic B\", title_fontsize=7)\n",
    "\n",
    "\n",
    "#plt.tight_layout()\n",
    "plt.savefig('../manuscript/figures/subfigure_sim_mle.pdf', bbox_inches='tight')"
   ]
  },
  {
   "cell_type": "markdown",
   "id": "f05236b9-77a5-47f3-a419-0c0162379646",
   "metadata": {},
   "source": [
    "NOTE: the y-axis here is the average selection coefficient, taken by $\\bar{s} = \\sum_i W_i s$"
   ]
  },
  {
   "cell_type": "markdown",
   "id": "d9bf6f3e-7108-46a3-a40e-4083aa5ea14b",
   "metadata": {},
   "source": [
    "### Demographic Expansion"
   ]
  },
  {
   "cell_type": "code",
   "execution_count": null,
   "id": "1c0c06fc-01cd-404f-9703-a0af79c6ffc0",
   "metadata": {
    "tags": []
   },
   "outputs": [],
   "source": [
    "fig, ax = plt.subplots(nrows=3, ncols=2, sharey='row', figsize=(5, 4), layout='constrained')\n",
    "\n",
    "# Define common variables\n",
    "order = ['sparse track, classic B, 1.004',\n",
    "         'full track, classic B, 1.004',\n",
    "         \"sparse track, new B', 1.004\",\n",
    "         \"full track, new B', 1.004\"]\n",
    "color_palette = sns.color_palette(\"Paired\", len(order))\n",
    "xx = np.arange(6)\n",
    "xtick_labels = [\"$10^{-5}$\", \"$10^{-4}$\", \"$10^{-3}$\", \"0.005\", \"0.01\", \"0.05\"]\n",
    "for col, mu_value, y_label in zip(range(2), [1.5e-8, 0.5e-8], ['1.5e-8', '0.5e-8']):\n",
    "    df = d.loc[(np.abs(d['exp_rate'] - 1.004) < 1e-6) & (d['mu'] == mu_value) & (d['sh'] > 1e-8) & (d['h'] == 0.5)].sort_values(['type', 'model'])\n",
    "\n",
    "    # Loop through rows\n",
    "    for row, plot_y, ylabel in zip(range(3), ['R2', 'log10_est_mean_sh', 'est_mu'], ['$R^2$', 'average $\\widehat{s}$', '$\\widehat{\\mu}_\\mathrm{del}$']):\n",
    "        fax = ax[row, col]\n",
    "        sns.pointplot(x='sh', y=plot_y, data=df, hue='type', ax=fax, hue_order=order, errorbar=None, scale=0.6,\n",
    "                      dodge=0.2, palette=color_palette)\n",
    "        fax.legend_.remove()\n",
    "        mulab = latex_scientific_notation(mu_value)\n",
    "        if row == 0:\n",
    "            r2_ticks = np.arange(0, 0.51, 0.1)\n",
    "            fax.set_yticks(r2_ticks)\n",
    "            fax.set_yticklabels([f'{tick * 100:.0f}%' for tick in r2_ticks], fontsize=6)\n",
    "            fax.set_title(f\"$\\mu_\\mathrm{{del}}$ = {mulab}\")\n",
    "        elif row == 1:\n",
    "            ylabs = np.array([-6, -5, -4, -3, -2, -1 ])\n",
    "            fax.set_yticks(ylabs)\n",
    "            fax.set_yticklabels([f'$10^{{{tick}}}$' for tick in ylabs], fontsize=6)\n",
    "            true_sh = [np.log10(float(x.get_text())) for x in fax.get_xticklabels()]\n",
    "            x_positions = np.arange(len(true_sh))\n",
    "            fax.hlines(true_sh, x_positions - 0.35, x_positions + 0.35, color='0.22', linewidth=1.5, zorder=-1)\n",
    "            fax.set_ylim(None, 0.001)\n",
    "        elif row == 2:\n",
    "            fax.axhline(mu_value, c='0.22', linestyle='solid', linewidth=1.5, zorder=-1)\n",
    "            fax.annotate(f\"$\\mu_\\mathrm{{del}}$ = {mulab}\", (0, 0.66*mu_value), fontsize=5, c='0.22', ha='left', zorder=10)\n",
    "            fax.semilogy() \n",
    "            fax.tick_params(labelsize=6)\n",
    "            \n",
    "        if row != 2:\n",
    "            fax.set_xticks([])\n",
    "            fax.set_xticklabels([])\n",
    "            fax.set_xlabel('')\n",
    "        else:\n",
    "            fax.set_xticks(xx)\n",
    "            fax.set_xticklabels(xtick_labels,  fontsize=6)\n",
    "            fax.set_xlabel('simulated selection coefficient')\n",
    "\n",
    "        if col == 1:\n",
    "            ylabel = ''\n",
    "    \n",
    "        fax.set_ylabel(ylabel)\n",
    "        \n",
    "lax = ax[0, 1]\n",
    "old_legend = lax.legend()\n",
    "lax.legend_.remove()\n",
    "\n",
    "# Get the legend components\n",
    "legend_handles = old_legend.legendHandles\n",
    "legend_labels = [t.get_text().split(',')[0] for t in old_legend.get_texts()]\n",
    "\n",
    "# Split the components into two lists\n",
    "midpoint = len(legend_handles) // 2\n",
    "legend_handles_1 = legend_handles[:midpoint]\n",
    "legend_labels_1 = legend_labels[:midpoint]\n",
    "legend_handles_2 = legend_handles[midpoint:]\n",
    "legend_labels_2 = legend_labels[midpoint:]\n",
    "\n",
    "# Create two separate legends using the lists\n",
    "font_kwargs = dict(fontsize=5, title_fontsize=6)\n",
    "legend_1 = lax.legend(legend_handles_1, legend_labels_1, loc=(0.01, 0.6), title=\"New B'\", **font_kwargs)\n",
    "legend_2 = lax.legend(legend_handles_2, legend_labels_2, loc=(0.5, 0.6),  title=\"Classic B\", **font_kwargs)\n",
    "lax.add_artist(legend_1)\n",
    "lax.add_artist(legend_2)\n",
    "# Add the legends to the plot\n",
    "#fig.legend(loc=(0.9, 0.5), handles=legend_handles_1, labels=legend_labels_1, fontsize=5, title='New B\\'', title_fontsize=7)\n",
    "#fig.legend(loc=(0.9, 0.6), handles=legend_handles_2, labels=legend_labels_2, fontsize=5, title=\"Classic B\", title_fontsize=7)\n",
    "\n",
    "\n",
    "plt.tight_layout()\n",
    "plt.savefig('../manuscript/figures/supplementary/subfigure_sim_mle_expansion.pdf', bbox_inches='tight')"
   ]
  },
  {
   "cell_type": "markdown",
   "id": "4f03ab2d-fc00-4715-844f-e9f06d923151",
   "metadata": {},
   "source": [
    "### Recessive Deleterious Mutations"
   ]
  },
  {
   "cell_type": "code",
   "execution_count": null,
   "id": "96282db0-4138-4fb1-a237-143ca3349961",
   "metadata": {
    "tags": []
   },
   "outputs": [],
   "source": [
    "fig, ax = plt.subplots(nrows=3, ncols=2, sharey='row', figsize=(5, 4), layout='constrained')\n",
    "\n",
    "# Define common variables\n",
    "order = ['sparse track, classic B, False',\n",
    "         'full track, classic B, False',\n",
    "         \"sparse track, new B', False\",\n",
    "         \"full track, new B', False\"]\n",
    "color_palette = sns.color_palette(\"Paired\", len(order))\n",
    "xx = np.arange(6)\n",
    "xtick_labels = [\"$10^{-5}$\", \"$10^{-4}$\", \"$10^{-3}$\", \"0.005\", \"0.01\", \"0.05\"]\n",
    "for col, mu_value, y_label in zip(range(2), [1.5e-8, 0.5e-8], ['1.5e-8', '0.5e-8']):\n",
    "    df = d.loc[(d['exp_rate'] == False) & (d['mu'] == mu_value) & (d['sh'] > 1e-8) & (d['h'] == 0.3)].sort_values(['type', 'model'])\n",
    "\n",
    "    # Loop through rows\n",
    "    for row, plot_y, ylabel in zip(range(3), ['R2', 'log10_est_mean_sh', 'est_mu'], ['$R^2$', 'average $\\widehat{s}$', '$\\widehat{\\mu}_\\mathrm{del}$']):\n",
    "        fax = ax[row, col]\n",
    "        sns.pointplot(x='sh', y=plot_y, data=df, hue='type', ax=fax, hue_order=order, errorbar=None, scale=0.6,\n",
    "                      dodge=0.2, palette=color_palette)\n",
    "        fax.legend_.remove()\n",
    "        mulab = latex_scientific_notation(mu_value)\n",
    "        if row == 0:\n",
    "            r2_ticks = np.arange(0, 0.51, 0.1)\n",
    "            fax.set_yticks(r2_ticks)\n",
    "            fax.set_yticklabels([f'{tick * 100:.0f}%' for tick in r2_ticks], fontsize=6)\n",
    "            fax.set_title(f\"$\\mu_\\mathrm{{del}}$ = {mulab}\")\n",
    "        elif row == 1:\n",
    "            ylabs = np.array([-6, -5, -4, -3, -2, -1 ])\n",
    "            fax.set_yticks(ylabs)\n",
    "            fax.set_yticklabels([f'$10^{{{tick}}}$' for tick in ylabs], fontsize=6)\n",
    "            true_sh = [np.log10(float(x.get_text())) for x in fax.get_xticklabels()]\n",
    "            x_positions = np.arange(len(true_sh))\n",
    "            fax.hlines(true_sh, x_positions - 0.35, x_positions + 0.35, color='0.22', linewidth=1.5, zorder=-1)\n",
    "            fax.set_ylim(None, 0.001)\n",
    "        elif row == 2:\n",
    "            fax.axhline(mu_value, c='0.22', linestyle='solid', linewidth=1.5, zorder=-1)\n",
    "            fax.annotate(f\"$\\mu_\\mathrm{{del}}$ = {mulab}\", (0, 0.66*mu_value), fontsize=5, c='0.22', ha='left', zorder=10)\n",
    "            fax.semilogy() \n",
    "            fax.tick_params(labelsize=6)\n",
    "            \n",
    "        if row != 2:\n",
    "            fax.set_xticks([])\n",
    "            fax.set_xticklabels([])\n",
    "            fax.set_xlabel('')\n",
    "        else:\n",
    "            fax.set_xticks(xx)\n",
    "            fax.set_xticklabels(xtick_labels,  fontsize=6)\n",
    "            fax.set_xlabel('simulated selection coefficient')\n",
    "\n",
    "        if col == 1:\n",
    "            ylabel = ''\n",
    "    \n",
    "        fax.set_ylabel(ylabel)\n",
    "        \n",
    "lax = ax[0, 1]\n",
    "old_legend = lax.legend()\n",
    "lax.legend_.remove()\n",
    "\n",
    "# Get the legend components\n",
    "legend_handles = old_legend.legendHandles\n",
    "legend_labels = [t.get_text().split(',')[0] for t in old_legend.get_texts()]\n",
    "\n",
    "# Split the components into two lists\n",
    "midpoint = len(legend_handles) // 2\n",
    "legend_handles_1 = legend_handles[:midpoint]\n",
    "legend_labels_1 = legend_labels[:midpoint]\n",
    "legend_handles_2 = legend_handles[midpoint:]\n",
    "legend_labels_2 = legend_labels[midpoint:]\n",
    "\n",
    "# Create two separate legends using the lists\n",
    "font_kwargs = dict(fontsize=5, title_fontsize=6)\n",
    "legend_1 = lax.legend(legend_handles_1, legend_labels_1, loc=(0.01, 0.6), title=\"New B'\", **font_kwargs)\n",
    "legend_2 = lax.legend(legend_handles_2, legend_labels_2, loc=(0.5, 0.6),  title=\"Classic B\", **font_kwargs)\n",
    "lax.add_artist(legend_1)\n",
    "lax.add_artist(legend_2)\n",
    "# Add the legends to the plot\n",
    "#fig.legend(loc=(0.9, 0.5), handles=legend_handles_1, labels=legend_labels_1, fontsize=5, title='New B\\'', title_fontsize=7)\n",
    "#fig.legend(loc=(0.9, 0.6), handles=legend_handles_2, labels=legend_labels_2, fontsize=5, title=\"Classic B\", title_fontsize=7)\n",
    "\n",
    "\n",
    "plt.tight_layout()\n",
    "plt.savefig('../manuscript/figures/supplementary/subfigure_sim_mle_recessive.pdf', bbox_inches='tight')"
   ]
  },
  {
   "cell_type": "code",
   "execution_count": null,
   "id": "3a0ea1b2-a2ef-43f3-9f96-b36ea8f533a9",
   "metadata": {},
   "outputs": [],
   "source": []
  }
 ],
 "metadata": {
  "kernelspec": {
   "display_name": "Python 3 (ipykernel)",
   "language": "python",
   "name": "python3"
  },
  "language_info": {
   "codemirror_mode": {
    "name": "ipython",
    "version": 3
   },
   "file_extension": ".py",
   "mimetype": "text/x-python",
   "name": "python",
   "nbconvert_exporter": "python",
   "pygments_lexer": "ipython3",
   "version": "3.10.8"
  }
 },
 "nbformat": 4,
 "nbformat_minor": 5
}
