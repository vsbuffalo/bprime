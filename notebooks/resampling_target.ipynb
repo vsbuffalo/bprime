{
 "cells": [
  {
   "cell_type": "code",
   "execution_count": 1,
   "id": "43e8cbb3-2176-42c1-842c-7d1653d80ec6",
   "metadata": {},
   "outputs": [],
   "source": [
    "%load_ext autoreload\n",
    "%autoreload 2\n",
    "%reload_ext autoreload"
   ]
  },
  {
   "cell_type": "code",
   "execution_count": 25,
   "id": "7121c9cc-886f-407a-b909-212d5b01669d",
   "metadata": {},
   "outputs": [],
   "source": [
    "import numpy as np\n",
    "import matplotlib.pyplot as plt\n",
    "from collections import defaultdict\n",
    "\n",
    "import tensorflow as tf\n",
    "import tensorflow_addons as tfa\n",
    "from tensorflow import keras\n",
    "from tensorflow.keras import layers\n",
    "from sklearn.preprocessing import StandardScaler\n",
    "\n",
    "from sklearn.model_selection import GridSearchCV\n",
    "\n",
    "from bgspy.nb_utils import load_learnedfuncs_in_dir\n",
    "from bgspy.learn_utils import fit_dnn\n",
    "from bgspy.learn import LearnedFunction\n",
    "from bgspy.plots import loss_limits_plot"
   ]
  },
  {
   "cell_type": "code",
   "execution_count": 3,
   "id": "40fb4ff8-8c4e-4d68-8b71-181eb8b664aa",
   "metadata": {},
   "outputs": [
    {
     "name": "stderr",
     "output_type": "stream",
     "text": [
      "2022-05-20 18:35:48.441093: I tensorflow/core/platform/cpu_feature_guard.cc:151] This TensorFlow binary is optimized with oneAPI Deep Neural Network Library (oneDNN) to use the following CPU instructions in performance-critical operations:  SSE4.1 SSE4.2 AVX AVX2 AVX512F FMA\n",
      "To enable them in other operations, rebuild TensorFlow with the appropriate compiler flags.\n",
      "2022-05-20 18:35:51.104782: I tensorflow/core/common_runtime/gpu/gpu_device.cc:1525] Created device /job:localhost/replica:0/task:0/device:GPU:0 with 485 MB memory:  -> device: 0, name: GeForce RTX 2070, pci bus id: 0000:3b:00.0, compute capability: 7.5\n",
      "2022-05-20 18:35:51.107081: I tensorflow/core/common_runtime/gpu/gpu_device.cc:1525] Created device /job:localhost/replica:0/task:0/device:GPU:1 with 6120 MB memory:  -> device: 1, name: GeForce RTX 2070, pci bus id: 0000:5e:00.0, compute capability: 7.5\n",
      "2022-05-20 18:35:51.108951: I tensorflow/core/common_runtime/gpu/gpu_device.cc:1525] Created device /job:localhost/replica:0/task:0/device:GPU:2 with 0 MB memory:  -> device: 2, name: TITAN Xp, pci bus id: 0000:b1:00.0, compute capability: 6.1\n",
      "2022-05-20 18:35:51.110347: I tensorflow/core/common_runtime/gpu/gpu_device.cc:1525] Created device /job:localhost/replica:0/task:0/device:GPU:3 with 10866 MB memory:  -> device: 3, name: TITAN Xp, pci bus id: 0000:d9:00.0, compute capability: 6.1\n"
     ]
    },
    {
     "data": {
      "text/plain": [
       "dict_keys([(0, 0, 0, 0, 4), (0, 0, 4, 2, 0), (0, 0, 0, 0, 2)])"
      ]
     },
     "execution_count": 3,
     "metadata": {},
     "output_type": "execute_result"
    }
   ],
   "source": [
    "FIT_DIR = '../data/slim_sims/bmap_hg38/fits/'\n",
    "\n",
    "res = load_learnedfuncs_in_dir(FIT_DIR)\n",
    "res.keys()"
   ]
  },
  {
   "cell_type": "code",
   "execution_count": 4,
   "id": "5a72a90f-c31f-4e50-9e50-15a878ec6281",
   "metadata": {},
   "outputs": [],
   "source": [
    "y, X = res[(0, 0, 0, 0, 2)][0].func.y, res[(0, 0, 0, 0, 2)][0].func.X"
   ]
  },
  {
   "cell_type": "code",
   "execution_count": 5,
   "id": "bc341172-186f-442a-9433-16668071003b",
   "metadata": {},
   "outputs": [
    {
     "data": {
      "image/png": "[encoded data removed]",
      "text/plain": [
       "<Figure size 432x288 with 1 Axes>"
      ]
     },
     "metadata": {
      "needs_background": "light"
     },
     "output_type": "display_data"
    }
   ],
   "source": [
    "_ = plt.hist(y, 100)"
   ]
  },
  {
   "cell_type": "code",
   "execution_count": 6,
   "id": "e0e23341-55ce-4e82-abfe-a82486f8452a",
   "metadata": {},
   "outputs": [],
   "source": [
    "class DownsampleTarget:\n",
    "    def __init__(self, y, bins=100, rng=None):\n",
    "        self.y = y.squeeze()\n",
    "        self.bins = bins\n",
    "        self.hist, self.bin_edges = np.histogram(y, bins=bins)\n",
    "        self.seed = rng if isinstance(rng, int) else None\n",
    "        self.rng = np.random.default_rng(self.seed) if rng is None else rng\n",
    "\n",
    "    def downsample(self, level, truncate=True, replace=False):\n",
    "        bin_item_idx = np.digitize(self.y, self.bin_edges)\n",
    "        bin_items = defaultdict(list)\n",
    "        \n",
    "        for i, idx in enumerate(bin_item_idx.tolist()):\n",
    "            bin_items[idx].append(i)\n",
    "        sample = []\n",
    "        for vals in bin_items.values():\n",
    "            if len(vals) <= level:\n",
    "                if not truncate:\n",
    "                    sample.extend(vals)\n",
    "            else:\n",
    "                sample.extend(self.rng.choice(vals, size=level, replace=replace).tolist())\n",
    "        return np.array(sample)\n",
    "\n",
    "    def plot(self):\n",
    "        return plt.bar(self.bin_edges[:-1], self.hist, width=np.diff(self.bin_edges)[0])\n",
    "    "
   ]
  },
  {
   "cell_type": "code",
   "execution_count": 60,
   "id": "bb3649fb-8946-402c-bbb7-822e3d044588",
   "metadata": {},
   "outputs": [],
   "source": [
    "m = DownsampleTarget(y)\n",
    "#plt.hist(m.downsample(level=100), bins=m.bin_edges)\n",
    "idx = m.downsample(level=500)"
   ]
  },
  {
   "cell_type": "code",
   "execution_count": 61,
   "id": "fcfc30de-4795-48d7-834f-450f56f2f9e3",
   "metadata": {},
   "outputs": [],
   "source": [
    "domain = {'mu': (-10, -7, True),\n",
    "         'sh': (-5, -1, True),\n",
    "         'L': (1, 10000, False),\n",
    "         'rbp': (-12, -7, True),\n",
    "         'rf': (-10, -0.824, True)}"
   ]
  },
  {
   "cell_type": "code",
   "execution_count": 62,
   "id": "0744cfe2-35ef-49e4-a589-69cb8fad7c79",
   "metadata": {},
   "outputs": [
    {
     "data": {
      "text/plain": [
       "LearnedFunction with 5 feature(s)\n",
       " variable feature(s):\n",
       "  - mu ∈ [-10, -7] (log10, <ufunc 'log10'>)\n",
       "  - sh ∈ [-5, -1] (log10, <ufunc 'log10'>)\n",
       "  - L ∈ [1, 10000] (linear, None)\n",
       "  - rbp ∈ [-12, -7] (log10, <ufunc 'log10'>)\n",
       "  - rf ∈ [-10, -0.824] (log10, <ufunc 'log10'>)\n",
       " fixed fixed(s) (based on metadata):\n",
       "Features normalized? True\n",
       "Features split? True, test size: 20.0% (n=3,900)\n",
       "Total size: 19,500"
      ]
     },
     "execution_count": 62,
     "metadata": {},
     "output_type": "execute_result"
    }
   ],
   "source": [
    "n = X.shape[0]\n",
    "random_downsample = np.random.choice(np.arange(n), len(idx), replace=False)\n",
    "func_rand = LearnedFunction(X[random_downsample, :], y[random_downsample, :], domain=domain)\n",
    "func_rand.split()\n",
    "func_rand.scale_features()"
   ]
  },
  {
   "cell_type": "code",
   "execution_count": 63,
   "id": "bc859a91-5019-404b-830e-b93961cc7fe1",
   "metadata": {},
   "outputs": [
    {
     "data": {
      "text/plain": [
       "(array([3.000e+00, 5.800e+01, 5.650e+02, 3.116e+03, 6.574e+03, 5.965e+03,\n",
       "        2.564e+03, 5.770e+02, 7.000e+01, 8.000e+00]),\n",
       " array([0.68519354, 0.74772041, 0.81024729, 0.87277416, 0.93530103,\n",
       "        0.99782791, 1.06035478, 1.12288165, 1.18540852, 1.2479354 ,\n",
       "        1.31046227]),\n",
       " <BarContainer object of 10 artists>)"
      ]
     },
     "execution_count": 63,
     "metadata": {},
     "output_type": "execute_result"
    },
    {
     "data": {
      "image/png": "[encoded data removed]",
      "text/plain": [
       "<Figure size 432x288 with 1 Axes>"
      ]
     },
     "metadata": {
      "needs_background": "light"
     },
     "output_type": "display_data"
    }
   ],
   "source": [
    "plt.hist(func_rand.y)"
   ]
  },
  {
   "cell_type": "code",
   "execution_count": 64,
   "id": "b5648c95-97bf-468b-8526-4afd9442b16d",
   "metadata": {},
   "outputs": [
    {
     "data": {
      "text/plain": [
       "LearnedFunction with 5 feature(s)\n",
       " variable feature(s):\n",
       "  - mu ∈ [-10, -7] (log10, <ufunc 'log10'>)\n",
       "  - sh ∈ [-5, -1] (log10, <ufunc 'log10'>)\n",
       "  - L ∈ [1, 10000] (linear, None)\n",
       "  - rbp ∈ [-12, -7] (log10, <ufunc 'log10'>)\n",
       "  - rf ∈ [-10, -0.824] (log10, <ufunc 'log10'>)\n",
       " fixed fixed(s) (based on metadata):\n",
       "Features normalized? True\n",
       "Features split? True, test size: 20.0% (n=3,900)\n",
       "Total size: 19,500"
      ]
     },
     "execution_count": 64,
     "metadata": {},
     "output_type": "execute_result"
    }
   ],
   "source": [
    "func = LearnedFunction(X[idx, :], y[idx, ], domain=domain)\n",
    "func.split()\n",
    "func.scale_features()"
   ]
  },
  {
   "cell_type": "code",
   "execution_count": 65,
   "id": "0d06e3ef-32ee-4c95-a469-53ac416ab686",
   "metadata": {},
   "outputs": [
    {
     "data": {
      "text/plain": [
       "(array([1944., 1967., 1957., 1936., 1962., 1925., 1971., 1938., 1953.,\n",
       "        1947.]),\n",
       " array([0.86119053, 0.88822357, 0.9152566 , 0.94228964, 0.96932267,\n",
       "        0.99635571, 1.02338874, 1.05042177, 1.07745481, 1.10448784,\n",
       "        1.13152088]),\n",
       " <BarContainer object of 10 artists>)"
      ]
     },
     "execution_count": 65,
     "metadata": {},
     "output_type": "execute_result"
    },
    {
     "data": {
      "image/png": "[encoded data removed]",
      "text/plain": [
       "<Figure size 432x288 with 1 Axes>"
      ]
     },
     "metadata": {
      "needs_background": "light"
     },
     "output_type": "display_data"
    }
   ],
   "source": [
    "plt.hist(func.y)"
   ]
  },
  {
   "cell_type": "code",
   "execution_count": null,
   "id": "53d56b3b-3514-4e55-8c44-c217079e7b63",
   "metadata": {},
   "outputs": [],
   "source": [
    "%%time\n",
    "model, hist = fit_dnn(func, n128=0, n64=0, n32=0, n8=0, nx=2, output_activation='relu')"
   ]
  },
  {
   "cell_type": "code",
   "execution_count": null,
   "id": "d636a261-ec01-42b7-a3b7-988ad75aa92b",
   "metadata": {},
   "outputs": [],
   "source": [
    "%%time\n",
    "model_rand, hist_rand = fit_dnn(func_rand, n128=0, n64=0, n32=0, n8=0, nx=2, output_activation='linear')"
   ]
  },
  {
   "cell_type": "code",
   "execution_count": null,
   "id": "0b21599a-6128-4fa5-b09e-b5ad145f725f",
   "metadata": {},
   "outputs": [],
   "source": [
    "history = hist.history\n",
    "history_rand = hist_rand.history\n",
    "\n",
    "plt.plot(history['loss'][1:], c='b')\n",
    "plt.plot(history['val_loss'][1:], linestyle='dashed', c='b', label='uniformly downsampled target')\n",
    "\n",
    "plt.plot(history_rand['loss'][1:], c='g')\n",
    "plt.plot(history_rand['val_loss'][1:], linestyle='dashed', c='g', label='randomly downsampled target')\n",
    "plt.legend()\n",
    "plt.xlabel('epoch')\n",
    "plt.ylabel('loss')\n",
    "plt.ylim(0, 0.03)"
   ]
  },
  {
   "cell_type": "code",
   "execution_count": null,
   "id": "38f12f5f-a0fc-42a0-b80f-c3b76c2429b8",
   "metadata": {},
   "outputs": [],
   "source": [
    "func.model = model\n",
    "func_rand.model = model_rand"
   ]
  },
  {
   "cell_type": "code",
   "execution_count": null,
   "id": "8be32cd1-04f4-4cd0-829e-56d87177f359",
   "metadata": {},
   "outputs": [],
   "source": [
    "plt.scatter(func.y_test, func.predict_test())"
   ]
  },
  {
   "cell_type": "code",
   "execution_count": null,
   "id": "e1443169-e78d-4584-93d7-e9250c6fe53b",
   "metadata": {},
   "outputs": [],
   "source": [
    "plt.scatter(func_rand.y_test, func_rand.predict_test())"
   ]
  },
  {
   "cell_type": "code",
   "execution_count": null,
   "id": "e1f6ab74-37b5-4c1b-964f-9e3758551845",
   "metadata": {},
   "outputs": [],
   "source": [
    "len(idx)"
   ]
  },
  {
   "cell_type": "code",
   "execution_count": null,
   "id": "86ea1ae2-b14b-4129-b5ad-eecc5f3946ae",
   "metadata": {},
   "outputs": [],
   "source": []
  }
 ],
 "metadata": {
  "kernelspec": {
   "display_name": "Python 3 (ipykernel)",
   "language": "python",
   "name": "python3"
  },
  "language_info": {
   "codemirror_mode": {
    "name": "ipython",
    "version": 3
   },
   "file_extension": ".py",
   "mimetype": "text/x-python",
   "name": "python",
   "nbconvert_exporter": "python",
   "pygments_lexer": "ipython3",
   "version": "3.8.12"
  }
 },
 "nbformat": 4,
 "nbformat_minor": 5
}
