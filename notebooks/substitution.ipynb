{
 "cells": [
  {
   "cell_type": "markdown",
   "id": "11b5a945-ac7f-4a83-93d8-37bf3c235769",
   "metadata": {
    "tags": []
   },
   "source": [
    "# Substitution\n",
    "\n",
    "This notebook compares the predicted substitution rates with various other sets of data, such as \n",
    "\n",
    " - phylofit branch length estimates\n",
    " - the number of subsitutions in genes (from Urrichio et al.)\n",
    " \n",
    "The goal is to check that the model is making reasonable predictions in terms of the substitution rate. \n",
    "\n",
    "It is exceedingly important that we avoid cirular logic here. For example, the predicted ratchet rates per segment depend on that annotation class, which each have their own DFE estimates.\n",
    "\n",
    "There are a few checks we can do: \n",
    "\n",
    " - total predicted substitution rate versus observed \n",
    " - spatial patterns of predicted versus observed substitution rates along the chromosome\n",
    " - predicted versus observed by feature type\n",
    " \n",
    "There is not a great deal of variance in predicted substitution rates (as we'll see later). It's important that we ensure that the correspondance between predicted and observed isn't just an artifact of densities of the different annotation classes. This wouldn't be entirely an artifact or circular reasoning, but we should ensure the correspondence is good within classes too."
   ]
  },
  {
   "cell_type": "markdown",
   "id": "ab19c629-c6f0-43c9-9a2a-709cc10a28f1",
   "metadata": {},
   "source": [
    "A quick note about the simulations. It is *very* difficult to get good substitution rate estimates to validate the whole-genome substitution rate predictions.\n",
    "\n",
    "This is because, imagine, for a $N=10,000$ simulation that the subrate is relatively high at 1e-9. For a 10N generations, \n",
    "\n",
    "That amounts to,"
   ]
  },
  {
   "cell_type": "code",
   "execution_count": 1,
   "id": "61387cb2-a794-45df-befd-97f629b6d2c1",
   "metadata": {
    "tags": []
   },
   "outputs": [
    {
     "data": {
      "text/plain": [
       "0.0001"
      ]
     },
     "execution_count": 1,
     "metadata": {},
     "output_type": "execute_result"
    }
   ],
   "source": [
    "N = 10_000\n",
    "10*N*1e-9"
   ]
  },
  {
   "cell_type": "markdown",
   "id": "aa348841-d286-4288-b96d-4625a08aaa73",
   "metadata": {},
   "source": [
    "simulations per basepair."
   ]
  },
  {
   "cell_type": "markdown",
   "id": "a5bdf148-a368-4b3e-9d3c-685b3a870593",
   "metadata": {
    "tags": []
   },
   "source": [
    "## Requisites"
   ]
  },
  {
   "cell_type": "code",
   "execution_count": 2,
   "id": "418b257b-e4ac-418b-8cb3-85439d83257e",
   "metadata": {
    "tags": []
   },
   "outputs": [],
   "source": [
    "%load_ext autoreload\n",
    "%autoreload 2\n",
    "%reload_ext autoreload"
   ]
  },
  {
   "cell_type": "code",
   "execution_count": 3,
   "id": "d7fb5c87-8e9b-4237-9cd3-8c5673091ccf",
   "metadata": {
    "tags": []
   },
   "outputs": [
    {
     "name": "stderr",
     "output_type": "stream",
     "text": [
      "/home/vsb/projects/bprime/bgspy/data.py:7: TqdmExperimentalWarning: Using `tqdm.autonotebook.tqdm` in notebook mode. Use `tqdm.tqdm` instead to force console mode (e.g. in jupyter console)\n",
      "  import tqdm.autonotebook as tqdm\n"
     ]
    }
   ],
   "source": [
    "import os\n",
    "import re\n",
    "import pickle\n",
    "import numpy as np\n",
    "import pandas as pd\n",
    "from collections import defaultdict\n",
    "import scipy.stats as stats\n",
    "import seaborn as sns\n",
    "from scipy.stats import binned_statistic\n",
    "import matplotlib.pyplot as plt\n",
    "import matplotlib as mpl\n",
    "import matplotlib.ticker as mtick\n",
    "import matplotlib.patches as mpatches\n",
    "import matplotlib.cm as cm\n",
    "import statsmodels.api as sm\n",
    "lowess = sm.nonparametric.lowess\n",
    "\n",
    "from bgspy.genome import Genome\n",
    "from bgspy.data import GenomeData\n",
    "from bgspy.models import BGSModel\n",
    "from bgspy.utils import logbins, bin2midpoints, cutbins, bin2pairs, binned_summaries\n",
    "from bgspy.utils import corr, mean_ratio, censor, pretty_signif, load_seqlens\n",
    "from bgspy.utils import read_phylofit, bin_chrom, load_pickle\n",
    "from bgspy.plots import get_figax, binned_means_plot\n",
    "from bgspy.nonparametric import KernelRegression, bin_kfolds, kfolds_results"
   ]
  },
  {
   "cell_type": "code",
   "execution_count": 4,
   "id": "febc5ac3-972a-44ec-9525-f42fd9e2f8dc",
   "metadata": {
    "tags": []
   },
   "outputs": [],
   "source": [
    "plt.show()"
   ]
  },
  {
   "cell_type": "code",
   "execution_count": 5,
   "id": "697be8b5-44b7-4203-9cd3-7836699557aa",
   "metadata": {
    "tags": []
   },
   "outputs": [],
   "source": [
    "plt.rcParams['figure.figsize'] = [5, 3]\n",
    "plt.rcParams['figure.dpi'] = 200\n",
    "plt.style.use('./buffalo.mplstyle')\n",
    "prop_cycle = plt.rcParams['axes.prop_cycle']\n",
    "COLORS = prop_cycle.by_key()['color']"
   ]
  },
  {
   "cell_type": "markdown",
   "id": "e1671d51-2af9-4989-a403-f727fa13fe03",
   "metadata": {
    "tags": []
   },
   "source": [
    "## Color Settings\n",
    "\n",
    "Common population colors. We use paired, since in the $R^2$ plots they are paired."
   ]
  },
  {
   "cell_type": "code",
   "execution_count": 6,
   "id": "4f77d275-6ecc-4594-84c2-db17fb623094",
   "metadata": {
    "tags": []
   },
   "outputs": [],
   "source": [
    "pop_to_num = {'yri': 0, 'ceu': 1, 'chb': 2}"
   ]
  },
  {
   "cell_type": "code",
   "execution_count": 7,
   "id": "8f8ab5d6-3a80-4df8-b9a8-80f277211a7a",
   "metadata": {
    "tags": []
   },
   "outputs": [
    {
     "name": "stderr",
     "output_type": "stream",
     "text": [
      "/tmp/ipykernel_4729/3553568411.py:1: MatplotlibDeprecationWarning: The get_cmap function was deprecated in Matplotlib 3.7 and will be removed two minor releases later. Use ``matplotlib.colormaps[name]`` or ``matplotlib.colormaps.get_cmap(obj)`` instead.\n",
      "  cmap = cm.get_cmap('Paired')\n"
     ]
    }
   ],
   "source": [
    "cmap = cm.get_cmap('Paired')\n",
    "pop_cols = cmap(np.arange(6))"
   ]
  },
  {
   "cell_type": "code",
   "execution_count": 8,
   "id": "ead5e69f-0e6c-4d9a-85a9-aa3dade85772",
   "metadata": {
    "tags": []
   },
   "outputs": [
    {
     "data": {
      "image/png": "[encoded data removed]",
      "text/html": [
       "<div style=\"vertical-align: middle;\"><strong>Paired</strong> </div><div class=\"cmap\"><img alt=\"Paired colormap\" title=\"Paired\" style=\"border: 1px solid #555;\" src=\"data:image/png;base64,iVBORw0KGgoAAAANSUhEUgAAAgAAAABACAYAAABsv8+/AAAAFXRFWHRUaXRsZQBQYWlyZWQgY29sb3JtYXDkshWaAAAAG3RFWHREZXNjcmlwdGlvbgBQYWlyZWQgY29sb3JtYXCtJQ1+AAAAMHRFWHRBdXRob3IATWF0cGxvdGxpYiB2My43LjEsIGh0dHBzOi8vbWF0cGxvdGxpYi5vcmcqr/hNAAAAMnRFWHRTb2Z0d2FyZQBNYXRwbG90bGliIHYzLjcuMSwgaHR0cHM6Ly9tYXRwbG90bGliLm9yZwQJZ2oAAAGQSURBVHic7daxLYVhGIbh3xnDGkbRWUBlAB1RKuRE9CKhUJoAUUgkEo0FNGbQsMJX+fLnvq4JnubNe+/cvX/9LitxfP8xe8Kwy8PP2ROGnD7dzJ4w7PXnaPaEId8nZ7MnDNu93Z89YdjmcTt7wpC3vXXc/rIsy/X5y+wJQ66eV/OmloeDi9kThm1mDwAA/p8AAIAgAQAAQQIAAIIEAAAECQAACBIAABAkAAAgSAAAQJAAAIAgAQAAQQIAAIIEAAAECQAACBIAABAkAAAgSAAAQJAAAIAgAQAAQQIAAIIEAAAECQAACBIAABAkAAAgSAAAQJAAAIAgAQAAQQIAAIIEAAAECQAACBIAABAkAAAgSAAAQJAAAIAgAQAAQQIAAIIEAAAECQAACBIAABAkAAAgSAAAQJAAAIAgAQAAQQIAAIIEAAAECQAACBIAABAkAAAgSAAAQJAAAIAgAQAAQQIAAIIEAAAECQAACBIAABAkAAAgSAAAQJAAAIAgAQAAQQIAAIIEAAAECQAACBIAABD0B4ccF7Gd6zM6AAAAAElFTkSuQmCC\"></div><div style=\"vertical-align: middle; max-width: 514px; display: flex; justify-content: space-between;\"><div style=\"float: left;\"><div title=\"#a6cee3ff\" style=\"display: inline-block; width: 1em; height: 1em; margin: 0; vertical-align: middle; border: 1px solid #555; background-color: #a6cee3ff;\"></div> under</div><div style=\"margin: 0 auto; display: inline-block;\">bad <div title=\"#00000000\" style=\"display: inline-block; width: 1em; height: 1em; margin: 0; vertical-align: middle; border: 1px solid #555; background-color: #00000000;\"></div></div><div style=\"float: right;\">over <div title=\"#b15928ff\" style=\"display: inline-block; width: 1em; height: 1em; margin: 0; vertical-align: middle; border: 1px solid #555; background-color: #b15928ff;\"></div></div>"
      ],
      "text/plain": [
       "<matplotlib.colors.ListedColormap at 0x7f7dc0a385e0>"
      ]
     },
     "execution_count": 8,
     "metadata": {},
     "output_type": "execute_result"
    }
   ],
   "source": [
    "cmap"
   ]
  },
  {
   "cell_type": "code",
   "execution_count": 9,
   "id": "3e877aac-711c-4ca9-b043-fca590cfaf0f",
   "metadata": {
    "tags": []
   },
   "outputs": [],
   "source": [
    "all_pop_cols = dict()\n",
    "i = 0\n",
    "for pop in pop_to_num:\n",
    "    #plt.scatter(pop, i, c=pop_cols[i+1, :], s=40)\n",
    "    all_pop_cols[pop] = pop_cols[i+1, :]\n",
    "    i += 2"
   ]
  },
  {
   "cell_type": "markdown",
   "id": "956ba1e4-3a11-4caa-a01b-b5baa60aba47",
   "metadata": {},
   "source": [
    "## Load Data"
   ]
  },
  {
   "cell_type": "code",
   "execution_count": 10,
   "id": "f1f6e9bb-f14e-4878-9ae3-55dd30646f0f",
   "metadata": {
    "tags": []
   },
   "outputs": [],
   "source": [
    "seqlens = load_seqlens('../data/annotation/hg38_seqlens.tsv')"
   ]
  },
  {
   "cell_type": "markdown",
   "id": "a11df9ae-2f11-4d57-9d89-1c77228ca3a7",
   "metadata": {},
   "source": [
    " \n",
    "### Phastcons Priority and CDS Priority Models\n",
    "\n",
    "This is the main focus since we care about estimating the sub rates for these features."
   ]
  },
  {
   "cell_type": "code",
   "execution_count": 160,
   "id": "06723407-7374-4047-857f-8587c1403fdc",
   "metadata": {
    "tags": []
   },
   "outputs": [],
   "source": [
    "cds_model = load_pickle('../new_fits/CDS_genes_phastcons__decode/CDS_genes_phastcons__decode.pkl')\n",
    "pc_model = load_pickle('../new_fits/phastcons_CDS_genes__decode/phastcons_CDS_genes__decode.pkl')\n",
    "\n",
    "cds_6x7_model = load_pickle('../new_fits/CDS_genes_phastcons__decode__altgrid/CDS_genes_phastcons__decode__altgrid.pkl')\n",
    "pc_6x7_model = load_pickle('../new_fits/phastcons_CDS_genes__decode__altgrid/phastcons_CDS_genes__decode__altgrid.pkl')\n",
    "\n",
    "cadd_model = load_pickle('../new_fits/cadd6__decode/cadd6__decode.pkl')\n",
    "cadd_6x7_model = load_pickle('../new_fits/cadd6__decode__altgrid/cadd6__decode__altgrid.pkl')"
   ]
  },
  {
   "cell_type": "code",
   "execution_count": 12,
   "id": "87464c85-7407-45c3-be45-329a78fbb842",
   "metadata": {
    "tags": []
   },
   "outputs": [
    {
     "name": "stderr",
     "output_type": "stream",
     "text": [
      "/tmp/ipykernel_4729/2407210300.py:1: FutureWarning: The default value of numeric_only in DataFrameGroupBy.mean is deprecated. In a future version, numeric_only will default to False. Either specify numeric_only or select only columns which should be valid for the function.\n",
      "  cds_model.mu_predicts[('yri', '1000000', 'full')][1.5e-8].groupby('feature').mean()\n"
     ]
    },
    {
     "data": {
      "text/html": [
       "<div>\n",
       "<style scoped>\n",
       "    .dataframe tbody tr th:only-of-type {\n",
       "        vertical-align: middle;\n",
       "    }\n",
       "\n",
       "    .dataframe tbody tr th {\n",
       "        vertical-align: top;\n",
       "    }\n",
       "\n",
       "    .dataframe thead th {\n",
       "        text-align: right;\n",
       "    }\n",
       "</style>\n",
       "<table border=\"1\" class=\"dataframe\">\n",
       "  <thead>\n",
       "    <tr style=\"text-align: right;\">\n",
       "      <th></th>\n",
       "      <th>start</th>\n",
       "      <th>end</th>\n",
       "      <th>R</th>\n",
       "      <th>r</th>\n",
       "      <th>V</th>\n",
       "      <th>Vm</th>\n",
       "      <th>load</th>\n",
       "      <th>seglen</th>\n",
       "    </tr>\n",
       "    <tr>\n",
       "      <th>feature</th>\n",
       "      <th></th>\n",
       "      <th></th>\n",
       "      <th></th>\n",
       "      <th></th>\n",
       "      <th></th>\n",
       "      <th></th>\n",
       "      <th></th>\n",
       "      <th></th>\n",
       "    </tr>\n",
       "  </thead>\n",
       "  <tbody>\n",
       "    <tr>\n",
       "      <th>CDS</th>\n",
       "      <td>7.570805e+07</td>\n",
       "      <td>7.570821e+07</td>\n",
       "      <td>8.639980e-07</td>\n",
       "      <td>5.465308e-09</td>\n",
       "      <td>2.584856e-07</td>\n",
       "      <td>2.580561e-08</td>\n",
       "      <td>-1.786121e-14</td>\n",
       "      <td>158.087704</td>\n",
       "    </tr>\n",
       "    <tr>\n",
       "      <th>gene</th>\n",
       "      <td>7.725869e+07</td>\n",
       "      <td>7.726030e+07</td>\n",
       "      <td>2.313708e-05</td>\n",
       "      <td>1.443386e-08</td>\n",
       "      <td>9.193066e-08</td>\n",
       "      <td>9.138641e-09</td>\n",
       "      <td>-1.556578e-11</td>\n",
       "      <td>1602.961510</td>\n",
       "    </tr>\n",
       "    <tr>\n",
       "      <th>other</th>\n",
       "      <td>8.130288e+07</td>\n",
       "      <td>8.130331e+07</td>\n",
       "      <td>6.491636e-06</td>\n",
       "      <td>1.499700e-08</td>\n",
       "      <td>2.686788e-16</td>\n",
       "      <td>1.190186e-17</td>\n",
       "      <td>-1.298327e-13</td>\n",
       "      <td>432.862310</td>\n",
       "    </tr>\n",
       "    <tr>\n",
       "      <th>phastcons</th>\n",
       "      <td>8.231222e+07</td>\n",
       "      <td>8.231224e+07</td>\n",
       "      <td>9.983220e-10</td>\n",
       "      <td>5.683681e-11</td>\n",
       "      <td>2.906252e-08</td>\n",
       "      <td>2.742727e-09</td>\n",
       "      <td>-1.256846e-16</td>\n",
       "      <td>17.564708</td>\n",
       "    </tr>\n",
       "  </tbody>\n",
       "</table>\n",
       "</div>"
      ],
      "text/plain": [
       "                  start           end             R             r  \\\n",
       "feature                                                             \n",
       "CDS        7.570805e+07  7.570821e+07  8.639980e-07  5.465308e-09   \n",
       "gene       7.725869e+07  7.726030e+07  2.313708e-05  1.443386e-08   \n",
       "other      8.130288e+07  8.130331e+07  6.491636e-06  1.499700e-08   \n",
       "phastcons  8.231222e+07  8.231224e+07  9.983220e-10  5.683681e-11   \n",
       "\n",
       "                      V            Vm          load       seglen  \n",
       "feature                                                           \n",
       "CDS        2.584856e-07  2.580561e-08 -1.786121e-14   158.087704  \n",
       "gene       9.193066e-08  9.138641e-09 -1.556578e-11  1602.961510  \n",
       "other      2.686788e-16  1.190186e-17 -1.298327e-13   432.862310  \n",
       "phastcons  2.906252e-08  2.742727e-09 -1.256846e-16    17.564708  "
      ]
     },
     "execution_count": 12,
     "metadata": {},
     "output_type": "execute_result"
    }
   ],
   "source": [
    "cds_model.mu_predicts[('yri', '1000000', 'full')][1.5e-8].groupby('feature').mean()"
   ]
  },
  {
   "cell_type": "code",
   "execution_count": 13,
   "id": "f7cfd9c7-2f33-4ef2-a81d-bee05adf10f0",
   "metadata": {
    "tags": []
   },
   "outputs": [],
   "source": [
    "def prediction_df(model, mu=None):\n",
    "    dfs = []\n",
    "    pops = set([p for p, _, _ in model.fits.keys()])\n",
    "    for pop in pops:\n",
    "        key = (pop, '1000000', 'full')\n",
    "        if mu is None:\n",
    "            if key not in model.predicts:\n",
    "                continue\n",
    "            df = model.predicts[key]\n",
    "        else:\n",
    "            if key not in model.mu_predicts:\n",
    "                continue\n",
    "            df = model.mu_predicts[(pop, '1000000', 'full')][mu]\n",
    "        fit = model.fits[(pop, '1000000', 'full')]['mbp']\n",
    "        df['pop'] = pop\n",
    "        df['mle_mu'] = fit.mle_mu\n",
    "        df['mle_pi0'] = fit.mle_pi0\n",
    "        dfs.append(df)\n",
    "    dpops = pd.concat(dfs)\n",
    "    dpops['r_mu'] = dpops['r'] / dpops['mle_mu']\n",
    "    dpops['width'] = dpops['end'] - dpops['start']\n",
    "    return dpops\n",
    "\n",
    "d_cds = prediction_df(cds_model)\n",
    "d_pc = prediction_df(pc_model)\n",
    "#d_cadd = prediction_df(cadd_model)\n",
    "\n",
    "# these are the predictions re-calibrated to a fixed mu of 1.5e-3 (1.3e-8 also available)\n",
    "pred_mu = 1.5e-8\n",
    "d_cds_mu = prediction_df(cds_model, mu=pred_mu)\n",
    "d_pc_mu = prediction_df(pc_model, mu=pred_mu)\n",
    "#d_cadd_mu = prediction_df(pc_model, mu=pred_mu)"
   ]
  },
  {
   "cell_type": "markdown",
   "id": "0e646201-780e-46e2-843e-5d71faf5f3c4",
   "metadata": {},
   "source": [
    "Very important note: our Feature Priority model fits poorly, but is better in terms of interpretability. The mutation rate estimate is especially high, and thus our substitution rates are miscalibrated because of this:"
   ]
  },
  {
   "cell_type": "code",
   "execution_count": 14,
   "id": "90dd97e3-da0d-46f6-99ef-e992b8a5bcd8",
   "metadata": {
    "tags": []
   },
   "outputs": [
    {
     "data": {
      "text/plain": [
       "{'yri': 1.7082024753992358e-08,\n",
       " 'ceu': 2.3498730445835736e-08,\n",
       " 'chb': 2.5572803264990962e-08}"
      ]
     },
     "execution_count": 14,
     "metadata": {},
     "output_type": "execute_result"
    }
   ],
   "source": [
    "{pop: pc_model.fits[(pop, '1000000', 'full')]['mbp'].mle_mu for pop in pop_to_num}"
   ]
  },
  {
   "cell_type": "code",
   "execution_count": 15,
   "id": "3a933f76-560e-466c-8c9e-24a34e500197",
   "metadata": {
    "tags": []
   },
   "outputs": [
    {
     "data": {
      "text/plain": [
       "{'yri': 4.1951319881985956e-08,\n",
       " 'ceu': 4.100146002758266e-08,\n",
       " 'chb': 3.755186157865858e-08}"
      ]
     },
     "execution_count": 15,
     "metadata": {},
     "output_type": "execute_result"
    }
   ],
   "source": [
    "{pop: cds_model.fits[(pop, '1000000', 'full')]['mbp'].mle_mu for pop in pop_to_num}"
   ]
  },
  {
   "cell_type": "markdown",
   "id": "908f8100-838a-4630-a6d7-8a2f10e439d6",
   "metadata": {},
   "source": [
    "This is why we have the re-calibrated predictions off $\\mu = 1.3 \\times 10^{-8}$."
   ]
  },
  {
   "cell_type": "markdown",
   "id": "186f3d26-7dc9-4ff0-9583-483818ef7149",
   "metadata": {
    "tags": []
   },
   "source": [
    "### Load PhyloFit Branch Length Estimates\n",
    "\n",
    "The raw phylofit data, see the `Snakefile` for how this is processed.\n",
    "\n",
    "Note that the alignments are fairly large and between 10 primate species. The regions that can be aligned are likely under more contraint compared to regions that are not alignable. "
   ]
  },
  {
   "cell_type": "code",
   "execution_count": 16,
   "id": "060f3b08-3e69-420f-9af3-20012e784c47",
   "metadata": {
    "tags": []
   },
   "outputs": [],
   "source": [
    "import os\n",
    "import re\n",
    "from bgspy.utils import read_phylofit\n",
    "\n",
    "PF_FEATURE_DIR = '../data/phylo/pfests_by_feature/'\n",
    "\n",
    "rows = list()\n",
    "with os.scandir(PF_FEATURE_DIR) as it:\n",
    "    for entry in it:\n",
    "        if entry.name.endswith('.mod'):\n",
    "            chrom, feature = re.match(r'(?P<chrom>[^\\.]+)\\.(?P<feature>\\w+)\\.mod', entry.name).groups()\n",
    "            pf = read_phylofit(entry.path)\n",
    "            # note \"None\" branches are unlabelled internal branches\n",
    "            rows.append({**{'chrom': chrom, 'feature': feature}, **{k: v for k, v in pf['branch_lengths'].items() if k is not None}})\n",
    "            \n",
    "dpf = pd.DataFrame(rows)\n",
    "dpf.to_csv(\"../data/supplementary_data/phylofit_by_feature.tsv\", sep='\\t', index=False)\n",
    "\n",
    "#ave_subrates = dpf.groupby('feature').mean().reset_index()\n",
    "#ave_subrates\n",
    "\n",
    "dpf['seqlen'] = [seqlens[c] for c in dpf['chrom'].tolist()]\n",
    "ave_subrates = dpf.groupby('feature').apply(lambda x: np.average(x.hg38, weights=x.seqlen)).reset_index(name='hg38').reset_index()"
   ]
  },
  {
   "cell_type": "code",
   "execution_count": 17,
   "id": "9c4528ca-bfbf-42df-92b8-53db2e5181c3",
   "metadata": {
    "tags": []
   },
   "outputs": [
    {
     "data": {
      "text/plain": [
       "[Text(0, 0, 'phastcons_no_cds_utr'),\n",
       " Text(1, 0, 'CDS'),\n",
       " Text(2, 0, 'neutral'),\n",
       " Text(3, 0, 'phastcons'),\n",
       " Text(4, 0, 'three_prime_UTR'),\n",
       " Text(5, 0, 'five_prime_UTR'),\n",
       " Text(6, 0, 'intron')]"
      ]
     },
     "execution_count": 17,
     "metadata": {},
     "output_type": "execute_result"
    },
    {
     "data": {
      "image/png": "[encoded data removed]",
      "text/plain": [
       "<Figure size 1000x600 with 1 Axes>"
      ]
     },
     "metadata": {},
     "output_type": "display_data"
    }
   ],
   "source": [
    "fig, ax = plt.subplots()\n",
    "sns.boxplot(x='feature', y='hg38', data=dpf, ax=ax)\n",
    "labels = ax.get_xticklabels()\n",
    "ax.set_xticklabels(labels, fontsize=6)"
   ]
  },
  {
   "cell_type": "code",
   "execution_count": 18,
   "id": "844b9ca2-0825-4980-9b5e-dc95bd17a50c",
   "metadata": {
    "tags": []
   },
   "outputs": [
    {
     "data": {
      "text/html": [
       "<div>\n",
       "<style scoped>\n",
       "    .dataframe tbody tr th:only-of-type {\n",
       "        vertical-align: middle;\n",
       "    }\n",
       "\n",
       "    .dataframe tbody tr th {\n",
       "        vertical-align: top;\n",
       "    }\n",
       "\n",
       "    .dataframe thead th {\n",
       "        text-align: right;\n",
       "    }\n",
       "</style>\n",
       "<table border=\"1\" class=\"dataframe\">\n",
       "  <thead>\n",
       "    <tr style=\"text-align: right;\">\n",
       "      <th></th>\n",
       "      <th>index</th>\n",
       "      <th>feature</th>\n",
       "      <th>hg38</th>\n",
       "    </tr>\n",
       "  </thead>\n",
       "  <tbody>\n",
       "    <tr>\n",
       "      <th>0</th>\n",
       "      <td>0</td>\n",
       "      <td>CDS</td>\n",
       "      <td>0.003263</td>\n",
       "    </tr>\n",
       "    <tr>\n",
       "      <th>1</th>\n",
       "      <td>1</td>\n",
       "      <td>five_prime_UTR</td>\n",
       "      <td>0.004832</td>\n",
       "    </tr>\n",
       "    <tr>\n",
       "      <th>2</th>\n",
       "      <td>2</td>\n",
       "      <td>intron</td>\n",
       "      <td>0.005900</td>\n",
       "    </tr>\n",
       "    <tr>\n",
       "      <th>3</th>\n",
       "      <td>3</td>\n",
       "      <td>neutral</td>\n",
       "      <td>0.006383</td>\n",
       "    </tr>\n",
       "    <tr>\n",
       "      <th>4</th>\n",
       "      <td>4</td>\n",
       "      <td>phastcons</td>\n",
       "      <td>0.003123</td>\n",
       "    </tr>\n",
       "    <tr>\n",
       "      <th>5</th>\n",
       "      <td>5</td>\n",
       "      <td>phastcons_no_cds_utr</td>\n",
       "      <td>0.003361</td>\n",
       "    </tr>\n",
       "    <tr>\n",
       "      <th>6</th>\n",
       "      <td>6</td>\n",
       "      <td>three_prime_UTR</td>\n",
       "      <td>0.004637</td>\n",
       "    </tr>\n",
       "  </tbody>\n",
       "</table>\n",
       "</div>"
      ],
      "text/plain": [
       "   index               feature      hg38\n",
       "0      0                   CDS  0.003263\n",
       "1      1        five_prime_UTR  0.004832\n",
       "2      2                intron  0.005900\n",
       "3      3               neutral  0.006383\n",
       "4      4             phastcons  0.003123\n",
       "5      5  phastcons_no_cds_utr  0.003361\n",
       "6      6       three_prime_UTR  0.004637"
      ]
     },
     "execution_count": 18,
     "metadata": {},
     "output_type": "execute_result"
    }
   ],
   "source": [
    "ave_subrates"
   ]
  },
  {
   "cell_type": "code",
   "execution_count": 19,
   "id": "36c9e3fc-dfc4-4a3d-83f3-7f83ee740914",
   "metadata": {
    "tags": []
   },
   "outputs": [
    {
     "data": {
      "text/plain": [
       "{'CDS': 0.003262965250255092,\n",
       " 'five_prime_UTR': 0.004831648490872041,\n",
       " 'intron': 0.005900106604425776,\n",
       " 'neutral': 0.006382556418571642,\n",
       " 'phastcons': 0.0031234673534519227,\n",
       " 'phastcons_no_cds_utr': 0.003361419259264475,\n",
       " 'three_prime_UTR': 0.004637271473289304}"
      ]
     },
     "execution_count": 19,
     "metadata": {},
     "output_type": "execute_result"
    }
   ],
   "source": [
    "# we make a dictionary form for hg38\n",
    "S = dict(zip(ave_subrates['feature'], ave_subrates['hg38']))\n",
    "S"
   ]
  },
  {
   "cell_type": "markdown",
   "id": "e6c430df-c67a-47fe-b94b-bf25715c2661",
   "metadata": {},
   "source": [
    "#### Mini look at the PhyloFit files and entries"
   ]
  },
  {
   "cell_type": "code",
   "execution_count": 20,
   "id": "da53a5c4-8e00-456b-98c5-d20ecb852dbb",
   "metadata": {
    "tags": []
   },
   "outputs": [
    {
     "name": "stdout",
     "output_type": "stream",
     "text": [
      "ALPHABET: A C G T \n",
      "ORDER: 0\n",
      "SUBST_MOD: UNREST\n",
      "TRAINING_LNL: -2202646.187343\n",
      "BACKGROUND: 0.298017 0.202768 0.201547 0.297668 \n",
      "RATE_MAT:\n",
      "  -0.784001    0.146304    0.538916    0.098782 \n",
      "   0.169022   -1.321608    0.212105    0.940481 \n",
      "   0.925727    0.209964   -1.305964    0.170273 \n",
      "   0.109685    0.534098    0.146229   -0.790012 \n",
      "TREE: (ponAbe2:0.00927738,((hg38:0.00458749,(panTro4:0.00153405,panPan1:0.00150245):0.00311584):0.00158494,gorGor3:0.00608817):0.00866811);\n"
     ]
    }
   ],
   "source": [
    "!cat '../data/phylo/pfests_by_feature/chr8.three_prime_UTR.mod'"
   ]
  },
  {
   "cell_type": "code",
   "execution_count": 21,
   "id": "7775a978-bfa3-4974-b40c-d98d6eba9f24",
   "metadata": {
    "tags": []
   },
   "outputs": [
    {
     "data": {
      "text/plain": [
       "{'alphabet': 'A C G T',\n",
       " 'order': '0',\n",
       " 'subst_mod': 'UNREST',\n",
       " 'training_lnl': '-2202646.187343',\n",
       " 'background': '0.298017 0.202768 0.201547 0.297668',\n",
       " 'rate': array([[-0.784001,  0.146304,  0.538916,  0.098782],\n",
       "        [ 0.169022, -1.321608,  0.212105,  0.940481],\n",
       "        [ 0.925727,  0.209964, -1.305964,  0.170273],\n",
       "        [ 0.109685,  0.534098,  0.146229, -0.790012]]),\n",
       " 'tree': '(ponAbe2:0.00927738,((hg38:0.00458749,(panTro4:0.00153405,panPan1:0.00150245):0.00311584):0.00158494,gorGor3:0.00608817):0.00866811);',\n",
       " 'branch_lengths': {None: 0.00311584,\n",
       "  'ponAbe2': 0.00927738,\n",
       "  'hg38': 0.00458749,\n",
       "  'panTro4': 0.00153405,\n",
       "  'panPan1': 0.00150245,\n",
       "  'gorGor3': 0.00608817}}"
      ]
     },
     "execution_count": 21,
     "metadata": {},
     "output_type": "execute_result"
    }
   ],
   "source": [
    "pf"
   ]
  },
  {
   "cell_type": "markdown",
   "id": "380fa546-37a6-4040-8a89-ff41148aeff8",
   "metadata": {},
   "source": [
    "Just to check we're reading things in right..."
   ]
  },
  {
   "cell_type": "markdown",
   "id": "b4bc6047-84ad-446a-80d9-f72371fbd8a4",
   "metadata": {},
   "source": [
    "### Average Sub rate predictions by feature/pop"
   ]
  },
  {
   "cell_type": "code",
   "execution_count": 22,
   "id": "a3ee76e6-e675-4466-8d37-efbb21c15918",
   "metadata": {
    "tags": []
   },
   "outputs": [
    {
     "name": "stderr",
     "output_type": "stream",
     "text": [
      "/tmp/ipykernel_4729/1203525551.py:1: FutureWarning: The default value of numeric_only in DataFrameGroupBy.mean is deprecated. In a future version, numeric_only will default to False. Either specify numeric_only or select only columns which should be valid for the function.\n",
      "  d_cds.groupby('feature').mean()\n"
     ]
    },
    {
     "data": {
      "text/html": [
       "<div>\n",
       "<style scoped>\n",
       "    .dataframe tbody tr th:only-of-type {\n",
       "        vertical-align: middle;\n",
       "    }\n",
       "\n",
       "    .dataframe tbody tr th {\n",
       "        vertical-align: top;\n",
       "    }\n",
       "\n",
       "    .dataframe thead th {\n",
       "        text-align: right;\n",
       "    }\n",
       "</style>\n",
       "<table border=\"1\" class=\"dataframe\">\n",
       "  <thead>\n",
       "    <tr style=\"text-align: right;\">\n",
       "      <th></th>\n",
       "      <th>start</th>\n",
       "      <th>end</th>\n",
       "      <th>R</th>\n",
       "      <th>r</th>\n",
       "      <th>V</th>\n",
       "      <th>Vm</th>\n",
       "      <th>load</th>\n",
       "      <th>seglen</th>\n",
       "      <th>mle_mu</th>\n",
       "      <th>mle_pi0</th>\n",
       "      <th>r_mu</th>\n",
       "      <th>width</th>\n",
       "    </tr>\n",
       "    <tr>\n",
       "      <th>feature</th>\n",
       "      <th></th>\n",
       "      <th></th>\n",
       "      <th></th>\n",
       "      <th></th>\n",
       "      <th></th>\n",
       "      <th></th>\n",
       "      <th></th>\n",
       "      <th></th>\n",
       "      <th></th>\n",
       "      <th></th>\n",
       "      <th></th>\n",
       "      <th></th>\n",
       "    </tr>\n",
       "  </thead>\n",
       "  <tbody>\n",
       "    <tr>\n",
       "      <th>CDS</th>\n",
       "      <td>7.570805e+07</td>\n",
       "      <td>7.570821e+07</td>\n",
       "      <td>1.228831e-06</td>\n",
       "      <td>7.773094e-09</td>\n",
       "      <td>8.612654e-07</td>\n",
       "      <td>8.596331e-08</td>\n",
       "      <td>-2.947901e-14</td>\n",
       "      <td>158.087704</td>\n",
       "      <td>4.016821e-08</td>\n",
       "      <td>0.001255</td>\n",
       "      <td>0.189506</td>\n",
       "      <td>158.087704</td>\n",
       "    </tr>\n",
       "    <tr>\n",
       "      <th>gene</th>\n",
       "      <td>7.725869e+07</td>\n",
       "      <td>7.726030e+07</td>\n",
       "      <td>6.195883e-05</td>\n",
       "      <td>3.865233e-08</td>\n",
       "      <td>2.373492e-07</td>\n",
       "      <td>2.355605e-08</td>\n",
       "      <td>-3.094921e-11</td>\n",
       "      <td>1602.961510</td>\n",
       "      <td>4.016821e-08</td>\n",
       "      <td>0.001255</td>\n",
       "      <td>0.962167</td>\n",
       "      <td>1602.961510</td>\n",
       "    </tr>\n",
       "    <tr>\n",
       "      <th>other</th>\n",
       "      <td>8.130288e+07</td>\n",
       "      <td>8.130331e+07</td>\n",
       "      <td>1.738383e-05</td>\n",
       "      <td>4.016018e-08</td>\n",
       "      <td>1.896735e-14</td>\n",
       "      <td>1.878097e-15</td>\n",
       "      <td>-3.476768e-13</td>\n",
       "      <td>432.862310</td>\n",
       "      <td>4.016821e-08</td>\n",
       "      <td>0.001255</td>\n",
       "      <td>0.999800</td>\n",
       "      <td>432.862310</td>\n",
       "    </tr>\n",
       "    <tr>\n",
       "      <th>phastcons</th>\n",
       "      <td>8.231222e+07</td>\n",
       "      <td>8.231224e+07</td>\n",
       "      <td>3.120878e-09</td>\n",
       "      <td>1.776789e-10</td>\n",
       "      <td>8.335282e-08</td>\n",
       "      <td>8.023603e-09</td>\n",
       "      <td>-4.361746e-16</td>\n",
       "      <td>17.564708</td>\n",
       "      <td>4.016821e-08</td>\n",
       "      <td>0.001255</td>\n",
       "      <td>0.004574</td>\n",
       "      <td>17.564708</td>\n",
       "    </tr>\n",
       "  </tbody>\n",
       "</table>\n",
       "</div>"
      ],
      "text/plain": [
       "                  start           end             R             r  \\\n",
       "feature                                                             \n",
       "CDS        7.570805e+07  7.570821e+07  1.228831e-06  7.773094e-09   \n",
       "gene       7.725869e+07  7.726030e+07  6.195883e-05  3.865233e-08   \n",
       "other      8.130288e+07  8.130331e+07  1.738383e-05  4.016018e-08   \n",
       "phastcons  8.231222e+07  8.231224e+07  3.120878e-09  1.776789e-10   \n",
       "\n",
       "                      V            Vm          load       seglen  \\\n",
       "feature                                                            \n",
       "CDS        8.612654e-07  8.596331e-08 -2.947901e-14   158.087704   \n",
       "gene       2.373492e-07  2.355605e-08 -3.094921e-11  1602.961510   \n",
       "other      1.896735e-14  1.878097e-15 -3.476768e-13   432.862310   \n",
       "phastcons  8.335282e-08  8.023603e-09 -4.361746e-16    17.564708   \n",
       "\n",
       "                 mle_mu   mle_pi0      r_mu        width  \n",
       "feature                                                   \n",
       "CDS        4.016821e-08  0.001255  0.189506   158.087704  \n",
       "gene       4.016821e-08  0.001255  0.962167  1602.961510  \n",
       "other      4.016821e-08  0.001255  0.999800   432.862310  \n",
       "phastcons  4.016821e-08  0.001255  0.004574    17.564708  "
      ]
     },
     "execution_count": 22,
     "metadata": {},
     "output_type": "execute_result"
    }
   ],
   "source": [
    "d_cds.groupby('feature').mean()"
   ]
  },
  {
   "cell_type": "code",
   "execution_count": 23,
   "id": "bd05385f-31c7-4d73-a18c-0d793f0c71c2",
   "metadata": {
    "tags": []
   },
   "outputs": [
    {
     "name": "stderr",
     "output_type": "stream",
     "text": [
      "/tmp/ipykernel_4729/3922117553.py:1: FutureWarning: The default value of numeric_only in DataFrameGroupBy.mean is deprecated. In a future version, numeric_only will default to False. Either specify numeric_only or select only columns which should be valid for the function.\n",
      "  d_pc.groupby('feature').mean()\n"
     ]
    },
    {
     "data": {
      "text/html": [
       "<div>\n",
       "<style scoped>\n",
       "    .dataframe tbody tr th:only-of-type {\n",
       "        vertical-align: middle;\n",
       "    }\n",
       "\n",
       "    .dataframe tbody tr th {\n",
       "        vertical-align: top;\n",
       "    }\n",
       "\n",
       "    .dataframe thead th {\n",
       "        text-align: right;\n",
       "    }\n",
       "</style>\n",
       "<table border=\"1\" class=\"dataframe\">\n",
       "  <thead>\n",
       "    <tr style=\"text-align: right;\">\n",
       "      <th></th>\n",
       "      <th>start</th>\n",
       "      <th>end</th>\n",
       "      <th>R</th>\n",
       "      <th>r</th>\n",
       "      <th>V</th>\n",
       "      <th>Vm</th>\n",
       "      <th>load</th>\n",
       "      <th>seglen</th>\n",
       "      <th>mle_mu</th>\n",
       "      <th>mle_pi0</th>\n",
       "      <th>r_mu</th>\n",
       "      <th>width</th>\n",
       "    </tr>\n",
       "    <tr>\n",
       "      <th>feature</th>\n",
       "      <th></th>\n",
       "      <th></th>\n",
       "      <th></th>\n",
       "      <th></th>\n",
       "      <th></th>\n",
       "      <th></th>\n",
       "      <th></th>\n",
       "      <th></th>\n",
       "      <th></th>\n",
       "      <th></th>\n",
       "      <th></th>\n",
       "      <th></th>\n",
       "    </tr>\n",
       "  </thead>\n",
       "  <tbody>\n",
       "    <tr>\n",
       "      <th>CDS</th>\n",
       "      <td>7.544578e+07</td>\n",
       "      <td>7.544579e+07</td>\n",
       "      <td>3.234023e-08</td>\n",
       "      <td>5.692858e-09</td>\n",
       "      <td>1.858448e-08</td>\n",
       "      <td>1.858448e-09</td>\n",
       "      <td>-6.499911e-16</td>\n",
       "      <td>5.680843</td>\n",
       "      <td>2.205119e-08</td>\n",
       "      <td>0.001222</td>\n",
       "      <td>0.333265</td>\n",
       "      <td>5.680843</td>\n",
       "    </tr>\n",
       "    <tr>\n",
       "      <th>gene</th>\n",
       "      <td>8.080868e+07</td>\n",
       "      <td>8.080894e+07</td>\n",
       "      <td>5.368078e-06</td>\n",
       "      <td>2.078116e-08</td>\n",
       "      <td>5.938349e-08</td>\n",
       "      <td>5.937116e-09</td>\n",
       "      <td>-2.218266e-12</td>\n",
       "      <td>258.314121</td>\n",
       "      <td>2.205119e-08</td>\n",
       "      <td>0.001222</td>\n",
       "      <td>0.941755</td>\n",
       "      <td>258.314121</td>\n",
       "    </tr>\n",
       "    <tr>\n",
       "      <th>other</th>\n",
       "      <td>8.130288e+07</td>\n",
       "      <td>8.130331e+07</td>\n",
       "      <td>9.381206e-06</td>\n",
       "      <td>2.167250e-08</td>\n",
       "      <td>3.240881e-08</td>\n",
       "      <td>3.240881e-09</td>\n",
       "      <td>-1.876425e-13</td>\n",
       "      <td>432.862310</td>\n",
       "      <td>2.205119e-08</td>\n",
       "      <td>0.001222</td>\n",
       "      <td>0.982359</td>\n",
       "      <td>432.862310</td>\n",
       "    </tr>\n",
       "    <tr>\n",
       "      <th>phastcons</th>\n",
       "      <td>8.032200e+07</td>\n",
       "      <td>8.032202e+07</td>\n",
       "      <td>1.132019e-07</td>\n",
       "      <td>7.329506e-09</td>\n",
       "      <td>7.341035e-09</td>\n",
       "      <td>6.376492e-10</td>\n",
       "      <td>-1.093321e-14</td>\n",
       "      <td>15.444688</td>\n",
       "      <td>2.205119e-08</td>\n",
       "      <td>0.001222</td>\n",
       "      <td>0.298229</td>\n",
       "      <td>15.444688</td>\n",
       "    </tr>\n",
       "  </tbody>\n",
       "</table>\n",
       "</div>"
      ],
      "text/plain": [
       "                  start           end             R             r  \\\n",
       "feature                                                             \n",
       "CDS        7.544578e+07  7.544579e+07  3.234023e-08  5.692858e-09   \n",
       "gene       8.080868e+07  8.080894e+07  5.368078e-06  2.078116e-08   \n",
       "other      8.130288e+07  8.130331e+07  9.381206e-06  2.167250e-08   \n",
       "phastcons  8.032200e+07  8.032202e+07  1.132019e-07  7.329506e-09   \n",
       "\n",
       "                      V            Vm          load      seglen        mle_mu  \\\n",
       "feature                                                                         \n",
       "CDS        1.858448e-08  1.858448e-09 -6.499911e-16    5.680843  2.205119e-08   \n",
       "gene       5.938349e-08  5.937116e-09 -2.218266e-12  258.314121  2.205119e-08   \n",
       "other      3.240881e-08  3.240881e-09 -1.876425e-13  432.862310  2.205119e-08   \n",
       "phastcons  7.341035e-09  6.376492e-10 -1.093321e-14   15.444688  2.205119e-08   \n",
       "\n",
       "            mle_pi0      r_mu       width  \n",
       "feature                                    \n",
       "CDS        0.001222  0.333265    5.680843  \n",
       "gene       0.001222  0.941755  258.314121  \n",
       "other      0.001222  0.982359  432.862310  \n",
       "phastcons  0.001222  0.298229   15.444688  "
      ]
     },
     "execution_count": 23,
     "metadata": {},
     "output_type": "execute_result"
    }
   ],
   "source": [
    "d_pc.groupby('feature').mean()"
   ]
  },
  {
   "cell_type": "markdown",
   "id": "aeb80833-402a-4cfd-a2ad-d7beeb290a1c",
   "metadata": {},
   "source": [
    "These are, however, rough calculations. These are not weighted averages as they should be, since we trust an average from a larger region more than a smaller one. "
   ]
  },
  {
   "cell_type": "code",
   "execution_count": 24,
   "id": "7d8f7122-59fd-412f-bfcd-c036ee1c8f25",
   "metadata": {
    "tags": []
   },
   "outputs": [
    {
     "data": {
      "text/html": [
       "<div>\n",
       "<style scoped>\n",
       "    .dataframe tbody tr th:only-of-type {\n",
       "        vertical-align: middle;\n",
       "    }\n",
       "\n",
       "    .dataframe tbody tr th {\n",
       "        vertical-align: top;\n",
       "    }\n",
       "\n",
       "    .dataframe thead th {\n",
       "        text-align: right;\n",
       "    }\n",
       "</style>\n",
       "<table border=\"1\" class=\"dataframe\">\n",
       "  <thead>\n",
       "    <tr style=\"text-align: right;\">\n",
       "      <th></th>\n",
       "      <th>feature</th>\n",
       "      <th>r</th>\n",
       "    </tr>\n",
       "  </thead>\n",
       "  <tbody>\n",
       "    <tr>\n",
       "      <th>0</th>\n",
       "      <td>CDS</td>\n",
       "      <td>5.692858e-09</td>\n",
       "    </tr>\n",
       "    <tr>\n",
       "      <th>1</th>\n",
       "      <td>gene</td>\n",
       "      <td>2.078120e-08</td>\n",
       "    </tr>\n",
       "    <tr>\n",
       "      <th>2</th>\n",
       "      <td>other</td>\n",
       "      <td>2.167250e-08</td>\n",
       "    </tr>\n",
       "    <tr>\n",
       "      <th>3</th>\n",
       "      <td>phastcons</td>\n",
       "      <td>7.329506e-09</td>\n",
       "    </tr>\n",
       "  </tbody>\n",
       "</table>\n",
       "</div>"
      ],
      "text/plain": [
       "     feature             r\n",
       "0        CDS  5.692858e-09\n",
       "1       gene  2.078120e-08\n",
       "2      other  2.167250e-08\n",
       "3  phastcons  7.329506e-09"
      ]
     },
     "execution_count": 24,
     "metadata": {},
     "output_type": "execute_result"
    }
   ],
   "source": [
    "d_pc_ave = d_pc.groupby('feature').apply(lambda x: np.average(x.r, weights=x.width)).reset_index(name='r')\n",
    "d_pc_ave"
   ]
  },
  {
   "cell_type": "code",
   "execution_count": 25,
   "id": "095cf820-9e65-4eef-969f-c99a484da9d1",
   "metadata": {
    "tags": []
   },
   "outputs": [
    {
     "data": {
      "text/html": [
       "<div>\n",
       "<style scoped>\n",
       "    .dataframe tbody tr th:only-of-type {\n",
       "        vertical-align: middle;\n",
       "    }\n",
       "\n",
       "    .dataframe tbody tr th {\n",
       "        vertical-align: top;\n",
       "    }\n",
       "\n",
       "    .dataframe thead th {\n",
       "        text-align: right;\n",
       "    }\n",
       "</style>\n",
       "<table border=\"1\" class=\"dataframe\">\n",
       "  <thead>\n",
       "    <tr style=\"text-align: right;\">\n",
       "      <th></th>\n",
       "      <th>feature</th>\n",
       "      <th>r</th>\n",
       "    </tr>\n",
       "  </thead>\n",
       "  <tbody>\n",
       "    <tr>\n",
       "      <th>0</th>\n",
       "      <td>CDS</td>\n",
       "      <td>7.773094e-09</td>\n",
       "    </tr>\n",
       "    <tr>\n",
       "      <th>1</th>\n",
       "      <td>gene</td>\n",
       "      <td>3.865273e-08</td>\n",
       "    </tr>\n",
       "    <tr>\n",
       "      <th>2</th>\n",
       "      <td>other</td>\n",
       "      <td>4.016018e-08</td>\n",
       "    </tr>\n",
       "    <tr>\n",
       "      <th>3</th>\n",
       "      <td>phastcons</td>\n",
       "      <td>1.776789e-10</td>\n",
       "    </tr>\n",
       "  </tbody>\n",
       "</table>\n",
       "</div>"
      ],
      "text/plain": [
       "     feature             r\n",
       "0        CDS  7.773094e-09\n",
       "1       gene  3.865273e-08\n",
       "2      other  4.016018e-08\n",
       "3  phastcons  1.776789e-10"
      ]
     },
     "execution_count": 25,
     "metadata": {},
     "output_type": "execute_result"
    }
   ],
   "source": [
    "d_cds_ave = d_cds.groupby('feature').apply(lambda x: np.average(x.r, weights=x.width)).reset_index(name='r')\n",
    "d_cds_ave"
   ]
  },
  {
   "cell_type": "markdown",
   "id": "aac4b027-ec64-4d4d-a1e7-3cd0186ffa98",
   "metadata": {},
   "source": [
    "Let't load in the fixed-mu predictions"
   ]
  },
  {
   "cell_type": "code",
   "execution_count": 26,
   "id": "83d6162c-dd10-427f-b7ba-de622ccf1a8c",
   "metadata": {
    "tags": []
   },
   "outputs": [
    {
     "data": {
      "text/html": [
       "<div>\n",
       "<style scoped>\n",
       "    .dataframe tbody tr th:only-of-type {\n",
       "        vertical-align: middle;\n",
       "    }\n",
       "\n",
       "    .dataframe tbody tr th {\n",
       "        vertical-align: top;\n",
       "    }\n",
       "\n",
       "    .dataframe thead th {\n",
       "        text-align: right;\n",
       "    }\n",
       "</style>\n",
       "<table border=\"1\" class=\"dataframe\">\n",
       "  <thead>\n",
       "    <tr style=\"text-align: right;\">\n",
       "      <th></th>\n",
       "      <th>feature</th>\n",
       "      <th>r</th>\n",
       "    </tr>\n",
       "  </thead>\n",
       "  <tbody>\n",
       "    <tr>\n",
       "      <th>0</th>\n",
       "      <td>CDS</td>\n",
       "      <td>2.842589e-09</td>\n",
       "    </tr>\n",
       "    <tr>\n",
       "      <th>1</th>\n",
       "      <td>gene</td>\n",
       "      <td>1.443251e-08</td>\n",
       "    </tr>\n",
       "    <tr>\n",
       "      <th>2</th>\n",
       "      <td>other</td>\n",
       "      <td>1.499700e-08</td>\n",
       "    </tr>\n",
       "    <tr>\n",
       "      <th>3</th>\n",
       "      <td>phastcons</td>\n",
       "      <td>6.860662e-11</td>\n",
       "    </tr>\n",
       "  </tbody>\n",
       "</table>\n",
       "</div>"
      ],
      "text/plain": [
       "     feature             r\n",
       "0        CDS  2.842589e-09\n",
       "1       gene  1.443251e-08\n",
       "2      other  1.499700e-08\n",
       "3  phastcons  6.860662e-11"
      ]
     },
     "execution_count": 26,
     "metadata": {},
     "output_type": "execute_result"
    }
   ],
   "source": [
    "d_cds_mu_ave = d_cds_mu.groupby('feature').apply(lambda x: np.average(x.r, weights=x.width)).reset_index(name='r')\n",
    "d_cds_mu_ave"
   ]
  },
  {
   "cell_type": "code",
   "execution_count": 27,
   "id": "cd7a118f-b93f-4ea8-80b4-3e5e55c4d27c",
   "metadata": {
    "tags": []
   },
   "outputs": [
    {
     "data": {
      "text/html": [
       "<div>\n",
       "<style scoped>\n",
       "    .dataframe tbody tr th:only-of-type {\n",
       "        vertical-align: middle;\n",
       "    }\n",
       "\n",
       "    .dataframe tbody tr th {\n",
       "        vertical-align: top;\n",
       "    }\n",
       "\n",
       "    .dataframe thead th {\n",
       "        text-align: right;\n",
       "    }\n",
       "</style>\n",
       "<table border=\"1\" class=\"dataframe\">\n",
       "  <thead>\n",
       "    <tr style=\"text-align: right;\">\n",
       "      <th></th>\n",
       "      <th>feature</th>\n",
       "      <th>r</th>\n",
       "    </tr>\n",
       "  </thead>\n",
       "  <tbody>\n",
       "    <tr>\n",
       "      <th>0</th>\n",
       "      <td>CDS</td>\n",
       "      <td>4.998982e-09</td>\n",
       "    </tr>\n",
       "    <tr>\n",
       "      <th>1</th>\n",
       "      <td>gene</td>\n",
       "      <td>1.412635e-08</td>\n",
       "    </tr>\n",
       "    <tr>\n",
       "      <th>2</th>\n",
       "      <td>other</td>\n",
       "      <td>1.473538e-08</td>\n",
       "    </tr>\n",
       "    <tr>\n",
       "      <th>3</th>\n",
       "      <td>phastcons</td>\n",
       "      <td>4.473440e-09</td>\n",
       "    </tr>\n",
       "  </tbody>\n",
       "</table>\n",
       "</div>"
      ],
      "text/plain": [
       "     feature             r\n",
       "0        CDS  4.998982e-09\n",
       "1       gene  1.412635e-08\n",
       "2      other  1.473538e-08\n",
       "3  phastcons  4.473440e-09"
      ]
     },
     "execution_count": 27,
     "metadata": {},
     "output_type": "execute_result"
    }
   ],
   "source": [
    "d_pc_mu_ave = d_pc_mu.groupby('feature').apply(lambda x: np.average(x.r, weights=x.width)).reset_index(name='r')\n",
    "d_pc_mu_ave"
   ]
  },
  {
   "cell_type": "markdown",
   "id": "ec7faa24-cdf0-40b8-bf04-5e567032723f",
   "metadata": {},
   "source": [
    "Now let's look at pop-specific predictions."
   ]
  },
  {
   "cell_type": "code",
   "execution_count": 28,
   "id": "b81d8b65-4911-4678-8ef9-c49f51004a8d",
   "metadata": {
    "tags": []
   },
   "outputs": [
    {
     "data": {
      "text/html": [
       "<div>\n",
       "<style scoped>\n",
       "    .dataframe tbody tr th:only-of-type {\n",
       "        vertical-align: middle;\n",
       "    }\n",
       "\n",
       "    .dataframe tbody tr th {\n",
       "        vertical-align: top;\n",
       "    }\n",
       "\n",
       "    .dataframe thead th {\n",
       "        text-align: right;\n",
       "    }\n",
       "</style>\n",
       "<table border=\"1\" class=\"dataframe\">\n",
       "  <thead>\n",
       "    <tr style=\"text-align: right;\">\n",
       "      <th></th>\n",
       "      <th>feature</th>\n",
       "      <th>pop</th>\n",
       "      <th>r</th>\n",
       "    </tr>\n",
       "  </thead>\n",
       "  <tbody>\n",
       "    <tr>\n",
       "      <th>0</th>\n",
       "      <td>CDS</td>\n",
       "      <td>ceu</td>\n",
       "      <td>1.420540e-14</td>\n",
       "    </tr>\n",
       "    <tr>\n",
       "      <th>1</th>\n",
       "      <td>CDS</td>\n",
       "      <td>chb</td>\n",
       "      <td>7.124437e-14</td>\n",
       "    </tr>\n",
       "    <tr>\n",
       "      <th>2</th>\n",
       "      <td>CDS</td>\n",
       "      <td>yri</td>\n",
       "      <td>1.707849e-08</td>\n",
       "    </tr>\n",
       "    <tr>\n",
       "      <th>3</th>\n",
       "      <td>gene</td>\n",
       "      <td>ceu</td>\n",
       "      <td>2.216206e-08</td>\n",
       "    </tr>\n",
       "    <tr>\n",
       "      <th>4</th>\n",
       "      <td>gene</td>\n",
       "      <td>chb</td>\n",
       "      <td>2.418668e-08</td>\n",
       "    </tr>\n",
       "    <tr>\n",
       "      <th>5</th>\n",
       "      <td>gene</td>\n",
       "      <td>yri</td>\n",
       "      <td>1.599487e-08</td>\n",
       "    </tr>\n",
       "    <tr>\n",
       "      <th>6</th>\n",
       "      <td>other</td>\n",
       "      <td>ceu</td>\n",
       "      <td>2.311440e-08</td>\n",
       "    </tr>\n",
       "    <tr>\n",
       "      <th>7</th>\n",
       "      <td>other</td>\n",
       "      <td>chb</td>\n",
       "      <td>2.519008e-08</td>\n",
       "    </tr>\n",
       "    <tr>\n",
       "      <th>8</th>\n",
       "      <td>other</td>\n",
       "      <td>yri</td>\n",
       "      <td>1.671301e-08</td>\n",
       "    </tr>\n",
       "    <tr>\n",
       "      <th>9</th>\n",
       "      <td>phastcons</td>\n",
       "      <td>ceu</td>\n",
       "      <td>9.630683e-09</td>\n",
       "    </tr>\n",
       "    <tr>\n",
       "      <th>10</th>\n",
       "      <td>phastcons</td>\n",
       "      <td>chb</td>\n",
       "      <td>1.227509e-08</td>\n",
       "    </tr>\n",
       "    <tr>\n",
       "      <th>11</th>\n",
       "      <td>phastcons</td>\n",
       "      <td>yri</td>\n",
       "      <td>8.274402e-11</td>\n",
       "    </tr>\n",
       "  </tbody>\n",
       "</table>\n",
       "</div>"
      ],
      "text/plain": [
       "      feature  pop             r\n",
       "0         CDS  ceu  1.420540e-14\n",
       "1         CDS  chb  7.124437e-14\n",
       "2         CDS  yri  1.707849e-08\n",
       "3        gene  ceu  2.216206e-08\n",
       "4        gene  chb  2.418668e-08\n",
       "5        gene  yri  1.599487e-08\n",
       "6       other  ceu  2.311440e-08\n",
       "7       other  chb  2.519008e-08\n",
       "8       other  yri  1.671301e-08\n",
       "9   phastcons  ceu  9.630683e-09\n",
       "10  phastcons  chb  1.227509e-08\n",
       "11  phastcons  yri  8.274402e-11"
      ]
     },
     "execution_count": 28,
     "metadata": {},
     "output_type": "execute_result"
    }
   ],
   "source": [
    "d_pc_popave = d_pc.groupby(['feature', 'pop']).apply(lambda x: np.average(x.r, weights=x.width)).reset_index(name='r')\n",
    "d_pc_popave"
   ]
  },
  {
   "cell_type": "code",
   "execution_count": 29,
   "id": "04082f51-c07b-4596-83a4-a68d78bc224c",
   "metadata": {
    "tags": []
   },
   "outputs": [
    {
     "data": {
      "text/html": [
       "<div>\n",
       "<style scoped>\n",
       "    .dataframe tbody tr th:only-of-type {\n",
       "        vertical-align: middle;\n",
       "    }\n",
       "\n",
       "    .dataframe tbody tr th {\n",
       "        vertical-align: top;\n",
       "    }\n",
       "\n",
       "    .dataframe thead th {\n",
       "        text-align: right;\n",
       "    }\n",
       "</style>\n",
       "<table border=\"1\" class=\"dataframe\">\n",
       "  <thead>\n",
       "    <tr style=\"text-align: right;\">\n",
       "      <th></th>\n",
       "      <th>feature</th>\n",
       "      <th>pop</th>\n",
       "      <th>r</th>\n",
       "    </tr>\n",
       "  </thead>\n",
       "  <tbody>\n",
       "    <tr>\n",
       "      <th>0</th>\n",
       "      <td>CDS</td>\n",
       "      <td>ceu</td>\n",
       "      <td>4.367136e-09</td>\n",
       "    </tr>\n",
       "    <tr>\n",
       "      <th>1</th>\n",
       "      <td>CDS</td>\n",
       "      <td>chb</td>\n",
       "      <td>3.667022e-09</td>\n",
       "    </tr>\n",
       "    <tr>\n",
       "      <th>2</th>\n",
       "      <td>CDS</td>\n",
       "      <td>yri</td>\n",
       "      <td>1.528513e-08</td>\n",
       "    </tr>\n",
       "    <tr>\n",
       "      <th>3</th>\n",
       "      <td>gene</td>\n",
       "      <td>ceu</td>\n",
       "      <td>3.958073e-08</td>\n",
       "    </tr>\n",
       "    <tr>\n",
       "      <th>4</th>\n",
       "      <td>gene</td>\n",
       "      <td>chb</td>\n",
       "      <td>3.600846e-08</td>\n",
       "    </tr>\n",
       "    <tr>\n",
       "      <th>5</th>\n",
       "      <td>gene</td>\n",
       "      <td>yri</td>\n",
       "      <td>4.036899e-08</td>\n",
       "    </tr>\n",
       "    <tr>\n",
       "      <th>6</th>\n",
       "      <td>other</td>\n",
       "      <td>ceu</td>\n",
       "      <td>4.099326e-08</td>\n",
       "    </tr>\n",
       "    <tr>\n",
       "      <th>7</th>\n",
       "      <td>other</td>\n",
       "      <td>chb</td>\n",
       "      <td>3.754435e-08</td>\n",
       "    </tr>\n",
       "    <tr>\n",
       "      <th>8</th>\n",
       "      <td>other</td>\n",
       "      <td>yri</td>\n",
       "      <td>4.194293e-08</td>\n",
       "    </tr>\n",
       "    <tr>\n",
       "      <th>9</th>\n",
       "      <td>phastcons</td>\n",
       "      <td>ceu</td>\n",
       "      <td>1.313858e-11</td>\n",
       "    </tr>\n",
       "    <tr>\n",
       "      <th>10</th>\n",
       "      <td>phastcons</td>\n",
       "      <td>chb</td>\n",
       "      <td>3.609395e-10</td>\n",
       "    </tr>\n",
       "    <tr>\n",
       "      <th>11</th>\n",
       "      <td>phastcons</td>\n",
       "      <td>yri</td>\n",
       "      <td>1.589586e-10</td>\n",
       "    </tr>\n",
       "  </tbody>\n",
       "</table>\n",
       "</div>"
      ],
      "text/plain": [
       "      feature  pop             r\n",
       "0         CDS  ceu  4.367136e-09\n",
       "1         CDS  chb  3.667022e-09\n",
       "2         CDS  yri  1.528513e-08\n",
       "3        gene  ceu  3.958073e-08\n",
       "4        gene  chb  3.600846e-08\n",
       "5        gene  yri  4.036899e-08\n",
       "6       other  ceu  4.099326e-08\n",
       "7       other  chb  3.754435e-08\n",
       "8       other  yri  4.194293e-08\n",
       "9   phastcons  ceu  1.313858e-11\n",
       "10  phastcons  chb  3.609395e-10\n",
       "11  phastcons  yri  1.589586e-10"
      ]
     },
     "execution_count": 29,
     "metadata": {},
     "output_type": "execute_result"
    }
   ],
   "source": [
    "d_cds_popave = d_cds.groupby(['feature', 'pop']).apply(lambda x: np.average(x.r, weights=x.width)).reset_index(name='r')\n",
    "d_cds_popave"
   ]
  },
  {
   "cell_type": "code",
   "execution_count": 30,
   "id": "d30abc03-665a-456b-acd9-2122ebc004ef",
   "metadata": {
    "tags": []
   },
   "outputs": [
    {
     "data": {
      "text/html": [
       "<div>\n",
       "<style scoped>\n",
       "    .dataframe tbody tr th:only-of-type {\n",
       "        vertical-align: middle;\n",
       "    }\n",
       "\n",
       "    .dataframe tbody tr th {\n",
       "        vertical-align: top;\n",
       "    }\n",
       "\n",
       "    .dataframe thead th {\n",
       "        text-align: right;\n",
       "    }\n",
       "</style>\n",
       "<table border=\"1\" class=\"dataframe\">\n",
       "  <thead>\n",
       "    <tr style=\"text-align: right;\">\n",
       "      <th></th>\n",
       "      <th>feature</th>\n",
       "      <th>pop</th>\n",
       "      <th>r</th>\n",
       "    </tr>\n",
       "  </thead>\n",
       "  <tbody>\n",
       "    <tr>\n",
       "      <th>0</th>\n",
       "      <td>CDS</td>\n",
       "      <td>ceu</td>\n",
       "      <td>1.597676e-09</td>\n",
       "    </tr>\n",
       "    <tr>\n",
       "      <th>1</th>\n",
       "      <td>CDS</td>\n",
       "      <td>chb</td>\n",
       "      <td>1.464783e-09</td>\n",
       "    </tr>\n",
       "    <tr>\n",
       "      <th>2</th>\n",
       "      <td>CDS</td>\n",
       "      <td>yri</td>\n",
       "      <td>5.465308e-09</td>\n",
       "    </tr>\n",
       "    <tr>\n",
       "      <th>3</th>\n",
       "      <td>gene</td>\n",
       "      <td>ceu</td>\n",
       "      <td>1.448015e-08</td>\n",
       "    </tr>\n",
       "    <tr>\n",
       "      <th>4</th>\n",
       "      <td>gene</td>\n",
       "      <td>chb</td>\n",
       "      <td>1.438341e-08</td>\n",
       "    </tr>\n",
       "    <tr>\n",
       "      <th>5</th>\n",
       "      <td>gene</td>\n",
       "      <td>yri</td>\n",
       "      <td>1.443396e-08</td>\n",
       "    </tr>\n",
       "    <tr>\n",
       "      <th>6</th>\n",
       "      <td>other</td>\n",
       "      <td>ceu</td>\n",
       "      <td>1.499700e-08</td>\n",
       "    </tr>\n",
       "    <tr>\n",
       "      <th>7</th>\n",
       "      <td>other</td>\n",
       "      <td>chb</td>\n",
       "      <td>1.499700e-08</td>\n",
       "    </tr>\n",
       "    <tr>\n",
       "      <th>8</th>\n",
       "      <td>other</td>\n",
       "      <td>yri</td>\n",
       "      <td>1.499700e-08</td>\n",
       "    </tr>\n",
       "    <tr>\n",
       "      <th>9</th>\n",
       "      <td>phastcons</td>\n",
       "      <td>ceu</td>\n",
       "      <td>4.806627e-12</td>\n",
       "    </tr>\n",
       "    <tr>\n",
       "      <th>10</th>\n",
       "      <td>phastcons</td>\n",
       "      <td>chb</td>\n",
       "      <td>1.441764e-10</td>\n",
       "    </tr>\n",
       "    <tr>\n",
       "      <th>11</th>\n",
       "      <td>phastcons</td>\n",
       "      <td>yri</td>\n",
       "      <td>5.683681e-11</td>\n",
       "    </tr>\n",
       "  </tbody>\n",
       "</table>\n",
       "</div>"
      ],
      "text/plain": [
       "      feature  pop             r\n",
       "0         CDS  ceu  1.597676e-09\n",
       "1         CDS  chb  1.464783e-09\n",
       "2         CDS  yri  5.465308e-09\n",
       "3        gene  ceu  1.448015e-08\n",
       "4        gene  chb  1.438341e-08\n",
       "5        gene  yri  1.443396e-08\n",
       "6       other  ceu  1.499700e-08\n",
       "7       other  chb  1.499700e-08\n",
       "8       other  yri  1.499700e-08\n",
       "9   phastcons  ceu  4.806627e-12\n",
       "10  phastcons  chb  1.441764e-10\n",
       "11  phastcons  yri  5.683681e-11"
      ]
     },
     "execution_count": 30,
     "metadata": {},
     "output_type": "execute_result"
    }
   ],
   "source": [
    "d_cds_mu_popave = d_cds_mu.groupby(['feature', 'pop']).apply(lambda x: np.average(x.r, weights=x.width)).reset_index(name='r')\n",
    "d_cds_mu_popave"
   ]
  },
  {
   "cell_type": "code",
   "execution_count": 31,
   "id": "1eed942f-d396-4aea-bb81-009d4c48dc6a",
   "metadata": {
    "tags": []
   },
   "outputs": [
    {
     "data": {
      "text/html": [
       "<div>\n",
       "<style scoped>\n",
       "    .dataframe tbody tr th:only-of-type {\n",
       "        vertical-align: middle;\n",
       "    }\n",
       "\n",
       "    .dataframe tbody tr th {\n",
       "        vertical-align: top;\n",
       "    }\n",
       "\n",
       "    .dataframe thead th {\n",
       "        text-align: right;\n",
       "    }\n",
       "</style>\n",
       "<table border=\"1\" class=\"dataframe\">\n",
       "  <thead>\n",
       "    <tr style=\"text-align: right;\">\n",
       "      <th></th>\n",
       "      <th>feature</th>\n",
       "      <th>pop</th>\n",
       "      <th>r</th>\n",
       "    </tr>\n",
       "  </thead>\n",
       "  <tbody>\n",
       "    <tr>\n",
       "      <th>2</th>\n",
       "      <td>CDS</td>\n",
       "      <td>yri</td>\n",
       "      <td>5.465308e-09</td>\n",
       "    </tr>\n",
       "    <tr>\n",
       "      <th>5</th>\n",
       "      <td>gene</td>\n",
       "      <td>yri</td>\n",
       "      <td>1.443396e-08</td>\n",
       "    </tr>\n",
       "    <tr>\n",
       "      <th>8</th>\n",
       "      <td>other</td>\n",
       "      <td>yri</td>\n",
       "      <td>1.499700e-08</td>\n",
       "    </tr>\n",
       "    <tr>\n",
       "      <th>11</th>\n",
       "      <td>phastcons</td>\n",
       "      <td>yri</td>\n",
       "      <td>5.683681e-11</td>\n",
       "    </tr>\n",
       "  </tbody>\n",
       "</table>\n",
       "</div>"
      ],
      "text/plain": [
       "      feature  pop             r\n",
       "2         CDS  yri  5.465308e-09\n",
       "5        gene  yri  1.443396e-08\n",
       "8       other  yri  1.499700e-08\n",
       "11  phastcons  yri  5.683681e-11"
      ]
     },
     "execution_count": 31,
     "metadata": {},
     "output_type": "execute_result"
    }
   ],
   "source": [
    "d_cds_mu_yriave = d_cds_mu_popave.loc[d_cds_mu_popave['pop'] == 'yri']\n",
    "d_cds_mu_yriave"
   ]
  },
  {
   "cell_type": "code",
   "execution_count": 32,
   "id": "ef1eabd7-e520-4609-8456-046c578427b0",
   "metadata": {
    "tags": []
   },
   "outputs": [
    {
     "data": {
      "image/png": "[encoded data removed]",
      "text/plain": [
       "<Figure size 1000x600 with 2 Axes>"
      ]
     },
     "metadata": {},
     "output_type": "display_data"
    }
   ],
   "source": [
    "fig, ax = plt.subplots(ncols=2, sharey=True)\n",
    "sns.scatterplot(x='feature', y='r', hue='pop', data=d_cds_popave, ax=ax[0])\n",
    "sns.scatterplot(x='feature', y='r', hue='pop', data=d_pc_popave, ax=ax[1])\n",
    "ax[0].semilogy()\n",
    "ax[0].set_title(\"Feature priority\")\n",
    "ax[1].set_title(\"PhastCons priority\")\n",
    "plt.tight_layout()"
   ]
  },
  {
   "cell_type": "markdown",
   "id": "b47e082f-a4ba-4b17-81ce-0e760cec736f",
   "metadata": {},
   "source": [
    "This makes sense — the Phastcons priority model has less stable estimates, and thus predictions of CDS since so few bases are left when PC takes priority.\n",
    "\n",
    "Also note that the Feature Priority PhastCons estimates are much more strongly selected against than those of the PhastCons priority."
   ]
  },
  {
   "cell_type": "markdown",
   "id": "004e29c1-f76e-4e8f-8624-4848ca846bfb",
   "metadata": {},
   "source": [
    "### Look at the PhyloFit Rates"
   ]
  },
  {
   "cell_type": "code",
   "execution_count": 33,
   "id": "b5a3f54e-9422-4efa-b4cd-6d3960d75a9e",
   "metadata": {
    "tags": []
   },
   "outputs": [
    {
     "data": {
      "text/plain": [
       "({'CDS': 2.8425888882378936e-09,\n",
       "  'gene': 1.4432505284736288e-08,\n",
       "  'other': 1.499700012802837e-08,\n",
       "  'phastcons': 6.860661730317876e-11},\n",
       " {'CDS': 4.998981686422802e-09,\n",
       "  'gene': 1.4126346890763225e-08,\n",
       "  'other': 1.473537964322556e-08,\n",
       "  'phastcons': 4.473440024897332e-09})"
      ]
     },
     "execution_count": 33,
     "metadata": {},
     "output_type": "execute_result"
    }
   ],
   "source": [
    "cds_mu_ave = dict(zip(d_cds_mu_ave['feature'], d_cds_mu_ave['r']))\n",
    "cds_mu_ave\n",
    "\n",
    "pc_mu_ave = dict(zip(d_pc_mu_ave['feature'], d_pc_mu_ave['r']))\n",
    "cds_mu_ave, pc_mu_ave"
   ]
  },
  {
   "cell_type": "code",
   "execution_count": 34,
   "id": "5d8075a7-9184-4fd8-950e-25b1e3d84c70",
   "metadata": {
    "tags": []
   },
   "outputs": [
    {
     "data": {
      "text/plain": [
       "({'CDS': 7.773094390558769e-09,\n",
       "  'gene': 3.8652727567906293e-08,\n",
       "  'other': 4.0160180205940505e-08,\n",
       "  'phastcons': 1.7767890359821262e-10},\n",
       " {'CDS': 5.692857797140539e-09,\n",
       "  'gene': 2.0781202843865657e-08,\n",
       "  'other': 2.167249536073435e-08,\n",
       "  'phastcons': 7.329505579780599e-09})"
      ]
     },
     "execution_count": 34,
     "metadata": {},
     "output_type": "execute_result"
    }
   ],
   "source": [
    "cds_ave = dict(zip(d_cds_ave['feature'], d_cds_ave['r']))\n",
    "cds_ave\n",
    "\n",
    "pc_ave = dict(zip(d_pc_ave['feature'], d_pc_ave['r']))\n",
    "cds_ave, pc_ave"
   ]
  },
  {
   "cell_type": "markdown",
   "id": "c7742563-4f73-4add-8583-36104e31a3b8",
   "metadata": {},
   "source": [
    "## Main Subsitution Fig"
   ]
  },
  {
   "cell_type": "code",
   "execution_count": 172,
   "id": "00bd9596-b0a1-4c3e-bec3-cb92449f5766",
   "metadata": {
    "tags": []
   },
   "outputs": [
    {
     "data": {
      "text/plain": [
       "{'CDS': 0.003262965250255092,\n",
       " 'five_prime_UTR': 0.004831648490872041,\n",
       " 'intron': 0.005900106604425776,\n",
       " 'neutral': 0.006382556418571642,\n",
       " 'phastcons': 0.0031234673534519227,\n",
       " 'phastcons_no_cds_utr': 0.003361419259264475,\n",
       " 'three_prime_UTR': 0.004637271473289304}"
      ]
     },
     "execution_count": 172,
     "metadata": {},
     "output_type": "execute_result"
    }
   ],
   "source": [
    "S"
   ]
  },
  {
   "cell_type": "code",
   "execution_count": 173,
   "id": "c7d6071b-ad07-4716-92d6-80dd41d57b06",
   "metadata": {
    "tags": []
   },
   "outputs": [
    {
     "data": {
      "text/plain": [
       "(0.5112317128542224, 0.4893755963305572)"
      ]
     },
     "execution_count": 173,
     "metadata": {},
     "output_type": "execute_result"
    }
   ],
   "source": [
    "S['CDS']/S['neutral'] , S['phastcons']/S['neutral'] "
   ]
  },
  {
   "cell_type": "code",
   "execution_count": 176,
   "id": "8ff30b95-b335-4fdf-9c96-fa1d927ce83f",
   "metadata": {
    "tags": []
   },
   "outputs": [
    {
     "data": {
      "text/plain": [
       "0.955251993618109"
      ]
     },
     "execution_count": 176,
     "metadata": {},
     "output_type": "execute_result"
    }
   ],
   "source": [
    "(S['phastcons']/S['neutral'] * 100) / 51.23"
   ]
  },
  {
   "cell_type": "code",
   "execution_count": 174,
   "id": "eac4dd78-02ee-4b20-ba35-aea9ded729f5",
   "metadata": {
    "tags": []
   },
   "outputs": [
    {
     "data": {
      "text/plain": [
       "(0.9244111947460335, 0.7570083480677355, 0.7265539337491799)"
      ]
     },
     "execution_count": 174,
     "metadata": {},
     "output_type": "execute_result"
    }
   ],
   "source": [
    "S['intron']/S['neutral'] , S['five_prime_UTR']/S['neutral'] , S['three_prime_UTR']/S['neutral'] "
   ]
  },
  {
   "cell_type": "code",
   "execution_count": null,
   "id": "fb31bcef-0544-4fb6-9d4b-1ee448997e71",
   "metadata": {},
   "outputs": [],
   "source": []
  },
  {
   "cell_type": "code",
   "execution_count": 155,
   "id": "d8d9c036-e92c-4c4a-b68a-830fbf3f8c3a",
   "metadata": {
    "tags": []
   },
   "outputs": [
    {
     "name": "stderr",
     "output_type": "stream",
     "text": [
      "/tmp/ipykernel_4729/1919140483.py:84: UserWarning: FixedFormatter should only be used together with FixedLocator\n",
      "  ax.set_xticklabels(new_labs)\n"
     ]
    },
    {
     "data": {
      "image/png": "[encoded data removed]",
      "text/plain": [
       "<Figure size 1000x600 with 1 Axes>"
      ]
     },
     "metadata": {},
     "output_type": "display_data"
    }
   ],
   "source": [
    "\n",
    "from matplotlib.ticker import FuncFormatter\n",
    "import matplotlib.lines as mlines\n",
    "\n",
    "\n",
    "def error_range(x, ymin, ymax, ax, flip=False, text=None, cap_length = 0.1, label=None, **kwargs):\n",
    "    if flip:\n",
    "        cap_length = -cap_length\n",
    "    y = [(ymin_i + ymax_i) / 2 for ymin_i, ymax_i in zip(ymin, ymax)]\n",
    "    y_err = [(ymax_i - ymin_i) / 2 for ymin_i, ymax_i in zip(ymin, ymax)]\n",
    "    c = ax.errorbar(x, y,  yerr=y_err, fmt='none', label=label, **kwargs)\n",
    "      # Adjust as needed\n",
    "    for xi, yi, yerr_i in zip(x, y, y_err):\n",
    "        line = mlines.Line2D([xi, xi + cap_length], [yi + yerr_i, yi + yerr_i], c=kwargs.get('c', 'k'))\n",
    "        ax.add_line(line)\n",
    "        line = mlines.Line2D([xi, xi + cap_length], [yi - yerr_i, yi - yerr_i], c=kwargs.get('c', 'k'))\n",
    "        ax.add_line(line)\n",
    "\n",
    "\n",
    "# the obs. subs dists\n",
    "Sa = dict(S)\n",
    "# simplify plot;  this doesn't add anything\n",
    "Sa.pop('phastcons_no_cds_utr')\n",
    "x, y = np.fromiter(Sa.keys(), 'object'), np.fromiter(Sa.values(), 'float')\n",
    "idx = np.argsort(y)\n",
    "x, y = x[idx], y[idx]\n",
    "\n",
    "fig, ax = plt.subplots()\n",
    "ax.plot(x, y, '-o', c='0.22', linewidth=2)\n",
    "ax.tick_params(axis='x', which='major', labelsize=7)\n",
    "def to_percent(y, position):\n",
    "    return str(np.round(100 * y, 2)) + '%'\n",
    "formatter = FuncFormatter(to_percent)\n",
    "\n",
    "# Apply the formatter to the y-axis\n",
    "ax.yaxis.set_major_formatter(formatter)\n",
    "\n",
    "# we need to merge similar features for the X, \n",
    "# so we make a lookup table\n",
    "xi = np.arange(len(x))\n",
    "lookup = dict(zip(x, xi))\n",
    "# join \"gene\" (=UTR+intron) to UTRs since theyre approx same\n",
    "# plot in between the two now\n",
    "lookup['gene'] = (lookup['five_prime_UTR'] + lookup['intron'])/2\n",
    "lookup['other'] = lookup['neutral'] # all other is ~ neutral\n",
    "\n",
    "def pred_range(x, rate, T_low, T_high, gen, ax, **kwargs):\n",
    "    y = np.array(list(rate))\n",
    "    ymin = y * T_low / gen\n",
    "    ymax = y * T_high / gen\n",
    "    error_range(x, ymin, ymax, ax, **kwargs)\n",
    "\n",
    "# get the prediction values phastcons fixed mu\n",
    "px = {lookup[l]: v for l, v in pc_mu_ave.items()}\n",
    "x = np.fromiter(px.keys(), float)\n",
    "pred_range(x-0.1, px.values(), 6e6, 12e6, 29, ax, c='g', label='Phastcons Priority', flip=True)\n",
    "\n",
    "# get the prediction values for CDS fixed mu\n",
    "px = {lookup[l]: v for l, v in cds_mu_ave.items()}\n",
    "x = np.fromiter(px.keys(), float)\n",
    "pred_range(x+0.1, px.values(), 6e6, 12e6, 29, ax, label='Feature Priority', c='c')\n",
    "\n",
    "# get the prediction values for CDS mle mu\n",
    "px = {lookup[l]: v for l, v in cds_ave.items()}\n",
    "x = np.fromiter(px.keys(), float)\n",
    "#pred_range(x, px.values(), 6e6, 12e6, 29, ax, c='r')\n",
    "\n",
    "# # get the prediction values for CDS mle mu\n",
    "x = {lookup[l]: v for l, v in pc_ave.items()}\n",
    "x = np.fromiter(px.keys(), float)\n",
    "#pred_range(x, px.values(), 6e6, 12e6, 29, ax, c='orange')\n",
    "\n",
    "#ax.set_ylim(-1e-4, 0.009)\n",
    "#ax.semilogy()\n",
    "x, y = np.fromiter(S.keys(), 'object'), np.fromiter(S.values(), 'float')\n",
    "idx = np.argsort(y)\n",
    "x, y = x[idx], y[idx]\n",
    "#ax.plot(x, 0.7*y, '-o', c='orange')\n",
    "ax.set_ylabel(\"substitutions/site on human lineage\")\n",
    "\n",
    "#ax.axhline(0.0056)\n",
    "xtick_labs = dict(five_prime_UTR=\"5' UTR\", three_prime_UTR=\"3' UTR\", phastcons_no_cds_utr='phastcons\\nwithout CDS/UTR')\n",
    "new_labs = [xtick_labs.get(x.get_text(), x.get_text()) for x in ax.get_xmajorticklabels()]\n",
    "\n",
    "ax.set_xticklabels(new_labs)\n",
    "ax.legend(fontsize=8)\n",
    "\n",
    "fs = 6\n",
    "\n",
    "ax.text(3.5, 0.0028, \"introns+UTRs\", ha='center', va='top', fontsize=fs)\n",
    "ax.text(5, 0.00295, \"other\", ha='center', va='top', fontsize=fs)\n",
    "ax.text(1.3, 0.00125, \"CDS\\nwith\\nphastcons\", ha='left', va='top', fontsize=fs)\n",
    "ax.text(0.75, 0.001885, \"CDS\\nwithout\\nphastcons\", ha='right', va='top', fontsize=fs)\n",
    "ax.text(-0.25, 0.00178, \"phastcons\\nwith\\nCDS\", ha='right', va='top', fontsize=fs)\n",
    "\n",
    "\n",
    "ax.text(5.25, 0.00615, \"12Mya\", fontsize=5, ha='left')\n",
    "ax.text(5.25, 0.00305, \"6Mya\", fontsize=5, ha='left')\n",
    "\n",
    "legend = ax.legend(fontsize=7, title=\"Annotation Model\", title_fontsize=8)\n",
    "\n",
    "# Set the linewidth of every legend artist\n",
    "for handle in legend.legend_handles:\n",
    "    handle.set_linewidth(3.0)\n",
    "    \n",
    "ax.set_xlim(-1.3, 6)\n",
    "ax.set_xlabel('feature')\n",
    "ax.text(0, 0.0034, \"PhyloFit\\nestimates\", fontsize=7, ha='center')\n",
    "plt.savefig(\"../manuscript/figures/subfigure_subsitution.pdf\")"
   ]
  },
  {
   "cell_type": "code",
   "execution_count": 131,
   "id": "542898a3-7b8c-4565-b25d-5a453c8f7875",
   "metadata": {
    "tags": []
   },
   "outputs": [
    {
     "name": "stderr",
     "output_type": "stream",
     "text": [
      "/tmp/ipykernel_4729/3759102991.py:1: FutureWarning: The default value of numeric_only in DataFrameGroupBy.mean is deprecated. In a future version, numeric_only will default to False. Either specify numeric_only or select only columns which should be valid for the function.\n",
      "  dfg = cds_model.mu_predicts[('yri', '1000000','full')][1.5e-8].groupby('feature').mean()\n"
     ]
    },
    {
     "data": {
      "text/html": [
       "<div>\n",
       "<style scoped>\n",
       "    .dataframe tbody tr th:only-of-type {\n",
       "        vertical-align: middle;\n",
       "    }\n",
       "\n",
       "    .dataframe tbody tr th {\n",
       "        vertical-align: top;\n",
       "    }\n",
       "\n",
       "    .dataframe thead th {\n",
       "        text-align: right;\n",
       "    }\n",
       "</style>\n",
       "<table border=\"1\" class=\"dataframe\">\n",
       "  <thead>\n",
       "    <tr style=\"text-align: right;\">\n",
       "      <th></th>\n",
       "      <th>feature</th>\n",
       "      <th>start</th>\n",
       "      <th>end</th>\n",
       "      <th>R</th>\n",
       "      <th>r</th>\n",
       "      <th>V</th>\n",
       "      <th>Vm</th>\n",
       "      <th>load</th>\n",
       "      <th>seglen</th>\n",
       "      <th>mle_mu</th>\n",
       "      <th>mle_pi0</th>\n",
       "    </tr>\n",
       "  </thead>\n",
       "  <tbody>\n",
       "    <tr>\n",
       "      <th>0</th>\n",
       "      <td>CDS</td>\n",
       "      <td>7.570805e+07</td>\n",
       "      <td>7.570821e+07</td>\n",
       "      <td>8.639980e-07</td>\n",
       "      <td>5.465308e-09</td>\n",
       "      <td>2.584856e-07</td>\n",
       "      <td>2.580561e-08</td>\n",
       "      <td>-1.786121e-14</td>\n",
       "      <td>158.087704</td>\n",
       "      <td>4.195132e-08</td>\n",
       "      <td>0.001518</td>\n",
       "    </tr>\n",
       "    <tr>\n",
       "      <th>1</th>\n",
       "      <td>gene</td>\n",
       "      <td>7.725869e+07</td>\n",
       "      <td>7.726030e+07</td>\n",
       "      <td>2.313708e-05</td>\n",
       "      <td>1.443386e-08</td>\n",
       "      <td>9.193066e-08</td>\n",
       "      <td>9.138641e-09</td>\n",
       "      <td>-1.556578e-11</td>\n",
       "      <td>1602.961510</td>\n",
       "      <td>4.195132e-08</td>\n",
       "      <td>0.001518</td>\n",
       "    </tr>\n",
       "    <tr>\n",
       "      <th>2</th>\n",
       "      <td>other</td>\n",
       "      <td>8.130288e+07</td>\n",
       "      <td>8.130331e+07</td>\n",
       "      <td>6.491636e-06</td>\n",
       "      <td>1.499700e-08</td>\n",
       "      <td>2.686788e-16</td>\n",
       "      <td>1.190186e-17</td>\n",
       "      <td>-1.298327e-13</td>\n",
       "      <td>432.862310</td>\n",
       "      <td>4.195132e-08</td>\n",
       "      <td>0.001518</td>\n",
       "    </tr>\n",
       "    <tr>\n",
       "      <th>3</th>\n",
       "      <td>phastcons</td>\n",
       "      <td>8.231222e+07</td>\n",
       "      <td>8.231224e+07</td>\n",
       "      <td>9.983220e-10</td>\n",
       "      <td>5.683681e-11</td>\n",
       "      <td>2.906252e-08</td>\n",
       "      <td>2.742727e-09</td>\n",
       "      <td>-1.256846e-16</td>\n",
       "      <td>17.564708</td>\n",
       "      <td>4.195132e-08</td>\n",
       "      <td>0.001518</td>\n",
       "    </tr>\n",
       "  </tbody>\n",
       "</table>\n",
       "</div>"
      ],
      "text/plain": [
       "     feature         start           end             R             r  \\\n",
       "0        CDS  7.570805e+07  7.570821e+07  8.639980e-07  5.465308e-09   \n",
       "1       gene  7.725869e+07  7.726030e+07  2.313708e-05  1.443386e-08   \n",
       "2      other  8.130288e+07  8.130331e+07  6.491636e-06  1.499700e-08   \n",
       "3  phastcons  8.231222e+07  8.231224e+07  9.983220e-10  5.683681e-11   \n",
       "\n",
       "              V            Vm          load       seglen        mle_mu  \\\n",
       "0  2.584856e-07  2.580561e-08 -1.786121e-14   158.087704  4.195132e-08   \n",
       "1  9.193066e-08  9.138641e-09 -1.556578e-11  1602.961510  4.195132e-08   \n",
       "2  2.686788e-16  1.190186e-17 -1.298327e-13   432.862310  4.195132e-08   \n",
       "3  2.906252e-08  2.742727e-09 -1.256846e-16    17.564708  4.195132e-08   \n",
       "\n",
       "    mle_pi0  \n",
       "0  0.001518  \n",
       "1  0.001518  \n",
       "2  0.001518  \n",
       "3  0.001518  "
      ]
     },
     "execution_count": 131,
     "metadata": {},
     "output_type": "execute_result"
    }
   ],
   "source": [
    "dfg = cds_model.mu_predicts[('yri', '1000000','full')][1.5e-8].groupby('feature').mean()\n",
    "dfg.reset_index()"
   ]
  },
  {
   "cell_type": "markdown",
   "id": "e237a464-8582-4713-af6d-7df121fd7d13",
   "metadata": {},
   "source": [
    "## Predictions of Load and Fitness Variation"
   ]
  },
  {
   "cell_type": "code",
   "execution_count": 164,
   "id": "2817e346-fba9-495f-ac54-60ddd2566027",
   "metadata": {
    "tags": []
   },
   "outputs": [],
   "source": [
    "def load_Vm_stats(df, mu):\n",
    "    V = df['V'].values.sum()\n",
    "    Vm = df['Vm'].values.sum()\n",
    "    load = df['load'].values.sum()\n",
    "    ave_r = np.average(df['r'].values, weights=df['seglen'])\n",
    "    return dict(V=V, Vm=Vm, load=load, ave_r=100*(ave_r/mu))"
   ]
  },
  {
   "cell_type": "code",
   "execution_count": 165,
   "id": "8104b9e2-4a91-4ee2-a99d-888ad78e5eb7",
   "metadata": {
    "tags": []
   },
   "outputs": [
    {
     "name": "stdout",
     "output_type": "stream",
     "text": [
      "('yri', {'V': 0.4514678609849892, 'Vm': 0.04408337287279682, 'load': -1.6050355973655277e-05, 'ave_r': 90.73946919620982})\n",
      "('ceu', {'V': 0.36560654304416135, 'Vm': 0.03617385261932866, 'load': -7.958612016030076e-06, 'ave_r': 92.96793416167556})\n",
      "('chb', {'V': 0.3126177432219165, 'Vm': 0.03070940645803329, 'load': -5.4269272376705105e-06, 'ave_r': 93.52219197707802})\n"
     ]
    }
   ],
   "source": [
    "mu = 1.5e-8\n",
    "\n",
    "for pop in pop_to_num:\n",
    "    print((pop, load_Vm_stats(pc_model.mu_predicts[(pop, '1000000','full')][mu], mu=mu)))"
   ]
  },
  {
   "cell_type": "code",
   "execution_count": 166,
   "id": "429c5dd8-971a-40d2-8847-19233a037c16",
   "metadata": {
    "tags": []
   },
   "outputs": [
    {
     "name": "stdout",
     "output_type": "stream",
     "text": [
      "('yri', {'V': 0.0403017159006481, 'Vm': 0.0003940556585358832, 'load': -1.193073445923056e-05, 'ave_r': 93.88792432554133})\n",
      "('ceu', {'V': 0.03751388342509904, 'Vm': 0.0003588123831089921, 'load': -1.1765823592398836e-05, 'ave_r': 93.45058430964016})\n",
      "('chb', {'V': 0.03891480233555191, 'Vm': 0.00037109718826938215, 'load': -1.1980983646572522e-05, 'ave_r': 93.08272241795511})\n"
     ]
    }
   ],
   "source": [
    "\n",
    "for pop in pop_to_num:\n",
    "    print((pop, load_Vm_stats(pc_6x7_model.mu_predicts[(pop, '1000000','full')][mu], mu=mu)))"
   ]
  },
  {
   "cell_type": "code",
   "execution_count": null,
   "id": "c971e935-15c4-48ec-bb01-fa9a994cb7f4",
   "metadata": {},
   "outputs": [],
   "source": [
    "for pop in pop_to_num:\n",
    "    print((pop, load_Vm_stats(pc_model.mu_predicts[(pop, '1000000','full')][1.5e-8])))"
   ]
  },
  {
   "cell_type": "code",
   "execution_count": null,
   "id": "cfea9041-c1a4-4b34-bc73-662c276913cc",
   "metadata": {
    "tags": []
   },
   "outputs": [
    {
     "name": "stderr",
     "output_type": "stream",
     "text": [
      "/tmp/ipykernel_4729/2932188844.py:1: FutureWarning: The default value of numeric_only in DataFrameGroupBy.sum is deprecated. In a future version, numeric_only will default to False. Either specify numeric_only or select only columns which should be valid for the function.\n",
      "  cds_model.mu_predicts[('yri', '1000000', 'full')][1.5e-8].groupby('feature').sum()\n"
     ]
    },
    {
     "data": {
      "text/html": [
       "<div>\n",
       "<style scoped>\n",
       "    .dataframe tbody tr th:only-of-type {\n",
       "        vertical-align: middle;\n",
       "    }\n",
       "\n",
       "    .dataframe tbody tr th {\n",
       "        vertical-align: top;\n",
       "    }\n",
       "\n",
       "    .dataframe thead th {\n",
       "        text-align: right;\n",
       "    }\n",
       "</style>\n",
       "<table border=\"1\" class=\"dataframe\">\n",
       "  <thead>\n",
       "    <tr style=\"text-align: right;\">\n",
       "      <th></th>\n",
       "      <th>start</th>\n",
       "      <th>end</th>\n",
       "      <th>R</th>\n",
       "      <th>r</th>\n",
       "      <th>V</th>\n",
       "      <th>Vm</th>\n",
       "      <th>load</th>\n",
       "      <th>seglen</th>\n",
       "      <th>mle_mu</th>\n",
       "      <th>mle_pi0</th>\n",
       "    </tr>\n",
       "    <tr>\n",
       "      <th>feature</th>\n",
       "      <th></th>\n",
       "      <th></th>\n",
       "      <th></th>\n",
       "      <th></th>\n",
       "      <th></th>\n",
       "      <th></th>\n",
       "      <th></th>\n",
       "      <th></th>\n",
       "      <th></th>\n",
       "      <th></th>\n",
       "    </tr>\n",
       "  </thead>\n",
       "  <tbody>\n",
       "    <tr>\n",
       "      <th>CDS</th>\n",
       "      <td>16651607874012</td>\n",
       "      <td>16651642644612</td>\n",
       "      <td>0.190032</td>\n",
       "      <td>0.001202</td>\n",
       "      <td>5.685261e-02</td>\n",
       "      <td>5.675815e-03</td>\n",
       "      <td>-3.928484e-09</td>\n",
       "      <td>34770600</td>\n",
       "      <td>0.009227</td>\n",
       "      <td>333.915111</td>\n",
       "    </tr>\n",
       "    <tr>\n",
       "      <th>gene</th>\n",
       "      <td>75150612560297</td>\n",
       "      <td>75152171783399</td>\n",
       "      <td>22.505757</td>\n",
       "      <td>0.014040</td>\n",
       "      <td>8.942224e-02</td>\n",
       "      <td>8.889284e-03</td>\n",
       "      <td>-1.514105e-05</td>\n",
       "      <td>1559223102</td>\n",
       "      <td>0.040807</td>\n",
       "      <td>1476.750567</td>\n",
       "    </tr>\n",
       "    <tr>\n",
       "      <th>other</th>\n",
       "      <td>232797614633993</td>\n",
       "      <td>232798854065095</td>\n",
       "      <td>18.587749</td>\n",
       "      <td>0.042941</td>\n",
       "      <td>7.693184e-10</td>\n",
       "      <td>3.407903e-11</td>\n",
       "      <td>-3.717550e-07</td>\n",
       "      <td>1239431102</td>\n",
       "      <td>0.120121</td>\n",
       "      <td>4347.049611</td>\n",
       "    </tr>\n",
       "    <tr>\n",
       "      <th>phastcons</th>\n",
       "      <td>194837974696262</td>\n",
       "      <td>194838016272980</td>\n",
       "      <td>0.002363</td>\n",
       "      <td>0.000135</td>\n",
       "      <td>6.879272e-02</td>\n",
       "      <td>6.492200e-03</td>\n",
       "      <td>-2.975031e-10</td>\n",
       "      <td>41576718</td>\n",
       "      <td>0.099301</td>\n",
       "      <td>3593.612509</td>\n",
       "    </tr>\n",
       "  </tbody>\n",
       "</table>\n",
       "</div>"
      ],
      "text/plain": [
       "                     start              end          R         r  \\\n",
       "feature                                                            \n",
       "CDS         16651607874012   16651642644612   0.190032  0.001202   \n",
       "gene        75150612560297   75152171783399  22.505757  0.014040   \n",
       "other      232797614633993  232798854065095  18.587749  0.042941   \n",
       "phastcons  194837974696262  194838016272980   0.002363  0.000135   \n",
       "\n",
       "                      V            Vm          load      seglen    mle_mu  \\\n",
       "feature                                                                     \n",
       "CDS        5.685261e-02  5.675815e-03 -3.928484e-09    34770600  0.009227   \n",
       "gene       8.942224e-02  8.889284e-03 -1.514105e-05  1559223102  0.040807   \n",
       "other      7.693184e-10  3.407903e-11 -3.717550e-07  1239431102  0.120121   \n",
       "phastcons  6.879272e-02  6.492200e-03 -2.975031e-10    41576718  0.099301   \n",
       "\n",
       "               mle_pi0  \n",
       "feature                 \n",
       "CDS         333.915111  \n",
       "gene       1476.750567  \n",
       "other      4347.049611  \n",
       "phastcons  3593.612509  "
      ]
     },
     "execution_count": 120,
     "metadata": {},
     "output_type": "execute_result"
    }
   ],
   "source": [
    "cds_model.mu_predicts[('yri', '1000000', 'full')][1.5e-8].groupby('feature').sum()"
   ]
  },
  {
   "cell_type": "code",
   "execution_count": 121,
   "id": "b2fb4f8e-0564-42c1-bc44-d6636c325f98",
   "metadata": {
    "tags": []
   },
   "outputs": [
    {
     "name": "stderr",
     "output_type": "stream",
     "text": [
      "/tmp/ipykernel_4729/300067572.py:1: FutureWarning: The default value of numeric_only in DataFrameGroupBy.sum is deprecated. In a future version, numeric_only will default to False. Either specify numeric_only or select only columns which should be valid for the function.\n",
      "  cds_sum = cds_model.mu_predicts[('yri', '1000000', 'full')][1.5e-8].groupby('feature').sum()\n"
     ]
    }
   ],
   "source": [
    "cds_sum = cds_model.mu_predicts[('yri', '1000000', 'full')][1.5e-8].groupby('feature').sum()\n",
    "cds_sumstats = cds_sum.sum()"
   ]
  },
  {
   "cell_type": "code",
   "execution_count": 137,
   "id": "a8568015-8c4b-491a-b8f7-ecca541788e9",
   "metadata": {
    "tags": []
   },
   "outputs": [
    {
     "data": {
      "text/plain": [
       "{'V': 0.2150675819841204,\n",
       " 'Vm': 0.021057299557650438,\n",
       " 'load': -1.5517030346484817e-05}"
      ]
     },
     "execution_count": 137,
     "metadata": {},
     "output_type": "execute_result"
    }
   ],
   "source": [
    "keep = 'V', 'Vm', 'load'\n",
    "cds_sumstats_dict = {x.index: x.stats for x in cds_sumstats.reset_index(name='stats').itertuples() if x.index in keep}\n",
    "cds_sumstats_dict"
   ]
  },
  {
   "cell_type": "code",
   "execution_count": 140,
   "id": "4fbf05cb-76a4-4ee5-9075-4601f2bfff74",
   "metadata": {
    "tags": []
   },
   "outputs": [
    {
     "data": {
      "text/plain": [
       "0.0015516909957935532"
      ]
     },
     "execution_count": 140,
     "metadata": {},
     "output_type": "execute_result"
    }
   ],
   "source": [
    "(1-np.exp(-1.5517030346484817e-05))*100"
   ]
  },
  {
   "cell_type": "code",
   "execution_count": 123,
   "id": "c2494923-1ed0-4934-921c-5a96bb31cfaf",
   "metadata": {
    "tags": []
   },
   "outputs": [
    {
     "data": {
      "text/plain": [
       "0.9923972113905773"
      ]
     },
     "execution_count": 123,
     "metadata": {},
     "output_type": "execute_result"
    }
   ],
   "source": [
    "from bgspy.recmap import RecMap\n",
    "rm = RecMap('../data/fit_annotation/decode_2019_map.txt', seqlens)\n",
    "\n",
    "auto_map_length = sum({c: x.rate[-1] for c, x in rm.cum_rates.items() if c.replace('chr', '') in map(str, range(2, 23))}.values())\n",
    "\n",
    "def SC98(C2, Vm, L):\n",
    "    Z = Vm/C2\n",
    "    return np.exp(-C2/ ((1-Z)*L))\n",
    "                  \n",
    "SC98(cds_sumstats_dict['V'], cds_sumstats_dict['Vm'], auto_map_length)                "
   ]
  }
 ],
 "metadata": {
  "kernelspec": {
   "display_name": "Python 3 (ipykernel)",
   "language": "python",
   "name": "python3"
  },
  "language_info": {
   "codemirror_mode": {
    "name": "ipython",
    "version": 3
   },
   "file_extension": ".py",
   "mimetype": "text/x-python",
   "name": "python",
   "nbconvert_exporter": "python",
   "pygments_lexer": "ipython3",
   "version": "3.10.8"
  }
 },
 "nbformat": 4,
 "nbformat_minor": 5
}
