{
 "cells": [
  {
   "cell_type": "markdown",
   "id": "11b5a945-ac7f-4a83-93d8-37bf3c235769",
   "metadata": {
    "tags": []
   },
   "source": [
    "# Substitution\n",
    "\n",
    "This notebook compares the predicted substitution rates with various other sets of data, such as \n",
    "\n",
    " - phylofit branch length estimates\n",
    " - the number of subsitutions in genes (from Urrichio et al.)\n",
    " \n",
    "The goal is to check that the model is making reasonable predictions in terms of the substitution rate. \n",
    "\n",
    "It is exceedingly important that we avoid cirular logic here. For example, the predicted ratchet rates per segment depend on that annotation class, which each have their own DFE estimates.\n",
    "\n",
    "There are a few checks we can do: \n",
    "\n",
    " - total predicted substitution rate versus observed \n",
    " - spatial patterns of predicted versus observed substitution rates along the chromosome\n",
    " - predicted versus observed by feature type\n",
    " \n",
    "There is not a great deal of variance in predicted substitution rates (as we'll see later). It's important that we ensure that the correspondance between predicted and observed isn't just an artifact of densities of the different annotation classes. This wouldn't be entirely an artifact or circular reasoning, but we should ensure the correspondence is good within classes too."
   ]
  },
  {
   "cell_type": "markdown",
   "id": "ab19c629-c6f0-43c9-9a2a-709cc10a28f1",
   "metadata": {},
   "source": [
    "A quick note about the simulations. It is *very* difficult to get good substitution rate estimates to validate the whole-genome substitution rate predictions.\n",
    "\n",
    "This is because, imagine, for a $N=10,000$ simulation that the subrate is relatively high at 1e-9. For a 10N generations, \n",
    "\n",
    "That amounts to,"
   ]
  },
  {
   "cell_type": "code",
   "execution_count": 1,
   "id": "61387cb2-a794-45df-befd-97f629b6d2c1",
   "metadata": {
    "tags": []
   },
   "outputs": [
    {
     "data": {
      "text/plain": [
       "0.0001"
      ]
     },
     "execution_count": 1,
     "metadata": {},
     "output_type": "execute_result"
    }
   ],
   "source": [
    "N = 10_000\n",
    "10*N*1e-9"
   ]
  },
  {
   "cell_type": "markdown",
   "id": "aa348841-d286-4288-b96d-4625a08aaa73",
   "metadata": {},
   "source": [
    "simulations per basepair."
   ]
  },
  {
   "cell_type": "markdown",
   "id": "a5bdf148-a368-4b3e-9d3c-685b3a870593",
   "metadata": {
    "tags": []
   },
   "source": [
    "## Requisites"
   ]
  },
  {
   "cell_type": "code",
   "execution_count": 2,
   "id": "418b257b-e4ac-418b-8cb3-85439d83257e",
   "metadata": {
    "tags": []
   },
   "outputs": [],
   "source": [
    "%load_ext autoreload\n",
    "%autoreload 2\n",
    "%reload_ext autoreload"
   ]
  },
  {
   "cell_type": "code",
   "execution_count": 3,
   "id": "d7fb5c87-8e9b-4237-9cd3-8c5673091ccf",
   "metadata": {
    "tags": []
   },
   "outputs": [
    {
     "name": "stderr",
     "output_type": "stream",
     "text": [
      "/home/vsb/projects/bprime/bgspy/data.py:7: TqdmExperimentalWarning: Using `tqdm.autonotebook.tqdm` in notebook mode. Use `tqdm.tqdm` instead to force console mode (e.g. in jupyter console)\n",
      "  import tqdm.autonotebook as tqdm\n"
     ]
    }
   ],
   "source": [
    "import os\n",
    "import re\n",
    "import pickle\n",
    "import numpy as np\n",
    "import pandas as pd\n",
    "from collections import defaultdict\n",
    "import scipy.stats as stats\n",
    "import seaborn as sns\n",
    "from scipy.stats import binned_statistic\n",
    "import matplotlib.pyplot as plt\n",
    "import matplotlib as mpl\n",
    "import matplotlib.ticker as mtick\n",
    "import matplotlib.patches as mpatches\n",
    "import matplotlib.cm as cm\n",
    "import statsmodels.api as sm\n",
    "lowess = sm.nonparametric.lowess\n",
    "\n",
    "from bgspy.genome import Genome\n",
    "from bgspy.data import GenomeData\n",
    "from bgspy.models import BGSModel\n",
    "from bgspy.utils import logbins, bin2midpoints, cutbins, bin2pairs, binned_summaries\n",
    "from bgspy.utils import latex_scientific_notation\n",
    "from bgspy.utils import corr, mean_ratio, censor, pretty_signif, load_seqlens\n",
    "from bgspy.utils import read_phylofit, bin_chrom, load_pickle\n",
    "from bgspy.plots import get_figax, binned_means_plot\n",
    "from bgspy.nonparametric import KernelRegression, bin_kfolds, kfolds_results"
   ]
  },
  {
   "cell_type": "code",
   "execution_count": 4,
   "id": "febc5ac3-972a-44ec-9525-f42fd9e2f8dc",
   "metadata": {
    "tags": []
   },
   "outputs": [],
   "source": [
    "plt.show()"
   ]
  },
  {
   "cell_type": "code",
   "execution_count": 5,
   "id": "697be8b5-44b7-4203-9cd3-7836699557aa",
   "metadata": {
    "tags": []
   },
   "outputs": [],
   "source": [
    "plt.rcParams['figure.figsize'] = [5, 3]\n",
    "plt.rcParams['figure.dpi'] = 200\n",
    "plt.style.use('./buffalo.mplstyle')\n",
    "prop_cycle = plt.rcParams['axes.prop_cycle']\n",
    "COLORS = prop_cycle.by_key()['color']"
   ]
  },
  {
   "cell_type": "markdown",
   "id": "e1671d51-2af9-4989-a403-f727fa13fe03",
   "metadata": {
    "tags": []
   },
   "source": [
    "## Color Settings\n",
    "\n",
    "Common population colors. We use paired, since in the $R^2$ plots they are paired."
   ]
  },
  {
   "cell_type": "code",
   "execution_count": 6,
   "id": "4f77d275-6ecc-4594-84c2-db17fb623094",
   "metadata": {
    "tags": []
   },
   "outputs": [],
   "source": [
    "pop_to_num = {'yri': 0, 'ceu': 1, 'chb': 2}"
   ]
  },
  {
   "cell_type": "code",
   "execution_count": 7,
   "id": "8f8ab5d6-3a80-4df8-b9a8-80f277211a7a",
   "metadata": {
    "tags": []
   },
   "outputs": [
    {
     "name": "stderr",
     "output_type": "stream",
     "text": [
      "/tmp/ipykernel_65228/3553568411.py:1: MatplotlibDeprecationWarning: The get_cmap function was deprecated in Matplotlib 3.7 and will be removed two minor releases later. Use ``matplotlib.colormaps[name]`` or ``matplotlib.colormaps.get_cmap(obj)`` instead.\n",
      "  cmap = cm.get_cmap('Paired')\n"
     ]
    }
   ],
   "source": [
    "cmap = cm.get_cmap('Paired')\n",
    "pop_cols = cmap(np.arange(6))"
   ]
  },
  {
   "cell_type": "code",
   "execution_count": 8,
   "id": "ead5e69f-0e6c-4d9a-85a9-aa3dade85772",
   "metadata": {
    "tags": []
   },
   "outputs": [
    {
     "data": {
      "image/png": "[encoded data removed]",
      "text/html": [
       "<div style=\"vertical-align: middle;\"><strong>Paired</strong> </div><div class=\"cmap\"><img alt=\"Paired colormap\" title=\"Paired\" style=\"border: 1px solid #555;\" src=\"data:image/png;base64,iVBORw0KGgoAAAANSUhEUgAAAgAAAABACAYAAABsv8+/AAAAFXRFWHRUaXRsZQBQYWlyZWQgY29sb3JtYXDkshWaAAAAG3RFWHREZXNjcmlwdGlvbgBQYWlyZWQgY29sb3JtYXCtJQ1+AAAAMHRFWHRBdXRob3IATWF0cGxvdGxpYiB2My43LjEsIGh0dHBzOi8vbWF0cGxvdGxpYi5vcmcqr/hNAAAAMnRFWHRTb2Z0d2FyZQBNYXRwbG90bGliIHYzLjcuMSwgaHR0cHM6Ly9tYXRwbG90bGliLm9yZwQJZ2oAAAGQSURBVHic7daxLYVhGIbh3xnDGkbRWUBlAB1RKuRE9CKhUJoAUUgkEo0FNGbQsMJX+fLnvq4JnubNe+/cvX/9LitxfP8xe8Kwy8PP2ROGnD7dzJ4w7PXnaPaEId8nZ7MnDNu93Z89YdjmcTt7wpC3vXXc/rIsy/X5y+wJQ66eV/OmloeDi9kThm1mDwAA/p8AAIAgAQAAQQIAAIIEAAAECQAACBIAABAkAAAgSAAAQJAAAIAgAQAAQQIAAIIEAAAECQAACBIAABAkAAAgSAAAQJAAAIAgAQAAQQIAAIIEAAAECQAACBIAABAkAAAgSAAAQJAAAIAgAQAAQQIAAIIEAAAECQAACBIAABAkAAAgSAAAQJAAAIAgAQAAQQIAAIIEAAAECQAACBIAABAkAAAgSAAAQJAAAIAgAQAAQQIAAIIEAAAECQAACBIAABAkAAAgSAAAQJAAAIAgAQAAQQIAAIIEAAAECQAACBIAABAkAAAgSAAAQJAAAIAgAQAAQQIAAIIEAAAECQAACBIAABD0B4ccF7Gd6zM6AAAAAElFTkSuQmCC\"></div><div style=\"vertical-align: middle; max-width: 514px; display: flex; justify-content: space-between;\"><div style=\"float: left;\"><div title=\"#a6cee3ff\" style=\"display: inline-block; width: 1em; height: 1em; margin: 0; vertical-align: middle; border: 1px solid #555; background-color: #a6cee3ff;\"></div> under</div><div style=\"margin: 0 auto; display: inline-block;\">bad <div title=\"#00000000\" style=\"display: inline-block; width: 1em; height: 1em; margin: 0; vertical-align: middle; border: 1px solid #555; background-color: #00000000;\"></div></div><div style=\"float: right;\">over <div title=\"#b15928ff\" style=\"display: inline-block; width: 1em; height: 1em; margin: 0; vertical-align: middle; border: 1px solid #555; background-color: #b15928ff;\"></div></div>"
      ],
      "text/plain": [
       "<matplotlib.colors.ListedColormap at 0x7fd892768be0>"
      ]
     },
     "execution_count": 8,
     "metadata": {},
     "output_type": "execute_result"
    }
   ],
   "source": [
    "cmap"
   ]
  },
  {
   "cell_type": "code",
   "execution_count": 9,
   "id": "3e877aac-711c-4ca9-b043-fca590cfaf0f",
   "metadata": {
    "tags": []
   },
   "outputs": [],
   "source": [
    "all_pop_cols = dict()\n",
    "i = 0\n",
    "for pop in pop_to_num:\n",
    "    #plt.scatter(pop, i, c=pop_cols[i+1, :], s=40)\n",
    "    all_pop_cols[pop] = pop_cols[i+1, :]\n",
    "    i += 2"
   ]
  },
  {
   "cell_type": "markdown",
   "id": "956ba1e4-3a11-4caa-a01b-b5baa60aba47",
   "metadata": {},
   "source": [
    "## Load Data"
   ]
  },
  {
   "cell_type": "code",
   "execution_count": 10,
   "id": "f1f6e9bb-f14e-4878-9ae3-55dd30646f0f",
   "metadata": {
    "tags": []
   },
   "outputs": [],
   "source": [
    "seqlens = load_seqlens('../data/annotation/hg38_seqlens.tsv')"
   ]
  },
  {
   "cell_type": "markdown",
   "id": "a11df9ae-2f11-4d57-9d89-1c77228ca3a7",
   "metadata": {},
   "source": [
    " \n",
    "### Phastcons Priority and CDS Priority Models\n",
    "\n",
    "This is the main focus since we care about estimating the sub rates for these features."
   ]
  },
  {
   "cell_type": "code",
   "execution_count": 11,
   "id": "06723407-7374-4047-857f-8587c1403fdc",
   "metadata": {
    "tags": []
   },
   "outputs": [],
   "source": [
    "cds_model = load_pickle('../new_fits/CDS_genes_phastcons__decode__altgrid/CDS_genes_phastcons__decode__altgrid.pkl')\n",
    "pc_model = load_pickle('../new_fits/phastcons_CDS_genes__decode__altgrid/phastcons_CDS_genes__decode__altgrid.pkl')\n",
    "\n",
    "\n",
    "cds_6x8_model = load_pickle('../new_fits/CDS_genes_phastcons__decode/CDS_genes_phastcons__decode.pkl')\n",
    "pc_6x8_model = load_pickle('../new_fits/phastcons_CDS_genes__decode/phastcons_CDS_genes__decode.pkl')\n",
    "\n",
    "#cadd_model = load_pickle('../new_fits/cadd6__decode__altgrid/cadd6__decode__altgrid.pkl')\n",
    "#cadd_6x8_model = load_pickle('../new_fits/cadd6__decode/cadd6__decode.pkl')"
   ]
  },
  {
   "cell_type": "code",
   "execution_count": 12,
   "id": "f86361cb-0931-4d93-b586-2b2d7ed52b16",
   "metadata": {
    "tags": []
   },
   "outputs": [
    {
     "data": {
      "text/html": [
       "<div>\n",
       "<style scoped>\n",
       "    .dataframe tbody tr th:only-of-type {\n",
       "        vertical-align: middle;\n",
       "    }\n",
       "\n",
       "    .dataframe tbody tr th {\n",
       "        vertical-align: top;\n",
       "    }\n",
       "\n",
       "    .dataframe thead th {\n",
       "        text-align: right;\n",
       "    }\n",
       "</style>\n",
       "<table border=\"1\" class=\"dataframe\">\n",
       "  <thead>\n",
       "    <tr style=\"text-align: right;\">\n",
       "      <th></th>\n",
       "      <th>feature</th>\n",
       "      <th>r</th>\n",
       "      <th>r_mu</th>\n",
       "      <th>V</th>\n",
       "      <th>Vm</th>\n",
       "      <th>R</th>\n",
       "      <th>load</th>\n",
       "    </tr>\n",
       "  </thead>\n",
       "  <tbody>\n",
       "    <tr>\n",
       "      <th>0</th>\n",
       "      <td>CDS</td>\n",
       "      <td>1.499700e-08</td>\n",
       "      <td>99.979976</td>\n",
       "      <td>6.347686e-10</td>\n",
       "      <td>6.109335e-12</td>\n",
       "      <td>0.174027</td>\n",
       "      <td>-3.480608e-09</td>\n",
       "    </tr>\n",
       "    <tr>\n",
       "      <th>1</th>\n",
       "      <td>gene</td>\n",
       "      <td>1.467280e-08</td>\n",
       "      <td>97.818635</td>\n",
       "      <td>7.202580e-03</td>\n",
       "      <td>7.200205e-05</td>\n",
       "      <td>21.684260</td>\n",
       "      <td>-1.082049e-05</td>\n",
       "    </tr>\n",
       "    <tr>\n",
       "      <th>2</th>\n",
       "      <td>other</td>\n",
       "      <td>1.499700e-08</td>\n",
       "      <td>99.980000</td>\n",
       "      <td>1.421320e-09</td>\n",
       "      <td>1.334696e-11</td>\n",
       "      <td>18.587748</td>\n",
       "      <td>-3.717610e-07</td>\n",
       "    </tr>\n",
       "    <tr>\n",
       "      <th>3</th>\n",
       "      <td>phastcons</td>\n",
       "      <td>3.092709e-11</td>\n",
       "      <td>0.206181</td>\n",
       "      <td>3.369339e-02</td>\n",
       "      <td>3.278643e-04</td>\n",
       "      <td>0.004521</td>\n",
       "      <td>-8.887037e-07</td>\n",
       "    </tr>\n",
       "  </tbody>\n",
       "</table>\n",
       "</div>"
      ],
      "text/plain": [
       "     feature             r       r_mu             V            Vm          R  \\\n",
       "0        CDS  1.499700e-08  99.979976  6.347686e-10  6.109335e-12   0.174027   \n",
       "1       gene  1.467280e-08  97.818635  7.202580e-03  7.200205e-05  21.684260   \n",
       "2      other  1.499700e-08  99.980000  1.421320e-09  1.334696e-11  18.587748   \n",
       "3  phastcons  3.092709e-11   0.206181  3.369339e-02  3.278643e-04   0.004521   \n",
       "\n",
       "           load  \n",
       "0 -3.480608e-09  \n",
       "1 -1.082049e-05  \n",
       "2 -3.717610e-07  \n",
       "3 -8.887037e-07  "
      ]
     },
     "execution_count": 12,
     "metadata": {},
     "output_type": "execute_result"
    }
   ],
   "source": [
    "pc_model.mu_predicts[('yri',\n",
    "              '1000000',\n",
    "              'full')][1.5e-8]"
   ]
  },
  {
   "cell_type": "code",
   "execution_count": null,
   "id": "87464c85-7407-45c3-be45-329a78fbb842",
   "metadata": {
    "tags": []
   },
   "outputs": [
    {
     "data": {
      "text/html": [
       "<div>\n",
       "<style scoped>\n",
       "    .dataframe tbody tr th:only-of-type {\n",
       "        vertical-align: middle;\n",
       "    }\n",
       "\n",
       "    .dataframe tbody tr th {\n",
       "        vertical-align: top;\n",
       "    }\n",
       "\n",
       "    .dataframe thead th {\n",
       "        text-align: right;\n",
       "    }\n",
       "</style>\n",
       "<table border=\"1\" class=\"dataframe\">\n",
       "  <thead>\n",
       "    <tr style=\"text-align: right;\">\n",
       "      <th></th>\n",
       "      <th>feature</th>\n",
       "      <th>r</th>\n",
       "      <th>r_mu</th>\n",
       "      <th>V</th>\n",
       "      <th>Vm</th>\n",
       "      <th>R</th>\n",
       "      <th>load</th>\n",
       "    </tr>\n",
       "  </thead>\n",
       "  <tbody>\n",
       "    <tr>\n",
       "      <th>0</th>\n",
       "      <td>CDS</td>\n",
       "      <td>1.128747e-08</td>\n",
       "      <td>75.249772</td>\n",
       "      <td>1.644438e-03</td>\n",
       "      <td>1.550866e-05</td>\n",
       "      <td>0.392472</td>\n",
       "      <td>-7.909801e-09</td>\n",
       "    </tr>\n",
       "    <tr>\n",
       "      <th>1</th>\n",
       "      <td>gene</td>\n",
       "      <td>1.421068e-08</td>\n",
       "      <td>94.737886</td>\n",
       "      <td>1.569777e-02</td>\n",
       "      <td>1.555064e-04</td>\n",
       "      <td>22.158351</td>\n",
       "      <td>-3.290094e-05</td>\n",
       "    </tr>\n",
       "    <tr>\n",
       "      <th>2</th>\n",
       "      <td>other</td>\n",
       "      <td>1.499700e-08</td>\n",
       "      <td>99.980001</td>\n",
       "      <td>7.369183e-10</td>\n",
       "      <td>6.489347e-12</td>\n",
       "      <td>18.587749</td>\n",
       "      <td>-3.717551e-07</td>\n",
       "    </tr>\n",
       "    <tr>\n",
       "      <th>3</th>\n",
       "      <td>phastcons</td>\n",
       "      <td>7.689852e-14</td>\n",
       "      <td>0.000513</td>\n",
       "      <td>1.168739e-02</td>\n",
       "      <td>1.160883e-04</td>\n",
       "      <td>0.000003</td>\n",
       "      <td>-6.615893e-12</td>\n",
       "    </tr>\n",
       "  </tbody>\n",
       "</table>\n",
       "</div>"
      ],
      "text/plain": [
       "     feature             r       r_mu             V            Vm          R  \\\n",
       "0        CDS  1.128747e-08  75.249772  1.644438e-03  1.550866e-05   0.392472   \n",
       "1       gene  1.421068e-08  94.737886  1.569777e-02  1.555064e-04  22.158351   \n",
       "2      other  1.499700e-08  99.980001  7.369183e-10  6.489347e-12  18.587749   \n",
       "3  phastcons  7.689852e-14   0.000513  1.168739e-02  1.160883e-04   0.000003   \n",
       "\n",
       "           load  \n",
       "0 -7.909801e-09  \n",
       "1 -3.290094e-05  \n",
       "2 -3.717551e-07  \n",
       "3 -6.615893e-12  "
      ]
     },
     "execution_count": 13,
     "metadata": {},
     "output_type": "execute_result"
    }
   ],
   "source": [
    "cds_model.mu_predicts[('yri',\n",
    "              '1000000',\n",
    "              'full')][1.5e-8]"
   ]
  },
  {
   "cell_type": "code",
   "execution_count": null,
   "id": "e653ba95-8925-446c-8aab-3d3abf1aa003",
   "metadata": {
    "tags": []
   },
   "outputs": [],
   "source": [
    "cds_6x8_model.mu_predicts[('yri', '1000000', 'full')][1.5e-8].groupby('feature').mean()"
   ]
  },
  {
   "cell_type": "code",
   "execution_count": null,
   "id": "f7cfd9c7-2f33-4ef2-a81d-bee05adf10f0",
   "metadata": {
    "tags": []
   },
   "outputs": [],
   "source": [
    "def prediction_df(model, mu=None):\n",
    "    dfs = []\n",
    "    pops = set([p for p, _, _ in model.fits.keys()])\n",
    "    for pop in pops:\n",
    "        key = (pop, '1000000', 'full')\n",
    "        if mu is None:\n",
    "            if key not in model.predicts:\n",
    "                continue\n",
    "            df = model.predicts[key]\n",
    "        else:\n",
    "            if key not in model.mu_predicts:\n",
    "                continue\n",
    "            df = model.mu_predicts[(pop, '1000000', 'full')][mu]\n",
    "        fit = model.fits[(pop, '1000000', 'full')]['mbp']\n",
    "        df['pop'] = pop\n",
    "        df['mle_mu'] = fit.mle_mu\n",
    "        df['mle_pi0'] = fit.mle_pi0\n",
    "        dfs.append(df)\n",
    "    dpops = pd.concat(dfs)\n",
    "    dpops['r_mu'] = dpops['r'] / dpops['mle_mu']\n",
    "    # dpops['width'] = dpops['end'] - dpops['start']\n",
    "    return dpops\n",
    "\n",
    "d_cds = prediction_df(cds_model)\n",
    "d_pc = prediction_df(pc_model)\n",
    "#d_cadd = prediction_df(cadd_model)\n",
    "\n",
    "# these are the predictions re-calibrated to a fixed mu of 1.5e-3 (1.3e-8 also available)\n",
    "pred_mu = 1.5e-8\n",
    "d_cds_mu = prediction_df(cds_model, mu=pred_mu)\n",
    "d_pc_mu = prediction_df(pc_model, mu=pred_mu)\n",
    "\n",
    "\n",
    "d_cds_6x8_mu = prediction_df(cds_6x8_model, mu=pred_mu)\n",
    "d_pc_6x8_mu = prediction_df(pc_6x8_model, mu=pred_mu)\n",
    "\n",
    "#d_cadd_mu = prediction_df(pc_model, mu=pred_mu)"
   ]
  },
  {
   "cell_type": "markdown",
   "id": "0e646201-780e-46e2-843e-5d71faf5f3c4",
   "metadata": {},
   "source": [
    "Very important note: our Feature Priority model fits poorly, but is better in terms of interpretability. The mutation rate estimate is especially high, and thus our substitution rates are miscalibrated because of this:"
   ]
  },
  {
   "cell_type": "code",
   "execution_count": null,
   "id": "90dd97e3-da0d-46f6-99ef-e992b8a5bcd8",
   "metadata": {
    "tags": []
   },
   "outputs": [],
   "source": [
    "{pop: pc_model.fits[(pop, '1000000', 'full')]['mbp'].mle_mu for pop in pop_to_num}"
   ]
  },
  {
   "cell_type": "code",
   "execution_count": null,
   "id": "3a933f76-560e-466c-8c9e-24a34e500197",
   "metadata": {
    "tags": []
   },
   "outputs": [],
   "source": [
    "{pop: cds_model.fits[(pop, '1000000', 'full')]['mbp'].mle_mu for pop in pop_to_num}"
   ]
  },
  {
   "cell_type": "markdown",
   "id": "908f8100-838a-4630-a6d7-8a2f10e439d6",
   "metadata": {},
   "source": [
    "This is why we have the re-calibrated predictions off $\\mu = 1.3 \\times 10^{-8}$."
   ]
  },
  {
   "cell_type": "markdown",
   "id": "186f3d26-7dc9-4ff0-9583-483818ef7149",
   "metadata": {
    "tags": []
   },
   "source": [
    "### Load PhyloFit Branch Length Estimates\n",
    "\n",
    "The raw phylofit data, see the `Snakefile` for how this is processed.\n",
    "\n",
    "Note that the alignments are fairly large and between 10 primate species. The regions that can be aligned are likely under more contraint compared to regions that are not alignable. "
   ]
  },
  {
   "cell_type": "code",
   "execution_count": null,
   "id": "060f3b08-3e69-420f-9af3-20012e784c47",
   "metadata": {
    "tags": []
   },
   "outputs": [],
   "source": [
    "import os\n",
    "import re\n",
    "from bgspy.utils import read_phylofit\n",
    "\n",
    "PF_FEATURE_DIR = '../data/phylo/pfests_by_feature/'\n",
    "\n",
    "rows = list()\n",
    "with os.scandir(PF_FEATURE_DIR) as it:\n",
    "    for entry in it:\n",
    "        if entry.name.endswith('.mod'):\n",
    "            chrom, feature = re.match(r'(?P<chrom>[^\\.]+)\\.(?P<feature>\\w+)\\.mod', entry.name).groups()\n",
    "            pf = read_phylofit(entry.path)\n",
    "            # note \"None\" branches are unlabelled internal branches\n",
    "            rows.append({**{'chrom': chrom, 'feature': feature}, **{k: v for k, v in pf['branch_lengths'].items() if k is not None}})\n",
    "            \n",
    "dpf = pd.DataFrame(rows)\n",
    "dpf.to_csv(\"../data/supplementary_data/phylofit_by_feature.tsv\", sep='\\t', index=False)\n",
    "\n",
    "#ave_subrates = dpf.groupby('feature').mean().reset_index()\n",
    "#ave_subrates\n",
    "\n",
    "dpf['seqlen'] = [seqlens[c] for c in dpf['chrom'].tolist()]\n",
    "ave_subrates = dpf.groupby('feature').apply(lambda x: np.average(x.hg38, weights=x.seqlen)).reset_index(name='hg38').reset_index()"
   ]
  },
  {
   "cell_type": "code",
   "execution_count": null,
   "id": "9c4528ca-bfbf-42df-92b8-53db2e5181c3",
   "metadata": {
    "tags": []
   },
   "outputs": [],
   "source": [
    "fig, ax = plt.subplots()\n",
    "sns.boxplot(x='feature', y='hg38', data=dpf, ax=ax)\n",
    "labels = ax.get_xticklabels()\n",
    "ax.set_xticklabels(labels, fontsize=6)"
   ]
  },
  {
   "cell_type": "code",
   "execution_count": null,
   "id": "844b9ca2-0825-4980-9b5e-dc95bd17a50c",
   "metadata": {
    "tags": []
   },
   "outputs": [],
   "source": [
    "ave_subrates"
   ]
  },
  {
   "cell_type": "code",
   "execution_count": null,
   "id": "36c9e3fc-dfc4-4a3d-83f3-7f83ee740914",
   "metadata": {
    "tags": []
   },
   "outputs": [],
   "source": [
    "# we make a dictionary form for hg38\n",
    "S = dict(zip(ave_subrates['feature'], ave_subrates['hg38']))\n",
    "S"
   ]
  },
  {
   "cell_type": "markdown",
   "id": "e6c430df-c67a-47fe-b94b-bf25715c2661",
   "metadata": {},
   "source": [
    "#### Mini look at the PhyloFit files and entries"
   ]
  },
  {
   "cell_type": "code",
   "execution_count": null,
   "id": "da53a5c4-8e00-456b-98c5-d20ecb852dbb",
   "metadata": {
    "tags": []
   },
   "outputs": [],
   "source": [
    "!cat '../data/phylo/pfests_by_feature/chr8.three_prime_UTR.mod'"
   ]
  },
  {
   "cell_type": "code",
   "execution_count": null,
   "id": "7775a978-bfa3-4974-b40c-d98d6eba9f24",
   "metadata": {
    "tags": []
   },
   "outputs": [],
   "source": [
    "pf"
   ]
  },
  {
   "cell_type": "markdown",
   "id": "380fa546-37a6-4040-8a89-ff41148aeff8",
   "metadata": {},
   "source": [
    "Just to check we're reading things in right..."
   ]
  },
  {
   "cell_type": "markdown",
   "id": "b4bc6047-84ad-446a-80d9-f72371fbd8a4",
   "metadata": {},
   "source": [
    "### Average Sub rate predictions by feature/pop"
   ]
  },
  {
   "cell_type": "markdown",
   "id": "004e29c1-f76e-4e8f-8624-4848ca846bfb",
   "metadata": {},
   "source": [
    "### Look at the PhyloFit Rates"
   ]
  },
  {
   "cell_type": "code",
   "execution_count": null,
   "id": "b5a3f54e-9422-4efa-b4cd-6d3960d75a9e",
   "metadata": {
    "tags": []
   },
   "outputs": [],
   "source": [
    "cds_mu_ave = dict(zip(d_cds_mu['feature'], d_cds_mu['r']))\n",
    "cds_mu_ave\n",
    "\n",
    "pc_mu_ave = dict(zip(d_pc_mu['feature'], d_pc_mu['r']))\n",
    "cds_mu_ave, pc_mu_ave"
   ]
  },
  {
   "cell_type": "code",
   "execution_count": null,
   "id": "5d8075a7-9184-4fd8-950e-25b1e3d84c70",
   "metadata": {
    "tags": []
   },
   "outputs": [],
   "source": [
    "# cds_ave = dict(zip(d_cds['feature'], d_cds['r']))\n",
    "# cds_ave\n",
    "\n",
    "# pc_ave = dict(zip(d_pc['feature'], d_pc['r']))\n",
    "# cds_ave, pc_ave"
   ]
  },
  {
   "cell_type": "code",
   "execution_count": null,
   "id": "e79417f3-3e94-4c8c-99a7-46a168232c24",
   "metadata": {
    "tags": []
   },
   "outputs": [],
   "source": [
    "cds_6x8_mu_ave = dict(zip(d_cds_6x8_mu['feature'], d_cds_6x8_mu['r']))\n",
    "\n",
    "pc_6x8_mu_ave = dict(zip(d_pc_6x8_mu['feature'], d_pc_6x8_mu['r']))\n",
    "cds_6x8_mu_ave, pc_6x8_mu_ave"
   ]
  },
  {
   "cell_type": "code",
   "execution_count": null,
   "id": "829276c1-c7d8-4807-b1c9-9dd924c0fda8",
   "metadata": {
    "tags": []
   },
   "outputs": [],
   "source": [
    "{f: np.round(100*v / 1.5e-8, 3) for f, v in pc_mu_ave.items()}"
   ]
  },
  {
   "cell_type": "code",
   "execution_count": null,
   "id": "fd219805-d642-44ca-a775-d68864ed4fdc",
   "metadata": {
    "tags": []
   },
   "outputs": [],
   "source": [
    "cds_mu_ave['phastcons'] * 100"
   ]
  },
  {
   "cell_type": "code",
   "execution_count": null,
   "id": "43207ed5-7587-474f-ad16-c7815c0a1a5c",
   "metadata": {
    "tags": []
   },
   "outputs": [],
   "source": [
    "{f: np.round(100*v / 1.5e-8, 3) for f, v in cds_mu_ave.items()}"
   ]
  },
  {
   "cell_type": "markdown",
   "id": "c7742563-4f73-4add-8583-36104e31a3b8",
   "metadata": {},
   "source": [
    "## Main Subsitution Fig"
   ]
  },
  {
   "cell_type": "code",
   "execution_count": null,
   "id": "00bd9596-b0a1-4c3e-bec3-cb92449f5766",
   "metadata": {
    "tags": []
   },
   "outputs": [],
   "source": [
    "S"
   ]
  },
  {
   "cell_type": "code",
   "execution_count": null,
   "id": "94ab1a9b-bb5d-4298-8453-92d535ce13d1",
   "metadata": {
    "tags": []
   },
   "outputs": [],
   "source": [
    "{f: np.round(100 * v / S['neutral'], 3) for f, v in S.items()}"
   ]
  },
  {
   "cell_type": "code",
   "execution_count": null,
   "id": "a6e3d247-e9c1-4ec7-ab86-f4bfeddf3a62",
   "metadata": {
    "tags": []
   },
   "outputs": [],
   "source": [
    "(75.684 + 72.626)/2 # rough estimate is fine for UTRs"
   ]
  },
  {
   "cell_type": "code",
   "execution_count": null,
   "id": "c7d6071b-ad07-4716-92d6-80dd41d57b06",
   "metadata": {
    "tags": []
   },
   "outputs": [],
   "source": [
    "S['CDS']/S['neutral'] , S['phastcons']/S['neutral'] "
   ]
  },
  {
   "cell_type": "code",
   "execution_count": null,
   "id": "8ff30b95-b335-4fdf-9c96-fa1d927ce83f",
   "metadata": {
    "tags": []
   },
   "outputs": [],
   "source": [
    "(S['phastcons']/S['neutral'] * 100) / 51.23"
   ]
  },
  {
   "cell_type": "code",
   "execution_count": null,
   "id": "eac4dd78-02ee-4b20-ba35-aea9ded729f5",
   "metadata": {
    "tags": []
   },
   "outputs": [],
   "source": [
    "S['intron']/S['neutral'] , S['five_prime_UTR']/S['neutral'] , S['three_prime_UTR']/S['neutral'] "
   ]
  },
  {
   "cell_type": "code",
   "execution_count": null,
   "id": "154b9dbf-c1f8-4d58-a27f-cc0cbf513a2d",
   "metadata": {
    "tags": []
   },
   "outputs": [],
   "source": [
    "from matplotlib.ticker import FuncFormatter\n",
    "import matplotlib.lines as mlines\n",
    "\n",
    "def to_percent(y, position):\n",
    "    return str(np.round(100 * y, 2)) + '%'\n",
    "\n",
    "def error_range(x, ymin, ymax, ax, flip=False, text=None, cap_length = 0.1, label=None, **kwargs):\n",
    "    if flip:\n",
    "        cap_length = -cap_length\n",
    "    y = [(ymin_i + ymax_i) / 2 for ymin_i, ymax_i in zip(ymin, ymax)]\n",
    "    y_err = [(ymax_i - ymin_i) / 2 for ymin_i, ymax_i in zip(ymin, ymax)]\n",
    "    c = ax.errorbar(x, y,  yerr=y_err, fmt='none', label=label, **kwargs)\n",
    "      # Adjust as needed\n",
    "    for xi, yi, yerr_i in zip(x, y, y_err):\n",
    "        line = mlines.Line2D([xi, xi + cap_length], [yi + yerr_i, yi + yerr_i], c=kwargs.get('c', 'k'))\n",
    "        ax.add_line(line)\n",
    "        line = mlines.Line2D([xi, xi + cap_length], [yi - yerr_i, yi - yerr_i], c=kwargs.get('c', 'k'))\n",
    "        ax.add_line(line)\n",
    "\n",
    "def pred_range(x, rate, T_low, T_high, gen, ax, **kwargs):\n",
    "    y = np.array(list(rate))\n",
    "    ymin = y * T_low / gen\n",
    "    ymax = y * T_high / gen\n",
    "    error_range(x, ymin, ymax, ax, **kwargs)\n",
    "\n",
    "\n",
    "def sub_plot(Sa, pc_mu_ave, cds_mu_ave):\n",
    "    x, y = np.fromiter(Sa.keys(), 'object'), np.fromiter(Sa.values(), 'float')\n",
    "    idx = np.argsort(y)\n",
    "    x, y = x[idx], y[idx]\n",
    "\n",
    "    fig, ax = plt.subplots()\n",
    "    ax.plot(x, y, '-o', c='0.22', markersize=8, linewidth=3)\n",
    "    ax.tick_params(axis='x', which='major', labelsize=7)\n",
    "\n",
    "    formatter = FuncFormatter(to_percent)\n",
    "\n",
    "    # Apply the formatter to the y-axis\n",
    "    ax.yaxis.set_major_formatter(formatter)\n",
    "\n",
    "    # we need to merge similar features for the X, \n",
    "    # so we make a lookup table\n",
    "    xi = np.arange(len(x))\n",
    "    lookup = dict(zip(x, xi))\n",
    "    # join \"gene\" (=UTR+intron) to UTRs since theyre approx same\n",
    "    # plot in between the two now\n",
    "    lookup['gene'] = (lookup['five_prime_UTR'] + lookup['intron'])/2\n",
    "    lookup['other'] = lookup['neutral'] # all other is ~ neutral\n",
    "\n",
    "    # get the prediction values phastcons fixed mu\n",
    "    px = {lookup[l]: v for l, v in pc_mu_ave.items()}\n",
    "    x = np.fromiter(px.keys(), float)\n",
    "    pred_range(x-0.1, px.values(), 6e6, 12e6, 29, ax, c='g', label='PhastCons Priority', flip=True)\n",
    "\n",
    "    # get the prediction values for CDS fixed mu\n",
    "    px = {lookup[l]: v for l, v in cds_mu_ave.items()}\n",
    "    x = np.fromiter(px.keys(), float)\n",
    "    pred_range(x+0.1, px.values(), 6e6, 12e6, 29, ax, label='Feature Priority', c='c')\n",
    "\n",
    "    # get the prediction values for CDS mle mu\n",
    "    px = {lookup[l]: v for l, v in cds_mu_ave.items()}\n",
    "    x = np.fromiter(px.keys(), float)\n",
    "    #pred_range(x, px.values(), 6e6, 12e6, 29, ax, c='r')\n",
    "\n",
    "    # # get the prediction values for CDS mle mu\n",
    "    x = {lookup[l]: v for l, v in pc_mu_ave.items()}\n",
    "    x = np.fromiter(px.keys(), float)\n",
    "    #pred_range(x, px.values(), 6e6, 12e6, 29, ax, c='orange')\n",
    "\n",
    "    #ax.set_ylim(-1e-4, 0.009)\n",
    "    #ax.semilogy()\n",
    "    x, y = np.fromiter(S.keys(), 'object'), np.fromiter(S.values(), 'float')\n",
    "    idx = np.argsort(y)\n",
    "    x, y = x[idx], y[idx]\n",
    "    #ax.plot(x, 0.7*y, '-o', c='orange')\n",
    "    ax.set_ylabel(\"substitutions/site on human lineage\")\n",
    "\n",
    "    #ax.axhline(0.0056)\n",
    "    xtick_labs = dict(five_prime_UTR=\"5' UTR\", three_prime_UTR=\"3' UTR\", \n",
    "                      phastcons_no_cds_utr='phastcons\\nwithout CDS/UTR', phastcons='PhastCons')\n",
    "    new_labs = [xtick_labs.get(x.get_text(), x.get_text()) for x in ax.get_xmajorticklabels()]\n",
    "\n",
    "    ax.set_xticklabels(new_labs)\n",
    "    ax.legend(fontsize=8)\n",
    "\n",
    "\n",
    "    legend = ax.legend(fontsize=7, title=\"Annotation Model\", title_fontsize=8)\n",
    "\n",
    "\n",
    "    for handle in legend.legend_handles:\n",
    "        handle.set_linewidth(3.0)\n",
    "\n",
    "    ax.set_xlim(-1.3, 6)\n",
    "    ax.set_xlabel('feature')\n",
    "    #ax.text(-0.6, 0.0028, \"PhyloFit\\nestimates\", fontsize=7, ha='center')\n",
    "    return fig, ax\n",
    "    #ax.semilogy()\n",
    "    #plt.savefig(\"../manuscript/figures/subfigure_subsitution.pdf\")\n",
    "    "
   ]
  },
  {
   "cell_type": "code",
   "execution_count": null,
   "id": "70035632-58ec-4145-90b3-0d8fb7de9f44",
   "metadata": {
    "tags": []
   },
   "outputs": [],
   "source": [
    "pc_mu_ave"
   ]
  },
  {
   "cell_type": "code",
   "execution_count": null,
   "id": "1c36d4bd-4779-4df8-92b2-cec654d63ebc",
   "metadata": {
    "tags": []
   },
   "outputs": [],
   "source": [
    "pc_mu_rs_ave = {r.feature: r.r for r in pc_model.mu_predicts[('yri', '1000000', 'sparse')][1.5e-08].itertuples(index=False)}\n",
    "pc_mu_rs_ave"
   ]
  },
  {
   "cell_type": "code",
   "execution_count": null,
   "id": "9c5e0432-0c10-47dc-808e-4a75c92dbf45",
   "metadata": {
    "tags": []
   },
   "outputs": [],
   "source": [
    "10e6  * pc_mu_rs_ave['phastcons'] / 29"
   ]
  },
  {
   "cell_type": "code",
   "execution_count": null,
   "id": "ff34da92-d969-4868-b350-18b888a1bf3e",
   "metadata": {
    "tags": []
   },
   "outputs": [],
   "source": [
    "# the obs. subs dists\n",
    "Sa = dict(S)\n",
    "# simplify plot;  this doesn't add anything\n",
    "Sa.pop('phastcons_no_gene')\n",
    "\n",
    "fig, ax = sub_plot(Sa, pc_mu_ave, cds_mu_ave)\n",
    "\n",
    "fs = 5.5\n",
    "\n",
    "ax.text(3.5, 0.0028, \"introns+UTRs\", ha='center', va='top', fontsize=fs)\n",
    "ax.text(5, 0.00295, \"other\", ha='center', va='top', fontsize=fs)\n",
    "ax.text(1.2, 0.0025, \"CDS\\nwith\\nPhastCons\", ha='left', va='top', fontsize=fs)\n",
    "ax.text(0.75, 0.006, \"CDS\\nwithout\\nPhastCons\", ha='right', va='top', fontsize=fs)\n",
    "\n",
    "#ax.text(-0.25, 0.00178, \"phastcons\\nwith\\nCDS\", ha='center', va='top', fontsize=fs)\n",
    "lw = 0.8\n",
    "# ax.annotate(f\"PhastCons\\nwith\\nCDS\\n{latex_scientific_notation(100 * pc_mu_ave['phastcons'])}%\",\n",
    "#             xy=(-0.1, pc_mu_ave['phastcons']),\n",
    "#             arrowprops=dict(\n",
    "#                     arrowstyle='->', connectionstyle=\"arc3,rad=-0.2\",  color='0.22',linewidth=lw),\n",
    "#             xytext=(-0.5, 0.00178), ha='center', va='top', fontsize=fs)\n",
    "\n",
    "ax.annotate(f\"PhastCons\\nwith\\nCDS\",\n",
    "            xy=(-0.1, pc_mu_ave['phastcons']),\n",
    "            arrowprops=dict(\n",
    "                    arrowstyle='->', connectionstyle=\"arc3,rad=-0.2\",  color='0.22',linewidth=lw),\n",
    "            xytext=(-0.4, 0.0012), ha='right', va='top', fontsize=fs)\n",
    "\n",
    "\n",
    "# ax.annotate(f\"PhastCons\\nwithout\\nCDS\\n{latex_scientific_notation(100 * cds_mu_ave['phastcons'])}%\",\n",
    "#             xy=(0.1, cds_mu_ave['phastcons']),\n",
    "#             arrowprops=dict(\n",
    "#                     arrowstyle='->', connectionstyle=\"arc3,rad=0.2\", color='0.22', linewidth=lw),\n",
    "#             xytext=(1.2, 0.001), ha='center', va='top', fontsize=fs)\n",
    "\n",
    "ax.annotate(f\"PhastCons\\nwithout\\nCDS\",\n",
    "            xy=(0.1, cds_mu_ave['phastcons']),\n",
    "            arrowprops=dict(\n",
    "                    arrowstyle='->', connectionstyle=\"arc3,rad=0.2\", color='0.22', linewidth=lw),\n",
    "            xytext=(1.2, 0.0009), ha='center', va='top', fontsize=fs)\n",
    "\n",
    "\n",
    "pred_range([0.11], [pc_mu_rs_ave['phastcons']], 6e6, 12e6, 29, ax, c='cornflowerblue')\n",
    "ax.text(5.25, 0.00615, \"12Mya\", fontsize=5, ha='left')\n",
    "ax.text(5.25, 0.00305, \"6Mya\", fontsize=5, ha='left')\n",
    "\n",
    "old_legend = plt.legend()\n",
    "new_legend_entry = mlines.Line2D([], [], color='cornflowerblue', linewidth=0,\n",
    "                                 label='Locally-rescaled\\nPhastCons Priority')\n",
    "\n",
    "if old_legend:\n",
    "    old_handles = old_legend.legendHandles\n",
    "    old_labels = [t.get_text() for t in old_legend.texts]\n",
    "\n",
    "    handles = old_handles + [new_legend_entry]\n",
    "    labels = old_labels + [new_legend_entry.get_label()]\n",
    "\n",
    "# create the new legend\n",
    "leg = ax.legend(handles=handles, labels=labels, fontsize=6.5, title=\"Annotation Model\", title_fontsize=7)\n",
    "\n",
    "for handle in leg.legend_handles:\n",
    "    handle.set_linewidth(3.0)\n",
    "\n",
    "ax.annotate(f\"Locally-rescaled\\nPhastCons\\nwith CDS\",\n",
    "            xy=(0.1, 0.0005 + (10e6 / 29 * pc_mu_rs_ave['phastcons'])),\n",
    "            arrowprops=dict(\n",
    "                    arrowstyle='->', connectionstyle=\"arc3,rad=0.2\", color='0.22', linewidth=lw),\n",
    "            xytext=(-0.6, 0.005), ha='center', va='top', fontsize=fs)\n",
    "\n",
    "# ax.text(0.21, -0.00011 + (10e6 / 29 * pc_mu_rs_ave['phastcons']),\n",
    "#         \"Locally-\\nrescaled\\nPhastCons\\nwith CDS\", ha='left', va='top', fontsize=fs)\n",
    "\n",
    "    \n",
    "plt.savefig('../manuscript/figures/figure_7.pdf')"
   ]
  },
  {
   "cell_type": "code",
   "execution_count": null,
   "id": "ea8cc259-2d51-4d4e-b347-9b2018bd2bc6",
   "metadata": {
    "tags": []
   },
   "outputs": [],
   "source": [
    "S['phastcons']/S['neutral']"
   ]
  },
  {
   "cell_type": "code",
   "execution_count": null,
   "id": "52a1bf14-6a51-4b85-adaa-9ac7a8dcd80c",
   "metadata": {
    "tags": []
   },
   "outputs": [],
   "source": [
    "# in the phastcons paper, human conserved/non-conserved branch length ratio is\n",
    "0.071 / 0.217"
   ]
  },
  {
   "cell_type": "markdown",
   "id": "c8072df3-b345-4ef9-9f0a-b4c98007fa69",
   "metadata": {},
   "source": [
    "So these estimates from PhyloFit seem reasonable."
   ]
  },
  {
   "cell_type": "code",
   "execution_count": null,
   "id": "1d9a13c9-c37d-47ae-a3c2-2f3d90bbdd00",
   "metadata": {
    "tags": []
   },
   "outputs": [],
   "source": [
    "cds_mu_ave['CDS'] / pc_mu_ave['CDS']"
   ]
  },
  {
   "cell_type": "code",
   "execution_count": null,
   "id": "3d598fb1-c048-4c18-b6f5-026ec39438bd",
   "metadata": {
    "tags": []
   },
   "outputs": [],
   "source": [
    "# for completeness, the strong sel grid\n",
    "fig, ax = sub_plot(Sa, pc_6x8_mu_ave, cds_6x8_mu_ave)"
   ]
  },
  {
   "cell_type": "markdown",
   "id": "44844225-16bf-4116-a5e5-5d19023de3b8",
   "metadata": {},
   "source": [
    "dn/ds ratio in humans is dn/ds=0.14, 14% AA subs neutral (from Pritchard book)."
   ]
  },
  {
   "cell_type": "code",
   "execution_count": null,
   "id": "b0bd4799-bd09-4b87-9e54-3dd5a07f0ebb",
   "metadata": {
    "tags": []
   },
   "outputs": [],
   "source": [
    "S['CDS']/S['neutral'], S['phastcons']/S['neutral']"
   ]
  },
  {
   "cell_type": "code",
   "execution_count": null,
   "id": "542898a3-7b8c-4565-b25d-5a453c8f7875",
   "metadata": {
    "tags": []
   },
   "outputs": [],
   "source": [
    "dfg = cds_model.mu_predicts[('yri', '1000000','full')][1.5e-8].groupby('feature').mean()\n",
    "dfg.reset_index()"
   ]
  },
  {
   "cell_type": "markdown",
   "id": "e237a464-8582-4713-af6d-7df121fd7d13",
   "metadata": {},
   "source": [
    "## Predictions of Load and Fitness Variation"
   ]
  },
  {
   "cell_type": "code",
   "execution_count": null,
   "id": "d14f9c75-7e98-46c5-9bb5-b6432c318316",
   "metadata": {
    "tags": []
   },
   "outputs": [],
   "source": [
    "cds_model.mu_predicts[('yri', '1000000', 'full')]"
   ]
  },
  {
   "cell_type": "code",
   "execution_count": null,
   "id": "2817e346-fba9-495f-ac54-60ddd2566027",
   "metadata": {
    "tags": []
   },
   "outputs": [],
   "source": [
    "def load_Vm_stats(df, mu):\n",
    "    V = df['V'].values.sum()\n",
    "    Vm = df['Vm'].values.sum()\n",
    "    load = df['load'].values.sum()\n",
    "    ave_r = np.average(df['r'].values, weights=df['seglen'])\n",
    "    return dict(V=V, Vm=Vm, load=load, ave_r=100*(ave_r/mu))"
   ]
  },
  {
   "cell_type": "code",
   "execution_count": null,
   "id": "8104b9e2-4a91-4ee2-a99d-888ad78e5eb7",
   "metadata": {
    "tags": []
   },
   "outputs": [],
   "source": [
    "mu = 1.5e-8\n",
    "\n",
    "for pop in pop_to_num:\n",
    "    print((pop, load_Vm_stats(pc_model.mu_predicts[(pop, '1000000','full')][mu], mu=mu)))"
   ]
  },
  {
   "cell_type": "code",
   "execution_count": null,
   "id": "429c5dd8-971a-40d2-8847-19233a037c16",
   "metadata": {
    "tags": []
   },
   "outputs": [],
   "source": [
    "\n",
    "for pop in pop_to_num:\n",
    "    print((pop, load_Vm_stats(pc_6x7_model.mu_predicts[(pop, '1000000','full')][mu], mu=mu)))"
   ]
  },
  {
   "cell_type": "code",
   "execution_count": null,
   "id": "c971e935-15c4-48ec-bb01-fa9a994cb7f4",
   "metadata": {},
   "outputs": [],
   "source": [
    "for pop in pop_to_num:\n",
    "    print((pop, load_Vm_stats(pc_model.mu_predicts[(pop, '1000000','full')][1.5e-8])))"
   ]
  },
  {
   "cell_type": "code",
   "execution_count": null,
   "id": "cfea9041-c1a4-4b34-bc73-662c276913cc",
   "metadata": {
    "tags": []
   },
   "outputs": [],
   "source": [
    "cds_model.mu_predicts[('yri', '1000000', 'full')][1.5e-8].groupby('feature').sum()"
   ]
  },
  {
   "cell_type": "code",
   "execution_count": null,
   "id": "b2fb4f8e-0564-42c1-bc44-d6636c325f98",
   "metadata": {
    "tags": []
   },
   "outputs": [],
   "source": [
    "cds_sum = cds_model.mu_predicts[('yri', '1000000', 'full')][1.5e-8].groupby('feature').sum()\n",
    "cds_sumstats = cds_sum.sum()"
   ]
  },
  {
   "cell_type": "code",
   "execution_count": null,
   "id": "a8568015-8c4b-491a-b8f7-ecca541788e9",
   "metadata": {
    "tags": []
   },
   "outputs": [],
   "source": [
    "keep = 'V', 'Vm', 'load'\n",
    "cds_sumstats_dict = {x.index: x.stats for x in cds_sumstats.reset_index(name='stats').itertuples() if x.index in keep}\n",
    "cds_sumstats_dict"
   ]
  },
  {
   "cell_type": "code",
   "execution_count": null,
   "id": "4fbf05cb-76a4-4ee5-9075-4601f2bfff74",
   "metadata": {
    "tags": []
   },
   "outputs": [],
   "source": [
    "(1-np.exp(-1.5517030346484817e-05))*100"
   ]
  },
  {
   "cell_type": "code",
   "execution_count": null,
   "id": "c2494923-1ed0-4934-921c-5a96bb31cfaf",
   "metadata": {
    "tags": []
   },
   "outputs": [],
   "source": [
    "from bgspy.recmap import RecMap\n",
    "rm = RecMap('../data/fit_annotation/decode_2019_map.txt', seqlens)\n",
    "\n",
    "auto_map_length = sum({c: x.rate[-1] for c, x in rm.cum_rates.items() if c.replace('chr', '') in map(str, range(2, 23))}.values())\n",
    "\n",
    "def SC98(C2, Vm, L):\n",
    "    Z = Vm/C2\n",
    "    return np.exp(-C2/ ((1-Z)*L))\n",
    "                  \n",
    "SC98(cds_sumstats_dict['V'], cds_sumstats_dict['Vm'], auto_map_length)                "
   ]
  }
 ],
 "metadata": {
  "kernelspec": {
   "display_name": "Python 3 (ipykernel)",
   "language": "python",
   "name": "python3"
  },
  "language_info": {
   "codemirror_mode": {
    "name": "ipython",
    "version": 3
   },
   "file_extension": ".py",
   "mimetype": "text/x-python",
   "name": "python",
   "nbconvert_exporter": "python",
   "pygments_lexer": "ipython3",
   "version": "3.10.8"
  }
 },
 "nbformat": 4,
 "nbformat_minor": 5
}
