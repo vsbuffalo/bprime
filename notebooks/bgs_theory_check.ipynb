{
 "cells": [
  {
   "cell_type": "code",
   "execution_count": 36,
   "id": "077e8dee-1375-4d55-915a-568087c6df6c",
   "metadata": {},
   "outputs": [
    {
     "name": "stdout",
     "output_type": "stream",
     "text": [
      "The autoreload extension is already loaded. To reload it, use:\n",
      "  %reload_ext autoreload\n"
     ]
    }
   ],
   "source": [
    "import sys\n",
    "sys.path.extend(['..', '../bprime'])\n",
    "    \n",
    "%load_ext autoreload\n",
    "%autoreload 2\n",
    "%reload_ext autoreload"
   ]
  },
  {
   "cell_type": "code",
   "execution_count": 37,
   "id": "fa958653-87ca-492f-b6ca-12fce20c5496",
   "metadata": {},
   "outputs": [],
   "source": [
    "import numpy as np\n",
    "import matplotlib.pyplot as plt\n",
    "from scipy.integrate import quad\n",
    "\n",
    "from bprime.theory import bgs_segment, bgs_rec"
   ]
  },
  {
   "cell_type": "markdown",
   "id": "6b3eaa93-d0fc-4ee2-a954-c015418989de",
   "metadata": {},
   "source": [
    "## Comparison of BGS Theory functions\n",
    "\n",
    "This is a quick check to make sure the functions in the `theory.py` module are aligning up. `bgs_rec()` is the traditional BGS function from McVicker et al (2009) and Elyashiv et al. (2016). Traditionally it's exponent is summed; in the `notebooks/BGS_model_notes.nb` I work through integrating along the segment's length, but partitioning recombination into a fixed `rf` (sometimes in code elsewhere, `recfrac`) part away and a per-basepair recombination along the segment `rbp`. This below shows this all aligns up:"
   ]
  },
  {
   "cell_type": "code",
   "execution_count": 38,
   "id": "bfae1c36-4939-4ed4-8c4b-e69c5c195c71",
   "metadata": {},
   "outputs": [
    {
     "data": {
      "text/plain": [
       "(array(0.99004985), array(0.99004985))"
      ]
     },
     "execution_count": 38,
     "metadata": {},
     "output_type": "execute_result"
    }
   ],
   "source": [
    "mu = 1e-7\n",
    "s = 1e-2\n",
    "r = 1e-8\n",
    "L = 1000\n",
    "\n",
    "bgs_rec(mu, s, r, L), bgs_segment(mu, s, 1e-8, 0, L)"
   ]
  },
  {
   "cell_type": "code",
   "execution_count": 49,
   "id": "f382d89e-667a-41f9-b9ea-cac4e8906606",
   "metadata": {},
   "outputs": [
    {
     "data": {
      "text/plain": [
       "(array(0.99005963), array(0.99005963))"
      ]
     },
     "execution_count": 49,
     "metadata": {},
     "output_type": "execute_result"
    }
   ],
   "source": [
    "@np.vectorize\n",
    "def integrated_bgs_rec(mu, s, rf, rbp, L):\n",
    "    \"\"\"\n",
    "    Integrate over the segment's length numerically -- should \n",
    "    match bgs_segment().\n",
    "    \"\"\"\n",
    "    def bgs(x):\n",
    "        return bgs_rec(mu, s, rf + rbp*x, 1, log=True)\n",
    "    return np.exp(quad(bgs, 0, L)[0])\n",
    "\n",
    "integrated_bgs_rec(mu, s, 0, r, L), bgs_segment(mu, s, 0, r, L)"
   ]
  },
  {
   "cell_type": "code",
   "execution_count": 55,
   "id": "81531a91-1867-4798-943b-a8b4c4a691da",
   "metadata": {},
   "outputs": [
    {
     "data": {
      "text/plain": [
       "Text(0, 0.5, 'B')"
      ]
     },
     "execution_count": 55,
     "metadata": {},
     "output_type": "execute_result"
    },
    {
     "data": {
      "image/png": "[encoded data removed]",
      "text/plain": [
       "<Figure size 432x288 with 1 Axes>"
      ]
     },
     "metadata": {
      "needs_background": "light"
     },
     "output_type": "display_data"
    }
   ],
   "source": [
    "rf = np.logspace(-8, -3.5, 100)\n",
    "fig, ax = plt.subplots()\n",
    "ax.plot(rf, bgs_segment(mu, s, 1e-8, rf, L), label='bgs_segment()')\n",
    "ax.plot(rf, integrated_bgs_rec(mu, s, 1e-8, rf, L), linestyle='dashed', label='integrated bgs_rec()')\n",
    "ax.legend()\n",
    "ax.axhline(1, linestyle='dashed', c='0.22')\n",
    "ax.set_xlabel(\"recombination fraction\")\n",
    "ax.set_ylabel(\"B\")"
   ]
  },
  {
   "cell_type": "code",
   "execution_count": null,
   "id": "db1bab20-6059-4572-959f-b3f066c15abc",
   "metadata": {},
   "outputs": [],
   "source": []
  }
 ],
 "metadata": {
  "kernelspec": {
   "display_name": "Python 3 (ipykernel)",
   "language": "python",
   "name": "python3"
  },
  "language_info": {
   "codemirror_mode": {
    "name": "ipython",
    "version": 3
   },
   "file_extension": ".py",
   "mimetype": "text/x-python",
   "name": "python",
   "nbconvert_exporter": "python",
   "pygments_lexer": "ipython3",
   "version": "3.8.12"
  }
 },
 "nbformat": 4,
 "nbformat_minor": 5
}
