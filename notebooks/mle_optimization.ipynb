{
 "cells": [
  {
   "cell_type": "code",
   "execution_count": 1,
   "id": "17014505-6fd5-4554-b5d9-02a7dbbe5506",
   "metadata": {},
   "outputs": [],
   "source": [
    "%load_ext autoreload\n",
    "%autoreload 2\n",
    "%reload_ext autoreload"
   ]
  },
  {
   "cell_type": "code",
   "execution_count": 2,
   "id": "95b3e305-9260-4418-900d-76c064b8775c",
   "metadata": {},
   "outputs": [],
   "source": [
    "import numpy as np\n",
    "import pickle\n",
    "from tabulate import tabulate\n",
    "from functools import partial\n",
    "import ctypes\n",
    "from scipy.optimize import minimize, LinearConstraint, basinhopping\n",
    "import matplotlib.pyplot as plt\n",
    "import nlopt\n",
    "from bgspy.likelihood import negll_c, negll, negll_numba, negll_fixmu_c\n",
    "from bgspy.likelihood import negll_fixmu_numba, negll_free_c, negll_free_numba\n",
    "from bgspy.likelihood import bounds, random_start_simplex, random_start_mutation, negll_mutation, bounds_mutation"
   ]
  },
  {
   "cell_type": "code",
   "execution_count": 3,
   "id": "4078f980-2361-4562-8185-fa766db25cf8",
   "metadata": {},
   "outputs": [],
   "source": [
    "def optim_summary(res, nt, nf):\n",
    "    theta = res.x\n",
    "    print(f\"NLL: {res.fun}\\npi0: {theta[0]}\\n\")\n",
    "    offset = theta.size - nt * nf \n",
    "    if offset == 2:\n",
    "        print(f\"μ: {theta[1]}\\nW = \")\n",
    "    \n",
    "    W = theta[offset:].reshape((nt, nf))\n",
    "    print(tabulate(np.round(W, 3)))\n",
    "    print(f\"sums: {W.sum(axis=0)}\")\n",
    "\n",
    "def check_bounds(x, lb, ub):\n",
    "    assert np.all((x >= lb) & (x <= ub))"
   ]
  },
  {
   "cell_type": "code",
   "execution_count": 4,
   "id": "57902eed-e7a3-4607-8102-8d5deddfe3f1",
   "metadata": {},
   "outputs": [],
   "source": [
    "    dat = pickle.load(open('../tests/likelihood_test_data.pkl', 'rb'))\n",
    "    B, Y, w = dat['B'], dat['Y'], dat['w']\n",
    "\n",
    "    nx, nw, nt, nf = B.shape\n",
    "    nparams = nt * nf + 2"
   ]
  },
  {
   "cell_type": "code",
   "execution_count": 5,
   "id": "1cd00ecc-86d9-4e26-9260-0a93dde6fe60",
   "metadata": {},
   "outputs": [],
   "source": [
    "bounds(nt, nf, paired=True)\n",
    "check_bounds(random_start_simplex(nt, nf), *bounds(nt, nf))"
   ]
  },
  {
   "cell_type": "code",
   "execution_count": 6,
   "id": "4a3ab77d-d2b7-4f72-a1f4-bf73a9ff1cef",
   "metadata": {},
   "outputs": [],
   "source": [
    "np.random.seed(1)"
   ]
  },
  {
   "cell_type": "code",
   "execution_count": 7,
   "id": "d1d59b3a-70bf-44e3-acfd-ce3179edd045",
   "metadata": {},
   "outputs": [],
   "source": [
    "test_theta = np.array([1.33128476e-04, 1.99781458e-09, 8.62855908e-03, 2.01632113e-01,\n",
    "       5.62221421e-01, 9.32838631e-03, 4.62330613e-01, 1.32512993e-01,\n",
    "       9.18201833e-02, 3.32180143e-02, 3.02959135e-03, 6.38781967e-01,\n",
    "       8.20186567e-02, 2.59546792e-01, 2.51440905e-01, 2.20800603e-01,\n",
    "       4.26892028e-02])\n",
    "\n",
    "numba_results = negll_numba(test_theta, Y, B, w)\n",
    "c_results = negll_c(test_theta, Y, B, w)\n",
    "np.testing.assert_almost_equal(c_results, numba_results)"
   ]
  },
  {
   "cell_type": "code",
   "execution_count": 8,
   "id": "7909a911-53f6-4996-a678-2f58ed2386ab",
   "metadata": {},
   "outputs": [
    {
     "data": {
      "text/plain": [
       "array([2.61229371e-04, 2.14363380e-11, 3.02402339e-08, 1.46841215e-08,\n",
       "       2.14363380e-11, 3.02402339e-08, 1.46841215e-08, 2.14363380e-11,\n",
       "       3.02402339e-08, 1.46841215e-08, 2.14363380e-11, 3.02402339e-08,\n",
       "       1.46841215e-08, 2.14363380e-11, 3.02402339e-08, 1.46841215e-08])"
      ]
     },
     "execution_count": 8,
     "metadata": {},
     "output_type": "execute_result"
    }
   ],
   "source": [
    "random_start_mutation(nt, nf)"
   ]
  },
  {
   "cell_type": "code",
   "execution_count": 9,
   "id": "7c181d3b-95f1-4a2e-9e63-df13e9624be9",
   "metadata": {},
   "outputs": [
    {
     "data": {
      "text/plain": [
       "6673144422509.813"
      ]
     },
     "execution_count": 9,
     "metadata": {},
     "output_type": "execute_result"
    }
   ],
   "source": [
    "start = random_start_mutation(nt, nf)\n",
    "negll_free_c(start, Y, B, w)"
   ]
  },
  {
   "cell_type": "code",
   "execution_count": 10,
   "id": "d8f2673e-a06e-45f1-b36f-d9011d737a18",
   "metadata": {},
   "outputs": [
    {
     "data": {
      "text/plain": [
       "6673144422509.828"
      ]
     },
     "execution_count": 10,
     "metadata": {},
     "output_type": "execute_result"
    }
   ],
   "source": [
    "negll_mutation(start, Y, B, w)"
   ]
  },
  {
   "cell_type": "markdown",
   "id": "bc6e4bbd-8d7c-473a-b306-4aa207f8f897",
   "metadata": {},
   "source": [
    "## Scipy no constraints"
   ]
  },
  {
   "cell_type": "code",
   "execution_count": 11,
   "id": "ac7271e6-83ee-43f5-a309-cc879714b22e",
   "metadata": {},
   "outputs": [],
   "source": [
    "nll = partial(negll_mutation, Y=Y, logB=B, w=w)"
   ]
  },
  {
   "cell_type": "code",
   "execution_count": 12,
   "id": "b12f96fd-d9dd-406c-a0f4-37706821d9f3",
   "metadata": {},
   "outputs": [
    {
     "data": {
      "text/plain": [
       "[(0.0001, 0.001),\n",
       " (1e-11, 1e-07),\n",
       " (1e-11, 1e-07),\n",
       " (1e-11, 1e-07),\n",
       " (1e-11, 1e-07),\n",
       " (1e-11, 1e-07),\n",
       " (1e-11, 1e-07),\n",
       " (1e-11, 1e-07),\n",
       " (1e-11, 1e-07),\n",
       " (1e-11, 1e-07),\n",
       " (1e-11, 1e-07),\n",
       " (1e-11, 1e-07),\n",
       " (1e-11, 1e-07),\n",
       " (1e-11, 1e-07),\n",
       " (1e-11, 1e-07),\n",
       " (1e-11, 1e-07)]"
      ]
     },
     "execution_count": 12,
     "metadata": {},
     "output_type": "execute_result"
    }
   ],
   "source": [
    "bounds_mutation(nt, nf, paired=True)"
   ]
  },
  {
   "cell_type": "code",
   "execution_count": 13,
   "id": "7eade0a7-ed16-408d-b538-8fbe87731023",
   "metadata": {},
   "outputs": [
    {
     "data": {
      "text/plain": [
       "      fun: 919880395412.7035\n",
       " hess_inv: <16x16 LbfgsInvHessProduct with dtype=float64>\n",
       "      jac: array([-3.17264638e+13,  5.33192164e+19,  7.83642949e+18,  5.60098838e+18,\n",
       "        1.90408925e+19,  2.60147130e+18,  1.87687545e+18,  6.49134760e+18,\n",
       "        8.99714347e+17,  6.33864645e+17,  3.15345392e+18,  4.78581254e+17,\n",
       "        3.43893227e+17,  2.34359096e+18,  3.80646669e+17,  2.78169740e+17])\n",
       "  message: 'CONVERGENCE: NORM_OF_PROJECTED_GRADIENT_<=_PGTOL'\n",
       "     nfev: 34\n",
       "      nit: 1\n",
       "     njev: 2\n",
       "   status: 0\n",
       "  success: True\n",
       "        x: array([1.e-03, 1.e-11, 1.e-11, 1.e-11, 1.e-11, 1.e-11, 1.e-11, 1.e-11,\n",
       "       1.e-11, 1.e-11, 1.e-11, 1.e-11, 1.e-11, 1.e-11, 1.e-11, 1.e-11])"
      ]
     },
     "execution_count": 13,
     "metadata": {},
     "output_type": "execute_result"
    }
   ],
   "source": [
    "start = random_start_mutation(nt, nf)\n",
    "\n",
    "minimize(nll, start, bounds=bounds_mutation(nt, nf, paired=True))"
   ]
  },
  {
   "cell_type": "code",
   "execution_count": 78,
   "id": "213b4fea-b01c-4a57-a392-660f3a963f44",
   "metadata": {},
   "outputs": [
    {
     "data": {
      "text/plain": [
       "array([2.06783381e-04, 2.18023189e-08, 1.18345871e-11, 1.00133007e-08,\n",
       "       2.18023189e-08, 1.18345871e-11, 1.00133007e-08, 2.18023189e-08,\n",
       "       1.18345871e-11, 1.00133007e-08, 2.18023189e-08, 1.18345871e-11,\n",
       "       1.00133007e-08, 2.18023189e-08, 1.18345871e-11, 1.00133007e-08])"
      ]
     },
     "execution_count": 78,
     "metadata": {},
     "output_type": "execute_result"
    }
   ],
   "source": [
    "start"
   ]
  },
  {
   "cell_type": "markdown",
   "id": "e51a28a6-335c-448d-af89-9d5ff1dc7145",
   "metadata": {
    "tags": []
   },
   "source": [
    "## Scipy"
   ]
  },
  {
   "cell_type": "code",
   "execution_count": 10,
   "id": "24a03c0a-a773-4d13-a0bf-21e5080d1828",
   "metadata": {},
   "outputs": [],
   "source": [
    "def constraint_matrix(nt, nf, fixmu=False):\n",
    "    nparams = nt*nf + 1 + int(not fixmu)\n",
    "    A = np.zeros((nf, nparams))\n",
    "    for i in range(nf):\n",
    "        offset = 1 + int(not fixmu)\n",
    "        start = offset + i*nt\n",
    "        A[i, tuple(range(offset, nparams, nf))] = 1.\n",
    "    return A"
   ]
  },
  {
   "cell_type": "code",
   "execution_count": 11,
   "id": "b6c1db3f-7364-474e-a862-de3439c618dd",
   "metadata": {},
   "outputs": [
    {
     "data": {
      "text/plain": [
       "(3, 16)"
      ]
     },
     "execution_count": 11,
     "metadata": {},
     "output_type": "execute_result"
    }
   ],
   "source": [
    "A = constraint_matrix(nt, nf, fixmu=True)\n",
    "A.shape"
   ]
  },
  {
   "cell_type": "code",
   "execution_count": 12,
   "id": "aee59507-79b2-4819-aaa9-0e4999f764df",
   "metadata": {},
   "outputs": [
    {
     "data": {
      "text/plain": [
       "array([[1., 0., 0.],\n",
       "       [1., 0., 0.],\n",
       "       [1., 0., 0.],\n",
       "       [1., 0., 0.],\n",
       "       [1., 0., 0.]])"
      ]
     },
     "execution_count": 12,
     "metadata": {},
     "output_type": "execute_result"
    }
   ],
   "source": [
    "A[0, 1:].reshape((nt, nf))"
   ]
  },
  {
   "cell_type": "code",
   "execution_count": 13,
   "id": "f9bc2d07-3424-48e9-92aa-ce27dc52dba8",
   "metadata": {},
   "outputs": [
    {
     "data": {
      "text/plain": [
       "<scipy.optimize._constraints.LinearConstraint at 0x7fd2058d4280>"
      ]
     },
     "execution_count": 13,
     "metadata": {},
     "output_type": "execute_result"
    }
   ],
   "source": [
    "def tol_vectors(n, tol1, tol2=None):\n",
    "    if tol2 is None:\n",
    "        tol2 = tol1\n",
    "    return np.ones(n) - tol1, np.ones(n) + tol2\n",
    "\n",
    "lb, ub = tol_vectors(nf, 1e-5)\n",
    "constraint = LinearConstraint(A, lb, ub)\n",
    "#constraint = LinearConstraint(A, np.ones(3), np.ones(3))\n",
    "constraint"
   ]
  },
  {
   "cell_type": "code",
   "execution_count": 14,
   "id": "7b215f12-d53b-4478-8a36-d27a6540eae7",
   "metadata": {},
   "outputs": [],
   "source": [
    "#nll2 = partial(negll_c, Y=Y, logB=B, w=w, bounds=bounds(nt, nf))\n",
    "nll2 = partial(negll_c, Y=Y, logB=B, w=w)"
   ]
  },
  {
   "cell_type": "code",
   "execution_count": 15,
   "id": "5f55092a-56c4-45e4-9a0e-2b9ba6961d0e",
   "metadata": {},
   "outputs": [],
   "source": [
    "x = random_start(nt, nf)"
   ]
  },
  {
   "cell_type": "code",
   "execution_count": 16,
   "id": "588c5803-3f99-415c-beea-ed513b34e4d0",
   "metadata": {},
   "outputs": [
    {
     "data": {
      "text/plain": [
       "array([2.61229371e-04, 7.20352461e-08, 1.39177968e-04, 1.24603392e-01,\n",
       "       5.70191291e-02, 4.38059527e-01, 1.48548572e-01, 5.24683867e-01,\n",
       "       1.93116075e-01, 2.27460760e-01, 6.92274094e-03, 1.17887220e-01,\n",
       "       1.59683217e-01, 2.76733971e-01, 2.50798000e-01, 3.39704060e-01,\n",
       "       1.34640292e-01])"
      ]
     },
     "execution_count": 16,
     "metadata": {},
     "output_type": "execute_result"
    }
   ],
   "source": [
    "x"
   ]
  },
  {
   "cell_type": "code",
   "execution_count": 17,
   "id": "6f16e7f9-12a4-4c81-a8ed-f050866ed6e2",
   "metadata": {},
   "outputs": [
    {
     "data": {
      "text/plain": [
       "2585097945963.104"
      ]
     },
     "execution_count": 17,
     "metadata": {},
     "output_type": "execute_result"
    }
   ],
   "source": [
    "nll2(x)"
   ]
  },
  {
   "cell_type": "code",
   "execution_count": 18,
   "id": "09fb629d-357c-4bb0-9b7a-0878d1a6039e",
   "metadata": {},
   "outputs": [
    {
     "data": {
      "text/plain": [
       "(2585097945963.1064, 2585097945963.104)"
      ]
     },
     "execution_count": 18,
     "metadata": {},
     "output_type": "execute_result"
    }
   ],
   "source": [
    "negll(x, Y, B, w), negll_numba(x, Y, B, w)"
   ]
  },
  {
   "cell_type": "code",
   "execution_count": 19,
   "id": "6dc56bd1-e4ca-40a5-8efc-f97e2d0a5644",
   "metadata": {},
   "outputs": [
    {
     "data": {
      "text/plain": [
       "(array([0.99999, 0.99999, 0.99999]), array([1.00001, 1.00001, 1.00001]))"
      ]
     },
     "execution_count": 19,
     "metadata": {},
     "output_type": "execute_result"
    }
   ],
   "source": [
    "constraint.lb, constraint.ub"
   ]
  },
  {
   "cell_type": "code",
   "execution_count": 20,
   "id": "1b53e794-e7cc-4561-83c5-a32be4b1f193",
   "metadata": {},
   "outputs": [
    {
     "data": {
      "text/plain": [
       "array([0., 0., 1., 0., 0., 1., 0., 0., 1., 0., 0., 1., 0., 0.])"
      ]
     },
     "execution_count": 20,
     "metadata": {},
     "output_type": "execute_result"
    }
   ],
   "source": [
    "constraint.A[2, 2:]"
   ]
  },
  {
   "cell_type": "code",
   "execution_count": 21,
   "id": "60d16054-a97f-4c00-850a-6a2b047730ea",
   "metadata": {},
   "outputs": [],
   "source": [
    "cons=({'type': 'eq','fun': lambda x: np.sum(A[0, :].dot(x) - 1.)},\n",
    "      {'type': 'eq','fun': lambda x: np.sum(A[1, :].dot(x) - 1.)},\n",
    "      #{'type': 'ineq','fun': lambda x: x },\n",
    "      #{'type': 'ineq','fun': lambda x: 1-x},\n",
    "     )"
   ]
  },
  {
   "cell_type": "code",
   "execution_count": 22,
   "id": "b6fc3d1a-0b50-48ee-849a-62f68e2a2250",
   "metadata": {},
   "outputs": [],
   "source": [
    "nll3 = partial(negll_fixmu_c, mu=1.1e-8, Y=Y, logB=B, w=w)"
   ]
  },
  {
   "cell_type": "code",
   "execution_count": 23,
   "id": "7b5d0e30-5063-4a52-9540-6920b05f8b52",
   "metadata": {},
   "outputs": [
    {
     "data": {
      "text/plain": [
       "(16,)"
      ]
     },
     "execution_count": 23,
     "metadata": {},
     "output_type": "execute_result"
    }
   ],
   "source": [
    "random_start(nt, nf, fixmu=True).shape"
   ]
  },
  {
   "cell_type": "code",
   "execution_count": 24,
   "id": "6d07e4dc-94c3-413f-9aa7-b85403e0f435",
   "metadata": {},
   "outputs": [
    {
     "data": {
      "text/plain": [
       "array([4.91900330e-04, 1.30889212e-01, 3.47500552e-01, 7.38808708e-01,\n",
       "       2.03059663e-01, 8.29376688e-02, 1.07339373e-01, 2.08274406e-03,\n",
       "       3.92416116e-01, 1.04797343e-01, 1.56493957e-01, 2.74554893e-02,\n",
       "       4.30152505e-02, 5.07474425e-01, 1.49690174e-01, 6.03932549e-03])"
      ]
     },
     "execution_count": 24,
     "metadata": {},
     "output_type": "execute_result"
    }
   ],
   "source": [
    "random_start(nt, nf, fixmu=True)"
   ]
  },
  {
   "cell_type": "code",
   "execution_count": 25,
   "id": "e46f2d95-f8d2-4699-ba5c-e6e09a3b6f0f",
   "metadata": {},
   "outputs": [
    {
     "data": {
      "text/plain": [
       "array([0.00047735, 0.15039134, 0.22695651, 0.1688456 , 0.32961863,\n",
       "       0.30684905, 0.01618048, 0.02672247, 0.02753292, 0.2423861 ,\n",
       "       0.41594577, 0.13632376, 0.34417996, 0.07732179, 0.30233777,\n",
       "       0.22840786])"
      ]
     },
     "execution_count": 25,
     "metadata": {},
     "output_type": "execute_result"
    }
   ],
   "source": [
    "random_start(nt, nf, fixmu=True)"
   ]
  },
  {
   "cell_type": "code",
   "execution_count": 26,
   "id": "c27cd477-4fd5-4409-bf90-a740a07a493a",
   "metadata": {},
   "outputs": [
    {
     "data": {
      "text/plain": [
       "1280965286637.8"
      ]
     },
     "execution_count": 26,
     "metadata": {},
     "output_type": "execute_result"
    }
   ],
   "source": [
    "negll_fixmu_c(random_start(nt, nf, fixmu=True), 1e-8, Y, B, w)"
   ]
  },
  {
   "cell_type": "code",
   "execution_count": 31,
   "id": "3a553e5c-7ebc-46ca-a86c-0ef9c0364321",
   "metadata": {},
   "outputs": [
    {
     "name": "stdout",
     "output_type": "stream",
     "text": [
      "Inequality constraints incompatible    (Exit mode 4)\n",
      "            Current function value: 1292057735612.454\n",
      "            Iterations: 1\n",
      "            Function evaluations: 33\n",
      "            Gradient evaluations: 1\n"
     ]
    },
    {
     "data": {
      "text/plain": [
       "(array([1.59695705e-04, 1.73855390e-01, 7.10643587e-02, 7.40822647e-03,\n",
       "        2.77585247e-02, 1.76409852e-01, 2.86810942e-02, 1.11155974e-01,\n",
       "        2.50704941e-01, 2.63207943e-01, 4.47720721e-01, 4.57627690e-01,\n",
       "        3.68315619e-01, 2.39509391e-01, 4.41931589e-02, 3.32387118e-01]),\n",
       " array([1., 1., 1.]),\n",
       " array([ True,  True,  True,  True,  True,  True,  True,  True,  True,\n",
       "         True,  True,  True,  True,  True,  True,  True]),\n",
       " array([ True,  True,  True,  True,  True,  True,  True,  True,  True,\n",
       "         True,  True,  True,  True,  True,  True,  True]))"
      ]
     },
     "execution_count": 31,
     "metadata": {},
     "output_type": "execute_result"
    }
   ],
   "source": [
    "constraint = LinearConstraint(A, lb, ub)\n",
    "start = random_start(nt, nf, fixmu=True)\n",
    "\n",
    "res = minimize(nll3, x0=start, \n",
    "               bounds=bounds(nt, nf, fixmu=True, paired=True), constraints=cons,\n",
    "               method='SLSQP', options={'maxiter': 100_000, 'disp': True}, jac='3-point')\n",
    "l, u = bounds(nt, nf, fixmu=True)\n",
    "start, A.dot(start), l < start, start < u"
   ]
  },
  {
   "cell_type": "code",
   "execution_count": 61,
   "id": "09602197-dd8c-446e-9523-9dab85846578",
   "metadata": {},
   "outputs": [
    {
     "name": "stderr",
     "output_type": "stream",
     "text": [
      "100%|████████████████████████████████████████████████████████████████████████████████████████████████████████████████████████████████████████████████████████████████████████████████████████████████████████████████████████████████████████| 200/200 [00:00<00:00, 254.73it/s]\n"
     ]
    }
   ],
   "source": [
    "import multiprocessing, tqdm\n",
    "ncores = 50\n",
    "nchains = 200\n",
    "\n",
    "def worker(start):\n",
    "    constraint = LinearConstraint(A, lb, ub)\n",
    "    start[0] = 1.9e-3\n",
    "    res = minimize(nll3, x0=start, \n",
    "               bounds=bounds(nt, nf, fixmu=True, paired=True), constraints=cons,\n",
    "               method='SLSQP', options={'maxiter': 100_000, 'disp': False}, jac='3-point')\n",
    "    return res\n",
    "\n",
    "starts = [random_start(nt, nf, fixmu=True) for _ in range(nchains)]\n",
    "with multiprocessing.Pool(ncores) as p:\n",
    "    res = list(tqdm.tqdm(p.imap(worker, starts), total=nchains))"
   ]
  },
  {
   "cell_type": "markdown",
   "id": "46f82b75-0c4f-49cf-b82b-e910de5b4173",
   "metadata": {},
   "source": [
    "Note: COBYLA cannot handle bounds through `minimize()`'s `bounds` argument (it warns `Method cobyla cannot handle bounds`)."
   ]
  },
  {
   "cell_type": "code",
   "execution_count": 62,
   "id": "59c0609e-d04f-4040-899e-cd80c305c650",
   "metadata": {},
   "outputs": [
    {
     "data": {
      "image/png": "[encoded data removed]",
      "text/plain": [
       "<Figure size 432x288 with 1 Axes>"
      ]
     },
     "metadata": {
      "needs_background": "light"
     },
     "output_type": "display_data"
    }
   ],
   "source": [
    "_ = plt.hist([x.fun for x in res], 100)"
   ]
  },
  {
   "cell_type": "code",
   "execution_count": 67,
   "id": "4e4a8d44-16e0-4447-bbc8-e96635c92f1e",
   "metadata": {},
   "outputs": [
    {
     "data": {
      "text/plain": [
       "array([[0.04862449, 0.10238418, 0.08016482],\n",
       "       [0.01248438, 0.04382719, 0.00618467],\n",
       "       [0.17896572, 0.25161608, 0.35434727],\n",
       "       [0.11957308, 0.51216319, 0.32944152],\n",
       "       [0.64035233, 0.09000936, 0.22986172]])"
      ]
     },
     "execution_count": 67,
     "metadata": {},
     "output_type": "execute_result"
    }
   ],
   "source": [
    "res[np.argmin([x.fun for x in res])].x[1:].reshape((nt, nf))"
   ]
  },
  {
   "cell_type": "code",
   "execution_count": 36,
   "id": "4be5c969-050d-4778-9f45-c9ff4bafde18",
   "metadata": {},
   "outputs": [],
   "source": [
    "constraint = LinearConstraint(A, lb, ub)\n",
    "start = random_start(nt, nf, fixmu=True)\n",
    "start[0] = 1.9e-3\n",
    "#res = minimize(nll3, x0=start, \n",
    "#               bounds=bounds(nt, nf, fixmu=True, paired=True), constraints=constraint, method='cobyla', \n",
    "#               options={'catol': 1e-2, 'rhobeg': 1e-6, 'maxiter': 100_000, 'disp': True})"
   ]
  },
  {
   "cell_type": "code",
   "execution_count": 71,
   "id": "a150ccc2-ec24-4c82-852f-36813aa8321a",
   "metadata": {},
   "outputs": [
    {
     "data": {
      "text/plain": [
       "<numpy.flatiter at 0x55a55ad38ac0>"
      ]
     },
     "execution_count": 71,
     "metadata": {},
     "output_type": "execute_result"
    }
   ],
   "source": [
    "test"
   ]
  },
  {
   "cell_type": "code",
   "execution_count": 76,
   "id": "7309f5ac-ed31-49e5-8ed6-a7abe612ee64",
   "metadata": {},
   "outputs": [
    {
     "data": {
      "text/plain": [
       "1356928099090.2708"
      ]
     },
     "execution_count": 76,
     "metadata": {},
     "output_type": "execute_result"
    }
   ],
   "source": [
    "test = np.array([1.9e-3, 0.512, 0.828, 0.854, 0.052, 0.07 , 0.062,\n",
    "                 0.001, 0.008, 0.015, 0.   , 0.021, 0.026, 0.435, 0.073, 0.043])\n",
    "\n",
    "nll3(test)"
   ]
  },
  {
   "cell_type": "code",
   "execution_count": 37,
   "id": "1d2a6353-33a5-4566-8deb-f18f1111a01c",
   "metadata": {},
   "outputs": [
    {
     "ename": "AttributeError",
     "evalue": "'list' object has no attribute 'x'",
     "output_type": "error",
     "traceback": [
      "\u001b[0;31m---------------------------------------------------------------------------\u001b[0m",
      "\u001b[0;31mAttributeError\u001b[0m                            Traceback (most recent call last)",
      "Input \u001b[0;32mIn [37]\u001b[0m, in \u001b[0;36m<cell line: 1>\u001b[0;34m()\u001b[0m\n\u001b[0;32m----> 1\u001b[0m \u001b[43moptim_summary\u001b[49m\u001b[43m(\u001b[49m\u001b[43mres\u001b[49m\u001b[43m,\u001b[49m\u001b[43m \u001b[49m\u001b[43mnt\u001b[49m\u001b[43m,\u001b[49m\u001b[43m \u001b[49m\u001b[43mnf\u001b[49m\u001b[43m)\u001b[49m\n",
      "Input \u001b[0;32mIn [2]\u001b[0m, in \u001b[0;36moptim_summary\u001b[0;34m(res, nt, nf)\u001b[0m\n\u001b[1;32m      1\u001b[0m \u001b[38;5;28;01mdef\u001b[39;00m \u001b[38;5;21moptim_summary\u001b[39m(res, nt, nf):\n\u001b[0;32m----> 2\u001b[0m     theta \u001b[38;5;241m=\u001b[39m \u001b[43mres\u001b[49m\u001b[38;5;241;43m.\u001b[39;49m\u001b[43mx\u001b[49m\n\u001b[1;32m      3\u001b[0m     \u001b[38;5;28mprint\u001b[39m(\u001b[38;5;124mf\u001b[39m\u001b[38;5;124m\"\u001b[39m\u001b[38;5;124mNLL: \u001b[39m\u001b[38;5;132;01m{\u001b[39;00mres\u001b[38;5;241m.\u001b[39mfun\u001b[38;5;132;01m}\u001b[39;00m\u001b[38;5;130;01m\\n\u001b[39;00m\u001b[38;5;124mpi0: \u001b[39m\u001b[38;5;132;01m{\u001b[39;00mtheta[\u001b[38;5;241m0\u001b[39m]\u001b[38;5;132;01m}\u001b[39;00m\u001b[38;5;130;01m\\n\u001b[39;00m\u001b[38;5;124m\"\u001b[39m)\n\u001b[1;32m      4\u001b[0m     offset \u001b[38;5;241m=\u001b[39m theta\u001b[38;5;241m.\u001b[39msize \u001b[38;5;241m-\u001b[39m nt \u001b[38;5;241m*\u001b[39m nf \n",
      "\u001b[0;31mAttributeError\u001b[0m: 'list' object has no attribute 'x'"
     ]
    }
   ],
   "source": [
    "optim_summary(res, nt, nf)"
   ]
  },
  {
   "cell_type": "code",
   "execution_count": 123,
   "id": "cb9051c8-c540-4430-9174-faab89f584f2",
   "metadata": {},
   "outputs": [
    {
     "name": "stderr",
     "output_type": "stream",
     "text": [
      "  0%|                                                                                                                                                                                                                                                    | 0/10 [00:00<?, ?it/s]capi_return is NULL\n",
      "Call-back cb_calcfc_in__cobyla__user__routines failed.\n",
      "  0%|                                                                                                                                                                                                                                                    | 0/10 [00:26<?, ?it/s]capi_return is NULL\n",
      "Call-back cb_calcfc_in__cobyla__user__routines failed.\n",
      "capi_return is NULL\n",
      "Call-back cb_calcfc_in__cobyla__user__routines failed.\n",
      "capi_return is NULL\n",
      "Call-back cb_calcfc_in__cobyla__user__routines failed.\n",
      "capi_return is NULL\n",
      "Call-back cb_calcfc_in__cobyla__user__routines failed.\n",
      "capi_return is NULL\n",
      "Call-back cb_calcfc_in__cobyla__user__routines failed.\n",
      "capi_return is NULL\n",
      "capi_return is NULL\n",
      "Call-back cb_callback_in__cobyla__user__routines failed.\n",
      "Call-back cb_calcfc_in__cobyla__user__routines failed.\n",
      "capi_return is NULL\n",
      "capi_return is NULL\n",
      "Call-back cb_calcfc_in__cobyla__user__routines failed.\n",
      "Call-back cb_calcfc_in__cobyla__user__routines failed.\n",
      "\n"
     ]
    },
    {
     "ename": "KeyboardInterrupt",
     "evalue": "",
     "output_type": "error",
     "traceback": [
      "\u001b[0;31m---------------------------------------------------------------------------\u001b[0m",
      "\u001b[0;31mIndexError\u001b[0m                                Traceback (most recent call last)",
      "File \u001b[0;32m~/miniconda3/envs/bprime/lib/python3.8/multiprocessing/pool.py:851\u001b[0m, in \u001b[0;36mIMapIterator.next\u001b[0;34m(self, timeout)\u001b[0m\n\u001b[1;32m    850\u001b[0m \u001b[38;5;28;01mtry\u001b[39;00m:\n\u001b[0;32m--> 851\u001b[0m     item \u001b[38;5;241m=\u001b[39m \u001b[38;5;28;43mself\u001b[39;49m\u001b[38;5;241;43m.\u001b[39;49m\u001b[43m_items\u001b[49m\u001b[38;5;241;43m.\u001b[39;49m\u001b[43mpopleft\u001b[49m\u001b[43m(\u001b[49m\u001b[43m)\u001b[49m\n\u001b[1;32m    852\u001b[0m \u001b[38;5;28;01mexcept\u001b[39;00m \u001b[38;5;167;01mIndexError\u001b[39;00m:\n",
      "\u001b[0;31mIndexError\u001b[0m: pop from an empty deque",
      "\nDuring handling of the above exception, another exception occurred:\n",
      "\u001b[0;31mKeyboardInterrupt\u001b[0m                         Traceback (most recent call last)",
      "Input \u001b[0;32mIn [123]\u001b[0m, in \u001b[0;36m<cell line: 14>\u001b[0;34m()\u001b[0m\n\u001b[1;32m     13\u001b[0m starts \u001b[38;5;241m=\u001b[39m [random_start(nt, nf, fixmu\u001b[38;5;241m=\u001b[39m\u001b[38;5;28;01mTrue\u001b[39;00m) \u001b[38;5;28;01mfor\u001b[39;00m _ \u001b[38;5;129;01min\u001b[39;00m \u001b[38;5;28mrange\u001b[39m(nchains)]\n\u001b[1;32m     14\u001b[0m \u001b[38;5;28;01mwith\u001b[39;00m multiprocessing\u001b[38;5;241m.\u001b[39mPool(ncores) \u001b[38;5;28;01mas\u001b[39;00m p:\n\u001b[0;32m---> 15\u001b[0m     res \u001b[38;5;241m=\u001b[39m \u001b[38;5;28;43mlist\u001b[39;49m\u001b[43m(\u001b[49m\u001b[43mtqdm\u001b[49m\u001b[38;5;241;43m.\u001b[39;49m\u001b[43mtqdm\u001b[49m\u001b[43m(\u001b[49m\u001b[43mp\u001b[49m\u001b[38;5;241;43m.\u001b[39;49m\u001b[43mimap\u001b[49m\u001b[43m(\u001b[49m\u001b[43mworker\u001b[49m\u001b[43m,\u001b[49m\u001b[43m \u001b[49m\u001b[43mstarts\u001b[49m\u001b[43m)\u001b[49m\u001b[43m,\u001b[49m\u001b[43m \u001b[49m\u001b[43mtotal\u001b[49m\u001b[38;5;241;43m=\u001b[39;49m\u001b[43mnchains\u001b[49m\u001b[43m)\u001b[49m\u001b[43m)\u001b[49m\n",
      "File \u001b[0;32m~/miniconda3/envs/bprime/lib/python3.8/site-packages/tqdm/std.py:1195\u001b[0m, in \u001b[0;36mtqdm.__iter__\u001b[0;34m(self)\u001b[0m\n\u001b[1;32m   1192\u001b[0m time \u001b[38;5;241m=\u001b[39m \u001b[38;5;28mself\u001b[39m\u001b[38;5;241m.\u001b[39m_time\n\u001b[1;32m   1194\u001b[0m \u001b[38;5;28;01mtry\u001b[39;00m:\n\u001b[0;32m-> 1195\u001b[0m     \u001b[38;5;28;01mfor\u001b[39;00m obj \u001b[38;5;129;01min\u001b[39;00m iterable:\n\u001b[1;32m   1196\u001b[0m         \u001b[38;5;28;01myield\u001b[39;00m obj\n\u001b[1;32m   1197\u001b[0m         \u001b[38;5;66;03m# Update and possibly print the progressbar.\u001b[39;00m\n\u001b[1;32m   1198\u001b[0m         \u001b[38;5;66;03m# Note: does not call self.update(1) for speed optimisation.\u001b[39;00m\n",
      "File \u001b[0;32m~/miniconda3/envs/bprime/lib/python3.8/multiprocessing/pool.py:856\u001b[0m, in \u001b[0;36mIMapIterator.next\u001b[0;34m(self, timeout)\u001b[0m\n\u001b[1;32m    854\u001b[0m     \u001b[38;5;28mself\u001b[39m\u001b[38;5;241m.\u001b[39m_pool \u001b[38;5;241m=\u001b[39m \u001b[38;5;28;01mNone\u001b[39;00m\n\u001b[1;32m    855\u001b[0m     \u001b[38;5;28;01mraise\u001b[39;00m \u001b[38;5;167;01mStopIteration\u001b[39;00m \u001b[38;5;28;01mfrom\u001b[39;00m \u001b[38;5;28mNone\u001b[39m\n\u001b[0;32m--> 856\u001b[0m \u001b[38;5;28;43mself\u001b[39;49m\u001b[38;5;241;43m.\u001b[39;49m\u001b[43m_cond\u001b[49m\u001b[38;5;241;43m.\u001b[39;49m\u001b[43mwait\u001b[49m\u001b[43m(\u001b[49m\u001b[43mtimeout\u001b[49m\u001b[43m)\u001b[49m\n\u001b[1;32m    857\u001b[0m \u001b[38;5;28;01mtry\u001b[39;00m:\n\u001b[1;32m    858\u001b[0m     item \u001b[38;5;241m=\u001b[39m \u001b[38;5;28mself\u001b[39m\u001b[38;5;241m.\u001b[39m_items\u001b[38;5;241m.\u001b[39mpopleft()\n",
      "File \u001b[0;32m~/miniconda3/envs/bprime/lib/python3.8/threading.py:302\u001b[0m, in \u001b[0;36mCondition.wait\u001b[0;34m(self, timeout)\u001b[0m\n\u001b[1;32m    300\u001b[0m \u001b[38;5;28;01mtry\u001b[39;00m:    \u001b[38;5;66;03m# restore state no matter what (e.g., KeyboardInterrupt)\u001b[39;00m\n\u001b[1;32m    301\u001b[0m     \u001b[38;5;28;01mif\u001b[39;00m timeout \u001b[38;5;129;01mis\u001b[39;00m \u001b[38;5;28;01mNone\u001b[39;00m:\n\u001b[0;32m--> 302\u001b[0m         \u001b[43mwaiter\u001b[49m\u001b[38;5;241;43m.\u001b[39;49m\u001b[43macquire\u001b[49m\u001b[43m(\u001b[49m\u001b[43m)\u001b[49m\n\u001b[1;32m    303\u001b[0m         gotit \u001b[38;5;241m=\u001b[39m \u001b[38;5;28;01mTrue\u001b[39;00m\n\u001b[1;32m    304\u001b[0m     \u001b[38;5;28;01melse\u001b[39;00m:\n",
      "\u001b[0;31mKeyboardInterrupt\u001b[0m: "
     ]
    }
   ],
   "source": [
    "import multiprocessing, tqdm\n",
    "ncores = 50\n",
    "nchains = 10\n",
    "\n",
    "def worker(start):\n",
    "    constraint = LinearConstraint(A, lb, ub)\n",
    "    start[0] = 1.9e-3\n",
    "    res = minimize(nll3, x0=start, \n",
    "               bounds=bounds(nt, nf, fixmu=True, paired=True), constraints=constraint, method='cobyla', \n",
    "               options={'catol': 1e-2, 'rhobeg': 1e-6, 'maxiter': 100_000, 'disp': False})\n",
    "    return res\n",
    "\n",
    "starts = [random_start(nt, nf, fixmu=True) for _ in range(nchains)]\n",
    "with multiprocessing.Pool(ncores) as p:\n",
    "    res = list(tqdm.tqdm(p.imap(worker, starts), total=nchains))"
   ]
  },
  {
   "cell_type": "code",
   "execution_count": 51,
   "id": "07c3c248-e8e8-4f33-bd88-2bce229b2034",
   "metadata": {},
   "outputs": [
    {
     "ename": "NameError",
     "evalue": "name 'nll3' is not defined",
     "output_type": "error",
     "traceback": [
      "\u001b[0;31m---------------------------------------------------------------------------\u001b[0m",
      "\u001b[0;31mNameError\u001b[0m                                 Traceback (most recent call last)",
      "Input \u001b[0;32mIn [51]\u001b[0m, in \u001b[0;36m<cell line: 3>\u001b[0;34m()\u001b[0m\n\u001b[1;32m      2\u001b[0m thetas \u001b[38;5;241m=\u001b[39m []\n\u001b[1;32m      3\u001b[0m \u001b[38;5;28;01mfor\u001b[39;00m i \u001b[38;5;129;01min\u001b[39;00m \u001b[38;5;28mrange\u001b[39m(\u001b[38;5;241m50\u001b[39m):\n\u001b[0;32m----> 4\u001b[0m     res \u001b[38;5;241m=\u001b[39m minimize(\u001b[43mnll3\u001b[49m, x0\u001b[38;5;241m=\u001b[39mrandom_start(nt, nf, fixmu\u001b[38;5;241m=\u001b[39m\u001b[38;5;28;01mTrue\u001b[39;00m), bounds\u001b[38;5;241m=\u001b[39mbounds(nt, nf, fixmu\u001b[38;5;241m=\u001b[39m\u001b[38;5;28;01mTrue\u001b[39;00m, paired\u001b[38;5;241m=\u001b[39m\u001b[38;5;28;01mTrue\u001b[39;00m), \n\u001b[1;32m      5\u001b[0m                constraints\u001b[38;5;241m=\u001b[39mconstraint, method\u001b[38;5;241m=\u001b[39m\u001b[38;5;124m'\u001b[39m\u001b[38;5;124mcobyla\u001b[39m\u001b[38;5;124m'\u001b[39m, options\u001b[38;5;241m=\u001b[39m{\u001b[38;5;124m'\u001b[39m\u001b[38;5;124mrhobeg\u001b[39m\u001b[38;5;124m'\u001b[39m: \u001b[38;5;241m1e-3\u001b[39m}, jac\u001b[38;5;241m=\u001b[39m\u001b[38;5;124m'\u001b[39m\u001b[38;5;124m3-point\u001b[39m\u001b[38;5;124m'\u001b[39m)\n\u001b[1;32m      6\u001b[0m     nlls\u001b[38;5;241m.\u001b[39mappend(res\u001b[38;5;241m.\u001b[39mfun)\n\u001b[1;32m      7\u001b[0m     thetas\u001b[38;5;241m.\u001b[39mappend(res\u001b[38;5;241m.\u001b[39mx)\n",
      "\u001b[0;31mNameError\u001b[0m: name 'nll3' is not defined"
     ]
    }
   ],
   "source": [
    "nlls = []\n",
    "thetas = []\n",
    "for i in range(50):\n",
    "    res = minimize(nll3, x0=random_start(nt, nf, fixmu=True), bounds=bounds(nt, nf, fixmu=True, paired=True), \n",
    "               constraints=constraint, method='cobyla', options={'rhobeg': 1e-3}, jac='3-point')\n",
    "    nlls.append(res.fun)\n",
    "    thetas.append(res.x)"
   ]
  },
  {
   "cell_type": "code",
   "execution_count": 222,
   "id": "476dff6b-7725-45f4-b8c7-5251f37baaac",
   "metadata": {},
   "outputs": [
    {
     "data": {
      "text/plain": [
       "941337003986.179"
      ]
     },
     "execution_count": 222,
     "metadata": {},
     "output_type": "execute_result"
    }
   ],
   "source": [
    "np.min(nlls)"
   ]
  },
  {
   "cell_type": "code",
   "execution_count": 93,
   "id": "c77e99d4-973d-4568-80f7-232f7ef4e11c",
   "metadata": {},
   "outputs": [
    {
     "data": {
      "text/plain": [
       "(array([0.00453442]),\n",
       " array([[0.03251197, 0.15101332, 0.12190457],\n",
       "        [0.0276984 , 0.04422929, 0.09609279],\n",
       "        [0.27458412, 0.12930655, 0.00849492],\n",
       "        [0.46847118, 0.64111908, 0.385355  ],\n",
       "        [0.19672434, 0.02698448, 0.3836132 ]]))"
      ]
     },
     "execution_count": 93,
     "metadata": {},
     "output_type": "execute_result"
    }
   ],
   "source": [
    "thetas[np.argmin(nlls)][:1], thetas[np.argmin(nlls)][1:].reshape((nt, nf))"
   ]
  },
  {
   "cell_type": "code",
   "execution_count": 77,
   "id": "fc04560a-d7e8-4950-8f98-fab9a7868f95",
   "metadata": {},
   "outputs": [
    {
     "data": {
      "text/plain": [
       "     fun: 2218536307798.9067\n",
       "     jac: array([-4.89129574e+11,  2.63679903e+19,  3.70643744e+12,  7.03909167e+11,\n",
       "        5.27333655e+11,  1.53580310e+12,  3.12298799e+11,  2.36550488e+11,\n",
       "        6.58696274e+11,  1.42327054e+11,  1.08465914e+11,  3.30934256e+11,\n",
       "        7.34541251e+10,  5.57538673e+10,  1.73177242e+11,  4.00552100e+10,\n",
       "        2.82026639e+10])\n",
       " message: 'Inequality constraints incompatible'\n",
       "    nfev: 18\n",
       "     nit: 1\n",
       "    njev: 1\n",
       "  status: 4\n",
       " success: False\n",
       "       x: array([5.01609643e-02, 6.23979698e-08, 2.11675031e-01, 1.90871345e-01,\n",
       "       7.20889077e-02, 2.39967938e-01, 2.31161314e-02, 1.36282384e-01,\n",
       "       5.56817485e-04, 7.99514764e-02, 2.02972955e-01, 4.04996744e-01,\n",
       "       8.32585729e-02, 2.53956283e-01, 1.42803470e-01, 6.22802474e-01,\n",
       "       3.34699470e-01])"
      ]
     },
     "execution_count": 77,
     "metadata": {},
     "output_type": "execute_result"
    }
   ],
   "source": [
    "res"
   ]
  },
  {
   "cell_type": "code",
   "execution_count": 73,
   "id": "98dc0276-c7fb-4b18-a74f-f70402a03b88",
   "metadata": {},
   "outputs": [
    {
     "data": {
      "text/plain": [
       "913543002497"
      ]
     },
     "execution_count": 73,
     "metadata": {},
     "output_type": "execute_result"
    }
   ],
   "source": [
    "913543002497"
   ]
  },
  {
   "cell_type": "code",
   "execution_count": 28,
   "id": "1da5747f-9007-4541-842d-190776358f5f",
   "metadata": {},
   "outputs": [
    {
     "name": "stdout",
     "output_type": "stream",
     "text": [
      "NLL: 914164134247.83\n",
      "pi0: 0.001480588452257598\n",
      "μ: 2.9003137312273935e-10\n",
      "W = \n",
      "-----  -----  -----\n",
      "0.011  0.001  0.004\n",
      "0.001  0.988  0.006\n",
      "0.985  0.988  0.986\n",
      "0.984  0.984  0.985\n",
      "0.985  0.989  0.985\n",
      "-----  -----  -----\n",
      "sums: [2.96663603 3.94995404 2.96663602]\n"
     ]
    }
   ],
   "source": [
    "optim_summary(res, nt, nf)"
   ]
  },
  {
   "cell_type": "code",
   "execution_count": 213,
   "id": "dd7f713b-9a45-48da-887b-439b26b89683",
   "metadata": {},
   "outputs": [
    {
     "data": {
      "text/plain": [
       "array([1., 1., 1.])"
      ]
     },
     "execution_count": 213,
     "metadata": {},
     "output_type": "execute_result"
    }
   ],
   "source": [
    "A.dot(random_start(nt, nf, fixmu=True))"
   ]
  },
  {
   "cell_type": "code",
   "execution_count": 219,
   "id": "52bdc8c1-5427-41c1-8cf8-1b99518c0a83",
   "metadata": {},
   "outputs": [
    {
     "data": {
      "text/plain": [
       "                        fun: nan\n",
       " lowest_optimization_result:       fun: nan\n",
       " hess_inv: array([[1, 0, 0, 0, 0, 0, 0, 0, 0, 0, 0, 0, 0, 0, 0, 0],\n",
       "       [0, 1, 0, 0, 0, 0, 0, 0, 0, 0, 0, 0, 0, 0, 0, 0],\n",
       "       [0, 0, 1, 0, 0, 0, 0, 0, 0, 0, 0, 0, 0, 0, 0, 0],\n",
       "       [0, 0, 0, 1, 0, 0, 0, 0, 0, 0, 0, 0, 0, 0, 0, 0],\n",
       "       [0, 0, 0, 0, 1, 0, 0, 0, 0, 0, 0, 0, 0, 0, 0, 0],\n",
       "       [0, 0, 0, 0, 0, 1, 0, 0, 0, 0, 0, 0, 0, 0, 0, 0],\n",
       "       [0, 0, 0, 0, 0, 0, 1, 0, 0, 0, 0, 0, 0, 0, 0, 0],\n",
       "       [0, 0, 0, 0, 0, 0, 0, 1, 0, 0, 0, 0, 0, 0, 0, 0],\n",
       "       [0, 0, 0, 0, 0, 0, 0, 0, 1, 0, 0, 0, 0, 0, 0, 0],\n",
       "       [0, 0, 0, 0, 0, 0, 0, 0, 0, 1, 0, 0, 0, 0, 0, 0],\n",
       "       [0, 0, 0, 0, 0, 0, 0, 0, 0, 0, 1, 0, 0, 0, 0, 0],\n",
       "       [0, 0, 0, 0, 0, 0, 0, 0, 0, 0, 0, 1, 0, 0, 0, 0],\n",
       "       [0, 0, 0, 0, 0, 0, 0, 0, 0, 0, 0, 0, 1, 0, 0, 0],\n",
       "       [0, 0, 0, 0, 0, 0, 0, 0, 0, 0, 0, 0, 0, 1, 0, 0],\n",
       "       [0, 0, 0, 0, 0, 0, 0, 0, 0, 0, 0, 0, 0, 0, 1, 0],\n",
       "       [0, 0, 0, 0, 0, 0, 0, 0, 0, 0, 0, 0, 0, 0, 0, 1]])\n",
       "      jac: array([nan, nan, nan, nan, nan, nan, nan, nan, nan, nan, nan, nan, nan,\n",
       "       nan, nan, nan])\n",
       "  message: 'Desired error not necessarily achieved due to precision loss.'\n",
       "     nfev: 1904\n",
       "      nit: 1\n",
       "     njev: 112\n",
       "   status: 2\n",
       "  success: False\n",
       "        x: array([ 1.03423979e+03, -6.74982615e-01, -8.22341673e-02,  1.57065170e-01,\n",
       "       -2.63200148e-01,  7.01156326e-02,  4.59521193e-02,  1.55074079e-01,\n",
       "        5.24855837e-01,  9.75986632e-02, -2.57293165e-02,  2.07027122e-01,\n",
       "        1.68068355e-01,  4.94458164e-01,  1.11708909e-02,  3.29958942e-01])\n",
       "                    message: ['requested number of basinhopping iterations completed successfully']\n",
       "      minimization_failures: 1001\n",
       "                       nfev: 18904\n",
       "                        nit: 1000\n",
       "                       njev: 1112\n",
       "                    success: False\n",
       "                          x: array([ 1.03423979e+03, -6.74982615e-01, -8.22341673e-02,  1.57065170e-01,\n",
       "       -2.63200148e-01,  7.01156326e-02,  4.59521193e-02,  1.55074079e-01,\n",
       "        5.24855837e-01,  9.75986632e-02, -2.57293165e-02,  2.07027122e-01,\n",
       "        1.68068355e-01,  4.94458164e-01,  1.11708909e-02,  3.29958942e-01])"
      ]
     },
     "execution_count": 219,
     "metadata": {},
     "output_type": "execute_result"
    }
   ],
   "source": [
    "class MyBounds:\n",
    "    def __init__(self, A, nt, nf, xmin, xmax, tol=1e-5):\n",
    "        self.xmax = np.array(xmax)\n",
    "        self.xmin = np.array(xmin)\n",
    "        self.nt = nt\n",
    "        self.nf = nf\n",
    "        self.A = A\n",
    "        self.tol = tol\n",
    "    def __call__(self, **kwargs):\n",
    "        x = kwargs[\"x_new\"]\n",
    "        tmax = bool(np.all(x <= self.xmax))\n",
    "        tmin = bool(np.all(x >= self.xmin))\n",
    "        constrained = np.all(np.abs(A.dot(x) - 1) < self.tol)\n",
    "        golden = tmax and tmin and constrained\n",
    "        if golden:\n",
    "            print(x)\n",
    "        return golden\n",
    "\n",
    "basinhopping(nll3, x0=random_start(nt, nf, fixmu=True), T=1e11, niter=1000,\n",
    "             stepsize=1e-8,\n",
    "             accept_test=MyBounds(A, nt, nf, *bounds(nt, nf, fixmu=True)))"
   ]
  },
  {
   "cell_type": "code",
   "execution_count": 207,
   "id": "8b951793-e92c-4857-9d2b-edfaffac122f",
   "metadata": {},
   "outputs": [
    {
     "data": {
      "text/plain": [
       "True"
      ]
     },
     "execution_count": 207,
     "metadata": {},
     "output_type": "execute_result"
    }
   ],
   "source": [
    "MyBounds(A, nt, nf, *bounds(nt, nf, fixmu=True))(x_new = random_start(nt, nf, fixmu=True))"
   ]
  },
  {
   "cell_type": "markdown",
   "id": "9fa8dfb8-5548-4083-935f-2bc8efb8e104",
   "metadata": {
    "tags": []
   },
   "source": [
    "## NLOpt"
   ]
  },
  {
   "cell_type": "code",
   "execution_count": 32,
   "id": "ca4c01e1-2d99-4f9c-98c8-815c94533df7",
   "metadata": {},
   "outputs": [],
   "source": [
    "def fix_theta(theta, mu):\n",
    "    new = np.empty(theta.size+1)\n",
    "    new[0] = theta[0]\n",
    "    new[1] = mu\n",
    "    new[2:] = theta[1:]\n",
    "    return new"
   ]
  },
  {
   "cell_type": "code",
   "execution_count": 33,
   "id": "6e176bfe-a7f8-48b9-8864-3339ffc1032b",
   "metadata": {},
   "outputs": [
    {
     "data": {
      "text/plain": [
       "(1293169678966.8687, 1293169678966.8687)"
      ]
     },
     "execution_count": 33,
     "metadata": {},
     "output_type": "execute_result"
    }
   ],
   "source": [
    "start = random_start(nt, nf, fixmu=True)\n",
    "(negll_c(fix_theta(start, 1e-8), Y, B, w),\n",
    " negll_numba(fix_theta(start, 1e-8), Y, B, w))"
   ]
  },
  {
   "cell_type": "code",
   "execution_count": 34,
   "id": "78537e67-c088-4fa5-bcdf-3b96b5484edb",
   "metadata": {},
   "outputs": [
    {
     "data": {
      "text/plain": [
       "1293169678966.8687"
      ]
     },
     "execution_count": 34,
     "metadata": {},
     "output_type": "execute_result"
    }
   ],
   "source": [
    "negll_c(fix_theta(start, 1e-8), Y, B, w)"
   ]
  },
  {
   "cell_type": "code",
   "execution_count": 36,
   "id": "f6daf59d-6a7e-463c-b1e7-4b3d1dc483aa",
   "metadata": {},
   "outputs": [],
   "source": [
    "def negll_optim(Y, logB, w):\n",
    "    def func(theta, grad):\n",
    "        mu = 1e-8\n",
    "        return negll_fixmu_c(theta, mu, Y, logB, w)\n",
    "    return func\n",
    "    "
   ]
  },
  {
   "cell_type": "code",
   "execution_count": 38,
   "id": "44db1a84-d61f-445a-9e06-e03fab00c908",
   "metadata": {},
   "outputs": [],
   "source": [
    "nparams = nt*nf + 1\n",
    "opt = nlopt.opt(nlopt.LN_COBYLA, nparams)\n",
    "#opt = nlopt.opt(nlopt.GN_ISRES, nparams)\n",
    "#BB = B[..., 0][..., None]\n",
    "BB = B\n",
    "nll = negll_optim(Y, BB, w)\n",
    "\n",
    "opt.set_min_objective(nll)\n",
    "lb, ub = bounds(nt, nf, fixmu=True)\n",
    "\n",
    "\n",
    "opt.set_lower_bounds(lb)\n",
    "opt.set_upper_bounds(ub)"
   ]
  },
  {
   "cell_type": "code",
   "execution_count": 39,
   "id": "21bdd73c-748d-4f5f-9da4-2c66065f8c59",
   "metadata": {},
   "outputs": [],
   "source": [
    "def make_simplex_constraint(nt, nf, fixmu=False):\n",
    "    def func(result, theta, grad):\n",
    "        offset = 1 + int(not fixmu)\n",
    "        C = theta[offset:].reshape((nt, nf)).sum(axis=0) - 1\n",
    "        for i in range(nf):\n",
    "            result[i] = C[i]\n",
    "    return func\n",
    "\n",
    "simplex_constraint = make_simplex_constraint(nt, nf, fixmu=True)\n",
    "opt.add_equality_mconstraint(simplex_constraint, np.array([1e-9] * nf))"
   ]
  },
  {
   "cell_type": "code",
   "execution_count": 41,
   "id": "9c3c8144-5b9f-489d-9ab7-bc9b3dcc17c1",
   "metadata": {},
   "outputs": [],
   "source": [
    "#opt.set_xtol_abs(np.array([1e-4] * nparams))\n",
    "opt.set_ftol_abs(1e10)\n",
    "#opt.set_stopval(923543002497)\n",
    "#opt.set_maxeval(100000)\n",
    "x = random_start(nt, nf, fixmu=True)\n",
    "assert x.size == nparams\n",
    "\n",
    "x = random_start(nt, nf, fixmu=True)\n",
    "res = opt.optimize(x)"
   ]
  },
  {
   "cell_type": "code",
   "execution_count": 47,
   "id": "ebcf396b-4a40-46f6-a239-5c299097303b",
   "metadata": {},
   "outputs": [
    {
     "data": {
      "text/plain": [
       "(0.001,\n",
       " array([[0.   , 0.   , 0.   ],\n",
       "        [0.   , 0.   , 0.   ],\n",
       "        [0.   , 0.038, 0.014],\n",
       "        [0.001, 0.104, 0.308],\n",
       "        [0.999, 0.858, 0.678]]),\n",
       " 958158377138.5476)"
      ]
     },
     "execution_count": 47,
     "metadata": {},
     "output_type": "execute_result"
    }
   ],
   "source": [
    "res[0], np.round(res[1:].reshape((nt, nf)), 3), opt.last_optimum_value()"
   ]
  },
  {
   "cell_type": "code",
   "execution_count": 54,
   "id": "8ba3fd53-5761-4e3a-b3af-dde8ff567706",
   "metadata": {},
   "outputs": [
    {
     "name": "stderr",
     "output_type": "stream",
     "text": [
      "  0%|                                                                                                                                                                                                                                                   | 0/200 [00:00<?, ?it/s]Exception in thread Thread-12:\n",
      "Traceback (most recent call last):\n",
      "  File \"/home/vsb/miniconda3/envs/bprime/lib/python3.8/threading.py\", line 932, in _bootstrap_inner\n",
      "    self.run()\n",
      "  File \"/home/vsb/miniconda3/envs/bprime/lib/python3.8/threading.py\", line 870, in run\n",
      "    self._target(*self._args, **self._kwargs)\n",
      "  File \"/home/vsb/miniconda3/envs/bprime/lib/python3.8/multiprocessing/pool.py\", line 513, in _handle_workers\n",
      "    cls._maintain_pool(ctx, Process, processes, pool, inqueue,\n",
      "  File \"/home/vsb/miniconda3/envs/bprime/lib/python3.8/multiprocessing/pool.py\", line 337, in _maintain_pool\n",
      "    Pool._repopulate_pool_static(ctx, Process, processes, pool,\n",
      "  File \"/home/vsb/miniconda3/envs/bprime/lib/python3.8/multiprocessing/pool.py\", line 326, in _repopulate_pool_static\n",
      "    w.start()\n",
      "  File \"/home/vsb/miniconda3/envs/bprime/lib/python3.8/multiprocessing/process.py\", line 121, in start\n",
      "    self._popen = self._Popen(self)\n",
      "  File \"/home/vsb/miniconda3/envs/bprime/lib/python3.8/multiprocessing/context.py\", line 277, in _Popen\n",
      "    return Popen(process_obj)\n",
      "  File \"/home/vsb/miniconda3/envs/bprime/lib/python3.8/multiprocessing/popen_fork.py\", line 19, in __init__\n",
      "    self._launch(process_obj)\n",
      "  File \"/home/vsb/miniconda3/envs/bprime/lib/python3.8/multiprocessing/popen_fork.py\", line 70, in _launch\n",
      "    self.pid = os.fork()\n",
      "OSError: [Errno 12] Cannot allocate memory\n",
      "  0%|                                                                                                                                                                                                                                                   | 0/200 [00:32<?, ?it/s]\n"
     ]
    },
    {
     "ename": "KeyboardInterrupt",
     "evalue": "",
     "output_type": "error",
     "traceback": [
      "\u001b[0;31m---------------------------------------------------------------------------\u001b[0m",
      "\u001b[0;31mIndexError\u001b[0m                                Traceback (most recent call last)",
      "File \u001b[0;32m~/miniconda3/envs/bprime/lib/python3.8/multiprocessing/pool.py:851\u001b[0m, in \u001b[0;36mIMapIterator.next\u001b[0;34m(self, timeout)\u001b[0m\n\u001b[1;32m    850\u001b[0m \u001b[38;5;28;01mtry\u001b[39;00m:\n\u001b[0;32m--> 851\u001b[0m     item \u001b[38;5;241m=\u001b[39m \u001b[38;5;28;43mself\u001b[39;49m\u001b[38;5;241;43m.\u001b[39;49m\u001b[43m_items\u001b[49m\u001b[38;5;241;43m.\u001b[39;49m\u001b[43mpopleft\u001b[49m\u001b[43m(\u001b[49m\u001b[43m)\u001b[49m\n\u001b[1;32m    852\u001b[0m \u001b[38;5;28;01mexcept\u001b[39;00m \u001b[38;5;167;01mIndexError\u001b[39;00m:\n",
      "\u001b[0;31mIndexError\u001b[0m: pop from an empty deque",
      "\nDuring handling of the above exception, another exception occurred:\n",
      "\u001b[0;31mKeyboardInterrupt\u001b[0m                         Traceback (most recent call last)",
      "Input \u001b[0;32mIn [54]\u001b[0m, in \u001b[0;36m<cell line: 10>\u001b[0;34m()\u001b[0m\n\u001b[1;32m     10\u001b[0m \u001b[38;5;28;01mwith\u001b[39;00m multiprocessing\u001b[38;5;241m.\u001b[39mPool(ncores) \u001b[38;5;28;01mas\u001b[39;00m p:\n\u001b[0;32m---> 11\u001b[0m     res \u001b[38;5;241m=\u001b[39m \u001b[38;5;28;43mlist\u001b[39;49m\u001b[43m(\u001b[49m\u001b[43mtqdm\u001b[49m\u001b[38;5;241;43m.\u001b[39;49m\u001b[43mtqdm\u001b[49m\u001b[43m(\u001b[49m\u001b[43mp\u001b[49m\u001b[38;5;241;43m.\u001b[39;49m\u001b[43mimap\u001b[49m\u001b[43m(\u001b[49m\u001b[43mworker\u001b[49m\u001b[43m,\u001b[49m\u001b[43m \u001b[49m\u001b[43mstarts\u001b[49m\u001b[43m)\u001b[49m\u001b[43m,\u001b[49m\u001b[43m \u001b[49m\u001b[43mtotal\u001b[49m\u001b[38;5;241;43m=\u001b[39;49m\u001b[43mnchains\u001b[49m\u001b[43m)\u001b[49m\u001b[43m)\u001b[49m\n",
      "File \u001b[0;32m~/miniconda3/envs/bprime/lib/python3.8/site-packages/tqdm/std.py:1195\u001b[0m, in \u001b[0;36mtqdm.__iter__\u001b[0;34m(self)\u001b[0m\n\u001b[1;32m   1194\u001b[0m \u001b[38;5;28;01mtry\u001b[39;00m:\n\u001b[0;32m-> 1195\u001b[0m     \u001b[38;5;28;01mfor\u001b[39;00m obj \u001b[38;5;129;01min\u001b[39;00m iterable:\n\u001b[1;32m   1196\u001b[0m         \u001b[38;5;28;01myield\u001b[39;00m obj\n",
      "File \u001b[0;32m~/miniconda3/envs/bprime/lib/python3.8/multiprocessing/pool.py:856\u001b[0m, in \u001b[0;36mIMapIterator.next\u001b[0;34m(self, timeout)\u001b[0m\n\u001b[1;32m    855\u001b[0m     \u001b[38;5;28;01mraise\u001b[39;00m \u001b[38;5;167;01mStopIteration\u001b[39;00m \u001b[38;5;28;01mfrom\u001b[39;00m \u001b[38;5;28mNone\u001b[39m\n\u001b[0;32m--> 856\u001b[0m \u001b[38;5;28;43mself\u001b[39;49m\u001b[38;5;241;43m.\u001b[39;49m\u001b[43m_cond\u001b[49m\u001b[38;5;241;43m.\u001b[39;49m\u001b[43mwait\u001b[49m\u001b[43m(\u001b[49m\u001b[43mtimeout\u001b[49m\u001b[43m)\u001b[49m\n\u001b[1;32m    857\u001b[0m \u001b[38;5;28;01mtry\u001b[39;00m:\n",
      "File \u001b[0;32m~/miniconda3/envs/bprime/lib/python3.8/threading.py:302\u001b[0m, in \u001b[0;36mCondition.wait\u001b[0;34m(self, timeout)\u001b[0m\n\u001b[1;32m    301\u001b[0m \u001b[38;5;28;01mif\u001b[39;00m timeout \u001b[38;5;129;01mis\u001b[39;00m \u001b[38;5;28;01mNone\u001b[39;00m:\n\u001b[0;32m--> 302\u001b[0m     \u001b[43mwaiter\u001b[49m\u001b[38;5;241;43m.\u001b[39;49m\u001b[43macquire\u001b[49m\u001b[43m(\u001b[49m\u001b[43m)\u001b[49m\n\u001b[1;32m    303\u001b[0m     gotit \u001b[38;5;241m=\u001b[39m \u001b[38;5;28;01mTrue\u001b[39;00m\n",
      "\u001b[0;31mKeyboardInterrupt\u001b[0m: ",
      "\nDuring handling of the above exception, another exception occurred:\n",
      "\u001b[0;31mKeyboardInterrupt\u001b[0m                         Traceback (most recent call last)",
      "Input \u001b[0;32mIn [54]\u001b[0m, in \u001b[0;36m<cell line: 10>\u001b[0;34m()\u001b[0m\n\u001b[1;32m      9\u001b[0m starts \u001b[38;5;241m=\u001b[39m [random_start(nt, nf, fixmu\u001b[38;5;241m=\u001b[39m\u001b[38;5;28;01mTrue\u001b[39;00m) \u001b[38;5;28;01mfor\u001b[39;00m _ \u001b[38;5;129;01min\u001b[39;00m \u001b[38;5;28mrange\u001b[39m(nchains)]\n\u001b[1;32m     10\u001b[0m \u001b[38;5;28;01mwith\u001b[39;00m multiprocessing\u001b[38;5;241m.\u001b[39mPool(ncores) \u001b[38;5;28;01mas\u001b[39;00m p:\n\u001b[0;32m---> 11\u001b[0m     res \u001b[38;5;241m=\u001b[39m \u001b[38;5;28mlist\u001b[39m(tqdm\u001b[38;5;241m.\u001b[39mtqdm(p\u001b[38;5;241m.\u001b[39mimap(worker, starts), total\u001b[38;5;241m=\u001b[39mnchains))\n",
      "File \u001b[0;32m~/miniconda3/envs/bprime/lib/python3.8/multiprocessing/pool.py:736\u001b[0m, in \u001b[0;36mPool.__exit__\u001b[0;34m(self, exc_type, exc_val, exc_tb)\u001b[0m\n\u001b[1;32m    735\u001b[0m \u001b[38;5;28;01mdef\u001b[39;00m \u001b[38;5;21m__exit__\u001b[39m(\u001b[38;5;28mself\u001b[39m, exc_type, exc_val, exc_tb):\n\u001b[0;32m--> 736\u001b[0m     \u001b[38;5;28;43mself\u001b[39;49m\u001b[38;5;241;43m.\u001b[39;49m\u001b[43mterminate\u001b[49m\u001b[43m(\u001b[49m\u001b[43m)\u001b[49m\n",
      "File \u001b[0;32m~/miniconda3/envs/bprime/lib/python3.8/multiprocessing/pool.py:654\u001b[0m, in \u001b[0;36mPool.terminate\u001b[0;34m(self)\u001b[0m\n\u001b[1;32m    652\u001b[0m util\u001b[38;5;241m.\u001b[39mdebug(\u001b[38;5;124m'\u001b[39m\u001b[38;5;124mterminating pool\u001b[39m\u001b[38;5;124m'\u001b[39m)\n\u001b[1;32m    653\u001b[0m \u001b[38;5;28mself\u001b[39m\u001b[38;5;241m.\u001b[39m_state \u001b[38;5;241m=\u001b[39m TERMINATE\n\u001b[0;32m--> 654\u001b[0m \u001b[38;5;28;43mself\u001b[39;49m\u001b[38;5;241;43m.\u001b[39;49m\u001b[43m_terminate\u001b[49m\u001b[43m(\u001b[49m\u001b[43m)\u001b[49m\n",
      "File \u001b[0;32m~/miniconda3/envs/bprime/lib/python3.8/multiprocessing/util.py:224\u001b[0m, in \u001b[0;36mFinalize.__call__\u001b[0;34m(self, wr, _finalizer_registry, sub_debug, getpid)\u001b[0m\n\u001b[1;32m    221\u001b[0m \u001b[38;5;28;01melse\u001b[39;00m:\n\u001b[1;32m    222\u001b[0m     sub_debug(\u001b[38;5;124m'\u001b[39m\u001b[38;5;124mfinalizer calling \u001b[39m\u001b[38;5;132;01m%s\u001b[39;00m\u001b[38;5;124m with args \u001b[39m\u001b[38;5;132;01m%s\u001b[39;00m\u001b[38;5;124m and kwargs \u001b[39m\u001b[38;5;132;01m%s\u001b[39;00m\u001b[38;5;124m'\u001b[39m,\n\u001b[1;32m    223\u001b[0m               \u001b[38;5;28mself\u001b[39m\u001b[38;5;241m.\u001b[39m_callback, \u001b[38;5;28mself\u001b[39m\u001b[38;5;241m.\u001b[39m_args, \u001b[38;5;28mself\u001b[39m\u001b[38;5;241m.\u001b[39m_kwargs)\n\u001b[0;32m--> 224\u001b[0m     res \u001b[38;5;241m=\u001b[39m \u001b[38;5;28;43mself\u001b[39;49m\u001b[38;5;241;43m.\u001b[39;49m\u001b[43m_callback\u001b[49m\u001b[43m(\u001b[49m\u001b[38;5;241;43m*\u001b[39;49m\u001b[38;5;28;43mself\u001b[39;49m\u001b[38;5;241;43m.\u001b[39;49m\u001b[43m_args\u001b[49m\u001b[43m,\u001b[49m\u001b[43m \u001b[49m\u001b[38;5;241;43m*\u001b[39;49m\u001b[38;5;241;43m*\u001b[39;49m\u001b[38;5;28;43mself\u001b[39;49m\u001b[38;5;241;43m.\u001b[39;49m\u001b[43m_kwargs\u001b[49m\u001b[43m)\u001b[49m\n\u001b[1;32m    225\u001b[0m \u001b[38;5;28mself\u001b[39m\u001b[38;5;241m.\u001b[39m_weakref \u001b[38;5;241m=\u001b[39m \u001b[38;5;28mself\u001b[39m\u001b[38;5;241m.\u001b[39m_callback \u001b[38;5;241m=\u001b[39m \u001b[38;5;28mself\u001b[39m\u001b[38;5;241m.\u001b[39m_args \u001b[38;5;241m=\u001b[39m \\\n\u001b[1;32m    226\u001b[0m                 \u001b[38;5;28mself\u001b[39m\u001b[38;5;241m.\u001b[39m_kwargs \u001b[38;5;241m=\u001b[39m \u001b[38;5;28mself\u001b[39m\u001b[38;5;241m.\u001b[39m_key \u001b[38;5;241m=\u001b[39m \u001b[38;5;28;01mNone\u001b[39;00m\n\u001b[1;32m    227\u001b[0m \u001b[38;5;28;01mreturn\u001b[39;00m res\n",
      "File \u001b[0;32m~/miniconda3/envs/bprime/lib/python3.8/multiprocessing/pool.py:717\u001b[0m, in \u001b[0;36mPool._terminate_pool\u001b[0;34m(cls, taskqueue, inqueue, outqueue, pool, change_notifier, worker_handler, task_handler, result_handler, cache)\u001b[0m\n\u001b[1;32m    715\u001b[0m util\u001b[38;5;241m.\u001b[39mdebug(\u001b[38;5;124m'\u001b[39m\u001b[38;5;124mjoining task handler\u001b[39m\u001b[38;5;124m'\u001b[39m)\n\u001b[1;32m    716\u001b[0m \u001b[38;5;28;01mif\u001b[39;00m threading\u001b[38;5;241m.\u001b[39mcurrent_thread() \u001b[38;5;129;01mis\u001b[39;00m \u001b[38;5;129;01mnot\u001b[39;00m task_handler:\n\u001b[0;32m--> 717\u001b[0m     \u001b[43mtask_handler\u001b[49m\u001b[38;5;241;43m.\u001b[39;49m\u001b[43mjoin\u001b[49m\u001b[43m(\u001b[49m\u001b[43m)\u001b[49m\n\u001b[1;32m    719\u001b[0m util\u001b[38;5;241m.\u001b[39mdebug(\u001b[38;5;124m'\u001b[39m\u001b[38;5;124mjoining result handler\u001b[39m\u001b[38;5;124m'\u001b[39m)\n\u001b[1;32m    720\u001b[0m \u001b[38;5;28;01mif\u001b[39;00m threading\u001b[38;5;241m.\u001b[39mcurrent_thread() \u001b[38;5;129;01mis\u001b[39;00m \u001b[38;5;129;01mnot\u001b[39;00m result_handler:\n",
      "File \u001b[0;32m~/miniconda3/envs/bprime/lib/python3.8/threading.py:1011\u001b[0m, in \u001b[0;36mThread.join\u001b[0;34m(self, timeout)\u001b[0m\n\u001b[1;32m   1008\u001b[0m     \u001b[38;5;28;01mraise\u001b[39;00m \u001b[38;5;167;01mRuntimeError\u001b[39;00m(\u001b[38;5;124m\"\u001b[39m\u001b[38;5;124mcannot join current thread\u001b[39m\u001b[38;5;124m\"\u001b[39m)\n\u001b[1;32m   1010\u001b[0m \u001b[38;5;28;01mif\u001b[39;00m timeout \u001b[38;5;129;01mis\u001b[39;00m \u001b[38;5;28;01mNone\u001b[39;00m:\n\u001b[0;32m-> 1011\u001b[0m     \u001b[38;5;28;43mself\u001b[39;49m\u001b[38;5;241;43m.\u001b[39;49m\u001b[43m_wait_for_tstate_lock\u001b[49m\u001b[43m(\u001b[49m\u001b[43m)\u001b[49m\n\u001b[1;32m   1012\u001b[0m \u001b[38;5;28;01melse\u001b[39;00m:\n\u001b[1;32m   1013\u001b[0m     \u001b[38;5;66;03m# the behavior of a negative timeout isn't documented, but\u001b[39;00m\n\u001b[1;32m   1014\u001b[0m     \u001b[38;5;66;03m# historically .join(timeout=x) for x<0 has acted as if timeout=0\u001b[39;00m\n\u001b[1;32m   1015\u001b[0m     \u001b[38;5;28mself\u001b[39m\u001b[38;5;241m.\u001b[39m_wait_for_tstate_lock(timeout\u001b[38;5;241m=\u001b[39m\u001b[38;5;28mmax\u001b[39m(timeout, \u001b[38;5;241m0\u001b[39m))\n",
      "File \u001b[0;32m~/miniconda3/envs/bprime/lib/python3.8/threading.py:1027\u001b[0m, in \u001b[0;36mThread._wait_for_tstate_lock\u001b[0;34m(self, block, timeout)\u001b[0m\n\u001b[1;32m   1025\u001b[0m \u001b[38;5;28;01mif\u001b[39;00m lock \u001b[38;5;129;01mis\u001b[39;00m \u001b[38;5;28;01mNone\u001b[39;00m:  \u001b[38;5;66;03m# already determined that the C code is done\u001b[39;00m\n\u001b[1;32m   1026\u001b[0m     \u001b[38;5;28;01massert\u001b[39;00m \u001b[38;5;28mself\u001b[39m\u001b[38;5;241m.\u001b[39m_is_stopped\n\u001b[0;32m-> 1027\u001b[0m \u001b[38;5;28;01melif\u001b[39;00m \u001b[43mlock\u001b[49m\u001b[38;5;241;43m.\u001b[39;49m\u001b[43macquire\u001b[49m\u001b[43m(\u001b[49m\u001b[43mblock\u001b[49m\u001b[43m,\u001b[49m\u001b[43m \u001b[49m\u001b[43mtimeout\u001b[49m\u001b[43m)\u001b[49m:\n\u001b[1;32m   1028\u001b[0m     lock\u001b[38;5;241m.\u001b[39mrelease()\n\u001b[1;32m   1029\u001b[0m     \u001b[38;5;28mself\u001b[39m\u001b[38;5;241m.\u001b[39m_stop()\n",
      "\u001b[0;31mKeyboardInterrupt\u001b[0m: "
     ]
    }
   ],
   "source": [
    "import multiprocessing, tqdm\n",
    "ncores = 50\n",
    "nchains = 100\n",
    "\n",
    "def worker(start):\n",
    "    res = opt.optimize(start)\n",
    "    return res, opt.last_optimum_value()\n",
    "\n",
    "starts = [random_start(nt, nf, fixmu=True) for _ in range(nchains)]\n",
    "with multiprocessing.Pool(ncores) as p:\n",
    "    res = list(tqdm.tqdm(p.imap(worker, starts), total=nchains))"
   ]
  },
  {
   "cell_type": "code",
   "execution_count": 50,
   "id": "cbdf54eb-667a-4fe1-9d99-990741132cca",
   "metadata": {},
   "outputs": [],
   "source": [
    "thetas, nlls = zip(*res)"
   ]
  },
  {
   "cell_type": "code",
   "execution_count": 51,
   "id": "320265f9-96a1-42da-a75b-25c405fe2c10",
   "metadata": {},
   "outputs": [
    {
     "data": {
      "image/png": "[encoded data removed]",
      "text/plain": [
       "<Figure size 432x288 with 1 Axes>"
      ]
     },
     "metadata": {
      "needs_background": "light"
     },
     "output_type": "display_data"
    }
   ],
   "source": [
    "_ = plt.hist(nlls, 100)"
   ]
  },
  {
   "cell_type": "code",
   "execution_count": 52,
   "id": "69fcf65b-2f1a-4717-b792-b268f60e3609",
   "metadata": {},
   "outputs": [
    {
     "data": {
      "text/plain": [
       "957831306890.0771"
      ]
     },
     "execution_count": 52,
     "metadata": {},
     "output_type": "execute_result"
    }
   ],
   "source": [
    "min(nlls)"
   ]
  },
  {
   "cell_type": "code",
   "execution_count": 150,
   "id": "fecaac93-ce95-49ed-ae5f-1f90720488da",
   "metadata": {},
   "outputs": [
    {
     "data": {
      "text/plain": [
       "913543002497"
      ]
     },
     "execution_count": 150,
     "metadata": {},
     "output_type": "execute_result"
    }
   ],
   "source": [
    "913543002497"
   ]
  },
  {
   "cell_type": "code",
   "execution_count": 53,
   "id": "9bad8a11-b6ae-4b85-964b-04b146c427cd",
   "metadata": {},
   "outputs": [
    {
     "data": {
      "text/plain": [
       "(array([[0.   , 0.   , 0.   ],\n",
       "        [0.001, 0.002, 0.   ],\n",
       "        [0.001, 0.044, 0.   ],\n",
       "        [0.006, 0.013, 0.215],\n",
       "        [0.992, 0.942, 0.785]]),\n",
       " 0.001)"
      ]
     },
     "execution_count": 53,
     "metadata": {},
     "output_type": "execute_result"
    }
   ],
   "source": [
    "np.round(thetas[np.argsort(nlls)[0]][1:].reshape((nt, nf)), 3), thetas[np.argsort(nlls)[0]][0]"
   ]
  },
  {
   "cell_type": "code",
   "execution_count": 21,
   "id": "ce511709-012d-4b35-af62-8d4d716aebe0",
   "metadata": {},
   "outputs": [
    {
     "ename": "AssertionError",
     "evalue": "",
     "output_type": "error",
     "traceback": [
      "\u001b[0;31m---------------------------------------------------------------------------\u001b[0m",
      "\u001b[0;31mAssertionError\u001b[0m                            Traceback (most recent call last)",
      "Input \u001b[0;32mIn [21]\u001b[0m, in \u001b[0;36m<cell line: 4>\u001b[0;34m()\u001b[0m\n\u001b[1;32m      2\u001b[0m \u001b[38;5;66;03m#opt.set_maxeval(100000)\u001b[39;00m\n\u001b[1;32m      3\u001b[0m x \u001b[38;5;241m=\u001b[39m random_start(nt, nf, (\u001b[38;5;241m-\u001b[39m\u001b[38;5;241m4\u001b[39m, \u001b[38;5;241m-\u001b[39m\u001b[38;5;241m1\u001b[39m), (\u001b[38;5;241m-\u001b[39m\u001b[38;5;241m11\u001b[39m, \u001b[38;5;241m-\u001b[39m\u001b[38;5;241m7\u001b[39m))\n\u001b[0;32m----> 4\u001b[0m \u001b[38;5;28;01massert\u001b[39;00m x\u001b[38;5;241m.\u001b[39msize \u001b[38;5;241m==\u001b[39m nparams\n\u001b[1;32m      5\u001b[0m nlls \u001b[38;5;241m=\u001b[39m []\n\u001b[1;32m      6\u001b[0m thetas \u001b[38;5;241m=\u001b[39m []\n",
      "\u001b[0;31mAssertionError\u001b[0m: "
     ]
    }
   ],
   "source": [
    "opt.set_xtol_abs(np.array([1e-4] * nparams))\n",
    "#opt.set_maxeval(100000)\n",
    "x = random_start(nt, nf, (-4, -1), (-11, -7))\n",
    "assert x.size == nparams\n",
    "nlls = []\n",
    "thetas = []\n",
    "for rep in range(100):\n",
    "    x = random_start(nt, nf, (-4, -1), (-11, -7))\n",
    "    thetas.append(opt.optimize(x))\n",
    "    nlls.append(opt.last_optimum_value())\n",
    "    "
   ]
  },
  {
   "cell_type": "code",
   "execution_count": null,
   "id": "518741af-68bc-4e8e-bf6d-26fb31b61ecd",
   "metadata": {},
   "outputs": [],
   "source": []
  },
  {
   "cell_type": "code",
   "execution_count": 99,
   "id": "25494881-1dd2-45c1-9210-c20a94c54024",
   "metadata": {},
   "outputs": [
    {
     "data": {
      "text/plain": [
       "[]"
      ]
     },
     "execution_count": 99,
     "metadata": {},
     "output_type": "execute_result"
    },
    {
     "data": {
      "image/png": "[encoded data removed]",
      "text/plain": [
       "<Figure size 432x288 with 1 Axes>"
      ]
     },
     "metadata": {
      "needs_background": "light"
     },
     "output_type": "display_data"
    }
   ],
   "source": [
    "_ = plt.hist(nlls, 100)\n",
    "plt.semilogx()"
   ]
  },
  {
   "cell_type": "code",
   "execution_count": 78,
   "id": "ddcdfe46-afd5-4cbc-b297-79a96f66e2b1",
   "metadata": {},
   "outputs": [
    {
     "data": {
      "text/plain": [
       "array([[0.13 , 0.18 , 0.112],\n",
       "       [0.112, 0.27 , 0.176],\n",
       "       [0.241, 0.354, 0.133],\n",
       "       [0.485, 0.135, 0.454],\n",
       "       [0.032, 0.061, 0.125]])"
      ]
     },
     "execution_count": 78,
     "metadata": {},
     "output_type": "execute_result"
    }
   ],
   "source": [
    "np.round(thetas[np.argmin(nlls)][2:].reshape((nt, nf)), 3)"
   ]
  },
  {
   "cell_type": "code",
   "execution_count": 46,
   "id": "604aa0dc-a7a1-47d2-a03f-f2b123cd1a65",
   "metadata": {},
   "outputs": [
    {
     "data": {
      "text/plain": [
       "(array([[0.024, 0.189, 0.068],\n",
       "        [0.241, 0.103, 0.322],\n",
       "        [0.008, 0.072, 0.008],\n",
       "        [0.092, 0.248, 0.37 ],\n",
       "        [0.659, 0.388, 0.232]]),\n",
       " array([6.27060599e-02, 2.52663306e-08]),\n",
       " 12.90574923998634)"
      ]
     },
     "execution_count": 46,
     "metadata": {},
     "output_type": "execute_result"
    }
   ],
   "source": [
    "np.round(theta_opt[2:].reshape((nt, nf)), 3), theta_opt[:2], opt.last_optimum_value() / 1e11"
   ]
  },
  {
   "cell_type": "code",
   "execution_count": null,
   "id": "2fde65ac-fdf8-4aa1-ad8c-a04b383849bb",
   "metadata": {},
   "outputs": [],
   "source": []
  },
  {
   "cell_type": "code",
   "execution_count": 190,
   "id": "19f40485-1eab-49c7-9d4a-866003f34ecf",
   "metadata": {},
   "outputs": [
    {
     "name": "stdout",
     "output_type": "stream",
     "text": [
      "NLL: 2117434810847.348\n",
      "pi0: 0.07523375854721732\n",
      "μ: 5.960128848878832e-08\n",
      "W = \n",
      "-----  -----  -----\n",
      "0.095  0.044  0.29\n",
      "0.311  0.012  0.507\n",
      "0.057  0.767  0.027\n",
      "0.031  0.08   0.171\n",
      "0.506  0.097  0.004\n",
      "-----  -----  -----\n",
      "sums: [1. 1. 1.]\n"
     ]
    }
   ],
   "source": [
    "optim_summary(res, nt, nf)"
   ]
  },
  {
   "cell_type": "code",
   "execution_count": 172,
   "id": "ed53d87a-5fae-4335-85d1-aa0b1567f939",
   "metadata": {},
   "outputs": [
    {
     "data": {
      "text/plain": [
       "['final_simplex', 'fun', 'message', 'nfev', 'nit', 'status', 'success', 'x']"
      ]
     },
     "execution_count": 172,
     "metadata": {},
     "output_type": "execute_result"
    }
   ],
   "source": [
    "dir(res)"
   ]
  },
  {
   "cell_type": "code",
   "execution_count": 18,
   "id": "9d13e0b5-9cb9-454e-a21a-6e253a68a60b",
   "metadata": {},
   "outputs": [
    {
     "name": "stdout",
     "output_type": "stream",
     "text": [
      "585 µs ± 7.06 µs per loop (mean ± std. dev. of 7 runs, 1,000 loops each)\n"
     ]
    }
   ],
   "source": [
    "%%timeit\n",
    "cnegloglik(theta, Y, B, w)"
   ]
  },
  {
   "cell_type": "code",
   "execution_count": 19,
   "id": "a319f2b2-7bf7-4a32-bedc-e58024aee404",
   "metadata": {},
   "outputs": [],
   "source": [
    "alt_theta = np.empty((1 + nt*nf))\n",
    "alt_theta[0] = theta[0]\n",
    "alt_theta[1:] = W.flat"
   ]
  },
  {
   "cell_type": "code",
   "execution_count": 20,
   "id": "1e248b57-3cdf-41c4-a35b-a329313309b8",
   "metadata": {},
   "outputs": [
    {
     "name": "stdout",
     "output_type": "stream",
     "text": [
      "11.9 ms ± 17.8 µs per loop (mean ± std. dev. of 7 runs, 100 loops each)\n"
     ]
    }
   ],
   "source": [
    "%%timeit\n",
    "negll_numba(alt_theta, Y, B, w)"
   ]
  },
  {
   "cell_type": "code",
   "execution_count": 29,
   "id": "fcda2f11-d061-40d9-8aad-43bb2362577f",
   "metadata": {},
   "outputs": [
    {
     "name": "stdout",
     "output_type": "stream",
     "text": [
      "114 ms ± 1.16 ms per loop (mean ± std. dev. of 7 runs, 10 loops each)\n"
     ]
    }
   ],
   "source": [
    "%%timeit\n",
    "negll(alt_theta, Y, B, w)"
   ]
  },
  {
   "cell_type": "code",
   "execution_count": 30,
   "id": "867c4459-9826-408f-86a8-ebf45e29597b",
   "metadata": {},
   "outputs": [
    {
     "data": {
      "text/plain": [
       "(0.000579, 0.0119, 20.552677029360968)"
      ]
     },
     "execution_count": 30,
     "metadata": {},
     "output_type": "execute_result"
    }
   ],
   "source": [
    "# C to numba\n",
    "micro = 1e-6 # μ\n",
    "milli = 1e-3 # m\n",
    "579 * micro, 11.9 * milli,  1/(579 * micro / (11.9 * milli))"
   ]
  },
  {
   "cell_type": "code",
   "execution_count": 31,
   "id": "66ddc363-95a0-474c-88c8-26408648e6ee",
   "metadata": {},
   "outputs": [
    {
     "data": {
      "text/plain": [
       "(11.9, 114, 9.579831932773109)"
      ]
     },
     "execution_count": 31,
     "metadata": {},
     "output_type": "execute_result"
    }
   ],
   "source": [
    "# numba to python (numpy)\n",
    "11.9, 114, 114/11.9"
   ]
  },
  {
   "cell_type": "code",
   "execution_count": 26,
   "id": "a10043e7-3ef7-46b6-bf5d-616c522bc6bb",
   "metadata": {},
   "outputs": [
    {
     "data": {
      "text/plain": [
       "(1379202737130.2307, 1379202737130.2307)"
      ]
     },
     "execution_count": 26,
     "metadata": {},
     "output_type": "execute_result"
    }
   ],
   "source": [
    "negll_numba(alt_theta, Y, B, w), cnegloglik(theta, Y, B, w)"
   ]
  },
  {
   "cell_type": "code",
   "execution_count": 10,
   "id": "4e7c0a53-8baf-45aa-9041-1dae95f6dde0",
   "metadata": {},
   "outputs": [
    {
     "data": {
      "text/plain": [
       "1.0112"
      ]
     },
     "execution_count": 10,
     "metadata": {},
     "output_type": "execute_result"
    }
   ],
   "source": [
    "xx = np.array([1.0112])\n",
    "x = xx.ctypes.data_as(POINTER(c_double))\n",
    "lib.test(x)"
   ]
  },
  {
   "cell_type": "code",
   "execution_count": 11,
   "id": "aae93466-c373-472c-a75e-6642f2cedff0",
   "metadata": {},
   "outputs": [],
   "source": []
  },
  {
   "cell_type": "code",
   "execution_count": 12,
   "id": "b680bd3f-1b4e-48ce-b2b1-52fb66074280",
   "metadata": {},
   "outputs": [],
   "source": [
    "B, Y, w = dat['B'], dat['Y'], dat['w']"
   ]
  },
  {
   "cell_type": "code",
   "execution_count": 13,
   "id": "7c4afd9d-3a2c-42d5-b848-a070ded639eb",
   "metadata": {},
   "outputs": [
    {
     "data": {
      "text/plain": [
       "(2688, 6, 5, 3)"
      ]
     },
     "execution_count": 13,
     "metadata": {},
     "output_type": "execute_result"
    }
   ],
   "source": [
    "B.shape"
   ]
  },
  {
   "cell_type": "code",
   "execution_count": 14,
   "id": "b86d195e-a81f-4a28-a433-35501566545c",
   "metadata": {},
   "outputs": [],
   "source": [
    "theta = np.array([1e-3, #0.8, 0.8, 0.1,\n",
    "                         0.2,  0.1,  0.1,\n",
    "                         0.01, 0.01, 0.1,\n",
    "                         0.01, 0.04, 0.03,\n",
    "                         0.3,  0.01, 0.03], dtype=float)"
   ]
  },
  {
   "cell_type": "code",
   "execution_count": 17,
   "id": "b69fa078-aa12-40ad-adfd-32aefdbc6e96",
   "metadata": {},
   "outputs": [
    {
     "data": {
      "text/plain": [
       "array([1.00000000e-11, 6.30957344e-11, 3.98107171e-10, 2.51188643e-09,\n",
       "       1.58489319e-08, 1.00000000e-07])"
      ]
     },
     "execution_count": 17,
     "metadata": {},
     "output_type": "execute_result"
    }
   ],
   "source": [
    "w"
   ]
  },
  {
   "cell_type": "code",
   "execution_count": 16,
   "id": "216629f7-1e8b-4f63-a8c8-fe48f954b0ac",
   "metadata": {},
   "outputs": [
    {
     "data": {
      "text/plain": [
       "dtype('float64')"
      ]
     },
     "execution_count": 16,
     "metadata": {},
     "output_type": "execute_result"
    }
   ],
   "source": [
    "Y.dtype"
   ]
  },
  {
   "cell_type": "code",
   "execution_count": 19,
   "id": "59d1ceeb-6197-4b7a-8893-a2da730aa031",
   "metadata": {},
   "outputs": [],
   "source": [
    "nS, nD = np.array(Y[:, 0]), np.array(Y[:, 1])"
   ]
  },
  {
   "cell_type": "code",
   "execution_count": null,
   "id": "51278bcc-ff22-4fb9-abe6-9f549581f224",
   "metadata": {},
   "outputs": [],
   "source": [
    "def negloglik(theta, Y, logB, w):\n",
    "    nS = np.require(Y[:, 0], int, ['ALIGNED'])\n",
    "    nD = np.require(Y[:, 1], int, ['ALIGNED'])\n",
    "    theta = np.require(theta, float, ['ALIGNED'])\n",
    "    nS_ptr = nS.ctypes.data_as(POINTER(c_double))\n",
    "    nD_ptr = nD.ctypes.data_as(POINTER(c_double))\n",
    "    theta_ptr = theta.ctypes.data_as(POINTER(c_double))\n",
    "    logB_ptr = logB.ctypes.data_as(ctypes.POINTER(ctypes.c_double))\n",
    "    w_ptr = w.ctypes.data_as(ctypes.POINTER(ctypes.c_double))\n",
    "    lib.negloglik.argtypes = (POINTER(c_double), POINTER(c_double), POINTER(c_double), \n",
    "                             POINTER(c_double), POINTER(c_double), ctypes.POINTER(np.ctypeslib.c_intp), ctypes.POINTER(np.ctypeslib.c_intp))\n",
    "    return lib.negloglik(theta_ptr, nS_ptr, nD_ptr, logB_ptr, w_ptr, logB.ctypes.shape, logB.ctypes.strides)\n",
    "    \n",
    "negloglik(theta, Y, B, w)"
   ]
  },
  {
   "cell_type": "code",
   "execution_count": 29,
   "id": "e3358d5a-42f7-4f95-8aff-32cccac7beb5",
   "metadata": {},
   "outputs": [
    {
     "data": {
      "text/plain": [
       "<numpy.core._internal._ctypes at 0x7f4d9e276a00>"
      ]
     },
     "execution_count": 29,
     "metadata": {},
     "output_type": "execute_result"
    }
   ],
   "source": [
    "theta.ctypes"
   ]
  },
  {
   "cell_type": "code",
   "execution_count": null,
   "id": "956880ee-3b88-4b1e-a550-20b87cec12e3",
   "metadata": {},
   "outputs": [],
   "source": []
  }
 ],
 "metadata": {
  "kernelspec": {
   "display_name": "Python 3 (ipykernel)",
   "language": "python",
   "name": "python3"
  },
  "language_info": {
   "codemirror_mode": {
    "name": "ipython",
    "version": 3
   },
   "file_extension": ".py",
   "mimetype": "text/x-python",
   "name": "python",
   "nbconvert_exporter": "python",
   "pygments_lexer": "ipython3",
   "version": "3.8.12"
  }
 },
 "nbformat": 4,
 "nbformat_minor": 5
}
