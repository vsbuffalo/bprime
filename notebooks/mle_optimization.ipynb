{
 "cells": [
  {
   "cell_type": "code",
   "execution_count": 1,
   "id": "17014505-6fd5-4554-b5d9-02a7dbbe5506",
   "metadata": {},
   "outputs": [],
   "source": [
    "%load_ext autoreload\n",
    "%autoreload 2\n",
    "%reload_ext autoreload"
   ]
  },
  {
   "cell_type": "code",
   "execution_count": 2,
   "id": "95b3e305-9260-4418-900d-76c064b8775c",
   "metadata": {},
   "outputs": [],
   "source": [
    "import numpy as np\n",
    "import pickle\n",
    "from tabulate import tabulate\n",
    "from functools import partial\n",
    "import ctypes\n",
    "from scipy.optimize import minimize, LinearConstraint, dual_annealing, Bounds, NonlinearConstraint\n",
    "from scipy.stats import truncnorm\n",
    "import scipy.stats as stats\n",
    "from scipy.stats.qmc import Sobol, Halton\n",
    "import matplotlib.pyplot as plt\n",
    "import matplotlib as mpl\n",
    "import nlopt \n",
    "import multiprocessing, tqdm\n",
    "from bgspy.likelihood import negll_c, negll, negll_numba\n",
    "from bgspy.likelihood import bounds_simplex, random_start_simplex, random_start_mutation\n",
    "from bgspy.likelihood import negll_mutation, bounds_mutation\n",
    "from bgspy.likelihood import penalized_negll_c\n",
    "from bgspy.likelihood import normal_ll_c"
   ]
  },
  {
   "cell_type": "code",
   "execution_count": 3,
   "id": "4078f980-2361-4562-8185-fa766db25cf8",
   "metadata": {},
   "outputs": [],
   "source": [
    "def nloptim_summary(run_res, nt, nf, mle_rank=0, nll=None):\n",
    "    nlls, thetas, success = run_res\n",
    "    ranks = np.argsort(nlls)\n",
    "    best_idx = ranks[mle_rank]\n",
    "    theta = thetas[best_idx]\n",
    "    # if we're a parameter short, assume μ is fixed\n",
    "    dim = theta.size\n",
    "    fixedmu = dim == nt * nf + 1\n",
    "    print(fixedmu, dim)\n",
    "    nll = nlls[best_idx]\n",
    "    status, counts = np.unique(success, return_counts=True)\n",
    "    n = len(success)\n",
    "    stat_codes = {1:'success', 2:'stopval reached', 3:'ftol reached', \n",
    "                  4:'xtol reached', 5:'max eval', 6:'maxtime reached', -1:'failure',\n",
    "                  -2:'invalid args', -3:'out of memory', -4:'forced stop'}\n",
    "    print(\"exist status stats: \" + ','.join([f\"{stat_codes[i]} = {np.round(c/n, 2)*100}%\" for \n",
    "                                             i, c in zip(status, counts)]))\n",
    "    print(f\"exists: \")\n",
    "    print(f\"NLL: {nll}\\npi0: {theta[0]}\\n\")\n",
    "    if not fixedmu:\n",
    "        print(f\"μ: {theta[1]}\\nW = \")\n",
    "        o = 2\n",
    "    else:\n",
    "        print(f\"μ: --fixed?--\\nW = \")\n",
    "        o = 1\n",
    "    W = theta[o:].reshape((nt, nf))\n",
    "    print(tabulate(np.round(W, 3)))\n",
    "    print(f\"sums: {W.sum(axis=0)}\")\n",
    "    return theta\n",
    "\n",
    "def summarize_optims(res, nt, nf, mle_rank=0):\n",
    "    # for scipy\n",
    "    nlls, thetas, success = res\n",
    "    ranks = np.argsort(nlls)\n",
    "    best_idx = ranks[mle_rank]\n",
    "    x = thetas[best_idx]\n",
    "    ll = nlls[best_idx]\n",
    "    pi0 = x[0]\n",
    "    w = x[1:]/x[1:].sum()\n",
    "    mu = x[1:].sum()\n",
    "    print(f\"convergence: {np.round(np.mean(success), 2)*100}%\")\n",
    "    print(f\"neg loglik = {ll}\\nμ = {mu}\\nπ0 = {pi0}\\nw = \\n\")\n",
    "    W = x[1:].reshape((nt, nf))\n",
    "    print(tabulate(W / W.sum(axis=0)))\n",
    "    return x\n",
    "\n",
    "def check_bounds(x, lb, ub):\n",
    "    assert np.all((x >= lb) & (x <= ub))\n",
    "    \n",
    "\n",
    "def run_nloptims(workerfunc, startfunc, nstarts, ncores = 70):\n",
    "    starts = [startfunc() for _ in range(nstarts)]\n",
    "    with multiprocessing.Pool(ncores) as p:\n",
    "        res = list(tqdm.tqdm(p.imap(workerfunc, starts), total=nstarts))\n",
    "    nlls = np.array([x[0] for x in res])\n",
    "    thetas = np.array([x[1] for x in res])\n",
    "    success = np.array([x[2] for x in res])\n",
    "    return nlls, thetas, success"
   ]
  },
  {
   "cell_type": "code",
   "execution_count": 4,
   "id": "a2befba6-7beb-4934-a09b-6fb3576a1789",
   "metadata": {},
   "outputs": [],
   "source": [
    "plt.rcParams['figure.figsize'] = [8, 4]\n",
    "plt.rcParams['figure.dpi'] = 200\n",
    "plt.style.use('./buffalo.mplstyle')"
   ]
  },
  {
   "cell_type": "markdown",
   "id": "0a57e264-54d6-48fb-9ed8-345b8436d666",
   "metadata": {},
   "source": [
    "# Fitting and Testing Optimization Procedures"
   ]
  },
  {
   "cell_type": "markdown",
   "id": "811d79df-4da4-4c64-87b9-e98846d44dfe",
   "metadata": {},
   "source": [
    "Note that we often have to define specific fitting functions and run those — annoyingly when using Python's multiprocessing module, there's an issue where closures (functions that define functions around values) do not pickle and thus cannot be shipped off to other cores safely. So each test relies on a custom test function."
   ]
  },
  {
   "cell_type": "markdown",
   "id": "db13c567-5f35-42d3-a055-c1a62f577ef9",
   "metadata": {},
   "source": [
    "## Load data and define some functions"
   ]
  },
  {
   "cell_type": "code",
   "execution_count": 5,
   "id": "57902eed-e7a3-4607-8102-8d5deddfe3f1",
   "metadata": {},
   "outputs": [],
   "source": [
    "dat = pickle.load(open('../tests/likelihood_test_data.pkl', 'rb'))\n",
    "B, Bp, Y, w = dat['B'], dat['Bp'], dat['Y'], dat['w']\n",
    "bins = dat['bins']\n",
    "\n",
    "nx, nw, nt, nf = B.shape\n",
    "nparams = nt * nf + 2"
   ]
  },
  {
   "cell_type": "markdown",
   "id": "e71c035c-5113-43b1-b802-b71964e94a81",
   "metadata": {},
   "source": [
    "### EDA of the Count Data / π"
   ]
  },
  {
   "cell_type": "code",
   "execution_count": 6,
   "id": "fc105d63-dd11-47ad-9dc6-43917d625aa1",
   "metadata": {},
   "outputs": [],
   "source": [
    "def optim_plot(tail=0.5, **runs):\n",
    "    fig, ax = plt.subplots()\n",
    "    for i, (key, run) in enumerate(runs.items()):\n",
    "        nll = run[0]\n",
    "        succ = run[2]\n",
    "        q = np.quantile(nll, tail)\n",
    "        nlls = nll[nll < q]\n",
    "        sort_idx = np.argsort(nlls)\n",
    "        y = nlls[sort_idx]\n",
    "        x = 2*i + succ[nll < q].astype('int')\n",
    "        cols = mpl.cm.get_cmap('Paired')(x)\n",
    "        ax.scatter(list(reversed(range(len(y)))), y, s=1, label=key, c=cols)\n",
    "    ax.legend()"
   ]
  },
  {
   "cell_type": "code",
   "execution_count": 7,
   "id": "69386e59-f4a9-4d63-a91d-9ed841041665",
   "metadata": {},
   "outputs": [
    {
     "name": "stderr",
     "output_type": "stream",
     "text": [
      "findfont: Font family ['sans-serif'] not found. Falling back to DejaVu Sans.\n",
      "findfont: Generic family 'sans-serif' not found because none of the following families were found: Helvetica, Arial\n"
     ]
    },
    {
     "data": {
      "image/png": "[encoded data removed]",
      "text/plain": [
       "<Figure size 1600x800 with 1 Axes>"
      ]
     },
     "metadata": {
      "needs_background": "light"
     },
     "output_type": "display_data"
    }
   ],
   "source": [
    "def Y_hist(Y, nbins=100):\n",
    "    ndiff = Y[:, 1]\n",
    "    npairs = Y.sum(axis=1)\n",
    "    pi = np.divide(ndiff, npairs, out=np.full(Y.shape[0], np.nan), \n",
    "                   where=npairs > 0)\n",
    "    _ = plt.hist(pi, nbins, density=True)\n",
    "    z = np.linspace(np.nanmin(pi)*0.99, np.nanmax(pi)*1.01, 1000)\n",
    "    plt.plot(z, stats.norm(loc=np.nanmean(pi), scale=np.nanstd(pi)).pdf(z), c='r')\n",
    "    \n",
    "Y_hist(Y)"
   ]
  },
  {
   "cell_type": "code",
   "execution_count": 8,
   "id": "f683733b-a9a1-49d1-9e93-7f0fad5cb8d0",
   "metadata": {},
   "outputs": [
    {
     "name": "stderr",
     "output_type": "stream",
     "text": [
      "/tmp/ipykernel_34728/1996487331.py:6: RuntimeWarning: invalid value encountered in true_divide\n",
      "  pi = Y[:, 1] / Y[:,:].sum(axis=1)\n"
     ]
    },
    {
     "data": {
      "image/png": "[encoded data removed]",
      "text/plain": [
       "<Figure size 1600x800 with 1 Axes>"
      ]
     },
     "metadata": {
      "needs_background": "light"
     },
     "output_type": "display_data"
    }
   ],
   "source": [
    "def filter_Y(Y, bins, alpha=0.01):\n",
    "    if isinstance(alpha, float):\n",
    "        lower, upper = alpha/2, 1-alpha/2\n",
    "    else:\n",
    "        lower, upper = alpha\n",
    "    pi = Y[:, 1] / Y[:,:].sum(axis=1)\n",
    "    idx = (np.nanquantile(pi, lower) < pi) & (np.nanquantile(pi, upper) > pi)\n",
    "    bins = [b for keep, b in zip(idx, bins) if keep]\n",
    "    return bins, Y[idx, :], idx\n",
    "\n",
    "binsf, Yf, idx = filter_Y(Y, bins=bins, alpha=(0.0, 0.99))\n",
    "#Y_hist(Y, nbins=50)\n",
    "Y_hist(Yf, nbins=50)"
   ]
  },
  {
   "cell_type": "code",
   "execution_count": 9,
   "id": "167a5383-8945-4517-8ae6-909c7705fef4",
   "metadata": {},
   "outputs": [
    {
     "data": {
      "text/plain": [
       "0.08630952380952381"
      ]
     },
     "execution_count": 9,
     "metadata": {},
     "output_type": "execute_result"
    }
   ],
   "source": [
    "(Y.shape[0] - Yf.shape[0]) / Y.shape[0]"
   ]
  },
  {
   "cell_type": "code",
   "execution_count": 10,
   "id": "0e3797da-233c-418d-a85a-409c5792ff9d",
   "metadata": {},
   "outputs": [
    {
     "data": {
      "text/plain": [
       "(2456, 2456)"
      ]
     },
     "execution_count": 10,
     "metadata": {},
     "output_type": "execute_result"
    }
   ],
   "source": [
    "Yf.shape[0], len(binsf)"
   ]
  },
  {
   "cell_type": "code",
   "execution_count": null,
   "id": "107f8dda-ad57-4654-b6f8-c7545a1cfb0d",
   "metadata": {},
   "outputs": [],
   "source": []
  },
  {
   "cell_type": "markdown",
   "id": "33e8369f-9280-41c4-ae7b-6a7aeaec811f",
   "metadata": {},
   "source": [
    "chromplot(binsf, Yf, scatter=True)"
   ]
  },
  {
   "cell_type": "code",
   "execution_count": 11,
   "id": "dfc3233e-a632-4fde-bf65-59caca426045",
   "metadata": {},
   "outputs": [],
   "source": [
    "Yorig = Y\n",
    "Y = Yf\n",
    "Bp = Bp[idx, ...]\n",
    "B = B[idx, ...]"
   ]
  },
  {
   "cell_type": "code",
   "execution_count": 12,
   "id": "327c9b2d-50a4-4629-8de5-47b523f07ec3",
   "metadata": {},
   "outputs": [],
   "source": [
    "assert Bp.shape[0] == Y.shape[0]\n",
    "assert B.shape[0] == Y.shape[0]"
   ]
  },
  {
   "cell_type": "markdown",
   "id": "45354464-06ad-4c58-9046-d9f9f3093f3a",
   "metadata": {
    "tags": []
   },
   "source": [
    "# Free-Mutation Model (SciPy)\n",
    "\n",
    "Here we try a less-constrained form of optimization: a separate mutation rate per feature/selection class. This minimizes constraints — all we need are bounds. But, there are an extra two degrees of freedom. The simpler constraints mean that SciPy's optimiation function will work fine."
   ]
  },
  {
   "cell_type": "markdown",
   "id": "f92375ca-0e55-4b79-9957-a59b5a5323fc",
   "metadata": {},
   "source": [
    "## Free-Mutation Model with Reduced Features Model\n",
    "\n",
    "Here we try the simplest test case: only one column of features (CDS) of the test human data.\n",
    " "
   ]
  },
  {
   "cell_type": "code",
   "execution_count": 13,
   "id": "d2e482e5-6f42-461b-8290-4d57aec98662",
   "metadata": {},
   "outputs": [],
   "source": [
    "def negll_freemut(Y, B, w):\n",
    "    def func(theta):\n",
    "        new_theta = np.full(theta.size + 1, np.nan)\n",
    "        theta = np.copy(theta)\n",
    "        new_theta[0] = theta[0]\n",
    "        # fix mutation rate to one and let W represent mutation rates to various classes\n",
    "        new_theta[1] = 1.\n",
    "        new_theta[2:] = theta[1:] # times mutation rates\n",
    "        #print(\"-->\", theta, new_theta)\n",
    "        return negll_c(new_theta, Y, B, w)\n",
    "    return func\n",
    "\n",
    "def run_optims(workerfunc, startfunc, nstarts, ncores = 50):\n",
    "    starts = [startfunc() for _ in range(nstarts)]\n",
    "    #import pdb; pdb.set_trace()\n",
    "    with multiprocessing.Pool(ncores) as p:\n",
    "        res = list(tqdm.tqdm(p.imap(workerfunc, starts), total=nstarts))\n",
    "        #res = list(p.imap(workerfunc, starts))\n",
    "    nlls = np.array([x.fun for x in res])\n",
    "    thetas = np.array([x.x for x in res])\n",
    "    success = np.array([x.success for x in res])\n",
    "    return nlls, thetas, success\n",
    "    "
   ]
  },
  {
   "cell_type": "code",
   "execution_count": 14,
   "id": "405df3ba-39ba-44bb-a3c7-e8934e574f7f",
   "metadata": {},
   "outputs": [
    {
     "data": {
      "text/plain": [
       "array([1.00000000e-11, 6.30957344e-11, 3.98107171e-10, 2.51188643e-09,\n",
       "       1.58489319e-08, 1.00000000e-07])"
      ]
     },
     "execution_count": 14,
     "metadata": {},
     "output_type": "execute_result"
    }
   ],
   "source": [
    "w"
   ]
  },
  {
   "cell_type": "code",
   "execution_count": 15,
   "id": "c2a97ac5-f172-40b6-8e71-7b7bbbf997c1",
   "metadata": {},
   "outputs": [
    {
     "data": {
      "text/plain": [
       "((2456, 2), (2456, 6, 5, 3))"
      ]
     },
     "execution_count": 15,
     "metadata": {},
     "output_type": "execute_result"
    }
   ],
   "source": [
    "Y.shape, B.shape"
   ]
  },
  {
   "cell_type": "code",
   "execution_count": 16,
   "id": "2faa2f25-3f04-41b3-afa9-c5846cc2e413",
   "metadata": {},
   "outputs": [
    {
     "name": "stderr",
     "output_type": "stream",
     "text": [
      "100%|███████████████████████████████████████████████████████████████████████████████████████████████████████████████████████████████████████████████████████████████████████████████████████████████████████████████████████████████████████| 1000/1000 [00:24<00:00, 40.97it/s]\n",
      "100%|███████████████████████████████████████████████████████████████████████████████████████████████████████████████████████████████████████████████████████████████████████████████████████████████████████████████████████████████████████| 1000/1000 [00:23<00:00, 41.90it/s]\n"
     ]
    }
   ],
   "source": [
    "nllBp = negll_freemut(Y, Bp[..., 0][..., None], w)\n",
    "nllB = negll_freemut(Y, B[..., 0][..., None], w)\n",
    "\n",
    "#print(random_start_mutation(nt, 1))\n",
    "\n",
    "def worker_Bp_reduced(start):\n",
    "    return minimize(nllBp, x0=start, bounds=bounds_mutation(nt, 1, paired=True), method='L-BFGS-B')\n",
    "\n",
    "def worker_B_reduced(start):\n",
    "    return minimize(nllB, x0=start, bounds=bounds_mutation(nt, 1, paired=True), method='L-BFGS-B')\n",
    "\n",
    "# for i in range(100):\n",
    "#     np.random.seed(i)\n",
    "#     print(i)\n",
    "#     resB_reduced = run_optims(worker_B_reduced, partial(random_start_mutation, nt, 1), 1)\n",
    "#     # new_theta = np.full(theta.size + 1, np.nan)\n",
    "#     # theta = partial(random_start_mutation, nt, 1)()\n",
    "#     # theta = np.copy(theta)\n",
    "#     # new_theta[0] = theta[0]\n",
    "#     # # fix mutation rate to one and let W represent mutation rates to various classes\n",
    "#     # new_theta[1] = 1.\n",
    "#     # new_theta[2:] = theta[1:] # times mutation rates\n",
    "     # print(\"-->\", theta, new_theta)\n",
    "resBp_reduced = run_optims(worker_Bp_reduced, partial(random_start_mutation, nt, 1), 1_000)\n",
    "resB_reduced = run_optims(worker_B_reduced, partial(random_start_mutation, nt, 1), 1_000)"
   ]
  },
  {
   "cell_type": "code",
   "execution_count": 17,
   "id": "1f32c831-36a5-4d67-86a7-092cecb295f4",
   "metadata": {},
   "outputs": [
    {
     "name": "stdout",
     "output_type": "stream",
     "text": [
      "convergence: 51.0%\n",
      "neg loglik = 895452768124.1681\n",
      "μ = 5.941486918540813e-09\n",
      "π0 = 0.001873397074283585\n",
      "w = \n",
      "\n",
      "----------\n",
      "0.00169532\n",
      "0.034797\n",
      "0.0457265\n",
      "0.0176372\n",
      "0.900144\n",
      "----------\n",
      "convergence: 55.00000000000001%\n",
      "neg loglik = 895441933608.9825\n",
      "μ = 6.608748772919823e-09\n",
      "π0 = 0.0018114803971454705\n",
      "w = \n",
      "\n",
      "----------\n",
      "0.214963\n",
      "0.00588379\n",
      "0.10838\n",
      "0.00422579\n",
      "0.666547\n",
      "----------\n"
     ]
    },
    {
     "data": {
      "text/plain": [
       "array([1.81148040e-03, 1.42063704e-09, 3.88844673e-11, 7.16259310e-10,\n",
       "       2.79271994e-11, 4.40504076e-09])"
      ]
     },
     "execution_count": 17,
     "metadata": {},
     "output_type": "execute_result"
    }
   ],
   "source": [
    "summarize_optims(resB_reduced, nt, 1)\n",
    "summarize_optims(resBp_reduced, nt, 1)"
   ]
  },
  {
   "cell_type": "code",
   "execution_count": 18,
   "id": "558447b2-11bb-4f32-aac9-95e85a98a398",
   "metadata": {},
   "outputs": [
    {
     "data": {
      "text/plain": [
       "[]"
      ]
     },
     "execution_count": 18,
     "metadata": {},
     "output_type": "execute_result"
    },
    {
     "name": "stderr",
     "output_type": "stream",
     "text": [
      "findfont: Font family ['sans-serif'] not found. Falling back to DejaVu Sans.\n",
      "findfont: Generic family 'sans-serif' not found because none of the following families were found: Helvetica, Arial\n"
     ]
    },
    {
     "data": {
      "image/png": "[encoded data removed]",
      "text/plain": [
       "<Figure size 1600x800 with 1 Axes>"
      ]
     },
     "metadata": {
      "needs_background": "light"
     },
     "output_type": "display_data"
    }
   ],
   "source": [
    "optim_plot(B=resB_reduced, Bp=resBp_reduced, tail=0.7)\n",
    "plt.semilogy()"
   ]
  },
  {
   "cell_type": "markdown",
   "id": "b483fed9-5558-42c9-b104-f7a73431f9d3",
   "metadata": {},
   "source": [
    "## Free-Mutation Model (All Features)"
   ]
  },
  {
   "cell_type": "code",
   "execution_count": 19,
   "id": "239788d3-9884-46d4-9758-21ab41cdc51f",
   "metadata": {},
   "outputs": [
    {
     "name": "stderr",
     "output_type": "stream",
     "text": [
      "100%|█████████████████████████████████████████████████████████████████████████████████████████████████████████████████████████████████████████████████████████████████████████████████████████████████████████████████████████████████████| 10000/10000 [09:28<00:00, 17.59it/s]\n",
      "100%|█████████████████████████████████████████████████████████████████████████████████████████████████████████████████████████████████████████████████████████████████████████████████████████████████████████████████████████████████████| 10000/10000 [09:20<00:00, 17.83it/s]\n"
     ]
    }
   ],
   "source": [
    "nllBp = negll_freemut(Y, Bp, w)\n",
    "nllB = negll_freemut(Y, B, w)\n",
    "\n",
    "def worker_Bp_full(start):\n",
    "    return minimize(nllBp, x0=start, bounds=bounds_mutation(nt, nf, paired=True), options={'eps':1e-9}, method='L-BFGS-B')\n",
    "\n",
    "def worker_B_full(start):\n",
    "    return minimize(nllB, x0=start, bounds=bounds_mutation(nt, nf, paired=True), method='L-BFGS-B')\n",
    "\n",
    "resB = run_optims(worker_Bp_full, partial(random_start_mutation, nt, nf), 10_000)\n",
    "resBp = run_optims(worker_Bp_full, partial(random_start_mutation, nt, nf), 10_000)"
   ]
  },
  {
   "cell_type": "code",
   "execution_count": 21,
   "id": "5604547d-3c4b-4550-925d-67b2c335958d",
   "metadata": {},
   "outputs": [
    {
     "name": "stdout",
     "output_type": "stream",
     "text": [
      "convergence: 100.0%\n",
      "neg loglik = 895357966196.8392\n",
      "μ = 2.4225834157582997e-08\n",
      "π0 = 0.001864747828548137\n",
      "w = \n",
      "\n",
      "----------  ----------  ---------\n",
      "0.525999    0.798757    0.709278\n",
      "0.00106634  0.00122802  0.0160351\n",
      "0.00106634  0.0220069   0.0373913\n",
      "0.0562252   0.0328068   0.0346074\n",
      "0.415643    0.145201    0.202688\n",
      "----------  ----------  ---------\n",
      "convergence: 100.0%\n",
      "neg loglik = 895357815336.4578\n",
      "μ = 1.9709719319347424e-08\n",
      "π0 = 0.001869924218937866\n",
      "w = \n",
      "\n",
      "----------  ---------  ---------\n",
      "0.46576     0.645379   0.684291\n",
      "0.00116335  0.0304331  0.040416\n",
      "0.00116335  0.0608971  0.0522528\n",
      "0.0809178   0.0524826  0.0468155\n",
      "0.450996    0.210808   0.176225\n",
      "----------  ---------  ---------\n"
     ]
    },
    {
     "data": {
      "text/plain": [
       "array([1.86992422e-03, 4.00359794e-09, 3.59295125e-09, 3.79554508e-09,\n",
       "       1.00000000e-11, 1.69427020e-10, 2.24174830e-10, 1.00000000e-11,\n",
       "       3.39025861e-10, 2.89829873e-10, 6.95557253e-10, 2.92180553e-10,\n",
       "       2.59670812e-10, 3.87668965e-09, 1.17360710e-09, 9.77462096e-10])"
      ]
     },
     "execution_count": 21,
     "metadata": {},
     "output_type": "execute_result"
    }
   ],
   "source": [
    "summarize_optims(resB, nt, nf)\n",
    "summarize_optims(resBp, nt, nf)"
   ]
  },
  {
   "cell_type": "markdown",
   "id": "85b1d200-655b-404a-8af3-ad49d5f560e7",
   "metadata": {},
   "source": [
    "## Free-Mutation Model (All Features, Gaussian LL)"
   ]
  },
  {
   "cell_type": "code",
   "execution_count": 22,
   "id": "dc2410ff-1180-4383-8fe5-afab4873c375",
   "metadata": {},
   "outputs": [],
   "source": [
    "def normal_negll_freemut(Y, B, w):\n",
    "    def func(theta):\n",
    "        new_theta = np.zeros(theta.size + 1)\n",
    "        new_theta[0] = theta[0]\n",
    "        # fix mutation rate to one and let W represent mutation rates to various classes\n",
    "        new_theta[1] = 1.\n",
    "        new_theta[2:] = theta[1:] # times mutation rates        \n",
    "        return -normal_ll_c(new_theta, Y, B, w)\n",
    "    return func"
   ]
  },
  {
   "cell_type": "code",
   "execution_count": null,
   "id": "69fd992b-67ef-46b7-81e3-70722570602f",
   "metadata": {},
   "outputs": [],
   "source": [
    "nllBp = normal_negll_freemut(Y, Bp, w)\n",
    "nllB = normal_negll_freemut(Y, B, w)\n",
    "\n",
    "def worker_Bp_full(start):\n",
    "    return minimize(nllBp, x0=start, bounds=bounds_mutation(nt, nf, paired=True), options={'eps':1e-9}, method='L-BFGS-B')\n",
    "\n",
    "def worker_B_full(start):\n",
    "    return minimize(nllB, x0=start, bounds=bounds_mutation(nt, nf, paired=True), method='L-BFGS-B')\n",
    "\n",
    "resB = run_optims(worker_Bp_full, partial(random_start_mutation, nt, nf), 100_000)\n",
    "resBp = run_optims(worker_Bp_full, partial(random_start_mutation, nt, nf), 100_000)"
   ]
  },
  {
   "cell_type": "code",
   "execution_count": null,
   "id": "ff0ef394-65ad-4f52-b44c-8fb63b975781",
   "metadata": {},
   "outputs": [],
   "source": [
    "plt.scatter(np.sum((resBp[1][np.argmin(resBp[0])][None, :] - resBp[1])**2, axis=1), resBp[0])"
   ]
  },
  {
   "cell_type": "code",
   "execution_count": null,
   "id": "0da57193-aeb2-4d99-8600-3f3cb9e6a24a",
   "metadata": {},
   "outputs": [],
   "source": [
    "cutoff = resBp[0] < np.quantile(resBp[0], 0.01)\n",
    "_ = plt.hist(resBp[1][cutoff, 2], 10)"
   ]
  },
  {
   "cell_type": "code",
   "execution_count": null,
   "id": "49b6df61-fd37-4178-85d4-ad815fad21fa",
   "metadata": {},
   "outputs": [],
   "source": [
    "optim_plot(Bp=resBp, tail=0.01)"
   ]
  },
  {
   "cell_type": "code",
   "execution_count": null,
   "id": "48a748dc-8da4-43f8-9625-c012fc1f3c7a",
   "metadata": {},
   "outputs": [],
   "source": [
    "optim_plot(B=resB, Bp=resBp, tail=0.1)\n",
    "plt.semilogy()"
   ]
  },
  {
   "cell_type": "markdown",
   "id": "e9a65b12-d683-40d2-ab15-e4824ed77bff",
   "metadata": {},
   "source": [
    "## Free Mutation Model with MVN"
   ]
  },
  {
   "cell_type": "code",
   "execution_count": null,
   "id": "24606893-22d7-47c4-8157-1cb1d5732686",
   "metadata": {},
   "outputs": [],
   "source": [
    "from scipy.sparse import lil_matrix\n",
    "\n",
    "def random_start_mvn(nt, nf):\n",
    "    theta = random_start_mutation(nt, nf)\n",
    "    new_theta = np.empty(nt*nf + 3)\n",
    "    new_theta[0] = theta[0]\n",
    "    new_theta[1] = np.abs(np.random.normal(0, 1, 1))\n",
    "    new_theta[2] = stats.invgamma(5).rvs(1)\n",
    "    new_theta[3:] = theta[1:]\n",
    "    return new_theta\n",
    "    \n",
    "\n",
    "def mvn_nll(Y, B, w, bins):\n",
    "    TINY = 1e-8\n",
    "    nx, nw, nt, nf = B.shape\n",
    "    n = Y.shape[0]\n",
    "    nS = Y[:, 0]\n",
    "    nD = Y[:, 1]\n",
    "    # reparameterized data under MVN approximation\n",
    "    N = nS + nD\n",
    "\n",
    "    def func(theta): \n",
    "        Sigma = np.zeros((n, n), dtype=float)\n",
    "        pi0 = theta[0]\n",
    "        alpha = theta[1]\n",
    "        rho = theta[2]\n",
    "        W = theta[3:].reshape((nt, nf))\n",
    "        \n",
    "        logBw = np.zeros(nx, dtype=float)\n",
    "        for i in range(nx):\n",
    "            for j in range(nt):\n",
    "                for k in range(nf):\n",
    "                    logBw[i] += np.interp(W[j, k], w, B[i, :, j, k])\n",
    "\n",
    "        log_pibar = np.log(pi0) + logBw\n",
    "        pi = np.exp(log_pibar)\n",
    "        mean = N * pi\n",
    "        var = N * (1-pi) * pi\n",
    "    \n",
    "        for i in range(n):\n",
    "            for j in range(i, n):\n",
    "                if bins[i][0] == bins[j][0]:\n",
    "                    # same chromosome\n",
    "                    Sigma[i, j] = np.sqrt(N[i] * N[j])*alpha**2  * np.exp(-0.5 / rho**2 * (i - j)**2) + var[i]*(i==j) + TINY\n",
    "                    Sigma[j, i] = Sigma[i, j]\n",
    "        return -stats.multivariate_normal.logpdf(x=nD, mean=mean, cov=Sigma)\n",
    "    return func\n",
    "\n",
    "def mvn_bounds(nt, nf):\n",
    "    lb, ub = bounds_mutation(nt, nf)\n",
    "    lb = lb.tolist()\n",
    "    ub = ub.tolist()\n",
    "    lb.insert(1, 0) # alpha\n",
    "    ub.insert(1, np.Inf) # alpha\n",
    "    lb.insert(2, 0) # rho\n",
    "    ub.insert(2, np.Inf) # rho\n",
    "    return list(zip(lb, ub))"
   ]
  },
  {
   "cell_type": "code",
   "execution_count": null,
   "id": "89e606ad-1593-4932-b04b-b935c73ddadd",
   "metadata": {},
   "outputs": [],
   "source": [
    "mvnnll = mvn_nll(Y, Bp, w, bins)"
   ]
  },
  {
   "cell_type": "code",
   "execution_count": null,
   "id": "eb8ea901-56bd-422e-a610-9adddef3321d",
   "metadata": {},
   "outputs": [],
   "source": [
    "mvnnll(random_start_mvn(nt, nf))"
   ]
  },
  {
   "cell_type": "code",
   "execution_count": null,
   "id": "e3b71bd2-5466-4ffd-81c3-ca3d1261853d",
   "metadata": {},
   "outputs": [],
   "source": [
    "len(mvn_bounds(nt, nf)), len(random_start_mvn(nt, nf))"
   ]
  },
  {
   "cell_type": "code",
   "execution_count": null,
   "id": "c3789041-b3ad-4b61-ab61-beb85d975527",
   "metadata": {},
   "outputs": [],
   "source": [
    "minimize(mvnnll, x0=random_start_mvn(nt, nf), bounds=mvn_bounds(nt, nf))"
   ]
  },
  {
   "cell_type": "code",
   "execution_count": null,
   "id": "e8a915cd-3c57-4da8-8654-9596ea883ba9",
   "metadata": {},
   "outputs": [],
   "source": [
    "a = _"
   ]
  },
  {
   "cell_type": "code",
   "execution_count": null,
   "id": "41ee858e-74a2-48d9-9492-aa2d60146d46",
   "metadata": {},
   "outputs": [],
   "source": []
  },
  {
   "cell_type": "markdown",
   "id": "ba9142bd-7e94-4df0-91e9-5709d52111cb",
   "metadata": {},
   "source": [
    "## Free Mutation Model with NLOpt"
   ]
  },
  {
   "cell_type": "code",
   "execution_count": null,
   "id": "56f63df7-e35c-4016-bceb-83326eb025cb",
   "metadata": {},
   "outputs": [],
   "source": [
    "def negll_freemut_nlopt(Y, B, w):\n",
    "    def func(x, grad):\n",
    "        new_theta = np.zeros(x.size + 1)\n",
    "        new_theta[0] = x[0]\n",
    "        # fix mutation rate to one and let W represent mutation rates to various classes\n",
    "        new_theta[1] = 1.\n",
    "        new_theta[2:] = x[1:] # times mutation rates        \n",
    "        return negll_c(new_theta, Y, B, w)\n",
    "    return func\n",
    "\n",
    "def normal_negll_freemut_nlopt(Y, B, w):\n",
    "    def func(x, grad):\n",
    "        new_theta = np.zeros(x.size + 1)\n",
    "        new_theta[0] = x[0]\n",
    "        # fix mutation rate to one and let W represent mutation rates to various classes\n",
    "        new_theta[1] = 1.\n",
    "        new_theta[2:] = x[1:] # times mutation rates        \n",
    "        return -normal_ll_c(new_theta, Y, B, w)\n",
    "    return func"
   ]
  },
  {
   "cell_type": "code",
   "execution_count": null,
   "id": "7a2f4782-af76-48ff-9384-1ae441ba3e69",
   "metadata": {},
   "outputs": [],
   "source": [
    "nparams = nt*nf+1\n",
    "opt = nlopt.opt(nlopt.GN_ISRES, nparams)\n",
    "#nllBp = negll_freemut_nlopt(Y, Bp, w)\n",
    "nllBp = normal_negll_freemut(Y, Bp, w)\n",
    "\n",
    "# set the objective\n",
    "opt.set_min_objective(nllBp) \n",
    "\n",
    "# set bounds\n",
    "lb, ub = bounds_mutation(nt, nf)\n",
    "opt.set_lower_bounds(lb)\n",
    "opt.set_upper_bounds(ub)"
   ]
  },
  {
   "cell_type": "code",
   "execution_count": null,
   "id": "6c5dc72a-c977-4f24-bf43-e8ab810f5468",
   "metadata": {},
   "outputs": [],
   "source": [
    "%%time\n",
    "#np.random.seed(0)\n",
    "# stopping criteria:\n",
    "opt.set_xtol_rel(1e-5)\n",
    "opt.set_maxeval(10000000)\n",
    "\n",
    "# random start\n",
    "x = random_start_mutation(nt, nf)\n",
    "assert x.size == nparams\n",
    "\n",
    "# run\n",
    "res = opt.optimize(x)"
   ]
  },
  {
   "cell_type": "code",
   "execution_count": null,
   "id": "4cc6153d-ee28-4e5e-9d45-0b23ecce6c2f",
   "metadata": {},
   "outputs": [],
   "source": [
    "e = res[1:].reshape((nt, nf))\n",
    "res[0], e.sum(), e/e.sum(axis=1)[:, None], opt.last_optimum_value()"
   ]
  },
  {
   "cell_type": "markdown",
   "id": "ffb23859-9831-4a37-9153-d7a458752c55",
   "metadata": {},
   "source": [
    "# Simplex Model (NLOpt)\n",
    "\n",
    "The simplex model is an $n_t \\times n_f$ matrix $\\mathbf{W}$ which are DFE weights (columns sum to 1). The mutation rate per selection class, per feature class is then $\\mu \\mathbf{W}$.\n",
    "\n",
    "The bounds of $\\mathbf{W}$ are $[0, 1]$, and the constraint is $\\sum_j w_{i,j} = 1$ However, there is also a total mutation bound, $\\mu_l \\le \\mu \\le \\mu_u$. So, \n",
    "\n",
    "$$ \\mu_l \\le \\mu \\mathbf{W} \\le \\mu_u$$"
   ]
  },
  {
   "cell_type": "code",
   "execution_count": null,
   "id": "8cce50a2-a76b-4e0e-9daa-98d249cd6a74",
   "metadata": {},
   "outputs": [],
   "source": [
    "def negll_nlopt(Y, B, w):\n",
    "    # NLOPT needs to accept a grad argument\n",
    "    def func(x, grad):\n",
    "        return negll_c(x, Y, B, w)\n",
    "    return func"
   ]
  },
  {
   "cell_type": "code",
   "execution_count": null,
   "id": "dda92261-711c-4a63-a076-05e87a261270",
   "metadata": {},
   "outputs": [],
   "source": [
    "def constraint_matrix(nt, nf):\n",
    "    nparams = nt*nf + 2\n",
    "    A = np.zeros((nf, nparams))\n",
    "    for i in range(nf):\n",
    "        W = A[i, 2:].reshape((nt, nf))\n",
    "        W[:, i] = 1.\n",
    "    return A\n",
    "\n",
    "def inequality_constraint_functions(nt, nf, log10_mu_bounds=(-11, -7)):\n",
    "    \"\"\"\n",
    "     l < μW < u\n",
    "     l - μW < 0\n",
    "     μW - u < 0\n",
    "    \"\"\"\n",
    "    A = constraint_matrix(nt, nf)\n",
    "    lower, upper = 10**log10_mu_bounds[0], 10**log10_mu_bounds[1]\n",
    "    def func_l(result, x, grad):\n",
    "        mu = x[1]\n",
    "        M = lower - (mu *  A.dot(x))\n",
    "        for i in range(nf):\n",
    "            result[i] = M[i]\n",
    "    def func_u(result, x, grad):\n",
    "        mu = x[1]\n",
    "        M = (mu *  A.dot(x)) - upper\n",
    "        for i in range(nf):\n",
    "            result[i] = M[i]\n",
    "    return func_l, func_u\n",
    "\n",
    "def equality_constraint_function(nt, nf):\n",
    "    A = constraint_matrix(nt, nf)\n",
    "    def func(result, x, grad):\n",
    "        M = A.dot(x)\n",
    "        for i in range(nf):\n",
    "            result[i] = M[i] - 1.\n",
    "    return func"
   ]
  },
  {
   "cell_type": "markdown",
   "id": "d158f12c-667c-4cfb-9000-ff0b842b7eeb",
   "metadata": {},
   "source": [
    "## A simple NLOpt single run test"
   ]
  },
  {
   "cell_type": "code",
   "execution_count": null,
   "id": "d361053a-29d5-4aa3-a1e2-aaede9a24c88",
   "metadata": {},
   "outputs": [],
   "source": [
    "Y.shape, Bp.shape"
   ]
  },
  {
   "cell_type": "code",
   "execution_count": null,
   "id": "236417bf-f134-4102-90f5-e0e29a1d7000",
   "metadata": {},
   "outputs": [],
   "source": [
    "hl, hu = inequality_constraint_functions(nt, nf)\n",
    "ce = equality_constraint_function(nt, nf)\n",
    "\n",
    "# NOTE: we do not have a start-based test of these bounds\n",
    "# because it looks like SWIG's interface to NLOPT wraps this in a \n",
    "# weird way"
   ]
  },
  {
   "cell_type": "code",
   "execution_count": null,
   "id": "18b9569f-0623-4558-b6dd-43b2d8537019",
   "metadata": {},
   "outputs": [],
   "source": [
    "nparams = nt * nf + 2 # 1 for mutation rate, one for π0\n",
    "# specify the algorithm\n",
    "#opt = nlopt.opt(nlopt.LN_COBYLA, nparams)\n",
    "opt = nlopt.opt(nlopt.GN_ISRES, nparams)\n",
    "\n",
    "# create a closure around the data\n",
    "nll = negll_nlopt(Y, Bp, w)\n",
    "\n",
    "# set the objective\n",
    "opt.set_min_objective(nll) \n",
    "\n",
    "# specify tolerances and constraints\n",
    "tols = np.repeat(1e-11, nf)\n",
    "opt.add_inequality_mconstraint(hl, tols)\n",
    "opt.add_inequality_mconstraint(hu, tols)\n",
    "opt.add_equality_mconstraint(ce, tols)\n",
    "\n",
    "# set bounds\n",
    "lb, ub = bounds_simplex(nt, nf)\n",
    "opt.set_lower_bounds(lb)\n",
    "opt.set_upper_bounds(ub)"
   ]
  },
  {
   "cell_type": "code",
   "execution_count": null,
   "id": "9f8b02a2-33e7-4674-acb1-208f8291a1f3",
   "metadata": {
    "tags": []
   },
   "outputs": [],
   "source": [
    "%%time\n",
    "np.random.seed(1231)\n",
    "# stopping criteria:\n",
    "#opt.set_xtol_abs(np.array([1e-4, 1e-10] + [1e-04] * nt*nf))\n",
    "opt.set_xtol_rel(1e-3)\n",
    "#opt.set_ftol_abs(1e8)\n",
    "#opt.set_stopval(923543002497)\n",
    "opt.set_maxeval(10000000)\n",
    "\n",
    "# random start\n",
    "x = random_start_simplex(nt, nf)\n",
    "assert x.size == nparams\n",
    "\n",
    "# run\n",
    "res = opt.optimize(x)"
   ]
  },
  {
   "cell_type": "code",
   "execution_count": null,
   "id": "a51e7bec-98ac-4ba2-b62e-06afe0a7edec",
   "metadata": {},
   "outputs": [],
   "source": [
    "# mle theta, nll:\n",
    "res, opt.last_optimum_value(), opt.last_optimize_result()"
   ]
  },
  {
   "cell_type": "code",
   "execution_count": null,
   "id": "c682a020-7419-4055-9f58-56009db0f92b",
   "metadata": {},
   "outputs": [],
   "source": [
    "res[0], res[1], np.round(res[2:].reshape((nt, nf)), 2), opt.last_optimum_value()"
   ]
  },
  {
   "cell_type": "code",
   "execution_count": null,
   "id": "cef146bc-95ef-4bf9-abe3-9c3e2ce964f3",
   "metadata": {},
   "outputs": [],
   "source": [
    "opt.get_initial_step(x)"
   ]
  },
  {
   "cell_type": "markdown",
   "id": "adada4bd-430a-426d-b702-b84a88f6f259",
   "metadata": {},
   "source": [
    "## Exploratory ISRES Global Runs"
   ]
  },
  {
   "cell_type": "code",
   "execution_count": null,
   "id": "00c42bb4-8e05-4c68-a961-23bb4256e40b",
   "metadata": {},
   "outputs": [],
   "source": [
    "# this wraps the nloptimization call\n",
    "def nlopt_isres_worker(x, nt, nf):\n",
    "    nparams = nt*nf + 2\n",
    "    opt = nlopt.opt(nlopt.GN_ISRES, nparams)\n",
    "    #opt = nlopt.opt(nlopt.AUGLAG, nparams)\n",
    "    #opt.set_local_optimizer(nlopt.LN_COBYLA)\n",
    "    nll = negll_nlopt(Y, Bp, w)\n",
    "    opt.set_min_objective(nll) \n",
    "    hl, hu = inequality_constraint_functions(nt, nf)\n",
    "    tols = np.repeat(1e-11, nf)\n",
    "    opt.add_inequality_mconstraint(hl, tols)\n",
    "    opt.add_inequality_mconstraint(hu, tols)\n",
    "    ce = equality_constraint_function(nt, nf)\n",
    "    opt.add_equality_mconstraint(ce, tols)\n",
    "    lb, ub = bounds_simplex(nt, nf)\n",
    "    opt.set_lower_bounds(lb)\n",
    "    opt.set_upper_bounds(ub)\n",
    "    opt.set_xtol_rel(1e-3)\n",
    "    #opt.set_xtol_abs(1e-6)\n",
    "    #opt.set_stopval(923543002497)\n",
    "    opt.set_maxeval(1000000)\n",
    "    assert x.size == nparams\n",
    "    mle = opt.optimize(x)\n",
    "    nll = opt.last_optimum_value()\n",
    "    success = opt.last_optimize_result()\n",
    "    return nll, mle, success"
   ]
  },
  {
   "cell_type": "code",
   "execution_count": null,
   "id": "4eb817da-c362-4aaa-97cc-c6c994c4aa94",
   "metadata": {},
   "outputs": [],
   "source": [
    "%%time\n",
    "N = 100\n",
    "\n",
    "np.random.seed(0)\n",
    "worker = partial(nlopt_isres_worker, nt=nt, nf=nf)\n",
    "isres_run_res = run_nloptims(worker, partial(random_start_simplex, nt=nt, nf=nf), N)"
   ]
  },
  {
   "cell_type": "code",
   "execution_count": null,
   "id": "746dd66d-ddb7-4312-a52a-df8842252ae2",
   "metadata": {},
   "outputs": [],
   "source": [
    "best_theta = nloptim_summary(isres_run_res, nt, nf) # isres run"
   ]
  },
  {
   "cell_type": "code",
   "execution_count": null,
   "id": "5f43242d-b34d-418b-9f36-21d5be605587",
   "metadata": {},
   "outputs": [],
   "source": [
    "nloptim_summary(isres_run_res, nt, nf) # isres run"
   ]
  },
  {
   "cell_type": "code",
   "execution_count": null,
   "id": "19a5742d-d506-4600-9d7a-fdd09b8003e8",
   "metadata": {},
   "outputs": [],
   "source": [
    "nloptim_summary(isres_run_res, nt, nf) # isres run"
   ]
  },
  {
   "cell_type": "code",
   "execution_count": null,
   "id": "d46f2de0-c3d7-4beb-a2a3-64ab7cb9f2df",
   "metadata": {},
   "outputs": [],
   "source": [
    "nloptim_summary(isres_run_res, nt, nf) # isres run"
   ]
  },
  {
   "cell_type": "code",
   "execution_count": null,
   "id": "a866e0c0-4f5a-4714-b5db-75a5d693bda9",
   "metadata": {},
   "outputs": [],
   "source": [
    "optim_plot(global_run=isres_run_res)"
   ]
  },
  {
   "cell_type": "markdown",
   "id": "87eeff42-9329-4a8c-9fe7-11a1f0a47706",
   "metadata": {},
   "source": [
    "## Large Exploratory Multistart Local Runs"
   ]
  },
  {
   "cell_type": "code",
   "execution_count": null,
   "id": "e72012e6-5a5b-4314-a7bb-05fb7f36ec94",
   "metadata": {},
   "outputs": [],
   "source": [
    "\n",
    "# this wraps the nloptimization call\n",
    "def nlopt_worker(x, nt, nf):\n",
    "    nparams = nt*nf + 2\n",
    "    opt = nlopt.opt(nlopt.LN_COBYLA, nparams)\n",
    "    #opt = nlopt.opt(nlopt.AUGLAG, nparams)\n",
    "    #opt.set_local_optimizer(nlopt.LN_COBYLA)\n",
    "    nll = negll_nlopt(Y, Bp, w)\n",
    "    opt.set_min_objective(nll) \n",
    "    hl, hu = inequality_constraint_functions(nt, nf)\n",
    "    tols = np.repeat(1e-11, nf)\n",
    "    opt.add_inequality_mconstraint(hl, tols)\n",
    "    opt.add_inequality_mconstraint(hu, tols)\n",
    "    ce = equality_constraint_function(nt, nf)\n",
    "    opt.add_equality_mconstraint(ce, tols)\n",
    "    lb, ub = bounds_simplex(nt, nf)\n",
    "    opt.set_lower_bounds(lb)\n",
    "    opt.set_upper_bounds(ub)\n",
    "    #opt.set_xtol_abs(np.array([1e-4, 1e-17] + [1e-6] * nt*nf))\n",
    "    opt.set_xtol_rel(1e-1)\n",
    "    #opt.set_ftol_abs(1e-8)\n",
    "    opt.set_maxeval(100000)\n",
    "    assert x.size == nparams\n",
    "    mle = opt.optimize(x)\n",
    "    nll = opt.last_optimum_value()\n",
    "    success = opt.last_optimize_result()\n",
    "    return nll, mle, success"
   ]
  },
  {
   "cell_type": "code",
   "execution_count": null,
   "id": "5f30913f-ed90-45fb-aa0a-ca5616e778e8",
   "metadata": {
    "tags": []
   },
   "outputs": [],
   "source": [
    "%%time\n",
    "N = 1_000_000\n",
    "\n",
    "#def best(theta):\n",
    "#    return theta\n",
    "\n",
    "np.random.seed(1)\n",
    "worker = partial(nlopt_worker, nt=nt, nf=nf) \n",
    "#global_run_res = run_nloptims(worker, partial(best, theta=best_theta), N)\n",
    "global_run_res = run_nloptims(worker, partial(random_start_simplex, nt=nt, nf=nf), N)"
   ]
  },
  {
   "cell_type": "code",
   "execution_count": null,
   "id": "a054a459-bbe6-4e9d-82e7-fdb5aa18d4f7",
   "metadata": {},
   "outputs": [],
   "source": [
    "optim_plot(global_run=global_run_res, tail=0.01)"
   ]
  },
  {
   "cell_type": "code",
   "execution_count": null,
   "id": "0a394f22-304b-4437-b034-0338c49eca78",
   "metadata": {},
   "outputs": [],
   "source": [
    "best_theta = nloptim_summary(global_run_res, nt, nf, 0)"
   ]
  },
  {
   "cell_type": "markdown",
   "id": "5784f0cb-eb87-426e-a8b8-e400797939d9",
   "metadata": {},
   "source": [
    "## Fixing Mutation Rate"
   ]
  },
  {
   "cell_type": "code",
   "execution_count": null,
   "id": "0b878e94-d7d4-43a6-a1c5-51fdab5acec2",
   "metadata": {},
   "outputs": [],
   "source": [
    "constraint_matrix_fixedmu(nt, nf)[1, 1:].reshape((nt, nf))"
   ]
  },
  {
   "cell_type": "code",
   "execution_count": null,
   "id": "9f6dcf60-2c33-43d2-be1b-e5df8244ab5d",
   "metadata": {},
   "outputs": [],
   "source": [
    "def constraint_matrix_fixedmu(nt, nf):\n",
    "    nparams = nt*nf + 1\n",
    "    A = np.zeros((nf, nparams))\n",
    "    for i in range(nf):\n",
    "        W = A[i, 1:].reshape((nt, nf))\n",
    "        W[:, i] = 1.\n",
    "    return A\n",
    "\n",
    "def inequality_constraint_functions_fixedmu(nt, nf, mu):\n",
    "    \"\"\"\n",
    "     l < μ W < u\n",
    "     l - μ W < 0\n",
    "     μ W - u < 0\n",
    "    \"\"\"\n",
    "    A = constraint_matrix_fixedmu(nt, nf)\n",
    "    lower = 0\n",
    "    upper = 1\n",
    "    def func_l(result, x, grad):\n",
    "        M = lower - (mu *  A.dot(x))\n",
    "        for i in range(nf):\n",
    "            result[i] = M[i]\n",
    "    def func_u(result, x, grad):\n",
    "        M = (mu *  A.dot(x)) - upper\n",
    "        for i in range(nf):\n",
    "            result[i] = M[i]\n",
    "    return func_l, func_u\n",
    "\n",
    "def equality_constraint_function_fixedmu(nt, nf):\n",
    "    A = constraint_matrix_fixedmu(nt, nf)\n",
    "    def func(result, x, grad):\n",
    "        M = A.dot(x)\n",
    "        for i in range(nf):\n",
    "            result[i] = M[i] - 1.\n",
    "    return func\n",
    "\n",
    "\n",
    "def negll_fixedmu_nlopt(Y, B, w, mu):\n",
    "    # NLOPT needs to accept a grad argument\n",
    "    def func(x, grad):\n",
    "        theta = np.empty(x.size + 1)\n",
    "        theta[0] = x[0]\n",
    "        theta[1] = mu\n",
    "        theta[2:] = x[1:].flat\n",
    "        return negll_c(theta, Y, B, w)\n",
    "    return func\n",
    "\n",
    "def bounds_simplex_fixedmu(nt, nf, log10_pi0_bounds=(-4, -2),\n",
    "           paired=False):\n",
    "    l = [10**log10_pi0_bounds[0]]\n",
    "    u = [10**log10_pi0_bounds[1]]\n",
    "    l += [0.]*nf*nt\n",
    "    u += [1.]*nf*nt\n",
    "    lb = np.array(l)\n",
    "    ub = np.array(u)\n",
    "    assert np.all(lb < ub)\n",
    "    if paired:\n",
    "        return list(zip(lb, ub))\n",
    "    return lb, ub\n",
    "\n",
    "\n",
    "def nlopt_fixedmu_worker(x, nt, nf, mu):\n",
    "    nparams = nt*nf + 1\n",
    "    opt = nlopt.opt(nlopt.LN_COBYLA, nparams)\n",
    "    #opt = nlopt.opt(nlopt.AUGLAG, nparams)\n",
    "    #opt.set_local_optimizer(nlopt.LN_COBYLA)\n",
    "    nll = negll_fixedmu_nlopt(Y, Bp, w, mu)\n",
    "    opt.set_min_objective(nll) \n",
    "    hl, hu = inequality_constraint_functions_fixedmu(nt, nf, mu)\n",
    "    tols = np.repeat(1e-11, nf)\n",
    "    opt.add_inequality_mconstraint(hl, tols)\n",
    "    opt.add_inequality_mconstraint(hu, tols)\n",
    "    ce = equality_constraint_function_fixedmu(nt, nf)\n",
    "    opt.add_equality_mconstraint(ce, tols)\n",
    "    lb, ub = bounds_simplex_fixedmu(nt, nf)\n",
    "    opt.set_lower_bounds(lb)\n",
    "    opt.set_upper_bounds(ub)\n",
    "    #opt.set_xtol_abs(np.array([1e-4, 1e-17] + [1e-6] * nt*nf))\n",
    "    opt.set_xtol_rel(1e-1)\n",
    "    #opt.set_ftol_abs(1e-8)\n",
    "    opt.set_maxeval(100000)\n",
    "    assert x.size == nparams\n",
    "    mle = opt.optimize(x)\n",
    "    nll = opt.last_optimum_value()\n",
    "    success = opt.last_optimize_result()\n",
    "    return nll, mle, success\n",
    "\n",
    "def random_start_simplex_fixedmu(nt, nf, log10_pi0_bounds=(-4, -3)):\n",
    "    pi0 = 10**np.random.uniform(log10_pi0_bounds[0], log10_pi0_bounds[1], 1)\n",
    "    W = np.empty((nt, nf))\n",
    "    for i in range(nf):\n",
    "        W[:, i] = np.random.dirichlet([1.] * nt)\n",
    "        assert np.abs(W[:, i].sum() - 1.) < 1e-5\n",
    "    theta = np.empty(nt*nf + 1)\n",
    "    theta[0] = pi0\n",
    "    theta[1:] = W.flat\n",
    "    return theta"
   ]
  },
  {
   "cell_type": "code",
   "execution_count": null,
   "id": "6cc4007f-625b-448b-ae02-94d4e0cec085",
   "metadata": {},
   "outputs": [],
   "source": [
    "%%time\n",
    "N = 10_000\n",
    "\n",
    "np.random.seed(1)\n",
    "worker = partial(nlopt_fixedmu_worker, nt=nt, nf=nf, mu=1e-8) \n",
    "fixedmu_run_res = run_nloptims(worker, partial(random_start_simplex_fixedmu, nt=nt, nf=nf), N)"
   ]
  },
  {
   "cell_type": "code",
   "execution_count": null,
   "id": "7528ac88-c6de-4e02-83d4-d3afde8133a1",
   "metadata": {},
   "outputs": [],
   "source": [
    "nloptim_summary(fixedmu_run_res, nt, nf, 0)"
   ]
  },
  {
   "cell_type": "code",
   "execution_count": null,
   "id": "bbb9b593-1a43-43f6-857a-191516e1e440",
   "metadata": {},
   "outputs": [],
   "source": [
    "optim_plot(fixedmu=fixedmu_run_res, tail=0.01)"
   ]
  },
  {
   "cell_type": "code",
   "execution_count": null,
   "id": "aea1a8ff-a695-4cbe-87ec-ad81d58f6ae1",
   "metadata": {},
   "outputs": [],
   "source": [
    "plt.hist(global_run_res[1][np.argsort(global_run_res[0])[:10000]][:, 1])"
   ]
  },
  {
   "cell_type": "code",
   "execution_count": null,
   "id": "7b2ea135-2839-4399-bfa7-e2fa5601a136",
   "metadata": {},
   "outputs": [],
   "source": [
    "best = thetas[np.aargsort(nlls)[200]]\n",
    "\n",
    "N = 5_000_000\n",
    "\n",
    "#np.random.seed(1)\n",
    "worker = partial(nlopt_worker, nt=nt, nf=nf) \n",
    "global_run_res = run_nloptims(worker, partial(random_start_simplex, nt=nt, nf=nf), N)"
   ]
  },
  {
   "cell_type": "code",
   "execution_count": null,
   "id": "5128dfcf-7287-480a-b830-8883c5dbd63c",
   "metadata": {},
   "outputs": [],
   "source": [
    "optim_plot(global_run=global_run_res, tail=0.001)"
   ]
  },
  {
   "cell_type": "code",
   "execution_count": null,
   "id": "b6afeccf-8011-47a1-bda8-bfaa85766231",
   "metadata": {},
   "outputs": [],
   "source": [
    "best_theta = nloptim_summary(global_run_res, nt, nf) # 3rd run"
   ]
  },
  {
   "cell_type": "code",
   "execution_count": null,
   "id": "e8fcdec5-1541-4a5e-8f12-33b8bede5d76",
   "metadata": {
    "tags": []
   },
   "outputs": [],
   "source": [
    "best_theta = nloptim_summary(global_run_res, nt, nf) # 2nd run"
   ]
  },
  {
   "cell_type": "code",
   "execution_count": null,
   "id": "724a9803-4427-40b5-9683-33da3c12ea26",
   "metadata": {},
   "outputs": [],
   "source": [
    "best_theta = nloptim_summary(global_run_res, nt, nf) # first run"
   ]
  },
  {
   "cell_type": "code",
   "execution_count": null,
   "id": "2d8bdfa4-3c5e-49bc-934e-c42cbb240fe8",
   "metadata": {},
   "outputs": [],
   "source": [
    "bt = np.array([0.00195829561471389, 1.232386727173979e-08, 0.574 , 0.751,  0.906,\n",
    "          0.002 , 0.098,  0.074, 0.044,  0.029,  0.001, 0   ,   0.011 , 0.012,\n",
    "          0.381,  0.11,   0.008])\n",
    "          "
   ]
  },
  {
   "cell_type": "markdown",
   "id": "8cd8a591-c266-49f3-ac53-385e4f0154c0",
   "metadata": {},
   "source": [
    "### Experimental Perturbation Starts\n",
    "\n",
    "It could be an issue of choosing the right perturbation scale, but this looked like it didn't work. I think that this is more becausing finding the true MLE in this space is hard — there are lots of local optima that need to be explored."
   ]
  },
  {
   "cell_type": "code",
   "execution_count": null,
   "id": "edf9f025-b9a9-4e3e-893c-9cda41e39b70",
   "metadata": {},
   "outputs": [],
   "source": [
    "def trunc_normal(loc, scale, lower, upper):\n",
    "    a, b = (lower - loc) / scale, (upper - loc) / scale\n",
    "    return np.random.normal(loc, scale)\n",
    "    return truncnorm.rvs(a, b)\n",
    "\n",
    "def perturber(theta, log10_pi0_bounds=(-4, -3),\n",
    "            log10_mu_bounds=(-11, -7), pi0_scale=1e-6, \n",
    "            mu_scale=1e-12, dfe_scale=1e-04):\n",
    "    def func():\n",
    "        new_theta = np.copy(theta)\n",
    "        normal = truncnorm.rvs\n",
    "\n",
    "        new_theta[0] = trunc_normal(theta[0], pi0_scale, 10**log10_pi0_bounds[0], 10**log10_pi0_bounds[1])\n",
    "        new_theta[1] = trunc_normal(theta[1], mu_scale, 10**log10_mu_bounds[0], 10**log10_mu_bounds[1])\n",
    "        for i in range(2, theta.size):\n",
    "            w = theta[i]\n",
    "            new_theta[i] = trunc_normal(w, dfe_scale, 10**log10_mu_bounds[0]/w, 10**log10_mu_bounds[1]/w)\n",
    "        return new_theta\n",
    "    return func"
   ]
  },
  {
   "cell_type": "code",
   "execution_count": null,
   "id": "594de658-12fa-41da-87c1-fbdbef65c2d6",
   "metadata": {},
   "outputs": [],
   "source": [
    "perturb_starts = perturber(best_theta)\n",
    "run_res = run_nloptims(worker, perturb_starts, 4000)"
   ]
  },
  {
   "cell_type": "code",
   "execution_count": null,
   "id": "8306e2b1-ddc0-4b4a-b5e2-6ca003329634",
   "metadata": {},
   "outputs": [],
   "source": [
    "optim_plot(test=run_res, tail=0.6)"
   ]
  },
  {
   "cell_type": "markdown",
   "id": "9f6b3a86-1687-4e63-b26a-0319169dfd84",
   "metadata": {},
   "source": [
    "## Penalized Methods\n",
    "\n",
    "Some of the instability of convergence to the optimum is that the model cannot choose between weak or strong mutation (and visa versa for selection). \n",
    "\n",
    "We could put a prior on this mutation rate, since we have many other estimates. A recent paper (Tian, Browning, and Browning, 2019) estimated the mutation rate as $\\mu = 1.28 \\times 10^{-8}$ ($95\\%$ CI, $1.02 \\times 10^{-8}, 1.56 \\times 10^{-8}$)."
   ]
  },
  {
   "cell_type": "code",
   "execution_count": null,
   "id": "9e16ed75-5abd-4922-b1a0-8e642bce1385",
   "metadata": {},
   "outputs": [],
   "source": [
    "sigma"
   ]
  },
  {
   "cell_type": "code",
   "execution_count": null,
   "id": "41ff2abc-f1d8-4105-8064-812d17d330eb",
   "metadata": {},
   "outputs": [],
   "source": [
    "mean = 1.28e-8\n",
    "ci = [1.02e-8, 1.56e-8]\n",
    "\n",
    "def ci2params(mean, ci, alpha=0.05):\n",
    "    crit = stats.norm.ppf(1 - alpha/2)\n",
    "    sigma1 = (mean-ci[0])/crit\n",
    "    sigma2 = (ci[1]-mean)/crit\n",
    "    return mean, np.mean((sigma1, sigma2))\n",
    "\n",
    "mean, sigma = ci2params(mean, ci)\n",
    "\n",
    "z = np.linspace(mean - 2.5*sigma, mean + 2.5*sigma, 1000)\n",
    "y = stats.norm(mean, sigma).pdf(z)\n",
    "plt.plot(z, y)\n",
    "#plt.hist(stats.norm(mean, sigma).rvs(10000), 100, density=True)\n",
    "#plt.axvline(mean -sigma)\n",
    "plt.axvline(ci[0])\n",
    "plt.axvline(ci[1])"
   ]
  },
  {
   "cell_type": "code",
   "execution_count": null,
   "id": "721fe6c7-6ef1-4185-a5d2-9997acb239ea",
   "metadata": {},
   "outputs": [],
   "source": [
    "r = 1/(sigma / 1e3)**2\n",
    "\n",
    "r, -r * (mean - 4.6e-9)**2 / 2 / 1e11"
   ]
  },
  {
   "cell_type": "code",
   "execution_count": null,
   "id": "63de120e-3a50-4a12-9109-38772957da43",
   "metadata": {},
   "outputs": [],
   "source": [
    "(mean - 4.6e-9)**2"
   ]
  },
  {
   "cell_type": "code",
   "execution_count": null,
   "id": "bff2a049-417d-4e77-a7cd-a8c787cedbfd",
   "metadata": {},
   "outputs": [],
   "source": []
  },
  {
   "cell_type": "code",
   "execution_count": null,
   "id": "825feb6a-c4be-4c1c-bc2e-e39b159e92d0",
   "metadata": {},
   "outputs": [],
   "source": [
    "negll_c(best_theta, Y, B, w), penalized_negll_c(best_theta, Y, B, w, 1.23e-8, r = r)"
   ]
  },
  {
   "cell_type": "code",
   "execution_count": null,
   "id": "fee30887-6317-4da6-a0c8-8e9d2faaf4ca",
   "metadata": {},
   "outputs": [],
   "source": [
    "def penalized_negll_nlopt(Y, B, w, mu0, r):\n",
    "    # NLOPT needs to accept a grad argument\n",
    "    def func(x, grad):\n",
    "        return penalized_negll_c(x, Y, B, w, mu0, r)\n",
    "    return func\n",
    "\n",
    "\n",
    "def penalized_nlopt_worker(start, nt, nf, mu0, r):\n",
    "    nparams = nt*nf + 2\n",
    "    opt = nlopt.opt(nlopt.LN_COBYLA, nparams)\n",
    "    #opt = nlopt.opt(nlopt.LN_BOBYQA, nparams)    \n",
    "    #opt = nlopt.opt(nlopt.AUGLAG, nparams)\n",
    "    #opt.set_local_optimizer(nlopt.LN_COBYLA)\n",
    "    nll = penalized_negll_nlopt(Y, Bp, w, mu0=mu0, r=r)\n",
    "    opt.set_min_objective(nll) \n",
    "    hl, hu = inequality_constraint_functions(nt, nf)\n",
    "    tols = np.repeat(1e-11, nf)\n",
    "    opt.add_inequality_mconstraint(hl, tols)\n",
    "    opt.add_inequality_mconstraint(hu, tols)\n",
    "    ce = equality_constraint_function(nt, nf)\n",
    "    opt.add_equality_mconstraint(ce, tols)\n",
    "    lb, ub = bounds_simplex(nt, nf)\n",
    "    opt.set_lower_bounds(lb)\n",
    "    opt.set_upper_bounds(ub)\n",
    "    opt.set_xtol_abs(np.array([1e-4, 1e-10] + [1e-4] * nt*nf))\n",
    "    #opt.set_ftol_abs(1e8)\n",
    "    #opt.set_stopval(923543002497)\n",
    "    opt.set_maxeval(100000)\n",
    "    x = random_start_simplex(nt, nf)\n",
    "    assert x.size == nparams\n",
    "    mle = opt.optimize(x)\n",
    "    nll = opt.last_optimum_value()\n",
    "    success = opt.last_optimize_result()\n",
    "    return nll, mle, success\n",
    "\n",
    "N = 10_000\n",
    "\n",
    "np.random.seed(1)\n",
    "worker = partial(penalized_nlopt_worker, nt=nt, nf=nf, mu0=1.23e-8, r=0) \n",
    "#penalized_run_res = run_nloptims(worker, partial(random_start_simplex, nt=nt, nf=nf), N)"
   ]
  },
  {
   "cell_type": "code",
   "execution_count": null,
   "id": "b02366d0-9608-47e9-81d3-12de0f945337",
   "metadata": {},
   "outputs": [],
   "source": []
  },
  {
   "cell_type": "code",
   "execution_count": null,
   "id": "ada5bb27-aaef-4528-bac6-9aadb30b4d72",
   "metadata": {},
   "outputs": [],
   "source": [
    "worker(random_start_simplex(nt, nf))"
   ]
  },
  {
   "cell_type": "code",
   "execution_count": null,
   "id": "23085016-4309-40a8-a230-bbc00fd59515",
   "metadata": {},
   "outputs": [],
   "source": [
    "nloptim_summary(penalized_run_res, nt, nf)"
   ]
  },
  {
   "cell_type": "code",
   "execution_count": null,
   "id": "a4bb45d2-e204-424d-820e-f43e26e21bd9",
   "metadata": {},
   "outputs": [],
   "source": [
    "optim_plot(penalized_run=penalized_run_res)"
   ]
  },
  {
   "cell_type": "code",
   "execution_count": null,
   "id": "2798f79e-180c-4f86-aa5b-3df050673f3e",
   "metadata": {},
   "outputs": [],
   "source": [
    "optim_plot(penalized_run=penalized_run_res, tail=0.01)"
   ]
  },
  {
   "cell_type": "code",
   "execution_count": null,
   "id": "a9c58188-553b-4516-ab03-08774fffba41",
   "metadata": {},
   "outputs": [],
   "source": [
    "pbr = nloptim_summary(penalized_run_res, nt, nf)"
   ]
  },
  {
   "cell_type": "code",
   "execution_count": null,
   "id": "543b79e1-408b-4e88-a3cf-7c6bb37ab29a",
   "metadata": {},
   "outputs": [],
   "source": [
    "pbr = nloptim_summary(penalized_run_res, nt, nf)"
   ]
  },
  {
   "cell_type": "code",
   "execution_count": null,
   "id": "4e2da6aa-3ffb-48b6-bc44-f4e58fc97372",
   "metadata": {},
   "outputs": [],
   "source": [
    "nloptim_summary(penalized_run_res, nt, nf)"
   ]
  },
  {
   "cell_type": "markdown",
   "id": "66f03442-0351-4194-aca9-639da74f0641",
   "metadata": {},
   "source": [
    "## LIPO Optimization"
   ]
  },
  {
   "cell_type": "code",
   "execution_count": null,
   "id": "344aaa37-6346-444d-a9b1-45c1eed902a8",
   "metadata": {},
   "outputs": [],
   "source": [
    "from lipo import GlobalOptimizer"
   ]
  },
  {
   "cell_type": "code",
   "execution_count": null,
   "id": "fd1b0600-9bc6-4cd1-952e-123fc04031ff",
   "metadata": {},
   "outputs": [],
   "source": [
    "params = ['pi0'] + [f\"w{i}\" for i in range(nt*nf)]"
   ]
  },
  {
   "cell_type": "code",
   "execution_count": null,
   "id": "6a489812-ec15-4785-945f-666d6eb91cb6",
   "metadata": {},
   "outputs": [],
   "source": [
    "glb, gub = [dict(zip(params, x.tolist())) for x in bounds_mutation(nf, nt)]"
   ]
  },
  {
   "cell_type": "code",
   "execution_count": null,
   "id": "a4bebaa6-6115-4625-8a64-584f01c46fcb",
   "metadata": {},
   "outputs": [],
   "source": [
    "glb"
   ]
  },
  {
   "cell_type": "code",
   "execution_count": null,
   "id": "a30342ec-22e7-4be8-b586-ace8240a0100",
   "metadata": {},
   "outputs": [],
   "source": [
    "for l in [f\"w{i}\" for i in range(nt*nf)]:\n",
    "    print(l + \", \", end='')"
   ]
  },
  {
   "cell_type": "code",
   "execution_count": null,
   "id": "ce52b578-426e-4c04-b063-1e042c8b1da4",
   "metadata": {},
   "outputs": [],
   "source": [
    "def negll_freemut_alt(Y, B, w):\n",
    "    def func(pi0, w0, w1, w2, w3, w4, w5, w6, w7, w8, w9, w10, w11, w12, w13, w14):\n",
    "        new_theta = np.zeros(17)\n",
    "        new_theta[0] = pi0\n",
    "        # fix mutation rate to one and let W represent mutation rates to various classes\n",
    "        new_theta[1] = 1.\n",
    "        new_theta[2:] = [w0, w1, w2, w3, w4, w5, w6, w7, w8, w9, w10, w11, w12, w13, w14] # times mutation rates        \n",
    "        return negll_c(new_theta, Y, B, w)\n",
    "    return func\n",
    "\n",
    "nllBp = negll_freemut_alt(Y, Bp, w)\n",
    "nllB = negll_freemut_alt(Y, B, w)"
   ]
  },
  {
   "cell_type": "code",
   "execution_count": null,
   "id": "884e63fa-46b1-41bf-a5df-9de4142bc929",
   "metadata": {},
   "outputs": [],
   "source": [
    "evaluations"
   ]
  },
  {
   "cell_type": "code",
   "execution_count": null,
   "id": "bbc6b4a8-2dce-4ba0-b625-05869a80edf0",
   "metadata": {},
   "outputs": [],
   "source": [
    "pre_eval_x = dict(zip(params, random_start_mutation(nt, nf).tolist()))\n",
    "evaluations = [(pre_eval_x, nllBp(**pre_eval_x))]\n",
    "\n",
    "search = GlobalOptimizer(\n",
    "    nllBp,\n",
    "    lower_bounds=glb,\n",
    "    upper_bounds=gub,\n",
    "    #categories={\"z\": [\"a\", \"b\"]},\n",
    "    evaluations=evaluations,\n",
    "    maximize=False,\n",
    ")\n",
    "\n",
    "num_function_calls = 10000\n",
    "search.run(num_function_calls)"
   ]
  },
  {
   "cell_type": "code",
   "execution_count": null,
   "id": "5bf9fa80-a54b-4a03-8729-27ea666f2a01",
   "metadata": {},
   "outputs": [],
   "source": [
    "search.optimum"
   ]
  },
  {
   "cell_type": "markdown",
   "id": "361279f1-14d1-42df-b400-c3a3304456fc",
   "metadata": {},
   "source": [
    "## Likelihood Diagnostics"
   ]
  },
  {
   "cell_type": "code",
   "execution_count": null,
   "id": "45e47265-bf5c-411e-8c53-1ab6e9965a82",
   "metadata": {},
   "outputs": [],
   "source": [
    "Y"
   ]
  },
  {
   "cell_type": "code",
   "execution_count": null,
   "id": "43f9264f-5347-49f6-82ef-2dbb89c75544",
   "metadata": {},
   "outputs": [],
   "source": [
    "plt.plot(np.arange(Y.shape[0]), Y[:, 1])"
   ]
  },
  {
   "cell_type": "code",
   "execution_count": null,
   "id": "53909833-a06f-40f0-a57d-0f938efa3c32",
   "metadata": {},
   "outputs": [],
   "source": [
    "from bgspy.likelihood import predict_simplex\n",
    "pi = predict_simplex(best_theta, B, w)\n",
    "\n",
    "N = Y.sum(axis=1)\n",
    "\n",
    "x = Y[:, 0] / (Y.sum(axis=1))\n",
    "plt.plot(stats.norm(loc=N*pi, scale=N*pi*(1-pi)).logpdf(x))\n",
    "#plt.ylim(-0.2e2, 0)"
   ]
  },
  {
   "cell_type": "code",
   "execution_count": null,
   "id": "9e9affcb-ae93-4859-b01a-396c826d53e7",
   "metadata": {},
   "outputs": [],
   "source": [
    "from bgspy.likelihood import predict_simplex\n",
    "pi = predict_simplex(best_theta, B, w)\n",
    "\n",
    "N = Y.sum(axis=1)\n",
    "\n",
    "x = Y[:, 1] / (Y.sum(axis=1))\n",
    "y = stats.norm(loc=N*pi, scale=N*pi*(1-pi)).logpdf(x)\n",
    "plt.plot(y)\n",
    "plt.ylim(-0.2e2, 0)"
   ]
  },
  {
   "cell_type": "code",
   "execution_count": null,
   "id": "c9a90f20-88da-44be-a3e8-769f89ac2362",
   "metadata": {},
   "outputs": [],
   "source": [
    "_ = plt.hist(x, 200, density=True)"
   ]
  },
  {
   "cell_type": "code",
   "execution_count": null,
   "id": "7619cd73-2012-47c2-a6c2-4fba0c5ffc2a",
   "metadata": {},
   "outputs": [],
   "source": [
    "_ = plt.hist(x, 100, density=True)\n",
    "z = np.linspace(0.0001, 0.008, 100)\n",
    "# trimmed mean\n",
    "alpha = 0.05\n",
    "idx = (np.nanquantile(x, alpha/2) < x) & (np.nanquantile(x, 1-alpha/2) > x)\n",
    "xt = x[idx]\n",
    "plt.plot(z, stats.norm(loc=np.nanmean(xt), scale=np.nanstd(xt)).pdf(z), c='r')\n",
    "plt.plot(z, stats.binom(p=np.nanmean(xt), n=N.mean()).pmf(z), c='g')"
   ]
  },
  {
   "cell_type": "code",
   "execution_count": null,
   "id": "eff9ca25-8115-47e5-a6d2-333c3429aaff",
   "metadata": {},
   "outputs": [],
   "source": [
    "N.mean()"
   ]
  },
  {
   "cell_type": "code",
   "execution_count": null,
   "id": "06a20ffc-667e-4bfc-9330-d3095929c867",
   "metadata": {},
   "outputs": [],
   "source": [
    "xx = x[~np.isnan(x)]\n",
    "plt.plot(standardize(xx))"
   ]
  },
  {
   "cell_type": "code",
   "execution_count": null,
   "id": "466618d4-12ea-48d4-96b4-583fd5ee427c",
   "metadata": {},
   "outputs": [],
   "source": [
    "import seaborn as sns\n",
    "sns.kdeplot(x=xx[:-1:1], y=xx[1::1], fill=True,levels=100, cmap=\"mako\")\n",
    "plt.ylim(0.0005, 0.003)\n",
    "plt.xlim(0.0005, 0.003)"
   ]
  },
  {
   "cell_type": "code",
   "execution_count": null,
   "id": "d443d19b-71cc-476c-a72c-36c056687939",
   "metadata": {},
   "outputs": [],
   "source": [
    "def standardize(x):\n",
    "    return (x - np.nanmean(x)) / (np.nanstd(x))\n",
    "\n",
    "_ = plt.hist(standardize(x), 100, density=True)\n",
    "#z = np.linspace(0.0001, 0.008, 100)\n",
    "# trimmed mean\n",
    "#xt = x[(np.nanquantile(x, 0.01) < x) & (np.nanquantile(x, 0.99) > x)]\n",
    "#plt.plot(z, stats.norm(loc=np.nanmean(xt), scale=np.nanstd(xt)).pdf(z), c='r')"
   ]
  },
  {
   "cell_type": "code",
   "execution_count": null,
   "id": "b8c881c4-bf42-4e5a-ac18-a8ac247694a5",
   "metadata": {},
   "outputs": [],
   "source": [
    "import scipy"
   ]
  },
  {
   "cell_type": "code",
   "execution_count": null,
   "id": "50d06bbb-141e-44fa-aac7-392169375a39",
   "metadata": {},
   "outputs": [],
   "source": [
    "\n",
    "# Define the exponentiated quadratic \n",
    "def exponentiated_quadratic(xa, xb):\n",
    "    \"\"\"Exponentiated quadratic  with σ=1\"\"\"\n",
    "    # L2 distance (Squared Euclidian)\n",
    "    sq_norm = -0.5 * ~(xa, xb, 'sqeuclidean')\n",
    "    return np.exp(sq_norm)\n",
    "\n",
    "def GP(X1, y1, X2, kernel_func):\n",
    "    \"\"\"\n",
    "    Calculate the posterior mean and covariance matrix for y2\n",
    "    based on the corresponding input X2, the observations (y1, X1), \n",
    "    and the prior kernel function.\n",
    "    \"\"\"\n",
    "    # Kernel of the observations\n",
    "    Σ11 = kernel_func(X1, X1)\n",
    "    # Kernel of observations vs to-predict\n",
    "    Σ12 = kernel_func(X1, X2)\n",
    "    # Solve\n",
    "    solved = scipy.linalg.solve(Σ11, Σ12, assume_a='pos').T\n",
    "    # Compute posterior mean\n",
    "    μ2 = solved @ y1\n",
    "    # Compute the posterior covariance\n",
    "    Σ22 = kernel_func(X2, X2)\n",
    "    Σ2 = Σ22 - (solved @ Σ12)\n",
    "    return μ2, Σ2  # mean, covariance"
   ]
  },
  {
   "cell_type": "code",
   "execution_count": null,
   "id": "7ab83b2e-55e7-4c65-a59c-952aab111b09",
   "metadata": {},
   "outputs": [],
   "source": [
    "S11 = exponentiated_quadratic(yy[:, None], yy[:, None])"
   ]
  },
  {
   "cell_type": "code",
   "execution_count": null,
   "id": "9131620c-1ce1-46e9-b930-ee821fe9789e",
   "metadata": {},
   "outputs": [],
   "source": [
    "S11.sum()"
   ]
  },
  {
   "cell_type": "code",
   "execution_count": null,
   "id": "e40b031a-a9f5-46d3-9201-0cfb1b3cb2b6",
   "metadata": {},
   "outputs": [],
   "source": [
    "X1 = X2 = np.arange(yy.size)[:, None]\n",
    "y1 = yy\n",
    "\n",
    "X2 = np.random.uniform(0, yy.size, 1000)[:, None]\n",
    "mean, Sigma = GP(X1, y1, X2, exponentiated_quadratic)"
   ]
  },
  {
   "cell_type": "code",
   "execution_count": null,
   "id": "c1a82e11-80e2-4db2-8201-571e26173be9",
   "metadata": {},
   "outputs": [],
   "source": [
    "y2 = np.random.multivariate_normal(mean=mean, cov=Sigma, size=yy.size)\n"
   ]
  },
  {
   "cell_type": "code",
   "execution_count": null,
   "id": "bb357cd0-92eb-4f93-9856-18ab459b6a49",
   "metadata": {},
   "outputs": [],
   "source": [
    "yy.size"
   ]
  },
  {
   "cell_type": "code",
   "execution_count": null,
   "id": "bff09579-0252-4651-a34b-625b7adfe8da",
   "metadata": {},
   "outputs": [],
   "source": [
    "y2.shape"
   ]
  },
  {
   "cell_type": "code",
   "execution_count": null,
   "id": "6175af1f-8996-4bc7-8741-757e7c1e64a9",
   "metadata": {},
   "outputs": [],
   "source": [
    "plt.plot(y2[0, :])\n",
    "plt.plot(y2[10, :], linestyle='dashed')\n",
    "plt.ylim(-0.2e2, -10)\n",
    "#plt.xlim(1000, 1500)"
   ]
  },
  {
   "cell_type": "code",
   "execution_count": null,
   "id": "76831f32-0da1-445a-88f8-2c900f0dccb5",
   "metadata": {},
   "outputs": [],
   "source": [
    "from jax import jacfwd, jacrev\n",
    "import jax.numpy as jnp\n",
    "#from jax.config import config\n",
    "#config.update(\"jax_enable_x64\", True)"
   ]
  },
  {
   "cell_type": "code",
   "execution_count": null,
   "id": "7786672c-b30d-4e72-a3cf-a96f58d43dac",
   "metadata": {},
   "outputs": [],
   "source": [
    "def ll_jax(theta, Y, logB, w):\n",
    "    nS = Y[:, 0]\n",
    "    nD = Y[:, 1]\n",
    "    nx, nw, nt, nf = logB.shape\n",
    "    # mut weight params\n",
    "    pi0, mu, W = theta[0], theta[1], theta[2:]\n",
    "    W = W.reshape((nt, nf))\n",
    "    # interpolate B(w)'s\n",
    "    logBw = jnp.zeros(nx, dtype=jnp.float32)\n",
    "    for i in range(nx):\n",
    "        for j in range(nt):\n",
    "            for k in range(nf):\n",
    "                logBw = logBw.at[i].add(jnp.interp(mu*W[j, k], w, logB[i, :, j, k]))\n",
    "    log_pibar = jnp.log(pi0) + logBw\n",
    "    llm = nD*log_pibar + nS*jnp.log1p(-jnp.exp(log_pibar))\n",
    "    return jnp.sum(llm)\n",
    "\n",
    "def reduce_theta(theta, nt, nf):\n",
    "    pi0, mu, W = theta[0], theta[1], theta[2:]\n",
    "    W = W.reshape((nt, nf))\n",
    "    new_theta = np.empty((nt-1)*nf + 2)\n",
    "    new_theta[0] = theta[0]\n",
    "    new_theta[1] = theta[1]\n",
    "    new_theta[2:] = W[1:, :].flat\n",
    "    return new_theta"
   ]
  },
  {
   "cell_type": "code",
   "execution_count": null,
   "id": "64f8c502-9e63-4913-b3be-1d56307f812a",
   "metadata": {},
   "outputs": [],
   "source": [
    "reduce_theta(best_theta, nt, nf)[2:].reshape((nt-1, nf))"
   ]
  },
  {
   "cell_type": "code",
   "execution_count": null,
   "id": "7e212c3d-5762-4b58-ac73-7e8483dbda16",
   "metadata": {},
   "outputs": [],
   "source": [
    "func = partial(ll_jax, Y=Y, logB=B, w=w)"
   ]
  },
  {
   "cell_type": "code",
   "execution_count": null,
   "id": "f487540c-fb12-4080-9bc2-c31cca40d570",
   "metadata": {},
   "outputs": [],
   "source": [
    "pbr[2:].reshape((nt, nf))"
   ]
  },
  {
   "cell_type": "code",
   "execution_count": null,
   "id": "fba1132e-f1ac-49d5-b731-f1ce5c37edb0",
   "metadata": {},
   "outputs": [],
   "source": [
    "def hessian(f):\n",
    "    return jacfwd(jacrev(f))\n",
    "H = hessian(func)(pbr)"
   ]
  },
  {
   "cell_type": "code",
   "execution_count": null,
   "id": "1b25f72f-4581-4edc-bae9-6e184e0f2a6c",
   "metadata": {},
   "outputs": [],
   "source": [
    "np.linalg.inv(H)"
   ]
  },
  {
   "cell_type": "code",
   "execution_count": null,
   "id": "3c633691-5a10-4436-8513-a6587eee675e",
   "metadata": {},
   "outputs": [],
   "source": [
    "np.linalg.det(H)"
   ]
  },
  {
   "cell_type": "code",
   "execution_count": null,
   "id": "d8dda5f9-f695-4f59-875d-79d71ca6e84d",
   "metadata": {},
   "outputs": [],
   "source": [
    "np.diag(H), np.trace(H)"
   ]
  },
  {
   "cell_type": "code",
   "execution_count": null,
   "id": "a73f3cad-ef50-43d8-825f-c29dc95f40b4",
   "metadata": {},
   "outputs": [],
   "source": [
    "np.linalg.eigvals(H)"
   ]
  },
  {
   "cell_type": "code",
   "execution_count": null,
   "id": "777f2a2d-b7af-41ed-ab34-e100bb85524f",
   "metadata": {},
   "outputs": [],
   "source": [
    "H"
   ]
  },
  {
   "cell_type": "code",
   "execution_count": null,
   "id": "8de9f00f-17ca-4dc1-a4b3-764345eea8c3",
   "metadata": {},
   "outputs": [],
   "source": [
    "h = np.copy(H)"
   ]
  },
  {
   "cell_type": "code",
   "execution_count": null,
   "id": "305a1e73-d49d-43ef-95c1-e47aadcccd63",
   "metadata": {},
   "outputs": [],
   "source": [
    "h[1,1] = np.nan\n",
    "plt.imshow(h[2:, 2:])"
   ]
  },
  {
   "cell_type": "code",
   "execution_count": null,
   "id": "b07c4958-d197-40e2-aa29-6c7f10f579ad",
   "metadata": {},
   "outputs": [],
   "source": [
    "h"
   ]
  },
  {
   "cell_type": "code",
   "execution_count": null,
   "id": "5dfb01da-9b1f-4a10-8e14-8cf36d6ce88e",
   "metadata": {},
   "outputs": [],
   "source": [
    "best_theta"
   ]
  },
  {
   "cell_type": "code",
   "execution_count": null,
   "id": "3e5ef9a8-aba4-40fe-a2d7-f4806c6fe325",
   "metadata": {},
   "outputs": [],
   "source": [
    "H[0, 0]"
   ]
  },
  {
   "cell_type": "code",
   "execution_count": null,
   "id": "4cc9cb50-f624-4f0e-90b5-3f8a80065ee5",
   "metadata": {},
   "outputs": [],
   "source": [
    "np.linalg.det(H[:2, :2])"
   ]
  },
  {
   "cell_type": "code",
   "execution_count": null,
   "id": "de66ca3e-b2f7-4dac-ba45-85ff39780434",
   "metadata": {},
   "outputs": [],
   "source": [
    "H"
   ]
  },
  {
   "cell_type": "code",
   "execution_count": null,
   "id": "1347a5b7-f61e-4a8b-bade-8081d88dfaa3",
   "metadata": {},
   "outputs": [],
   "source": [
    "np.linalg.inv(H)"
   ]
  },
  {
   "cell_type": "code",
   "execution_count": null,
   "id": "e3520b73-3eda-45bd-82a2-b3a68df240a4",
   "metadata": {},
   "outputs": [],
   "source": []
  }
 ],
 "metadata": {
  "kernelspec": {
   "display_name": "Python 3 (ipykernel)",
   "language": "python",
   "name": "python3"
  },
  "language_info": {
   "codemirror_mode": {
    "name": "ipython",
    "version": 3
   },
   "file_extension": ".py",
   "mimetype": "text/x-python",
   "name": "python",
   "nbconvert_exporter": "python",
   "pygments_lexer": "ipython3",
   "version": "3.8.12"
  }
 },
 "nbformat": 4,
 "nbformat_minor": 5
}
