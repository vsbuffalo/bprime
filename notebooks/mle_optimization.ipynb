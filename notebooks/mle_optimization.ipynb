{
 "cells": [
  {
   "cell_type": "code",
   "execution_count": 1,
   "id": "17014505-6fd5-4554-b5d9-02a7dbbe5506",
   "metadata": {},
   "outputs": [],
   "source": [
    "%load_ext autoreload\n",
    "%autoreload 2  \n",
    "%reload_ext autoreload"
   ]
  },
  {
   "cell_type": "code",
   "execution_count": 2,
   "id": "95b3e305-9260-4418-900d-76c064b8775c",
   "metadata": {},
   "outputs": [],
   "source": [
    "import numpy as np\n",
    "import pickle\n",
    "from tabulate import tabulate\n",
    "from functools import partial\n",
    "import ctypes\n",
    "from scipy.optimize import minimize, LinearConstraint, dual_annealing, Bounds, NonlinearConstraint\n",
    "from scipy.stats import truncnorm\n",
    "import scipy.stats as stats\n",
    "from scipy.stats.qmc import Sobol, Halton\n",
    "import matplotlib.pyplot as plt\n",
    "import matplotlib as mpl\n",
    "import nlopt \n",
    "import multiprocessing, tqdm\n",
    "from bgspy.likelihood import FreeMutationModel\n",
    "from bgspy.data import pi_from_pairwise_summaries\n",
    "from bgspy.optim import optim_plot"
   ]
  },
  {
   "cell_type": "code",
   "execution_count": 3,
   "id": "a2befba6-7beb-4934-a09b-6fb3576a1789",
   "metadata": {},
   "outputs": [],
   "source": [
    "plt.rcParams['figure.figsize'] = [8, 4]\n",
    "plt.rcParams['figure.dpi'] = 200\n",
    "plt.style.use('./buffalo.mplstyle')"
   ]
  },
  {
   "cell_type": "markdown",
   "id": "0a57e264-54d6-48fb-9ed8-345b8436d666",
   "metadata": {},
   "source": [
    "# Fitting and Testing Optimization Procedures"
   ]
  },
  {
   "cell_type": "markdown",
   "id": "811d79df-4da4-4c64-87b9-e98846d44dfe",
   "metadata": {},
   "source": [
    "Note that we often have to define specific fitting functions and run those — annoyingly when using Python's multiprocessing module, there's an issue where closures (functions that define functions around values) do not pickle and thus cannot be shipped off to other cores safely. So each test relies on a custom test function."
   ]
  },
  {
   "cell_type": "markdown",
   "id": "db13c567-5f35-42d3-a055-c1a62f577ef9",
   "metadata": {},
   "source": [
    "## Load data and define some functions"
   ]
  },
  {
   "cell_type": "code",
   "execution_count": 4,
   "id": "57902eed-e7a3-4607-8102-8d5deddfe3f1",
   "metadata": {},
   "outputs": [],
   "source": [
    "dat = pickle.load(open('../tests/likelihood_test_data.pkl', 'rb'))\n",
    "B, Bp, Y, w, t = dat['B'], dat['Bp'], dat['Y'], dat['w'], dat['t']\n",
    "\n",
    "bins = dat['bins']\n",
    "\n",
    "nx, nw, nt, nf = B.shape\n",
    "nparams = nt * nf + 2\n",
    "\n",
    "assert nx == Y.shape[0]"
   ]
  },
  {
   "cell_type": "code",
   "execution_count": 5,
   "id": "b44aa4b7-70bf-4eef-b6ee-57ee3023f250",
   "metadata": {},
   "outputs": [
    {
     "data": {
      "text/plain": [
       "(2794, 6, 5, 2)"
      ]
     },
     "execution_count": 5,
     "metadata": {},
     "output_type": "execute_result"
    }
   ],
   "source": [
    "B.shape"
   ]
  },
  {
   "cell_type": "code",
   "execution_count": 6,
   "id": "327c9b2d-50a4-4629-8de5-47b523f07ec3",
   "metadata": {},
   "outputs": [],
   "source": [
    "assert Bp.shape[0] == Y.shape[0]\n",
    "assert B.shape[0] == Y.shape[0]"
   ]
  },
  {
   "cell_type": "code",
   "execution_count": 7,
   "id": "78179b3c-d570-4d4a-b80e-2bec17a13b17",
   "metadata": {},
   "outputs": [
    {
     "data": {
      "text/plain": [
       "(array([ 44., 146., 344., 674., 740., 448., 241., 105.,  32.,  20.]),\n",
       " array([0.00045229, 0.00064934, 0.00084639, 0.00104344, 0.00124049,\n",
       "        0.00143754, 0.00163459, 0.00183164, 0.00202869, 0.00222574,\n",
       "        0.00242279]),\n",
       " <BarContainer object of 10 artists>)"
      ]
     },
     "execution_count": 7,
     "metadata": {},
     "output_type": "execute_result"
    },
    {
     "name": "stderr",
     "output_type": "stream",
     "text": [
      "findfont: Font family ['sans-serif'] not found. Falling back to DejaVu Sans.\n",
      "findfont: Generic family 'sans-serif' not found because none of the following families were found: Helvetica, Arial\n"
     ]
    },
    {
     "data": {
      "image/png": "[encoded data removed]",
      "text/plain": [
       "<Figure size 1600x800 with 1 Axes>"
      ]
     },
     "metadata": {
      "needs_background": "light"
     },
     "output_type": "display_data"
    }
   ],
   "source": [
    "plt.hist(pi_from_pairwise_summaries(Y))"
   ]
  },
  {
   "cell_type": "code",
   "execution_count": 8,
   "id": "b4436005-79ad-4be8-825d-4afecea597da",
   "metadata": {},
   "outputs": [],
   "source": [
    "def negll_freemut(Y, B, w):\n",
    "    def func(theta):\n",
    "        new_theta = np.full(theta.size + 1, np.nan)\n",
    "        theta = np.copy(theta)\n",
    "        new_theta[0] = theta[0]\n",
    "        # fix mutation rate to one and let W represent mutation rates to various classes\n",
    "        new_theta[1] = 1.\n",
    "        new_theta[2:] = theta[1:] # times mutation rates\n",
    "        #print(\"-->\", theta, new_theta)\n",
    "        return negll_c(new_theta, Y, B, w)\n",
    "    return func\n",
    "\n",
    "def run_optims(workerfunc, startfunc, nstarts, ncores = 50):\n",
    "    starts = [startfunc() for _ in range(nstarts)]\n",
    "    #import pdb; pdb.set_trace()\n",
    "    with multiprocessing.Pool(ncores) as p:\n",
    "        res = list(tqdm.tqdm(p.imap(workerfunc, starts), total=nstarts))\n",
    "        #res = list(p.imap(workerfunc, starts))\n",
    "    nlls = np.array([x.fun for x in res])\n",
    "    thetas = np.array([x.x for x in res])\n",
    "    success = np.array([x.success for x in res])\n",
    "    return nlls, thetas, success, starts\n",
    "\n",
    "def freemut_to_dfe(theta, nt, nf):\n",
    "    assert nt*nf + 1 == theta.size\n",
    "    M = theta[1:].reshape((nt, nf))\n",
    "    muts = M.sum(axis=0)\n",
    "    W = M / muts\n",
    "    np.testing.assert_almost_equal(W.sum(axis=0), np.repeat(1., nf))\n",
    "    return W, muts\n"
   ]
  },
  {
   "cell_type": "code",
   "execution_count": 25,
   "id": "3d29663a-720b-434a-82c2-f9bda361fd82",
   "metadata": {},
   "outputs": [
    {
     "name": "stderr",
     "output_type": "stream",
     "text": [
      "100%|█████████████████████████████████████████████████████████████████████████████████████████████████████████████████████████████████████████████████████████████████████████████████████████████████████████████████████████████████████| 10000/10000 [05:12<00:00, 32.05it/s]\n"
     ]
    }
   ],
   "source": [
    "from bgspy.likelihood import negll_freemut, random_start_mutation, bounds_mutation\n",
    "\n",
    "\n",
    "nllB = negll_freemut(Y, B, w)\n",
    "nllBp = negll_freemut(Y, Bp, w)\n",
    "\n",
    "def worker_Bp_full(start):\n",
    "    return minimize(nllBp, x0=start, bounds=bounds_mutation(nt, nf, paired=True), options={'eps':1e-9}, method='L-BFGS-B')\n",
    "\n",
    "def worker_B_full(start):\n",
    "    return minimize(nllB, x0=start, bounds=bounds_mutation(nt, nf, paired=True), method='L-BFGS-B')\n",
    "\n",
    "np.random.seed(1)\n",
    "#resB = run_optims(worker_Bp_full, partial(random_start_mutation, nt, nf), 10_000)\n",
    "resBp = run_optims(worker_Bp_full, partial(random_start_mutation, nt, nf), 10_000)"
   ]
  },
  {
   "cell_type": "code",
   "execution_count": 9,
   "id": "db0f50ad-605c-4c6a-8043-8203c2b8c48a",
   "metadata": {},
   "outputs": [
    {
     "data": {
      "text/plain": [
       "((2794, 2), (2794, 6, 5, 3))"
      ]
     },
     "execution_count": 9,
     "metadata": {},
     "output_type": "execute_result"
    }
   ],
   "source": [
    "Y.shape, Bp.shape"
   ]
  },
  {
   "cell_type": "code",
   "execution_count": 26,
   "id": "d4eb42da-307a-49a7-aa08-6b1af5193511",
   "metadata": {},
   "outputs": [
    {
     "data": {
      "text/plain": [
       "((array([[8.96452923e-01, 2.41719127e-02],\n",
       "         [2.58867692e-02, 5.49272967e-02],\n",
       "         [2.58867692e-02, 6.76921883e-02],\n",
       "         [2.58867692e-02, 1.57953460e-04],\n",
       "         [2.58867692e-02, 8.53050649e-01]]),\n",
       "  array([3.86297723e-10, 6.33097875e-08])),\n",
       " 1005698814485.9382)"
      ]
     },
     "execution_count": 26,
     "metadata": {},
     "output_type": "execute_result"
    }
   ],
   "source": [
    "freemut_to_dfe(resBp[1][np.argmin(resBp[0])], nt, nf), resBp[0][np.argmin(resBp[0])]"
   ]
  },
  {
   "cell_type": "code",
   "execution_count": 11,
   "id": "24209046-8075-44bb-bf42-c545ca5a5390",
   "metadata": {},
   "outputs": [
    {
     "data": {
      "text/plain": [
       "((array([[0.71393028, 0.59149479, 0.42074747],\n",
       "         [0.10928823, 0.00137168, 0.15585612],\n",
       "         [0.0680557 , 0.00137168, 0.162151  ],\n",
       "         [0.05466435, 0.13541915, 0.05800806],\n",
       "         [0.05406143, 0.2703427 , 0.20323735]]),\n",
       "  array([1.84040881e-09, 7.29033369e-09, 9.37296936e-09])),\n",
       " 1005142753574.1296)"
      ]
     },
     "execution_count": 11,
     "metadata": {},
     "output_type": "execute_result"
    }
   ],
   "source": [
    "freemut_to_dfe(resBp[1][np.argmin(resBp[0])], nt, nf), resBp[0][np.argmin(resBp[0])]"
   ]
  },
  {
   "cell_type": "code",
   "execution_count": 12,
   "id": "a03a0035-de6e-4d7b-bd6d-6ccbc550f056",
   "metadata": {},
   "outputs": [
    {
     "data": {
      "text/plain": [
       "(array([[0.71393028, 0.59149479, 0.42074747],\n",
       "        [0.10928823, 0.00137168, 0.15585612],\n",
       "        [0.0680557 , 0.00137168, 0.162151  ],\n",
       "        [0.05466435, 0.13541915, 0.05800806],\n",
       "        [0.05406143, 0.2703427 , 0.20323735]]),\n",
       " array([1.84040881e-09, 7.29033369e-09, 9.37296936e-09]))"
      ]
     },
     "execution_count": 12,
     "metadata": {},
     "output_type": "execute_result"
    }
   ],
   "source": [
    "theta = resBp[1][np.argmin(resBp[0])]\n",
    "\n",
    "freemut_to_dfe(theta, nt, nf)"
   ]
  },
  {
   "cell_type": "markdown",
   "id": "45354464-06ad-4c58-9046-d9f9f3093f3a",
   "metadata": {
    "tags": []
   },
   "source": [
    "# Free-Mutation Model (SciPy)\n",
    "\n",
    "Here we try a less-constrained form of optimization: a separate mutation rate per feature/selection class. This minimizes constraints — all we need are bounds. But, there are an extra two degrees of freedom. The simpler constraints mean we can try SciPy's optimiation function."
   ]
  },
  {
   "cell_type": "code",
   "execution_count": 10,
   "id": "df30f213-1c34-4df2-bce3-fdc43bb3ad13",
   "metadata": {},
   "outputs": [
    {
     "name": "stderr",
     "output_type": "stream",
     "text": [
      "100%|█████████████████████████████████████████████████████████████████████████████████████████████████████████████████████████████████████████████████████████████████████████████████████████████████████████████████████████████████████| 50000/50000 [22:42<00:00, 36.70it/s]\n"
     ]
    }
   ],
   "source": [
    "np.random.seed(1)\n",
    "lik_bfgs = FreeMutationModel(w, t, logB=Bp, Y=Y)\n",
    "lik_bfgs.fit(starts=50_000, ncores=70, algo='L-BFGS-B')"
   ]
  },
  {
   "cell_type": "code",
   "execution_count": 11,
   "id": "601ae1e1-92a2-44a7-a17a-2cbb79d893d1",
   "metadata": {},
   "outputs": [
    {
     "data": {
      "text/plain": [
       "MLE (interpolated w): 6 x 5 x 2\n",
       "  w grid: [1.000e-11 6.310e-11 3.981e-10 2.512e-09 1.585e-08 1.000e-07] (before interpolation)\n",
       "  t grid: [1.e-05 1.e-04 1.e-03 1.e-02 1.e-01]\n",
       "\n",
       "Free-mutation model ML estimates:\n",
       "negative log-likelihood: 1005698682297.7015\n",
       "π0 = 0.0015860948765429315\n",
       "W = \n",
       "-  ---------\n",
       "1  0.0121874\n",
       "1  0.326997\n",
       "1  0.304389\n",
       "1  0.0121874\n",
       "1  4.34424\n",
       "-  ---------\n",
       "μ = \n",
       "-----  ----------\n",
       "1e-11  1.2078e-08\n",
       "-----  ----------"
      ]
     },
     "execution_count": 11,
     "metadata": {},
     "output_type": "execute_result"
    }
   ],
   "source": [
    "lik_bfgs"
   ]
  },
  {
   "cell_type": "code",
   "execution_count": 12,
   "id": "57b015aa-7768-42f0-99cc-288f75cae4e6",
   "metadata": {},
   "outputs": [
    {
     "name": "stderr",
     "output_type": "stream",
     "text": [
      "100%|█████████████████████████████████████████████████████████████████████████████████████████████████████████████████████████████████████████████████████████████████████████████████████████████████████████████████████████████████████| 10000/10000 [04:48<00:00, 34.62it/s]\n"
     ]
    }
   ],
   "source": [
    "np.random.seed(1)\n",
    "lik_nm = FreeMutationModel(w, t, Bp, Y=Y)\n",
    "lik_nm.fit(starts=10_000, ncores=70, algo='NELDERMEAD')"
   ]
  },
  {
   "cell_type": "code",
   "execution_count": 13,
   "id": "fb1e7c64-3e9a-432a-b162-cdf88ff1c511",
   "metadata": {},
   "outputs": [
    {
     "data": {
      "text/plain": [
       "MLE (interpolated w): 6 x 5 x 2\n",
       "  w grid: [1.000e-11 6.310e-11 3.981e-10 2.512e-09 1.585e-08 1.000e-07] (before interpolation)\n",
       "  t grid: [1.e-05 1.e-04 1.e-03 1.e-02 1.e-01]\n",
       "\n",
       "Free-mutation model ML estimates:\n",
       "negative log-likelihood: 1005698461834.961\n",
       "π0 = 0.0015873437854000139\n",
       "W = \n",
       "--------  -----------\n",
       "0.195103  0.000165012\n",
       "0.195103  0.0581716\n",
       "0.219587  0.0797315\n",
       "0.195103  0.000165012\n",
       "0.195103  0.861767\n",
       "--------  -----------\n",
       "μ = \n",
       "-----------  -----------\n",
       "5.12549e-11  6.06017e-08\n",
       "-----------  -----------"
      ]
     },
     "execution_count": 13,
     "metadata": {},
     "output_type": "execute_result"
    }
   ],
   "source": [
    "lik_nm"
   ]
  },
  {
   "cell_type": "code",
   "execution_count": 14,
   "id": "23ac593d-b863-4f0d-b807-804f5e939e12",
   "metadata": {},
   "outputs": [
    {
     "name": "stderr",
     "output_type": "stream",
     "text": [
      "100%|█████████████████████████████████████████████████████████████████████████████████████████████████████████████████████████████████████████████████████████████████████████████████████████████████████████████████████████████████████████| 400/400 [09:40<00:00,  1.45s/it]\n"
     ]
    }
   ],
   "source": [
    "np.random.seed(1)\n",
    "lik_isres = FreeMutationModel(w, t, Bp, Y=Y)\n",
    "lik_isres.fit(starts=400, ncores=70, algo='ISRES')"
   ]
  },
  {
   "cell_type": "code",
   "execution_count": 15,
   "id": "b55a686a-3140-4e92-a793-e6a35011a444",
   "metadata": {},
   "outputs": [
    {
     "data": {
      "text/plain": [
       "MLE (interpolated w): 6 x 5 x 2\n",
       "  w grid: [1.000e-11 6.310e-11 3.981e-10 2.512e-09 1.585e-08 1.000e-07] (before interpolation)\n",
       "  t grid: [1.e-05 1.e-04 1.e-03 1.e-02 1.e-01]\n",
       "\n",
       "Free-mutation model ML estimates:\n",
       "negative log-likelihood: 1005698824106.6721\n",
       "π0 = 0.0015871143023984764\n",
       "W = \n",
       "---------  ----------\n",
       "0.3159     0.00369839\n",
       "0.0987536  0.0554219\n",
       "0.134296   0.0777181\n",
       "0.207802   0.00771154\n",
       "0.243248   0.85545\n",
       "---------  ----------\n",
       "μ = \n",
       "-----------  -----------\n",
       "1.57758e-10  6.09653e-08\n",
       "-----------  -----------"
      ]
     },
     "execution_count": 15,
     "metadata": {},
     "output_type": "execute_result"
    }
   ],
   "source": [
    "lik_isres"
   ]
  },
  {
   "cell_type": "code",
   "execution_count": 16,
   "id": "482fb948-e9a3-4d9f-86a3-b2b9affc2e01",
   "metadata": {},
   "outputs": [
    {
     "name": "stderr",
     "output_type": "stream",
     "text": [
      "100%|███████████████████████████████████████████████████████████████████████████████████████████████████████████████████████████████████████████████████████████████████████████████████████████████████████████████████████████████████████| 200/200 [1:13:54<00:00, 22.17s/it]\n"
     ]
    }
   ],
   "source": [
    "np.random.seed(1)\n",
    "lik_nw = FreeMutationModel(w, t, Bp, Y=Y)\n",
    "lik_nw.fit(starts=200, ncores=70, algo='NEWUOA')"
   ]
  },
  {
   "cell_type": "code",
   "execution_count": 17,
   "id": "02a0f482-47e5-415d-bcd0-6977a5368a07",
   "metadata": {},
   "outputs": [
    {
     "data": {
      "text/plain": [
       "MLE (interpolated w): 6 x 5 x 2\n",
       "  w grid: [1.000e-11 6.310e-11 3.981e-10 2.512e-09 1.585e-08 1.000e-07] (before interpolation)\n",
       "  t grid: [1.e-05 1.e-04 1.e-03 1.e-02 1.e-01]\n",
       "\n",
       "Free-mutation model ML estimates:\n",
       "negative log-likelihood: 1005854011293.0314\n",
       "π0 = 0.0015324533532815726\n",
       "W = \n",
       "-----------  ----------\n",
       "0.906067     0.00214529\n",
       "0.0522002    0.0411335\n",
       "0.000578908  0.0398173\n",
       "0.0301765    0.286777\n",
       "0.0109777    0.630127\n",
       "-----------  ----------\n",
       "μ = \n",
       "-----------  -----------\n",
       "1.72739e-08  5.91541e-08\n",
       "-----------  -----------"
      ]
     },
     "execution_count": 17,
     "metadata": {},
     "output_type": "execute_result"
    }
   ],
   "source": [
    "lik_nw"
   ]
  },
  {
   "cell_type": "code",
   "execution_count": 18,
   "id": "5eaf3e30-5f0c-45c6-b6f7-55f740e3e4e5",
   "metadata": {},
   "outputs": [
    {
     "name": "stderr",
     "output_type": "stream",
     "text": [
      "findfont: Font family ['sans-serif'] not found. Falling back to DejaVu Sans.\n",
      "findfont: Generic family 'sans-serif' not found because none of the following families were found: Helvetica, Arial\n",
      "findfont: Font family ['sans-serif'] not found. Falling back to DejaVu Sans.\n",
      "findfont: Generic family 'sans-serif' not found because none of the following families were found: Helvetica, Arial\n"
     ]
    },
    {
     "data": {
      "image/png": "[encoded data removed]",
      "text/plain": [
       "<Figure size 1600x800 with 1 Axes>"
      ]
     },
     "metadata": {
      "needs_background": "light"
     },
     "output_type": "display_data"
    }
   ],
   "source": [
    "optim_plot(isres=lik_isres.optim, nelder_mead=lik_nm.optim, bfgs=lik_bfgs.optim, x_percent=True, tail=0.9)"
   ]
  },
  {
   "cell_type": "code",
   "execution_count": 19,
   "id": "57688ead-35cb-4db3-8344-7a6f18d6fb35",
   "metadata": {},
   "outputs": [
    {
     "data": {
      "image/png": "[encoded data removed]",
      "text/plain": [
       "<Figure size 1600x800 with 1 Axes>"
      ]
     },
     "metadata": {
      "needs_background": "light"
     },
     "output_type": "display_data"
    }
   ],
   "source": [
    "optim_plot(nelder_mead=lik_nm.optim, isres=lik_isres.optim, x_percent=True, tail=0.4)"
   ]
  },
  {
   "cell_type": "markdown",
   "id": "4e4f2b20-a252-48cb-a91e-01c178f2b2f4",
   "metadata": {},
   "source": [
    "Looks like Nelder-Mead and ISRES do well. Each ISRES optimization takes a tad longer, so we run fewer; for this reason the comparison is unfair. Let's downsample."
   ]
  },
  {
   "cell_type": "code",
   "execution_count": 20,
   "id": "4e3400b6-811e-4a7a-86e8-5a1f1074d3ea",
   "metadata": {},
   "outputs": [
    {
     "data": {
      "image/png": "[encoded data removed]",
      "text/plain": [
       "<Figure size 1600x800 with 1 Axes>"
      ]
     },
     "metadata": {
      "needs_background": "light"
     },
     "output_type": "display_data"
    }
   ],
   "source": [
    "optim_plot(nelder_mead=lik_nm.optim, isres=lik_isres.optim, x_percent=True, \n",
    "           downsample=len(lik_isres.optim.nlls_), tail=0.4)"
   ]
  },
  {
   "cell_type": "markdown",
   "id": "44755540-53d2-4688-897a-89f4131c1128",
   "metadata": {},
   "source": [
    "Nelder-Mead seems to do better. Let's run slightly larger runs. "
   ]
  },
  {
   "cell_type": "code",
   "execution_count": 21,
   "id": "61ab7be1-de51-498b-84f4-58cfac4c3760",
   "metadata": {},
   "outputs": [
    {
     "name": "stderr",
     "output_type": "stream",
     "text": [
      "100%|█████████████████████████████████████████████████████████████████████████████████████████████████████████████████████████████████████████████████████████████████████████████████████████████████████████████████████████████████████| 50000/50000 [24:24<00:00, 34.14it/s]\n"
     ]
    }
   ],
   "source": [
    "np.random.seed(0)\n",
    "lik_nml = FreeMutationModel(w, t, Bp, Y=Y)\n",
    "lik_nml.fit(starts=50_000, ncores=70, algo='NELDERMEAD')"
   ]
  },
  {
   "cell_type": "code",
   "execution_count": 22,
   "id": "74ef429e-c7ca-4f31-a96c-2c9503516414",
   "metadata": {},
   "outputs": [
    {
     "data": {
      "text/plain": [
       "MLE (interpolated w): 6 x 5 x 2\n",
       "  w grid: [1.000e-11 6.310e-11 3.981e-10 2.512e-09 1.585e-08 1.000e-07] (before interpolation)\n",
       "  t grid: [1.e-05 1.e-04 1.e-03 1.e-02 1.e-01]\n",
       "\n",
       "Free-mutation model ML estimates:\n",
       "negative log-likelihood: 1005698457994.7966\n",
       "π0 = 0.001585614196534346\n",
       "W = \n",
       "--------  -----------\n",
       "0.198426  0.000165648\n",
       "0.198426  0.0584447\n",
       "0.206297  0.0787337\n",
       "0.198426  0.000165648\n",
       "0.198426  0.86249\n",
       "--------  -----------\n",
       "μ = \n",
       "-----------  -----------\n",
       "5.03967e-11  6.03688e-08\n",
       "-----------  -----------"
      ]
     },
     "execution_count": 22,
     "metadata": {},
     "output_type": "execute_result"
    }
   ],
   "source": [
    "lik_nml"
   ]
  },
  {
   "cell_type": "code",
   "execution_count": 23,
   "id": "d891b654-87ca-44ff-80e6-92e3870c9315",
   "metadata": {},
   "outputs": [
    {
     "ename": "NameError",
     "evalue": "name 'theta_i' is not defined",
     "output_type": "error",
     "traceback": [
      "\u001b[0;31m---------------------------------------------------------------------------\u001b[0m",
      "\u001b[0;31mNameError\u001b[0m                                 Traceback (most recent call last)",
      "Input \u001b[0;32mIn [23]\u001b[0m, in \u001b[0;36m<cell line: 10>\u001b[0;34m()\u001b[0m\n\u001b[1;32m     10\u001b[0m \u001b[38;5;28;01mfor\u001b[39;00m ii \u001b[38;5;129;01min\u001b[39;00m \u001b[38;5;28mrange\u001b[39m(\u001b[38;5;241m10\u001b[39m):\n\u001b[1;32m     11\u001b[0m     \u001b[38;5;66;03m#theta_i = np.random.randint(0, lik_nml.optim.thetas_.shape[0])\u001b[39;00m\n\u001b[1;32m     12\u001b[0m     plt\u001b[38;5;241m.\u001b[39mplot(x, ratio(lik_nml\u001b[38;5;241m.\u001b[39mpredict(optim\u001b[38;5;241m=\u001b[39mii)[i]), c\u001b[38;5;241m=\u001b[39m\u001b[38;5;124m'\u001b[39m\u001b[38;5;124m0.44\u001b[39m\u001b[38;5;124m'\u001b[39m, alpha\u001b[38;5;241m=\u001b[39m\u001b[38;5;241m0.5\u001b[39m, linewidth\u001b[38;5;241m=\u001b[39m\u001b[38;5;241m2\u001b[39m)\n\u001b[0;32m---> 13\u001b[0m     ths\u001b[38;5;241m.\u001b[39mappend(\u001b[43mtheta_i\u001b[49m)\n\u001b[1;32m     16\u001b[0m plt\u001b[38;5;241m.\u001b[39mplot(x, ratio(lik_nml\u001b[38;5;241m.\u001b[39mpredict()[i]), c\u001b[38;5;241m=\u001b[39m\u001b[38;5;124m'\u001b[39m\u001b[38;5;124mr\u001b[39m\u001b[38;5;124m'\u001b[39m, linewidth\u001b[38;5;241m=\u001b[39m\u001b[38;5;241m2\u001b[39m)\n\u001b[1;32m     17\u001b[0m plt\u001b[38;5;241m.\u001b[39mylabel(\u001b[38;5;124m\"\u001b[39m\u001b[38;5;124m$\u001b[39m\u001b[38;5;124m\\\u001b[39m\u001b[38;5;124mpi/\u001b[39m\u001b[38;5;130;01m\\\\\u001b[39;00m\u001b[38;5;124mbar\u001b[39m\u001b[38;5;124m{\u001b[39m\u001b[38;5;124m\\\u001b[39m\u001b[38;5;124mpi}$\u001b[39m\u001b[38;5;124m\"\u001b[39m)\n",
      "\u001b[0;31mNameError\u001b[0m: name 'theta_i' is not defined"
     ]
    },
    {
     "data": {
      "image/png": "[encoded data removed]",
      "text/plain": [
       "<Figure size 1600x800 with 1 Axes>"
      ]
     },
     "metadata": {
      "needs_background": "light"
     },
     "output_type": "display_data"
    }
   ],
   "source": [
    "chrom = 'chr1'\n",
    "i = np.array([i for i, (c, s, e) in enumerate(bins) if c == chrom])\n",
    "x = np.array([(s+e)/2 for i, (c, s, e) in enumerate(bins) if c == chrom])\n",
    "\n",
    "def ratio(x):\n",
    "    return x/np.nanmean(x)\n",
    "\n",
    "plt.plot(x, ratio(pi_from_pairwise_summaries(lik_nml.Y)[i]), linewidth=2)\n",
    "ths = []\n",
    "for ii in range(10):\n",
    "    #theta_i = np.random.randint(0, lik_nml.optim.thetas_.shape[0])\n",
    "    plt.plot(x, ratio(lik_nml.predict(optim=ii)[i]), c='0.44', alpha=0.5, linewidth=2)\n",
    "    ths.append(theta_i)\n",
    "\n",
    "    \n",
    "plt.plot(x, ratio(lik_nml.predict()[i]), c='r', linewidth=2)\n",
    "plt.ylabel(\"$\\pi/\\\\bar{\\pi}$\")\n",
    "plt.xlabel(\"position\")\n",
    "plt.title(f\"$R^2 = {lik_nml.R2():.2}$\")"
   ]
  },
  {
   "cell_type": "code",
   "execution_count": null,
   "id": "6bd168ca-a4c5-4a5f-a703-b7e6d2c7de11",
   "metadata": {},
   "outputs": [],
   "source": [
    "chrom = 'chr10'\n",
    "i = np.array([i for i, (c, s, e) in enumerate(bins) if c == chrom])\n",
    "x = np.array([(s+e)/2 for i, (c, s, e) in enumerate(bins) if c == chrom])\n",
    "\n",
    "def ratio(x):\n",
    "    return x/np.nanmean(x)\n",
    "\n",
    "plt.plot(x, ratio(pi_from_pairwise_summaries(lik_nml.Y)[i]), linewidth=2)\n",
    "ths = []\n",
    "for ii in range(10):\n",
    "    #theta_i = np.random.randint(0, lik_nml.optim.thetas_.shape[0])\n",
    "    plt.plot(x, ratio(lik_nml.predict(optim=ii)[i]), c='0.44', alpha=0.5, linewidth=2)\n",
    "    ths.append(theta_i)\n",
    "\n",
    "    \n",
    "plt.plot(x, ratio(lik_nml.predict()[i]), c='r', linewidth=2)\n",
    "plt.ylabel(\"$\\pi/\\\\bar{\\pi}$\")\n",
    "plt.xlabel(\"position\")\n",
    "plt.title(f\"$R^2 = {lik_nml.R2():.2}$\")"
   ]
  },
  {
   "cell_type": "code",
   "execution_count": null,
   "id": "9e7b478f-2bf2-434d-855d-6b7d9671254f",
   "metadata": {},
   "outputs": [],
   "source": [
    "plt.scatter(lik_nml.predict(), lik_nml.resid(), c='k', alpha=0.2)\n",
    "theta = np.sort(lik_nml.predict())\n",
    "#theta = np.sort(pi_from_pairwise_summaries(lik_nml.Y))\n",
    "\n",
    "plt.plot(theta, 2*theta**2 / 9, c='r', linewidth=2, linestyle='dashed')\n",
    "plt.semilogy()"
   ]
  },
  {
   "cell_type": "code",
   "execution_count": null,
   "id": "e105c777-f607-4cbb-8103-a8a9a4fe023a",
   "metadata": {},
   "outputs": [],
   "source": [
    "2*theta**2 / 9\n"
   ]
  },
  {
   "cell_type": "code",
   "execution_count": null,
   "id": "3e69eb04-1f30-48b6-9048-6c6300ba2faa",
   "metadata": {},
   "outputs": [],
   "source": [
    "lik_nml"
   ]
  },
  {
   "cell_type": "code",
   "execution_count": null,
   "id": "24dd52fe-56d1-48f6-bd04-8ec94a7f1217",
   "metadata": {},
   "outputs": [],
   "source": [
    "fig, ax = plt.subplots()\n",
    "ax.scatter(pi_from_pairwise_summaries(lik_nml.Y), lik_nml.predict(), c='k', alpha=0.1)\n",
    "ax.axline((1e-3, 1e-3), slope=1, c='r')"
   ]
  },
  {
   "cell_type": "code",
   "execution_count": null,
   "id": "25fa27a0-2870-4af0-9bec-4e4e33a07dc7",
   "metadata": {},
   "outputs": [],
   "source": [
    "np.random.seed(0)\n",
    "lik_isresl = FreeMutationModel(w, t, Bp, Y=Y)\n",
    "lik_isresl.fit(starts=5_000, ncores=70, algo='ISRES')"
   ]
  },
  {
   "cell_type": "code",
   "execution_count": null,
   "id": "38dd8d8a-efbc-4f21-af60-33c4c701ce8e",
   "metadata": {},
   "outputs": [],
   "source": [
    "lik_isresl"
   ]
  },
  {
   "cell_type": "code",
   "execution_count": null,
   "id": "8c71a32a-d35f-49bd-b269-4718485cdc79",
   "metadata": {},
   "outputs": [],
   "source": [
    "optim_plot(isresl=lik_isresl.optim, nelder_mead=lik_nml.optim, \n",
    "           x_percent=True, downsample=len(lik_isresl.optim.nlls_), tail=0.1)"
   ]
  },
  {
   "cell_type": "markdown",
   "id": "1831b3b9-39ed-4a4e-a33c-063c684eff7a",
   "metadata": {
    "tags": []
   },
   "source": [
    "# SCRATCH"
   ]
  },
  {
   "cell_type": "code",
   "execution_count": null,
   "id": "c4dcf892-a93d-463d-a328-c874270e9e39",
   "metadata": {},
   "outputs": [],
   "source": [
    "np.random.seed(0)\n",
    "lik_nml2 = FreeMutationModel(w, t, Bp, Y=Y)\n",
    "lik_nml2.fit(starts=50_000, ncores=70, algo='NELDERMEAD')"
   ]
  },
  {
   "cell_type": "code",
   "execution_count": null,
   "id": "d61c6a4a-138e-4b40-b7ec-569d4b2289a2",
   "metadata": {},
   "outputs": [],
   "source": [
    "optim_plot(Bp=lik_scipy.optim, tail=0.1)"
   ]
  },
  {
   "cell_type": "code",
   "execution_count": null,
   "id": "e728b381-3e04-48c5-a10d-961cc1a09a58",
   "metadata": {},
   "outputs": [],
   "source": [
    "lik_nlopt = FreeMutationModel(w, t, Bp, Y=Y)\n",
    "lik_nlopt.fit(starts=100, ncores=70, algo='isres')"
   ]
  },
  {
   "cell_type": "code",
   "execution_count": null,
   "id": "e64dfe49-ecc4-4871-9067-764ca0b33d55",
   "metadata": {},
   "outputs": [],
   "source": [
    "lik_nlopt"
   ]
  },
  {
   "cell_type": "code",
   "execution_count": null,
   "id": "004d8462-d384-4715-853e-b2b4f9848fa2",
   "metadata": {},
   "outputs": [],
   "source": [
    "lik_scipy.mle_W / lik_scipy.mle_W.sum(axis=0)"
   ]
  },
  {
   "cell_type": "code",
   "execution_count": null,
   "id": "edacd0a2-559d-4c99-8406-31ada25c1af7",
   "metadata": {},
   "outputs": [],
   "source": [
    "lik_nlopt = FreeMutationModel(w, t, B, Y=Y)\n",
    "lik_nlopt.fit(starts=10, ncores=70, engine='nlopt')"
   ]
  },
  {
   "cell_type": "code",
   "execution_count": null,
   "id": "967d3875-40dd-4368-9fb4-2dc695bff040",
   "metadata": {},
   "outputs": [],
   "source": [
    "lik_nlopt, lik_scipy"
   ]
  },
  {
   "cell_type": "code",
   "execution_count": null,
   "id": "7e43e42a-1792-4c26-8a89-7bb86dcbc363",
   "metadata": {},
   "outputs": [],
   "source": [
    "lik_nlopt.optim.theta[1:].reshape((nt, nf)) / lik_nlopt.optim.theta[1:].reshape((nt, nf)).sum(axis=0)"
   ]
  },
  {
   "cell_type": "markdown",
   "id": "f92375ca-0e55-4b79-9957-a59b5a5323fc",
   "metadata": {},
   "source": [
    "## Free-Mutation Model with Reduced Features Model\n",
    "\n",
    "Here we try the simplest test case: only one column of features (CDS) of the test human data.\n",
    " "
   ]
  },
  {
   "cell_type": "code",
   "execution_count": null,
   "id": "d2e482e5-6f42-461b-8290-4d57aec98662",
   "metadata": {},
   "outputs": [],
   "source": [
    "def negll_freemut(Y, B, w):\n",
    "    def func(theta):\n",
    "        new_theta = np.full(theta.size + 1, np.nan)\n",
    "        theta = np.copy(theta)\n",
    "        new_theta[0] = theta[0]\n",
    "        # fix mutation rate to one and let W represent mutation rates to various classes\n",
    "        new_theta[1] = 1.\n",
    "        new_theta[2:] = theta[1:] # times mutation rates\n",
    "        #print(\"-->\", theta, new_theta)\n",
    "        return negll_c(new_theta, Y, B, w)\n",
    "    return func"
   ]
  },
  {
   "cell_type": "code",
   "execution_count": null,
   "id": "405df3ba-39ba-44bb-a3c7-e8934e574f7f",
   "metadata": {},
   "outputs": [],
   "source": [
    "w"
   ]
  },
  {
   "cell_type": "code",
   "execution_count": null,
   "id": "c2a97ac5-f172-40b6-8e71-7b7bbbf997c1",
   "metadata": {},
   "outputs": [],
   "source": [
    "Y.shape, B.shape"
   ]
  },
  {
   "cell_type": "code",
   "execution_count": null,
   "id": "e3dfe34b-b1bd-4df6-a621-2de93eeb539e",
   "metadata": {},
   "outputs": [],
   "source": [
    "from sklearn.decomposition import PCA\n",
    "from sklearn.preprocessing import StandardScaler\n",
    "\n",
    "pca = PCA(n_components=2)\n",
    "\n",
    "thetas = lik.optim.thetas\n",
    "nlls = lik.optim.nlls#[lik.optim.rank[:50]]\n",
    "thetas = thetas#[lik.optim.rank[:50]]\n",
    "scaler = StandardScaler()\n",
    "thetaz = scaler.fit(thetas).transform(thetas)\n",
    "thetaz = thetas\n",
    "\n",
    "plt.scatter(*pca.fit(thetaz).transform(thetaz).T, c=np.log10(nlls))"
   ]
  },
  {
   "cell_type": "code",
   "execution_count": null,
   "id": "08897f97-7aa1-4315-b39e-7fb1090bd08b",
   "metadata": {},
   "outputs": [],
   "source": [
    "pca.explained_variance_ratio_"
   ]
  },
  {
   "cell_type": "code",
   "execution_count": null,
   "id": "a74932f3-8c10-4347-b3f2-4f22342725f1",
   "metadata": {},
   "outputs": [],
   "source": [
    "nllBp = negll_freemut(Y, Bp[..., 0][..., None], w)\n",
    "nllB = negll_freemut(Y, B[..., 0][..., None], w)"
   ]
  },
  {
   "cell_type": "code",
   "execution_count": null,
   "id": "558447b2-11bb-4f32-aac9-95e85a98a398",
   "metadata": {},
   "outputs": [],
   "source": [
    "optim_plot(B=resB_reduced, Bp=resBp_reduced, tail=0.7)\n",
    "plt.semilogy()"
   ]
  },
  {
   "cell_type": "markdown",
   "id": "b483fed9-5558-42c9-b104-f7a73431f9d3",
   "metadata": {},
   "source": [
    "## Free-Mutation Model (All Features)\n",
    "\n",
    "First we try with SciPy's `minimize()` function:"
   ]
  },
  {
   "cell_type": "code",
   "execution_count": null,
   "id": "239788d3-9884-46d4-9758-21ab41cdc51f",
   "metadata": {},
   "outputs": [],
   "source": [
    "from bgspy.likelihood import negll_freemut, random_start_mutation\n",
    "from bgspy.optim import run_optims\n",
    "\n",
    "nllBp = negll_freemut(Y, Bp, w)\n",
    "nllB = negll_freemut(Y, B, w)\n",
    "\n",
    "def worker_Bp_full(start):\n",
    "    return minimize(nllBp, x0=start, bounds=bounds_mutation(nt, nf, paired=True), options={'eps':1e-9}, method='L-BFGS-B')\n",
    "\n",
    "def worker_B_full(start):\n",
    "    return minimize(nllB, x0=start, bounds=bounds_mutation(nt, nf, paired=True), method='L-BFGS-B')\n",
    "\n",
    "starts = [random_start_mutation(nt, nf) for _ in range(100)]\n",
    "#resB = run_optims(worker_Bp_full, starts, 10_000)\n",
    "resBp = run_optims(worker_Bp_full, starts, 10_000)"
   ]
  },
  {
   "cell_type": "code",
   "execution_count": null,
   "id": "8d7d9998-cd80-4273-b967-dcfae0200607",
   "metadata": {},
   "outputs": [],
   "source": [
    "starts"
   ]
  },
  {
   "cell_type": "code",
   "execution_count": null,
   "id": "5604547d-3c4b-4550-925d-67b2c335958d",
   "metadata": {},
   "outputs": [],
   "source": [
    "summarize_optims(resB, nt, nf)\n",
    "summarize_optims(resBp, nt, nf)"
   ]
  },
  {
   "cell_type": "markdown",
   "id": "3a094bcd-7b3d-4e5f-83ca-d2dbce7a1f82",
   "metadata": {},
   "source": [
    "Now let's try with NLOpt's optimization approaches."
   ]
  },
  {
   "cell_type": "code",
   "execution_count": null,
   "id": "56f63df7-e35c-4016-bceb-83326eb025cb",
   "metadata": {},
   "outputs": [],
   "source": [
    "def negll_freemut_nlopt(Y, B, w):\n",
    "    def func(x, grad):\n",
    "        new_theta = np.zeros(x.size + 1)\n",
    "        new_theta[0] = x[0]\n",
    "        # fix mutation rate to one and let W represent mutation rates to various classes\n",
    "        new_theta[1] = 1.\n",
    "        new_theta[2:] = x[1:] # times mutation rates        \n",
    "        return negll_c(new_theta, Y, B, w)\n",
    "    return func"
   ]
  },
  {
   "cell_type": "code",
   "execution_count": null,
   "id": "7a2f4782-af76-48ff-9384-1ae441ba3e69",
   "metadata": {},
   "outputs": [],
   "source": [
    "nparams = nt*nf+1\n",
    "opt = nlopt.opt(nlopt.GN_ISRES, nparams)\n",
    "nllBp = negll_freemut_nlopt(Y, Bp, w)\n",
    "\n",
    "# set the objective\n",
    "opt.set_min_objective(nllBp) \n",
    "\n",
    "# set bounds\n",
    "lb, ub = bounds_mutation(nt, nf)\n",
    "opt.set_lower_bounds(lb)\n",
    "opt.set_upper_bounds(ub)"
   ]
  },
  {
   "cell_type": "code",
   "execution_count": null,
   "id": "6c5dc72a-c977-4f24-bf43-e8ab810f5468",
   "metadata": {},
   "outputs": [],
   "source": [
    "%%time\n",
    "#np.random.seed(0)\n",
    "# stopping criteria:\n",
    "opt.set_xtol_rel(1e-5)\n",
    "opt.set_maxeval(10000000)\n",
    "\n",
    "# random start\n",
    "x = random_start_mutation(nt, nf)\n",
    "assert x.size == nparams\n",
    "\n",
    "# run\n",
    "res = opt.optimize(x)"
   ]
  },
  {
   "cell_type": "code",
   "execution_count": null,
   "id": "2e16a77b-648b-48b0-9852-ba9f5db1102d",
   "metadata": {},
   "outputs": [],
   "source": [
    "opt"
   ]
  },
  {
   "cell_type": "code",
   "execution_count": null,
   "id": "4cc6153d-ee28-4e5e-9d45-0b23ecce6c2f",
   "metadata": {},
   "outputs": [],
   "source": [
    "e = res[1:].reshape((nt, nf))\n",
    "res[0], e.sum(axis=0), e/e.sum(axis=1)[:, None], opt.last_optimum_value()"
   ]
  },
  {
   "cell_type": "markdown",
   "id": "0f158ac4-21f5-4f95-a0ab-e5e744de822b",
   "metadata": {},
   "source": [
    "# Simplex Model (NLOpt)\n",
    "\n",
    "The simplex model is an $n_t \\times n_f$ matrix $\\mathbf{W}$ which are DFE weights (columns sum to 1). The mutation rate per selection class, per feature class is then $\\mu \\mathbf{W}$.\n",
    "\n",
    "The bounds of $\\mathbf{W}$ are $[0, 1]$, and the constraint is $\\sum_j w_{i,j} = 1$ However, there is also a total mutation bound, $\\mu_l \\le \\mu \\le \\mu_u$. So, \n",
    "\n",
    "$$ \\mu_l \\le \\mu \\mathbf{W} \\le \\mu_u$$"
   ]
  },
  {
   "cell_type": "code",
   "execution_count": null,
   "id": "8cce50a2-a76b-4e0e-9daa-98d249cd6a74",
   "metadata": {},
   "outputs": [],
   "source": [
    "def negll_nlopt(Y, B, w):\n",
    "    # NLOPT needs to accept a grad argument\n",
    "    def func(x, grad):\n",
    "        return negll_c(x, Y, B, w)\n",
    "    return func"
   ]
  },
  {
   "cell_type": "code",
   "execution_count": 24,
   "id": "dda92261-711c-4a63-a076-05e87a261270",
   "metadata": {},
   "outputs": [],
   "source": [
    "def constraint_matrix(nt, nf):\n",
    "    nparams = nt*nf + 2\n",
    "    A = np.zeros((nf, nparams))\n",
    "    for i in range(nf):\n",
    "        W = A[i, 2:].reshape((nt, nf))\n",
    "        W[:, i] = 1.\n",
    "    return A\n",
    "\n",
    "def inequality_constraint_functions(nt, nf, log10_mu_bounds=(-11, -7)):\n",
    "    \"\"\"\n",
    "     l < μW < u\n",
    "     l - μW < 0\n",
    "     μW - u < 0\n",
    "    \"\"\"\n",
    "    A = constraint_matrix(nt, nf)\n",
    "    lower, upper = 10**log10_mu_bounds[0], 10**log10_mu_bounds[1]\n",
    "    def func_l(result, x, grad):\n",
    "        mu = x[1]\n",
    "        M = lower - (mu *  A.dot(x))\n",
    "        for i in range(nf):\n",
    "            result[i] = M[i]\n",
    "    def func_u(result, x, grad):\n",
    "        mu = x[1]\n",
    "        M = (mu *  A.dot(x)) - upper\n",
    "        for i in range(nf):\n",
    "            result[i] = M[i]\n",
    "    return func_l, func_u\n",
    "\n",
    "def equality_constraint_function(nt, nf):\n",
    "    A = constraint_matrix(nt, nf)\n",
    "    def func(result, x, grad):\n",
    "        M = A.dot(x)\n",
    "        for i in range(nf):\n",
    "            result[i] = M[i] - 1.\n",
    "    return func"
   ]
  },
  {
   "cell_type": "markdown",
   "id": "f333a7d9-74de-4d60-8952-723f31df192d",
   "metadata": {},
   "source": [
    "## A simple NLOpt single run test"
   ]
  },
  {
   "cell_type": "code",
   "execution_count": 38,
   "id": "fcebd32a-c33b-4f68-afb4-4d8f12637ba6",
   "metadata": {},
   "outputs": [
    {
     "data": {
      "text/plain": [
       "array([[0., 1.],\n",
       "       [0., 1.],\n",
       "       [0., 1.],\n",
       "       [0., 1.],\n",
       "       [0., 1.]])"
      ]
     },
     "execution_count": 38,
     "metadata": {},
     "output_type": "execute_result"
    }
   ],
   "source": [
    "constraint_matrix(nt, nf)[1, :][2:].reshape((nt, nf))"
   ]
  },
  {
   "cell_type": "code",
   "execution_count": 42,
   "id": "f099c7b0-d1e8-4226-9e0c-baa406e6b3ae",
   "metadata": {},
   "outputs": [
    {
     "data": {
      "text/plain": [
       "array([[ 2,  3],\n",
       "       [ 4,  5],\n",
       "       [ 6,  7],\n",
       "       [ 8,  9],\n",
       "       [10, 11]])"
      ]
     },
     "execution_count": 42,
     "metadata": {},
     "output_type": "execute_result"
    }
   ],
   "source": [
    "np.arange(nt*nf + 2)[2:].reshape((nt, nf))"
   ]
  },
  {
   "cell_type": "code",
   "execution_count": 39,
   "id": "ce1a1d6a-bb5c-4aae-a22e-5b83c4145189",
   "metadata": {},
   "outputs": [
    {
     "data": {
      "text/plain": [
       "array([30., 35.])"
      ]
     },
     "execution_count": 39,
     "metadata": {},
     "output_type": "execute_result"
    }
   ],
   "source": [
    "constraint_matrix(nt, nf).dot(np.arange(nt*nf + 2))"
   ]
  },
  {
   "cell_type": "code",
   "execution_count": null,
   "id": "d361053a-29d5-4aa3-a1e2-aaede9a24c88",
   "metadata": {},
   "outputs": [],
   "source": [
    "Y.shape, Bp.shape"
   ]
  },
  {
   "cell_type": "code",
   "execution_count": null,
   "id": "236417bf-f134-4102-90f5-e0e29a1d7000",
   "metadata": {},
   "outputs": [],
   "source": [
    "hl, hu = inequality_constraint_functions(nt, nf)\n",
    "ce = equality_constraint_function(nt, nf)\n",
    "\n",
    "# NOTE: we do not have a start-based test of these bounds\n",
    "# because it looks like SWIG's interface to NLOPT wraps this in a \n",
    "# weird way"
   ]
  },
  {
   "cell_type": "code",
   "execution_count": null,
   "id": "18b9569f-0623-4558-b6dd-43b2d8537019",
   "metadata": {},
   "outputs": [],
   "source": [
    "nparams = nt * nf + 2 # 1 for mutation rate, one for π0\n",
    "# specify the algorithm\n",
    "#opt = nlopt.opt(nlopt.LN_COBYLA, nparams)\n",
    "opt = nlopt.opt(nlopt.GN_ISRES, nparams)\n",
    "\n",
    "# create a closure around the data\n",
    "nll = negll_nlopt(Y, Bp, w)\n",
    "\n",
    "# set the objective\n",
    "opt.set_min_objective(nll) \n",
    "\n",
    "# specify tolerances and constraints\n",
    "tols = np.repeat(1e-11, nf)\n",
    "opt.add_inequality_mconstraint(hl, tols)\n",
    "opt.add_inequality_mconstraint(hu, tols)\n",
    "opt.add_equality_mconstraint(ce, tols)\n",
    "\n",
    "# set bounds\n",
    "lb, ub = bounds_simplex(nt, nf)\n",
    "opt.set_lower_bounds(lb)\n",
    "opt.set_upper_bounds(ub)"
   ]
  },
  {
   "cell_type": "code",
   "execution_count": null,
   "id": "9f8b02a2-33e7-4674-acb1-208f8291a1f3",
   "metadata": {
    "tags": []
   },
   "outputs": [],
   "source": [
    "%%time\n",
    "np.random.seed(1231)\n",
    "# stopping criteria:\n",
    "#opt.set_xtol_abs(np.array([1e-4, 1e-10] + [1e-04] * nt*nf))\n",
    "opt.set_xtol_rel(1e-3)\n",
    "#opt.set_ftol_abs(1e8)\n",
    "#opt.set_stopval(923543002497)\n",
    "opt.set_maxeval(10000000)\n",
    "\n",
    "# random start\n",
    "x = random_start_simplex(nt, nf)\n",
    "assert x.size == nparams\n",
    "\n",
    "# run\n",
    "res = opt.optimize(x)"
   ]
  },
  {
   "cell_type": "code",
   "execution_count": null,
   "id": "a51e7bec-98ac-4ba2-b62e-06afe0a7edec",
   "metadata": {},
   "outputs": [],
   "source": [
    "# mle theta, nll:\n",
    "res, opt.last_optimum_value(), opt.last_optimize_result()"
   ]
  },
  {
   "cell_type": "code",
   "execution_count": null,
   "id": "c682a020-7419-4055-9f58-56009db0f92b",
   "metadata": {},
   "outputs": [],
   "source": [
    "res[0], res[1], np.round(res[2:].reshape((nt, nf)), 2), opt.last_optimum_value()"
   ]
  },
  {
   "cell_type": "code",
   "execution_count": null,
   "id": "f3e3d1b3-fcf6-4a82-896b-66582ad462e4",
   "metadata": {},
   "outputs": [],
   "source": [
    "res[2:].reshape((nt, nf)).sum(axis=0)"
   ]
  },
  {
   "cell_type": "code",
   "execution_count": null,
   "id": "cef146bc-95ef-4bf9-abe3-9c3e2ce964f3",
   "metadata": {},
   "outputs": [],
   "source": [
    "opt.get_initial_step(x)"
   ]
  },
  {
   "cell_type": "markdown",
   "id": "aa06b542-15e1-4fab-bef0-c56f43da6966",
   "metadata": {},
   "source": [
    "## Exploratory ISRES Global Runs"
   ]
  },
  {
   "cell_type": "code",
   "execution_count": null,
   "id": "00c42bb4-8e05-4c68-a961-23bb4256e40b",
   "metadata": {},
   "outputs": [],
   "source": [
    "# this wraps the nloptimization call\n",
    "def nlopt_isres_worker(x, nt, nf):\n",
    "    nparams = nt*nf + 2\n",
    "    opt = nlopt.opt(nlopt.GN_ISRES, nparams)\n",
    "    #opt = nlopt.opt(nlopt.AUGLAG, nparams)\n",
    "    #opt.set_local_optimizer(nlopt.LN_COBYLA)\n",
    "    nll = negll_nlopt(Y, Bp, w)\n",
    "    opt.set_min_objective(nll) \n",
    "    hl, hu = inequality_constraint_functions(nt, nf)\n",
    "    tols = np.repeat(1e-11, nf)\n",
    "    opt.add_inequality_mconstraint(hl, tols)\n",
    "    opt.add_inequality_mconstraint(hu, tols)\n",
    "    ce = equality_constraint_function(nt, nf)\n",
    "    opt.add_equality_mconstraint(ce, tols)\n",
    "    lb, ub = bounds_simplex(nt, nf)\n",
    "    opt.set_lower_bounds(lb)\n",
    "    opt.set_upper_bounds(ub)\n",
    "    opt.set_xtol_rel(1e-3)\n",
    "    #opt.set_xtol_abs(1e-6)\n",
    "    #opt.set_stopval(923543002497)\n",
    "    opt.set_maxeval(1000000)\n",
    "    assert x.size == nparams\n",
    "    mle = opt.optimize(x)\n",
    "    nll = opt.last_optimum_value()\n",
    "    success = opt.last_optimize_result()\n",
    "    return nll, mle, success"
   ]
  },
  {
   "cell_type": "code",
   "execution_count": null,
   "id": "4eb817da-c362-4aaa-97cc-c6c994c4aa94",
   "metadata": {},
   "outputs": [],
   "source": [
    "%%time\n",
    "N = 200\n",
    "\n",
    "np.random.seed(0)\n",
    "worker = partial(nlopt_isres_worker, nt=nt, nf=nf)\n",
    "isres_run_res = run_nloptims(worker, partial(random_start_simplex, nt=nt, nf=nf), N)"
   ]
  },
  {
   "cell_type": "code",
   "execution_count": null,
   "id": "746dd66d-ddb7-4312-a52a-df8842252ae2",
   "metadata": {},
   "outputs": [],
   "source": [
    "best_theta = nloptim_summary(isres_run_res, nt, nf) # isres run"
   ]
  },
  {
   "cell_type": "markdown",
   "id": "c6fa8e1a-4170-4680-ba8e-57625a1475bd",
   "metadata": {},
   "source": [
    "Now, let's compare the performance of the free mutation model with random starts and local optimization to the ISRES simplex model:"
   ]
  },
  {
   "cell_type": "code",
   "execution_count": null,
   "id": "da0e4e71-ce57-481d-806b-797fac6b6934",
   "metadata": {},
   "outputs": [],
   "source": [
    "optim_plot(isres=isres_run_res, B=resB_reduced, Bp=resBp_reduced, tail=0.4)\n",
    "plt.semilogy()"
   ]
  },
  {
   "cell_type": "code",
   "execution_count": null,
   "id": "b2f22ea5-fc53-4c46-8aeb-47a48f05bc08",
   "metadata": {},
   "outputs": [],
   "source": [
    "isres_run_res[0].max()"
   ]
  },
  {
   "cell_type": "markdown",
   "id": "85b1d200-655b-404a-8af3-ad49d5f560e7",
   "metadata": {},
   "source": [
    "## Free-Mutation Model (All Features, Gaussian LL)"
   ]
  },
  {
   "cell_type": "code",
   "execution_count": null,
   "id": "dc2410ff-1180-4383-8fe5-afab4873c375",
   "metadata": {},
   "outputs": [],
   "source": [
    "def normal_negll_freemut(Y, B, w):\n",
    "    def func(theta):\n",
    "        new_theta = np.zeros(theta.size + 1)\n",
    "        new_theta[0] = theta[0]\n",
    "        # fix mutation rate to one and let W represent mutation rates to various classes\n",
    "        new_theta[1] = 1.\n",
    "        new_theta[2:] = theta[1:] # times mutation rates        \n",
    "        return -normal_ll_c(new_theta, Y, B, w)\n",
    "    return func"
   ]
  },
  {
   "cell_type": "code",
   "execution_count": null,
   "id": "69fd992b-67ef-46b7-81e3-70722570602f",
   "metadata": {},
   "outputs": [],
   "source": [
    "nllBp = normal_negll_freemut(Y, Bp, w)\n",
    "nllB = normal_negll_freemut(Y, B, w)\n",
    "\n",
    "def worker_Bp_full(start):\n",
    "    return minimize(nllBp, x0=start, bounds=bounds_mutation(nt, nf, paired=True), options={'eps':1e-9}, method='L-BFGS-B')\n",
    "\n",
    "def worker_B_full(start):\n",
    "    return minimize(nllB, x0=start, bounds=bounds_mutation(nt, nf, paired=True), method='L-BFGS-B')\n",
    "\n",
    "resB = run_optims(worker_Bp_full, partial(random_start_mutation, nt, nf), 100_000)\n",
    "resBp = run_optims(worker_Bp_full, partial(random_start_mutation, nt, nf), 100_000)"
   ]
  },
  {
   "cell_type": "code",
   "execution_count": null,
   "id": "ff0ef394-65ad-4f52-b44c-8fb63b975781",
   "metadata": {},
   "outputs": [],
   "source": [
    "plt.scatter(np.sum((resBp[1][np.argmin(resBp[0])][None, :] - resBp[1])**2, axis=1), resBp[0])"
   ]
  },
  {
   "cell_type": "code",
   "execution_count": null,
   "id": "0da57193-aeb2-4d99-8600-3f3cb9e6a24a",
   "metadata": {},
   "outputs": [],
   "source": [
    "cutoff = resBp[0] < np.quantile(resBp[0], 0.01)\n",
    "_ = plt.hist(resBp[1][cutoff, 2], 10)"
   ]
  },
  {
   "cell_type": "code",
   "execution_count": null,
   "id": "49b6df61-fd37-4178-85d4-ad815fad21fa",
   "metadata": {},
   "outputs": [],
   "source": [
    "optim_plot(Bp=resBp, tail=0.01)"
   ]
  },
  {
   "cell_type": "code",
   "execution_count": null,
   "id": "48a748dc-8da4-43f8-9625-c012fc1f3c7a",
   "metadata": {},
   "outputs": [],
   "source": [
    "optim_plot(B=resB, Bp=resBp, tail=0.1)\n",
    "plt.semilogy()"
   ]
  },
  {
   "cell_type": "markdown",
   "id": "e9a65b12-d683-40d2-ab15-e4824ed77bff",
   "metadata": {},
   "source": [
    "## Free Mutation Model with MVN"
   ]
  },
  {
   "cell_type": "code",
   "execution_count": null,
   "id": "24606893-22d7-47c4-8157-1cb1d5732686",
   "metadata": {},
   "outputs": [],
   "source": [
    "from scipy.sparse import lil_matrix\n",
    "\n",
    "def random_start_mvn(nt, nf):\n",
    "    theta = random_start_mutation(nt, nf)\n",
    "    new_theta = np.empty(nt*nf + 3)\n",
    "    new_theta[0] = theta[0]\n",
    "    new_theta[1] = np.abs(np.random.normal(0, 1, 1))\n",
    "    new_theta[2] = stats.invgamma(5).rvs(1)\n",
    "    new_theta[3:] = theta[1:]\n",
    "    return new_theta\n",
    "    \n",
    "\n",
    "def mvn_nll(Y, B, w, bins):\n",
    "    TINY = 1e-8\n",
    "    nx, nw, nt, nf = B.shape\n",
    "    n = Y.shape[0]\n",
    "    nS = Y[:, 0]\n",
    "    nD = Y[:, 1]\n",
    "    # reparameterized data under MVN approximation\n",
    "    N = nS + nD\n",
    "\n",
    "    def func(theta): \n",
    "        Sigma = np.zeros((n, n), dtype=float)\n",
    "        pi0 = theta[0]\n",
    "        alpha = theta[1]\n",
    "        rho = theta[2]\n",
    "        W = theta[3:].reshape((nt, nf))\n",
    "        \n",
    "        logBw = np.zeros(nx, dtype=float)\n",
    "        for i in range(nx):\n",
    "            for j in range(nt):\n",
    "                for k in range(nf):\n",
    "                    logBw[i] += np.interp(W[j, k], w, B[i, :, j, k])\n",
    "\n",
    "        log_pibar = np.log(pi0) + logBw\n",
    "        pi = np.exp(log_pibar)\n",
    "        mean = N * pi\n",
    "        var = N * (1-pi) * pi\n",
    "    \n",
    "        for i in range(n):\n",
    "            for j in range(i, n):\n",
    "                if bins[i][0] == bins[j][0]:\n",
    "                    # same chromosome\n",
    "                    Sigma[i, j] = np.sqrt(N[i] * N[j])*alpha**2  * np.exp(-0.5 / rho**2 * (i - j)**2) + var[i]*(i==j) + TINY\n",
    "                    Sigma[j, i] = Sigma[i, j]\n",
    "        return -stats.multivariate_normal.logpdf(x=nD, mean=mean, cov=Sigma)\n",
    "    return func\n",
    "\n",
    "def mvn_bounds(nt, nf):\n",
    "    lb, ub = bounds_mutation(nt, nf)\n",
    "    lb = lb.tolist()\n",
    "    ub = ub.tolist()\n",
    "    lb.insert(1, 0) # alpha\n",
    "    ub.insert(1, np.Inf) # alpha\n",
    "    lb.insert(2, 0) # rho\n",
    "    ub.insert(2, np.Inf) # rho\n",
    "    return list(zip(lb, ub))"
   ]
  },
  {
   "cell_type": "code",
   "execution_count": null,
   "id": "89e606ad-1593-4932-b04b-b935c73ddadd",
   "metadata": {},
   "outputs": [],
   "source": [
    "mvnnll = mvn_nll(Y, Bp, w, bins)"
   ]
  },
  {
   "cell_type": "code",
   "execution_count": null,
   "id": "eb8ea901-56bd-422e-a610-9adddef3321d",
   "metadata": {},
   "outputs": [],
   "source": [
    "mvnnll(random_start_mvn(nt, nf))"
   ]
  },
  {
   "cell_type": "code",
   "execution_count": null,
   "id": "e3b71bd2-5466-4ffd-81c3-ca3d1261853d",
   "metadata": {},
   "outputs": [],
   "source": [
    "len(mvn_bounds(nt, nf)), len(random_start_mvn(nt, nf))"
   ]
  },
  {
   "cell_type": "code",
   "execution_count": null,
   "id": "c3789041-b3ad-4b61-ab61-beb85d975527",
   "metadata": {},
   "outputs": [],
   "source": [
    "minimize(mvnnll, x0=random_start_mvn(nt, nf), bounds=mvn_bounds(nt, nf))"
   ]
  },
  {
   "cell_type": "code",
   "execution_count": null,
   "id": "e8a915cd-3c57-4da8-8654-9596ea883ba9",
   "metadata": {},
   "outputs": [],
   "source": [
    "a = _"
   ]
  },
  {
   "cell_type": "code",
   "execution_count": null,
   "id": "41ee858e-74a2-48d9-9492-aa2d60146d46",
   "metadata": {},
   "outputs": [],
   "source": []
  },
  {
   "cell_type": "markdown",
   "id": "87eeff42-9329-4a8c-9fe7-11a1f0a47706",
   "metadata": {},
   "source": [
    "## Large Exploratory Multistart Local Runs"
   ]
  },
  {
   "cell_type": "code",
   "execution_count": null,
   "id": "e72012e6-5a5b-4314-a7bb-05fb7f36ec94",
   "metadata": {},
   "outputs": [],
   "source": [
    "\n",
    "# this wraps the nloptimization call\n",
    "def nlopt_worker(x, nt, nf):\n",
    "    nparams = nt*nf + 2\n",
    "    opt = nlopt.opt(nlopt.LN_COBYLA, nparams)\n",
    "    #opt = nlopt.opt(nlopt.AUGLAG, nparams)\n",
    "    #opt.set_local_optimizer(nlopt.LN_COBYLA)\n",
    "    nll = negll_nlopt(Y, Bp, w)\n",
    "    opt.set_min_objective(nll) \n",
    "    hl, hu = inequality_constraint_functions(nt, nf)\n",
    "    tols = np.repeat(1e-11, nf)\n",
    "    opt.add_inequality_mconstraint(hl, tols)\n",
    "    opt.add_inequality_mconstraint(hu, tols)\n",
    "    ce = equality_constraint_function(nt, nf)\n",
    "    opt.add_equality_mconstraint(ce, tols)\n",
    "    lb, ub = bounds_simplex(nt, nf)\n",
    "    opt.set_lower_bounds(lb)\n",
    "    opt.set_upper_bounds(ub)\n",
    "    #opt.set_xtol_abs(np.array([1e-4, 1e-17] + [1e-6] * nt*nf))\n",
    "    opt.set_xtol_rel(1e-1)\n",
    "    #opt.set_ftol_abs(1e-8)\n",
    "    opt.set_maxeval(100000)\n",
    "    assert x.size == nparams\n",
    "    mle = opt.optimize(x)\n",
    "    nll = opt.last_optimum_value()\n",
    "    success = opt.last_optimize_result()\n",
    "    return nll, mle, success"
   ]
  },
  {
   "cell_type": "code",
   "execution_count": null,
   "id": "5f30913f-ed90-45fb-aa0a-ca5616e778e8",
   "metadata": {
    "tags": []
   },
   "outputs": [],
   "source": [
    "%%time\n",
    "N = 1_000_000\n",
    "\n",
    "#def best(theta):\n",
    "#    return theta\n",
    "\n",
    "np.random.seed(1)\n",
    "worker = partial(nlopt_worker, nt=nt, nf=nf) \n",
    "#global_run_res = run_nloptims(worker, partial(best, theta=best_theta), N)\n",
    "global_run_res = run_nloptims(worker, partial(random_start_simplex, nt=nt, nf=nf), N)"
   ]
  },
  {
   "cell_type": "code",
   "execution_count": null,
   "id": "a054a459-bbe6-4e9d-82e7-fdb5aa18d4f7",
   "metadata": {},
   "outputs": [],
   "source": [
    "optim_plot(global_run=global_run_res, tail=0.01)"
   ]
  },
  {
   "cell_type": "code",
   "execution_count": null,
   "id": "0a394f22-304b-4437-b034-0338c49eca78",
   "metadata": {},
   "outputs": [],
   "source": [
    "best_theta = nloptim_summary(global_run_res, nt, nf, 0)"
   ]
  },
  {
   "cell_type": "markdown",
   "id": "5784f0cb-eb87-426e-a8b8-e400797939d9",
   "metadata": {},
   "source": [
    "## Fixing Mutation Rate"
   ]
  },
  {
   "cell_type": "code",
   "execution_count": null,
   "id": "0b878e94-d7d4-43a6-a1c5-51fdab5acec2",
   "metadata": {},
   "outputs": [],
   "source": [
    "constraint_matrix_fixedmu(nt, nf)[1, 1:].reshape((nt, nf))"
   ]
  },
  {
   "cell_type": "code",
   "execution_count": null,
   "id": "9f6dcf60-2c33-43d2-be1b-e5df8244ab5d",
   "metadata": {},
   "outputs": [],
   "source": [
    "def constraint_matrix_fixedmu(nt, nf):\n",
    "    nparams = nt*nf + 1\n",
    "    A = np.zeros((nf, nparams))\n",
    "    for i in range(nf):\n",
    "        W = A[i, 1:].reshape((nt, nf))\n",
    "        W[:, i] = 1.\n",
    "    return A\n",
    "\n",
    "def inequality_constraint_functions_fixedmu(nt, nf, mu):\n",
    "    \"\"\"\n",
    "     l < μ W < u\n",
    "     l - μ W < 0\n",
    "     μ W - u < 0\n",
    "    \"\"\"\n",
    "    A = constraint_matrix_fixedmu(nt, nf)\n",
    "    lower = 0\n",
    "    upper = 1\n",
    "    def func_l(result, x, grad):\n",
    "        M = lower - (mu *  A.dot(x))\n",
    "        for i in range(nf):\n",
    "            result[i] = M[i]\n",
    "    def func_u(result, x, grad):\n",
    "        M = (mu *  A.dot(x)) - upper\n",
    "        for i in range(nf):\n",
    "            result[i] = M[i]\n",
    "    return func_l, func_u\n",
    "\n",
    "def equality_constraint_function_fixedmu(nt, nf):\n",
    "    A = constraint_matrix_fixedmu(nt, nf)\n",
    "    def func(result, x, grad):\n",
    "        M = A.dot(x)\n",
    "        for i in range(nf):\n",
    "            result[i] = M[i] - 1.\n",
    "    return func\n",
    "\n",
    "\n",
    "def negll_fixedmu_nlopt(Y, B, w, mu):\n",
    "    # NLOPT needs to accept a grad argument\n",
    "    def func(x, grad):\n",
    "        theta = np.empty(x.size + 1)\n",
    "        theta[0] = x[0]\n",
    "        theta[1] = mu\n",
    "        theta[2:] = x[1:].flat\n",
    "        return negll_c(theta, Y, B, w)\n",
    "    return func\n",
    "\n",
    "def bounds_simplex_fixedmu(nt, nf, log10_pi0_bounds=(-4, -2),\n",
    "           paired=False):\n",
    "    l = [10**log10_pi0_bounds[0]]\n",
    "    u = [10**log10_pi0_bounds[1]]\n",
    "    l += [0.]*nf*nt\n",
    "    u += [1.]*nf*nt\n",
    "    lb = np.array(l)\n",
    "    ub = np.array(u)\n",
    "    assert np.all(lb < ub)\n",
    "    if paired:\n",
    "        return list(zip(lb, ub))\n",
    "    return lb, ub\n",
    "\n",
    "\n",
    "def nlopt_fixedmu_worker(x, nt, nf, mu):\n",
    "    nparams = nt*nf + 1\n",
    "    opt = nlopt.opt(nlopt.LN_COBYLA, nparams)\n",
    "    #opt = nlopt.opt(nlopt.AUGLAG, nparams)\n",
    "    #opt.set_local_optimizer(nlopt.LN_COBYLA)\n",
    "    nll = negll_fixedmu_nlopt(Y, Bp, w, mu)\n",
    "    opt.set_min_objective(nll) \n",
    "    hl, hu = inequality_constraint_functions_fixedmu(nt, nf, mu)\n",
    "    tols = np.repeat(1e-11, nf)\n",
    "    opt.add_inequality_mconstraint(hl, tols)\n",
    "    opt.add_inequality_mconstraint(hu, tols)\n",
    "    ce = equality_constraint_function_fixedmu(nt, nf)\n",
    "    opt.add_equality_mconstraint(ce, tols)\n",
    "    lb, ub = bounds_simplex_fixedmu(nt, nf)\n",
    "    opt.set_lower_bounds(lb)\n",
    "    opt.set_upper_bounds(ub)\n",
    "    #opt.set_xtol_abs(np.array([1e-4, 1e-17] + [1e-6] * nt*nf))\n",
    "    opt.set_xtol_rel(1e-1)\n",
    "    #opt.set_ftol_abs(1e-8)\n",
    "    opt.set_maxeval(100000)\n",
    "    assert x.size == nparams\n",
    "    mle = opt.optimize(x)\n",
    "    nll = opt.last_optimum_value()\n",
    "    success = opt.last_optimize_result()\n",
    "    return nll, mle, success\n",
    "\n",
    "def random_start_simplex_fixedmu(nt, nf, log10_pi0_bounds=(-4, -3)):\n",
    "    pi0 = 10**np.random.uniform(log10_pi0_bounds[0], log10_pi0_bounds[1], 1)\n",
    "    W = np.empty((nt, nf))\n",
    "    for i in range(nf):\n",
    "        W[:, i] = np.random.dirichlet([1.] * nt)\n",
    "        assert np.abs(W[:, i].sum() - 1.) < 1e-5\n",
    "    theta = np.empty(nt*nf + 1)\n",
    "    theta[0] = pi0\n",
    "    theta[1:] = W.flat\n",
    "    return theta"
   ]
  },
  {
   "cell_type": "code",
   "execution_count": null,
   "id": "6cc4007f-625b-448b-ae02-94d4e0cec085",
   "metadata": {},
   "outputs": [],
   "source": [
    "%%time\n",
    "N = 10_000\n",
    "\n",
    "np.random.seed(1)\n",
    "worker = partial(nlopt_fixedmu_worker, nt=nt, nf=nf, mu=1e-8) \n",
    "fixedmu_run_res = run_nloptims(worker, partial(random_start_simplex_fixedmu, nt=nt, nf=nf), N)"
   ]
  },
  {
   "cell_type": "code",
   "execution_count": null,
   "id": "7528ac88-c6de-4e02-83d4-d3afde8133a1",
   "metadata": {},
   "outputs": [],
   "source": [
    "nloptim_summary(fixedmu_run_res, nt, nf, 0)"
   ]
  },
  {
   "cell_type": "code",
   "execution_count": null,
   "id": "bbb9b593-1a43-43f6-857a-191516e1e440",
   "metadata": {},
   "outputs": [],
   "source": [
    "optim_plot(fixedmu=fixedmu_run_res, tail=0.01)"
   ]
  },
  {
   "cell_type": "code",
   "execution_count": null,
   "id": "aea1a8ff-a695-4cbe-87ec-ad81d58f6ae1",
   "metadata": {},
   "outputs": [],
   "source": [
    "plt.hist(global_run_res[1][np.argsort(global_run_res[0])[:10000]][:, 1])"
   ]
  },
  {
   "cell_type": "code",
   "execution_count": null,
   "id": "7b2ea135-2839-4399-bfa7-e2fa5601a136",
   "metadata": {},
   "outputs": [],
   "source": [
    "best = thetas[np.aargsort(nlls)[200]]\n",
    "\n",
    "N = 5_000_000\n",
    "\n",
    "#np.random.seed(1)\n",
    "worker = partial(nlopt_worker, nt=nt, nf=nf) \n",
    "global_run_res = run_nloptims(worker, partial(random_start_simplex, nt=nt, nf=nf), N)"
   ]
  },
  {
   "cell_type": "code",
   "execution_count": null,
   "id": "5128dfcf-7287-480a-b830-8883c5dbd63c",
   "metadata": {},
   "outputs": [],
   "source": [
    "optim_plot(global_run=global_run_res, tail=0.001)"
   ]
  },
  {
   "cell_type": "code",
   "execution_count": null,
   "id": "b6afeccf-8011-47a1-bda8-bfaa85766231",
   "metadata": {},
   "outputs": [],
   "source": [
    "best_theta = nloptim_summary(global_run_res, nt, nf) # 3rd run"
   ]
  },
  {
   "cell_type": "code",
   "execution_count": null,
   "id": "e8fcdec5-1541-4a5e-8f12-33b8bede5d76",
   "metadata": {
    "tags": []
   },
   "outputs": [],
   "source": [
    "best_theta = nloptim_summary(global_run_res, nt, nf) # 2nd run"
   ]
  },
  {
   "cell_type": "code",
   "execution_count": null,
   "id": "724a9803-4427-40b5-9683-33da3c12ea26",
   "metadata": {},
   "outputs": [],
   "source": [
    "best_theta = nloptim_summary(global_run_res, nt, nf) # first run"
   ]
  },
  {
   "cell_type": "code",
   "execution_count": null,
   "id": "2d8bdfa4-3c5e-49bc-934e-c42cbb240fe8",
   "metadata": {},
   "outputs": [],
   "source": [
    "bt = np.array([0.00195829561471389, 1.232386727173979e-08, 0.574 , 0.751,  0.906,\n",
    "          0.002 , 0.098,  0.074, 0.044,  0.029,  0.001, 0   ,   0.011 , 0.012,\n",
    "          0.381,  0.11,   0.008])\n",
    "          "
   ]
  },
  {
   "cell_type": "markdown",
   "id": "8cd8a591-c266-49f3-ac53-385e4f0154c0",
   "metadata": {},
   "source": [
    "### Experimental Perturbation Starts\n",
    "\n",
    "It could be an issue of choosing the right perturbation scale, but this looked like it didn't work. I think that this is more becausing finding the true MLE in this space is hard — there are lots of local optima that need to be explored."
   ]
  },
  {
   "cell_type": "code",
   "execution_count": null,
   "id": "edf9f025-b9a9-4e3e-893c-9cda41e39b70",
   "metadata": {},
   "outputs": [],
   "source": [
    "def trunc_normal(loc, scale, lower, upper):\n",
    "    a, b = (lower - loc) / scale, (upper - loc) / scale\n",
    "    return np.random.normal(loc, scale)\n",
    "    return truncnorm.rvs(a, b)\n",
    "\n",
    "def perturber(theta, log10_pi0_bounds=(-4, -3),\n",
    "            log10_mu_bounds=(-11, -7), pi0_scale=1e-6, \n",
    "            mu_scale=1e-12, dfe_scale=1e-04):\n",
    "    def func():\n",
    "        new_theta = np.copy(theta)\n",
    "        normal = truncnorm.rvs\n",
    "\n",
    "        new_theta[0] = trunc_normal(theta[0], pi0_scale, 10**log10_pi0_bounds[0], 10**log10_pi0_bounds[1])\n",
    "        new_theta[1] = trunc_normal(theta[1], mu_scale, 10**log10_mu_bounds[0], 10**log10_mu_bounds[1])\n",
    "        for i in range(2, theta.size):\n",
    "            w = theta[i]\n",
    "            new_theta[i] = trunc_normal(w, dfe_scale, 10**log10_mu_bounds[0]/w, 10**log10_mu_bounds[1]/w)\n",
    "        return new_theta\n",
    "    return func"
   ]
  },
  {
   "cell_type": "code",
   "execution_count": null,
   "id": "594de658-12fa-41da-87c1-fbdbef65c2d6",
   "metadata": {},
   "outputs": [],
   "source": [
    "perturb_starts = perturber(best_theta)\n",
    "run_res = run_nloptims(worker, perturb_starts, 4000)"
   ]
  },
  {
   "cell_type": "code",
   "execution_count": null,
   "id": "8306e2b1-ddc0-4b4a-b5e2-6ca003329634",
   "metadata": {},
   "outputs": [],
   "source": [
    "optim_plot(test=run_res, tail=0.6)"
   ]
  },
  {
   "cell_type": "markdown",
   "id": "9f6b3a86-1687-4e63-b26a-0319169dfd84",
   "metadata": {},
   "source": [
    "## Penalized Methods\n",
    "\n",
    "Some of the instability of convergence to the optimum is that the model cannot choose between weak or strong mutation (and visa versa for selection). \n",
    "\n",
    "We could put a prior on this mutation rate, since we have many other estimates. A recent paper (Tian, Browning, and Browning, 2019) estimated the mutation rate as $\\mu = 1.28 \\times 10^{-8}$ ($95\\%$ CI, $1.02 \\times 10^{-8}, 1.56 \\times 10^{-8}$)."
   ]
  },
  {
   "cell_type": "code",
   "execution_count": null,
   "id": "9e16ed75-5abd-4922-b1a0-8e642bce1385",
   "metadata": {},
   "outputs": [],
   "source": [
    "sigma"
   ]
  },
  {
   "cell_type": "code",
   "execution_count": null,
   "id": "41ff2abc-f1d8-4105-8064-812d17d330eb",
   "metadata": {},
   "outputs": [],
   "source": [
    "mean = 1.28e-8\n",
    "ci = [1.02e-8, 1.56e-8]\n",
    "\n",
    "def ci2params(mean, ci, alpha=0.05):\n",
    "    crit = stats.norm.ppf(1 - alpha/2)\n",
    "    sigma1 = (mean-ci[0])/crit\n",
    "    sigma2 = (ci[1]-mean)/crit\n",
    "    return mean, np.mean((sigma1, sigma2))\n",
    "\n",
    "mean, sigma = ci2params(mean, ci)\n",
    "\n",
    "z = np.linspace(mean - 2.5*sigma, mean + 2.5*sigma, 1000)\n",
    "y = stats.norm(mean, sigma).pdf(z)\n",
    "plt.plot(z, y)\n",
    "#plt.hist(stats.norm(mean, sigma).rvs(10000), 100, density=True)\n",
    "#plt.axvline(mean -sigma)\n",
    "plt.axvline(ci[0])\n",
    "plt.axvline(ci[1])"
   ]
  },
  {
   "cell_type": "code",
   "execution_count": null,
   "id": "721fe6c7-6ef1-4185-a5d2-9997acb239ea",
   "metadata": {},
   "outputs": [],
   "source": [
    "r = 1/(sigma / 1e3)**2\n",
    "\n",
    "r, -r * (mean - 4.6e-9)**2 / 2 / 1e11"
   ]
  },
  {
   "cell_type": "code",
   "execution_count": null,
   "id": "63de120e-3a50-4a12-9109-38772957da43",
   "metadata": {},
   "outputs": [],
   "source": [
    "(mean - 4.6e-9)**2"
   ]
  },
  {
   "cell_type": "code",
   "execution_count": null,
   "id": "bff2a049-417d-4e77-a7cd-a8c787cedbfd",
   "metadata": {},
   "outputs": [],
   "source": []
  },
  {
   "cell_type": "code",
   "execution_count": null,
   "id": "825feb6a-c4be-4c1c-bc2e-e39b159e92d0",
   "metadata": {},
   "outputs": [],
   "source": [
    "negll_c(best_theta, Y, B, w), penalized_negll_c(best_theta, Y, B, w, 1.23e-8, r = r)"
   ]
  },
  {
   "cell_type": "code",
   "execution_count": null,
   "id": "fee30887-6317-4da6-a0c8-8e9d2faaf4ca",
   "metadata": {},
   "outputs": [],
   "source": [
    "def penalized_negll_nlopt(Y, B, w, mu0, r):\n",
    "    # NLOPT needs to accept a grad argument\n",
    "    def func(x, grad):\n",
    "        return penalized_negll_c(x, Y, B, w, mu0, r)\n",
    "    return func\n",
    "\n",
    "\n",
    "def penalized_nlopt_worker(start, nt, nf, mu0, r):\n",
    "    nparams = nt*nf + 2\n",
    "    opt = nlopt.opt(nlopt.LN_COBYLA, nparams)\n",
    "    #opt = nlopt.opt(nlopt.LN_BOBYQA, nparams)    \n",
    "    #opt = nlopt.opt(nlopt.AUGLAG, nparams)\n",
    "    #opt.set_local_optimizer(nlopt.LN_COBYLA)\n",
    "    nll = penalized_negll_nlopt(Y, Bp, w, mu0=mu0, r=r)\n",
    "    opt.set_min_objective(nll) \n",
    "    hl, hu = inequality_constraint_functions(nt, nf)\n",
    "    tols = np.repeat(1e-11, nf)\n",
    "    opt.add_inequality_mconstraint(hl, tols)\n",
    "    opt.add_inequality_mconstraint(hu, tols)\n",
    "    ce = equality_constraint_function(nt, nf)\n",
    "    opt.add_equality_mconstraint(ce, tols)\n",
    "    lb, ub = bounds_simplex(nt, nf)\n",
    "    opt.set_lower_bounds(lb)\n",
    "    opt.set_upper_bounds(ub)\n",
    "    opt.set_xtol_abs(np.array([1e-4, 1e-10] + [1e-4] * nt*nf))\n",
    "    #opt.set_ftol_abs(1e8)\n",
    "    #opt.set_stopval(923543002497)\n",
    "    opt.set_maxeval(100000)\n",
    "    x = random_start_simplex(nt, nf)\n",
    "    assert x.size == nparams\n",
    "    mle = opt.optimize(x)\n",
    "    nll = opt.last_optimum_value()\n",
    "    success = opt.last_optimize_result()\n",
    "    return nll, mle, success\n",
    "\n",
    "N = 10_000\n",
    "\n",
    "np.random.seed(1)\n",
    "worker = partial(penalized_nlopt_worker, nt=nt, nf=nf, mu0=1.23e-8, r=0) \n",
    "#penalized_run_res = run_nloptims(worker, partial(random_start_simplex, nt=nt, nf=nf), N)"
   ]
  },
  {
   "cell_type": "markdown",
   "id": "6c8b9724-c9b7-4fbe-92b0-464a36bb2aaa",
   "metadata": {},
   "source": [
    "## Scratch"
   ]
  },
  {
   "cell_type": "code",
   "execution_count": null,
   "id": "b02366d0-9608-47e9-81d3-12de0f945337",
   "metadata": {},
   "outputs": [],
   "source": [
    "\n",
    "def normal_negll_freemut_nlopt(Y, B, w):\n",
    "    def func(x, grad):\n",
    "        new_theta = np.zeros(x.size + 1)\n",
    "        new_theta[0] = x[0]\n",
    "        # fix mutation rate to one and let W represent mutation rates to various classes\n",
    "        new_theta[1] = 1.\n",
    "        new_theta[2:] = x[1:] # times mutation rates        \n",
    "        return -normal_ll_c(new_theta, Y, B, w)\n",
    "    return func"
   ]
  },
  {
   "cell_type": "code",
   "execution_count": null,
   "id": "ada5bb27-aaef-4528-bac6-9aadb30b4d72",
   "metadata": {},
   "outputs": [],
   "source": [
    "worker(random_start_simplex(nt, nf))"
   ]
  },
  {
   "cell_type": "code",
   "execution_count": null,
   "id": "23085016-4309-40a8-a230-bbc00fd59515",
   "metadata": {},
   "outputs": [],
   "source": [
    "nloptim_summary(penalized_run_res, nt, nf)"
   ]
  },
  {
   "cell_type": "code",
   "execution_count": null,
   "id": "a4bb45d2-e204-424d-820e-f43e26e21bd9",
   "metadata": {},
   "outputs": [],
   "source": [
    "optim_plot(penalized_run=penalized_run_res)"
   ]
  },
  {
   "cell_type": "code",
   "execution_count": null,
   "id": "2798f79e-180c-4f86-aa5b-3df050673f3e",
   "metadata": {},
   "outputs": [],
   "source": [
    "optim_plot(penalized_run=penalized_run_res, tail=0.01)"
   ]
  },
  {
   "cell_type": "code",
   "execution_count": null,
   "id": "a9c58188-553b-4516-ab03-08774fffba41",
   "metadata": {},
   "outputs": [],
   "source": [
    "pbr = nloptim_summary(penalized_run_res, nt, nf)"
   ]
  },
  {
   "cell_type": "code",
   "execution_count": null,
   "id": "543b79e1-408b-4e88-a3cf-7c6bb37ab29a",
   "metadata": {},
   "outputs": [],
   "source": [
    "pbr = nloptim_summary(penalized_run_res, nt, nf)"
   ]
  },
  {
   "cell_type": "code",
   "execution_count": null,
   "id": "4e2da6aa-3ffb-48b6-bc44-f4e58fc97372",
   "metadata": {},
   "outputs": [],
   "source": [
    "nloptim_summary(penalized_run_res, nt, nf)"
   ]
  },
  {
   "cell_type": "markdown",
   "id": "66f03442-0351-4194-aca9-639da74f0641",
   "metadata": {},
   "source": [
    "## LIPO Optimization"
   ]
  },
  {
   "cell_type": "code",
   "execution_count": null,
   "id": "344aaa37-6346-444d-a9b1-45c1eed902a8",
   "metadata": {},
   "outputs": [],
   "source": [
    "from lipo import GlobalOptimizer"
   ]
  },
  {
   "cell_type": "code",
   "execution_count": null,
   "id": "fd1b0600-9bc6-4cd1-952e-123fc04031ff",
   "metadata": {},
   "outputs": [],
   "source": [
    "params = ['pi0'] + [f\"w{i}\" for i in range(nt*nf)]"
   ]
  },
  {
   "cell_type": "code",
   "execution_count": null,
   "id": "6a489812-ec15-4785-945f-666d6eb91cb6",
   "metadata": {},
   "outputs": [],
   "source": [
    "glb, gub = [dict(zip(params, x.tolist())) for x in bounds_mutation(nf, nt)]"
   ]
  },
  {
   "cell_type": "code",
   "execution_count": null,
   "id": "a4bebaa6-6115-4625-8a64-584f01c46fcb",
   "metadata": {},
   "outputs": [],
   "source": [
    "glb"
   ]
  },
  {
   "cell_type": "code",
   "execution_count": null,
   "id": "a30342ec-22e7-4be8-b586-ace8240a0100",
   "metadata": {},
   "outputs": [],
   "source": [
    "for l in [f\"w{i}\" for i in range(nt*nf)]:\n",
    "    print(l + \", \", end='')"
   ]
  },
  {
   "cell_type": "code",
   "execution_count": null,
   "id": "ce52b578-426e-4c04-b063-1e042c8b1da4",
   "metadata": {},
   "outputs": [],
   "source": [
    "def negll_freemut_alt(Y, B, w):\n",
    "    def func(pi0, w0, w1, w2, w3, w4, w5, w6, w7, w8, w9, w10, w11, w12, w13, w14):\n",
    "        new_theta = np.zeros(17)\n",
    "        new_theta[0] = pi0\n",
    "        # fix mutation rate to one and let W represent mutation rates to various classes\n",
    "        new_theta[1] = 1.\n",
    "        new_theta[2:] = [w0, w1, w2, w3, w4, w5, w6, w7, w8, w9, w10, w11, w12, w13, w14] # times mutation rates        \n",
    "        return negll_c(new_theta, Y, B, w)\n",
    "    return func\n",
    "\n",
    "nllBp = negll_freemut_alt(Y, Bp, w)\n",
    "nllB = negll_freemut_alt(Y, B, w)"
   ]
  },
  {
   "cell_type": "code",
   "execution_count": null,
   "id": "884e63fa-46b1-41bf-a5df-9de4142bc929",
   "metadata": {},
   "outputs": [],
   "source": [
    "evaluations"
   ]
  },
  {
   "cell_type": "code",
   "execution_count": null,
   "id": "bbc6b4a8-2dce-4ba0-b625-05869a80edf0",
   "metadata": {},
   "outputs": [],
   "source": [
    "pre_eval_x = dict(zip(params, random_start_mutation(nt, nf).tolist()))\n",
    "evaluations = [(pre_eval_x, nllBp(**pre_eval_x))]\n",
    "\n",
    "search = GlobalOptimizer(\n",
    "    nllBp,\n",
    "    lower_bounds=glb,\n",
    "    upper_bounds=gub,\n",
    "    #categories={\"z\": [\"a\", \"b\"]},\n",
    "    evaluations=evaluations,\n",
    "    maximize=False,\n",
    ")\n",
    "\n",
    "num_function_calls = 10000\n",
    "search.run(num_function_calls)"
   ]
  },
  {
   "cell_type": "code",
   "execution_count": null,
   "id": "5bf9fa80-a54b-4a03-8729-27ea666f2a01",
   "metadata": {},
   "outputs": [],
   "source": [
    "search.optimum"
   ]
  },
  {
   "cell_type": "markdown",
   "id": "361279f1-14d1-42df-b400-c3a3304456fc",
   "metadata": {},
   "source": [
    "## Likelihood Diagnostics"
   ]
  },
  {
   "cell_type": "code",
   "execution_count": null,
   "id": "45e47265-bf5c-411e-8c53-1ab6e9965a82",
   "metadata": {},
   "outputs": [],
   "source": [
    "Y"
   ]
  },
  {
   "cell_type": "code",
   "execution_count": null,
   "id": "43f9264f-5347-49f6-82ef-2dbb89c75544",
   "metadata": {},
   "outputs": [],
   "source": [
    "plt.plot(np.arange(Y.shape[0]), Y[:, 1])"
   ]
  },
  {
   "cell_type": "code",
   "execution_count": null,
   "id": "53909833-a06f-40f0-a57d-0f938efa3c32",
   "metadata": {},
   "outputs": [],
   "source": [
    "from bgspy.likelihood import predict_simplex\n",
    "pi = predict_simplex(best_theta, B, w)\n",
    "\n",
    "N = Y.sum(axis=1)\n",
    "\n",
    "x = Y[:, 0] / (Y.sum(axis=1))\n",
    "plt.plot(stats.norm(loc=N*pi, scale=N*pi*(1-pi)).logpdf(x))\n",
    "#plt.ylim(-0.2e2, 0)"
   ]
  },
  {
   "cell_type": "code",
   "execution_count": null,
   "id": "9e9affcb-ae93-4859-b01a-396c826d53e7",
   "metadata": {},
   "outputs": [],
   "source": [
    "from bgspy.likelihood import predict_simplex\n",
    "pi = predict_simplex(best_theta, B, w)\n",
    "\n",
    "N = Y.sum(axis=1)\n",
    "\n",
    "x = Y[:, 1] / (Y.sum(axis=1))\n",
    "y = stats.norm(loc=N*pi, scale=N*pi*(1-pi)).logpdf(x)\n",
    "plt.plot(y)\n",
    "plt.ylim(-0.2e2, 0)"
   ]
  },
  {
   "cell_type": "code",
   "execution_count": null,
   "id": "c9a90f20-88da-44be-a3e8-769f89ac2362",
   "metadata": {},
   "outputs": [],
   "source": [
    "_ = plt.hist(x, 200, density=True)"
   ]
  },
  {
   "cell_type": "code",
   "execution_count": null,
   "id": "7619cd73-2012-47c2-a6c2-4fba0c5ffc2a",
   "metadata": {},
   "outputs": [],
   "source": [
    "_ = plt.hist(x, 100, density=True)\n",
    "z = np.linspace(0.0001, 0.008, 100)\n",
    "# trimmed mean\n",
    "alpha = 0.05\n",
    "idx = (np.nanquantile(x, alpha/2) < x) & (np.nanquantile(x, 1-alpha/2) > x)\n",
    "xt = x[idx]\n",
    "plt.plot(z, stats.norm(loc=np.nanmean(xt), scale=np.nanstd(xt)).pdf(z), c='r')\n",
    "plt.plot(z, stats.binom(p=np.nanmean(xt), n=N.mean()).pmf(z), c='g')"
   ]
  },
  {
   "cell_type": "code",
   "execution_count": null,
   "id": "eff9ca25-8115-47e5-a6d2-333c3429aaff",
   "metadata": {},
   "outputs": [],
   "source": [
    "N.mean()"
   ]
  },
  {
   "cell_type": "code",
   "execution_count": null,
   "id": "06a20ffc-667e-4bfc-9330-d3095929c867",
   "metadata": {},
   "outputs": [],
   "source": [
    "xx = x[~np.isnan(x)]\n",
    "plt.plot(standardize(xx))"
   ]
  },
  {
   "cell_type": "code",
   "execution_count": null,
   "id": "466618d4-12ea-48d4-96b4-583fd5ee427c",
   "metadata": {},
   "outputs": [],
   "source": [
    "import seaborn as sns\n",
    "sns.kdeplot(x=xx[:-1:1], y=xx[1::1], fill=True,levels=100, cmap=\"mako\")\n",
    "plt.ylim(0.0005, 0.003)\n",
    "plt.xlim(0.0005, 0.003)"
   ]
  },
  {
   "cell_type": "code",
   "execution_count": null,
   "id": "d443d19b-71cc-476c-a72c-36c056687939",
   "metadata": {},
   "outputs": [],
   "source": [
    "def standardize(x):\n",
    "    return (x - np.nanmean(x)) / (np.nanstd(x))\n",
    "\n",
    "_ = plt.hist(standardize(x), 100, density=True)\n",
    "#z = np.linspace(0.0001, 0.008, 100)\n",
    "# trimmed mean\n",
    "#xt = x[(np.nanquantile(x, 0.01) < x) & (np.nanquantile(x, 0.99) > x)]\n",
    "#plt.plot(z, stats.norm(loc=np.nanmean(xt), scale=np.nanstd(xt)).pdf(z), c='r')"
   ]
  },
  {
   "cell_type": "code",
   "execution_count": null,
   "id": "b8c881c4-bf42-4e5a-ac18-a8ac247694a5",
   "metadata": {},
   "outputs": [],
   "source": [
    "import scipy"
   ]
  },
  {
   "cell_type": "code",
   "execution_count": null,
   "id": "50d06bbb-141e-44fa-aac7-392169375a39",
   "metadata": {},
   "outputs": [],
   "source": [
    "\n",
    "# Define the exponentiated quadratic \n",
    "def exponentiated_quadratic(xa, xb):\n",
    "    \"\"\"Exponentiated quadratic  with σ=1\"\"\"\n",
    "    # L2 distance (Squared Euclidian)\n",
    "    sq_norm = -0.5 * ~(xa, xb, 'sqeuclidean')\n",
    "    return np.exp(sq_norm)\n",
    "\n",
    "def GP(X1, y1, X2, kernel_func):\n",
    "    \"\"\"\n",
    "    Calculate the posterior mean and covariance matrix for y2\n",
    "    based on the corresponding input X2, the observations (y1, X1), \n",
    "    and the prior kernel function.\n",
    "    \"\"\"\n",
    "    # Kernel of the observations\n",
    "    Σ11 = kernel_func(X1, X1)\n",
    "    # Kernel of observations vs to-predict\n",
    "    Σ12 = kernel_func(X1, X2)\n",
    "    # Solve\n",
    "    solved = scipy.linalg.solve(Σ11, Σ12, assume_a='pos').T\n",
    "    # Compute posterior mean\n",
    "    μ2 = solved @ y1\n",
    "    # Compute the posterior covariance\n",
    "    Σ22 = kernel_func(X2, X2)\n",
    "    Σ2 = Σ22 - (solved @ Σ12)\n",
    "    return μ2, Σ2  # mean, covariance"
   ]
  },
  {
   "cell_type": "code",
   "execution_count": null,
   "id": "7ab83b2e-55e7-4c65-a59c-952aab111b09",
   "metadata": {},
   "outputs": [],
   "source": [
    "S11 = exponentiated_quadratic(yy[:, None], yy[:, None])"
   ]
  },
  {
   "cell_type": "code",
   "execution_count": null,
   "id": "9131620c-1ce1-46e9-b930-ee821fe9789e",
   "metadata": {},
   "outputs": [],
   "source": [
    "S11.sum()"
   ]
  },
  {
   "cell_type": "code",
   "execution_count": null,
   "id": "e40b031a-a9f5-46d3-9201-0cfb1b3cb2b6",
   "metadata": {},
   "outputs": [],
   "source": [
    "X1 = X2 = np.arange(yy.size)[:, None]\n",
    "y1 = yy\n",
    "\n",
    "X2 = np.random.uniform(0, yy.size, 1000)[:, None]\n",
    "mean, Sigma = GP(X1, y1, X2, exponentiated_quadratic)"
   ]
  },
  {
   "cell_type": "code",
   "execution_count": null,
   "id": "c1a82e11-80e2-4db2-8201-571e26173be9",
   "metadata": {},
   "outputs": [],
   "source": [
    "y2 = np.random.multivariate_normal(mean=mean, cov=Sigma, size=yy.size)\n"
   ]
  },
  {
   "cell_type": "code",
   "execution_count": null,
   "id": "bb357cd0-92eb-4f93-9856-18ab459b6a49",
   "metadata": {},
   "outputs": [],
   "source": [
    "yy.size"
   ]
  },
  {
   "cell_type": "code",
   "execution_count": null,
   "id": "bff09579-0252-4651-a34b-625b7adfe8da",
   "metadata": {},
   "outputs": [],
   "source": [
    "y2.shape"
   ]
  },
  {
   "cell_type": "code",
   "execution_count": null,
   "id": "6175af1f-8996-4bc7-8741-757e7c1e64a9",
   "metadata": {},
   "outputs": [],
   "source": [
    "plt.plot(y2[0, :])\n",
    "plt.plot(y2[10, :], linestyle='dashed')\n",
    "plt.ylim(-0.2e2, -10)\n",
    "#plt.xlim(1000, 1500)"
   ]
  },
  {
   "cell_type": "code",
   "execution_count": null,
   "id": "76831f32-0da1-445a-88f8-2c900f0dccb5",
   "metadata": {},
   "outputs": [],
   "source": [
    "from jax import jacfwd, jacrev\n",
    "import jax.numpy as jnp\n",
    "#from jax.config import config\n",
    "#config.update(\"jax_enable_x64\", True)"
   ]
  },
  {
   "cell_type": "code",
   "execution_count": null,
   "id": "7786672c-b30d-4e72-a3cf-a96f58d43dac",
   "metadata": {},
   "outputs": [],
   "source": [
    "def ll_jax(theta, Y, logB, w):\n",
    "    nS = Y[:, 0]\n",
    "    nD = Y[:, 1]\n",
    "    nx, nw, nt, nf = logB.shape\n",
    "    # mut weight params\n",
    "    pi0, mu, W = theta[0], theta[1], theta[2:]\n",
    "    W = W.reshape((nt, nf))\n",
    "    # interpolate B(w)'s\n",
    "    logBw = jnp.zeros(nx, dtype=jnp.float32)\n",
    "    for i in range(nx):\n",
    "        for j in range(nt):\n",
    "            for k in range(nf):\n",
    "                logBw = logBw.at[i].add(jnp.interp(mu*W[j, k], w, logB[i, :, j, k]))\n",
    "    log_pibar = jnp.log(pi0) + logBw\n",
    "    llm = nD*log_pibar + nS*jnp.log1p(-jnp.exp(log_pibar))\n",
    "    return jnp.sum(llm)\n",
    "\n",
    "def reduce_theta(theta, nt, nf):\n",
    "    pi0, mu, W = theta[0], theta[1], theta[2:]\n",
    "    W = W.reshape((nt, nf))\n",
    "    new_theta = np.empty((nt-1)*nf + 2)\n",
    "    new_theta[0] = theta[0]\n",
    "    new_theta[1] = theta[1]\n",
    "    new_theta[2:] = W[1:, :].flat\n",
    "    return new_theta"
   ]
  },
  {
   "cell_type": "code",
   "execution_count": null,
   "id": "64f8c502-9e63-4913-b3be-1d56307f812a",
   "metadata": {},
   "outputs": [],
   "source": [
    "reduce_theta(best_theta, nt, nf)[2:].reshape((nt-1, nf))"
   ]
  },
  {
   "cell_type": "code",
   "execution_count": null,
   "id": "7e212c3d-5762-4b58-ac73-7e8483dbda16",
   "metadata": {},
   "outputs": [],
   "source": [
    "func = partial(ll_jax, Y=Y, logB=B, w=w)"
   ]
  },
  {
   "cell_type": "code",
   "execution_count": null,
   "id": "f487540c-fb12-4080-9bc2-c31cca40d570",
   "metadata": {},
   "outputs": [],
   "source": [
    "pbr[2:].reshape((nt, nf))"
   ]
  },
  {
   "cell_type": "code",
   "execution_count": null,
   "id": "fba1132e-f1ac-49d5-b731-f1ce5c37edb0",
   "metadata": {},
   "outputs": [],
   "source": [
    "def hessian(f):\n",
    "    return jacfwd(jacrev(f))\n",
    "H = hessian(func)(pbr)"
   ]
  },
  {
   "cell_type": "code",
   "execution_count": null,
   "id": "1b25f72f-4581-4edc-bae9-6e184e0f2a6c",
   "metadata": {},
   "outputs": [],
   "source": [
    "np.linalg.inv(H)"
   ]
  },
  {
   "cell_type": "code",
   "execution_count": null,
   "id": "3c633691-5a10-4436-8513-a6587eee675e",
   "metadata": {},
   "outputs": [],
   "source": [
    "np.linalg.det(H)"
   ]
  },
  {
   "cell_type": "code",
   "execution_count": null,
   "id": "d8dda5f9-f695-4f59-875d-79d71ca6e84d",
   "metadata": {},
   "outputs": [],
   "source": [
    "np.diag(H), np.trace(H)"
   ]
  },
  {
   "cell_type": "code",
   "execution_count": null,
   "id": "a73f3cad-ef50-43d8-825f-c29dc95f40b4",
   "metadata": {},
   "outputs": [],
   "source": [
    "np.linalg.eigvals(H)"
   ]
  },
  {
   "cell_type": "code",
   "execution_count": null,
   "id": "777f2a2d-b7af-41ed-ab34-e100bb85524f",
   "metadata": {},
   "outputs": [],
   "source": [
    "H"
   ]
  },
  {
   "cell_type": "code",
   "execution_count": null,
   "id": "8de9f00f-17ca-4dc1-a4b3-764345eea8c3",
   "metadata": {},
   "outputs": [],
   "source": [
    "h = np.copy(H)"
   ]
  },
  {
   "cell_type": "code",
   "execution_count": null,
   "id": "305a1e73-d49d-43ef-95c1-e47aadcccd63",
   "metadata": {},
   "outputs": [],
   "source": [
    "h[1,1] = np.nan\n",
    "plt.imshow(h[2:, 2:])"
   ]
  },
  {
   "cell_type": "code",
   "execution_count": null,
   "id": "b07c4958-d197-40e2-aa29-6c7f10f579ad",
   "metadata": {},
   "outputs": [],
   "source": [
    "h"
   ]
  },
  {
   "cell_type": "code",
   "execution_count": null,
   "id": "5dfb01da-9b1f-4a10-8e14-8cf36d6ce88e",
   "metadata": {},
   "outputs": [],
   "source": [
    "best_theta"
   ]
  },
  {
   "cell_type": "code",
   "execution_count": null,
   "id": "3e5ef9a8-aba4-40fe-a2d7-f4806c6fe325",
   "metadata": {},
   "outputs": [],
   "source": [
    "H[0, 0]"
   ]
  },
  {
   "cell_type": "code",
   "execution_count": null,
   "id": "4cc9cb50-f624-4f0e-90b5-3f8a80065ee5",
   "metadata": {},
   "outputs": [],
   "source": [
    "np.linalg.det(H[:2, :2])"
   ]
  },
  {
   "cell_type": "code",
   "execution_count": null,
   "id": "de66ca3e-b2f7-4dac-ba45-85ff39780434",
   "metadata": {},
   "outputs": [],
   "source": [
    "H"
   ]
  },
  {
   "cell_type": "code",
   "execution_count": null,
   "id": "1347a5b7-f61e-4a8b-bade-8081d88dfaa3",
   "metadata": {},
   "outputs": [],
   "source": [
    "np.linalg.inv(H)"
   ]
  },
  {
   "cell_type": "code",
   "execution_count": null,
   "id": "e3520b73-3eda-45bd-82a2-b3a68df240a4",
   "metadata": {},
   "outputs": [],
   "source": []
  }
 ],
 "metadata": {
  "kernelspec": {
   "display_name": "Python 3 (ipykernel)",
   "language": "python",
   "name": "python3"
  },
  "language_info": {
   "codemirror_mode": {
    "name": "ipython",
    "version": 3
   },
   "file_extension": ".py",
   "mimetype": "text/x-python",
   "name": "python",
   "nbconvert_exporter": "python",
   "pygments_lexer": "ipython3",
   "version": "3.8.12"
  }
 },
 "nbformat": 4,
 "nbformat_minor": 5
}
