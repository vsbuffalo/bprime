{
 "cells": [
  {
   "cell_type": "code",
   "execution_count": 1,
   "id": "17014505-6fd5-4554-b5d9-02a7dbbe5506",
   "metadata": {},
   "outputs": [],
   "source": [
    "%load_ext autoreload\n",
    "%autoreload 2\n",
    "%reload_ext autoreload"
   ]
  },
  {
   "cell_type": "code",
   "execution_count": 2,
   "id": "95b3e305-9260-4418-900d-76c064b8775c",
   "metadata": {},
   "outputs": [],
   "source": [
    "import numpy as np\n",
    "import pickle\n",
    "from tabulate import tabulate\n",
    "from functools import partial\n",
    "import ctypes\n",
    "from scipy.optimize import minimize, LinearConstraint, dual_annealing, Bounds, NonlinearConstraint\n",
    "import matplotlib.pyplot as plt\n",
    "import matplotlib as mpl\n",
    "import nlopt \n",
    "import multiprocessing, tqdm\n",
    "from bgspy.likelihood import negll_c, negll, negll_numba, negll_fixmu_c\n",
    "from bgspy.likelihood import negll_fixmu_numba, negll_free_c, negll_free_numba\n",
    "from bgspy.likelihood import bounds_simplex, random_start_simplex, random_start_mutation, negll_mutation, bounds_mutation"
   ]
  },
  {
   "cell_type": "code",
   "execution_count": 218,
   "id": "4078f980-2361-4562-8185-fa766db25cf8",
   "metadata": {},
   "outputs": [],
   "source": [
    "def nloptim_summary(run_res, nt, nf, nll=None):\n",
    "    nlls, thetas, _ = run_res\n",
    "    rank = np.argsort(nlls)\n",
    "    best_idx = rank[0]\n",
    "    theta = thetas[best_idx]\n",
    "    nll = nlls[best_idx]\n",
    "    print(f\"NLL: {nll}\\npi0: {theta[0]}\\n\")\n",
    "    print(f\"μ: {theta[1]}\\nW = \")\n",
    "    W = theta[2:].reshape((nt, nf))\n",
    "    print(tabulate(np.round(W, 3)))\n",
    "    print(f\"sums: {W.sum(axis=0)}\")\n",
    "\n",
    "def optim_summary(res, nt, nf):\n",
    "    theta = res.x\n",
    "    print(f\"NLL: {res.fun}\\npi0: {theta[0]}\\n\")\n",
    "    offset = theta.size - nt * nf \n",
    "    if offset == 2:\n",
    "        print(f\"μ: {theta[1]}\\nW = \")\n",
    "    \n",
    "    W = theta[offset:].reshape((nt, nf))\n",
    "    print(tabulate(np.round(W, 3)))\n",
    "    print(f\"sums: {W.sum(axis=0)}\")\n",
    "\n",
    "def check_bounds(x, lb, ub):\n",
    "    assert np.all((x >= lb) & (x <= ub))"
   ]
  },
  {
   "cell_type": "markdown",
   "id": "db13c567-5f35-42d3-a055-c1a62f577ef9",
   "metadata": {},
   "source": [
    "## Load data and define some functions"
   ]
  },
  {
   "cell_type": "code",
   "execution_count": 153,
   "id": "57902eed-e7a3-4607-8102-8d5deddfe3f1",
   "metadata": {},
   "outputs": [],
   "source": [
    "dat = pickle.load(open('../tests/likelihood_test_data.pkl', 'rb'))\n",
    "B, Bp, Y, w = dat['B'], dat['Bp'], dat['Y'], dat['w']\n",
    "\n",
    "nx, nw, nt, nf = B.shape\n",
    "nparams = nt * nf + 2"
   ]
  },
  {
   "cell_type": "code",
   "execution_count": 209,
   "id": "fc105d63-dd11-47ad-9dc6-43917d625aa1",
   "metadata": {},
   "outputs": [],
   "source": [
    "def optim_plot(tail=0.5, **runs):\n",
    "    fig, ax = plt.subplots()\n",
    "    for key, run in runs.items():\n",
    "        nll = run[0]\n",
    "        succ = run[2]\n",
    "        q = np.quantile(nll, tail)\n",
    "        x = nll[nll < q]\n",
    "        ax.scatter(np.arange(len(x)), np.sort(x)[::-1], s=1, label=key, c=succ[nll < q])\n",
    "    ax.legend()"
   ]
  },
  {
   "cell_type": "markdown",
   "id": "f92375ca-0e55-4b79-9957-a59b5a5323fc",
   "metadata": {},
   "source": [
    "## SciPy Minimize on Reduced Features Model\n",
    "\n",
    "Here we try the simplest case: only one column of features (CDS) of the test human data."
   ]
  },
  {
   "cell_type": "code",
   "execution_count": 5,
   "id": "d2e482e5-6f42-461b-8290-4d57aec98662",
   "metadata": {},
   "outputs": [],
   "source": [
    "def negll_mutation(Y, B, w):\n",
    "    def func(theta):\n",
    "        return negll_c(theta, Y, B, w)\n",
    "    return func\n",
    "\n",
    "def run_optims(workerfunc, startfunc, nstarts, ncores = 50):\n",
    "    starts = [startfunc() for _ in range(nstarts)]\n",
    "    with multiprocessing.Pool(ncores) as p:\n",
    "        res = list(tqdm.tqdm(p.imap(workerfunc, starts), total=nstarts))\n",
    "    nlls = np.array([x.fun for x in res])\n",
    "    thetas = np.array([x.x for x in res])\n",
    "    success = np.array([x.success for x in res])\n",
    "    return nlls, thetas, success\n",
    "    "
   ]
  },
  {
   "cell_type": "code",
   "execution_count": 41,
   "id": "2faa2f25-3f04-41b3-afa9-c5846cc2e413",
   "metadata": {},
   "outputs": [
    {
     "name": "stderr",
     "output_type": "stream",
     "text": [
      "100%|███████████████████████████████████████████████████████████████████████████████████████████████████████████████████████████████████████████████████████████████████████████████████████████████████████████████████████████████████████| 1000/1000 [00:33<00:00, 29.60it/s]\n",
      "100%|███████████████████████████████████████████████████████████████████████████████████████████████████████████████████████████████████████████████████████████████████████████████████████████████████████████████████████████████████████| 1000/1000 [02:24<00:00,  6.92it/s]\n"
     ]
    }
   ],
   "source": [
    "nllBp = negll_mutation(Y, Bp[..., 0][..., None], w)\n",
    "nllB = negll_mutation(Y, B[..., 0][..., None], w)\n",
    "\n",
    "\n",
    "def worker_Bp_reduced(start):\n",
    "    return minimize(nllBp, x0=start, bounds=bounds_mutation(nt, 1, paired=True), method='L-BFGS-B')\n",
    "\n",
    "def worker_B_reduced(start):\n",
    "    return minimize(nllB, x0=start, bounds=bounds_mutation(nt, 1, paired=True), method='L-BFGS-B')\n",
    "\n",
    "resB = run_optims(worker_B_reduced, partial(random_start_mutation, nt, 1), 1000)\n",
    "resBp = run_optims(worker_Bp_reduced, partial(random_start_mutation, nt, 1), 1000)"
   ]
  },
  {
   "cell_type": "code",
   "execution_count": 21,
   "id": "e4bdafd6-f058-4d82-8d88-4c8c3bf607fc",
   "metadata": {},
   "outputs": [
    {
     "name": "stdout",
     "output_type": "stream",
     "text": [
      "neg loglik (x1e11) = 9.13679930680697\n",
      "π0 = 0.0018476304665028685\n",
      "w = [0.0018798  0.01466713 0.11731538 0.18781869 0.67831899]\n",
      "\n",
      "neg loglik (x1e11) = 9.136510519023826\n",
      "π0 = 0.0018618988022671547\n",
      "w = [0.81998263 0.00712955 0.00712955 0.01275834 0.15299993]\n",
      "\n"
     ]
    }
   ],
   "source": [
    "def summarize_optims(res):\n",
    "    nlls, thetas, success = res\n",
    "    x = thetas[np.argmin(nlls)]\n",
    "    ll = np.min(nlls) / 1e11\n",
    "    pi0 = x[0]\n",
    "    w = x[1:]/x[1:].sum()\n",
    "    print(f\"neg loglik (x1e11) = {ll}\\nπ0 = {pi0}\\nw = {w}\\n\")\n",
    "\n",
    "summarize_optims(resB)\n",
    "summarize_optims(resBp)"
   ]
  },
  {
   "cell_type": "code",
   "execution_count": 44,
   "id": "56832866-4146-450b-a626-0d4db1c4e1ba",
   "metadata": {},
   "outputs": [
    {
     "data": {
      "image/png": "[encoded data removed]",
      "text/plain": [
       "<Figure size 432x288 with 1 Axes>"
      ]
     },
     "metadata": {
      "needs_background": "light"
     },
     "output_type": "display_data"
    }
   ],
   "source": [
    "_ = plt.hist(resB[0], 100)\n",
    "_ = plt.hist(resBp[0], 100)\n",
    "#plt.xlim(9e11, 9.7e11)"
   ]
  },
  {
   "cell_type": "code",
   "execution_count": null,
   "id": "558447b2-11bb-4f32-aac9-95e85a98a398",
   "metadata": {},
   "outputs": [],
   "source": [
    "\n",
    "optim_plot(B=resB[0], Bp=resBp[0], tail=0.7)\n",
    "plt.semilogy()"
   ]
  },
  {
   "cell_type": "markdown",
   "id": "b483fed9-5558-42c9-b104-f7a73431f9d3",
   "metadata": {},
   "source": [
    "## Full Feature Model"
   ]
  },
  {
   "cell_type": "code",
   "execution_count": 71,
   "id": "239788d3-9884-46d4-9758-21ab41cdc51f",
   "metadata": {},
   "outputs": [
    {
     "name": "stderr",
     "output_type": "stream",
     "text": [
      "100%|█████████████████████████████████████████████████████████████████████████████████████████████████████████████████████████████████████████████████████████████████████████████████████████████████████████████████████████████████████| 10000/10000 [19:48<00:00,  8.42it/s]\n",
      "100%|█████████████████████████████████████████████████████████████████████████████████████████████████████████████████████████████████████████████████████████████████████████████████████████████████████████████████████████████████████| 10000/10000 [57:46<00:00,  2.88it/s]\n"
     ]
    }
   ],
   "source": [
    "nllBp = negll_mutation(Y, Bp, w)\n",
    "nllB = negll_mutation(Y, B, w)\n",
    "\n",
    "resB = run_optims(funcB, partial(random_start_mutation, nt, nf), 10000)\n",
    "resBp = run_optims(funcBp, partial(random_start_mutation, nt, nf), 10000)"
   ]
  },
  {
   "cell_type": "code",
   "execution_count": 49,
   "id": "1b990248-eb95-4a78-a54d-bd7aa85e0191",
   "metadata": {},
   "outputs": [
    {
     "name": "stdout",
     "output_type": "stream",
     "text": [
      "neg loglik (x1e11) = 9.136238718763842\n",
      "π0 = 0.0018680522258483635\n",
      "w = [0.00092194 0.00871072 0.00092194 0.00092194 0.02331962 0.01110999\n",
      " 0.03907131 0.03123646 0.06802779 0.05731969 0.11204503 0.11452544\n",
      " 0.26444021 0.14045037 0.12697754]\n",
      "\n",
      "neg loglik (x1e11) = 9.135727974098398\n",
      "π0 = 0.0018471586635901594\n",
      "w = [2.85181146e-01 3.03553277e-01 3.02736991e-01 1.48147813e-03\n",
      " 1.96688018e-03 1.48860647e-04 1.48147813e-03 2.20764496e-03\n",
      " 1.49313382e-04 2.22699421e-03 1.01987551e-02 1.88873906e-02\n",
      " 3.26720335e-02 1.74235893e-02 1.96841676e-02]\n",
      "\n"
     ]
    }
   ],
   "source": [
    "summarize_optims(resB)\n",
    "summarize_optims(resBp)"
   ]
  },
  {
   "cell_type": "code",
   "execution_count": 72,
   "id": "a29904f5-4cc1-4462-b4d5-8cbb2b615a9a",
   "metadata": {},
   "outputs": [
    {
     "name": "stdout",
     "output_type": "stream",
     "text": [
      "neg loglik (x1e11) = 9.136210620108592\n",
      "π0 = 0.001832632938462439\n",
      "w = [0.00067024 0.00303245 0.00356283 0.00225789 0.01622741 0.01293601\n",
      " 0.03748141 0.02001501 0.01556434 0.05943573 0.02536378 0.02063053\n",
      " 0.06551823 0.15102776 0.56627639]\n",
      "\n",
      "neg loglik (x1e11) = 9.135631495158481\n",
      "π0 = 0.0018756643233880147\n",
      "w = [0.27265551 0.30606669 0.30738128 0.00197195 0.00041798 0.00243373\n",
      " 0.00197195 0.00043947 0.00276012 0.00349522 0.00982398 0.01224425\n",
      " 0.03734932 0.02431335 0.01667519]\n",
      "\n"
     ]
    }
   ],
   "source": [
    "summarize_optims(resB)\n",
    "summarize_optims(resBp)"
   ]
  },
  {
   "cell_type": "code",
   "execution_count": 75,
   "id": "48a748dc-8da4-43f8-9625-c012fc1f3c7a",
   "metadata": {},
   "outputs": [
    {
     "data": {
      "text/plain": [
       "[]"
      ]
     },
     "execution_count": 75,
     "metadata": {},
     "output_type": "execute_result"
    },
    {
     "data": {
      "image/png": "[encoded data removed]",
      "text/plain": [
       "<Figure size 432x288 with 1 Axes>"
      ]
     },
     "metadata": {
      "needs_background": "light"
     },
     "output_type": "display_data"
    }
   ],
   "source": [
    "optim_plot(B=resB[0], Bp=resBp[0], tail=0.10)\n",
    "plt.semilogy()"
   ]
  },
  {
   "cell_type": "code",
   "execution_count": 76,
   "id": "685e3842-0fc4-44e8-ba0b-cd5d75a30bea",
   "metadata": {},
   "outputs": [
    {
     "data": {
      "text/plain": [
       "array([[0.859, 0.897, 0.9  ],\n",
       "       [0.006, 0.001, 0.007],\n",
       "       [0.006, 0.001, 0.008],\n",
       "       [0.011, 0.029, 0.036],\n",
       "       [0.118, 0.071, 0.049]])"
      ]
     },
     "execution_count": 76,
     "metadata": {},
     "output_type": "execute_result"
    }
   ],
   "source": [
    "nlls, thetas, _ = resBp\n",
    "x = thetas[np.argsort(nlls)[0]][1:].reshape((nt, nf))\n",
    "np.round(x / x.sum(axis=0), 3)"
   ]
  },
  {
   "cell_type": "code",
   "execution_count": 78,
   "id": "24e9b35e-f4ec-4d4f-b04c-e0cecc52c9d2",
   "metadata": {},
   "outputs": [
    {
     "data": {
      "text/plain": [
       "array([[0.915, 0.753, 0.948],\n",
       "       [0.   , 0.004, 0.   ],\n",
       "       [0.   , 0.007, 0.   ],\n",
       "       [0.   , 0.102, 0.02 ],\n",
       "       [0.084, 0.133, 0.031]])"
      ]
     },
     "execution_count": 78,
     "metadata": {},
     "output_type": "execute_result"
    }
   ],
   "source": [
    "nlls, thetas, _ = resBp\n",
    "x = thetas[np.argsort(nlls)[2]][1:].reshape((nt, nf))\n",
    "np.round(x / x.sum(axis=0), 3)"
   ]
  },
  {
   "cell_type": "markdown",
   "id": "c614701a-3fa4-435b-8873-6f9db4872562",
   "metadata": {},
   "source": [
    "## Simplex Model"
   ]
  },
  {
   "cell_type": "markdown",
   "id": "42e5f426-54f9-4d3b-b943-12e1b17a23e7",
   "metadata": {},
   "source": [
    "The simplex model is an $n_t \\times n_f$ matrix $\\mathbf{W}$ which are DFE weights (columns sum to 1). The mutation rate per selection class, per feature class is then $\\mu \\mathbf{W}$.\n",
    "\n",
    "The bounds of $\\mathbf{W}$ are $[0, 1]$, and the constraint is $\\sum_j w_{i,j} = 1$ However, there is also a total mutation bound, $\\mu_l \\le \\mu \\le \\mu_u$. So, \n",
    "\n",
    "$$ \\mu_l \\le \\mu \\mathbf{W} \\le \\mu_u$$"
   ]
  },
  {
   "cell_type": "code",
   "execution_count": 8,
   "id": "9aa35b94-d23f-4938-985b-6d56e6247d8a",
   "metadata": {},
   "outputs": [],
   "source": [
    "def negll_simplex(Y, B, w):\n",
    "    def func(theta):\n",
    "        new_theta = np.empty(theta.size - 1)\n",
    "        new_theta[0] = theta[0]\n",
    "        mu = theta[1]\n",
    "        assert 1e-11 <= mu <= 1e-7, f\"out of bounds! x={mu}\"\n",
    "        new_theta[1:] = mu*theta[2:]\n",
    "        #assert np.all(1e-11 <= new_theta[1:])\n",
    "        assert np.all(new_theta[1:] <= 1e-7)\n",
    "        return negll_c(new_theta, Y, B, w)\n",
    "    return func\n",
    "\n",
    "def constraint_matrix(nt, nf):\n",
    "    nparams = nt*nf + 2\n",
    "    A = np.zeros((nf, nparams))\n",
    "    for i in range(nf):\n",
    "        start = 2 + i*nt\n",
    "        W = A[i, 2:].reshape((nt, nf))\n",
    "        W[:, i] = 1.\n",
    "    return A\n",
    "\n",
    "def tol_vectors(n, tol1, tol2=None):\n",
    "    if tol2 is None:\n",
    "        tol2 = tol1\n",
    "    return np.ones(n) - tol1, np.ones(n) + tol2\n",
    "\n",
    "lb, ub = tol_vectors(nf, 1e-2)\n",
    "A = constraint_matrix(nt, nf)\n",
    "W_simplex_constraint = LinearConstraint(A, lb, ub)\n",
    "\n",
    "\n",
    "\n",
    "A = constraint_matrix(nt, nf)"
   ]
  },
  {
   "cell_type": "code",
   "execution_count": 249,
   "id": "eaad8a2c-9b6a-413d-bc8f-9426de1d1386",
   "metadata": {},
   "outputs": [],
   "source": [
    "nllBp_simplex = negll_simplex(Y, Bp, w)\n",
    "nllB_simplex = negll_simplex(Y, B, w)\n",
    "\n",
    "tol = 1e-5\n",
    "cons = tuple({'type': 'eq','fun': lambda x: np.abs((x[1] * np.sum(A[i, :].dot(x)) - 1) - tol)} for i in range(3))\n",
    "\n",
    "def worker_simplex_Bp(start):\n",
    "    return minimize(nllBp_simplex, x0=start, bounds=Bounds(*bounds_simplex(nt, nf)),\n",
    "                    constraints=LinearConstraint(cons,  1e-11, 1e-7), method='SLSQP')\n",
    "\n",
    "def worker_simplex_B(start):\n",
    "    return minimize(nllB_simplex, x0=start, bounds=Bounds(*bounds_simplex(nt, nf)),\n",
    "                    constraints=LinearConstraint(cons,  1e-11, 1e-7), method='SLSQP')\n",
    "\n",
    "#resB_simplex = run_optims(worker_simplex_B, partial(random_start_simplex, nt, nf), 100)\n",
    "#resBp_simplex = run_optims(worker_simplex_Bp, partial(random_start_simplex, nt, nf), 100)"
   ]
  },
  {
   "cell_type": "markdown",
   "id": "4e89b544-1393-48c7-8d55-eab96bbdd238",
   "metadata": {},
   "source": [
    "## NonLinear Constraints"
   ]
  },
  {
   "cell_type": "code",
   "execution_count": 200,
   "id": "8cce50a2-a76b-4e0e-9daa-98d249cd6a74",
   "metadata": {},
   "outputs": [],
   "source": [
    "def negll_nlopt(Y, B, w):\n",
    "    # NLOPT needs to accept a grad argument\n",
    "    def func(x, grad):\n",
    "        new_theta = np.empty(x.size - 1)\n",
    "        new_theta[0] = x[0]\n",
    "        mu = x[1]\n",
    "        #assert 1e-11 <= mu <= 1e-7, f\"out of bounds! x={mu}\"\n",
    "        new_theta[1:] = mu*x[2:]\n",
    "        #assert np.all(1e-11 <= new_theta[1:])\n",
    "        #assert np.all(new_theta[1:] <= 1e-7)\n",
    "        return negll_c(new_theta, Y, B, w)\n",
    "    return func\n",
    "\n",
    "\n",
    "def run_nloptims(workerfunc, startfunc, nstarts, ncores = 50):\n",
    "    starts = [startfunc() for _ in range(nstarts)]\n",
    "    with multiprocessing.Pool(ncores) as p:\n",
    "        res = list(tqdm.tqdm(p.imap(workerfunc, starts), total=nstarts))\n",
    "    nlls = np.array([x[0] for x in res])\n",
    "    thetas = np.array([x[1] for x in res])\n",
    "    success = np.array([x[2] for x in res])\n",
    "    return nlls, thetas, success\n",
    "    "
   ]
  },
  {
   "cell_type": "code",
   "execution_count": 248,
   "id": "c018a89b-1f38-40c1-844d-3a972fcaead4",
   "metadata": {},
   "outputs": [],
   "source": [
    "\n",
    "\n",
    "\n",
    "def inequality_constraint_functions(nt, nf, log10_mu_bounds=(-11, -7)):\n",
    "    \"\"\"\n",
    "     l < u W < u\n",
    "     l - uW < 0\n",
    "     u W - u < 0\n",
    "    \"\"\"\n",
    "    A = constraint_matrix(nt, nf)\n",
    "    lower, upper = 10**log10_mu_bounds[0], 10**log10_mu_bounds[1]\n",
    "    def func_l(result, x, grad):\n",
    "        #x = x[0]\n",
    "        mu = x[1]\n",
    "        M = lower - (mu *  A.dot(x))\n",
    "        for i in range(nf):\n",
    "            result[i] = M[i]\n",
    "    def func_u(result, x, grad):\n",
    "        #x = x[0]\n",
    "        mu = x[1]\n",
    "        M = (mu *  A.dot(x)) - upper\n",
    "        for i in range(nf):\n",
    "            result[i] = M[i]\n",
    "    return func_l, func_u\n",
    "\n",
    "def equality_constraint_function(nt, nf):\n",
    "    A = constraint_matrix(nt, nf)\n",
    "    def func(result, x, grad):\n",
    "        M = A.dot(x)\n",
    "        for i in range(nf):\n",
    "            result[i] = M[i] - 1.\n",
    "    return func\n",
    "\n",
    "hl, hu = inequality_constraint_functions(nt, nf)\n",
    "ce = equality_constraint_function(nt, nf)\n",
    "# NOTE: we do not have a start-based test of these bounds\n",
    "# because it looks like SWIG's interface to NLOPT wraps this in a \n",
    "# weird way"
   ]
  },
  {
   "cell_type": "code",
   "execution_count": 249,
   "id": "18b9569f-0623-4558-b6dd-43b2d8537019",
   "metadata": {},
   "outputs": [],
   "source": [
    "opt = nlopt.opt(nlopt.LN_COBYLA, nparams)\n",
    "nll = negll_nlopt(Y, Bp, w)\n",
    "opt.set_min_objective(nll) \n",
    "\n",
    "tols = np.repeat(1e-12, nf)\n",
    "opt.add_inequality_mconstraint(hl, tols)\n",
    "opt.add_inequality_mconstraint(hu, tols)\n",
    "opt.add_equality_mconstraint(ce, tols)\n",
    "\n",
    "\n",
    "lb, ub = bounds_simplex(nt, nf)\n",
    "opt.set_lower_bounds(lb)\n",
    "opt.set_upper_bounds(ub)"
   ]
  },
  {
   "cell_type": "code",
   "execution_count": 250,
   "id": "9f8b02a2-33e7-4674-acb1-208f8291a1f3",
   "metadata": {
    "tags": []
   },
   "outputs": [],
   "source": [
    "#opt.set_xtol_abs(np.array([1e-4, 1e-10] + [1e-02] * nt*nf))\n",
    "opt.set_ftol_abs(1e8)\n",
    "#opt.set_stopval(923543002497)\n",
    "opt.set_maxeval(100000)\n",
    "x = random_start_simplex(nt, nf)\n",
    "assert x.size == nparams\n",
    "\n",
    "res = opt.optimize(x)"
   ]
  },
  {
   "cell_type": "code",
   "execution_count": 251,
   "id": "aa114063-de0a-4a37-9992-92348758ae11",
   "metadata": {},
   "outputs": [
    {
     "name": "stderr",
     "output_type": "stream",
     "text": [
      "100%|███████████████████████████████████████████████████████████████████████████████████████████████████████████████████████████████████████████████████████████████████████████████████████████████████████████████████████████████████████| 1000/1000 [02:29<00:00,  6.67it/s]\n"
     ]
    }
   ],
   "source": [
    "def nlopt_worker(start, nt, nf):\n",
    "    nparams = nt*nf + 2\n",
    "    opt = nlopt.opt(nlopt.LN_COBYLA, nparams)\n",
    "    nll = negll_nlopt(Y, Bp, w)\n",
    "    opt.set_min_objective(nll) \n",
    "    hl, hu = constraint_function(nt, nf)\n",
    "    tols = np.repeat(1e-11, nf)\n",
    "    opt.add_inequality_mconstraint(hl, tols)\n",
    "    opt.add_inequality_mconstraint(hu, tols)\n",
    "    ce = equality_constraint_function(nt, nf)\n",
    "    opt.add_equality_mconstraint(ce, tols)\n",
    "    lb, ub = bounds_simplex(nt, nf)\n",
    "    opt.set_lower_bounds(lb)\n",
    "    opt.set_upper_bounds(ub)\n",
    "    opt.set_xtol_abs(np.array([1e-4, 1e-10] + [1e-016] * nt*nf))\n",
    "    #opt.set_ftol_abs(1e8)\n",
    "    #opt.set_stopval(923543002497)\n",
    "    opt.set_maxeval(100000)\n",
    "    x = random_start_simplex(nt, nf)\n",
    "    assert x.size == nparams\n",
    "    mle = opt.optimize(x)\n",
    "    nll = opt.last_optimum_value()\n",
    "    success = opt.last_optimize_result()\n",
    "    return nll, mle, success\n",
    "\n",
    "\n",
    "\n",
    "worker = partial(nlopt_worker, nt=nt, nf=nf) \n",
    "worker(random_start_simplex(nt, nf))\n",
    "run_res = run_nloptims(worker, partial(random_start_simplex, nt=nt, nf=nf), 1000)"
   ]
  },
  {
   "cell_type": "code",
   "execution_count": 255,
   "id": "4a46d98b-b38f-4401-829e-f4cd0587adb4",
   "metadata": {},
   "outputs": [
    {
     "data": {
      "image/png": "[encoded data removed]",
      "text/plain": [
       "<Figure size 432x288 with 1 Axes>"
      ]
     },
     "metadata": {
      "needs_background": "light"
     },
     "output_type": "display_data"
    }
   ],
   "source": [
    "optim_plot(test=run_res, tail=0.6)"
   ]
  },
  {
   "cell_type": "code",
   "execution_count": 256,
   "id": "ecc556ae-8866-4cf4-aeda-33f1993c260d",
   "metadata": {},
   "outputs": [
    {
     "name": "stdout",
     "output_type": "stream",
     "text": [
      "NLL: 913700920837.6517\n",
      "pi0: 0.002008660483256861\n",
      "\n",
      "μ: 1.0587310609121925e-08\n",
      "W = \n",
      "-----  -----  -----\n",
      "0.695  0.405  0.135\n",
      "0.044  0.014  0.085\n",
      "0      0.024  0.041\n",
      "0.015  0.005  0.299\n",
      "0.246  0.558  0.439\n",
      "-----  -----  -----\n",
      "sums: [1.         1.00464008 1.        ]\n"
     ]
    }
   ],
   "source": [
    "nloptim_summary(run_res, nt, nf)"
   ]
  },
  {
   "cell_type": "code",
   "execution_count": null,
   "id": "b9a8c48a-d89c-4e0a-b21d-adbbda4a7eb4",
   "metadata": {},
   "outputs": [],
   "source": []
  }
 ],
 "metadata": {
  "kernelspec": {
   "display_name": "Python 3 (ipykernel)",
   "language": "python",
   "name": "python3"
  },
  "language_info": {
   "codemirror_mode": {
    "name": "ipython",
    "version": 3
   },
   "file_extension": ".py",
   "mimetype": "text/x-python",
   "name": "python",
   "nbconvert_exporter": "python",
   "pygments_lexer": "ipython3",
   "version": "3.8.12"
  }
 },
 "nbformat": 4,
 "nbformat_minor": 5
}
