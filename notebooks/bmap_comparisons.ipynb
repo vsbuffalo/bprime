{
 "cells": [
  {
   "cell_type": "code",
   "execution_count": 1,
   "id": "c9a5240d-2070-4fff-b312-cb24e1c6de65",
   "metadata": {},
   "outputs": [],
   "source": [
    "import sys\n",
    "sys.path.extend(['..', '../bprime'])\n",
    "    \n",
    "%load_ext autoreload\n",
    "%autoreload 2\n",
    "%reload_ext autoreload"
   ]
  },
  {
   "cell_type": "code",
   "execution_count": 2,
   "id": "dcf26c4f-c9cf-434f-97e9-605a3809aac4",
   "metadata": {},
   "outputs": [],
   "source": [
    "import os\n",
    "import pickle\n",
    "import operator\n",
    "from collections import defaultdict\n",
    "import tqdm\n",
    "import tskit\n",
    "import numpy as np\n",
    "import pyslim\n",
    "import scipy.stats as stats\n",
    "from scipy import interpolate\n",
    "from scipy.ndimage import gaussian_filter1d\n",
    "from sklearn.metrics import mean_absolute_error as MAE\n",
    "import matplotlib.pyplot as plt\n",
    "import matplotlib as mpl\n",
    "import matplotlib.patheffects as path_effects\n",
    "import matplotlib.path as mpath\n",
    "import matplotlib.patches as patches\n",
    "from matplotlib.path import Path\n",
    "\n",
    "\n",
    "from bprime.tree_utils import load_recrates, load_neutregions\n",
    "from bprime.models import BGSModel \n",
    "from bprime.genome import Genome\n",
    "from bprime.utils import read_centro\n",
    "from bprime.utils import read_bkgd\n",
    "from bprime.utils import read_bkgd"
   ]
  },
  {
   "cell_type": "code",
   "execution_count": 3,
   "id": "bb56b395-d666-42a4-acef-f9b2eeb9c7de",
   "metadata": {},
   "outputs": [
    {
     "data": {
      "text/plain": [
       "{('one', 'golden'): array([3.5433, 2.1899]),\n",
       " ('one', 'one'): array([3.5433, 3.5433]),\n",
       " ('one', 'two'): array([3.5433, 1.7717]),\n",
       " ('onehalf', 'golden'): array([5.5118, 3.4065]),\n",
       " ('onehalf', 'one'): array([5.5118, 5.5118]),\n",
       " ('onehalf', 'two'): array([5.5118, 2.7559]),\n",
       " ('two', 'golden'): array([7.4803, 4.6231]),\n",
       " ('two', 'one'): array([7.4803, 7.4803]),\n",
       " ('two', 'two'): array([7.4803, 3.7402])}"
      ]
     },
     "execution_count": 3,
     "metadata": {},
     "output_type": "execute_result"
    }
   ],
   "source": [
    "plt.rcParams['figure.figsize'] = [8, 4]\n",
    "plt.rcParams['figure.dpi'] = 200\n",
    "plt.rcParams['text.usetex'] = False\n",
    "plt.rcParams['mathtext.fontset'] = 'cm'\n",
    "plt.style.use('./buffalo.mplstyle')\n",
    "\n",
    "# from https://writing.stackexchange.com/questions/21658/what-is-the-image-size-in-scientific-paper-if-indicated-as-a-single-1-5-or-2-c \n",
    "# in mm\n",
    "mm_to_inches = lambda x: 0.0393701 * x\n",
    "img_size = dict(one = mm_to_inches(90), onehalf = mm_to_inches(140), two = mm_to_inches(190))\n",
    "asp_ratio = dict(golden = (1 + np.sqrt(5))/2, one=1, two=2)\n",
    "fig_sizes = {(k, ar): np.round((v, v/asp_ratio[ar]), 4) for k, v in img_size.items() for ar in asp_ratio}\n",
    "fig_sizes"
   ]
  },
  {
   "cell_type": "code",
   "execution_count": 4,
   "id": "f0bae725-464a-4a0c-9693-338b3d5b99c4",
   "metadata": {},
   "outputs": [],
   "source": [
    "force = False"
   ]
  },
  {
   "cell_type": "markdown",
   "id": "9dd33c80-69bc-4f7f-b431-7ece173df1ac",
   "metadata": {
    "tags": []
   },
   "source": [
    "### bgspy B maps"
   ]
  },
  {
   "cell_type": "code",
   "execution_count": 11,
   "id": "5d709c70-e1d9-41d9-84b2-17d4227c3920",
   "metadata": {},
   "outputs": [
    {
     "name": "stdout",
     "output_type": "stream",
     "text": [
      "ignoring HapMap header...\n",
      "parsing recmap as HapMap formatted (chrom, end, rate)\n",
      "completed segmenting chr10.\n",
      "looking up map positions...\tdone.\n"
     ]
    },
    {
     "data": {
      "text/plain": [
       "Genome 'hg38' with 1 chromosome(s)\n",
       " recmap: '../data/annotation/hapmap/genetic_map_GRCh37_chr10.txt'\n",
       " annot: '../data/annotation/conserved_by_chrom/chr10.bed'\n",
       " neutral: 'None'\n",
       " segments: 149,428"
      ]
     },
     "execution_count": 11,
     "metadata": {},
     "output_type": "execute_result"
    }
   ],
   "source": [
    "g = Genome('hg38', seqlens_file=\"../data/annotation/hg38_seqlens.tsv\", chroms=['chr10'])\n",
    "g.load_annot(\"../data/annotation/conserved_by_chrom/chr10.bed\")\n",
    "g.load_recmap(\"../data/annotation/hapmap/genetic_map_GRCh37_chr10.txt\")\n",
    "g.create_segments()\n",
    "g"
   ]
  },
  {
   "cell_type": "code",
   "execution_count": 37,
   "id": "ab8b88f2-0a2a-4d43-a788-bda66010c8ad",
   "metadata": {},
   "outputs": [],
   "source": [
    "m = BGSModel(g,\n",
    "             w_grid=np.array([1e-7, 5e-7, 1e-8, 1e-9]),\n",
    "             t_grid=np.array([0.1, 0.01, 0.001, 0.0001]))\n",
    "\n",
    "pkl_b_file = '../data/bmaps/bgspy/B_chr10.pkl'\n",
    "\n",
    "\n",
    "if force or not os.path.exists(pkl_b_file):\n",
    "    m.calc_B(step=1_000, ncores=70, nchunks=70)\n",
    "    m.save_B(pkl_b_file)\n",
    "else:\n",
    "    m.load_B(pkl_b_file)"
   ]
  },
  {
   "cell_type": "code",
   "execution_count": 30,
   "id": "bb060fa8-009a-41a6-8d9c-bbae843a9218",
   "metadata": {},
   "outputs": [],
   "source": [
    "os.environ[\"CUDA_VISIBLE_DEVICES\"]=\"0,1\"\n",
    "#os.environ[\"CUDA_VISIBLE_DEVICES\"] = \"-1\""
   ]
  },
  {
   "cell_type": "code",
   "execution_count": 10,
   "id": "d98957a9-ff6e-435b-8d99-5ebcbd025828",
   "metadata": {},
   "outputs": [],
   "source": [
    "#Z = np.repeat([[0.1, 1e-6, 1e-8, 0.001, 243260]], 243260, axis=0)\n",
    "#_ = m.learned_B.func.model.predict(Z, verbose=True)\n",
    "import tensorflow as tf"
   ]
  },
  {
   "cell_type": "code",
   "execution_count": 14,
   "id": "28850458-e87d-4b65-925a-7b0bfe549966",
   "metadata": {},
   "outputs": [
    {
     "name": "stdout",
     "output_type": "stream",
     "text": [
      "loading DNN model from '../data/dnn_models/fullbgs'...\tdone.\n"
     ]
    },
    {
     "data": {
      "application/vnd.jupyter.widget-view+json": {
       "model_id": "d5420b38d34c4502a6a5b9c0c40f7d3d",
       "version_major": 2,
       "version_minor": 0
      },
      "text/plain": [
       "  0%|          | 0/100 [00:00<?, ?it/s]"
      ]
     },
     "metadata": {},
     "output_type": "display_data"
    },
    {
     "ename": "KeyboardInterrupt",
     "evalue": "",
     "output_type": "error",
     "traceback": [
      "\u001b[0;31m---------------------------------------------------------------------------\u001b[0m",
      "\u001b[0;31mKeyboardInterrupt\u001b[0m                         Traceback (most recent call last)",
      "Input \u001b[0;32mIn [14]\u001b[0m, in \u001b[0;36m<cell line: 4>\u001b[0;34m()\u001b[0m\n\u001b[1;32m      2\u001b[0m os\u001b[38;5;241m.\u001b[39menviron[\u001b[38;5;124m\"\u001b[39m\u001b[38;5;124mTF_GPU_ALLOCATOR\u001b[39m\u001b[38;5;124m\"\u001b[39m] \u001b[38;5;241m=\u001b[39m \u001b[38;5;124m\"\u001b[39m\u001b[38;5;124mcuda_malloc_async\u001b[39m\u001b[38;5;124m\"\u001b[39m\n\u001b[1;32m      3\u001b[0m tf\u001b[38;5;241m.\u001b[39mget_logger()\u001b[38;5;241m.\u001b[39msetLevel(\u001b[38;5;124m'\u001b[39m\u001b[38;5;124mERROR\u001b[39m\u001b[38;5;124m'\u001b[39m)\n\u001b[0;32m----> 4\u001b[0m res \u001b[38;5;241m=\u001b[39m \u001b[43mm\u001b[49m\u001b[38;5;241;43m.\u001b[39;49m\u001b[43mcalc_Bp\u001b[49m\u001b[43m(\u001b[49m\u001b[43mstep\u001b[49m\u001b[38;5;241;43m=\u001b[39;49m\u001b[38;5;241;43m1_000\u001b[39;49m\u001b[43m,\u001b[49m\u001b[43m \u001b[49m\u001b[43mncores\u001b[49m\u001b[38;5;241;43m=\u001b[39;49m\u001b[38;5;241;43m5\u001b[39;49m\u001b[43m,\u001b[49m\u001b[43m \u001b[49m\u001b[43mnchunks\u001b[49m\u001b[38;5;241;43m=\u001b[39;49m\u001b[38;5;241;43m100\u001b[39;49m\u001b[43m)\u001b[49m\n",
      "File \u001b[0;32m~/projects/bprime/notebooks/../bprime/models.py:330\u001b[0m, in \u001b[0;36mBGSModel.calc_Bp\u001b[0;34m(self, step, ncores, nchunks)\u001b[0m\n\u001b[1;32m    328\u001b[0m \u001b[38;5;28;01mfor\u001b[39;00m chrom, X \u001b[38;5;129;01min\u001b[39;00m \u001b[38;5;28mself\u001b[39m\u001b[38;5;241m.\u001b[39mXs\u001b[38;5;241m.\u001b[39mitems():\n\u001b[1;32m    329\u001b[0m     np\u001b[38;5;241m.\u001b[39msavez(\u001b[38;5;124mf\u001b[39m\u001b[38;5;124m\"\u001b[39m\u001b[38;5;124m../data/dnn_chunks/\u001b[39m\u001b[38;5;132;01m{\u001b[39;00mchrom\u001b[38;5;132;01m}\u001b[39;00m\u001b[38;5;124m_X.npz\u001b[39m\u001b[38;5;124m\"\u001b[39m, X)\n\u001b[0;32m--> 330\u001b[0m \u001b[38;5;28;01mfor\u001b[39;00m i, chunk \u001b[38;5;129;01min\u001b[39;00m \u001b[38;5;28menumerate\u001b[39m(chunks):\n\u001b[1;32m    331\u001b[0m     chrom, X \u001b[38;5;241m=\u001b[39m chunk\n\u001b[1;32m    332\u001b[0m     np\u001b[38;5;241m.\u001b[39msavez(\u001b[38;5;124mf\u001b[39m\u001b[38;5;124m\"\u001b[39m\u001b[38;5;124m../data/dnn_chunks/\u001b[39m\u001b[38;5;132;01m{\u001b[39;00mchrom\u001b[38;5;132;01m}\u001b[39;00m\u001b[38;5;124m_\u001b[39m\u001b[38;5;132;01m{\u001b[39;00mi\u001b[38;5;132;01m}\u001b[39;00m\u001b[38;5;124m.npz\u001b[39m\u001b[38;5;124m\"\u001b[39m, X)\n",
      "File \u001b[0;32m~/projects/bprime/notebooks/../bprime/parallel.py:269\u001b[0m, in \u001b[0;36mBpChunkIterator._focal_iter\u001b[0;34m(self)\u001b[0m\n\u001b[1;32m    266\u001b[0m \u001b[38;5;66;03m# print('.', end='\\r')\u001b[39;00m\n\u001b[1;32m    267\u001b[0m \u001b[38;5;66;03m# inner_progress_bar.update(1)\u001b[39;00m\n\u001b[1;32m    268\u001b[0m \u001b[38;5;28;01mif\u001b[39;00m \u001b[38;5;28mself\u001b[39m\u001b[38;5;241m.\u001b[39mscaler \u001b[38;5;129;01mis\u001b[39;00m \u001b[38;5;129;01mnot\u001b[39;00m \u001b[38;5;28;01mNone\u001b[39;00m:\n\u001b[0;32m--> 269\u001b[0m     \u001b[38;5;28;01myield\u001b[39;00m chrom, \u001b[38;5;28;43mself\u001b[39;49m\u001b[38;5;241;43m.\u001b[39;49m\u001b[43mscaler\u001b[49m\u001b[38;5;241;43m.\u001b[39;49m\u001b[43mtransform\u001b[49m\u001b[43m(\u001b[49m\u001b[43mX\u001b[49m\u001b[43m)\u001b[49m[:, \u001b[38;5;241m2\u001b[39m]\n\u001b[1;32m    270\u001b[0m \u001b[38;5;28;01melse\u001b[39;00m:\n\u001b[1;32m    271\u001b[0m     \u001b[38;5;28;01myield\u001b[39;00m chrom, X\n",
      "File \u001b[0;32m~/miniconda3/envs/bprime/lib/python3.8/site-packages/sklearn/preprocessing/_data.py:993\u001b[0m, in \u001b[0;36mStandardScaler.transform\u001b[0;34m(self, X, copy)\u001b[0m\n\u001b[1;32m    991\u001b[0m \u001b[38;5;28;01melse\u001b[39;00m:\n\u001b[1;32m    992\u001b[0m     \u001b[38;5;28;01mif\u001b[39;00m \u001b[38;5;28mself\u001b[39m\u001b[38;5;241m.\u001b[39mwith_mean:\n\u001b[0;32m--> 993\u001b[0m         X \u001b[38;5;241m-\u001b[39m\u001b[38;5;241m=\u001b[39m \u001b[38;5;28mself\u001b[39m\u001b[38;5;241m.\u001b[39mmean_\n\u001b[1;32m    994\u001b[0m     \u001b[38;5;28;01mif\u001b[39;00m \u001b[38;5;28mself\u001b[39m\u001b[38;5;241m.\u001b[39mwith_std:\n\u001b[1;32m    995\u001b[0m         X \u001b[38;5;241m/\u001b[39m\u001b[38;5;241m=\u001b[39m \u001b[38;5;28mself\u001b[39m\u001b[38;5;241m.\u001b[39mscale_\n",
      "\u001b[0;31mKeyboardInterrupt\u001b[0m: "
     ]
    }
   ],
   "source": [
    "os.environ[\"CUDA_VISIBLE_DEVICES\"] = \"1,1\"\n",
    "os.environ[\"TF_GPU_ALLOCATOR\"] = \"cuda_malloc_async\"\n",
    "tf.get_logger().setLevel('ERROR')\n",
    "res = m.calc_Bp(step=1_000, ncores=5, nchunks=100)"
   ]
  },
  {
   "cell_type": "code",
   "execution_count": 11,
   "id": "e65cc781-9dc9-49cd-b67b-26b8cd575282",
   "metadata": {},
   "outputs": [],
   "source": [
    "import tqdm.notebook as tq"
   ]
  },
  {
   "cell_type": "code",
   "execution_count": 4,
   "id": "77c6f3a2-1e8c-4df3-a51d-390cad87a349",
   "metadata": {},
   "outputs": [
    {
     "data": {
      "application/vnd.jupyter.widget-view+json": {
       "model_id": "75c36a5ef18f43f08abe8d7c3cdba907",
       "version_major": 2,
       "version_minor": 0
      },
      "text/plain": [
       "0it [00:00, ?it/s]"
      ]
     },
     "metadata": {},
     "output_type": "display_data"
    }
   ],
   "source": [
    "a = tq.tqdm()"
   ]
  },
  {
   "cell_type": "code",
   "execution_count": 7,
   "id": "2cc6a240-6be5-440f-a68f-3e447033d9fa",
   "metadata": {},
   "outputs": [],
   "source": [
    "a.total = 100"
   ]
  },
  {
   "cell_type": "code",
   "execution_count": 10,
   "id": "1aef748d-cd38-4bc9-b0aa-f9ecccca8f03",
   "metadata": {},
   "outputs": [
    {
     "data": {
      "text/plain": [
       "True"
      ]
     },
     "execution_count": 10,
     "metadata": {},
     "output_type": "execute_result"
    }
   ],
   "source": [
    "a.update(10)"
   ]
  },
  {
   "cell_type": "code",
   "execution_count": null,
   "id": "17490262-8daa-4084-8d5d-9c210d1c746a",
   "metadata": {},
   "outputs": [],
   "source": [
    "res.Xs['chr10']"
   ]
  },
  {
   "cell_type": "code",
   "execution_count": null,
   "id": "85e058cc-1bee-4e1a-9449-3e16fa5c8c07",
   "metadata": {},
   "outputs": [],
   "source": [
    "m.learned_B.func"
   ]
  },
  {
   "cell_type": "code",
   "execution_count": null,
   "id": "7a356879-d80e-4d09-92aa-faa2d6cf87ce",
   "metadata": {},
   "outputs": [],
   "source": [
    "sys.getsizeof(m.learned_B.func.model)"
   ]
  },
  {
   "cell_type": "code",
   "execution_count": null,
   "id": "95eaf36f-aa4f-48ed-91b5-c3ec068be148",
   "metadata": {},
   "outputs": [],
   "source": [
    "y = []\n",
    "for x in np.logspace(-8, np.log10(0.5), 100):\n",
    "    y.append(m.learned_B.func.predict(np.array([[1e-3, 1e-5, 1e-8, x, 1000]])))"
   ]
  },
  {
   "cell_type": "code",
   "execution_count": null,
   "id": "cd082a8e-a8e2-4965-ae53-24b43e4f2631",
   "metadata": {},
   "outputs": [],
   "source": [
    "plt.plot(np.logspace(-8, np.log10(0.5), 100), y)"
   ]
  },
  {
   "cell_type": "code",
   "execution_count": null,
   "id": "26d51fa4-66d8-4025-9573-9d69fd78edd0",
   "metadata": {},
   "outputs": [],
   "source": [
    "map_positions, seg_mpos, seg_rbp, seg_L, features_matrix = next(res)"
   ]
  },
  {
   "cell_type": "code",
   "execution_count": null,
   "id": "0460485e-28ce-4c5e-8a46-936d8e31cfb5",
   "metadata": {},
   "outputs": [],
   "source": [
    "f = map_positions[800]"
   ]
  },
  {
   "cell_type": "code",
   "execution_count": null,
   "id": "a10114a9-4f8c-4793-a0ba-740a5ddeab48",
   "metadata": {},
   "outputs": [],
   "source": [
    "from bprime.utils import dist_to_segment"
   ]
  },
  {
   "cell_type": "code",
   "execution_count": null,
   "id": "f1b7887c-a4dd-454c-9823-fd9aa6374699",
   "metadata": {},
   "outputs": [],
   "source": [
    "rf = dist_to_segment(f, seg_mpos)\n",
    "rf"
   ]
  },
  {
   "cell_type": "code",
   "execution_count": null,
   "id": "a1594280-301e-49e2-a3f6-b4c78f9db09b",
   "metadata": {},
   "outputs": [],
   "source": [
    "m.learned_B.func.transforms"
   ]
  },
  {
   "cell_type": "code",
   "execution_count": null,
   "id": "73a8a35c-0ed1-443d-be2c-242abe306ab0",
   "metadata": {},
   "outputs": [],
   "source": [
    "m.learned_B.w_grid, m.learned_B.t_grid"
   ]
  },
  {
   "cell_type": "code",
   "execution_count": null,
   "id": "7c2dce93-50d0-46b6-9fa6-ba9bcb827bb2",
   "metadata": {},
   "outputs": [],
   "source": [
    "m.learned_B.func"
   ]
  },
  {
   "cell_type": "code",
   "execution_count": null,
   "id": "905fb203-a0a6-4a91-8d4b-3ad0f5f66279",
   "metadata": {},
   "outputs": [],
   "source": [
    "m.learned_B.predict_across_wtmesh(rf, seg_rbp, seg_L)"
   ]
  },
  {
   "cell_type": "code",
   "execution_count": null,
   "id": "55c5ae55-abf6-4a61-b316-4328e484a4de",
   "metadata": {},
   "outputs": [],
   "source": [
    "np.isfinite(m.learned_B.predict(rf, seg_rbp, seg_L)).all()"
   ]
  },
  {
   "cell_type": "code",
   "execution_count": null,
   "id": "94ed7a09-9e80-472a-bcc1-f6c50d85df99",
   "metadata": {},
   "outputs": [],
   "source": [
    "x, y = np.random.uniform(0, 1, 10), np.random.uniform(0, 1, 10)\n",
    "np.stack((x, y)).T"
   ]
  },
  {
   "cell_type": "markdown",
   "id": "b0ee743a-04ec-441e-9c6e-5967cca3d579",
   "metadata": {
    "tags": []
   },
   "source": [
    "### `calc_bkgd` maps"
   ]
  },
  {
   "cell_type": "code",
   "execution_count": null,
   "id": "5d929f71-daef-4a49-bd1e-44b2e28319e1",
   "metadata": {},
   "outputs": [],
   "source": [
    "bkgd_dir = '../data/bmaps/calc_bkgd/'\n",
    "cached_bkgd_file = os.path.join(bkgd_dir, \"calc_bkgd_mu1e-8.pkl\")\n",
    "\n",
    "if force or not os.path.exists(cached_bkgd_file):\n",
    "    bkgd_runs = [os.path.join(bkgd_dir, f) for f in os.listdir(bkgd_dir) if f.startswith('calc_bkgd_s')]\n",
    "\n",
    "    def load_bkgd(run):\n",
    "        files = os.listdir(run)\n",
    "        bkgd = dict()\n",
    "        for file in files:\n",
    "            chrom = file.replace('.bkgd', '')\n",
    "            try:\n",
    "                bkgd[chrom] = read_bkgd(os.path.join(run, file))\n",
    "            except ValueError:\n",
    "                continue\n",
    "                raise ValueError(f\"parsing error at {run}/{file}\")\n",
    "        return bkgd\n",
    "\n",
    "    bkgd = dict()\n",
    "    for run in bkgd_runs:\n",
    "        s = os.path.basename(run).replace('calc_bkgd_s', '')\n",
    "        bkgd[float(s)] = load_bkgd(run)\n",
    "\n",
    "    with open(cached_bkgd_file, 'wb') as f:\n",
    "        pickle.dump(bkgd, f)\n",
    "else:\n",
    "    with open(cached_bkgd_file, 'rb') as f:\n",
    "        bkgd = pickle.load(f)"
   ]
  },
  {
   "cell_type": "markdown",
   "id": "eca62b1c-f8d6-42ba-a173-f4758f5ff0bd",
   "metadata": {},
   "source": [
    "### Simulation Results"
   ]
  },
  {
   "cell_type": "code",
   "execution_count": null,
   "id": "01d76274-a919-4ec9-ae89-67f458530c7d",
   "metadata": {},
   "outputs": [],
   "source": [
    "np.diff(m.segments.ranges, axis=1)"
   ]
  },
  {
   "cell_type": "code",
   "execution_count": null,
   "id": "8026cf19-8f3a-45f3-adb5-b4b6ccef1b72",
   "metadata": {},
   "outputs": [],
   "source": [
    "DATADIR = '../data/slim_sims/bgsmap/'\n",
    "tree_files = [os.path.join(DATADIR, f) for f in os.listdir(DATADIR) if f.endswith('.tree')]"
   ]
  },
  {
   "cell_type": "code",
   "execution_count": null,
   "id": "1d2ce05c-bf5c-4f2c-ae51-7c0458d36094",
   "metadata": {},
   "outputs": [],
   "source": [
    "len(tree_files)"
   ]
  },
  {
   "cell_type": "code",
   "execution_count": null,
   "id": "e7175273-bc09-432d-96b8-feea2c08f8fb",
   "metadata": {},
   "outputs": [],
   "source": [
    "def get_b(file, params, width=1000, recrate=1e-8, seed=None):\n",
    "    \"Recapitate trees and calc B\"\n",
    "    ts = pyslim.load(file)\n",
    "    md = ts.metadata['SLiM']['user_metadata']\n",
    "    region_length = md['region_length'][0]\n",
    "    N = md['N'][0]\n",
    "    #recmap = load_recrates('../data/annotation/rec_100kb_chr10.bed', ts.sequence_length)\n",
    "    rts = pyslim.recapitate(ts, recombination_rate=recrate, sequence_length=ts.sequence_length,\n",
    "                            ancestral_Ne=N, random_seed=seed)\n",
    "    length = int(ts.sequence_length)\n",
    "    neut_positions = np.linspace(0, length, length // width).astype(int)\n",
    "    params = {k: md[k][0] for k in params}\n",
    "    return tuple(params.items()), neut_positions, rts.diversity(mode='branch', windows=neut_positions) / (4*N)\n",
    "\n"
   ]
  },
  {
   "cell_type": "code",
   "execution_count": null,
   "id": "e75b6c62-0c4f-487b-83d9-d5ccf13dab0a",
   "metadata": {},
   "outputs": [],
   "source": [
    "cached_bgsmap_file = '../data/bmaps/bgsmap_sims.pkl'\n",
    "\n",
    "if force or not os.path.exists(cached_bkgd_file):\n",
    "    sims = defaultdict(list)\n",
    "\n",
    "    for file in tqdm.tqdm(tree_files):\n",
    "        params, pos, b = get_b(file, ('s', 'mu'))\n",
    "        sims[params].append((pos, b))\n",
    "\n",
    "    for key, res in sims.items():\n",
    "        pos = list(map(operator.itemgetter(0), res))\n",
    "        b = list(map(operator.itemgetter(1), res))\n",
    "        sims[key] = np.stack(pos)[0, :], np.stack(b).T\n",
    "    with open(cached_bgsmap_file, 'wb') as f:\n",
    "        pickle.dump(sims, f)\n",
    "else:\n",
    "    with open(cached_bgsmap_file, 'rb') as f:\n",
    "        sims = pickle.load(f)    "
   ]
  },
  {
   "cell_type": "code",
   "execution_count": null,
   "id": "8bec6e0a-921c-48fc-9ef0-543e055af18b",
   "metadata": {},
   "outputs": [],
   "source": [
    "m.recmap.rates['chr10']"
   ]
  },
  {
   "cell_type": "code",
   "execution_count": null,
   "id": "4f236a99-2c37-4818-b99f-3eb8783479a8",
   "metadata": {},
   "outputs": [],
   "source": [
    "i = np.zeros(seqlens['chr10'])\n",
    "for row in m.segments.ranges:\n",
    "    i[slice(*row)] = 1\n",
    "\n",
    "covered_bases = np.where(i)[0]\n",
    "wins = np.linspace(0, seqlens['chr10'], seqlens['chr10'] // 100_000).astype(int)\n",
    "coverage = stats.binned_statistic(covered_bases, np.full(len(covered_bases), 1), statistic=np.sum, bins=wins)"
   ]
  },
  {
   "cell_type": "code",
   "execution_count": null,
   "id": "e913fa22-264f-4365-9571-7943d35c1382",
   "metadata": {},
   "outputs": [],
   "source": [
    "centro"
   ]
  },
  {
   "cell_type": "code",
   "execution_count": null,
   "id": "3d2737ed-c899-497f-a923-04318b74cc53",
   "metadata": {},
   "outputs": [],
   "source": [
    "s, mu = 0.02, 1e-8\n",
    "pos_all, b_all = sims[(('s', s), ('mu', mu))]\n",
    "\n",
    "bvar = b_all.var(axis=1)\n",
    "bmean = b_all.mean(axis=1)\n",
    "\n",
    "max_pos = np.max(m.BScores.pos['chr10'])\n",
    "\n",
    "pos, bmean, bvar = pos_all[pos_all < max_pos], bmean[midpoint(pos_all) < max_pos], bvar[midpoint(pos_all) < max_pos], \n",
    "\n",
    "## main plot\n",
    "gridkw =  {\"height_ratios\": [5, 0.2, 0.2], \"hspace\": 0}\n",
    "fig, (ax, gene_ax, rec_ax) = plt.subplots(ncols=1, nrows=3, gridspec_kw=gridkw, sharex=True)\n",
    "fig.set_size_inches(*fig_sizes['two', 'two'])\n",
    "lw = 1\n",
    "line = ax.plot(midpoint(pos), bmean, label=\"simulations\", linewidth=lw)\n",
    "bgspy_b = m.BScores.B['chr10'][:, arg_nearest(mu, m.w), arg_nearest(s, m.t), 0]\n",
    "line = ax.plot(m.BScores.pos['chr10'], np.exp(bgspy_b), label=\"bgspy\", linewidth=lw, zorder=5)\n",
    "line = ax.plot(bkgd[s/2]['chr10'][0], bkgd[s/2]['chr10'][1], label=\"calc_bkgd\", linewidth=lw)\n",
    "\n",
    "# B intervals\n",
    "lower, upper = bmean + np.sqrt(bvar), bmean - np.sqrt(bvar)\n",
    "lower2, upper2 = bmean + 2*np.sqrt(bvar), bmean - 2*np.sqrt(bvar)\n",
    "rec_sigma = 1.75e2\n",
    "smooth_lower = gaussian_filter1d(lower, rec_sigma)\n",
    "smooth_upper = gaussian_filter1d(upper, rec_sigma)\n",
    "ribbon = ax.fill_between(midpoint(pos), smooth_lower, smooth_upper, interpolate=True, alpha=0.2)\n",
    "\n",
    "leg = ax.legend(loc=(0.7, 0.7), fontsize=9)\n",
    "for lh in leg.legendHandles:\n",
    "    lh.set_linewidth(2)\n",
    "\n",
    "ax.set_xticklabels([])\n",
    "ax.tick_params(bottom=False)  \n",
    "ax.set_ylabel('B')\n",
    "ax.set_ylim(0, 0.8)\n",
    "ax.yaxis.set_major_formatter(lambda x, pos: f\"{int(np.round(100*x))}%\")\n",
    "ax.spines['bottom'].set_visible(False)\n",
    "ax.spines['left'].set_position(('outward', 6.6))\n",
    "\n",
    "n = 10\n",
    "bar_height = 1\n",
    "axis_pad = bar_height\n",
    "ends, rates = m.recmap.rates['chr10']\n",
    "ends, rates = ends[ends < max_pos], rates[ends < max_pos]\n",
    "rates[0] = 0\n",
    "rate_min = 0 # np.quantile(rates, 0.1)\n",
    "rate_max = 3e-8 # np.quantile(rates, 0.9)\n",
    "norm = plt.Normalize(rate_min, rate_max)\n",
    "smooth_rates = gaussian_filter1d(rates, 300)\n",
    "rec_cbar = rec_ax.pcolormesh(ends, np.arange(n), np.repeat(smooth_rates[:, None], n, axis=1).T, norm=norm)\n",
    "rec_ax.set_yticks([])\n",
    "rec_ax.set_xticks(np.arange(0, 1.4e8+1, 20_000_000))\n",
    "rec_ax.set_xticklabels(np.arange(0, 1.4e8+1, 20_000_000)/1e8)\n",
    "rec_ax.set_xlabel('position')\n",
    "rec_ax.tick_params(left=False) \n",
    "rec_ax.spines['left'].set_visible(False)\n",
    "\n",
    "# gene density\n",
    "ends, density = coverage.bin_edges, 100*coverage.statistic/(coverage.bin_edges[1:] - coverage.bin_edges[:-1])\n",
    "norm = plt.Normalize(density.min(), density.max())\n",
    "smooth_rates = gaussian_filter1d(density, 1)\n",
    "gene_cbar = gene_ax.pcolormesh(ends[:-1], np.arange(n), np.repeat(smooth_rates[:, None], n, axis=1).T, norm=norm, cmap='plasma')\n",
    "gene_ax.axis('off')\n",
    "offset = 0.04\n",
    "\n",
    "# color bar axes\n",
    "width = 0.015\n",
    "start = 0.925\n",
    "cax2 = fig.add_axes([offset+start+width, 0.35, width, 0.4])\n",
    "cax1 = fig.add_axes([offset+start, 0.35, width, 0.4])\n",
    "cbar1 = fig.colorbar(rec_cbar, cax=cax1)\n",
    "cbar2 = fig.colorbar(gene_cbar, cax=cax2)\n",
    "cax1.yaxis.set_ticks_position('left')\n",
    "cax2.yaxis.set_major_formatter(mpl.ticker.PercentFormatter())\n",
    "cax1.set_yticks(np.array([0, 1e-8, 2e-8, 3e-8]))\n",
    "cax1.set_yticklabels(np.array([0, 1, 2, 3]))\n",
    "cax1.yaxis.set_label_position('left')\n",
    "cax1.set_ylabel('recomb (cM/Mb)', fontsize=10)\n",
    "#cax1.yaxis.set_label_position('left')\n",
    "cax2.set_ylabel('conserved density', fontsize=10, rotation=-90)\n",
    "cax1.tick_params(labelsize=8)\n",
    "cax2.tick_params(labelsize=8)\n",
    "cbar1.outline.set_linewidth(1)\n",
    "#cbar1.outline.set_visible(False)\n",
    "#cbar2.outline.set_visible(False)\n",
    "cbar2.outline.set_linewidth(1) \n",
    "cax1.yaxis.set_tick_params(width=1)\n",
    "cax2.yaxis.set_tick_params(width=1)\n",
    "\n",
    "def centro_notch(ax, coords, seqlen, c=2.5, lw=1, lc='0.22', flip=False):\n",
    "    ymin, ymax = ax.get_ylim()\n",
    "    m = 1/c if not flip else 1-1/c\n",
    "    ymid = (ymin + ymax)*m\n",
    "    if flip:\n",
    "        ymin, ymax = ymax, ymin\n",
    "    start, cent, end = coords\n",
    "    verts = [(start, ymax*1.1), (cent, ymid), (end, ymax*1.1)]\n",
    "    codes = [Path.MOVETO, Path.LINETO, Path.LINETO]\n",
    "    centro_verts = mpath.Path(verts, codes)\n",
    "    centro_marker = patches.PathPatch(centro_verts, facecolor='white', lw=0)\n",
    "    ax.add_patch(centro_marker)\n",
    "    ax.plot([0, 0, start, cent, end, seqlen, seqlen], [ymin, ymax, ymax, ymid, ymax, ymax, ymin], c=lc, linewidth=lw)\n",
    "    \n",
    "centro_notch(gene_ax, centro['chr10'], seqlen=seqlens['chr10'])\n",
    "centro_notch(rec_ax, centro['chr10'],  seqlen=seqlens['chr10'], flip=True)\n",
    "rec_ax.spines['bottom'].set_position(('outward', 4))\n"
   ]
  },
  {
   "cell_type": "code",
   "execution_count": null,
   "id": "173452db-7aa3-4143-8cc4-38965385d30b",
   "metadata": {},
   "outputs": [],
   "source": [
    "from bprime.utils import bin_chrom\n",
    "\n",
    "bin_chrom(13, 5)\n",
    "\n",
    "end = 13\n",
    "width = 5\n",
    "n = end // width\n",
    "np.linspace(0, end, n), bin_chrom(end, width)"
   ]
  },
  {
   "cell_type": "code",
   "execution_count": null,
   "id": "adf7f71a-11c7-4c28-829c-a3865b06862c",
   "metadata": {},
   "outputs": [],
   "source": [
    "\n",
    "\n",
    "ymin, ymax = gene_ax.get_ylim()\n",
    "start, cent, _, end = centro['chr10']\n",
    "\n",
    "verts = [\n",
    "   (start, ymax),\n",
    "   (cent, ymid),\n",
    "   (end, ymax)\n",
    "]\n",
    "\n",
    "codes = [\n",
    "    Path.MOVETO,\n",
    "    Path.LINETO,\n",
    "    Path.LINETO\n",
    "]\n",
    "cento_verts = mpath.Path(verts, codes)\n",
    "cento_marker = patches.PathPatch(cento_verts, facecolor='orange', lw=2)\n",
    "gene_ax.add_patch(cento_marker)"
   ]
  },
  {
   "cell_type": "code",
   "execution_count": null,
   "id": "b3d4d832-e9a4-4f2d-a8f7-2555e33920a4",
   "metadata": {},
   "outputs": [],
   "source": [
    "ribbon.get_facecolor()"
   ]
  },
  {
   "cell_type": "markdown",
   "id": "2ef0fc9b-7e7f-48b3-8931-001c92904136",
   "metadata": {},
   "source": [
    "Bias by recombination?"
   ]
  },
  {
   "cell_type": "code",
   "execution_count": null,
   "id": "482d8eeb-031f-45d5-8169-927ffa15961f",
   "metadata": {},
   "outputs": [],
   "source": [
    "np.repeat(rates[:, None], 100, axis=1).shape"
   ]
  },
  {
   "cell_type": "code",
   "execution_count": null,
   "id": "cc32ca1a-8cf0-4e43-8636-b9b71736ab0b",
   "metadata": {},
   "outputs": [],
   "source": [
    "from mpl_toolkits.axes_grid1.inset_locator import inset_axes"
   ]
  },
  {
   "cell_type": "code",
   "execution_count": null,
   "id": "aa2d797a-480e-465f-ac5d-ca3013801854",
   "metadata": {},
   "outputs": [],
   "source": [
    "binterpols = m.BScores_interpolater(0)"
   ]
  },
  {
   "cell_type": "code",
   "execution_count": null,
   "id": "462f4ce4-0094-4805-afaa-ac9010b920cc",
   "metadata": {},
   "outputs": [],
   "source": [
    "fig = plt.figure()\n",
    "\n",
    "fig, ax = plt.subplots(ncols = 2)\n",
    "fig.set_size_inches(*fig_sizes['two', 'one'])\n",
    "x = bmean\n",
    "y = np.exp(binterpols['chr10'][(1e-8, 1e-2)](midpoint(pos)))\n",
    "bkgd_y = bkgd[s/2]['chr10'][1]\n",
    "bkgd_func = interpolate.interp1d(bkgd[s/2]['chr10'][0], bkgd_y, fill_value=(bkgd_y[0], bkgd_y[-1]), bounds_error=False, kind='quadratic')\n",
    "z = bkgd_func(midpoint(pos))\n",
    "\n",
    "def corr(x, y, digits=2):\n",
    "    return np.round(np.corrcoef(x, y)[0, 1], digits)\n",
    "\n",
    "mae = lambda x, y: np.round(MAE(x, y), 2)\n",
    "\n",
    "sc0 = ax[0].scatter(x, z, s=5, alpha=0.4, label='calc_bkgd', linewidth=0)\n",
    "sc1 = ax[0].scatter(x, y, s=5, alpha=0.4, label='bgspy', linewidth=0)\n",
    "ax[0].text(0.45, 0.1, f\"$R^2 = {corr(x, z)}, MAE = {mae(x, z)}$\", c=sc0.get_facecolors()[0], alpha=1, size=8)\n",
    "ax[0].text(0.45, 0.05, f\"$R^2 = {corr(x, y)}, MAE = {mae(x, y)}$\", c=sc1.get_facecolors()[0], alpha=1, size=8)\n",
    "ax[0].axline((0.1, 0.1), slope=1, c='#e03131', linestyle='dashed')\n",
    "ax[0].set_xlabel(\"$\\mathrm{E}(B)$ from simulations\")\n",
    "ax[0].set_ylabel(\"B Scores\")\n",
    "ax[0].set_aspect('equal', 'box')\n",
    "ax[0].set_yticks(np.linspace(0, 0.8, 5))\n",
    "ax[0].set_xlim((0, 0.8))\n",
    "ax[0].set_ylim((0, 0.8))\n",
    "leg = ax[0].legend(loc=(-0.05, 0.7))\n",
    "for lh in leg.legendHandles:\n",
    "    lh.set_alpha(1)\n",
    "    lh.set_sizes([50] * len(lh.get_sizes()))\n",
    "\n",
    "#ax[1].scatter(z, y, s=4, c=(x-z)/x, cmap='brg')\n",
    "ax[1].scatter(z, y, s=5, c='0.22', alpha=0.1, linewidth=0)\n",
    "ax[1].text(0.55, 0.05, f\"$R^2 = {np.round(np.corrcoef(z, y)[0, 1], 2)}$\")\n",
    "ax[1].axline((0, 0), slope=1, c='#e03131', linestyle='dashed')\n",
    "ax[1].set_xlabel(\"calc_bkgd\")\n",
    "ax[1].set_ylabel(\"bgspy\")\n",
    "ax[1].set_yticks(np.linspace(0, 0.8, 5))\n",
    "ax[1].set_xlim((0, 0.8))\n",
    "ax[1].set_ylim((0, 0.8))\n",
    "ax[1].set_aspect('equal', 'box')\n",
    "plt.tight_layout()"
   ]
  },
  {
   "cell_type": "code",
   "execution_count": null,
   "id": "8bdeb279-2cd2-4d81-8b3c-41330c06f39e",
   "metadata": {},
   "outputs": [],
   "source": []
  },
  {
   "cell_type": "code",
   "execution_count": null,
   "id": "75a48d9f-3ca3-4ed3-ac16-9b659c989eec",
   "metadata": {},
   "outputs": [],
   "source": []
  },
  {
   "cell_type": "code",
   "execution_count": null,
   "id": "d9bf04ee-3ce7-49d7-b439-9e971aa90eb4",
   "metadata": {},
   "outputs": [],
   "source": [
    "plt.plot(midpoint(coverage.bin_edges), coverage.statistic/100_000)"
   ]
  },
  {
   "cell_type": "code",
   "execution_count": null,
   "id": "6329fd95-e6cc-4a1f-82fb-083d0cfdcf04",
   "metadata": {},
   "outputs": [],
   "source": [
    "s, mu = 2e-3, 1e-8\n",
    "pos, b = sims[(('s', s), ('mu', mu))]\n",
    "\n",
    "fig, ax = plt.subplots()\n",
    "ax.plot(midpoint(pos), b.mean(axis=1), label=\"sims\")\n",
    "bgspy_b = m.BScores.B['chr10'][:, arg_nearest(mu, m.w), arg_nearest(s, m.t), 0]\n",
    "ax.plot(m.BScores.pos['chr10'], np.exp(bgspy_b), label=\"bgspy\")\n",
    "ax.plot(bkgd[s/2]['chr10'][0], bkgd[s/2]['chr10'][1], label=\"calc_bkgd\")\n",
    "ax.legend(loc='lower left')\n",
    "#ax.axvline(0.375e8, c='red')\n",
    "#ax.axvline(0.43e8, c='red')\n",
    "\n",
    "ax.set_xlabel('position')\n",
    "ax.set_ylabel('B')"
   ]
  },
  {
   "cell_type": "code",
   "execution_count": null,
   "id": "fd803822-85c4-48de-afd4-e0d4f026603e",
   "metadata": {},
   "outputs": [],
   "source": []
  }
 ],
 "metadata": {
  "kernelspec": {
   "display_name": "Python 3 (ipykernel)",
   "language": "python",
   "name": "python3"
  },
  "language_info": {
   "codemirror_mode": {
    "name": "ipython",
    "version": 3
   },
   "file_extension": ".py",
   "mimetype": "text/x-python",
   "name": "python",
   "nbconvert_exporter": "python",
   "pygments_lexer": "ipython3",
   "version": "3.8.12"
  },
  "toc-autonumbering": false,
  "toc-showcode": false,
  "toc-showmarkdowntxt": false,
  "toc-showtags": false
 },
 "nbformat": 4,
 "nbformat_minor": 5
}
