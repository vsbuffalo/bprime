{
 "cells": [
  {
   "cell_type": "code",
   "execution_count": 1,
   "id": "c94ed300-ed7b-4ff7-85b9-1041794750bd",
   "metadata": {},
   "outputs": [],
   "source": [
    "import sys\n",
    "sys.path.extend(['..', '../bprime'])\n",
    "    \n",
    "%load_ext autoreload\n",
    "%autoreload 2\n",
    "%reload_ext autoreload"
   ]
  },
  {
   "cell_type": "code",
   "execution_count": 9,
   "id": "472fa9cd-4692-48d4-a36a-6a90b446a9ed",
   "metadata": {},
   "outputs": [],
   "source": [
    "import itertools\n",
    "import numpy as np\n",
    "import msprime\n",
    "from bprime import tools\n",
    "import matplotlib.pyplot as plt\n",
    "from sklearn.datasets import make_regression\n",
    "from sklearn.ensemble import RandomForestRegressor\n",
    "from sklearn.model_selection import RepeatedKFold, train_test_split, cross_val_score\n"
   ]
  },
  {
   "cell_type": "code",
   "execution_count": 3,
   "id": "3a8fd5fb-6474-49a8-9b6f-643165001543",
   "metadata": {},
   "outputs": [],
   "source": [
    "def data_transformer(X, transforms):\n",
    "    Xtrans = np.empty_like(X)\n",
    "    for i, func in enumerate(transforms.values()):\n",
    "        if func is None:\n",
    "            Xtrans[:, i] = X[:, i]\n",
    "        else:\n",
    "            Xtrans[:, i] = func(X[:, i])\n",
    "    return Xtrans"
   ]
  },
  {
   "cell_type": "code",
   "execution_count": 4,
   "id": "d28eb86c-5a29-4ad4-b352-c4c8b2b475f0",
   "metadata": {},
   "outputs": [],
   "source": [
    "TRAINING_DIR = '../data/slim_sims/segment/'\n",
    "\n",
    "sim_params = dict(N=int, mu=float, h=float, s=float, rbp=float, recfrac=float, seglen=int)\n",
    "X, y = tools.trees_to_training_data(TRAINING_DIR, params=sim_params, windows=[0, 100])\n",
    "pi, log10_B = y[:, 0], np.log10(y[:, 1])"
   ]
  },
  {
   "cell_type": "code",
   "execution_count": 5,
   "id": "ce768975-8d1e-4ac0-8791-a757467b4f4f",
   "metadata": {},
   "outputs": [],
   "source": [
    "Xt = data_transformer(X, dict(N=np.log10, mu=np.log10, h=None, s=np.log10, rbp=None, recfrac=np.log10, seglen=None))"
   ]
  },
  {
   "cell_type": "code",
   "execution_count": 6,
   "id": "0be83075-3068-4140-bb2f-fa2ad4dbe57c",
   "metadata": {},
   "outputs": [],
   "source": [
    "X_train, X_test, y_train, y_test = train_test_split(Xt, log10_B, random_state=0)"
   ]
  },
  {
   "cell_type": "code",
   "execution_count": 19,
   "id": "19e7fdb0-879e-4e54-abba-781ce47a26c7",
   "metadata": {},
   "outputs": [
    {
     "data": {
      "image/png": "[encoded data removed]",
      "text/plain": [
       "<Figure size 432x288 with 2 Axes>"
      ]
     },
     "metadata": {
      "needs_background": "light"
     },
     "output_type": "display_data"
    }
   ],
   "source": [
    "fig, ax = plt.subplots(ncols=2)\n",
    "ax[0].hist(np.log10(np.exp(10**log10_B)))\n",
    "ax[1].hist(log10_B)\n",
    "plt.tight_layout()"
   ]
  },
  {
   "cell_type": "code",
   "execution_count": 10,
   "id": "b7ca6b56-7017-4711-8150-2462d6325e5f",
   "metadata": {},
   "outputs": [
    {
     "name": "stdout",
     "output_type": "stream",
     "text": [
      "MAE: 0.858 (0.004)\n"
     ]
    }
   ],
   "source": [
    "model = RandomForestRegressor(n_estimators = 300)\n",
    "cv = RepeatedKFold(n_splits=5, n_repeats=3, random_state=1)\n",
    "n_scores = cross_val_score(model, Xt, log10_B, scoring='explained_variance', cv=cv, n_jobs=-1, error_score='raise')\n",
    "print('MAE: %.3f (%.3f)' % (np.mean(n_scores), np.std(n_scores)))"
   ]
  },
  {
   "cell_type": "code",
   "execution_count": null,
   "id": "a9f35ec4-370c-4ffb-ab35-afd2cc008cf9",
   "metadata": {},
   "outputs": [],
   "source": [
    "model = RandomForestRegressor(n_estimators = 300)\n",
    "model.fit(X_train, np.log10(y_train[:, 1]))\n",
    "model.score(X_test, np.log10(y_test[:, 1]))"
   ]
  },
  {
   "cell_type": "code",
   "execution_count": 22,
   "id": "e5496d11-2a88-42b3-a294-384be2d004f1",
   "metadata": {},
   "outputs": [
    {
     "data": {
      "text/plain": [
       "<matplotlib.collections.PathCollection at 0x7f70dc4a7910>"
      ]
     },
     "execution_count": 22,
     "metadata": {},
     "output_type": "execute_result"
    },
    {
     "data": {
      "image/png": "[encoded data removed]",
      "text/plain": [
       "<Figure size 432x288 with 1 Axes>"
      ]
     },
     "metadata": {
      "needs_background": "light"
     },
     "output_type": "display_data"
    }
   ],
   "source": [
    "plt.scatter(Xt[:, 1] - Xt[:, 3], log10_B)"
   ]
  },
  {
   "cell_type": "code",
   "execution_count": 23,
   "id": "bdaeb995-fcbe-4123-b8e7-721fa129c419",
   "metadata": {},
   "outputs": [
    {
     "name": "stderr",
     "output_type": "stream",
     "text": [
      "/home/vsb/miniconda3/envs/bgcls/lib/python3.9/site-packages/IPython/core/interactiveshell.py:3457: FutureWarning: arrays to stack must be passed as a \"sequence\" type such as list or tuple. Support for non-sequence iterables such as generators is deprecated as of NumPy 1.16 and will raise an error in the future.\n",
      "  exec(code_obj, self.user_global_ns, self.user_ns)\n"
     ]
    },
    {
     "data": {
      "text/plain": [
       "array([[ 2.00000000e+00,  5.00000000e-08,  5.00000000e-01,\n",
       "        -6.00000000e+00,  1.00000000e-10,  2.00000000e+00],\n",
       "       [ 2.00000000e+00,  5.00000000e-08,  5.00000000e-01,\n",
       "        -6.00000000e+00,  1.00000000e-10,  2.22222222e+00],\n",
       "       [ 2.00000000e+00,  5.00000000e-08,  5.00000000e-01,\n",
       "        -6.00000000e+00,  1.00000000e-10,  2.44444444e+00],\n",
       "       ...,\n",
       "       [ 4.00000000e+00,  5.00000000e-07,  5.00000000e-01,\n",
       "        -6.98970004e-01,  3.00000000e-07,  3.55555556e+00],\n",
       "       [ 4.00000000e+00,  5.00000000e-07,  5.00000000e-01,\n",
       "        -6.98970004e-01,  3.00000000e-07,  3.77777778e+00],\n",
       "       [ 4.00000000e+00,  5.00000000e-07,  5.00000000e-01,\n",
       "        -6.98970004e-01,  3.00000000e-07,  4.00000000e+00]])"
      ]
     },
     "execution_count": 23,
     "metadata": {},
     "output_type": "execute_result"
    }
   ],
   "source": [
    "def predict_grid(params):\n",
    "    grid_entries = []\n",
    "    for param, specifier in params.items():\n",
    "        if len(specifier) == 1:\n",
    "            grid_entries.append(specifier)\n",
    "        if len(specifier) == 3 or len(specifier) == 4:\n",
    "            use_log10 = False\n",
    "            if len(specifier) == 4:\n",
    "                use_log10 = specifier == 'log10'\n",
    "            lower, upper, size = specifier[:3]\n",
    "            grid = np.linspace(lower, upper, size)\n",
    "            if use_log10:\n",
    "                grid = 10**grid\n",
    "            grid_entries.append(grid)\n",
    "    full_grid = []\n",
    "    return np.stack((itertools.product(*grid_entries)))\n",
    "        \n",
    "\n",
    "predict_grid(dict(N=(2, 4, 10, 'log10'), \n",
    "                  mu=(5e-8, 5e-7, 10, 'log10'),\n",
    "                  h=(0.5, ), \n",
    "                  s=(-6, np.log10(0.2), 10), \n",
    "                  rbp=(0.01/1e8, 30/1e8, 10), \n",
    "                  recfrac=(-8, np.log10(0.5)), \n",
    "                  seglen=(2, 4, 10, 'log10')))\n"
   ]
  },
  {
   "cell_type": "code",
   "execution_count": null,
   "id": "dee09078-3787-4b93-822e-5aff38fd662d",
   "metadata": {},
   "outputs": [
    {
     "data": {
      "text/plain": [
       "<matplotlib.lines._AxLine at 0x7f7384d87580>"
      ]
     },
     "execution_count": 27,
     "metadata": {},
     "output_type": "execute_result"
    },
    {
     "data": {
      "image/png": "[encoded data removed]",
      "text/plain": [
       "<Figure size 432x288 with 1 Axes>"
      ]
     },
     "metadata": {
      "needs_background": "light"
     },
     "output_type": "display_data"
    }
   ],
   "source": [
    "# in-sample prediction\n",
    "model.fit(Xt, log10_B)\n",
    "yhat = model.predict(Xt)\n",
    "\n",
    "fig, ax = plt.subplots()\n",
    "ax.scatter(10**log10_B, 10**yhat)\n",
    "ax.set_xlabel('$y$')\n",
    "ax.set_ylabel('$\\hat{y}$')\n",
    "ax.set_xscale('log')\n",
    "ax.set_yscale('log')\n",
    "ax.axline((0, 0), (1, 1), c='0.22')"
   ]
  },
  {
   "cell_type": "code",
   "execution_count": 39,
   "id": "7191cd91-57be-430d-8838-8d588b95a7ab",
   "metadata": {},
   "outputs": [
    {
     "data": {
      "text/plain": [
       "<matplotlib.lines._AxLine at 0x7f73848254c0>"
      ]
     },
     "execution_count": 39,
     "metadata": {},
     "output_type": "execute_result"
    },
    {
     "data": {
      "image/png": "[encoded data removed]",
      "text/plain": [
       "<Figure size 432x288 with 1 Axes>"
      ]
     },
     "metadata": {
      "needs_background": "light"
     },
     "output_type": "display_data"
    }
   ],
   "source": [
    "# out-sample prediction\n",
    "model.fit(X_train, y_train)\n",
    "yhat_test = model.predict(X_test)\n",
    "\n",
    "fig, ax = plt.subplots()\n",
    "ax.scatter(10**y_test, 10**yhat_test)\n",
    "ax.set_xlabel('$y$')\n",
    "ax.set_ylabel('$\\hat{y}$')\n",
    "ax.set_xscale('log')\n",
    "ax.set_yscale('log')\n",
    "ax.axline((0, 0), (1, 1), c='0.22')"
   ]
  },
  {
   "cell_type": "code",
   "execution_count": 42,
   "id": "c4a6c18e-308d-48fc-8e58-03eccab6a5c9",
   "metadata": {},
   "outputs": [
    {
     "data": {
      "text/plain": [
       "(array([ 611., 3164., 4059., 3818., 3015., 1228., 1149., 1167., 1120.,\n",
       "         669.]),\n",
       " array([-6.56877958, -5.94290336, -5.31702715, -4.69115094, -4.06527473,\n",
       "        -3.43939852, -2.81352231, -2.18764609, -1.56176988, -0.93589367,\n",
       "        -0.31001746]),\n",
       " <BarContainer object of 10 artists>)"
      ]
     },
     "execution_count": 42,
     "metadata": {},
     "output_type": "execute_result"
    },
    {
     "data": {
      "image/png": "[encoded data removed]",
      "text/plain": [
       "<Figure size 432x288 with 1 Axes>"
      ]
     },
     "metadata": {
      "needs_background": "light"
     },
     "output_type": "display_data"
    }
   ],
   "source": [
    "# what's mu/sh distribution in all the data?\n",
    "plt.hist(Xt[:, 1]-Xt[:, 3])"
   ]
  },
  {
   "cell_type": "code",
   "execution_count": 43,
   "id": "7a734ecc-7d16-4818-9088-71297a5a6179",
   "metadata": {},
   "outputs": [],
   "source": [
    "def B_segment_lazy(rbp, L, s):\n",
    "    \"\"\"\n",
    "    TODO check rbp = 0 case\n",
    "    rt/ (b*(-1 + t) - t) * (b*(-1 + t) + r*(-1 + t) - t)\n",
    "    \"\"\"\n",
    "    r = rbp*L\n",
    "    a = -s*L # numerator -- ignores u\n",
    "    b = (1-s)**2  # rf^2 terms\n",
    "    c = 2*s*(1-s)+r*(1-s)**2 # rf terms\n",
    "    d = s**2 + r*s*(1-s) # constant terms\n",
    "    return a, b, c, d\n",
    "\n",
    "def B_segment(mu, rf, rbp, L, s):\n",
    "    a, b, c, d = B_segment_lazy(rbp, L, s)\n",
    "    x = mu * a/(b*rf**2 + c*rf + d)\n",
    "    return x"
   ]
  },
  {
   "cell_type": "code",
   "execution_count": 46,
   "id": "cff9e712-7286-477d-a49e-33d776ee8666",
   "metadata": {},
   "outputs": [
    {
     "data": {
      "text/plain": [
       "RandomForestRegressor(n_estimators=300)"
      ]
     },
     "execution_count": 46,
     "metadata": {},
     "output_type": "execute_result"
    }
   ],
   "source": [
    "model.fit(X_train, y_train)"
   ]
  },
  {
   "cell_type": "code",
   "execution_count": 127,
   "id": "2b377aa4-bae6-490d-91f2-715b49c14501",
   "metadata": {},
   "outputs": [
    {
     "name": "stderr",
     "output_type": "stream",
     "text": [
      "/home/vsb/miniconda3/envs/bgcls/lib/python3.9/site-packages/IPython/core/interactiveshell.py:3457: FutureWarning: arrays to stack must be passed as a \"sequence\" type such as list or tuple. Support for non-sequence iterables such as generators is deprecated as of NumPy 1.16 and will raise an error in the future.\n",
      "  exec(code_obj, self.user_global_ns, self.user_ns)\n"
     ]
    },
    {
     "data": {
      "image/png": "[encoded data removed]",
      "text/plain": [
       "<Figure size 432x288 with 1 Axes>"
      ]
     },
     "metadata": {
      "needs_background": "light"
     },
     "output_type": "display_data"
    }
   ],
   "source": [
    "@np.vectorize\n",
    "def bgs(mu, seglen, rbp, s):\n",
    "    U = mu*seglen\n",
    "    r = np.repeat(rbp, seglen)\n",
    "    return np.exp(-U / np.sum((s*(s + (1-s)*r/s)**2)))\n",
    "\n",
    "#dict(N=np.log10, mu=np.log10, h=None, s=np.log10, rbp=None, recfrac=np.log10, seglen=None))\n",
    "\n",
    "rf = 1e-8\n",
    "s_range = (-6, np.log10(0.2), 100)\n",
    "L = 1000\n",
    "rbp = 1e-8\n",
    "mu = 1e-8\n",
    "\n",
    "\n",
    "Xp = predict_grid(dict(N=(3, ), \n",
    "                  mu=(np.log10(mu), ),\n",
    "                  h=(0.5, ), \n",
    "                  s=s_range, \n",
    "                  #s=(-3, ), \n",
    "                  rbp=(1e-8, ), \n",
    "                  #recfrac=(-6, np.log10(0.1), 100),\n",
    "                  recfrac=(np.log10(rf), ),\n",
    "                  seglen=(L, )))\n",
    "\n",
    "yhat = model.predict(Xp)\n",
    "\n",
    "fig, ax = plt.subplots()\n",
    "ax.scatter(10**Xp[:, 3], 10**yhat)\n",
    "s = 10**np.linspace(*s_range)\n",
    "ax.plot(s, np.exp(B_segment(mu=mu, rf=rf, rbp=rbp, L=L, s=s)))\n",
    "ax.set_xscale('log')\n",
    "#ax.set_ylim(0, 2)"
   ]
  },
  {
   "cell_type": "code",
   "execution_count": 51,
   "id": "36370096-8186-4f52-90e4-e5ccd6023d62",
   "metadata": {},
   "outputs": [
    {
     "data": {
      "text/plain": [
       "(0.9388535887565691, 0.5320821711705858, 0.36787944117144233)"
      ]
     },
     "execution_count": 51,
     "metadata": {},
     "output_type": "execute_result"
    }
   ],
   "source": [
    "np.exp(-10**-1.2), np.exp(-10**-0.2), np.exp(-10**0)"
   ]
  },
  {
   "cell_type": "code",
   "execution_count": 48,
   "id": "065dd5c3-6253-4a05-b416-0deecf0b9bf6",
   "metadata": {},
   "outputs": [
    {
     "name": "stderr",
     "output_type": "stream",
     "text": [
      "/home/vsb/miniconda3/envs/bgcls/lib/python3.9/site-packages/IPython/core/interactiveshell.py:3457: FutureWarning: arrays to stack must be passed as a \"sequence\" type such as list or tuple. Support for non-sequence iterables such as generators is deprecated as of NumPy 1.16 and will raise an error in the future.\n",
      "  exec(code_obj, self.user_global_ns, self.user_ns)\n"
     ]
    },
    {
     "data": {
      "image/png": "[encoded data removed]",
      "text/plain": [
       "<Figure size 432x288 with 1 Axes>"
      ]
     },
     "metadata": {
      "needs_background": "light"
     },
     "output_type": "display_data"
    }
   ],
   "source": [
    "\n",
    "rf_range = (-8, np.log(0.5), 100)\n",
    "s = -3\n",
    "L = 1000\n",
    "rbp = 1e-8\n",
    "mu = 1e-8\n",
    "\n",
    "\n",
    "Xp = predict_grid(dict(N=(3, ), \n",
    "                  mu=(np.log10(mu), ),\n",
    "                  h=(0.5, ), \n",
    "                  s=(s, ), \n",
    "                  rbp=(1e-8, ), \n",
    "                  recfrac=rf_range,\n",
    "                  seglen=(L, )))\n",
    "\n",
    "yhat = model.predict(Xp)\n",
    "\n",
    "fig, ax = plt.subplots()\n",
    "#ax.scatter(10**Xp[:, 5], yhat)\n",
    "rf = 10**np.linspace(*rf_range)\n",
    "ax.plot(rf, B_segment(mu=mu, rf=rf, rbp=rbp, L=L, s=s))\n",
    "ax.set_xscale('log')\n",
    "#ax.set_ylim(0, 2)"
   ]
  },
  {
   "cell_type": "code",
   "execution_count": 584,
   "id": "b2d14786-7ff0-4b00-91c0-2a40965b141f",
   "metadata": {},
   "outputs": [
    {
     "data": {
      "text/plain": [
       "<matplotlib.collections.PathCollection at 0x7efa3300d370>"
      ]
     },
     "execution_count": 584,
     "metadata": {},
     "output_type": "execute_result"
    },
    {
     "data": {
      "image/png": "[encoded data removed]",
      "text/plain": [
       "<Figure size 432x288 with 1 Axes>"
      ]
     },
     "metadata": {
      "needs_background": "light"
     },
     "output_type": "display_data"
    }
   ],
   "source": [
    "plt.scatter(np.log10(10**Xp[:, 1]/10**Xp[:, 3]), yhat)"
   ]
  },
  {
   "cell_type": "code",
   "execution_count": 381,
   "id": "aa40b172-a65d-48f5-895d-c1fe660830b4",
   "metadata": {},
   "outputs": [
    {
     "data": {
      "text/plain": [
       "(array([ 27., 121., 168., 113., 123., 108., 130., 141., 115.,  59.]),\n",
       " array([-6.49082323, -5.87435251, -5.25788178, -4.64141105, -4.02494032,\n",
       "        -3.40846959, -2.79199887, -2.17552814, -1.55905741, -0.94258668,\n",
       "        -0.32611596]),\n",
       " <BarContainer object of 10 artists>)"
      ]
     },
     "execution_count": 381,
     "metadata": {},
     "output_type": "execute_result"
    },
    {
     "data": {
      "image/png": "[encoded data removed]",
      "text/plain": [
       "<Figure size 432x288 with 1 Axes>"
      ]
     },
     "metadata": {
      "needs_background": "light"
     },
     "output_type": "display_data"
    }
   ],
   "source": [
    "plt.hist(np.log10(X[:, 1]/X[:, 3]))"
   ]
  },
  {
   "cell_type": "code",
   "execution_count": 353,
   "id": "06a0e83e-7675-42b7-bc82-59e89b9fb2cc",
   "metadata": {},
   "outputs": [
    {
     "data": {
      "text/plain": [
       "<matplotlib.collections.PathCollection at 0x7efcd3c4a250>"
      ]
     },
     "execution_count": 353,
     "metadata": {},
     "output_type": "execute_result"
    },
    {
     "data": {
      "image/png": "[encoded data removed]",
      "text/plain": [
       "<Figure size 432x288 with 1 Axes>"
      ]
     },
     "metadata": {
      "needs_background": "light"
     },
     "output_type": "display_data"
    }
   ],
   "source": [
    "def nearest_data(X, y, points, k=100):\n",
    "    if not isinstance(points, np.ndarray):\n",
    "        points = np.array(points)\n",
    "    dist = np.nansum((X - points[None, :])**2, axis=1)\n",
    "    idx = np.argsort(dist)[:k]\n",
    "    return X[idx, :], y[idx]\n",
    "\n",
    "Xn, yn = nearest_data(Xt, pi, (3, -8, 0.5, np.nan, 1e-8, -8, 4))\n",
    "plt.scatter(Xn[:, 3], yn)"
   ]
  },
  {
   "cell_type": "code",
   "execution_count": 246,
   "id": "8c87a531-500e-4e09-bda5-c5745848b624",
   "metadata": {},
   "outputs": [
    {
     "data": {
      "text/plain": [
       "<matplotlib.collections.PathCollection at 0x7efcf8d41f70>"
      ]
     },
     "execution_count": 246,
     "metadata": {},
     "output_type": "execute_result"
    },
    {
     "data": {
      "image/png": "[encoded data removed]",
      "text/plain": [
       "<Figure size 432x288 with 1 Axes>"
      ]
     },
     "metadata": {
      "needs_background": "light"
     },
     "output_type": "display_data"
    }
   ],
   "source": [
    "plt.scatter(X[:, 0], y)"
   ]
  },
  {
   "cell_type": "code",
   "execution_count": null,
   "id": "00a67aa4-77e4-44fe-8819-5772a0b19775",
   "metadata": {},
   "outputs": [],
   "source": []
  }
 ],
 "metadata": {
  "kernelspec": {
   "display_name": "Python 3 (ipykernel)",
   "language": "python",
   "name": "python3"
  },
  "language_info": {
   "codemirror_mode": {
    "name": "ipython",
    "version": 3
   },
   "file_extension": ".py",
   "mimetype": "text/x-python",
   "name": "python",
   "nbconvert_exporter": "python",
   "pygments_lexer": "ipython3",
   "version": "3.9.9"
  }
 },
 "nbformat": 4,
 "nbformat_minor": 5
}
