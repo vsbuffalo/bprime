{
 "cells": [
  {
   "cell_type": "code",
   "execution_count": 1,
   "id": "55980573-3503-44d3-b740-f26a02f9309b",
   "metadata": {},
   "outputs": [],
   "source": [
    "%load_ext autoreload\n",
    "%autoreload 2\n",
    "%reload_ext autoreload"
   ]
  },
  {
   "cell_type": "code",
   "execution_count": 2,
   "id": "3a56dee5-ebea-460a-8de8-2d20203e1475",
   "metadata": {},
   "outputs": [],
   "source": [
    "import warnings\n",
    "import numpy as np\n",
    "import matplotlib.pyplot as plt\n",
    "import scipy.stats as stats\n",
    "\n",
    "from sklearn.preprocessing import PolynomialFeatures \n",
    "from sklearn.linear_model import Ridge, LinearRegression, SGDRegressor\n",
    "from sklearn.pipeline import make_pipeline, Pipeline\n",
    "from sklearn.compose import TransformedTargetRegressor\n",
    "from sklearn.preprocessing import StandardScaler\n",
    "from sklearn.model_selection import GridSearchCV\n",
    "\n",
    "from bgspy.learn import LearnedFunction, LearnedB\n"
   ]
  },
  {
   "cell_type": "code",
   "execution_count": 3,
   "id": "b1457e79-d485-4156-9b3c-61d3bafa8e53",
   "metadata": {},
   "outputs": [
    {
     "data": {
      "text/plain": [
       "LearnedFunction with 5 feature(s)\n",
       " variable feature(s):\n",
       "  - mu ∈ [-10, -7] (log10, None)\n",
       "  - sh ∈ [-5, -1] (log10, None)\n",
       "  - L ∈ [1, 10000] (linear, None)\n",
       "  - rbp ∈ [-12, -7] (log10, None)\n",
       "  - rf ∈ [-10, -0.824] (log10, None)\n",
       " fixed fixed(s) (based on metadata):\n",
       "Features normalized? False\n",
       "Features split? True, test size: 20.0% (n=40,000)\n",
       "Total size: 200,000"
      ]
     },
     "execution_count": 3,
     "metadata": {},
     "output_type": "execute_result"
    }
   ],
   "source": [
    "f = LearnedFunction.load(\"../data/slim_sims/bmap_hg38_reps/bmap_hg38_reps_data.pkl\")\n",
    "f.split()"
   ]
  },
  {
   "cell_type": "code",
   "execution_count": 4,
   "id": "2c60d2e0-f6bf-4396-85a0-3fde4544b699",
   "metadata": {},
   "outputs": [],
   "source": [
    "regressor = LinearRegression()\n",
    "regr = TransformedTargetRegressor(regressor=Ridge(),\n",
    "                                  func=np.log,\n",
    "                                  inverse_func=np.exp)"
   ]
  },
  {
   "cell_type": "code",
   "execution_count": 31,
   "id": "19e5f1a7-4cb0-431e-9a2c-fea9b72065ce",
   "metadata": {},
   "outputs": [
    {
     "data": {
      "text/plain": [
       "Pipeline(steps=[('scaler', StandardScaler()), ('poly', PolynomialFeatures()),\n",
       "                ('regr', Ridge())])"
      ]
     },
     "execution_count": 31,
     "metadata": {},
     "output_type": "execute_result"
    }
   ],
   "source": [
    "pipe = Pipeline(steps=[('scaler', StandardScaler()), ('poly', PolynomialFeatures()), ('regr', Ridge())])\n",
    "pipe.fit(f.X_train, f.y_train)"
   ]
  },
  {
   "cell_type": "code",
   "execution_count": 32,
   "id": "5be05e93-39fe-4212-adb2-ca4dcc8ae8ac",
   "metadata": {},
   "outputs": [
    {
     "data": {
      "text/plain": [
       "<matplotlib.collections.PathCollection at 0x7eff60ea9fa0>"
      ]
     },
     "execution_count": 32,
     "metadata": {},
     "output_type": "execute_result"
    },
    {
     "data": {
      "image/png": "[encoded data removed]",
      "text/plain": [
       "<Figure size 432x288 with 1 Axes>"
      ]
     },
     "metadata": {
      "needs_background": "light"
     },
     "output_type": "display_data"
    }
   ],
   "source": [
    "plt.scatter(f.y_test, pipe.predict(f.X_test))"
   ]
  },
  {
   "cell_type": "code",
   "execution_count": 33,
   "id": "b786d5c7-6025-4eb3-906b-3c2f28f6186e",
   "metadata": {},
   "outputs": [
    {
     "data": {
      "text/plain": [
       "(0.9, 1.03)"
      ]
     },
     "execution_count": 33,
     "metadata": {},
     "output_type": "execute_result"
    },
    {
     "data": {
      "image/png": "[encoded data removed]",
      "text/plain": [
       "<Figure size 432x288 with 1 Axes>"
      ]
     },
     "metadata": {
      "needs_background": "light"
     },
     "output_type": "display_data"
    }
   ],
   "source": [
    "def binned_plot(model, X_test, y_test, nbins):\n",
    "    ypred = model.predict(X_test)\n",
    "    bins = np.linspace(ypred.min(), ypred.max(), nbins)\n",
    "    y_bins = stats.binned_statistic(ypred, y_test, bins=nbins)\n",
    "    edges = y_bins.bin_edges\n",
    "    x = 0.5*(edges[:-1]+edges[1:])\n",
    "    y =  y_bins.statistic\n",
    "    plt.scatter(x, y)\n",
    "    o = min(edges)\n",
    "    plt.axline((o, o), slope=1, c='r')\n",
    "    xx, yy = x[y <= 1], y[y <= 1]\n",
    "    return np.nanmean((xx-yy)**2)\n",
    "    \n",
    "binned_plot(pipe, f.X_test, f.y_test, 50)\n",
    "plt.ylim(0.90, 1.03)\n",
    "plt.xlim(0.90, 1.03)"
   ]
  },
  {
   "cell_type": "code",
   "execution_count": 34,
   "id": "db69e25c-80ac-48ef-8f79-e2b9375955f3",
   "metadata": {},
   "outputs": [],
   "source": [
    "param_grid = {'poly__degree': np.arange(1, 10), 'regr__alpha': np.logspace(-3, 2, 10)}"
   ]
  },
  {
   "cell_type": "code",
   "execution_count": 35,
   "id": "2fd733d0-b8b5-45d6-a3ce-5f58ea7c9672",
   "metadata": {},
   "outputs": [],
   "source": [
    "search = GridSearchCV(pipe, param_grid, scoring='neg_mean_squared_error', n_jobs=50)"
   ]
  },
  {
   "cell_type": "code",
   "execution_count": null,
   "id": "c098ddc2-f5c1-4063-b3db-ea3c504d49d4",
   "metadata": {},
   "outputs": [],
   "source": [
    "search.fit(f.X_train, f.y_train)"
   ]
  },
  {
   "cell_type": "code",
   "execution_count": null,
   "id": "828d2c01-8e4c-4882-a220-46d0d8fa16cf",
   "metadata": {},
   "outputs": [],
   "source": [
    "print(search.best_params_)"
   ]
  },
  {
   "cell_type": "code",
   "execution_count": null,
   "id": "5b38be3d-8d88-4a18-82ce-85fe836417d2",
   "metadata": {},
   "outputs": [],
   "source": [
    "binned_plot(pipe, f.X_test, f.y_test, 100)\n"
   ]
  },
  {
   "cell_type": "code",
   "execution_count": null,
   "id": "9080fbf0-f6d8-4c7b-8b52-07a920033344",
   "metadata": {},
   "outputs": [],
   "source": []
  }
 ],
 "metadata": {
  "kernelspec": {
   "display_name": "Python 3 (ipykernel)",
   "language": "python",
   "name": "python3"
  },
  "language_info": {
   "codemirror_mode": {
    "name": "ipython",
    "version": 3
   },
   "file_extension": ".py",
   "mimetype": "text/x-python",
   "name": "python",
   "nbconvert_exporter": "python",
   "pygments_lexer": "ipython3",
   "version": "3.8.12"
  }
 },
 "nbformat": 4,
 "nbformat_minor": 5
}
