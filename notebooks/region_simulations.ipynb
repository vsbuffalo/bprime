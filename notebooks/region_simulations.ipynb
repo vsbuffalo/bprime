{
 "cells": [
  {
   "cell_type": "code",
   "execution_count": 1,
   "id": "98ae6dd0-e190-41bf-acc7-ac2cb0b2bba2",
   "metadata": {},
   "outputs": [],
   "source": [
    "%load_ext autoreload\n",
    "%autoreload 2\n",
    "%reload_ext autoreload"
   ]
  },
  {
   "cell_type": "code",
   "execution_count": 2,
   "id": "b9a6031f-143a-4ae4-95f8-a62aa3f92718",
   "metadata": {},
   "outputs": [],
   "source": [
    "import os\n",
    "import pickle\n",
    "from collections import defaultdict\n",
    "import pandas as pd\n",
    "import numpy as np\n",
    "import pandas as pd\n",
    "import scipy.stats as stats\n",
    "import matplotlib.pyplot as plt\n",
    "import matplotlib as mpl\n",
    "import matplotlib.patheffects as path_effects\n",
    "import matplotlib.path as mpath\n",
    "import matplotlib.patches as patches\n",
    "from matplotlib.path import Path\n",
    "import tskit as tsk\n",
    "import statsmodels.api as sm\n",
    "from scipy.ndimage import gaussian_filter1d\n",
    "\n",
    "\n",
    "from bgspy.utils import bin_chrom, bin_chroms, read_centro\n",
    "from bgspy.plots import get_figax\n",
    "\n",
    "from bgspy.theory2 import Q2_asymptotic, Q2_sum_integral, Q2_sum_integral2\n",
    "from bgspy.theory2 import ave_het, bgs_segment_sc16_vec, bgs_segment_sc16\n",
    "from bgspy.theory2 import bgs_rec\n",
    "from bgspy.theory2 import bgs_segment_sc16_parts\n",
    "from bgspy.theory2 import Ne_t, Ne_asymp2, Ne_asymp\n",
    "from bgspy.theory2 import Qr_asymp, Qr_asymp2\n",
    "from bgspy.theory2 import Qr_fixed, Qr_fixed2\n",
    "from bgspy.theory2 import Ne_t_full2"
   ]
  },
  {
   "cell_type": "code",
   "execution_count": 3,
   "id": "a7ceddd8-bbf0-49a4-97a2-e965b070a19a",
   "metadata": {},
   "outputs": [],
   "source": [
    "# there appears to be a bug in matplotlib where the rcParams\n",
    "# are only not ignored if I call plt.show() first...\n",
    "plt.show()"
   ]
  },
  {
   "cell_type": "code",
   "execution_count": 4,
   "id": "b06e7d9e-e0a0-4c05-b61c-f9e296bc1243",
   "metadata": {},
   "outputs": [],
   "source": [
    "plt.style.use('./buffalo.mplstyle')\n",
    "plt.rcParams['figure.figsize'] = [8, 4]\n",
    "plt.rcParams['figure.dpi'] = 200"
   ]
  },
  {
   "cell_type": "code",
   "execution_count": 5,
   "id": "8d51f3ba-a120-473d-97a8-a7d1efb4ddf4",
   "metadata": {},
   "outputs": [
    {
     "data": {
      "text/plain": [
       "('3.7.1', 200.0, [8.0, 4.0])"
      ]
     },
     "execution_count": 5,
     "metadata": {},
     "output_type": "execute_result"
    }
   ],
   "source": [
    "mpl.__version__, plt.rcParams['figure.dpi'], plt.rcParams['figure.figsize']"
   ]
  },
  {
   "cell_type": "code",
   "execution_count": 6,
   "id": "7c42094e-0e4d-4b22-9778-a85bfc5bc726",
   "metadata": {},
   "outputs": [],
   "source": [
    "# fixed params from the sims\n",
    "L = 100_000\n",
    "N = 1_000\n",
    "rbp = 1e-8"
   ]
  },
  {
   "cell_type": "markdown",
   "id": "298705cc-12db-4d5e-b77b-6d7ae1ec9601",
   "metadata": {},
   "source": [
    "## Data\n",
    "\n",
    "### Input Data\n",
    "\n",
    " - `../slim_sims/region/runs/region/N__1000/mu__1e-08/sh__0.001/rbp__1e-08/`: a directory of tree results to show diversity over chromosome.\n",
    " \n",
    " - `../slim_sims/region/region_results.pkl`: process region simulation results\n",
    " \n",
    " - `../slim_sims/chrombgs/empiricalB_chr10__expansion_false__h_0.5__results.npz`: sim results for chromosome sim build up of LD.\n",
    " \n",
    "### Created Data\n",
    "\n",
    " - `../data/supplementary_data/region_simulation_data.tsv.gz', sep='\\t', index=False)`: regional simulation data, with revised ratchet rates\n",
    " - `../data/supplementary_data/simulation_ratchet_data.tsv.gz', sep='\\t', index=False)`: ratchet dataframe.\n",
    " - `../data/supplementary_data/region_theory_data.pkl`: predicted theory for the regional simulation comparison."
   ]
  },
  {
   "cell_type": "markdown",
   "id": "c50ff749-7c2a-4017-86a8-a0127702a347",
   "metadata": {
    "tags": []
   },
   "source": [
    "# Region Simulations\n",
    "\n",
    "## Diversity along the chromosome in region simulations"
   ]
  },
  {
   "cell_type": "markdown",
   "id": "25bd8aaa-ad9e-4403-8661-56384d77e431",
   "metadata": {},
   "source": [
    "When comparing theory to simulations, we must be mindful that the theory is modeling the reduction *at the middle of the chromosome*. We can see why this is important by taking a subset of the tree sequences from simulations with the same parameters and looking at windowed average diversity: "
   ]
  },
  {
   "cell_type": "code",
   "execution_count": null,
   "id": "18145930-41bb-4d76-b3eb-ee1b0e36d765",
   "metadata": {},
   "outputs": [],
   "source": [
    "tree_dir = '../slim_sims/region/runs/region/N__1000/mu__1e-08/sh__0.001/rbp__1e-08/'\n",
    "tree_files = [f for f in os.listdir(tree_dir) if f.endswith('.tree')]\n",
    "\n",
    "bins = bin_chrom(L, 1000)\n",
    "\n",
    "pi = [tsk.load(os.path.join(tree_dir, f)).diversity(windows=bins, mode='branch') for f in tree_files]"
   ]
  },
  {
   "cell_type": "code",
   "execution_count": null,
   "id": "ddb66ab3-8e34-4cee-b421-7136bf25a702",
   "metadata": {},
   "outputs": [],
   "source": [
    "midpoints = (bins[1:] + bins[:-1])/2\n",
    "plt.plot(midpoints, np.stack(pi).mean(axis=0)/(4*N))\n",
    "plt.axhline(np.mean(pi)/(4*N), c='0.22', linestyle='dashed')\n",
    "plt.ylabel(\"$\\pi$\")\n",
    "plt.xlabel(\"position\")"
   ]
  },
  {
   "cell_type": "markdown",
   "id": "b8481b9f-f6a1-4af8-8a8a-1adefe466b1b",
   "metadata": {
    "tags": []
   },
   "source": [
    "## Load in Simulation Results\n",
    "\n",
    "Pre-processed by `tools/process_region_sims.py`.\n",
    "\n",
    "NOTE: the ratchet estimates here in these data are wrong (and these take a while to run), so I correcth them below."
   ]
  },
  {
   "cell_type": "code",
   "execution_count": null,
   "id": "6005b6e1-4a3f-40f4-a7f2-069ed841cc47",
   "metadata": {},
   "outputs": [],
   "source": [
    "d = pd.read_pickle('../slim_sims/region/region_results.pkl')\n",
    "d.head()"
   ]
  },
  {
   "cell_type": "code",
   "execution_count": null,
   "id": "63913822-eec7-4b7c-87b8-2046a1646695",
   "metadata": {
    "tags": []
   },
   "outputs": [],
   "source": [
    "d.columns"
   ]
  },
  {
   "cell_type": "markdown",
   "id": "1e8d64d5-75ee-4783-9d77-ee14f40a8047",
   "metadata": {},
   "source": [
    "### Ratchet Rate Correction\n",
    "\n",
    "Note that the ratchet estimates by my processing program are biased, because I didn't trim off enough burnin. So I re-restimate those here (before the data is saved for supp data)."
   ]
  },
  {
   "cell_type": "code",
   "execution_count": null,
   "id": "ec4bb213-a2ac-4105-8744-5af2390ad63b",
   "metadata": {},
   "outputs": [],
   "source": [
    "def average_ratchet_rates(d):\n",
    "    data = dict()\n",
    "    for mu in d['mu'].unique():\n",
    "        for sh in d['sh'].unique():\n",
    "            # get the ratchet values\n",
    "            M = d.loc[(d['sh'] == sh) & (d['mu'] == mu)]['ratchet'].values\n",
    "            D = np.stack([x for x in M]) \n",
    "            D_mean = D.mean(axis=0)\n",
    "            data[(mu, sh)] = D_mean\n",
    "    return data\n",
    "    \n",
    "def ratchet_rate_estimate(data, buffer=9000):\n",
    "    rates = dict()\n",
    "    for mu, sh in data.keys():\n",
    "        d = data[(mu, sh)]\n",
    "        if buffer is not None:\n",
    "            d = d[d[:, 0] > buffer, :]\n",
    "        X = sm.add_constant(d[:, 0])\n",
    "        y = d[:, 1]\n",
    "        fit = sm.OLS(y, X).fit()\n",
    "        R = fit.params[1]\n",
    "        rates[(mu, sh)] = R\n",
    "    return rates\n",
    "    \n",
    "\n",
    "rate_data = average_ratchet_rates(d)\n",
    "rates = ratchet_rate_estimate(rate_data)"
   ]
  },
  {
   "cell_type": "code",
   "execution_count": null,
   "id": "eedae777-947b-4ffc-a43e-6491da2012a1",
   "metadata": {},
   "outputs": [],
   "source": [
    "# let's make a friendlier dataframe of these data\n",
    "\n",
    "rows = []\n",
    "for key in rate_data.keys():\n",
    "    mu, sh = key\n",
    "    for row in rate_data[key]:\n",
    "        rows.append(dict(mu=mu, sh=sh, generation=row[0], fixations=row[1], rate=rates[key]))\n",
    "ratchet_df = pd.DataFrame(rows)\n"
   ]
  },
  {
   "cell_type": "code",
   "execution_count": null,
   "id": "3e290d85-28bb-4850-a7e1-1dd20bdc32ff",
   "metadata": {
    "tags": []
   },
   "outputs": [],
   "source": [
    "d['mu'].unique()"
   ]
  },
  {
   "cell_type": "code",
   "execution_count": null,
   "id": "79404ce9-9062-4aff-bb86-42719fe813ce",
   "metadata": {
    "tags": []
   },
   "outputs": [],
   "source": [
    "rate_data.keys()"
   ]
  },
  {
   "cell_type": "code",
   "execution_count": null,
   "id": "7946b56e-d24b-4cf8-99c3-5f9ae961c429",
   "metadata": {},
   "outputs": [],
   "source": [
    "key_1, key_2 = (1e-09, 0.001), (1e-08, 0.0001)\n",
    "\n",
    "fig, ax = plt.subplots(ncols=2)\n",
    "ax[0].plot(*rate_data[key_1].T, c='r', label='μ = 1e-8, s=1e-5')\n",
    "ax[0].axline((0, 0), slope=rates[key_1], c='r', linestyle='dashed')\n",
    "ax[1].plot(*rate_data[key_2].T, label='μ = 1e-8, s=1e-3')\n",
    "ax[1].axline((0, 0), slope=rates[key_2], linestyle='dashed')\n",
    "ax[0].set_ylabel('fixations')\n",
    "ax[0].set_xlabel('generation')\n",
    "#plt.semilogy()\n",
    "#ax[0].legend()"
   ]
  },
  {
   "cell_type": "markdown",
   "id": "6b3945fe-db05-4b92-bf47-0046daabc8b9",
   "metadata": {},
   "source": [
    "This shows that rates hit equilibria after ~4N generations."
   ]
  },
  {
   "cell_type": "markdown",
   "id": "90b12f47-c312-49bd-ab7b-be724ef36f1d",
   "metadata": {},
   "source": [
    "### Save Supplementary Data"
   ]
  },
  {
   "cell_type": "code",
   "execution_count": null,
   "id": "852a2c74-7a75-4953-b771-9fa710efde89",
   "metadata": {},
   "outputs": [],
   "source": [
    "# let's make a friendly version of the data for saving to TSV\n",
    "df = d.loc[:, ~d.columns.isin(['ratchet', 'R'])]\n",
    "df.to_csv('../data/supplementary_data/region_simulation_data.tsv.gz', sep='\\t', index=False)\n",
    "\n",
    "# save the ratchet data\n",
    "ratchet_df.to_csv('../data/supplementary_data/simulation_ratchet_data.tsv.gz', sep='\\t', index=False)"
   ]
  },
  {
   "cell_type": "code",
   "execution_count": null,
   "id": "ce24ca8b-60c3-4143-9385-1f028252962b",
   "metadata": {
    "tags": []
   },
   "outputs": [],
   "source": [
    "d.loc[(d['mu'] == 1e-8) & (d['sh'] == 0.01)]['mu']"
   ]
  },
  {
   "cell_type": "code",
   "execution_count": null,
   "id": "535e797a-ab8c-42af-bc5c-a9f6798f7773",
   "metadata": {},
   "outputs": [],
   "source": [
    "# average across replicates\n",
    "dg = d.groupby(['sh', 'rbp', 'N', 'mu', 'U']).mean().reset_index()"
   ]
  },
  {
   "cell_type": "code",
   "execution_count": null,
   "id": "23b8ba2e-137e-4334-8030-29738b51804e",
   "metadata": {},
   "outputs": [],
   "source": [
    "dg['sh'].unique(), dg['mu'].unique(), dg['rbp'].unique()"
   ]
  },
  {
   "cell_type": "markdown",
   "id": "743b586e-f7c7-4ce6-8cfa-bc1b03934b9c",
   "metadata": {
    "tags": []
   },
   "source": [
    "# Comparing Simulations to Theory"
   ]
  },
  {
   "cell_type": "markdown",
   "id": "cef7cabb-668b-4628-8c6d-b2573f519887",
   "metadata": {},
   "source": [
    "Pre-compute all the theory data, for the regional simulations."
   ]
  },
  {
   "cell_type": "code",
   "execution_count": null,
   "id": "5d24b44d-dd93-4710-980b-cc2750c3216f",
   "metadata": {},
   "outputs": [],
   "source": [
    "# calculate the theory results (time-intensive) for a region if it\n",
    "# isn't done already and cached\n",
    "theory_results_file = '../data/supplementary_data/region_theory_data.pkl'\n",
    "if os.path.exists(theory_results_file):\n",
    "    with open(theory_results_file, 'rb') as f:\n",
    "        theory_data = pickle.load(f)\n",
    "else:\n",
    "\n",
    "    theory_data_all = defaultdict(dict)\n",
    "\n",
    "    rbps = [rbp, 0.5e-8, 5e-8]\n",
    "\n",
    "    x = np.logspace(-5, 1, 100)\n",
    "\n",
    "    for r in rbps:\n",
    "        for mu in dg['mu'].unique():\n",
    "            # NOTE: we need asymptotic = False so that *everything* is computed (which is more expensive)\n",
    "            parts = np.array(bgs_segment_sc16_parts(mu, x, L, r, N, asymptotic=False))\n",
    "            Bs = np.array([x[0] for x in parts])\n",
    "            Bs_asymp = np.array([x[1] for x in parts])\n",
    "            other_stuff = [x[5:] for x in parts]\n",
    "            classic_bgs = np.array([x[-1] for x in parts])\n",
    "            Vs = np.array([x[3] for x in parts])\n",
    "            Vms = np.array([x[4] for x in parts])    \n",
    "            Ts = np.array([x[2] for x in parts])\n",
    "            theory_data_all[r][mu] = x, Bs, Bs_asymp, Vs, Ts, classic_bgs, other_stuff\n",
    "\n",
    "    theory_data = theory_data_all[rbp] # main dataset\n",
    "    with open(theory_results_file, 'wb') as f:\n",
    "        pickle.dump(theory_data, f)"
   ]
  },
  {
   "cell_type": "markdown",
   "id": "f17c3007-1e42-43b5-9fbd-d721f96772f2",
   "metadata": {},
   "source": [
    "## Main Region Simulation Figures"
   ]
  },
  {
   "cell_type": "markdown",
   "id": "456a817f-d4fb-4e56-bd87-98ab64b0e9be",
   "metadata": {},
   "source": [
    "### Figure 1A"
   ]
  },
  {
   "cell_type": "code",
   "execution_count": null,
   "id": "9be00252-50fc-4160-a601-7243b91465b9",
   "metadata": {
    "tags": []
   },
   "outputs": [],
   "source": [
    "from mpl_toolkits.axes_grid1.inset_locator import inset_axes\n",
    "import matplotlib.ticker as ticker\n",
    "\n",
    "\n",
    "def log10_formatter(x, pos):\n",
    "    if x == 1.0:\n",
    "        return '1'\n",
    "    else:\n",
    "        return '$10^{%d}$' % np.log10(x)\n",
    "\n",
    "\n",
    "def B_theory_plot(sim_dg, L, rbp, N, mus=None, x=np.logspace(-5, np.log10(0.9), 50), \n",
    "                  include_asymp=True, labels=True, xlim=None, ylim=None, \n",
    "                  marker_size=5, linewidth=2, data=None,\n",
    "                  bgs_linewidth=2, bgs_zorder=10, figax=None, **figax_kwargs):\n",
    "    fig, ax = get_figax(figax, **figax_kwargs)\n",
    "    if mus is None:\n",
    "        mus = sim_dg['mu'].unique()\n",
    "    for mu in mus:\n",
    "        dgs = sim_dg.loc[dg['mu'] == mu]\n",
    "\n",
    "        U = 2*mu*L\n",
    "        if np.log10(mu) == int(np.log10(mu)):\n",
    "            mul = int(np.log10(mu))\n",
    "        else:\n",
    "            mul = np.round(np.log10(mu), 2)\n",
    "        mu_label = f\"$10^{{{mul}}}$\"\n",
    "        \n",
    "        # sim data\n",
    "        sh = dgs['sh'].values\n",
    "        rate = U/sh\n",
    "        col = next(ax._get_lines.prop_cycler)['color']\n",
    "        #ax.scatter(rate, dgs['B_middle'], edgecolor='white', linewidth=0.2, c=col, s=marker_size, zorder=10)\n",
    "        ax.scatter(rate, dgs['B_middle'], edgecolor='white', linewidth=0, c=col, s=marker_size, zorder=10)\n",
    "\n",
    "        # theory part\n",
    "        if data is None:\n",
    "            # calculate the values directly\n",
    "            Bs_asymp = np.array(bgs_segment_sc16_vec(mu, x, L, rbp, N, dont_fallback=False))\n",
    "            Bs = np.array(bgs_segment_sc16_vec(mu, x, L, rbp, N, dont_fallback=False, asymptotic=False, sum_n=10))\n",
    "        else:\n",
    "            if mu not in data:\n",
    "                continue\n",
    "            # use pre-calc'd dict\n",
    "            x, Bs, Bs_asymp, Vs, Ts, classic_bgs, other_stuff = data[mu]\n",
    "        #Bs = np.array(bgs_segment_sc162(mu, x2, L, rbp, 1000, asymptotic=False, sum_n=10))\n",
    "        #plt.plot(U/x, Bs_asymp, label=mu)\n",
    "\n",
    "        if include_asymp:\n",
    "            ax.plot(U/x, Bs_asymp, c=col, linestyle='dashed', linewidth=linewidth)\n",
    "        #ax.plot(U/x, Bs, c=col, linewidth=linewidth, label=mu_label)\n",
    "        # we break into whether the routine fell back to classic BGS (e.g. due to issue with extremely low ratchet rates \n",
    "        # that cause underflows)\n",
    "        #ax.plot(U/x[~classic_bgs], Bs[~classic_bgs], c=col, linewidth=linewidth, label=mu_label)\n",
    "        #ax.plot(U/x[classic_bgs], Bs[classic_bgs], c=col, linestyle=(0, (7, 2)), linewidth=linewidth)\n",
    "        if mu != 1e-8:\n",
    "            ax.plot(U/x, Bs, c=col, linewidth=linewidth, label=mu_label)\n",
    "        else:\n",
    "            # for this high mutation rate, there is a discontinuity due to numeric issues\n",
    "            # it does not matter in anything else but this figure for a large region\n",
    "            xx = U/x\n",
    "            ll, ul = 0.8, 2\n",
    "            ax.plot(xx[xx < ll], Bs[xx < ll], c=col, linewidth=linewidth, label=mu_label)\n",
    "            ax.plot(xx[xx > ul], Bs[xx > ul], c=col, linewidth=linewidth)\n",
    "    mu = max(mus)\n",
    "    mu_x = np.logspace(-8, 1, 50)\n",
    "    bgs_theory = bgs_rec(mu, mu_x, L, rbp)\n",
    "    ax.plot(2*mu*L/mu_x, bgs_theory, c='0.22', linewidth=bgs_linewidth, zorder=bgs_zorder)\n",
    "    #ax.yaxis.grid(linestyle='dashed') \n",
    "\n",
    "    ax.semilogx()\n",
    "    if labels:\n",
    "        ax.set_ylabel(\"B\")\n",
    "        ax.set_xlabel(\"U/s\")\n",
    "    if ylim is not None:\n",
    "        ax.set_ylim(*ylim)\n",
    "    if xlim is not None:\n",
    "        print(xlim)\n",
    "        ax.set_xlim(*xlim)\n",
    "    else:\n",
    "        ax.set_xlim(1e-3, 120)\n",
    "    return fig, ax\n",
    "    \n",
    "\n",
    "plt.rcParams['text.usetex'] = False\n",
    "\n",
    "    \n",
    "fig, ax = plt.subplots(figsize=(5, 4))\n",
    "\n",
    "axin = inset_axes(ax, width=1.1, height=0.9, loc=3, borderpad=2)\n",
    "\n",
    "MUs = [3.16e-10, 1.00e-09, 3.16e-09, 1.00e-08]\n",
    "\n",
    "## MAIN CALLS\n",
    "B_theory_plot(dg, L=L, rbp=rbp, N=N,\n",
    "              mus=MUs,\n",
    "              figax=(fig, ax), data=theory_data,\n",
    "              xlim=(0.0015, 100), include_asymp=False,\n",
    "              #ylim=(0.70, 1.005), \n",
    "              ylim=(0.70, 1.05), \n",
    "              marker_size=30, bgs_zorder=1,\n",
    "              legend=True, bgs_linewidth=5, linewidth=2.3)\n",
    "B_theory_plot(dg, L=L, rbp=rbp, N=N, \n",
    "              mus=MUs,\n",
    "              figax=(fig, axin), data=theory_data,\n",
    "              ylim=(0, 1.1), include_asymp=False, \n",
    "              legend=False, labels=False, bgs_zorder=-1, marker_size=0,\n",
    "              bgs_linewidth=1.4, linewidth=1)\n",
    "\n",
    "\n",
    "for item in ([axin.title, axin.xaxis.label, axin.yaxis.label] +\n",
    "              axin.get_xticklabels() + axin.get_yticklabels()):\n",
    "    item.set_fontsize(6)\n",
    "\n",
    "axin.tick_params(axis=\"y\", direction=\"out\", pad=2)\n",
    "axin.tick_params(axis=\"x\", direction=\"out\", pad=2)\n",
    "axin_axeswidth = 0.7\n",
    "for spine in ['top', 'right', 'left', 'bottom']:\n",
    "    axin.spines[spine].set_visible(True)\n",
    "    axin.spines[spine].set_linewidth(axin_axeswidth)\n",
    "axin.xaxis.set_tick_params(width=axin_axeswidth)\n",
    "axin.yaxis.set_tick_params(width=axin_axeswidth)\n",
    "    \n",
    "# draw the box around zoomed-in region\n",
    "draw_box = False\n",
    "if draw_box:\n",
    "    x, y = ax.axes.get_xlim(), ax.axes.get_ylim()\n",
    "    zoom = mpl.patches.Rectangle((x[0], y[0]), x[1] - x[0], y[1] - y[0], \n",
    "                                 linewidth=0.1, edgecolor='0.22', facecolor='none')\n",
    "    axin.add_patch(zoom)\n",
    "\n",
    "#ax.axhline(1, linestyle='dashed', c='0.22', linewidth=1, zorder=-1)\n",
    "#axin.axhline(1, linestyle='dashed', c='0.22', linewidth=0.5, zorder=-1)\n",
    "\n",
    "leg = ax.legend(loc=(0.8, 0.2), fontsize=10, title=\"mutation rate\", framealpha=1, facecolor='white')\n",
    "frame = leg.get_frame()\n",
    "frame.set_facecolor('blue')\n",
    "arrowlab_y = 1.018\n",
    "ax.text(0.01, arrowlab_y, \"Stronger\", c='0.44', style='italic')\n",
    "ax.quiver(0.008, 1.02, -0.9, 0, units='inches', scale_units='inches', scale=2, color='0.44', zorder=10)\n",
    "ax.text(4.5, arrowlab_y, \"Weaker\",  c='0.44', style='italic')\n",
    "ax.quiver(28, 1.02, 0.9, 0, units='inches', scale_units='inches', scale=2, color='0.44', zorder=10)\n",
    "ax.annotate(\"  Classic\\nBGS theory\", xy=(0.55, 0.1), xytext=(0.75, 0.05), \n",
    "            backgroundcolor='white', \n",
    "             arrowprops=dict(arrowstyle=\"-|>\", color='0.22', relpos=(0., 0.5),\n",
    "                            connectionstyle=\"arc3,rad=-0.1\"),\n",
    "            xycoords=ax.transAxes, weight=550)\n",
    "\n",
    "ax.set_ylabel(\"Reduction factor ($B$)\")\n",
    "ax.set_xlabel(\"$U/s$\")\n",
    "ax.spines['left'].set_bounds((0.7, 1))\n",
    "ax.spines['right'].set_visible(False)\n",
    "ax.spines['top'].set_visible(False)\n",
    "#ax.grid(linestyle='dashed')\n",
    "ax.set_axisbelow(True)\n",
    "#axin.annotate(\"  Classic\\nBGS theory\", xy=(0.05, 0.1), fontsize=5)\n",
    "ax.set_yticks([0.7, 0.8, 0.9, 1])\n",
    "\n",
    "# mask the grid behind arrows\n",
    "mask_grid_quiver = mpl.patches.Rectangle((0, 1.005), 100, 0.1, facecolor='white', zorder=1)\n",
    "ax.add_patch(mask_grid_quiver)\n",
    "\n",
    "# mask grid behind legend\n",
    "mask_grid = mpl.patches.Rectangle((15, 0.2), 400, 0.8, facecolor='white', zorder=1)\n",
    "ax.add_patch(mask_grid)\n",
    "ax.xaxis.set_major_formatter(ticker.FuncFormatter(log10_formatter))\n",
    "\n",
    "#plt.savefig('../manuscript/figures/figure_1A.pdf', bbox_inches='tight')"
   ]
  },
  {
   "cell_type": "markdown",
   "id": "c00f05ed-c78a-44c9-b108-0cc18d2b2000",
   "metadata": {},
   "source": [
    "### Figure 1B"
   ]
  },
  {
   "cell_type": "code",
   "execution_count": null,
   "id": "19ed02e2-288f-4d54-8810-5fb9ac987085",
   "metadata": {},
   "outputs": [],
   "source": [
    "def ratchet_plot(theory_data, figsize=(5, 4), figax=None, marker_size=30,\n",
    "                 ylabel=\"Mutation-scaled ratchet rate ($R/U$)\", xlabel=\"$Ns$\",\n",
    "                 **figax_kwargs):\n",
    "    fig, ax = get_figax(figax, **figax_kwargs)\n",
    "    for mu in theory_data.keys():\n",
    "        mu_label = f\"$10^{{{np.round(np.log10(mu), 2)}}}$\"\n",
    "        dgs = dg.loc[dg['mu'] == mu]\n",
    "        U = 2*mu*L\n",
    "        s = theory_data[mu][0]\n",
    "        sN = s*N\n",
    "        T = theory_data[mu][4]\n",
    "        R = 2/(T*U)\n",
    "        col = next(ax._get_lines.prop_cycler)['color']\n",
    "        keep = sN < 1e2\n",
    "        ax.plot(N*s[keep], R[keep], c=col, alpha=1, linewidth=2.3, label=mu_label)\n",
    "\n",
    "        R_est = np.array([rates[(mu, sh)] for sh in dgs['sh']])\n",
    "        ax.scatter(dgs['sh']*N, 2*R_est/U, c=col, s=marker_size, zorder=10)\n",
    "    ax.set_ylabel(ylabel)\n",
    "    ax.set_xlabel(xlabel)\n",
    "    ax.yaxis.set_ticks([0,0.25, 0.5, 0.75, 1])\n",
    "\n",
    "    #ax.legend(title=\"mutation rate\")\n",
    "    #ax.axhline(1, linestyle='dashed', c='0.22')\n",
    "    #ax.grid(linestyle='dashed')\n",
    "    #ax.annotate(\"neutral fixation rate ($R = U$)\", (1, 1.01), xycoords='data')\n",
    "    ax.set_xscale('log')\n",
    "    #ax.axvline(1, c='0.88', zorder=-10, linestyle='dashed')\n",
    "    return fig, ax\n",
    "\n",
    "fig, ax = plt.subplots(figsize=(5, 4))\n",
    "ratchet_plot(theory_data, figax=(fig, ax))\n",
    "ax.xaxis.set_major_formatter(ticker.FuncFormatter(log10_formatter))\n",
    "\n",
    "#plt.savefig('../manuscript/figures/figure_1B.pdf', bbox_inches='tight')"
   ]
  },
  {
   "cell_type": "markdown",
   "id": "e415d983-8763-47d0-9f4c-7927406a9ccb",
   "metadata": {
    "tags": []
   },
   "source": [
    "### Figure 1C"
   ]
  },
  {
   "cell_type": "code",
   "execution_count": null,
   "id": "faf3cbd0-c044-42a0-b036-0674d6a43d04",
   "metadata": {},
   "outputs": [],
   "source": [
    "def variance_plot(theory_data, figsize=(5, 4), \n",
    "                  ylabel=\"Mutation-scaled variance ($V/U$)\", xlabel=\"$Ns$\", marker_size=30,\n",
    "                  figax=None, **figax_kwargs):\n",
    "    fig, ax = get_figax(figax, **figax_kwargs)\n",
    "    # NOTE we truncate the x axis -- just for visual apperance. The fit here is perfect (classic BGS)\n",
    "    xend = 50\n",
    "    for mu in theory_data.keys():\n",
    "        mu_label = f\"$10^{{{np.round(np.log10(mu), 2)}}}$\"\n",
    "        U = 2*mu*L\n",
    "        sN = theory_data[mu][0] * N\n",
    "        T = theory_data[mu][4]\n",
    "        V = theory_data[mu][3] / U\n",
    "        R =  1/T\n",
    "        \n",
    "\n",
    "        keep = sN < xend\n",
    "        col = next(ax._get_lines.prop_cycler)['color']\n",
    "        ax.plot(sN[keep], V[keep], linewidth=2.3,  label=mu_label, c=col)\n",
    "\n",
    "        # new theory\n",
    "        dgs = dg.loc[dg['mu'] == mu]\n",
    "        dgs_alt = dgs.loc[dgs['sh'] * N < xend, :] # trim to end\n",
    "        \n",
    "        #Va = dgs_alt['f_sd']**2 # this is the pop fitness across indiduals (+LD)\n",
    "        Va = dgs_alt['sh']**2 * dgs_alt['ssh'] /2 # genic Va\n",
    "        ax.scatter(dgs_alt['sh'] * N, Va / (dgs_alt['U']), c=col, s=marker_size, zorder=10)\n",
    "    xs = np.logspace(-6, -1, 100)\n",
    "    #keep = xs < xend\n",
    "    ax.plot((xs*N), xs, zorder=-10, linestyle='dashed', c='0.22', linewidth=1)\n",
    "    #ax.annotate(\"strong BGS variance\", (2e-3, 4e-6), xycoords='data', rotation=30)\n",
    "    ax.set_ylabel(ylabel)\n",
    "    ax.set_xlabel(xlabel)\n",
    "\n",
    "    #ax.axvline(1, c='0.88', zorder=-10, linestyle='dashed')\n",
    "    #fig.canvas.draw()\n",
    "    #ax.legend(loc=(-0.04, 0.6), fontsize=10, ncol=2, title=\"mutation rate\")\n",
    "    ax.loglog()\n",
    "    ax.set_xlim(1e-3, 2e2)\n",
    "    ax.set_ylim(1e-7, 0.5)\n",
    "    #ax.annotate(\"$Ns = 1$\", (1.1, 5e-8), xycoords='data', weight=550)\n",
    "    #ax.annotate(\"\", xy=(1e-2, 1e-5), xytext=(1e-2, 2e-7),\n",
    "    #            xycoords='data', arrowprops=dict(color='0.22', arrowstyle='<|-|>'))\n",
    "    #ax.annotate(\"fitness variance\\nlost due to ratchet\", (6e-3, 3e-7), horizontalalignment='center',\n",
    "    #            bbox=dict(facecolor='white', alpha=1, linewidth=0), \n",
    "    #            fontsize=6, rotation=30)\n",
    "    return fig, ax\n",
    "\n",
    "fig, ax = plt.subplots(figsize=(5, 4))\n",
    "variance_plot(theory_data, figax=(fig, ax))\n",
    "ax.annotate(\"strong BGS variance\", (2e-3, 2.9e-6), xycoords='data', rotation=33.5, color='0.22', fontsize=8)\n",
    "\n",
    "fig.canvas.draw()\n",
    "ax.annotate(\"\", xy=(1e-2, 1e-5), xytext=(1e-2, 2e-7), fontsize=6,\n",
    "            xycoords='data', arrowprops=dict(color='0.22', arrowstyle='<|-|>', linewidth=0.8), zorder=20)\n",
    "\n",
    "ax.annotate(\"fitness variance\\nlost due to ratchet\", xy=(9.2e-3, 1.5e-6), xytext=(1e-1, 3e-7), horizontalalignment='left',\n",
    "            bbox=dict(facecolor='white', alpha=1, linewidth=0), \n",
    "            arrowprops=dict(color='0.22', connectionstyle=\"arc3,rad=-0.1\", arrowstyle='-', linewidth=0.8),\n",
    "            fontsize=8, rotation=0)\n",
    "ax.xaxis.set_major_formatter(ticker.FuncFormatter(log10_formatter))\n",
    "\n",
    "ax.set_ylim(1e-7, 1e-1)\n",
    "ax.set_xlim(1e-3, 1e2)\n",
    "\n",
    "#plt.savefig('../manuscript/figures/figure_1C.pdf', bbox_inches='tight')"
   ]
  },
  {
   "cell_type": "code",
   "execution_count": null,
   "id": "99eb2ae4-7f1a-459f-892f-0f34db24a046",
   "metadata": {
    "tags": []
   },
   "outputs": [],
   "source": [
    "# quick plot showing theory is invariant to total rec\n",
    "fig, ax = plt.subplots(ncols=2)\n",
    "variance_plot(theory_data_all[rbp], figax=(fig, ax[0]))\n",
    "variance_plot(theory_data_all[0.5e-8], figax=(fig, ax[0]))\n",
    "variance_plot(theory_data_all[5e-8], figax=(fig, ax[0]))\n",
    "\n",
    "ratchet_plot(theory_data_all[rbp], figax=(fig, ax[1]))\n",
    "ratchet_plot(theory_data_all[0.5e-8], figax=(fig, ax[1]))\n",
    "ratchet_plot(theory_data_all[5e-8], figax=(fig, ax[1]))"
   ]
  },
  {
   "cell_type": "markdown",
   "id": "9e8f2662-6cee-4c9d-9e31-edf44b37a1e8",
   "metadata": {},
   "source": [
    "### Combined Top Row of Figure 1"
   ]
  },
  {
   "cell_type": "code",
   "execution_count": null,
   "id": "55430fc5-b670-417a-a840-58ce232eda77",
   "metadata": {
    "tags": []
   },
   "outputs": [],
   "source": [
    "plt.rcParams['axes.labelsize'] = 7\n",
    "plt.rcParams['axes.labelpad'] = 3\n",
    "#plt.rcParams['xtick.labelsize'] = 7\n",
    "#plt.rcParams['ytick.labelsize'] = 7\n",
    "plt.rcParams['xtick.major.pad'] = 2\n",
    "plt.rcParams['ytick.major.pad'] = 2\n",
    "plt.rcParams['xtick.labelsize'] = 6\n",
    "plt.rcParams['ytick.labelsize'] = 6\n",
    "plt.rcParams['axes.spines.top'] = True\n",
    "plt.rcParams['axes.spines.right'] = True\n",
    "plt.rcParams['axes.linewidth'] = 0.4\n",
    "\n",
    "\n",
    "fig = plt.figure(constrained_layout=False, figsize=(7.5, 2))\n",
    "subfigs = fig.subfigures(nrows=1, ncols=4, width_ratios=[1.4, 1, 0.04, 1], wspace=1)\n",
    "#subfigs = fig.subplots(ncols=3, nrows=1, width_ratios=[1.3, 1, 1])\n",
    "#subfig_A, subfig_B, subfig_C = subfigs\n",
    "\n",
    "subfig_A = subfigs[0].subplots()\n",
    "subfig_B = subfigs[1].subplots()\n",
    "spacer = subfigs[2].subplots()\n",
    "subfig_C = subfigs[3].subplots()\n",
    "\n",
    "spacer.axis('off')\n",
    "\n",
    "axin = inset_axes(subfig_A, width=0.7, height=0.5, loc=3, borderpad=2)\n",
    "\n",
    "MUs = [3.16e-10, 1.00e-09, 3.16e-09, 1.00e-08]\n",
    "\n",
    "## MAIN CALLS\n",
    "B_theory_plot(dg, L=L, rbp=rbp, N=N,\n",
    "              mus=MUs,\n",
    "              figax=(fig, subfig_A), data=theory_data,\n",
    "              xlim=(0.0015, 100), include_asymp=False,\n",
    "              #ylim=(0.70, 1.005), \n",
    "              ylim=(0.70, 1.04), \n",
    "              marker_size=30, bgs_zorder=1,\n",
    "              legend=True, bgs_linewidth=5, linewidth=2.3)\n",
    "\n",
    "# nested subplot\n",
    "B_theory_plot(dg, L=L, rbp=rbp, N=N, \n",
    "              mus=MUs,\n",
    "              figax=(fig, axin), data=theory_data,\n",
    "              ylim=(0, 1.1), include_asymp=False, \n",
    "              legend=False, labels=False, bgs_zorder=-1, marker_size=0,\n",
    "              bgs_linewidth=1.4, linewidth=1)\n",
    "\n",
    "\n",
    "\n",
    "for item in ([axin.title, axin.xaxis.label, axin.yaxis.label] +\n",
    "              axin.get_xticklabels() + axin.get_yticklabels()):\n",
    "    item.set_fontsize(6)\n",
    "\n",
    "axin.tick_params(axis=\"y\", direction=\"out\", pad=2)\n",
    "axin.tick_params(axis=\"x\", direction=\"out\", pad=2)\n",
    "axin_axeswidth = 0.4\n",
    "for spine in ['top', 'right', 'left', 'bottom']:\n",
    "    axin.spines[spine].set_visible(True)\n",
    "    \n",
    "    axin.spines[spine].set_linewidth(axin_axeswidth)\n",
    "axin.xaxis.set_tick_params(width=axin_axeswidth)\n",
    "axin.yaxis.set_tick_params(width=axin_axeswidth)\n",
    "axin.xaxis.set_major_formatter(ticker.FuncFormatter(log10_formatter))\n",
    "\n",
    "#subfig_A.spines[spine].set_visible(True)\n",
    "\n",
    "# draw the box around zoomed-in region\n",
    "draw_box = False\n",
    "if draw_box:\n",
    "    x, y = ax.axes.get_xlim(), ax.axes.get_ylim()\n",
    "    zoom = mpl.patches.Rectangle((x[0], y[0]), x[1] - x[0], y[1] - y[0], \n",
    "                                 linewidth=0.1, edgecolor='0.22', facecolor='none')\n",
    "    axin.add_patch(zoom)\n",
    "\n",
    "#ax.axhline(1, linestyle='dashed', c='0.22', linewidth=1, zorder=-1)\n",
    "#axin.axhline(1, linestyle='dashed', c='0.22', linewidth=0.5, zorder=-1)\n",
    "# lh, ll = fig.axes[0].get_legend_handles_labels()\n",
    "\n",
    "# leg = subfig_B.legend(handles=lh, labels=ll, title_fontsize=6, fontsize=6,\n",
    "#                       title=\"mutation rate\", framealpha=1, facecolor='white')\n",
    "# #frame = leg.get_frame()\n",
    "#frame.set_facecolor('blue')\n",
    "arrowlab_y = 1.018\n",
    "subfig_A.text(0.01, arrowlab_y, \"Stronger\", c='0.44', style='italic', fontsize=6)\n",
    "subfig_A.quiver(0.008, 1.02, -0.6, 0, units='inches', scale_units='inches', scale=2, color='0.44', zorder=10)\n",
    "subfig_A.text(3.8, arrowlab_y, \"Weaker\",  c='0.44', style='italic', fontsize=6)\n",
    "subfig_A.quiver(20, 1.02, 0.6, 0, units='inches', scale_units='inches', scale=2, color='0.44', zorder=10)\n",
    "subfig_A.annotate(\"  Classic\\nBGS theory\", xy=(0.55, 0.1), xytext=(0.75, 0.05), \n",
    "            backgroundcolor='white', \n",
    "             arrowprops=dict(arrowstyle=\"-|>\", color='0.22', relpos=(0., 0.5),\n",
    "                            connectionstyle=\"arc3,rad=-0.1\"),\n",
    "            xycoords=subfig_A.transAxes, fontsize=6)\n",
    "\n",
    "subfig_A.set_ylabel(\"Reduction factor ($B$)\")\n",
    "subfig_A.set_xlabel(\"$U/s$\")\n",
    "#subfig_A.spines['left'].set_bounds((0.7, 1))\n",
    "subfig_A.spines['right'].set_visible(True)\n",
    "subfig_A.spines['top'].set_visible(True)\n",
    "#ax.grid(linestyle='dashed')\n",
    "subfig_A.set_axisbelow(True)\n",
    "#axin.annotate(\"  Classic\\nBGS theory\", xy=(0.05, 0.1), fontsize=5)\n",
    "subfig_A.set_yticks([0.7, 0.8, 0.9, 1])\n",
    "\n",
    "# mask the grid behind arrows\n",
    "# mask_grid_quiver = mpl.patches.Rectangle((0, 1.005), 100, 0.1, facecolor='white', zorder=1)\n",
    "# subfig_A.add_patch(mask_grid_quiver)\n",
    "\n",
    "# # mask grid behind legend\n",
    "# mask_grid = mpl.patches.Rectangle((15, 0.2), 400, 0.8, facecolor='white', zorder=1)\n",
    "# subfig_A.add_patch(mask_grid)\n",
    "# subfig_A.xaxis.set_major_formatter(ticker.FuncFormatter(log10_formatter))\n",
    "leg = subfig_A.legend(loc=(0.1, 1), ncols=4, fontsize=5, title_fontsize=6, title=\"mutation rate\", framealpha=1, facecolor='white')\n",
    "\n",
    "\n",
    "###### Subfigure B\n",
    "\n",
    "ratchet_plot(theory_data, figax=(fig, subfig_B))\n",
    "subfig_B.xaxis.set_major_formatter(ticker.FuncFormatter(log10_formatter))\n",
    "\n",
    "###### Subfigure C\n",
    "variance_plot(theory_data, figax=(fig, subfig_C))\n",
    "subfig_C.annotate(\"strong BGS variance\", (2e-3, 3.3e-6), xycoords='data', rotation=37.4, color='0.22', fontsize=6)\n",
    "\n",
    "#fig.canvas.draw()\n",
    "subfig_C.annotate(\"\", xy=(1e-2, 1e-5), xytext=(1e-2, 2e-7), fontsize=6,\n",
    "            xycoords='data', arrowprops=dict(color='0.22', arrowstyle='<|-|>', linewidth=0.8), zorder=20)\n",
    "\n",
    "subfig_C.annotate(\"fitness variance\\nlost due to ratchet\", xy=(9e-3, 1.5e-6), xytext=(1e-1, 3e-7), horizontalalignment='left',\n",
    "            bbox=dict(facecolor='white', alpha=1, linewidth=0), \n",
    "            arrowprops=dict(color='0.22', connectionstyle=\"arc3,rad=-0.1\", arrowstyle='-', linewidth=0.8),\n",
    "            fontsize=6, rotation=0)\n",
    "subfig_C.xaxis.set_major_formatter(ticker.FuncFormatter(log10_formatter))\n",
    "\n",
    "subfig_C.set_ylim(1e-7, 1e-1)\n",
    "subfig_C.set_xlim(1e-3, 1e2)\n",
    "\n",
    "\n",
    "subfig_C.tick_params(axis='both', which='minor', width=0.5)\n",
    "subfig_C.tick_params(axis='both', which='major', width=0.5)\n",
    "\n",
    "fig.subplots_adjust(wspace=0.3)\n",
    "#plt.tight_layout()\n",
    "plt.savefig('../manuscript/figures/subfigure_1_top.pdf', bbox_inches='tight')"
   ]
  },
  {
   "cell_type": "markdown",
   "id": "a7a48043-50f3-447e-8fdb-6320dd1316c0",
   "metadata": {
    "tags": []
   },
   "source": [
    "#### Mini-exploration of scaling\n",
    "\n",
    "Tried to figure out how the ratchet slope comes about... without much luck"
   ]
  },
  {
   "cell_type": "code",
   "execution_count": null,
   "id": "b4f39625-ca94-4d01-b2d8-351328782e97",
   "metadata": {
    "tags": []
   },
   "outputs": [],
   "source": [
    "from scipy.optimize import curve_fit\n",
    "\n",
    "def func(x, a, b):\n",
    "    return a * np.exp(-b * x)\n",
    "\n",
    "coefs = []\n",
    "\n",
    "#theory_data[1e-8]\n",
    "for r in rbps:\n",
    "    for m in dg['mu'].unique():\n",
    "\n",
    "        sN = theory_data_all[r][m][0] * N\n",
    "        T = theory_data_all[r][m][4]\n",
    "        y = 2/(T*2*L*m)\n",
    "        plt.plot(sN, y)\n",
    "        plt.semilogx()\n",
    "\n",
    "        popt, pcov = curve_fit(func, sN, y)\n",
    "        coefs.append(dict(rbp=r, mu=m, b=popt[1]))\n",
    "        yfit = func(sN, popt[0], popt[1])\n",
    "        plt.plot(sN, yfit)"
   ]
  },
  {
   "cell_type": "code",
   "execution_count": null,
   "id": "b3be0c27-75b0-400a-9564-241733ad256f",
   "metadata": {
    "tags": []
   },
   "outputs": [],
   "source": [
    "import seaborn as sns"
   ]
  },
  {
   "cell_type": "code",
   "execution_count": null,
   "id": "7d7f35d3-ee42-405d-af3f-5053f74fa971",
   "metadata": {
    "tags": []
   },
   "outputs": [],
   "source": [
    "dcf = pd.DataFrame(coefs)\n",
    "dcf['param'] = np.exp(-N * dcf['mu'] / np.sqrt(dcf['rbp']))\n",
    "\n",
    "sns.scatterplot(x='param', y='b', data=dcf, hue='mu')\n",
    "#plt.semilogx()"
   ]
  },
  {
   "cell_type": "code",
   "execution_count": null,
   "id": "9b3b2935-b3a3-40b1-92a7-40fa6c4f69b2",
   "metadata": {
    "tags": []
   },
   "outputs": [],
   "source": [
    "dcfa = dcf.loc[dcf['mu'] < 1e-8]\n",
    "\n",
    "x = dcfa['param']\n",
    "y = dcfa['b']\n",
    "plt.scatter(x, y)\n",
    "xx = np.sort(x)\n",
    "popt, pcov = curve_fit(func, x, y)\n",
    "plt.plot(xx, func(xx, popt[0], popt[1]))\n",
    "plt.semilogx()"
   ]
  },
  {
   "cell_type": "markdown",
   "id": "c98c9357-43eb-4163-9734-be88cfa81ae4",
   "metadata": {
    "tags": []
   },
   "source": [
    "### Figure 1D"
   ]
  },
  {
   "cell_type": "markdown",
   "id": "12f32c27-214b-4b42-9a53-a4d2bb729eee",
   "metadata": {
    "tags": []
   },
   "source": [
    "#### Data"
   ]
  },
  {
   "cell_type": "code",
   "execution_count": null,
   "id": "20774dbf-e8b6-4d1d-b7df-2b159e428800",
   "metadata": {
    "tags": []
   },
   "outputs": [],
   "source": [
    "# load in subfigure D data\n",
    "with open('../data/supplementary_data/figure_1_bmap_data.pkl', 'rb') as f:\n",
    "    sibfigc_data = pickle.load(f)\n",
    "    \n",
    "\n",
    "\n",
    "g = sibfigc_data['g']\n",
    "b = sibfigc_data['b']\n",
    "bp = sibfigc_data['bp']\n",
    "bp_rs = sibfigc_data['bp_rs']\n",
    "m = sibfigc_data['m']\n",
    "sim_means_100kb = sibfigc_data['sim_means_100kb']\n",
    "sim_sd_100kb = sibfigc_data['sim_sd_100kb']"
   ]
  },
  {
   "cell_type": "code",
   "execution_count": null,
   "id": "c1e90c7c-2794-4041-b279-8b71ef159112",
   "metadata": {
    "tags": []
   },
   "outputs": [],
   "source": [
    "## do some processing for the recombination/gene density track\n",
    "\n",
    "WIDTH = 100_000\n",
    "\n",
    "i = np.zeros(g.seqlens['chr10'])\n",
    "for row in m.segments.ranges:\n",
    "    i[slice(*row)] = 1\n",
    "\n",
    "covered_bases = np.where(i)[0]\n",
    "wins = np.linspace(0, g.seqlens['chr10'], g.seqlens['chr10'] // WIDTH).astype(int)\n",
    "\n",
    "# compute the coverage by binning covered bases and summing up indicator variables where they are\n",
    "coverage = stats.binned_statistic(covered_bases, np.full(len(covered_bases), 1), statistic=np.sum, bins=wins)"
   ]
  },
  {
   "cell_type": "code",
   "execution_count": null,
   "id": "5aa0d1a1-4d37-423c-b63a-56ed991f7c06",
   "metadata": {
    "tags": []
   },
   "outputs": [],
   "source": [
    "# get the coverage stats end positions out\n",
    "width = (coverage.bin_edges[1:] - coverage.bin_edges[:-1])\n",
    "density_midpoints, density = (coverage.bin_edges[1:] + coverage.bin_edges[:-1])/2, 100*coverage.statistic/width"
   ]
  },
  {
   "cell_type": "code",
   "execution_count": null,
   "id": "cb9765bb-1a7c-487c-ae46-94044cdc2bc9",
   "metadata": {
    "tags": []
   },
   "outputs": [],
   "source": [
    "rec_ends, rec_rates = m.recmap.rates['chr10']\n",
    "\n",
    "REC_WIDTH = 100_000\n",
    "rec_wins = np.linspace(0, g.seqlens['chr10'], g.seqlens['chr10'] // REC_WIDTH).astype(int)\n",
    "\n",
    "bin_rec = True\n",
    "\n",
    "if bin_rec:\n",
    "    rec_bins = stats.binned_statistic(rec_ends, rec_rates, statistic=np.nanmean, bins=rec_wins)\n",
    "    rec_bin_rates = rec_bins.statistic\n",
    "    rec_bin_midpoints = 0.5*(rec_bins.bin_edges[1:] + rec_bins.bin_edges[:-1])\n",
    "else:\n",
    "    rec_bin_rates = rec_rates\n",
    "    rec_bin_midpoints = rec_ends\n",
    "    \n",
    "#rec_bin_rates[rec_bin_rates < 0] = np.nan\n",
    "#rec_bin_rates = (rec_bin_rates - np.nanmean(rec_bin_rates)) / np.nanstd(rec_bin_rates)"
   ]
  },
  {
   "cell_type": "code",
   "execution_count": null,
   "id": "402c977b-ec66-48b3-96ec-e5d619701bcf",
   "metadata": {
    "tags": []
   },
   "outputs": [],
   "source": [
    "def centro_notch(ax, coords, seqlen, c=2.5, lw=0.5, lc='0.22', flip=False):\n",
    "    ymin, ymax = ax.get_ylim()\n",
    "    m = 1/c if not flip else 1-1/c\n",
    "    ymid = (ymin + ymax)*m\n",
    "    if flip:\n",
    "        ymin, ymax = ymax, ymin\n",
    "    start, cent, end = coords\n",
    "    verts = [(start, ymax*1.11), (cent, ymid), (end, ymax*1.11)]\n",
    "    codes = [Path.MOVETO, Path.LINETO, Path.LINETO]\n",
    "    centro_verts = mpath.Path(verts, codes)\n",
    "    centro_marker = patches.PathPatch(centro_verts, facecolor='white', lw=0)\n",
    "    ax.add_patch(centro_marker)\n",
    "    ax.plot([0, 0, start, cent, end, seqlen, seqlen], [ymin, ymax, ymax, ymid, ymax, ymax, ymin], c=lc, linewidth=lw)\n",
    "\n",
    "centro = read_centro(\"../data/annotation/hg38_centro.bed\")"
   ]
  },
  {
   "cell_type": "markdown",
   "id": "db793454-c516-47af-8966-a3708c8bb6d1",
   "metadata": {},
   "source": [
    "#### Figure Code"
   ]
  },
  {
   "cell_type": "code",
   "execution_count": null,
   "id": "7897130d-beea-4d47-9a56-046ecc444ef0",
   "metadata": {
    "tags": []
   },
   "outputs": [],
   "source": [
    "lwd = 1.4\n",
    "newlab = \"New B'\"\n",
    "ticks_x = mpl.ticker.FuncFormatter(lambda x, pos: '{0:g}'.format(x/1e6))\n",
    "\n",
    "gridkw =  {\"height_ratios\": [5, 0.5, 5, 0.5, 5, 0.8, 0.8], \"hspace\": 0, \"wspace\": 0.05, \"width_ratios\": [3.5, 0.5],}#, \"top\": 0.01, \"bottom\": 0.0}\n",
    "fig, axs = plt.subplots(ncols=2, nrows=7, gridspec_kw=gridkw, subplot_kw={'sharex': True}, sharex=True, figsize=(5, 2))\n",
    "\n",
    "ax = axs[:, 0]\n",
    "\n",
    "# right column is legend gutter so we don't have to use constrained layout \n",
    "\n",
    "spacers = [ax[1], ax[3]]\n",
    "for spacer in spacers + axs[:, 1].tolist():\n",
    "    spacer.axis('off')\n",
    "gene_ax = ax[5]\n",
    "rec_ax = ax[6]\n",
    "\n",
    "COLS = ['0.44', 'skyblue', 'mediumslateblue', 'gold']\n",
    "\n",
    "### Strong Selection B map\n",
    "w, t = 1e-8, 1e-2 #3.16e-3\n",
    "ax[0].plot(*sim_means_100kb['chr10', w, t], label=\"Simulations\", linewidth=lwd, color=COLS[0])\n",
    "ax[0].plot(*b['chr10', w, t], label=\"Classic BGS\", linewidth=lwd, color=COLS[1])\n",
    "ax[0].plot(*bp['chr10', w, t], label=newlab, linestyle='dashed', linewidth=lwd, color=COLS[2])\n",
    "ax[0].set_ylim(0.5 , 1.1)\n",
    "ax[0].get_xaxis().set_visible(False)\n",
    "ax[0].spines.top.set_visible(False)\n",
    "ax[0].spines.bottom.set_visible(False)\n",
    "ax[0].spines.right.set_visible(False)\n",
    "ax[0].spines.left.set_bounds((0.5, 1))\n",
    "\n",
    "### Ns = 1 B Map\n",
    "w, t = 1e-8, 1e-3\n",
    "mb_bins = bin_chroms(g.seqlens, 40e3)\n",
    "ax[2].plot(*sim_means_100kb['chr10', w, t], label=\"Simulations\", linewidth=lwd,  color=COLS[0])\n",
    "ax[2].plot(*b.bin_means(mb_bins)['chr10', w, t], label=\"Classic B\", linewidth=lwd, color=COLS[1])\n",
    "ax[2].plot(*bp['chr10', w, t], label=newlab, linewidth=lwd, color=COLS[2])\n",
    "ax[2].plot(*bp_rs['chr10', w, t], label=f\"B', rescaled\", linewidth=lwd, color=COLS[3])\n",
    "ax[2].set_ylim(0., 1.1)\n",
    "ax[2].get_xaxis().set_visible(False)\n",
    "ax[2].spines.top.set_visible(False)\n",
    "ax[2].spines.bottom.set_visible(False)\n",
    "ax[2].spines.right.set_visible(False)\n",
    "ax[2].spines.left.set_bounds((0., 1))\n",
    "\n",
    "### Weak Selection B map\n",
    "#w, t = 3.16e-9, 1e-4\n",
    "w, t = 1e-8, 1e-4\n",
    "mb_bins = bin_chroms(g.seqlens, 40e3)\n",
    "ax[4].plot(*sim_means_100kb['chr10', w, t], label=\"Simulations\", linewidth=lwd,  color=COLS[0])\n",
    "ax[4].plot(*b.bin_means(mb_bins)['chr10', w, t], label=\"Classic B\", linewidth=lwd, color=COLS[1])\n",
    "ax[4].plot(*bp['chr10', w, t], label=newlab, linewidth=lwd, color=COLS[2])\n",
    "ax[4].set_ylim(0., 1.1)\n",
    "ax[4].get_xaxis().set_visible(False)\n",
    "ax[4].spines.top.set_visible(False)\n",
    "ax[4].spines.bottom.set_visible(False)\n",
    "ax[4].spines.right.set_visible(False)\n",
    "ax[4].spines.left.set_bounds((0, 1))\n",
    "\n",
    "\n",
    "### Gene Density / Recombination Map Chromosome\n",
    "gene_ax.axis('off')\n",
    "rec_ax.set_yticks([])\n",
    "rec_ax.tick_params(left=False)\n",
    "rec_ax.spines['bottom'].set_position(('outward', 4))\n",
    "rec_ax.spines['bottom'].set_bounds([0, 140e6])\n",
    "rec_ax.spines.right.set_visible(False)\n",
    "rec_ax.spines.left.set_visible(False)\n",
    "rec_ax.spines.top.set_visible(False)\n",
    "rec_ax.xaxis.set_major_formatter(ticks_x)\n",
    "\n",
    "\n",
    "bar_height = 10\n",
    "#rate_min, rate_max = 0.9 * np.nanmin(rec_bin_rates), 0.90 * np.nanmax(rec_bin_rates)\n",
    "rate_min, rate_max = np.nanquantile(rec_bin_rates, 0.01), np.nanquantile(rec_bin_rates, 0.95)\n",
    "\n",
    "rec_bin_rates[np.isnan(rec_bin_rates)] = np.nanmin(rec_bin_rates)\n",
    "smooth_rates = gaussian_filter1d(rec_bin_rates, 2)\n",
    "\n",
    "norm = plt.Normalize(rate_min, rate_max)\n",
    "rec_cbar = rec_ax.pcolor(rec_bin_midpoints, np.arange(bar_height), np.repeat(smooth_rates[:, None], bar_height, axis=1).T, \n",
    "                         norm=norm, cmap='viridis', alpha=1, snap=True,linewidth=0,rasterized=True)\n",
    "\n",
    "\n",
    "norm = plt.Normalize(np.nanquantile(density, 0.01), np.nanquantile(density, 0.99))\n",
    "smooth_rates = gaussian_filter1d(density, 2)\n",
    "gene_cbar = gene_ax.pcolor(density_midpoints, np.arange(bar_height), np.repeat(smooth_rates[:, None], bar_height, axis=1).T, \n",
    "                           norm=norm, cmap='plasma', alpha=1, snap=True,linewidth=0,rasterized=True)\n",
    "centro_notch(gene_ax, centro['chr10'], seqlen=g.seqlens['chr10'])\n",
    "centro_notch(rec_ax, centro['chr10'],  seqlen=g.seqlens['chr10'], flip=True)\n",
    "\n",
    "\n",
    "### BOTTOM LEGEND ---------------------------------------\n",
    "\n",
    "lines, labels = fig.axes[4].get_legend_handles_labels()\n",
    "\n",
    "# This dictionary will map labels to their corresponding lines.\n",
    "# Because it's a dictionary, it will automatically remove duplicate labels.\n",
    "#unique = {label: line for line, label in zip(lines, labels)}\n",
    "\n",
    "# Now we can add the legend, using the unique labels and their corresponding lines.\n",
    "leg = fig.legend(lines, labels, handlelength=1, fontsize=6, loc=(0.8, 0.6))\n",
    "\n",
    "for handle in leg.legend_handles:\n",
    "    handle.set_linestyle('solid')\n",
    "\n",
    "\n",
    "# if show_sd:\n",
    "#     simsd = sim_sd_100kb['chr10', w, t]\n",
    "#     simm = sim_means_100kb['chr10', w, t]\n",
    "#     ax[1].fill_between(simm[0], simm[1] - 0.5*simsd[1], simm[1] + 0.5*simsd[1], alpha=0.3)\n",
    "#     simsd = sim_sd_100kb['chr10', w, t]\n",
    "#     simm = sim_means_100kb['chr10', w, t]\n",
    "#     ax[0].fill_between(simm[0], simm[1] - 0.5*simsd[1], simm[1] + 0.5*simsd[1], alpha=0.3)\n",
    "\n",
    "#ax[1].grid(axis='y')\n",
    "#ax[2].set_ylim(0, 1.1)\n",
    "#ax[1].spines.left.set_bounds((0, 1))\n",
    "#ax[2].spines.left.set_position((\"axes\", -0.005)) ##############\n",
    "#ax[2].spines.right.set_visible(False)\n",
    "\n",
    "#### Labels\n",
    "import matplotlib.transforms as mtransforms\n",
    "bx = 0.96\n",
    "off = 0.008\n",
    "\n",
    "ax[0].text(bx+off, 0.5, \"$2Ns > 1$\", rotation=90, va='center',\n",
    "           transform=ax[0].transAxes, fontsize=7)\n",
    "           #bbox=dict(boxstyle='square', pad=0.1, linewidth=0, facecolor='wheat', alpha=0.5))\n",
    "ax[2].text(bx+off, 0.5, \"$2Ns \\\\approx 1$\", rotation=90, va='center',\n",
    "           transform=ax[2].transAxes, fontsize=7)\n",
    "ax[4].text(bx+off, 0.5, \"$2Ns < 1$\", rotation=90, va='center',\n",
    "           transform=ax[4].transAxes, fontsize=7)\n",
    "\n",
    "lx = 105e6\n",
    "ax[0].text(lx, 0.5, \"$\\mu=10^{-8}, s=10^{-2}$\", rotation=0, \n",
    "           transform=ax[0].transData, fontsize=5,\n",
    "           bbox=dict(boxstyle='square', pad=0.1, linewidth=0, facecolor='white', alpha=0.5))\n",
    "\n",
    "ax[2].text(lx, 0.1, \"$\\mu=10^{-8}, s=10^{-3}$\", rotation=0, \n",
    "           transform=ax[2].transData, fontsize=5,\n",
    "           bbox=dict(boxstyle='round', pad=0.1, linewidth=0, facecolor='white', alpha=0.5))\n",
    "\n",
    "ax[4].text(lx, 0.1, \"$\\mu=10^{-8}, s=10^{-4}$\", rotation=0, \n",
    "           transform=ax[4].transData, fontsize=5,\n",
    "           bbox=dict(boxstyle='round', pad=0.1, linewidth=0, facecolor='white', alpha=0.5))\n",
    "\n",
    "\n",
    "bw = 1\n",
    "rect = plt.Rectangle((bx, 0), bw, 4, facecolor=\"wheat\", alpha=0.4, transform=ax[0].transAxes,)\n",
    "ax[0].add_patch(rect)\n",
    "\n",
    "rect = plt.Rectangle((bx, 0), bw, 4, facecolor=\"lightcoral\", alpha=0.3, transform=ax[2].transAxes,)\n",
    "ax[2].add_patch(rect)\n",
    "\n",
    "rect = plt.Rectangle((bx, 0), bw, 4, facecolor=\"lightgreen\", alpha=0.3, transform=ax[4].transAxes,)\n",
    "ax[4].add_patch(rect)\n",
    "\n",
    "ax[0].set_xlim(0, 140e6)\n",
    "rec_ax.set_xlabel(\"Position (Megabases)\")\n",
    "ax[2].set_ylabel(\"Reduction factor ($B$)\", labelpad=10)\n",
    "\n",
    "# the follow blocks out the patches from other axes which create weird white rectangles\n",
    "ax[2].patch.set_visible(False)\n",
    "ax[1].patch.set_visible(False)\n",
    "ax[3].patch.set_visible(False)\n",
    "ax[4].patch.set_visible(False)\n",
    "\n",
    "offset = 0.1\n",
    "width = 0.01\n",
    "start = 0.76\n",
    "yst = 0.12\n",
    "hgt = 0.28\n",
    "cax2 = fig.add_axes([offset+start+width, yst, width, hgt], zorder=100)\n",
    "cax1 = fig.add_axes([offset+start, yst, width, hgt], zorder=100)\n",
    "cbar1 = fig.colorbar(rec_cbar, cax=cax1, shrink=0.01)\n",
    "cbar2 = fig.colorbar(gene_cbar, cax=cax2, shrink=0.01)\n",
    "cax1.yaxis.set_ticks_position('left')\n",
    "cax2.yaxis.set_major_formatter(mpl.ticker.PercentFormatter())\n",
    "cax1.set_yticks(np.array([0, 2e-8, 4e-8]))\n",
    "cax1.set_yticklabels(np.array([0, 2, 4]))\n",
    "cax1.yaxis.set_label_position('left')\n",
    "cax1.set_ylabel('recomb (cM/Mb)', fontsize=6)\n",
    "#cax1.yaxis.set_label_position('left')\n",
    "cax2.set_ylabel('conserved density', fontsize=6, rotation=-90, labelpad=6)\n",
    "cax1.tick_params(labelsize=6)\n",
    "cax2.tick_params(labelsize=6)\n",
    "cbar1.outline.set_linewidth(0.5)\n",
    "#cbar1.outline.set_visible(False)\n",
    "#cbar2.outline.set_visible(False)\n",
    "cbar2.outline.set_linewidth(0.5) \n",
    "cax1.yaxis.set_tick_params(width=0.5)\n",
    "cax2.yaxis.set_tick_params(width=0.5)\n",
    "\n",
    "plt.savefig('../manuscript/figures/subfigure_1_track.pdf', bbox_inches='tight')"
   ]
  },
  {
   "cell_type": "markdown",
   "id": "29a67fce-d0b1-424a-a1ea-e869197a6cdd",
   "metadata": {
    "tags": []
   },
   "source": [
    "### Figure 1E"
   ]
  },
  {
   "cell_type": "code",
   "execution_count": null,
   "id": "f8fa190b-46ac-4a3e-8c80-4757bcd2552e",
   "metadata": {
    "tags": []
   },
   "outputs": [],
   "source": [
    "mse_df = pd.read_csv('../data/supplementary_data/theory_simulation_comparison.tsv', delimiter='\\t')\n",
    "mse_df.head()"
   ]
  },
  {
   "cell_type": "code",
   "execution_count": null,
   "id": "fd55d374-28f6-46f1-b4d3-ab1d26566570",
   "metadata": {
    "tags": []
   },
   "outputs": [],
   "source": [
    "def rel_error_plot(mse_df, marker_size=5, linewidth=0.8, figax=None):\n",
    "    fig, ax = get_figax(figax)\n",
    "    labs = set()\n",
    "    ws = set()\n",
    "    for w in mse_df['w']:\n",
    "        if w > 1e-8 or w == 1e-10:\n",
    "            continue    \n",
    "        if w in ws: \n",
    "            continue\n",
    "        ws.add(w)\n",
    "        mse_dfx = mse_df.loc[mse_df['w'] == w, :]\n",
    "        expon = np.round(np.log10(w), 2)\n",
    "        expon = int(expon) if int(expon) == expon else expon\n",
    "        lab_text = f\"$10^{{{expon}}}$\"\n",
    "        lab = None if lab_text in labs else lab_text\n",
    "        lines = ax.plot(N*mse_dfx.t, 100*mse_dfx.bp_relerror, linewidth=linewidth, label=lab)\n",
    "        labs.add(lab_text)\n",
    "        #ax.scatter(mse_dfx.t, 100*mse_dfx.bp_relerror, c=lines[0].get_color(), s=marker_size, zorder=10)\n",
    "\n",
    "        ax.plot(N*mse_dfx.t, 100*mse_dfx.b_relerror, linestyle='dashed',\n",
    "                linewidth=linewidth,\n",
    "                c=lines[0].get_color(), zorder=10)\n",
    "        #ax.plot(N*mse_dfx.t, 100*mse_dfx.bp_rs_relerror, c=lines[0].get_color())\n",
    "    ax.loglog()\n",
    "    #ax.semilogx()\n",
    "    ax.set_ylim(0, 100)\n",
    "    #ax.set_xlim(1e-7, 1.1e-1)\n",
    "    #ax.yaxis.set_minor_formatter(mpl.ticker.ScalarFormatter())\n",
    "    #ax.ticklabel_format(style='plain', axis='y',useOffset=False)\n",
    "    ax.set_yticklabels(('10%', '100%'))\n",
    "    ax.set_yticks((10, 100))\n",
    "    ax.set_ylabel(\"relative error\")\n",
    "    ax.set_xlabel(\"$Ns$\")\n",
    "    \n",
    "\n",
    "fig, ax = plt.subplots(figsize=(2.5, 2))\n",
    "rel_error_plot(mse_df, marker_size=5, figax=(fig, ax), linewidth=2)\n",
    "leg = ax.legend(fontsize=5, ncol=1, handlelength=1, title='mutation rate', title_fontsize=6)\n",
    "for lh in leg.legendHandles:\n",
    "    lh.set_markersize(0)\n",
    "ax.xaxis.set_major_formatter(ticker.FuncFormatter(log10_formatter))\n",
    "#fig.add_artist(leg)\n",
    "\n",
    "\n",
    "import matplotlib.lines as mlines\n",
    "\n",
    "lineBPrime = mlines.Line2D([], [], color='0.33', linestyle='-', label=\"New B'\", linewidth=2)\n",
    "lineB = mlines.Line2D([], [], color='0.33', linestyle='--', label='Classic B', linewidth=2)\n",
    "leg = ax.legend(handles=[lineBPrime, lineB], loc=(0.55, 0.73), fontsize=6, title_fontsize=8)\n",
    "for lh in leg.legendHandles:\n",
    "    lh.set_linewidth(1.5)"
   ]
  },
  {
   "cell_type": "code",
   "execution_count": null,
   "id": "6dac33c1-3282-40ca-a38d-d322b047e29a",
   "metadata": {
    "tags": []
   },
   "outputs": [],
   "source": [
    "(mse_df['t']*N).unique()"
   ]
  },
  {
   "cell_type": "code",
   "execution_count": null,
   "id": "68a09017-4ba0-4cd3-98d0-032f548a79ff",
   "metadata": {
    "tags": []
   },
   "outputs": [],
   "source": [
    "np.round(mse_df.mean() * 100, 2)"
   ]
  },
  {
   "cell_type": "code",
   "execution_count": null,
   "id": "4a17447a-9d18-41ed-9809-a5061d107247",
   "metadata": {
    "tags": []
   },
   "outputs": [],
   "source": [
    "mse_df['Ns'] = N*mse_df['t']"
   ]
  },
  {
   "cell_type": "code",
   "execution_count": null,
   "id": "982d3e42-7e70-4924-8c96-70af236104db",
   "metadata": {
    "tags": []
   },
   "outputs": [],
   "source": [
    "np.round(mse_df.groupby(['w', 't']).mean() * 100, 2).reset_index()"
   ]
  },
  {
   "cell_type": "code",
   "execution_count": null,
   "id": "563b9728-d968-4db4-a61e-e894a9b417f7",
   "metadata": {
    "tags": []
   },
   "outputs": [],
   "source": [
    "np.round(mse_df.loc[mse_df['Ns'] == 1].groupby(['w']).mean() * 100, 2)"
   ]
  },
  {
   "cell_type": "code",
   "execution_count": null,
   "id": "6be04e4d-1b32-47cb-93a1-7cc2a36b7aa4",
   "metadata": {
    "tags": []
   },
   "outputs": [],
   "source": [
    "np.log10(mse_df['w'].unique()), np.log10(mse_df['t'].unique())"
   ]
  },
  {
   "cell_type": "code",
   "execution_count": null,
   "id": "31ef1fc6-f256-4944-b958-7e68da3a2ff1",
   "metadata": {
    "tags": []
   },
   "outputs": [],
   "source": [
    "np.round(mse_df.loc[mse_df['Ns'] > 1].mean() * 100, 2)"
   ]
  },
  {
   "cell_type": "code",
   "execution_count": null,
   "id": "60a3b809-023c-419f-9afa-784b3c0595a4",
   "metadata": {
    "tags": []
   },
   "outputs": [],
   "source": [
    "np.round(mse_df.loc[mse_df['Ns'] < 1].mean() * 100, 2)"
   ]
  },
  {
   "cell_type": "code",
   "execution_count": null,
   "id": "d57fdcdc-6407-4873-84b4-1bc36d8ce24c",
   "metadata": {
    "tags": []
   },
   "outputs": [],
   "source": [
    "np.round(mse_df.loc[mse_df['Ns'] < 2].mean() * 100, 2)"
   ]
  },
  {
   "cell_type": "code",
   "execution_count": null,
   "id": "794b140f-3bd6-4a75-b513-bffbf6be67b0",
   "metadata": {
    "tags": []
   },
   "outputs": [],
   "source": [
    "def mse_plot(mse_df, marker_size=5, linewidth=0.8, figax=None):\n",
    "    fig, ax = get_figax(figax)\n",
    "    labs = set()\n",
    "    ws = set()\n",
    "    for w in mse_df['w']:\n",
    "        if w > 1e-8 or w == 1e-10:\n",
    "            continue    \n",
    "        if w in ws: \n",
    "            continue\n",
    "        ws.add(w)\n",
    "        mse_dfx = mse_df.loc[mse_df['w'] == w, :]\n",
    "        expon = np.round(np.log10(w), 2)\n",
    "        expon = int(expon) if int(expon) == expon else expon\n",
    "        lab_text = f\"$10^{{{expon}}}$\"\n",
    "        lab = None if lab_text in labs else lab_text\n",
    "        lines = ax.plot(N*mse_dfx.t, mse_dfx.bp_mse, linewidth=linewidth, label=lab, zorder=10)\n",
    "        labs.add(lab_text)\n",
    "        #ax.scatter(mse_dfx.t, 100*mse_dfx.bp_relerror, c=lines[0].get_color(), s=marker_size, zorder=10)\n",
    "\n",
    "        ax.plot(N*mse_dfx.t, mse_dfx.b_mse, #linestyle='dotted', \n",
    "                dash_capstyle = 'round',\n",
    "                linestyle = (0,(0.1,2)),\n",
    "                linewidth=linewidth,\n",
    "                c=lines[0].get_color(), zorder=10)\n",
    "        \n",
    "        ax.plot(N*mse_dfx.t, mse_dfx.bp_rs_mse, c=lines[0].get_color(), linewidth=linewidth, linestyle='dashed', zorder=20)\n",
    "        \n",
    "        \n",
    "    ax.loglog()\n",
    "    #ax.semilogx()\n",
    "    #ax.set_ylim(0, 100)\n",
    "    #ax.set_xlim(1e-7, 1.1e-1)\n",
    "    #ax.yaxis.set_minor_formatter(mpl.ticker.ScalarFormatter())\n",
    "    #ax.ticklabel_format(style='plain', axis='y',useOffset=False)\n",
    "    #ax.set_yticklabels(('10%', '100%'))\n",
    "    #ax.set_yticks((10, 100))\n",
    "    ax.set_ylabel(\"MSE\")\n",
    "    ax.set_xlabel(\"$Ns$\")\n",
    "\n",
    "    \n",
    "\n",
    "\n",
    "fig, ax = plt.subplots(figsize=(2.5, 2))\n",
    "mse_plot(mse_df, marker_size=5, figax=(fig, ax), linewidth=1.7)\n",
    "leg = ax.legend(fontsize=5, ncol=1, handlelength=1, title='mutation rate', title_fontsize=6)\n",
    "for lh in leg.legendHandles:\n",
    "    lh.set_markersize(0)\n",
    "ax.xaxis.set_major_formatter(ticker.FuncFormatter(log10_formatter))\n",
    "#fig.add_artist(leg)\n",
    "\n",
    "\n",
    "import matplotlib.lines as mlines\n",
    "\n",
    "lineBp = mlines.Line2D([], [], color='0.33', linestyle='-', label=\"New B'\", linewidth=2)\n",
    "lineB = mlines.Line2D([], [], color='0.33', dash_capstyle = 'round',\n",
    "                linestyle = (0,(0.1,2)), label='classic B', linewidth=2) \n",
    "lineBp_rs = mlines.Line2D([], [], color='0.33', linestyle='dashed', label=\"New B', rescaled\", linewidth=2)\n",
    "leg = ax.legend(handles=[lineB, lineBp, lineBp_rs, ], loc=(0.47, 0.73), fontsize=6, title_fontsize=8)\n",
    "for lh in leg.legendHandles:\n",
    "    lh.set_linewidth(1.5)\n",
    "    "
   ]
  },
  {
   "cell_type": "markdown",
   "id": "def83863-4b56-4d57-be35-94435c92d8fc",
   "metadata": {
    "tags": []
   },
   "source": [
    "#### With LD Data"
   ]
  },
  {
   "cell_type": "code",
   "execution_count": null,
   "id": "68f86da3-1be8-4b30-84d6-6ff641e248f4",
   "metadata": {
    "tags": []
   },
   "outputs": [],
   "source": [
    "sim_B = np.load('../slim_sims/chrombgs/empiricalB_chr10__expansion_false__h_0.5__results.npz', allow_pickle=True)\n",
    "mus = sim_B['mu']\n",
    "shs = sim_B['sh']"
   ]
  },
  {
   "cell_type": "code",
   "execution_count": null,
   "id": "bf2ddcac-2b14-4a4a-ac01-7a029fe876ba",
   "metadata": {
    "tags": []
   },
   "outputs": [],
   "source": [
    "mi = 4\n",
    "\n",
    "fig, ax = plt.subplots(figsize=(5, 3))\n",
    "for i in range(100):\n",
    "    ax.plot(N*shs, sim_B['r2sum'][mi, :, i], c='0.22', alpha=0.05)\n",
    "ax.plot(N*shs, sim_B['r2sum'].mean(axis=2)[mi, :], linewidth=3, c='0.22', zorder=10)\n",
    "ax.axhline(0, c='cornflowerblue', linestyle='dashed')\n",
    "ax.semilogx()\n",
    "ax.set_ylabel('LD sum')\n",
    "ax.set_xlabel('$Ns$')"
   ]
  },
  {
   "cell_type": "code",
   "execution_count": null,
   "id": "22d80bbf-6274-4e37-b915-093cd176c2c0",
   "metadata": {
    "tags": []
   },
   "outputs": [],
   "source": [
    "mi =4\n",
    "\n",
    "fig, ax = plt.subplots(figsize=(5, 3))\n",
    "ax.plot(N*shs, sim_B['r2sum'].mean(axis=2)[mi, :], linewidth=3, c='0.22', zorder=10)\n",
    "ax.axhline(0, c='cornflowerblue', linestyle='dashed')\n",
    "ax.semilogx()\n",
    "ax.set_ylabel('LD sum')\n",
    "ax.set_xlabel('$Ns$')"
   ]
  },
  {
   "cell_type": "code",
   "execution_count": null,
   "id": "d6fcd785-aa3f-4991-a95c-61b8fd66167c",
   "metadata": {
    "tags": []
   },
   "outputs": [],
   "source": [
    "gridkw =  {\"height_ratios\": [1, 3], \"hspace\": 0.1}#, \"top\": 0.01, \"bottom\": 0.0}\n",
    "\n",
    "fig, ax = plt.subplots(nrows=2, figsize=(2.5, 2.1), gridspec_kw=gridkw, subplot_kw={'sharex': True}, sharex=True,)\n",
    "\n",
    "\n",
    "mi = 4\n",
    "for i in range(100):\n",
    "    #ax[0].plot(N*shs, sim_B['r2sum'][mi, :, i], c='0.22', linewidth=1, alpha=0.05)\n",
    "    continue\n",
    "mean = sim_B['r2sum'].mean(axis=2)[mi, :]\n",
    "ax[0].plot(N*shs, mean, linewidth=2, c='#f03e3e', zorder=10, label=mu)\n",
    "\n",
    "sd = sim_B['r2sum'].std(axis=2)[mi, :]\n",
    "n = sim_B['r2sum'].shape[2]\n",
    "\n",
    "\n",
    "from scipy.ndimage.filters import gaussian_filter1d\n",
    "mean = gaussian_filter1d(mean, sigma=0.5)\n",
    "sd = gaussian_filter1d(sd, sigma=0.5)\n",
    "\n",
    "ax[0].fill_between(N*shs, mean - 2*sd/np.sqrt(n), mean + 2*sd/np.sqrt(n), alpha=0.1, linewidth=0, color='0.33')\n",
    "\n",
    "# mi = 5\n",
    "# for i in range(100):\n",
    "#     ax[0].plot(N*shs, sim_B['r2sum'][mi, :, i], c='0.22', linewidth=1, alpha=0.05)\n",
    "#     continue\n",
    "# ax[0].plot(N*shs, sim_B['r2sum'].mean(axis=2)[mi, :], linewidth=2, zorder=10, label=mu)\n",
    "\n",
    "\n",
    "# for i, mu in enumerate(mus):\n",
    "#     if mu == 3.16e-8 or mu == 1e-10:\n",
    "#         continue\n",
    "#     xx = sim_B['r2sum'].mean(axis=2)[i, :]\n",
    "#     ax[0].plot(N*shs, xx / np.std(xx), linewidth=2, zorder=10, label=mu)\n",
    "ax[0].axhline(0, c='0.33', linewidth=0.8, linestyle='dashed')\n",
    "ax[0].semilogx()\n",
    "ax[0].set_ylabel('LD sum')\n",
    "ax[0].set_xlabel('$Ns$')\n",
    "\n",
    "\n",
    "mse_plot(mse_df, marker_size=5, figax=(fig, ax[1]), linewidth=1.7)\n",
    "#leg = ax[1].legend(fontsize=5, ncol=1, handlelength=1, title='mutation rate', title_fontsize=6)\n",
    "#for lh in leg.legendHandles:\n",
    "#    lh.set_markersize(0)\n",
    "ax[1].xaxis.set_major_formatter(ticker.FuncFormatter(log10_formatter))\n",
    "#fig.add_artist(leg)\n",
    "\n",
    "\n",
    "import matplotlib.lines as mlines\n",
    "\n",
    "lineBp = mlines.Line2D([], [], color='0.33', linestyle='-', label=\"New B'\", linewidth=2)\n",
    "lineB = mlines.Line2D([], [], color='0.33', dash_capstyle = 'round',\n",
    "                linestyle = (0,(0.1,2)), label='Classic B', linewidth=2) \n",
    "lineBp_rs = mlines.Line2D([], [], color='0.33', linestyle='dashed', label=\"B' rescaled\", linewidth=2)\n",
    " \n",
    "leg = ax[1].legend(handles=[lineB, lineBp, lineBp_rs, ], loc=(0.59, 0.6), fontsize=6, title_fontsize=8)\n",
    "for lh in leg.legendHandles:\n",
    "    lh.set_linewidth(1.5)\n",
    "    \n",
    "\n",
    "from bgspy.theory2 import B_var_limit\n",
    "nsims = 100 \n",
    "ax[1].axhline(B_var_limit(1, nsims), c='k', zorder=20, linestyle='dashed', linewidth=0.6)\n",
    "ax[1].annotate(\"lower bound\\n $\\mathrm{V}(B) \\\\approx \\\\frac{2}{9n}$\", (200, B_var_limit(1, nsims)), (110, 7e-3),\n",
    "               ha='right', zorder=10, \n",
    "               fontsize=5.4, arrowprops=dict(facecolor='black', linewidth=0.5, arrowstyle=\"->\", connectionstyle=\"arc3,rad=-0.7\"))\n",
    "# ax[1].annotate(\"theoretical\\nlimit\", (5e-4, B_var_limit(1, nsims)), (1e-3, 6e-3),\n",
    "#                ha='center', zorder=10,\n",
    "#                fontsize=5, arrowprops=dict(facecolor='black', arrowstyle=\"->\", connectionstyle=\"arc3\"))\n",
    "\n",
    "#ax[1].set_xlim(2e-4, 200)\n",
    "ax[1].set_xlim(7e-4, 300)\n",
    "\n",
    "#ax[0].set_ylim(-13, 13)\n",
    "ax[0].set_ylim(-2.3, 1)\n",
    "\n",
    "ax[0].text(17, -0.8, \"$\\mu = 10^{-8}$\", fontsize=4.5)\n",
    "\n",
    "plt.savefig('../manuscript/figures/subfigure_1_relerror_LD.pdf', bbox_inches='tight')"
   ]
  },
  {
   "cell_type": "code",
   "execution_count": null,
   "id": "e33e7d5c-b9ef-4dfa-9cd8-107bb0999ab2",
   "metadata": {},
   "outputs": [],
   "source": [
    "def split_chrom_ax(ax, rec_x, rec_y, gen_x, gen_y, rec_quantile=(0.01, 0.95), gen_quantile=(0.01, 0.99)):\n",
    "    bar_height = 10\n",
    "    rec_ax, gen_ax = ax\n",
    "    rate_min, rate_max = np.nanquantile(rec_y, rec_quantile[0]), np.nanquantile(rec_y, rec_quantile[1])\n",
    "\n",
    "    rec_y[np.isnan(rec_y)] = np.nanmin(rec_y)\n",
    "    smooth_rec_y = gaussian_filter1d(rec_y, 2)\n",
    "\n",
    "    rec_norm = plt.Normalize(rate_min, rate_max)\n",
    "    rec_cbar = rec_ax.pcolor(rec_x, np.arange(bar_height), np.repeat(smooth_rec_y[:, None], bar_height, axis=1).T, \n",
    "                             norm=rec_norm, cmap='viridis', alpha=1, snap=True, linewidth=0, rasterized=True)\n",
    "\n",
    "\n",
    "    gen_norm = plt.Normalize(np.nanquantile(density, gen_quantile[0]), np.nanquantile(density, gen_quantile[1]))\n",
    "    smooth_gen_y = gaussian_filter1d(density, 2)\n",
    "    gen_cbar = gen_ax.pcolor(gen_x, np.arange(bar_height), np.repeat(smooth_gen_y[:, None], bar_height, axis=1).T, \n",
    "                             norm=gen_norm, cmap='plasma', \n",
    "                             # the follow options get rid of those nasty lines in PDF\n",
    "                             alpha=1, snap=True, linewidth=0, rasterized=True)\n",
    "\n",
    "    return rec_cbar, gen_cbar"
   ]
  },
  {
   "cell_type": "code",
   "execution_count": null,
   "id": "63d32213-3db4-410a-aa0c-39c6df0ca2b0",
   "metadata": {},
   "outputs": [],
   "source": []
  }
 ],
 "metadata": {
  "kernelspec": {
   "display_name": "Python 3 (ipykernel)",
   "language": "python",
   "name": "python3"
  },
  "language_info": {
   "codemirror_mode": {
    "name": "ipython",
    "version": 3
   },
   "file_extension": ".py",
   "mimetype": "text/x-python",
   "name": "python",
   "nbconvert_exporter": "python",
   "pygments_lexer": "ipython3",
   "version": "3.10.8"
  },
  "toc-autonumbering": true,
  "toc-showcode": false,
  "toc-showmarkdowntxt": false
 },
 "nbformat": 4,
 "nbformat_minor": 5
}
