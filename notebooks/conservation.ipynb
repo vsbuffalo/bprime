{
 "cells": [
  {
   "cell_type": "code",
   "execution_count": 1,
   "id": "f8deceed-c8cf-4c06-bc99-81165f00f5a3",
   "metadata": {},
   "outputs": [],
   "source": [
    "import numpy as np\n",
    "import matplotlib.pyplot as plt\n",
    "import pandas as pd"
   ]
  },
  {
   "cell_type": "code",
   "execution_count": 10,
   "id": "8c5e0592-30ad-4974-97b5-7b0795262944",
   "metadata": {},
   "outputs": [],
   "source": [
    "d = pd.read_csv('../data/annotation/phastConsElements100way.txt.gz', sep='\\t', names=('chr', 'start', 'end', 'lod', 'score'))\n",
    "d['score'] = d['score'] / 1000"
   ]
  },
  {
   "cell_type": "code",
   "execution_count": 11,
   "id": "f464524d-4369-4e83-9f25-ea6174b4f1f6",
   "metadata": {},
   "outputs": [
    {
     "data": {
      "text/html": [
       "<div>\n",
       "<style scoped>\n",
       "    .dataframe tbody tr th:only-of-type {\n",
       "        vertical-align: middle;\n",
       "    }\n",
       "\n",
       "    .dataframe tbody tr th {\n",
       "        vertical-align: top;\n",
       "    }\n",
       "\n",
       "    .dataframe thead th {\n",
       "        text-align: right;\n",
       "    }\n",
       "</style>\n",
       "<table border=\"1\" class=\"dataframe\">\n",
       "  <thead>\n",
       "    <tr style=\"text-align: right;\">\n",
       "      <th></th>\n",
       "      <th>chr</th>\n",
       "      <th>start</th>\n",
       "      <th>end</th>\n",
       "      <th>lod</th>\n",
       "      <th>score</th>\n",
       "    </tr>\n",
       "  </thead>\n",
       "  <tbody>\n",
       "    <tr>\n",
       "      <th>585</th>\n",
       "      <td>chr1</td>\n",
       "      <td>12007</td>\n",
       "      <td>12020</td>\n",
       "      <td>lod=48</td>\n",
       "      <td>0.377</td>\n",
       "    </tr>\n",
       "    <tr>\n",
       "      <th>585</th>\n",
       "      <td>chr1</td>\n",
       "      <td>12021</td>\n",
       "      <td>12035</td>\n",
       "      <td>lod=37</td>\n",
       "      <td>0.351</td>\n",
       "    </tr>\n",
       "    <tr>\n",
       "      <th>585</th>\n",
       "      <td>chr1</td>\n",
       "      <td>12039</td>\n",
       "      <td>12050</td>\n",
       "      <td>lod=23</td>\n",
       "      <td>0.304</td>\n",
       "    </tr>\n",
       "    <tr>\n",
       "      <th>585</th>\n",
       "      <td>chr1</td>\n",
       "      <td>12065</td>\n",
       "      <td>12085</td>\n",
       "      <td>lod=30</td>\n",
       "      <td>0.330</td>\n",
       "    </tr>\n",
       "    <tr>\n",
       "      <th>585</th>\n",
       "      <td>chr1</td>\n",
       "      <td>12176</td>\n",
       "      <td>12194</td>\n",
       "      <td>lod=175</td>\n",
       "      <td>0.505</td>\n",
       "    </tr>\n",
       "    <tr>\n",
       "      <th>...</th>\n",
       "      <td>...</td>\n",
       "      <td>...</td>\n",
       "      <td>...</td>\n",
       "      <td>...</td>\n",
       "      <td>...</td>\n",
       "    </tr>\n",
       "    <tr>\n",
       "      <th>1021</th>\n",
       "      <td>chrY</td>\n",
       "      <td>57213597</td>\n",
       "      <td>57213607</td>\n",
       "      <td>lod=43</td>\n",
       "      <td>0.366</td>\n",
       "    </tr>\n",
       "    <tr>\n",
       "      <th>1021</th>\n",
       "      <td>chrY</td>\n",
       "      <td>57213873</td>\n",
       "      <td>57213967</td>\n",
       "      <td>lod=511</td>\n",
       "      <td>0.611</td>\n",
       "    </tr>\n",
       "    <tr>\n",
       "      <th>1021</th>\n",
       "      <td>chrY</td>\n",
       "      <td>57214343</td>\n",
       "      <td>57214417</td>\n",
       "      <td>lod=370</td>\n",
       "      <td>0.579</td>\n",
       "    </tr>\n",
       "    <tr>\n",
       "      <th>1021</th>\n",
       "      <td>chrY</td>\n",
       "      <td>57214535</td>\n",
       "      <td>57214569</td>\n",
       "      <td>lod=31</td>\n",
       "      <td>0.333</td>\n",
       "    </tr>\n",
       "    <tr>\n",
       "      <th>1021</th>\n",
       "      <td>chrY</td>\n",
       "      <td>57214853</td>\n",
       "      <td>57214875</td>\n",
       "      <td>lod=13</td>\n",
       "      <td>0.247</td>\n",
       "    </tr>\n",
       "  </tbody>\n",
       "</table>\n",
       "<p>10350729 rows × 5 columns</p>\n",
       "</div>"
      ],
      "text/plain": [
       "       chr     start       end      lod  score\n",
       "585   chr1     12007     12020   lod=48  0.377\n",
       "585   chr1     12021     12035   lod=37  0.351\n",
       "585   chr1     12039     12050   lod=23  0.304\n",
       "585   chr1     12065     12085   lod=30  0.330\n",
       "585   chr1     12176     12194  lod=175  0.505\n",
       "...    ...       ...       ...      ...    ...\n",
       "1021  chrY  57213597  57213607   lod=43  0.366\n",
       "1021  chrY  57213873  57213967  lod=511  0.611\n",
       "1021  chrY  57214343  57214417  lod=370  0.579\n",
       "1021  chrY  57214535  57214569   lod=31  0.333\n",
       "1021  chrY  57214853  57214875   lod=13  0.247\n",
       "\n",
       "[10350729 rows x 5 columns]"
      ]
     },
     "execution_count": 11,
     "metadata": {},
     "output_type": "execute_result"
    }
   ],
   "source": [
    "d"
   ]
  },
  {
   "cell_type": "code",
   "execution_count": 13,
   "id": "4af45e87-87eb-4d9a-b2d7-195de7538711",
   "metadata": {},
   "outputs": [],
   "source": [
    "score = d['score'].values"
   ]
  },
  {
   "cell_type": "code",
   "execution_count": 14,
   "id": "bec04bfc-c882-4203-8a36-6a708beaaffd",
   "metadata": {},
   "outputs": [
    {
     "data": {
      "text/plain": [
       "(array([2.768023e+06, 4.293343e+06, 1.708206e+06, 9.520130e+05,\n",
       "        4.329850e+05, 1.452590e+05, 3.922800e+04, 9.817000e+03,\n",
       "        1.784000e+03, 7.100000e+01]),\n",
       " array([0.186 , 0.2674, 0.3488, 0.4302, 0.5116, 0.593 , 0.6744, 0.7558,\n",
       "        0.8372, 0.9186, 1.    ]),\n",
       " <BarContainer object of 10 artists>)"
      ]
     },
     "execution_count": 14,
     "metadata": {},
     "output_type": "execute_result"
    },
    {
     "data": {
      "image/png": "[encoded data removed]",
      "text/plain": [
       "<Figure size 432x288 with 1 Axes>"
      ]
     },
     "metadata": {
      "needs_background": "light"
     },
     "output_type": "display_data"
    }
   ],
   "source": [
    "plt.hist(score)"
   ]
  },
  {
   "cell_type": "code",
   "execution_count": 19,
   "id": "329e6b75-41f8-43b2-a2b8-2e850a5b9be2",
   "metadata": {},
   "outputs": [
    {
     "data": {
      "text/plain": [
       "0.526"
      ]
     },
     "execution_count": 19,
     "metadata": {},
     "output_type": "execute_result"
    }
   ],
   "source": [
    "q = np.quantile(score, 0.95)\n",
    "q"
   ]
  },
  {
   "cell_type": "code",
   "execution_count": 21,
   "id": "4d735523-789c-4fbd-9967-fd440dd5d836",
   "metadata": {},
   "outputs": [
    {
     "data": {
      "text/plain": [
       "<matplotlib.lines.Line2D at 0x7f88d5d8d160>"
      ]
     },
     "execution_count": 21,
     "metadata": {},
     "output_type": "execute_result"
    },
    {
     "data": {
      "image/png": "[encoded data removed]",
      "text/plain": [
       "<Figure size 432x288 with 1 Axes>"
      ]
     },
     "metadata": {
      "needs_background": "light"
     },
     "output_type": "display_data"
    }
   ],
   "source": [
    "plt.hist(score)\n",
    "plt.axvline(q, c='r')"
   ]
  },
  {
   "cell_type": "code",
   "execution_count": null,
   "id": "f34bc3d1-c18f-4b08-87cc-309992f7543b",
   "metadata": {},
   "outputs": [],
   "source": []
  }
 ],
 "metadata": {
  "kernelspec": {
   "display_name": "Python 3 (ipykernel)",
   "language": "python",
   "name": "python3"
  },
  "language_info": {
   "codemirror_mode": {
    "name": "ipython",
    "version": 3
   },
   "file_extension": ".py",
   "mimetype": "text/x-python",
   "name": "python",
   "nbconvert_exporter": "python",
   "pygments_lexer": "ipython3",
   "version": "3.8.12"
  }
 },
 "nbformat": 4,
 "nbformat_minor": 5
}
