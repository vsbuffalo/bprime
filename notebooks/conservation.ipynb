{
 "cells": [
  {
   "cell_type": "code",
   "execution_count": 3,
   "id": "f594f053-9df7-4014-bd98-048dc26ce42b",
   "metadata": {},
   "outputs": [],
   "source": [
    "%load_ext autoreload\n",
    "%autoreload 2\n",
    "%reload_ext autoreload"
   ]
  },
  {
   "cell_type": "code",
   "execution_count": 4,
   "id": "f8deceed-c8cf-4c06-bc99-81165f00f5a3",
   "metadata": {},
   "outputs": [],
   "source": [
    "from collections import defaultdict, Counter\n",
    "import numpy as np\n",
    "import matplotlib.pyplot as plt\n",
    "import pandas as pd\n",
    "from bgspy.genome import Genome\n",
    "from bgspy.utils import load_bed_annotation, read_bed3, ranges_to_masks\n",
    "from bgspy.genome import process_annotation"
   ]
  },
  {
   "cell_type": "markdown",
   "id": "e8bef324-1da8-40e0-8f8d-cf2f39317d02",
   "metadata": {
    "tags": []
   },
   "source": [
    "## Functions"
   ]
  },
  {
   "cell_type": "code",
   "execution_count": 5,
   "id": "a70ce0b3-290b-4234-b11a-b68b030b3a70",
   "metadata": {},
   "outputs": [],
   "source": [
    "def annot_summary(annot, seqlens):\n",
    "    \"\"\"\n",
    "    Summarize annotation by chromosome.\n",
    "    \n",
    "    Returns (by chromosome) number of features, total bp of \n",
    "    features, and fraction of chromosome.    \n",
    "    \"\"\"\n",
    "    annot, all_features = annot\n",
    "    nfeats = defaultdict(Counter)\n",
    "    total_bp = defaultdict(Counter)\n",
    "    frac = defaultdict(Counter)\n",
    "    lengths = defaultdict(lambda: defaultdict(list))\n",
    "    for chrom, (ranges, features) in annot.items():\n",
    "        for (start, end), feature in zip(ranges, features):\n",
    "            nfeats[chrom][feature] += 1\n",
    "            total_bp[chrom][feature] += end-start\n",
    "            lengths[chrom][feature].append(end-start)\n",
    "    for chrom in total_bp:\n",
    "        for feature, val in total_bp[chrom].items():\n",
    "            assert val < seqlens[chrom]\n",
    "            frac[chrom][feature] = val / seqlens[chrom]\n",
    "    return nfeats, total_bp, frac, lengths\n",
    "\n",
    "def annot_merged_summary(annot, genome_length):\n",
    "    \"\"\"\n",
    "    Summarize genome-wide annotation.\n",
    "    \n",
    "    Returns number of features, total bp of features, and fraction of genome.\n",
    "    \"\"\"\n",
    "    annot, all_features = annot\n",
    "    nfeats = Counter()\n",
    "    total_bp = Counter()\n",
    "    frac = Counter()\n",
    "    lengths = defaultdict(list)\n",
    "    for chrom, (ranges, features) in annot.items():\n",
    "        for (start, end), feature in zip(ranges, features):\n",
    "            nfeats[feature] += 1\n",
    "            total_bp[feature] += end-start\n",
    "            lengths[feature].append(end-start)\n",
    "\n",
    "    for feature, val in total_bp.items():\n",
    "        frac[feature] = val / genome_length\n",
    "    return nfeats, total_bp, frac, lengths"
   ]
  },
  {
   "cell_type": "code",
   "execution_count": 6,
   "id": "54951013-9c2a-4bb8-a24e-5a2a584b7cb2",
   "metadata": {},
   "outputs": [],
   "source": [
    "g = Genome('hg38', seqlens_file=\"../data/annotation/hg38_seqlens.tsv\")"
   ]
  },
  {
   "cell_type": "code",
   "execution_count": 7,
   "id": "4c267281-1143-47ef-be3f-96287849d0af",
   "metadata": {},
   "outputs": [],
   "source": [
    "hg38_autos = {c: k for c, k in g.seqlens.items() if c not in ('chrX', 'chrY', 'chrM')}"
   ]
  },
  {
   "cell_type": "code",
   "execution_count": 8,
   "id": "af1b9e95-f68f-4389-92a5-f296fa80ac8c",
   "metadata": {},
   "outputs": [
    {
     "data": {
      "text/plain": [
       "2.875001522"
      ]
     },
     "execution_count": 8,
     "metadata": {},
     "output_type": "execute_result"
    }
   ],
   "source": [
    "hg38_len = sum(v for c, v in hg38_autos.items())\n",
    "hg38_len/1e9"
   ]
  },
  {
   "cell_type": "markdown",
   "id": "518fddef-29e3-4bd9-9e1b-51d5971f9db3",
   "metadata": {},
   "source": [
    "## Annotation Tracks\n",
    "\n",
    "We need basic statistics on the conserved annotation tracks — their composition etc."
   ]
  },
  {
   "cell_type": "markdown",
   "id": "c5362831-5297-47b3-a9c7-64f80452ee78",
   "metadata": {},
   "source": [
    "### Merged Track"
   ]
  },
  {
   "cell_type": "code",
   "execution_count": 19,
   "id": "074d87e0-7268-4960-b48d-b2e7c4f4b4c2",
   "metadata": {},
   "outputs": [],
   "source": [
    "merged_annot = load_bed_annotation('../data/annotation/merged_utrs_cds_introns_phastcons.bed.gz')"
   ]
  },
  {
   "cell_type": "code",
   "execution_count": 20,
   "id": "6e3e0c85-11bd-40a4-935e-125a1fee9266",
   "metadata": {},
   "outputs": [],
   "source": [
    "merged_summary = annot_merged_summary(merged_annot, hg38_len)"
   ]
  },
  {
   "cell_type": "code",
   "execution_count": 21,
   "id": "3cf666a3-2aaa-4b32-ac92-3f5cf4659a2e",
   "metadata": {},
   "outputs": [
    {
     "data": {
      "text/plain": [
       "Counter({'phastcons': 3672949, 'utr': 86319, 'intron': 239357, 'cds': 212056})"
      ]
     },
     "execution_count": 21,
     "metadata": {},
     "output_type": "execute_result"
    }
   ],
   "source": [
    "# number of features\n",
    "merged_summary[0]"
   ]
  },
  {
   "cell_type": "code",
   "execution_count": 22,
   "id": "86f4c641-a7b0-4972-aba2-689300bf72bf",
   "metadata": {},
   "outputs": [
    {
     "data": {
      "text/plain": [
       "Counter({'phastcons': 0.022488878181539967,\n",
       "         'utr': 0.017523136114708463,\n",
       "         'intron': 0.41097623669362354,\n",
       "         'cds': 0.012388024746235248})"
      ]
     },
     "execution_count": 22,
     "metadata": {},
     "output_type": "execute_result"
    }
   ],
   "source": [
    "# proportion of total genome\n",
    "merged_summary[2]"
   ]
  },
  {
   "cell_type": "markdown",
   "id": "948f78cb-64c0-41bd-ae2b-e779a7ecbe67",
   "metadata": {},
   "source": [
    "This are roughly the proportions we expect: CDS ~2%, and introns are ~40%."
   ]
  },
  {
   "cell_type": "code",
   "execution_count": 23,
   "id": "6fd07982-1fc2-4f7a-9a1b-878e2b3807fd",
   "metadata": {},
   "outputs": [],
   "source": [
    "merged_summary_chrom = annot_summary(merged_annot, g.seqlens)"
   ]
  },
  {
   "cell_type": "code",
   "execution_count": 24,
   "id": "7676b755-77ae-43c0-9c9b-fa01b249ebdb",
   "metadata": {},
   "outputs": [
    {
     "data": {
      "text/plain": [
       "Counter({'phastcons': 0.021450585436193326,\n",
       "         'utr': 0.02051145722201936,\n",
       "         'intron': 0.41069157476885654,\n",
       "         'cds': 0.0144966093704544})"
      ]
     },
     "execution_count": 24,
     "metadata": {},
     "output_type": "execute_result"
    }
   ],
   "source": [
    "# inspect one chromosome\n",
    "merged_summary_chrom[2]['chr1']"
   ]
  },
  {
   "cell_type": "markdown",
   "id": "9751565f-cc24-476f-ba80-60efbaf09868",
   "metadata": {},
   "source": [
    "Now let's load in in the segments into the `Segments` object that will be used to calculate B and make sure that these results match up with the raw annotation files (in the future this could be a unit test)."
   ]
  },
  {
   "cell_type": "code",
   "execution_count": 25,
   "id": "945ed86b-5d1f-4280-b6f1-c232f03e429b",
   "metadata": {},
   "outputs": [
    {
     "name": "stdout",
     "output_type": "stream",
     "text": [
      "ignoring HapMap header...\n",
      "parsing recmap as HapMap formatted (chrom, end, rate)\n",
      "completed segmenting chr1.\n",
      "completed segmenting chr2.\n",
      "completed segmenting chr3.\n",
      "completed segmenting chr4.\n",
      "completed segmenting chr5.\n",
      "completed segmenting chr6.\n",
      "completed segmenting chr7.\n",
      "completed segmenting chr8.\n",
      "completed segmenting chr9.\n",
      "completed segmenting chr10.\n",
      "completed segmenting chr11.\n",
      "completed segmenting chr12.\n",
      "completed segmenting chr13.\n",
      "completed segmenting chr14.\n",
      "completed segmenting chr15.\n",
      "completed segmenting chr16.\n",
      "completed segmenting chr17.\n",
      "completed segmenting chr18.\n",
      "completed segmenting chr19.\n",
      "completed segmenting chr20.\n",
      "completed segmenting chr21.\n",
      "completed segmenting chr22.\n",
      "completed segmenting chrX.\n",
      "looking up map positions...\tdone.\n"
     ]
    }
   ],
   "source": [
    "g.load_annot('../data/annotation/merged_utrs_cds_introns_phastcons.bed.gz')\n",
    "g.load_recmap('../data/annotation/hapmap_genetic_map.txt')\n",
    "g.create_segments()"
   ]
  },
  {
   "cell_type": "code",
   "execution_count": 26,
   "id": "7ab900ec-77f3-4f8d-b2ca-ca581f1ce40a",
   "metadata": {},
   "outputs": [
    {
     "data": {
      "text/plain": [
       "(Counter({'phastcons': 3744576,\n",
       "          'utr': 143634,\n",
       "          'intron': 1621052,\n",
       "          'cds': 246814}),\n",
       " Counter({'phastcons': 64655559,\n",
       "          'utr': 50379043,\n",
       "          'intron': 1181557306,\n",
       "          'cds': 35615590}),\n",
       " {'cds': 0.011750277660334043,\n",
       "  'intron': 0.3898187961254123,\n",
       "  'phastcons': 0.02133112972532842,\n",
       "  'utr': 0.01662102869872177})"
      ]
     },
     "execution_count": 26,
     "metadata": {},
     "output_type": "execute_result"
    }
   ],
   "source": [
    "stats = g.feature_stats(exclude_chroms=['X'])\n",
    "stats"
   ]
  },
  {
   "cell_type": "code",
   "execution_count": 27,
   "id": "a8afce20-c1d7-4297-9d6e-c2ca6723c0a8",
   "metadata": {},
   "outputs": [
    {
     "data": {
      "text/plain": [
       "True"
      ]
     },
     "execution_count": 27,
     "metadata": {},
     "output_type": "execute_result"
    }
   ],
   "source": [
    "# now, let's compare these segment statistics from those from the merged annotation file directly\n",
    "stats_chrom = g.feature_stats(by_chrom=True, exclude_chroms=['X'])\n",
    "\n",
    "stats_chrom[2]['chr1'] == merged_summary_chrom[2]['chr1']"
   ]
  },
  {
   "cell_type": "markdown",
   "id": "dfc5edf6-7438-4a72-b897-8db4cb79ed20",
   "metadata": {},
   "source": [
    "### Simulation Track (for Chromosome 10)\n",
    "\n",
    "\n",
    "\n",
    "Random checking:\n",
    "\n",
    "```\n",
    "$ bioawk -cbed 'BEGIN{a=0} {a += $end-$start } END{print a}'    \\\n",
    "     ../../data/annotation/conserved_phastcons_thresh0_chr10.bed\n",
    "7083369\n",
    "```"
   ]
  },
  {
   "cell_type": "code",
   "execution_count": 28,
   "id": "ec79d5a3-7dc9-4cc8-aa8d-5812b747d1be",
   "metadata": {},
   "outputs": [],
   "source": [
    "sim_annot = load_bed_annotation('../data/annotation/conserved_phastcons_thresh0_chr10.bed')"
   ]
  },
  {
   "cell_type": "code",
   "execution_count": 38,
   "id": "b9c14924-2584-40bd-b1d6-74300802e9bf",
   "metadata": {},
   "outputs": [
    {
     "data": {
      "text/plain": [
       "7083369"
      ]
     },
     "execution_count": 38,
     "metadata": {},
     "output_type": "execute_result"
    }
   ],
   "source": [
    "np.diff(np.array(sim_annot.ranges['chr10'][0]), axis=1).sum()"
   ]
  },
  {
   "cell_type": "code",
   "execution_count": 29,
   "id": "310d2a21-c0f5-4272-bb4f-bbef5bebee88",
   "metadata": {},
   "outputs": [],
   "source": [
    "sim_summary = annot_merged_summary(sim_annot, hg38_len)"
   ]
  },
  {
   "cell_type": "code",
   "execution_count": 39,
   "id": "1fd4f7cc-3417-4d00-a427-46f1d26f4149",
   "metadata": {},
   "outputs": [
    {
     "data": {
      "text/plain": [
       "Counter({'undefined': 7083369})"
      ]
     },
     "execution_count": 39,
     "metadata": {},
     "output_type": "execute_result"
    }
   ],
   "source": [
    "# number of features\n",
    "sim_summary[1]"
   ]
  },
  {
   "cell_type": "code",
   "execution_count": 46,
   "id": "7a0fca22-d91a-419b-8b9c-60ecb7830240",
   "metadata": {},
   "outputs": [
    {
     "data": {
      "text/plain": [
       "Counter({'undefined': 0.05294099762251025})"
      ]
     },
     "execution_count": 46,
     "metadata": {},
     "output_type": "execute_result"
    }
   ],
   "source": [
    "# what fraction of the chromosome?\n",
    "annot_summary(sim_annot, g.seqlens)[2]['chr10']"
   ]
  },
  {
   "cell_type": "markdown",
   "id": "2da49fc2-83c6-4306-8339-4a1dc6e9bbf8",
   "metadata": {
    "jp-MarkdownHeadingCollapsed": true,
    "tags": []
   },
   "source": [
    "## PhastCons Thresholding\n",
    "\n",
    "In Murphy et al. they pay attention to thresholding their conserved tracks, so here's a little exploration into this with the phastCons dataset:"
   ]
  },
  {
   "cell_type": "code",
   "execution_count": null,
   "id": "8c5e0592-30ad-4974-97b5-7b0795262944",
   "metadata": {},
   "outputs": [],
   "source": [
    "d = pd.read_csv('../data/annotation/phastConsElements100way.txt.gz', sep='\\t', names=('chr', 'start', 'end', 'lod', 'score'))\n",
    "d = d.loc[d.chr.isin(hg38_autos)]\n",
    "d['score'] = d['score'] / 1000\n",
    "d['width'] = d['end'] - d['start']"
   ]
  },
  {
   "cell_type": "code",
   "execution_count": null,
   "id": "f464524d-4369-4e83-9f25-ea6174b4f1f6",
   "metadata": {},
   "outputs": [
    {
     "data": {
      "text/plain": [
       "array(['chr1', 'chr10', 'chr11', 'chr12', 'chr13', 'chr14', 'chr15',\n",
       "       'chr16', 'chr17', 'chr18', 'chr19', 'chr2', 'chr20', 'chr21',\n",
       "       'chr22', 'chr3', 'chr4', 'chr5', 'chr6', 'chr7', 'chr8', 'chr9'],\n",
       "      dtype=object)"
      ]
     },
     "execution_count": 58,
     "metadata": {},
     "output_type": "execute_result"
    }
   ],
   "source": [
    "d['chr'].unique()"
   ]
  },
  {
   "cell_type": "code",
   "execution_count": null,
   "id": "4af45e87-87eb-4d9a-b2d7-195de7538711",
   "metadata": {},
   "outputs": [],
   "source": [
    "score = d['score'].values"
   ]
  },
  {
   "cell_type": "code",
   "execution_count": null,
   "id": "bec04bfc-c882-4203-8a36-6a708beaaffd",
   "metadata": {},
   "outputs": [
    {
     "data": {
      "text/plain": [
       "(array([2.512443e+06, 3.886167e+06, 1.561838e+06, 8.749850e+05,\n",
       "        3.985250e+05, 1.341740e+05, 3.636900e+04, 9.232000e+03,\n",
       "        1.727000e+03, 6.400000e+01]),\n",
       " array([0.186 , 0.2674, 0.3488, 0.4302, 0.5116, 0.593 , 0.6744, 0.7558,\n",
       "        0.8372, 0.9186, 1.    ]),\n",
       " <BarContainer object of 10 artists>)"
      ]
     },
     "execution_count": 60,
     "metadata": {},
     "output_type": "execute_result"
    },
    {
     "data": {
      "image/png": "[encoded data removed]",
      "text/plain": [
       "<Figure size 432x288 with 1 Axes>"
      ]
     },
     "metadata": {
      "needs_background": "light"
     },
     "output_type": "display_data"
    }
   ],
   "source": [
    "plt.hist(score)"
   ]
  },
  {
   "cell_type": "code",
   "execution_count": null,
   "id": "329e6b75-41f8-43b2-a2b8-2e850a5b9be2",
   "metadata": {},
   "outputs": [
    {
     "data": {
      "text/plain": [
       "471.0"
      ]
     },
     "execution_count": 61,
     "metadata": {},
     "output_type": "execute_result"
    }
   ],
   "source": [
    "q = np.quantile(score, 0.90)\n",
    "q * 1000"
   ]
  },
  {
   "cell_type": "code",
   "execution_count": null,
   "id": "c6265666-4e06-4acf-a528-ca98f66453ec",
   "metadata": {},
   "outputs": [
    {
     "data": {
      "text/plain": [
       "527.0"
      ]
     },
     "execution_count": 62,
     "metadata": {},
     "output_type": "execute_result"
    }
   ],
   "source": [
    "np.quantile(score, 0.95) * 1000"
   ]
  },
  {
   "cell_type": "code",
   "execution_count": null,
   "id": "4d735523-789c-4fbd-9967-fd440dd5d836",
   "metadata": {},
   "outputs": [
    {
     "data": {
      "text/plain": [
       "<matplotlib.lines.Line2D at 0x7f886d5968e0>"
      ]
     },
     "execution_count": 63,
     "metadata": {},
     "output_type": "execute_result"
    },
    {
     "data": {
      "image/png": "[encoded data removed]",
      "text/plain": [
       "<Figure size 432x288 with 1 Axes>"
      ]
     },
     "metadata": {
      "needs_background": "light"
     },
     "output_type": "display_data"
    }
   ],
   "source": [
    "plt.hist(score)\n",
    "plt.axvline(q, c='r')"
   ]
  },
  {
   "cell_type": "code",
   "execution_count": null,
   "id": "abac3c7e-f1a1-4392-90b1-0176c86c7e4e",
   "metadata": {},
   "outputs": [
    {
     "data": {
      "text/plain": [
       "0.471"
      ]
     },
     "execution_count": 72,
     "metadata": {},
     "output_type": "execute_result"
    }
   ],
   "source": [
    "q"
   ]
  },
  {
   "cell_type": "code",
   "execution_count": 71,
   "id": "f34bc3d1-c18f-4b08-87cc-309992f7543b",
   "metadata": {},
   "outputs": [
    {
     "data": {
      "text/plain": [
       "(0.01853522601369948, 0.050822503529791174)"
      ]
     },
     "execution_count": 71,
     "metadata": {},
     "output_type": "execute_result"
    }
   ],
   "source": [
    "d.loc[d.score > q].width.sum() / hg38_len, d.width.sum() / hg38_len"
   ]
  },
  {
   "cell_type": "code",
   "execution_count": 79,
   "id": "e0bf60bb-da03-4bb2-895b-d8d2d3bc7366",
   "metadata": {},
   "outputs": [
    {
     "data": {
      "image/png": "[encoded data removed]",
      "text/plain": [
       "<Figure size 432x288 with 1 Axes>"
      ]
     },
     "metadata": {
      "needs_background": "light"
     },
     "output_type": "display_data"
    }
   ],
   "source": [
    "quants = np.linspace(0, 1, 20)\n",
    "\n",
    "plt.plot(quants, [d.loc[d.score > np.quantile(d.score, q)].width.sum()/hg38_len for q in quants])\n",
    "plt.ylabel('fraction of autosomal genome classified\\nas nphastcons (score > x quantile)')\n",
    "plt.xlabel('quantile threshold')\n",
    "plt.grid()"
   ]
  },
  {
   "cell_type": "code",
   "execution_count": 81,
   "id": "70ac8d61-3161-4587-97c7-9dc4526bd5a2",
   "metadata": {},
   "outputs": [
    {
     "data": {
      "text/plain": [
       "array([186., 300., 471., 527.])"
      ]
     },
     "execution_count": 81,
     "metadata": {},
     "output_type": "execute_result"
    }
   ],
   "source": [
    "np.quantile(score, (0, 0.5, 0.9, 0.95))*1000\n"
   ]
  },
  {
   "cell_type": "code",
   "execution_count": null,
   "id": "abfeaa34-36b0-46a5-aab1-0d2ae2825a17",
   "metadata": {},
   "outputs": [],
   "source": []
  }
 ],
 "metadata": {
  "kernelspec": {
   "display_name": "Python 3 (ipykernel)",
   "language": "python",
   "name": "python3"
  },
  "language_info": {
   "codemirror_mode": {
    "name": "ipython",
    "version": 3
   },
   "file_extension": ".py",
   "mimetype": "text/x-python",
   "name": "python",
   "nbconvert_exporter": "python",
   "pygments_lexer": "ipython3",
   "version": "3.8.12"
  }
 },
 "nbformat": 4,
 "nbformat_minor": 5
}
