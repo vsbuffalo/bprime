{
 "cells": [
  {
   "cell_type": "code",
   "execution_count": 1,
   "id": "758f860f-c3b8-4b03-a13d-0345297dbe86",
   "metadata": {},
   "outputs": [],
   "source": [
    "import os\n",
    "import time\n",
    "import pickle\n",
    "from multiprocessing import Pool\n",
    "import itertools\n",
    "\n",
    "import numpy as np\n",
    "import scipy.stats as stats\n",
    "import matplotlib.pyplot as plt\n",
    "import pandas as pd\n",
    "\n",
    "from sklearn.model_selection import train_test_split\n",
    "from sklearn.preprocessing import StandardScaler\n",
    "\n",
    "\n",
    "import tensorflow as tf\n",
    "import tensorflow_addons as tfa\n",
    "from tensorflow import keras\n",
    "from tensorflow.keras import layers\n",
    "from sklearn.preprocessing import StandardScaler\n",
    "\n",
    "\n",
    "os.environ[\"CUDA_VISIBLE_DEVICES\"]=\"0,1\""
   ]
  },
  {
   "cell_type": "code",
   "execution_count": 2,
   "id": "827c8167-83d0-45d9-889b-57ca6f2eb4c2",
   "metadata": {},
   "outputs": [],
   "source": [
    "plt.rcParams['figure.figsize'] = [8, 4]\n",
    "plt.rcParams['figure.dpi'] = 200"
   ]
  },
  {
   "cell_type": "code",
   "execution_count": 3,
   "id": "98991da1-c67e-45e7-b9da-a22f038894c2",
   "metadata": {},
   "outputs": [],
   "source": [
    "@np.vectorize\n",
    "def bgs_rec(mu, s, r, L):\n",
    "    return np.exp(-L * mu/(s*(1+(1-s)*r/s)**2))"
   ]
  },
  {
   "cell_type": "markdown",
   "id": "0d71e0c3-b006-41a3-881a-5c7d536728df",
   "metadata": {},
   "source": [
    "## Data"
   ]
  },
  {
   "cell_type": "code",
   "execution_count": 4,
   "id": "4cf42603-d542-4d49-8739-b118774dc7ee",
   "metadata": {},
   "outputs": [],
   "source": [
    "with open('../msprime_sims/bgs_rec_1rep_linear.pkl', 'rb') as f:\n",
    "    params, bhats = pickle.load(f)\n",
    "X = np.array(params)\n",
    "#y = np.log10(np.array(bhats).mean(axis=1))\n",
    "#y = np.log10(np.array(bhats))\n",
    "y = np.array(bhats)"
   ]
  },
  {
   "cell_type": "code",
   "execution_count": 5,
   "id": "e019c692-8681-433d-909e-cb527b8b4584",
   "metadata": {},
   "outputs": [
    {
     "data": {
      "text/plain": [
       "(1000000, 6)"
      ]
     },
     "execution_count": 5,
     "metadata": {},
     "output_type": "execute_result"
    }
   ],
   "source": [
    "X.shape"
   ]
  },
  {
   "cell_type": "code",
   "execution_count": 6,
   "id": "dc2705c2-0fe5-461a-8e62-3ab9bd797e91",
   "metadata": {},
   "outputs": [],
   "source": [
    "# 0   1  2  3  4  5\n",
    "# mu  s  r  N  L  nreps\n",
    "\n",
    "X_train, X_test, y_train, y_test = train_test_split(X[:, (0, 1, 2, 4)], y,  test_size=0.10, random_state=1)\n",
    "X_scaler = StandardScaler().fit(X_train)\n",
    "X_train_normalized = X_scaler.transform(X_train)"
   ]
  },
  {
   "cell_type": "code",
   "execution_count": 7,
   "id": "5a405855-96a5-456a-99c2-0cbc1772185c",
   "metadata": {},
   "outputs": [],
   "source": [
    "X_test_normalized = X_scaler.transform(X_test)"
   ]
  },
  {
   "cell_type": "markdown",
   "id": "e9979555-4601-4ed6-9bf5-e3f728b44215",
   "metadata": {},
   "source": [
    "## Network and Training"
   ]
  },
  {
   "cell_type": "code",
   "execution_count": 8,
   "id": "90d90697-a560-4585-9df2-278a7bec2858",
   "metadata": {},
   "outputs": [],
   "source": [
    "def network(n64=4, n32=2, output_activation='sigmoid'):\n",
    "    # build network\n",
    "    model = keras.Sequential()\n",
    "    model.add(tf.keras.Input(shape=(4,)))\n",
    "    #model.add(layers.BatchNormalization(axis=1))\n",
    "    for i in range(n64):\n",
    "        model.add(layers.Dense(64, activation='elu'))\n",
    "        #model.add(layers.Dropout(0.2))\n",
    "    for i in range(n32):\n",
    "        model.add(layers.Dense(32, activation='elu'))\n",
    "        #model.add(layers.Dropout(0.2))\n",
    "    model.add(tf.keras.layers.Dense(1, activation=output_activation))\n",
    "    model.compile(\n",
    "        optimizer='Adam',\n",
    "        loss=tf.keras.losses.MeanSquaredError(),\n",
    "        metrics=['MeanAbsoluteError'],\n",
    "        )\n",
    "    return model"
   ]
  },
  {
   "cell_type": "code",
   "execution_count": 11,
   "id": "2fc78796-b486-4120-996f-50c22733e107",
   "metadata": {},
   "outputs": [
    {
     "data": {
      "application/vnd.jupyter.widget-view+json": {
       "model_id": "c39ff21bf1844023a49f7a6d1c5af121",
       "version_major": 2,
       "version_minor": 0
      },
      "text/plain": [
       "Training:   0%|                                                                                               …"
      ]
     },
     "metadata": {},
     "output_type": "display_data"
    },
    {
     "name": "stdout",
     "output_type": "stream",
     "text": [
      "Epoch 1/500\n"
     ]
    },
    {
     "data": {
      "application/vnd.jupyter.widget-view+json": {
       "model_id": "92b904d570dc4fc68caf0ac4cf8c3a33",
       "version_major": 2,
       "version_minor": 0
      },
      "text/plain": [
       "0/5625                                                                                                        …"
      ]
     },
     "metadata": {},
     "output_type": "display_data"
    },
    {
     "name": "stdout",
     "output_type": "stream",
     "text": [
      "Epoch 2/500\n"
     ]
    },
    {
     "data": {
      "application/vnd.jupyter.widget-view+json": {
       "model_id": "3da525077b74421793e57b277a148af1",
       "version_major": 2,
       "version_minor": 0
      },
      "text/plain": [
       "0/5625                                                                                                        …"
      ]
     },
     "metadata": {},
     "output_type": "display_data"
    },
    {
     "name": "stdout",
     "output_type": "stream",
     "text": [
      "Epoch 3/500\n"
     ]
    },
    {
     "data": {
      "application/vnd.jupyter.widget-view+json": {
       "model_id": "5c6d1359cf5642d582fc1972cafb0e38",
       "version_major": 2,
       "version_minor": 0
      },
      "text/plain": [
       "0/5625                                                                                                        …"
      ]
     },
     "metadata": {},
     "output_type": "display_data"
    },
    {
     "name": "stdout",
     "output_type": "stream",
     "text": [
      "Epoch 4/500\n"
     ]
    },
    {
     "data": {
      "application/vnd.jupyter.widget-view+json": {
       "model_id": "944c82c9747d467ca6c7f6c036d10d9b",
       "version_major": 2,
       "version_minor": 0
      },
      "text/plain": [
       "0/5625                                                                                                        …"
      ]
     },
     "metadata": {},
     "output_type": "display_data"
    },
    {
     "name": "stdout",
     "output_type": "stream",
     "text": [
      "Epoch 5/500\n"
     ]
    },
    {
     "data": {
      "application/vnd.jupyter.widget-view+json": {
       "model_id": "9acb288b925b4c90a215c6e9577bd9dc",
       "version_major": 2,
       "version_minor": 0
      },
      "text/plain": [
       "0/5625                                                                                                        …"
      ]
     },
     "metadata": {},
     "output_type": "display_data"
    },
    {
     "name": "stdout",
     "output_type": "stream",
     "text": [
      "Epoch 6/500\n"
     ]
    },
    {
     "data": {
      "application/vnd.jupyter.widget-view+json": {
       "model_id": "aabcc8b4dc2842969e4a634c4a1f45b9",
       "version_major": 2,
       "version_minor": 0
      },
      "text/plain": [
       "0/5625                                                                                                        …"
      ]
     },
     "metadata": {},
     "output_type": "display_data"
    },
    {
     "name": "stdout",
     "output_type": "stream",
     "text": [
      "Epoch 7/500\n"
     ]
    },
    {
     "data": {
      "application/vnd.jupyter.widget-view+json": {
       "model_id": "efde73d70d5c4b298f9dc1bdbcfbab55",
       "version_major": 2,
       "version_minor": 0
      },
      "text/plain": [
       "0/5625                                                                                                        …"
      ]
     },
     "metadata": {},
     "output_type": "display_data"
    },
    {
     "name": "stdout",
     "output_type": "stream",
     "text": [
      "Epoch 8/500\n"
     ]
    },
    {
     "data": {
      "application/vnd.jupyter.widget-view+json": {
       "model_id": "4ef079524f044053a56dada47a18f15a",
       "version_major": 2,
       "version_minor": 0
      },
      "text/plain": [
       "0/5625                                                                                                        …"
      ]
     },
     "metadata": {},
     "output_type": "display_data"
    },
    {
     "name": "stdout",
     "output_type": "stream",
     "text": [
      "Epoch 9/500\n"
     ]
    },
    {
     "data": {
      "application/vnd.jupyter.widget-view+json": {
       "model_id": "07998c715689416ba8156956047d9db0",
       "version_major": 2,
       "version_minor": 0
      },
      "text/plain": [
       "0/5625                                                                                                        …"
      ]
     },
     "metadata": {},
     "output_type": "display_data"
    },
    {
     "name": "stdout",
     "output_type": "stream",
     "text": [
      "Epoch 10/500\n"
     ]
    },
    {
     "data": {
      "application/vnd.jupyter.widget-view+json": {
       "model_id": "c68587e527eb4b8ba9e746a7321d0ba3",
       "version_major": 2,
       "version_minor": 0
      },
      "text/plain": [
       "0/5625                                                                                                        …"
      ]
     },
     "metadata": {},
     "output_type": "display_data"
    },
    {
     "name": "stdout",
     "output_type": "stream",
     "text": [
      "Epoch 11/500\n"
     ]
    },
    {
     "data": {
      "application/vnd.jupyter.widget-view+json": {
       "model_id": "3c6cbde7470d4c68bca6142ab14ac317",
       "version_major": 2,
       "version_minor": 0
      },
      "text/plain": [
       "0/5625                                                                                                        …"
      ]
     },
     "metadata": {},
     "output_type": "display_data"
    },
    {
     "name": "stdout",
     "output_type": "stream",
     "text": [
      "Epoch 12/500\n"
     ]
    },
    {
     "data": {
      "application/vnd.jupyter.widget-view+json": {
       "model_id": "3df3e4d9aeb54f36b3eabb4190706dc7",
       "version_major": 2,
       "version_minor": 0
      },
      "text/plain": [
       "0/5625                                                                                                        …"
      ]
     },
     "metadata": {},
     "output_type": "display_data"
    },
    {
     "name": "stdout",
     "output_type": "stream",
     "text": [
      "Epoch 13/500\n"
     ]
    },
    {
     "data": {
      "application/vnd.jupyter.widget-view+json": {
       "model_id": "87f8ce318b6e4807afe4cd438a424f34",
       "version_major": 2,
       "version_minor": 0
      },
      "text/plain": [
       "0/5625                                                                                                        …"
      ]
     },
     "metadata": {},
     "output_type": "display_data"
    },
    {
     "name": "stdout",
     "output_type": "stream",
     "text": [
      "Epoch 14/500\n"
     ]
    },
    {
     "data": {
      "application/vnd.jupyter.widget-view+json": {
       "model_id": "a0886e209d2b4142b2552ec9142c2172",
       "version_major": 2,
       "version_minor": 0
      },
      "text/plain": [
       "0/5625                                                                                                        …"
      ]
     },
     "metadata": {},
     "output_type": "display_data"
    },
    {
     "name": "stdout",
     "output_type": "stream",
     "text": [
      "Epoch 15/500\n"
     ]
    },
    {
     "data": {
      "application/vnd.jupyter.widget-view+json": {
       "model_id": "34b70f52dbcb49a6a28d6a7b8804d852",
       "version_major": 2,
       "version_minor": 0
      },
      "text/plain": [
       "0/5625                                                                                                        …"
      ]
     },
     "metadata": {},
     "output_type": "display_data"
    },
    {
     "name": "stdout",
     "output_type": "stream",
     "text": [
      "Epoch 16/500\n"
     ]
    },
    {
     "data": {
      "application/vnd.jupyter.widget-view+json": {
       "model_id": "c5ff5ef239d54aceaa6c446156d9d99f",
       "version_major": 2,
       "version_minor": 0
      },
      "text/plain": [
       "0/5625                                                                                                        …"
      ]
     },
     "metadata": {},
     "output_type": "display_data"
    },
    {
     "name": "stdout",
     "output_type": "stream",
     "text": [
      "Epoch 17/500\n"
     ]
    },
    {
     "data": {
      "application/vnd.jupyter.widget-view+json": {
       "model_id": "725c723a8451422a8de9176571adfd18",
       "version_major": 2,
       "version_minor": 0
      },
      "text/plain": [
       "0/5625                                                                                                        …"
      ]
     },
     "metadata": {},
     "output_type": "display_data"
    },
    {
     "name": "stdout",
     "output_type": "stream",
     "text": [
      "Epoch 18/500\n"
     ]
    },
    {
     "data": {
      "application/vnd.jupyter.widget-view+json": {
       "model_id": "f48c9bb6459f401284d717d431366ffc",
       "version_major": 2,
       "version_minor": 0
      },
      "text/plain": [
       "0/5625                                                                                                        …"
      ]
     },
     "metadata": {},
     "output_type": "display_data"
    },
    {
     "name": "stdout",
     "output_type": "stream",
     "text": [
      "Epoch 19/500\n"
     ]
    },
    {
     "data": {
      "application/vnd.jupyter.widget-view+json": {
       "model_id": "40d7f94aea48432a865b8f48a43186a5",
       "version_major": 2,
       "version_minor": 0
      },
      "text/plain": [
       "0/5625                                                                                                        …"
      ]
     },
     "metadata": {},
     "output_type": "display_data"
    },
    {
     "name": "stdout",
     "output_type": "stream",
     "text": [
      "Epoch 20/500\n"
     ]
    },
    {
     "data": {
      "application/vnd.jupyter.widget-view+json": {
       "model_id": "aa6152dd926f4eaf81581b6e6ff28113",
       "version_major": 2,
       "version_minor": 0
      },
      "text/plain": [
       "0/5625                                                                                                        …"
      ]
     },
     "metadata": {},
     "output_type": "display_data"
    },
    {
     "name": "stdout",
     "output_type": "stream",
     "text": [
      "Epoch 21/500\n"
     ]
    },
    {
     "data": {
      "application/vnd.jupyter.widget-view+json": {
       "model_id": "d986a66abad64b09b6b680d11a9574e2",
       "version_major": 2,
       "version_minor": 0
      },
      "text/plain": [
       "0/5625                                                                                                        …"
      ]
     },
     "metadata": {},
     "output_type": "display_data"
    },
    {
     "name": "stdout",
     "output_type": "stream",
     "text": [
      "Epoch 22/500\n"
     ]
    },
    {
     "data": {
      "application/vnd.jupyter.widget-view+json": {
       "model_id": "08531942a33846ac8fe62452a111809e",
       "version_major": 2,
       "version_minor": 0
      },
      "text/plain": [
       "0/5625                                                                                                        …"
      ]
     },
     "metadata": {},
     "output_type": "display_data"
    },
    {
     "name": "stdout",
     "output_type": "stream",
     "text": [
      "Epoch 23/500\n"
     ]
    },
    {
     "data": {
      "application/vnd.jupyter.widget-view+json": {
       "model_id": "c4444fd07a2745f38f8f41af9ecf6cb6",
       "version_major": 2,
       "version_minor": 0
      },
      "text/plain": [
       "0/5625                                                                                                        …"
      ]
     },
     "metadata": {},
     "output_type": "display_data"
    },
    {
     "name": "stdout",
     "output_type": "stream",
     "text": [
      "Epoch 24/500\n"
     ]
    },
    {
     "data": {
      "application/vnd.jupyter.widget-view+json": {
       "model_id": "ed183f4406614b9a9de9d0679053360d",
       "version_major": 2,
       "version_minor": 0
      },
      "text/plain": [
       "0/5625                                                                                                        …"
      ]
     },
     "metadata": {},
     "output_type": "display_data"
    },
    {
     "name": "stdout",
     "output_type": "stream",
     "text": [
      "Epoch 25/500\n"
     ]
    },
    {
     "data": {
      "application/vnd.jupyter.widget-view+json": {
       "model_id": "982732b9306e4b0a814a2ae15cd12f3b",
       "version_major": 2,
       "version_minor": 0
      },
      "text/plain": [
       "0/5625                                                                                                        …"
      ]
     },
     "metadata": {},
     "output_type": "display_data"
    },
    {
     "name": "stdout",
     "output_type": "stream",
     "text": [
      "Epoch 26/500\n"
     ]
    },
    {
     "data": {
      "application/vnd.jupyter.widget-view+json": {
       "model_id": "31098801034b4be9a0304325f6428353",
       "version_major": 2,
       "version_minor": 0
      },
      "text/plain": [
       "0/5625                                                                                                        …"
      ]
     },
     "metadata": {},
     "output_type": "display_data"
    },
    {
     "name": "stdout",
     "output_type": "stream",
     "text": [
      "Epoch 27/500\n"
     ]
    },
    {
     "data": {
      "application/vnd.jupyter.widget-view+json": {
       "model_id": "15a3d8ace63442b8a8e6e4de4bac36ce",
       "version_major": 2,
       "version_minor": 0
      },
      "text/plain": [
       "0/5625                                                                                                        …"
      ]
     },
     "metadata": {},
     "output_type": "display_data"
    },
    {
     "name": "stdout",
     "output_type": "stream",
     "text": [
      "Epoch 28/500\n"
     ]
    },
    {
     "data": {
      "application/vnd.jupyter.widget-view+json": {
       "model_id": "3452b530e7bd420aaf87310bb66e61f4",
       "version_major": 2,
       "version_minor": 0
      },
      "text/plain": [
       "0/5625                                                                                                        …"
      ]
     },
     "metadata": {},
     "output_type": "display_data"
    },
    {
     "name": "stdout",
     "output_type": "stream",
     "text": [
      "Epoch 29/500\n"
     ]
    },
    {
     "data": {
      "application/vnd.jupyter.widget-view+json": {
       "model_id": "35b2e80bd6b14f269ef480bfb7f940fa",
       "version_major": 2,
       "version_minor": 0
      },
      "text/plain": [
       "0/5625                                                                                                        …"
      ]
     },
     "metadata": {},
     "output_type": "display_data"
    },
    {
     "name": "stdout",
     "output_type": "stream",
     "text": [
      "Epoch 30/500\n"
     ]
    },
    {
     "data": {
      "application/vnd.jupyter.widget-view+json": {
       "model_id": "395f30104e5f4fb2bc88dd0cc1d0126a",
       "version_major": 2,
       "version_minor": 0
      },
      "text/plain": [
       "0/5625                                                                                                        …"
      ]
     },
     "metadata": {},
     "output_type": "display_data"
    },
    {
     "name": "stdout",
     "output_type": "stream",
     "text": [
      "Epoch 31/500\n"
     ]
    },
    {
     "data": {
      "application/vnd.jupyter.widget-view+json": {
       "model_id": "4b189b2624844dc0a0c8b182c0dd601e",
       "version_major": 2,
       "version_minor": 0
      },
      "text/plain": [
       "0/5625                                                                                                        …"
      ]
     },
     "metadata": {},
     "output_type": "display_data"
    },
    {
     "name": "stdout",
     "output_type": "stream",
     "text": [
      "Epoch 32/500\n"
     ]
    },
    {
     "data": {
      "application/vnd.jupyter.widget-view+json": {
       "model_id": "a59df08dc3054ff0b91bc194c77e33b2",
       "version_major": 2,
       "version_minor": 0
      },
      "text/plain": [
       "0/5625                                                                                                        …"
      ]
     },
     "metadata": {},
     "output_type": "display_data"
    },
    {
     "name": "stdout",
     "output_type": "stream",
     "text": [
      "Epoch 33/500\n"
     ]
    },
    {
     "data": {
      "application/vnd.jupyter.widget-view+json": {
       "model_id": "d53cb0b3120640e8b3379f3edb77eae8",
       "version_major": 2,
       "version_minor": 0
      },
      "text/plain": [
       "0/5625                                                                                                        …"
      ]
     },
     "metadata": {},
     "output_type": "display_data"
    },
    {
     "name": "stdout",
     "output_type": "stream",
     "text": [
      "Epoch 34/500\n"
     ]
    },
    {
     "data": {
      "application/vnd.jupyter.widget-view+json": {
       "model_id": "0bfc6e33e2274a4a986dcfe835cce275",
       "version_major": 2,
       "version_minor": 0
      },
      "text/plain": [
       "0/5625                                                                                                        …"
      ]
     },
     "metadata": {},
     "output_type": "display_data"
    },
    {
     "name": "stdout",
     "output_type": "stream",
     "text": [
      "Epoch 35/500\n"
     ]
    },
    {
     "data": {
      "application/vnd.jupyter.widget-view+json": {
       "model_id": "b6b4fb21f03040988b6f563a0b702c67",
       "version_major": 2,
       "version_minor": 0
      },
      "text/plain": [
       "0/5625                                                                                                        …"
      ]
     },
     "metadata": {},
     "output_type": "display_data"
    },
    {
     "name": "stdout",
     "output_type": "stream",
     "text": [
      "Epoch 36/500\n"
     ]
    },
    {
     "data": {
      "application/vnd.jupyter.widget-view+json": {
       "model_id": "9227119975444bd3aa2ea32eabd74487",
       "version_major": 2,
       "version_minor": 0
      },
      "text/plain": [
       "0/5625                                                                                                        …"
      ]
     },
     "metadata": {},
     "output_type": "display_data"
    },
    {
     "name": "stdout",
     "output_type": "stream",
     "text": [
      "Epoch 37/500\n"
     ]
    },
    {
     "data": {
      "application/vnd.jupyter.widget-view+json": {
       "model_id": "87c2fd1049b64cfda75a04b13eeb81db",
       "version_major": 2,
       "version_minor": 0
      },
      "text/plain": [
       "0/5625                                                                                                        …"
      ]
     },
     "metadata": {},
     "output_type": "display_data"
    },
    {
     "name": "stdout",
     "output_type": "stream",
     "text": [
      "Epoch 38/500\n"
     ]
    },
    {
     "data": {
      "application/vnd.jupyter.widget-view+json": {
       "model_id": "e3bf06c7fa8a4e6f9f8153cca4130cc7",
       "version_major": 2,
       "version_minor": 0
      },
      "text/plain": [
       "0/5625                                                                                                        …"
      ]
     },
     "metadata": {},
     "output_type": "display_data"
    },
    {
     "name": "stdout",
     "output_type": "stream",
     "text": [
      "Epoch 39/500\n"
     ]
    },
    {
     "data": {
      "application/vnd.jupyter.widget-view+json": {
       "model_id": "66330f5566cd431db914925afd91a69c",
       "version_major": 2,
       "version_minor": 0
      },
      "text/plain": [
       "0/5625                                                                                                        …"
      ]
     },
     "metadata": {},
     "output_type": "display_data"
    },
    {
     "name": "stdout",
     "output_type": "stream",
     "text": [
      "Epoch 40/500\n"
     ]
    },
    {
     "data": {
      "application/vnd.jupyter.widget-view+json": {
       "model_id": "74575bfe648c4499898f0644cf9f0c2a",
       "version_major": 2,
       "version_minor": 0
      },
      "text/plain": [
       "0/5625                                                                                                        …"
      ]
     },
     "metadata": {},
     "output_type": "display_data"
    },
    {
     "name": "stdout",
     "output_type": "stream",
     "text": [
      "Epoch 41/500\n"
     ]
    },
    {
     "data": {
      "application/vnd.jupyter.widget-view+json": {
       "model_id": "0a608527dfad41639934211d1528c443",
       "version_major": 2,
       "version_minor": 0
      },
      "text/plain": [
       "0/5625                                                                                                        …"
      ]
     },
     "metadata": {},
     "output_type": "display_data"
    },
    {
     "name": "stdout",
     "output_type": "stream",
     "text": [
      "Epoch 42/500\n"
     ]
    },
    {
     "data": {
      "application/vnd.jupyter.widget-view+json": {
       "model_id": "add99b5cb10148509cd99840d543e83f",
       "version_major": 2,
       "version_minor": 0
      },
      "text/plain": [
       "0/5625                                                                                                        …"
      ]
     },
     "metadata": {},
     "output_type": "display_data"
    },
    {
     "name": "stdout",
     "output_type": "stream",
     "text": [
      "Epoch 43/500\n"
     ]
    },
    {
     "data": {
      "application/vnd.jupyter.widget-view+json": {
       "model_id": "6ea191a951bb4732ae8ead18b13e55c7",
       "version_major": 2,
       "version_minor": 0
      },
      "text/plain": [
       "0/5625                                                                                                        …"
      ]
     },
     "metadata": {},
     "output_type": "display_data"
    },
    {
     "name": "stdout",
     "output_type": "stream",
     "text": [
      "Epoch 44/500\n"
     ]
    },
    {
     "data": {
      "application/vnd.jupyter.widget-view+json": {
       "model_id": "71a36704a7e34b8b976c13d419db6fa9",
       "version_major": 2,
       "version_minor": 0
      },
      "text/plain": [
       "0/5625                                                                                                        …"
      ]
     },
     "metadata": {},
     "output_type": "display_data"
    },
    {
     "name": "stdout",
     "output_type": "stream",
     "text": [
      "Epoch 45/500\n"
     ]
    },
    {
     "data": {
      "application/vnd.jupyter.widget-view+json": {
       "model_id": "c4ced96b4f484c16b33acd5df768a04f",
       "version_major": 2,
       "version_minor": 0
      },
      "text/plain": [
       "0/5625                                                                                                        …"
      ]
     },
     "metadata": {},
     "output_type": "display_data"
    },
    {
     "name": "stdout",
     "output_type": "stream",
     "text": [
      "Epoch 46/500\n"
     ]
    },
    {
     "data": {
      "application/vnd.jupyter.widget-view+json": {
       "model_id": "94566a5afb904775841c4d6ae445d564",
       "version_major": 2,
       "version_minor": 0
      },
      "text/plain": [
       "0/5625                                                                                                        …"
      ]
     },
     "metadata": {},
     "output_type": "display_data"
    },
    {
     "name": "stdout",
     "output_type": "stream",
     "text": [
      "Epoch 47/500\n"
     ]
    },
    {
     "data": {
      "application/vnd.jupyter.widget-view+json": {
       "model_id": "41fa0e43de90439fb2db7cb42b13ef70",
       "version_major": 2,
       "version_minor": 0
      },
      "text/plain": [
       "0/5625                                                                                                        …"
      ]
     },
     "metadata": {},
     "output_type": "display_data"
    },
    {
     "name": "stdout",
     "output_type": "stream",
     "text": [
      "Epoch 48/500\n"
     ]
    },
    {
     "data": {
      "application/vnd.jupyter.widget-view+json": {
       "model_id": "fab274a784c24269b25a521174533ad0",
       "version_major": 2,
       "version_minor": 0
      },
      "text/plain": [
       "0/5625                                                                                                        …"
      ]
     },
     "metadata": {},
     "output_type": "display_data"
    },
    {
     "name": "stdout",
     "output_type": "stream",
     "text": [
      "Epoch 49/500\n"
     ]
    },
    {
     "data": {
      "application/vnd.jupyter.widget-view+json": {
       "model_id": "2a8fa1472a8b48deaca3bfe89ef81c1e",
       "version_major": 2,
       "version_minor": 0
      },
      "text/plain": [
       "0/5625                                                                                                        …"
      ]
     },
     "metadata": {},
     "output_type": "display_data"
    },
    {
     "name": "stdout",
     "output_type": "stream",
     "text": [
      "Epoch 50/500\n"
     ]
    },
    {
     "data": {
      "application/vnd.jupyter.widget-view+json": {
       "model_id": "81cdc0b7fa7b43898e911a626901bb7e",
       "version_major": 2,
       "version_minor": 0
      },
      "text/plain": [
       "0/5625                                                                                                        …"
      ]
     },
     "metadata": {},
     "output_type": "display_data"
    },
    {
     "name": "stdout",
     "output_type": "stream",
     "text": [
      "Epoch 51/500\n"
     ]
    },
    {
     "data": {
      "application/vnd.jupyter.widget-view+json": {
       "model_id": "2a7526d5fec743c48f6fde6d77f8acc3",
       "version_major": 2,
       "version_minor": 0
      },
      "text/plain": [
       "0/5625                                                                                                        …"
      ]
     },
     "metadata": {},
     "output_type": "display_data"
    },
    {
     "name": "stdout",
     "output_type": "stream",
     "text": [
      "Epoch 52/500\n"
     ]
    },
    {
     "data": {
      "application/vnd.jupyter.widget-view+json": {
       "model_id": "637a8e846c104f05bc916b773f2454e4",
       "version_major": 2,
       "version_minor": 0
      },
      "text/plain": [
       "0/5625                                                                                                        …"
      ]
     },
     "metadata": {},
     "output_type": "display_data"
    },
    {
     "name": "stdout",
     "output_type": "stream",
     "text": [
      "Epoch 53/500\n"
     ]
    },
    {
     "data": {
      "application/vnd.jupyter.widget-view+json": {
       "model_id": "e2fe0ff25a1a4cc3af09c3f24ce9a20d",
       "version_major": 2,
       "version_minor": 0
      },
      "text/plain": [
       "0/5625                                                                                                        …"
      ]
     },
     "metadata": {},
     "output_type": "display_data"
    },
    {
     "name": "stdout",
     "output_type": "stream",
     "text": [
      "Epoch 54/500\n"
     ]
    },
    {
     "data": {
      "application/vnd.jupyter.widget-view+json": {
       "model_id": "b57f003d52ce4099a1739cbe797d4b36",
       "version_major": 2,
       "version_minor": 0
      },
      "text/plain": [
       "0/5625                                                                                                        …"
      ]
     },
     "metadata": {},
     "output_type": "display_data"
    },
    {
     "name": "stdout",
     "output_type": "stream",
     "text": [
      "Epoch 55/500\n"
     ]
    },
    {
     "data": {
      "application/vnd.jupyter.widget-view+json": {
       "model_id": "addffd3fa77940298d8d1d6b12749207",
       "version_major": 2,
       "version_minor": 0
      },
      "text/plain": [
       "0/5625                                                                                                        …"
      ]
     },
     "metadata": {},
     "output_type": "display_data"
    },
    {
     "name": "stdout",
     "output_type": "stream",
     "text": [
      "Epoch 56/500\n"
     ]
    },
    {
     "data": {
      "application/vnd.jupyter.widget-view+json": {
       "model_id": "e681660962954a0690fd614f3a8e6744",
       "version_major": 2,
       "version_minor": 0
      },
      "text/plain": [
       "0/5625                                                                                                        …"
      ]
     },
     "metadata": {},
     "output_type": "display_data"
    },
    {
     "name": "stdout",
     "output_type": "stream",
     "text": [
      "Epoch 57/500\n"
     ]
    },
    {
     "data": {
      "application/vnd.jupyter.widget-view+json": {
       "model_id": "7796a3ed06544754b51e01b4bdf7fbcf",
       "version_major": 2,
       "version_minor": 0
      },
      "text/plain": [
       "0/5625                                                                                                        …"
      ]
     },
     "metadata": {},
     "output_type": "display_data"
    },
    {
     "name": "stdout",
     "output_type": "stream",
     "text": [
      "Epoch 58/500\n"
     ]
    },
    {
     "data": {
      "application/vnd.jupyter.widget-view+json": {
       "model_id": "eceeb9cae763486986a0c646c2db61ac",
       "version_major": 2,
       "version_minor": 0
      },
      "text/plain": [
       "0/5625                                                                                                        …"
      ]
     },
     "metadata": {},
     "output_type": "display_data"
    },
    {
     "name": "stdout",
     "output_type": "stream",
     "text": [
      "Epoch 59/500\n"
     ]
    },
    {
     "data": {
      "application/vnd.jupyter.widget-view+json": {
       "model_id": "638fae5a892145d9b7a09050a15c7324",
       "version_major": 2,
       "version_minor": 0
      },
      "text/plain": [
       "0/5625                                                                                                        …"
      ]
     },
     "metadata": {},
     "output_type": "display_data"
    },
    {
     "name": "stdout",
     "output_type": "stream",
     "text": [
      "Epoch 60/500\n"
     ]
    },
    {
     "data": {
      "application/vnd.jupyter.widget-view+json": {
       "model_id": "0e21db9c3fe948fda941d427764d8c84",
       "version_major": 2,
       "version_minor": 0
      },
      "text/plain": [
       "0/5625                                                                                                        …"
      ]
     },
     "metadata": {},
     "output_type": "display_data"
    },
    {
     "name": "stdout",
     "output_type": "stream",
     "text": [
      "Epoch 61/500\n"
     ]
    },
    {
     "data": {
      "application/vnd.jupyter.widget-view+json": {
       "model_id": "16b1b36cc3dc405e9b13a0087a31b67c",
       "version_major": 2,
       "version_minor": 0
      },
      "text/plain": [
       "0/5625                                                                                                        …"
      ]
     },
     "metadata": {},
     "output_type": "display_data"
    },
    {
     "name": "stdout",
     "output_type": "stream",
     "text": [
      "Epoch 62/500\n"
     ]
    },
    {
     "data": {
      "application/vnd.jupyter.widget-view+json": {
       "model_id": "ca447f26a96544bab8d22a26a9b5059e",
       "version_major": 2,
       "version_minor": 0
      },
      "text/plain": [
       "0/5625                                                                                                        …"
      ]
     },
     "metadata": {},
     "output_type": "display_data"
    },
    {
     "name": "stdout",
     "output_type": "stream",
     "text": [
      "Epoch 63/500\n"
     ]
    },
    {
     "data": {
      "application/vnd.jupyter.widget-view+json": {
       "model_id": "e47621def4374f2cbc83f7a35230ffb8",
       "version_major": 2,
       "version_minor": 0
      },
      "text/plain": [
       "0/5625                                                                                                        …"
      ]
     },
     "metadata": {},
     "output_type": "display_data"
    },
    {
     "name": "stdout",
     "output_type": "stream",
     "text": [
      "Epoch 64/500\n"
     ]
    },
    {
     "data": {
      "application/vnd.jupyter.widget-view+json": {
       "model_id": "a71157a05fa749f1b56586cacc0109f3",
       "version_major": 2,
       "version_minor": 0
      },
      "text/plain": [
       "0/5625                                                                                                        …"
      ]
     },
     "metadata": {},
     "output_type": "display_data"
    },
    {
     "name": "stdout",
     "output_type": "stream",
     "text": [
      "Epoch 65/500\n"
     ]
    },
    {
     "data": {
      "application/vnd.jupyter.widget-view+json": {
       "model_id": "97e19d22347745f0982bd3420c5dfc6b",
       "version_major": 2,
       "version_minor": 0
      },
      "text/plain": [
       "0/5625                                                                                                        …"
      ]
     },
     "metadata": {},
     "output_type": "display_data"
    },
    {
     "name": "stdout",
     "output_type": "stream",
     "text": [
      "Epoch 66/500\n"
     ]
    },
    {
     "data": {
      "application/vnd.jupyter.widget-view+json": {
       "model_id": "185a8b1d728e464d80e8efe750f38879",
       "version_major": 2,
       "version_minor": 0
      },
      "text/plain": [
       "0/5625                                                                                                        …"
      ]
     },
     "metadata": {},
     "output_type": "display_data"
    },
    {
     "name": "stdout",
     "output_type": "stream",
     "text": [
      "Epoch 67/500\n"
     ]
    },
    {
     "data": {
      "application/vnd.jupyter.widget-view+json": {
       "model_id": "5bb99a36fec9466793b6901f7c8ee583",
       "version_major": 2,
       "version_minor": 0
      },
      "text/plain": [
       "0/5625                                                                                                        …"
      ]
     },
     "metadata": {},
     "output_type": "display_data"
    },
    {
     "name": "stdout",
     "output_type": "stream",
     "text": [
      "Epoch 68/500\n"
     ]
    },
    {
     "data": {
      "application/vnd.jupyter.widget-view+json": {
       "model_id": "d9d324eddbbd4d0085398296f173456d",
       "version_major": 2,
       "version_minor": 0
      },
      "text/plain": [
       "0/5625                                                                                                        …"
      ]
     },
     "metadata": {},
     "output_type": "display_data"
    },
    {
     "name": "stdout",
     "output_type": "stream",
     "text": [
      "Epoch 69/500\n"
     ]
    },
    {
     "data": {
      "application/vnd.jupyter.widget-view+json": {
       "model_id": "7856eb881c0d4e118e37987ae5da7cc7",
       "version_major": 2,
       "version_minor": 0
      },
      "text/plain": [
       "0/5625                                                                                                        …"
      ]
     },
     "metadata": {},
     "output_type": "display_data"
    },
    {
     "name": "stdout",
     "output_type": "stream",
     "text": [
      "Epoch 70/500\n"
     ]
    },
    {
     "data": {
      "application/vnd.jupyter.widget-view+json": {
       "model_id": "24d88c429dd1487f890f557493aada19",
       "version_major": 2,
       "version_minor": 0
      },
      "text/plain": [
       "0/5625                                                                                                        …"
      ]
     },
     "metadata": {},
     "output_type": "display_data"
    },
    {
     "name": "stdout",
     "output_type": "stream",
     "text": [
      "Epoch 71/500\n"
     ]
    },
    {
     "data": {
      "application/vnd.jupyter.widget-view+json": {
       "model_id": "fda02f386d894c1e81f6cee73031ab04",
       "version_major": 2,
       "version_minor": 0
      },
      "text/plain": [
       "0/5625                                                                                                        …"
      ]
     },
     "metadata": {},
     "output_type": "display_data"
    },
    {
     "name": "stdout",
     "output_type": "stream",
     "text": [
      "Epoch 72/500\n"
     ]
    },
    {
     "data": {
      "application/vnd.jupyter.widget-view+json": {
       "model_id": "af9cc9eda8e74dc395e59442055be6c5",
       "version_major": 2,
       "version_minor": 0
      },
      "text/plain": [
       "0/5625                                                                                                        …"
      ]
     },
     "metadata": {},
     "output_type": "display_data"
    },
    {
     "name": "stdout",
     "output_type": "stream",
     "text": [
      "Epoch 73/500\n"
     ]
    },
    {
     "data": {
      "application/vnd.jupyter.widget-view+json": {
       "model_id": "353163a5e2124bc38ba99a4e660d5025",
       "version_major": 2,
       "version_minor": 0
      },
      "text/plain": [
       "0/5625                                                                                                        …"
      ]
     },
     "metadata": {},
     "output_type": "display_data"
    },
    {
     "name": "stdout",
     "output_type": "stream",
     "text": [
      "Epoch 74/500\n"
     ]
    },
    {
     "data": {
      "application/vnd.jupyter.widget-view+json": {
       "model_id": "9c725b5730584b9484009c40e574ad02",
       "version_major": 2,
       "version_minor": 0
      },
      "text/plain": [
       "0/5625                                                                                                        …"
      ]
     },
     "metadata": {},
     "output_type": "display_data"
    },
    {
     "name": "stdout",
     "output_type": "stream",
     "text": [
      "Epoch 75/500\n"
     ]
    },
    {
     "data": {
      "application/vnd.jupyter.widget-view+json": {
       "model_id": "9d73a9aec05a43f7a1b4d609ebd4f764",
       "version_major": 2,
       "version_minor": 0
      },
      "text/plain": [
       "0/5625                                                                                                        …"
      ]
     },
     "metadata": {},
     "output_type": "display_data"
    },
    {
     "name": "stdout",
     "output_type": "stream",
     "text": [
      "Epoch 76/500\n"
     ]
    },
    {
     "data": {
      "application/vnd.jupyter.widget-view+json": {
       "model_id": "bc05e80eeebf41778de88dce52920aa4",
       "version_major": 2,
       "version_minor": 0
      },
      "text/plain": [
       "0/5625                                                                                                        …"
      ]
     },
     "metadata": {},
     "output_type": "display_data"
    },
    {
     "name": "stdout",
     "output_type": "stream",
     "text": [
      "Epoch 77/500\n"
     ]
    },
    {
     "data": {
      "application/vnd.jupyter.widget-view+json": {
       "model_id": "57e15bc346f64968ab679a22d39c019f",
       "version_major": 2,
       "version_minor": 0
      },
      "text/plain": [
       "0/5625                                                                                                        …"
      ]
     },
     "metadata": {},
     "output_type": "display_data"
    },
    {
     "name": "stdout",
     "output_type": "stream",
     "text": [
      "Epoch 78/500\n"
     ]
    },
    {
     "data": {
      "application/vnd.jupyter.widget-view+json": {
       "model_id": "82ed62037437483795bac32a16fc8916",
       "version_major": 2,
       "version_minor": 0
      },
      "text/plain": [
       "0/5625                                                                                                        …"
      ]
     },
     "metadata": {},
     "output_type": "display_data"
    },
    {
     "name": "stdout",
     "output_type": "stream",
     "text": [
      "Epoch 79/500\n"
     ]
    },
    {
     "data": {
      "application/vnd.jupyter.widget-view+json": {
       "model_id": "b1f38a2e97d845e08770c0b7a971f701",
       "version_major": 2,
       "version_minor": 0
      },
      "text/plain": [
       "0/5625                                                                                                        …"
      ]
     },
     "metadata": {},
     "output_type": "display_data"
    },
    {
     "name": "stdout",
     "output_type": "stream",
     "text": [
      "Epoch 80/500\n"
     ]
    },
    {
     "data": {
      "application/vnd.jupyter.widget-view+json": {
       "model_id": "c4979d2b83f74282b5c1e8b3a8651546",
       "version_major": 2,
       "version_minor": 0
      },
      "text/plain": [
       "0/5625                                                                                                        …"
      ]
     },
     "metadata": {},
     "output_type": "display_data"
    },
    {
     "name": "stdout",
     "output_type": "stream",
     "text": [
      "Epoch 81/500\n"
     ]
    },
    {
     "data": {
      "application/vnd.jupyter.widget-view+json": {
       "model_id": "6081b2187cb4468f8ab8652640043fed",
       "version_major": 2,
       "version_minor": 0
      },
      "text/plain": [
       "0/5625                                                                                                        …"
      ]
     },
     "metadata": {},
     "output_type": "display_data"
    },
    {
     "name": "stdout",
     "output_type": "stream",
     "text": [
      "Epoch 82/500\n"
     ]
    },
    {
     "data": {
      "application/vnd.jupyter.widget-view+json": {
       "model_id": "a03a9b3f1bba4902b6888305429e558f",
       "version_major": 2,
       "version_minor": 0
      },
      "text/plain": [
       "0/5625                                                                                                        …"
      ]
     },
     "metadata": {},
     "output_type": "display_data"
    },
    {
     "name": "stdout",
     "output_type": "stream",
     "text": [
      "Epoch 83/500\n"
     ]
    },
    {
     "data": {
      "application/vnd.jupyter.widget-view+json": {
       "model_id": "e95e46c9d7c24de68920dddb9bf940cf",
       "version_major": 2,
       "version_minor": 0
      },
      "text/plain": [
       "0/5625                                                                                                        …"
      ]
     },
     "metadata": {},
     "output_type": "display_data"
    },
    {
     "name": "stdout",
     "output_type": "stream",
     "text": [
      "Epoch 84/500\n"
     ]
    },
    {
     "data": {
      "application/vnd.jupyter.widget-view+json": {
       "model_id": "c341769031884dce8d1d079d2d07881b",
       "version_major": 2,
       "version_minor": 0
      },
      "text/plain": [
       "0/5625                                                                                                        …"
      ]
     },
     "metadata": {},
     "output_type": "display_data"
    },
    {
     "name": "stdout",
     "output_type": "stream",
     "text": [
      "Epoch 85/500\n"
     ]
    },
    {
     "data": {
      "application/vnd.jupyter.widget-view+json": {
       "model_id": "4552b749a2484766995a5c5d8c776a1d",
       "version_major": 2,
       "version_minor": 0
      },
      "text/plain": [
       "0/5625                                                                                                        …"
      ]
     },
     "metadata": {},
     "output_type": "display_data"
    },
    {
     "name": "stdout",
     "output_type": "stream",
     "text": [
      "Epoch 86/500\n"
     ]
    },
    {
     "data": {
      "application/vnd.jupyter.widget-view+json": {
       "model_id": "5d1a5a0faadb4220a5e36855f32c2acb",
       "version_major": 2,
       "version_minor": 0
      },
      "text/plain": [
       "0/5625                                                                                                        …"
      ]
     },
     "metadata": {},
     "output_type": "display_data"
    },
    {
     "name": "stdout",
     "output_type": "stream",
     "text": [
      "Epoch 87/500\n"
     ]
    },
    {
     "data": {
      "application/vnd.jupyter.widget-view+json": {
       "model_id": "ed1857a8f62c48b48961e75583fa5103",
       "version_major": 2,
       "version_minor": 0
      },
      "text/plain": [
       "0/5625                                                                                                        …"
      ]
     },
     "metadata": {},
     "output_type": "display_data"
    },
    {
     "name": "stdout",
     "output_type": "stream",
     "text": [
      "Epoch 88/500\n"
     ]
    },
    {
     "data": {
      "application/vnd.jupyter.widget-view+json": {
       "model_id": "0667bd1b743e474e88ad4085ef8b9dc6",
       "version_major": 2,
       "version_minor": 0
      },
      "text/plain": [
       "0/5625                                                                                                        …"
      ]
     },
     "metadata": {},
     "output_type": "display_data"
    },
    {
     "name": "stdout",
     "output_type": "stream",
     "text": [
      "Epoch 89/500\n"
     ]
    },
    {
     "data": {
      "application/vnd.jupyter.widget-view+json": {
       "model_id": "a5f3d9e478c541a9a64fd6394e20d5ff",
       "version_major": 2,
       "version_minor": 0
      },
      "text/plain": [
       "0/5625                                                                                                        …"
      ]
     },
     "metadata": {},
     "output_type": "display_data"
    },
    {
     "name": "stdout",
     "output_type": "stream",
     "text": [
      "Epoch 90/500\n"
     ]
    },
    {
     "data": {
      "application/vnd.jupyter.widget-view+json": {
       "model_id": "83b7a5e28cab439c99c2b88b75b3208a",
       "version_major": 2,
       "version_minor": 0
      },
      "text/plain": [
       "0/5625                                                                                                        …"
      ]
     },
     "metadata": {},
     "output_type": "display_data"
    },
    {
     "name": "stdout",
     "output_type": "stream",
     "text": [
      "Epoch 91/500\n"
     ]
    },
    {
     "data": {
      "application/vnd.jupyter.widget-view+json": {
       "model_id": "61af565987764da68e49a7534132a7c8",
       "version_major": 2,
       "version_minor": 0
      },
      "text/plain": [
       "0/5625                                                                                                        …"
      ]
     },
     "metadata": {},
     "output_type": "display_data"
    },
    {
     "name": "stdout",
     "output_type": "stream",
     "text": [
      "Epoch 92/500\n"
     ]
    },
    {
     "data": {
      "application/vnd.jupyter.widget-view+json": {
       "model_id": "5de5e1b2c02e4493b30c062042fc6477",
       "version_major": 2,
       "version_minor": 0
      },
      "text/plain": [
       "0/5625                                                                                                        …"
      ]
     },
     "metadata": {},
     "output_type": "display_data"
    },
    {
     "name": "stdout",
     "output_type": "stream",
     "text": [
      "Epoch 93/500\n"
     ]
    },
    {
     "data": {
      "application/vnd.jupyter.widget-view+json": {
       "model_id": "96cb99530ade40d481380f8ec8b58202",
       "version_major": 2,
       "version_minor": 0
      },
      "text/plain": [
       "0/5625                                                                                                        …"
      ]
     },
     "metadata": {},
     "output_type": "display_data"
    },
    {
     "name": "stdout",
     "output_type": "stream",
     "text": [
      "Epoch 94/500\n"
     ]
    },
    {
     "data": {
      "application/vnd.jupyter.widget-view+json": {
       "model_id": "ba5571fbcf794c3fb7876334065a098d",
       "version_major": 2,
       "version_minor": 0
      },
      "text/plain": [
       "0/5625                                                                                                        …"
      ]
     },
     "metadata": {},
     "output_type": "display_data"
    },
    {
     "name": "stdout",
     "output_type": "stream",
     "text": [
      "Epoch 95/500\n"
     ]
    },
    {
     "data": {
      "application/vnd.jupyter.widget-view+json": {
       "model_id": "854ba4d312644eaf9f685aedb60be5c2",
       "version_major": 2,
       "version_minor": 0
      },
      "text/plain": [
       "0/5625                                                                                                        …"
      ]
     },
     "metadata": {},
     "output_type": "display_data"
    },
    {
     "name": "stdout",
     "output_type": "stream",
     "text": [
      "Epoch 96/500\n"
     ]
    },
    {
     "data": {
      "application/vnd.jupyter.widget-view+json": {
       "model_id": "72a18d236f4c472fba29cdb62f49ba36",
       "version_major": 2,
       "version_minor": 0
      },
      "text/plain": [
       "0/5625                                                                                                        …"
      ]
     },
     "metadata": {},
     "output_type": "display_data"
    },
    {
     "name": "stdout",
     "output_type": "stream",
     "text": [
      "Epoch 97/500\n"
     ]
    },
    {
     "data": {
      "application/vnd.jupyter.widget-view+json": {
       "model_id": "4e7800a0adc742559f2f9323f1ad4d31",
       "version_major": 2,
       "version_minor": 0
      },
      "text/plain": [
       "0/5625                                                                                                        …"
      ]
     },
     "metadata": {},
     "output_type": "display_data"
    },
    {
     "name": "stdout",
     "output_type": "stream",
     "text": [
      "Epoch 98/500\n"
     ]
    },
    {
     "data": {
      "application/vnd.jupyter.widget-view+json": {
       "model_id": "35a51a3056d04e899cc552b04c40d2f3",
       "version_major": 2,
       "version_minor": 0
      },
      "text/plain": [
       "0/5625                                                                                                        …"
      ]
     },
     "metadata": {},
     "output_type": "display_data"
    },
    {
     "name": "stdout",
     "output_type": "stream",
     "text": [
      "Epoch 99/500\n"
     ]
    },
    {
     "data": {
      "application/vnd.jupyter.widget-view+json": {
       "model_id": "2118b0659cc44d1f8b50200b2aab7f9c",
       "version_major": 2,
       "version_minor": 0
      },
      "text/plain": [
       "0/5625                                                                                                        …"
      ]
     },
     "metadata": {},
     "output_type": "display_data"
    },
    {
     "name": "stdout",
     "output_type": "stream",
     "text": [
      "Epoch 100/500\n"
     ]
    },
    {
     "data": {
      "application/vnd.jupyter.widget-view+json": {
       "model_id": "a0c7c3d54bed43eeaec43e75995f5209",
       "version_major": 2,
       "version_minor": 0
      },
      "text/plain": [
       "0/5625                                                                                                        …"
      ]
     },
     "metadata": {},
     "output_type": "display_data"
    },
    {
     "name": "stdout",
     "output_type": "stream",
     "text": [
      "Epoch 101/500\n"
     ]
    },
    {
     "data": {
      "application/vnd.jupyter.widget-view+json": {
       "model_id": "e27a5d2933e44844b8a0aeca03c8330c",
       "version_major": 2,
       "version_minor": 0
      },
      "text/plain": [
       "0/5625                                                                                                        …"
      ]
     },
     "metadata": {},
     "output_type": "display_data"
    },
    {
     "name": "stdout",
     "output_type": "stream",
     "text": [
      "Epoch 102/500\n"
     ]
    },
    {
     "data": {
      "application/vnd.jupyter.widget-view+json": {
       "model_id": "1cf1ce3888714d14a62de47906d088f7",
       "version_major": 2,
       "version_minor": 0
      },
      "text/plain": [
       "0/5625                                                                                                        …"
      ]
     },
     "metadata": {},
     "output_type": "display_data"
    },
    {
     "name": "stdout",
     "output_type": "stream",
     "text": [
      "Epoch 103/500\n"
     ]
    },
    {
     "data": {
      "application/vnd.jupyter.widget-view+json": {
       "model_id": "d800905764ea48d791f0aca159f7372e",
       "version_major": 2,
       "version_minor": 0
      },
      "text/plain": [
       "0/5625                                                                                                        …"
      ]
     },
     "metadata": {},
     "output_type": "display_data"
    },
    {
     "name": "stdout",
     "output_type": "stream",
     "text": [
      "Epoch 104/500\n"
     ]
    },
    {
     "data": {
      "application/vnd.jupyter.widget-view+json": {
       "model_id": "8afc8463e4f24e49a4f8f7c7bb4f0cc3",
       "version_major": 2,
       "version_minor": 0
      },
      "text/plain": [
       "0/5625                                                                                                        …"
      ]
     },
     "metadata": {},
     "output_type": "display_data"
    },
    {
     "name": "stdout",
     "output_type": "stream",
     "text": [
      "Epoch 105/500\n"
     ]
    },
    {
     "data": {
      "application/vnd.jupyter.widget-view+json": {
       "model_id": "c790c65e861942f2a02bfba4bfe5b737",
       "version_major": 2,
       "version_minor": 0
      },
      "text/plain": [
       "0/5625                                                                                                        …"
      ]
     },
     "metadata": {},
     "output_type": "display_data"
    },
    {
     "name": "stdout",
     "output_type": "stream",
     "text": [
      "Epoch 106/500\n"
     ]
    },
    {
     "data": {
      "application/vnd.jupyter.widget-view+json": {
       "model_id": "3230a5d9adca4759978be5ee3a0b9e97",
       "version_major": 2,
       "version_minor": 0
      },
      "text/plain": [
       "0/5625                                                                                                        …"
      ]
     },
     "metadata": {},
     "output_type": "display_data"
    },
    {
     "name": "stdout",
     "output_type": "stream",
     "text": [
      "Epoch 107/500\n"
     ]
    },
    {
     "data": {
      "application/vnd.jupyter.widget-view+json": {
       "model_id": "89fe44dd095f44b0ab837af6b2b24402",
       "version_major": 2,
       "version_minor": 0
      },
      "text/plain": [
       "0/5625                                                                                                        …"
      ]
     },
     "metadata": {},
     "output_type": "display_data"
    },
    {
     "name": "stdout",
     "output_type": "stream",
     "text": [
      "Epoch 108/500\n"
     ]
    },
    {
     "data": {
      "application/vnd.jupyter.widget-view+json": {
       "model_id": "2e681dfda8dd4880afb3e33cb3912203",
       "version_major": 2,
       "version_minor": 0
      },
      "text/plain": [
       "0/5625                                                                                                        …"
      ]
     },
     "metadata": {},
     "output_type": "display_data"
    },
    {
     "name": "stdout",
     "output_type": "stream",
     "text": [
      "Epoch 109/500\n"
     ]
    },
    {
     "data": {
      "application/vnd.jupyter.widget-view+json": {
       "model_id": "346b4142dfed4a7f9ff0cf68205d7096",
       "version_major": 2,
       "version_minor": 0
      },
      "text/plain": [
       "0/5625                                                                                                        …"
      ]
     },
     "metadata": {},
     "output_type": "display_data"
    },
    {
     "name": "stdout",
     "output_type": "stream",
     "text": [
      "Epoch 110/500\n"
     ]
    },
    {
     "data": {
      "application/vnd.jupyter.widget-view+json": {
       "model_id": "24a7bc41247f4cc3bc1882e0895a2a77",
       "version_major": 2,
       "version_minor": 0
      },
      "text/plain": [
       "0/5625                                                                                                        …"
      ]
     },
     "metadata": {},
     "output_type": "display_data"
    },
    {
     "name": "stdout",
     "output_type": "stream",
     "text": [
      "Epoch 111/500\n"
     ]
    },
    {
     "data": {
      "application/vnd.jupyter.widget-view+json": {
       "model_id": "162920c162e44a0c81ac84e950102cc0",
       "version_major": 2,
       "version_minor": 0
      },
      "text/plain": [
       "0/5625                                                                                                        …"
      ]
     },
     "metadata": {},
     "output_type": "display_data"
    },
    {
     "name": "stdout",
     "output_type": "stream",
     "text": [
      "Epoch 112/500\n"
     ]
    },
    {
     "data": {
      "application/vnd.jupyter.widget-view+json": {
       "model_id": "45df5370b57e4b30b7cfe14c7dece1de",
       "version_major": 2,
       "version_minor": 0
      },
      "text/plain": [
       "0/5625                                                                                                        …"
      ]
     },
     "metadata": {},
     "output_type": "display_data"
    },
    {
     "name": "stdout",
     "output_type": "stream",
     "text": [
      "Epoch 113/500\n"
     ]
    },
    {
     "data": {
      "application/vnd.jupyter.widget-view+json": {
       "model_id": "f382e8b561924059a575d28688186812",
       "version_major": 2,
       "version_minor": 0
      },
      "text/plain": [
       "0/5625                                                                                                        …"
      ]
     },
     "metadata": {},
     "output_type": "display_data"
    },
    {
     "name": "stdout",
     "output_type": "stream",
     "text": [
      "Epoch 114/500\n"
     ]
    },
    {
     "data": {
      "application/vnd.jupyter.widget-view+json": {
       "model_id": "37f7b10b35674f61a2b96be5bbe3a61f",
       "version_major": 2,
       "version_minor": 0
      },
      "text/plain": [
       "0/5625                                                                                                        …"
      ]
     },
     "metadata": {},
     "output_type": "display_data"
    },
    {
     "name": "stdout",
     "output_type": "stream",
     "text": [
      "Epoch 115/500\n"
     ]
    },
    {
     "data": {
      "application/vnd.jupyter.widget-view+json": {
       "model_id": "492e0e64d118465fa5c44db24fa0e413",
       "version_major": 2,
       "version_minor": 0
      },
      "text/plain": [
       "0/5625                                                                                                        …"
      ]
     },
     "metadata": {},
     "output_type": "display_data"
    },
    {
     "name": "stdout",
     "output_type": "stream",
     "text": [
      "Epoch 116/500\n"
     ]
    },
    {
     "data": {
      "application/vnd.jupyter.widget-view+json": {
       "model_id": "1800ba92053148158d85ce1ab5b85a15",
       "version_major": 2,
       "version_minor": 0
      },
      "text/plain": [
       "0/5625                                                                                                        …"
      ]
     },
     "metadata": {},
     "output_type": "display_data"
    },
    {
     "name": "stdout",
     "output_type": "stream",
     "text": [
      "Epoch 117/500\n"
     ]
    },
    {
     "data": {
      "application/vnd.jupyter.widget-view+json": {
       "model_id": "783fae070e1a4f629031cf18f2463745",
       "version_major": 2,
       "version_minor": 0
      },
      "text/plain": [
       "0/5625                                                                                                        …"
      ]
     },
     "metadata": {},
     "output_type": "display_data"
    },
    {
     "name": "stdout",
     "output_type": "stream",
     "text": [
      "Epoch 118/500\n"
     ]
    },
    {
     "data": {
      "application/vnd.jupyter.widget-view+json": {
       "model_id": "cc9732ee638b4cbdbe3680f1806f5a7c",
       "version_major": 2,
       "version_minor": 0
      },
      "text/plain": [
       "0/5625                                                                                                        …"
      ]
     },
     "metadata": {},
     "output_type": "display_data"
    },
    {
     "name": "stdout",
     "output_type": "stream",
     "text": [
      "Epoch 119/500\n"
     ]
    },
    {
     "data": {
      "application/vnd.jupyter.widget-view+json": {
       "model_id": "91690137626a41d4bd50a559c45eb410",
       "version_major": 2,
       "version_minor": 0
      },
      "text/plain": [
       "0/5625                                                                                                        …"
      ]
     },
     "metadata": {},
     "output_type": "display_data"
    },
    {
     "name": "stdout",
     "output_type": "stream",
     "text": [
      "Epoch 120/500\n"
     ]
    },
    {
     "data": {
      "application/vnd.jupyter.widget-view+json": {
       "model_id": "f6afe4ba221440e285820036c430a2e9",
       "version_major": 2,
       "version_minor": 0
      },
      "text/plain": [
       "0/5625                                                                                                        …"
      ]
     },
     "metadata": {},
     "output_type": "display_data"
    },
    {
     "name": "stdout",
     "output_type": "stream",
     "text": [
      "Epoch 121/500\n"
     ]
    },
    {
     "data": {
      "application/vnd.jupyter.widget-view+json": {
       "model_id": "5db32d2b737a45d4a58f832d0bc2a948",
       "version_major": 2,
       "version_minor": 0
      },
      "text/plain": [
       "0/5625                                                                                                        …"
      ]
     },
     "metadata": {},
     "output_type": "display_data"
    },
    {
     "name": "stdout",
     "output_type": "stream",
     "text": [
      "Epoch 122/500\n"
     ]
    },
    {
     "data": {
      "application/vnd.jupyter.widget-view+json": {
       "model_id": "73ace5a6f1a64149bbdcb7e53274ecb2",
       "version_major": 2,
       "version_minor": 0
      },
      "text/plain": [
       "0/5625                                                                                                        …"
      ]
     },
     "metadata": {},
     "output_type": "display_data"
    },
    {
     "name": "stdout",
     "output_type": "stream",
     "text": [
      "Epoch 123/500\n"
     ]
    },
    {
     "data": {
      "application/vnd.jupyter.widget-view+json": {
       "model_id": "adcdce92349d4aa284deb61848fab8e0",
       "version_major": 2,
       "version_minor": 0
      },
      "text/plain": [
       "0/5625                                                                                                        …"
      ]
     },
     "metadata": {},
     "output_type": "display_data"
    },
    {
     "name": "stdout",
     "output_type": "stream",
     "text": [
      "Epoch 124/500\n"
     ]
    },
    {
     "data": {
      "application/vnd.jupyter.widget-view+json": {
       "model_id": "e1113a6614ac401b8deea5ca98865ff3",
       "version_major": 2,
       "version_minor": 0
      },
      "text/plain": [
       "0/5625                                                                                                        …"
      ]
     },
     "metadata": {},
     "output_type": "display_data"
    },
    {
     "name": "stdout",
     "output_type": "stream",
     "text": [
      "Epoch 125/500\n"
     ]
    },
    {
     "data": {
      "application/vnd.jupyter.widget-view+json": {
       "model_id": "e178de9509174c4898d836f59bb48bfe",
       "version_major": 2,
       "version_minor": 0
      },
      "text/plain": [
       "0/5625                                                                                                        …"
      ]
     },
     "metadata": {},
     "output_type": "display_data"
    },
    {
     "name": "stdout",
     "output_type": "stream",
     "text": [
      "Restoring model weights from the end of the best epoch: 75.\n",
      "Epoch 00125: early stopping\n"
     ]
    }
   ],
   "source": [
    "model = network()\n",
    "es = keras.callbacks.EarlyStopping(monitor='val_loss', mode='min', verbose=1,\n",
    "                                   patience=50, restore_best_weights=True)\n",
    "tqdm_callback = tfa.callbacks.TQDMProgressBar(show_epoch_progress=False)\n",
    "\n",
    "history = model.fit(X_train_normalized, y_train, \n",
    "                    validation_split=0.2, \n",
    "                    #validation_data=(X_test_normalized, y_test),\n",
    "                    batch_size=128, epochs=500, verbose=0, callbacks=[es, tqdm_callback])"
   ]
  },
  {
   "cell_type": "code",
   "execution_count": null,
   "id": "be88a111-55c0-4dae-a23f-d3062e844956",
   "metadata": {},
   "outputs": [],
   "source": [
    "predict = model.predict(X_test_normalized)"
   ]
  },
  {
   "cell_type": "code",
   "execution_count": null,
   "id": "53961d1b-3810-44e9-afd4-bb8e83ae2a72",
   "metadata": {},
   "outputs": [],
   "source": [
    "y_theory = bgs_rec(X_test[:, 0], X_test[:, 1], X_test[:, 2], X_test[:, 3])\n",
    "\n",
    "\n",
    "fig, (ax1, ax2) = plt.subplots(1, 2, figsize=(10, 5))\n",
    "ax1.scatter(y_theory, predict, alpha=0.1)\n",
    "ax1.axline((0, 0), slope=1, c='r')\n",
    "ax2.plot(history.history['loss'][1:], label='training loss')\n",
    "ax2.plot(history.history['val_loss'][1:], label='validation loss')\n",
    "ax2.set_ylabel(\"MSE\")\n",
    "ax2.set_xlabel(\"epoch\")\n",
    "ax1.set_xlabel(\"actual\")\n",
    "ax1.set_ylabel(\"predicted\")\n",
    "#ax2.set_ylim((0, 1))\n",
    "ax2.legend()\n",
    "plt.tight_layout()"
   ]
  },
  {
   "cell_type": "code",
   "execution_count": null,
   "id": "2af75879-5b12-4dcc-a3fe-39ea0529dda4",
   "metadata": {},
   "outputs": [],
   "source": [
    "np.abs(predict.flatten() - y_test.flatten()).mean(), np.abs(predict.flatten() - y_theory.flatten()).mean()"
   ]
  },
  {
   "cell_type": "code",
   "execution_count": null,
   "id": "2f8bd44e-ffab-49bd-8887-bf21340ddadb",
   "metadata": {},
   "outputs": [],
   "source": [
    "n = 100\n",
    "s = np.random.uniform(1e-3, 1e-1, n)\n",
    "mu = np.random.uniform(1e-8, 1e-8, n)\n",
    "rbp = np.random.uniform(1e-7, 1e-9, n)\n",
    "L = np.random.uniform(10, 100_000, n)\n",
    "N = np.random.uniform(50, 10_000, n)\n",
    "xnew = np.array((mu, s, rbp, N, L)).T\n",
    "\n",
    "#'N', 's', 'h', 'mu', 'recfrac', 'rbp', 'seglen'\n",
    "xnew = np.array((mu, s, rbp, L)).T\n",
    "rate = xnew[:, 0]/xnew[:, 1]\n",
    "fig, ax = plt.subplots()\n",
    "ax.scatter(rate, model.predict(X_scaler.transform(xnew)))\n",
    "ax.scatter(rate, bgs_rec(mu, s, rbp, L))\n",
    "ax.set_xscale('log')\n",
    "ax.set_yscale('log')\n",
    "ax.set_xlabel('$\\mu/s$')\n",
    "ax.set_ylabel('B')"
   ]
  },
  {
   "cell_type": "code",
   "execution_count": null,
   "id": "f74b326f-c777-4a43-8382-a067874b9413",
   "metadata": {},
   "outputs": [],
   "source": []
  }
 ],
 "metadata": {
  "kernelspec": {
   "display_name": "Python 3 (ipykernel)",
   "language": "python",
   "name": "python3"
  },
  "language_info": {
   "codemirror_mode": {
    "name": "ipython",
    "version": 3
   },
   "file_extension": ".py",
   "mimetype": "text/x-python",
   "name": "python",
   "nbconvert_exporter": "python",
   "pygments_lexer": "ipython3",
   "version": "3.8.12"
  }
 },
 "nbformat": 4,
 "nbformat_minor": 5
}
