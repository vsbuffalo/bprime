{
 "cells": [
  {
   "cell_type": "code",
   "execution_count": 1,
   "id": "758f860f-c3b8-4b03-a13d-0345297dbe86",
   "metadata": {},
   "outputs": [],
   "source": [
    "import os\n",
    "import time\n",
    "import pickle\n",
    "from multiprocessing import Pool\n",
    "import itertools\n",
    "\n",
    "import numpy as np\n",
    "import scipy.stats as stats\n",
    "import matplotlib.pyplot as plt\n",
    "import pandas as pd\n",
    "\n",
    "from sklearn.model_selection import train_test_split\n",
    "from sklearn.preprocessing import StandardScaler\n",
    "\n",
    "import tensorflow as tf\n",
    "from tensorflow import keras\n",
    "from tensorflow.keras import layers\n",
    "from sklearn.preprocessing import StandardScaler\n",
    "\n",
    "\n",
    "os.environ[\"CUDA_VISIBLE_DEVICES\"]=\"0,1\""
   ]
  },
  {
   "cell_type": "code",
   "execution_count": 2,
   "id": "827c8167-83d0-45d9-889b-57ca6f2eb4c2",
   "metadata": {},
   "outputs": [],
   "source": [
    "plt.rcParams['figure.figsize'] = [8, 4]\n",
    "plt.rcParams['figure.dpi'] = 200"
   ]
  },
  {
   "cell_type": "code",
   "execution_count": 3,
   "id": "98991da1-c67e-45e7-b9da-a22f038894c2",
   "metadata": {},
   "outputs": [],
   "source": [
    "@np.vectorize\n",
    "def bgs_rec(mu, s, r, L):\n",
    "    return np.exp(-L * mu/(s*(1+(1-s)*r/s)**2))"
   ]
  },
  {
   "cell_type": "markdown",
   "id": "0d71e0c3-b006-41a3-881a-5c7d536728df",
   "metadata": {},
   "source": [
    "## Data"
   ]
  },
  {
   "cell_type": "code",
   "execution_count": 4,
   "id": "4cf42603-d542-4d49-8739-b118774dc7ee",
   "metadata": {},
   "outputs": [],
   "source": [
    "with open('../msprime_sims/bgs_rec_1rep_linear.pkl', 'rb') as f:\n",
    "    params, bhats = pickle.load(f)\n",
    "X = np.array(params)\n",
    "#y = np.log10(np.array(bhats).mean(axis=1))\n",
    "#y = np.log10(np.array(bhats))\n",
    "y = np.array(bhats)"
   ]
  },
  {
   "cell_type": "code",
   "execution_count": 5,
   "id": "e019c692-8681-433d-909e-cb527b8b4584",
   "metadata": {},
   "outputs": [
    {
     "data": {
      "text/plain": [
       "(1000000, 6)"
      ]
     },
     "execution_count": 5,
     "metadata": {},
     "output_type": "execute_result"
    }
   ],
   "source": [
    "X.shape"
   ]
  },
  {
   "cell_type": "code",
   "execution_count": 6,
   "id": "dc2705c2-0fe5-461a-8e62-3ab9bd797e91",
   "metadata": {},
   "outputs": [],
   "source": [
    "# 0   1  2  3  4  5\n",
    "# mu  s  r  N  L  nreps\n",
    "\n",
    "X_train, X_test, y_train, y_test = train_test_split(X[:, (0, 1, 2, 4)], y,  test_size=0.10, random_state=1)\n",
    "X_scaler = StandardScaler().fit(X_train)\n",
    "X_train_normalized = X_scaler.transform(X_train)"
   ]
  },
  {
   "cell_type": "code",
   "execution_count": 7,
   "id": "5a405855-96a5-456a-99c2-0cbc1772185c",
   "metadata": {},
   "outputs": [],
   "source": [
    "X_test_normalized = X_scaler.transform(X_test)"
   ]
  },
  {
   "cell_type": "markdown",
   "id": "e9979555-4601-4ed6-9bf5-e3f728b44215",
   "metadata": {},
   "source": [
    "## Network and Training"
   ]
  },
  {
   "cell_type": "code",
   "execution_count": 10,
   "id": "90d90697-a560-4585-9df2-278a7bec2858",
   "metadata": {},
   "outputs": [],
   "source": [
    "def network(n64=4, n32=2, output_activation='sigmoid'):\n",
    "    # build network\n",
    "    model = keras.Sequential()\n",
    "    model.add(tf.keras.Input(shape=(4,)))\n",
    "    #model.add(layers.BatchNormalization(axis=1))\n",
    "    for i in range(n64):\n",
    "        model.add(layers.Dense(64, activation='elu'))\n",
    "        #model.add(layers.Dropout(0.2))\n",
    "    for i in range(n32):\n",
    "        model.add(layers.Dense(32, activation='elu'))\n",
    "        #model.add(layers.Dropout(0.2))\n",
    "    model.add(tf.keras.layers.Dense(1, activation=output_activation))\n",
    "    model.compile(\n",
    "        optimizer='Adam',\n",
    "        loss=tf.keras.losses.MeanSquaredError(),\n",
    "        metrics=['MeanAbsoluteError'],\n",
    "        )\n",
    "    return model"
   ]
  },
  {
   "cell_type": "code",
   "execution_count": null,
   "id": "2fc78796-b486-4120-996f-50c22733e107",
   "metadata": {},
   "outputs": [],
   "source": [
    "model = network()\n",
    "es = keras.callbacks.EarlyStopping(monitor='val_loss', mode='min', verbose=1,\n",
    "                                   patience=50, restore_best_weights=True)\n",
    "history = model.fit(X_train_normalized, y_train, \n",
    "                    validation_split=0.1, \n",
    "                    #validation_data=(X_test_normalized, y_test),\n",
    "                    batch_size=1000, epochs=500, verbose=0, callbacks=[es])"
   ]
  },
  {
   "cell_type": "code",
   "execution_count": null,
   "id": "be88a111-55c0-4dae-a23f-d3062e844956",
   "metadata": {},
   "outputs": [],
   "source": [
    "predict = model.predict(X_test_normalized)"
   ]
  },
  {
   "cell_type": "code",
   "execution_count": null,
   "id": "53961d1b-3810-44e9-afd4-bb8e83ae2a72",
   "metadata": {},
   "outputs": [],
   "source": [
    "y_theory = bgs_rec(X_test[:, 0], X_test[:, 1], X_test[:, 2], X_test[:, 3])\n",
    "\n",
    "\n",
    "fig, (ax1, ax2) = plt.subplots(1, 2, figsize=(10, 5))\n",
    "ax1.scatter(y_theory, predict, alpha=0.1)\n",
    "ax1.axline((0, 0), slope=1, c='r')\n",
    "ax2.plot(history.history['loss'][1:], label='training loss')\n",
    "ax2.plot(history.history['val_loss'][1:], label='validation loss')\n",
    "ax2.set_ylabel(\"MSE\")\n",
    "ax2.set_xlabel(\"epoch\")\n",
    "ax1.set_xlabel(\"actual\")\n",
    "ax1.set_ylabel(\"predicted\")\n",
    "#ax2.set_ylim((0, 1))\n",
    "ax2.legend()\n",
    "plt.tight_layout()"
   ]
  },
  {
   "cell_type": "code",
   "execution_count": null,
   "id": "2f8bd44e-ffab-49bd-8887-bf21340ddadb",
   "metadata": {},
   "outputs": [],
   "source": [
    "n = 100\n",
    "s = np.random.uniform(1e-3, 1e-1, n)\n",
    "mu = np.random.uniform(1e-8, 1e-8, n)\n",
    "rbp = np.random.uniform(1e-7, 1e-9, n)\n",
    "L = np.random.uniform(10, 100_000, n)\n",
    "N = np.random.uniform(50, 10_000, n)\n",
    "xnew = np.array((mu, s, rbp, N, L)).T\n",
    "\n",
    "#'N', 's', 'h', 'mu', 'recfrac', 'rbp', 'seglen'\n",
    "xnew = np.array((mu, s, rbp, L)).T\n",
    "rate = xnew[:, 0]/xnew[:, 1]\n",
    "fig, ax = plt.subplots()\n",
    "ax.scatter(rate, model.predict(X_scaler.transform(xnew)))\n",
    "ax.scatter(rate, bgs_rec(mu, s, rbp, L))\n",
    "ax.set_xscale('log')\n",
    "ax.set_yscale('log')\n",
    "ax.set_xlabel('$\\mu/s$')\n",
    "ax.set_ylabel('B')"
   ]
  },
  {
   "cell_type": "code",
   "execution_count": null,
   "id": "f74b326f-c777-4a43-8382-a067874b9413",
   "metadata": {},
   "outputs": [],
   "source": []
  }
 ],
 "metadata": {
  "kernelspec": {
   "display_name": "Python 3 (ipykernel)",
   "language": "python",
   "name": "python3"
  },
  "language_info": {
   "codemirror_mode": {
    "name": "ipython",
    "version": 3
   },
   "file_extension": ".py",
   "mimetype": "text/x-python",
   "name": "python",
   "nbconvert_exporter": "python",
   "pygments_lexer": "ipython3",
   "version": "3.8.12"
  }
 },
 "nbformat": 4,
 "nbformat_minor": 5
}
